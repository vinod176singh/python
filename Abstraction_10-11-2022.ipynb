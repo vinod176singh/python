{
 "cells": [
  {
   "cell_type": "code",
   "execution_count": null,
   "id": "aae840cc",
   "metadata": {},
   "outputs": [],
   "source": [
    "Abstract class is a Blueprint Class / Project\n",
    "\n",
    "This is used for declaration and not for implimentation\n",
    "It is used for hiding the internal fuctionality of your project / code\n",
    "An object of Abstract Class cannot be instantiated (created)\n",
    "\n",
    "An abstraction class might have one or more Abstract methods\n",
    "\n",
    "@abstractmethod 'decorator is used to declare an abstract method'"
   ]
  },
  {
   "cell_type": "code",
   "execution_count": 41,
   "id": "5bd23f02",
   "metadata": {},
   "outputs": [],
   "source": [
    "from abc import abstractclassmethod, ABC  ## Import Libraries, abstractclassmethod>> decorator Function, ABC >> Class\n",
    "                                          ## abc is a Abstract Class Library"
   ]
  },
  {
   "cell_type": "code",
   "execution_count": 2,
   "id": "a3a3cee1",
   "metadata": {},
   "outputs": [],
   "source": [
    "## Without @abstractmethod decorator\n",
    "\n",
    "class ProjectBluePrint(ABC):\n",
    "    \n",
    "    def registration(self):\n",
    "        print(\"This is a registration code running\")\n",
    "        \n",
    "    def login(self):\n",
    "        print(\"Inter your details to login\")\n",
    "        print(\"Login code is running\")"
   ]
  },
  {
   "cell_type": "code",
   "execution_count": 3,
   "id": "23abaf54",
   "metadata": {},
   "outputs": [],
   "source": [
    "class_p1 = ProjectBluePrint()  ## We could create an instance of ProjectBluePrint since there is \n",
    "                               ## no abstractmethod decorator used"
   ]
  },
  {
   "cell_type": "code",
   "execution_count": 4,
   "id": "55799846",
   "metadata": {},
   "outputs": [
    {
     "name": "stdout",
     "output_type": "stream",
     "text": [
      "This is a registration code running\n"
     ]
    }
   ],
   "source": [
    "class_p1.registration()"
   ]
  },
  {
   "cell_type": "code",
   "execution_count": 5,
   "id": "dbe39a67",
   "metadata": {},
   "outputs": [
    {
     "name": "stdout",
     "output_type": "stream",
     "text": [
      "Inter your details to login\n",
      "Login code is running\n"
     ]
    }
   ],
   "source": [
    "class_p1.login()"
   ]
  },
  {
   "cell_type": "code",
   "execution_count": 6,
   "id": "d4a9da59",
   "metadata": {},
   "outputs": [],
   "source": [
    "class MainProject(ProjectBluePrint):  ## We did not include the methodes from ProjectBluePrint\n",
    "    pass"
   ]
  },
  {
   "cell_type": "code",
   "execution_count": 7,
   "id": "0e42d39b",
   "metadata": {},
   "outputs": [],
   "source": [
    "class_p2 = MainProject()"
   ]
  },
  {
   "cell_type": "code",
   "execution_count": 8,
   "id": "5464d645",
   "metadata": {},
   "outputs": [
    {
     "name": "stdout",
     "output_type": "stream",
     "text": [
      "This is a registration code running\n"
     ]
    }
   ],
   "source": [
    "class_p2.registration()"
   ]
  },
  {
   "cell_type": "code",
   "execution_count": 9,
   "id": "a8e3f5dd",
   "metadata": {},
   "outputs": [
    {
     "name": "stdout",
     "output_type": "stream",
     "text": [
      "Inter your details to login\n",
      "Login code is running\n"
     ]
    }
   ],
   "source": [
    "class_p2.login()"
   ]
  },
  {
   "cell_type": "code",
   "execution_count": 10,
   "id": "6fc27161",
   "metadata": {},
   "outputs": [],
   "source": [
    "class MainProject(ProjectBluePrint):\n",
    "    def registration(self):\n",
    "        print(\"This is the actual code for registration\")\n",
    "        \n",
    "    def login(self):\n",
    "        print(\"This is actual code for Login\")"
   ]
  },
  {
   "cell_type": "code",
   "execution_count": 11,
   "id": "ccbf3f8e",
   "metadata": {},
   "outputs": [],
   "source": [
    "class_p3 = MainProject()"
   ]
  },
  {
   "cell_type": "code",
   "execution_count": 12,
   "id": "a17c75b1",
   "metadata": {},
   "outputs": [
    {
     "name": "stdout",
     "output_type": "stream",
     "text": [
      "This is the actual code for registration\n"
     ]
    }
   ],
   "source": [
    "class_p3.registration()"
   ]
  },
  {
   "cell_type": "code",
   "execution_count": 13,
   "id": "4ab6bde5",
   "metadata": {},
   "outputs": [
    {
     "name": "stdout",
     "output_type": "stream",
     "text": [
      "This is actual code for Login\n"
     ]
    }
   ],
   "source": [
    "class_p3.login()"
   ]
  },
  {
   "cell_type": "code",
   "execution_count": 14,
   "id": "dcdbd98f",
   "metadata": {},
   "outputs": [],
   "source": [
    "## With @abstractmethod\n",
    "\n",
    "class ProjectBluePrint(ABC):\n",
    "    \n",
    "    @abstractclassmethod\n",
    "    def registration(self):\n",
    "        print(\"This is a registration part of class\")\n",
    "        \n",
    "    @abstractclassmethod    \n",
    "    def login(self):\n",
    "        print(\"This is a login part of code\")"
   ]
  },
  {
   "cell_type": "code",
   "execution_count": 15,
   "id": "ead659d9",
   "metadata": {},
   "outputs": [
    {
     "ename": "TypeError",
     "evalue": "Can't instantiate abstract class ProjectBluePrint with abstract methods login, registration",
     "output_type": "error",
     "traceback": [
      "\u001b[1;31m---------------------------------------------------------------------------\u001b[0m",
      "\u001b[1;31mTypeError\u001b[0m                                 Traceback (most recent call last)",
      "Input \u001b[1;32mIn [15]\u001b[0m, in \u001b[0;36m<cell line: 1>\u001b[1;34m()\u001b[0m\n\u001b[1;32m----> 1\u001b[0m class_blueprint \u001b[38;5;241m=\u001b[39m \u001b[43mProjectBluePrint\u001b[49m\u001b[43m(\u001b[49m\u001b[43m)\u001b[49m\n",
      "\u001b[1;31mTypeError\u001b[0m: Can't instantiate abstract class ProjectBluePrint with abstract methods login, registration"
     ]
    }
   ],
   "source": [
    "class_blueprint = ProjectBluePrint()  ## We cannot create an instance of ProjectBluePrint with @abstractmethod\n",
    "                                      ## decorator in place"
   ]
  },
  {
   "cell_type": "code",
   "execution_count": 16,
   "id": "7d3920d1",
   "metadata": {},
   "outputs": [],
   "source": [
    "class MainProject(ProjectBluePrint): ## we tried to create MainProject without writting the methods in ProjectBluePrint\n",
    "    pass"
   ]
  },
  {
   "cell_type": "code",
   "execution_count": 17,
   "id": "f1691fe9",
   "metadata": {},
   "outputs": [
    {
     "ename": "TypeError",
     "evalue": "Can't instantiate abstract class MainProject with abstract methods login, registration",
     "output_type": "error",
     "traceback": [
      "\u001b[1;31m---------------------------------------------------------------------------\u001b[0m",
      "\u001b[1;31mTypeError\u001b[0m                                 Traceback (most recent call last)",
      "Input \u001b[1;32mIn [17]\u001b[0m, in \u001b[0;36m<cell line: 1>\u001b[1;34m()\u001b[0m\n\u001b[1;32m----> 1\u001b[0m class_project1 \u001b[38;5;241m=\u001b[39m \u001b[43mMainProject\u001b[49m\u001b[43m(\u001b[49m\u001b[43m)\u001b[49m\n",
      "\u001b[1;31mTypeError\u001b[0m: Can't instantiate abstract class MainProject with abstract methods login, registration"
     ]
    }
   ],
   "source": [
    "class_project1 = MainProject()  ## We could not instantiate the MainProject since all the required methods are not there"
   ]
  },
  {
   "cell_type": "code",
   "execution_count": 18,
   "id": "96ef7442",
   "metadata": {},
   "outputs": [],
   "source": [
    "class MainProject(ProjectBluePrint):\n",
    "    def registration(self):\n",
    "        print(\"This is main code for registration\")\n",
    "        \n",
    "    def login(self):\n",
    "        print(\"This is a main code for login\")"
   ]
  },
  {
   "cell_type": "code",
   "execution_count": 19,
   "id": "2c08e0fc",
   "metadata": {},
   "outputs": [],
   "source": [
    "class_project2 = MainProject()"
   ]
  },
  {
   "cell_type": "code",
   "execution_count": 20,
   "id": "54fff143",
   "metadata": {},
   "outputs": [
    {
     "name": "stdout",
     "output_type": "stream",
     "text": [
      "This is main code for registration\n"
     ]
    }
   ],
   "source": [
    "class_project2.registration()"
   ]
  },
  {
   "cell_type": "code",
   "execution_count": 21,
   "id": "de23c021",
   "metadata": {},
   "outputs": [
    {
     "name": "stdout",
     "output_type": "stream",
     "text": [
      "This is a main code for login\n"
     ]
    }
   ],
   "source": [
    "class_project2.login()"
   ]
  },
  {
   "cell_type": "code",
   "execution_count": 23,
   "id": "08e72c70",
   "metadata": {},
   "outputs": [],
   "source": [
    "## With @abstractmethod\n",
    "\n",
    "class ProjectBluePrint(ABC):\n",
    "    \n",
    "    @abstractclassmethod\n",
    "    def registration(self):\n",
    "        print(\"This is a registration part of class\")\n",
    "        \n",
    "    @abstractclassmethod    \n",
    "    def login(self):\n",
    "        print(\"This is a login part of code\")\n",
    "        \n",
    "    @abstractclassmethod\n",
    "    def logout(self):\n",
    "        print(\"This is logout part of code\")"
   ]
  },
  {
   "cell_type": "code",
   "execution_count": 26,
   "id": "2de26cba",
   "metadata": {},
   "outputs": [],
   "source": [
    "## Skipping a method\n",
    "class MainProject(ProjectBluePrint):\n",
    "    \n",
    "    def registration(self):\n",
    "        print(\"This is actual registration code\")\n",
    "    \n",
    "    def login(self):\n",
    "        print(\"This is actual login code\")"
   ]
  },
  {
   "cell_type": "code",
   "execution_count": 27,
   "id": "1e043bbb",
   "metadata": {},
   "outputs": [
    {
     "ename": "TypeError",
     "evalue": "Can't instantiate abstract class MainProject with abstract method logout",
     "output_type": "error",
     "traceback": [
      "\u001b[1;31m---------------------------------------------------------------------------\u001b[0m",
      "\u001b[1;31mTypeError\u001b[0m                                 Traceback (most recent call last)",
      "Input \u001b[1;32mIn [27]\u001b[0m, in \u001b[0;36m<cell line: 1>\u001b[1;34m()\u001b[0m\n\u001b[1;32m----> 1\u001b[0m class_project3 \u001b[38;5;241m=\u001b[39m \u001b[43mMainProject\u001b[49m\u001b[43m(\u001b[49m\u001b[43m)\u001b[49m\n",
      "\u001b[1;31mTypeError\u001b[0m: Can't instantiate abstract class MainProject with abstract method logout"
     ]
    }
   ],
   "source": [
    "class_project3 = MainProject()"
   ]
  },
  {
   "cell_type": "code",
   "execution_count": 28,
   "id": "a8e49c97",
   "metadata": {},
   "outputs": [],
   "source": [
    "## Including Logout Method\n",
    "class MainProject(ProjectBluePrint):\n",
    "    \n",
    "    def registration(self):\n",
    "        print(\"This is actual registration code\")\n",
    "    \n",
    "    def login(self):\n",
    "        print(\"This is actual login code\")\n",
    "        \n",
    "    def logout(self):\n",
    "        print(\"This is actual logout code\")"
   ]
  },
  {
   "cell_type": "code",
   "execution_count": 30,
   "id": "2fb7e89c",
   "metadata": {},
   "outputs": [],
   "source": [
    "class_project4 = MainProject()"
   ]
  },
  {
   "cell_type": "code",
   "execution_count": 31,
   "id": "2b56b016",
   "metadata": {},
   "outputs": [
    {
     "name": "stdout",
     "output_type": "stream",
     "text": [
      "This is actual registration code\n"
     ]
    }
   ],
   "source": [
    "class_project4.registration()"
   ]
  },
  {
   "cell_type": "code",
   "execution_count": 32,
   "id": "5e66c8f1",
   "metadata": {},
   "outputs": [
    {
     "name": "stdout",
     "output_type": "stream",
     "text": [
      "This is actual login code\n"
     ]
    }
   ],
   "source": [
    "class_project4.login()"
   ]
  },
  {
   "cell_type": "code",
   "execution_count": 33,
   "id": "52aa93e5",
   "metadata": {},
   "outputs": [
    {
     "name": "stdout",
     "output_type": "stream",
     "text": [
      "This is actual logout code\n"
     ]
    }
   ],
   "source": [
    "class_project4.logout()"
   ]
  },
  {
   "cell_type": "code",
   "execution_count": 34,
   "id": "0dbf8dec",
   "metadata": {},
   "outputs": [],
   "source": [
    "## Including additional Method\n",
    "class MainProject2(ProjectBluePrint):\n",
    "    \n",
    "    def registration(self):\n",
    "        print(\"This is actual registration code\")\n",
    "    \n",
    "    def login(self):\n",
    "        print(\"This is actual login code\")\n",
    "        \n",
    "    def logout(self):\n",
    "        print(\"This is actual logout code\")\n",
    "        \n",
    "    def forgot_password(self):\n",
    "        print(\"This is an actual code for Forgot Password\")"
   ]
  },
  {
   "cell_type": "code",
   "execution_count": 36,
   "id": "cc24af74",
   "metadata": {},
   "outputs": [],
   "source": [
    "class_project5 = MainProject2()"
   ]
  },
  {
   "cell_type": "code",
   "execution_count": 37,
   "id": "4ffea021",
   "metadata": {},
   "outputs": [
    {
     "name": "stdout",
     "output_type": "stream",
     "text": [
      "This is actual registration code\n"
     ]
    }
   ],
   "source": [
    "class_project5.registration()"
   ]
  },
  {
   "cell_type": "code",
   "execution_count": 38,
   "id": "85ebcf85",
   "metadata": {},
   "outputs": [
    {
     "name": "stdout",
     "output_type": "stream",
     "text": [
      "This is actual login code\n"
     ]
    }
   ],
   "source": [
    "class_project5.login()"
   ]
  },
  {
   "cell_type": "code",
   "execution_count": 39,
   "id": "1c20c9b2",
   "metadata": {},
   "outputs": [
    {
     "name": "stdout",
     "output_type": "stream",
     "text": [
      "This is actual logout code\n"
     ]
    }
   ],
   "source": [
    "class_project5.logout()"
   ]
  },
  {
   "cell_type": "code",
   "execution_count": 40,
   "id": "0300c3f5",
   "metadata": {},
   "outputs": [
    {
     "name": "stdout",
     "output_type": "stream",
     "text": [
      "This is an actual code for Forgot Password\n"
     ]
    }
   ],
   "source": [
    "class_project5.forgot_password()"
   ]
  },
  {
   "cell_type": "code",
   "execution_count": null,
   "id": "fe3d0da7",
   "metadata": {},
   "outputs": [],
   "source": []
  }
 ],
 "metadata": {
  "kernelspec": {
   "display_name": "Python 3 (ipykernel)",
   "language": "python",
   "name": "python3"
  },
  "language_info": {
   "codemirror_mode": {
    "name": "ipython",
    "version": 3
   },
   "file_extension": ".py",
   "mimetype": "text/x-python",
   "name": "python",
   "nbconvert_exporter": "python",
   "pygments_lexer": "ipython3",
   "version": "3.10.5"
  }
 },
 "nbformat": 4,
 "nbformat_minor": 5
}
