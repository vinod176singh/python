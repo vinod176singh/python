{
 "cells": [
  {
   "cell_type": "markdown",
   "id": "3749c8fa",
   "metadata": {},
   "source": [
    "# Built-in Function`"
   ]
  },
  {
   "cell_type": "code",
   "execution_count": null,
   "id": "bb2c9315",
   "metadata": {},
   "outputs": [],
   "source": [
    "1. int()\n",
    "2. float()\n",
    "3. complex()\n",
    "4. list()\n",
    "5. tuple()\n",
    "6. set()\n",
    "7. frozenset()\n",
    "8. dict()\n",
    "9. bool()\n",
    "10. str()\n",
    "11. print()\n",
    "12. len()\n",
    "13. input()\n",
    "14. range()\n",
    "15. type()\n",
    "16. reversed()\n",
    "17. sorted()\n",
    "18. eval()\n",
    "19. max()\n",
    "20. min()\n",
    "21. sum()\n",
    "22. chr()\n",
    "23. id()\n",
    "24. enumerate()\n",
    "25. zip()\n",
    "26. filter()\n",
    "27. map()"
   ]
  },
  {
   "cell_type": "markdown",
   "id": "8dc1da42",
   "metadata": {},
   "source": [
    "## filter()"
   ]
  },
  {
   "cell_type": "code",
   "execution_count": null,
   "id": "6b64b358",
   "metadata": {},
   "outputs": [],
   "source": [
    "Syntax >> filter(function, iterable)\n",
    "\n",
    "It returns only true values\n",
    "\n",
    "tuple(filter(function,iterable))\n",
    "list(filter(function,iterable))"
   ]
  },
  {
   "cell_type": "code",
   "execution_count": 1,
   "id": "27994817",
   "metadata": {},
   "outputs": [
    {
     "data": {
      "text/plain": [
       "[1, 33, 15, 17, 99, 103, 35, 37]"
      ]
     },
     "execution_count": 1,
     "metadata": {},
     "output_type": "execute_result"
    }
   ],
   "source": [
    "list1 = [1,22,33,12,15,16,17,99,103,35,37,88]\n",
    "\n",
    "odd_num = []\n",
    "\n",
    "for i in list1:\n",
    "    if i % 2 != 0:\n",
    "        odd_num.append(i)\n",
    "odd_num     "
   ]
  },
  {
   "cell_type": "code",
   "execution_count": 2,
   "id": "a9788775",
   "metadata": {},
   "outputs": [],
   "source": [
    "list1 = [1,22,33,12,15,16,17,99,103,35,37,88]\n",
    "\n",
    "def get_odd_num(x):\n",
    "    if x % 2 != 0:\n",
    "        return x"
   ]
  },
  {
   "cell_type": "code",
   "execution_count": 3,
   "id": "ed6b2ed3",
   "metadata": {},
   "outputs": [
    {
     "data": {
      "text/plain": [
       "<filter at 0x16f6017b220>"
      ]
     },
     "execution_count": 3,
     "metadata": {},
     "output_type": "execute_result"
    }
   ],
   "source": [
    "filter(get_odd_num,list1)"
   ]
  },
  {
   "cell_type": "code",
   "execution_count": 4,
   "id": "81536565",
   "metadata": {},
   "outputs": [
    {
     "data": {
      "text/plain": [
       "[1, 33, 15, 17, 99, 103, 35, 37]"
      ]
     },
     "execution_count": 4,
     "metadata": {},
     "output_type": "execute_result"
    }
   ],
   "source": [
    "list(filter(get_odd_num,list1))"
   ]
  },
  {
   "cell_type": "code",
   "execution_count": 21,
   "id": "17d489ba",
   "metadata": {},
   "outputs": [],
   "source": [
    "list1 = [1,22,33,12,15,16,17,99,103,35,37,88]\n",
    "def get_even(x):\n",
    "    if x % 2 == 0:\n",
    "        return x\n",
    "\n",
    "filter_obj = filter(get_even,list1)"
   ]
  },
  {
   "cell_type": "code",
   "execution_count": 22,
   "id": "4ea0f0a8",
   "metadata": {},
   "outputs": [
    {
     "data": {
      "text/plain": [
       "(22, 12, 16, 88)"
      ]
     },
     "execution_count": 22,
     "metadata": {},
     "output_type": "execute_result"
    }
   ],
   "source": [
    "tuple(filter_obj)"
   ]
  },
  {
   "cell_type": "code",
   "execution_count": 23,
   "id": "26a9cf2c",
   "metadata": {},
   "outputs": [
    {
     "data": {
      "text/plain": [
       "[]"
      ]
     },
     "execution_count": 23,
     "metadata": {},
     "output_type": "execute_result"
    }
   ],
   "source": [
    "list(filter_obj)"
   ]
  },
  {
   "cell_type": "code",
   "execution_count": 28,
   "id": "fb2f19bf",
   "metadata": {},
   "outputs": [
    {
     "data": {
      "text/plain": [
       "[22, 12, 16, 88]"
      ]
     },
     "execution_count": 28,
     "metadata": {},
     "output_type": "execute_result"
    }
   ],
   "source": [
    "list1 = [1,22,33,12,15,16,17,99,103,35,37,88]\n",
    "\n",
    "list(filter(lambda x:x%2==0,list1))"
   ]
  },
  {
   "cell_type": "code",
   "execution_count": 29,
   "id": "544eeab1",
   "metadata": {},
   "outputs": [
    {
     "data": {
      "text/plain": [
       "[1, 33, 15, 17, 99, 103, 35, 37]"
      ]
     },
     "execution_count": 29,
     "metadata": {},
     "output_type": "execute_result"
    }
   ],
   "source": [
    "list(filter(lambda x:x%2!=0,list1))"
   ]
  },
  {
   "cell_type": "code",
   "execution_count": 30,
   "id": "9153c903",
   "metadata": {},
   "outputs": [
    {
     "data": {
      "text/plain": [
       "['T', 'I', 'A', 'S', 'S']"
      ]
     },
     "execution_count": 30,
     "metadata": {},
     "output_type": "execute_result"
    }
   ],
   "source": [
    "string = \"This Is A Sample String\"\n",
    "\n",
    "list(filter(lambda x: x.isupper(),string))"
   ]
  },
  {
   "cell_type": "code",
   "execution_count": 33,
   "id": "ce4607c8",
   "metadata": {},
   "outputs": [
    {
     "data": {
      "text/plain": [
       "'h i s s a m p l e t r i n g'"
      ]
     },
     "execution_count": 33,
     "metadata": {},
     "output_type": "execute_result"
    }
   ],
   "source": [
    "list(filter(lambda x: x.islower(),string))"
   ]
  },
  {
   "cell_type": "code",
   "execution_count": null,
   "id": "1af193ab",
   "metadata": {},
   "outputs": [],
   "source": []
  }
 ],
 "metadata": {
  "kernelspec": {
   "display_name": "Python 3 (ipykernel)",
   "language": "python",
   "name": "python3"
  },
  "language_info": {
   "codemirror_mode": {
    "name": "ipython",
    "version": 3
   },
   "file_extension": ".py",
   "mimetype": "text/x-python",
   "name": "python",
   "nbconvert_exporter": "python",
   "pygments_lexer": "ipython3",
   "version": "3.10.5"
  }
 },
 "nbformat": 4,
 "nbformat_minor": 5
}
