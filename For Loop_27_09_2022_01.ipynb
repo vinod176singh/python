{
 "cells": [
  {
   "cell_type": "markdown",
   "id": "a7912b17",
   "metadata": {},
   "source": [
    "### Loops in Python"
   ]
  },
  {
   "cell_type": "code",
   "execution_count": null,
   "id": "96fa0401",
   "metadata": {},
   "outputs": [],
   "source": [
    "There are two loops in Python\n",
    "1. For Loop\n",
    "2. While Loop"
   ]
  },
  {
   "cell_type": "markdown",
   "id": "04425581",
   "metadata": {},
   "source": [
    "## For Loop"
   ]
  },
  {
   "cell_type": "code",
   "execution_count": null,
   "id": "e4ad6fd1",
   "metadata": {},
   "outputs": [],
   "source": [
    "For loop works like an iterator\n",
    "\n",
    "For loop can only be used on iterable items like: str, list, tuple, range, dict, set, frozenset, numpy array, pandas dataframe\n",
    "    pandas series"
   ]
  },
  {
   "cell_type": "code",
   "execution_count": null,
   "id": "976157da",
   "metadata": {},
   "outputs": [],
   "source": [
    "for item in sequnce:\n",
    "    statement 1\n",
    "    statement 2\n",
    "    statement 3\n",
    "    \n",
    "for var in sequence:\n",
    "    statement 1\n",
    "    statement 2\n",
    "    statement 3\n",
    "\n",
    "for variable in sequence:\n",
    "    statement 1\n",
    "    statement 2\n",
    "    statement 3\n"
   ]
  },
  {
   "cell_type": "code",
   "execution_count": 1,
   "id": "a586b328",
   "metadata": {},
   "outputs": [
    {
     "name": "stdout",
     "output_type": "stream",
     "text": [
      "Learning Python Is Easy As Compered to Other Languages\n",
      "Learning Python Is Easy As Compered to Other Languages\n",
      "Learning Python Is Easy As Compered to Other Languages\n",
      "Learning Python Is Easy As Compered to Other Languages\n",
      "Learning Python Is Easy As Compered to Other Languages\n"
     ]
    }
   ],
   "source": [
    "print(\"Learning Python Is Easy As Compered to Other Languages\")\n",
    "print(\"Learning Python Is Easy As Compered to Other Languages\")\n",
    "print(\"Learning Python Is Easy As Compered to Other Languages\")\n",
    "print(\"Learning Python Is Easy As Compered to Other Languages\")\n",
    "print(\"Learning Python Is Easy As Compered to Other Languages\")"
   ]
  },
  {
   "cell_type": "code",
   "execution_count": 2,
   "id": "63c272bb",
   "metadata": {},
   "outputs": [
    {
     "name": "stdout",
     "output_type": "stream",
     "text": [
      "Learning Python Is Easy As Compered to Other Languages\n",
      "Learning Python Is Easy As Compered to Other Languages\n",
      "Learning Python Is Easy As Compered to Other Languages\n",
      "Learning Python Is Easy As Compered to Other Languages\n",
      "Learning Python Is Easy As Compered to Other Languages\n"
     ]
    }
   ],
   "source": [
    "for i in range(1,6):\n",
    "    print(\"Learning Python Is Easy As Compered to Other Languages\")"
   ]
  },
  {
   "cell_type": "code",
   "execution_count": 4,
   "id": "2377c301",
   "metadata": {},
   "outputs": [
    {
     "name": "stdout",
     "output_type": "stream",
     "text": [
      "**********************************************************************\n",
      "                          Python is Amazing                           \n",
      "**********************************************************************\n",
      "\n",
      "**********************************************************************\n",
      "                          Python is Amazing                           \n",
      "**********************************************************************\n",
      "\n",
      "**********************************************************************\n",
      "                          Python is Amazing                           \n",
      "**********************************************************************\n",
      "\n",
      "**********************************************************************\n",
      "                          Python is Amazing                           \n",
      "**********************************************************************\n",
      "\n",
      "**********************************************************************\n",
      "                          Python is Amazing                           \n",
      "**********************************************************************\n",
      "\n",
      "**********************************************************************\n",
      "                          Python is Amazing                           \n",
      "**********************************************************************\n",
      "\n"
     ]
    }
   ],
   "source": [
    "for i in range(1,7):\n",
    "    print(\"*\"*70)\n",
    "    print(\"Python is Amazing\".center(70))\n",
    "    print(\"*\"*70)\n",
    "    print()"
   ]
  },
  {
   "cell_type": "code",
   "execution_count": 6,
   "id": "21d95cbe",
   "metadata": {},
   "outputs": [
    {
     "name": "stdout",
     "output_type": "stream",
     "text": [
      "1 2 3 4 5 6 7 8 9 10 11 12 13 14 15 16 17 18 19 20 "
     ]
    }
   ],
   "source": [
    "for i in range(1,21):\n",
    "    print(i, end = \" \")"
   ]
  },
  {
   "cell_type": "markdown",
   "id": "b86ae626",
   "metadata": {},
   "source": [
    "## Iterating over a String:"
   ]
  },
  {
   "cell_type": "code",
   "execution_count": 7,
   "id": "0660389f",
   "metadata": {},
   "outputs": [
    {
     "name": "stdout",
     "output_type": "stream",
     "text": [
      "T\n",
      "h\n",
      "i\n",
      "s\n",
      " \n",
      "i\n",
      "s\n",
      " \n",
      "a\n",
      " \n",
      "s\n",
      "a\n",
      "m\n",
      "p\n",
      "l\n",
      "e\n",
      " \n",
      "s\n",
      "t\n",
      "r\n",
      "i\n",
      "n\n",
      "g\n"
     ]
    }
   ],
   "source": [
    "string = \"This is a sample string\"\n",
    "\n",
    "for char in string:\n",
    "    print(char)"
   ]
  },
  {
   "cell_type": "code",
   "execution_count": 8,
   "id": "073d9d35",
   "metadata": {},
   "outputs": [
    {
     "name": "stdout",
     "output_type": "stream",
     "text": [
      "T\n",
      "h\n",
      "i\n",
      "s\n",
      " \n",
      "i\n",
      "s\n",
      " \n",
      "a\n",
      " \n",
      "s\n",
      "a\n",
      "m\n",
      "p\n",
      "l\n",
      "e\n",
      " \n",
      "s\n",
      "t\n",
      "r\n",
      "i\n",
      "n\n",
      "g\n"
     ]
    }
   ],
   "source": [
    "string = \"This is a sample string\"\n",
    "\n",
    "for char in string:\n",
    "    print(char, end = \"\\n\")"
   ]
  },
  {
   "cell_type": "code",
   "execution_count": 9,
   "id": "23a3db6c",
   "metadata": {},
   "outputs": [
    {
     "name": "stdout",
     "output_type": "stream",
     "text": [
      "T h i s   i s   a   s a m p l e   s t r i n g "
     ]
    }
   ],
   "source": [
    "string = \"This is a sample string\"\n",
    "\n",
    "for char in string:\n",
    "    print(char, end = \" \")"
   ]
  },
  {
   "cell_type": "code",
   "execution_count": 10,
   "id": "9886a27d",
   "metadata": {},
   "outputs": [
    {
     "name": "stdout",
     "output_type": "stream",
     "text": [
      "T+h+i+s+ +i+s+ +a+ +s+a+m+p+l+e+ +s+t+r+i+n+g+"
     ]
    }
   ],
   "source": [
    "string = \"This is a sample string\"\n",
    "\n",
    "for char in string:\n",
    "    print(char, end = \"+\")"
   ]
  },
  {
   "cell_type": "code",
   "execution_count": 12,
   "id": "1c367e04",
   "metadata": {},
   "outputs": [
    {
     "name": "stdout",
     "output_type": "stream",
     "text": [
      "Th_s _s _ s_mpl_ str_ng"
     ]
    }
   ],
   "source": [
    "string = \"This is a sample string\"\n",
    "v = [\"a\",\"e\",\"i\",\"o\",\"u\"]\n",
    "\n",
    "for char in string:\n",
    "    if char in v:\n",
    "        print(\"_\", end = \"\")\n",
    "    else:\n",
    "        print(char,end = \"\")"
   ]
  },
  {
   "cell_type": "markdown",
   "id": "61a81f6f",
   "metadata": {},
   "source": [
    "## Enumerate on string"
   ]
  },
  {
   "cell_type": "code",
   "execution_count": 13,
   "id": "f2660684",
   "metadata": {},
   "outputs": [
    {
     "name": "stdout",
     "output_type": "stream",
     "text": [
      "Character at index 0 is :: P\n",
      "Character at index 1 is :: y\n",
      "Character at index 2 is :: t\n",
      "Character at index 3 is :: h\n",
      "Character at index 4 is :: o\n",
      "Character at index 5 is :: n\n",
      "Character at index 6 is ::  \n",
      "Character at index 7 is :: i\n",
      "Character at index 8 is :: s\n",
      "Character at index 9 is ::  \n",
      "Character at index 10 is :: s\n",
      "Character at index 11 is :: a\n",
      "Character at index 12 is :: v\n",
      "Character at index 13 is :: i\n",
      "Character at index 14 is :: o\n",
      "Character at index 15 is :: u\n",
      "Character at index 16 is :: r\n"
     ]
    }
   ],
   "source": [
    "string = \"Python is saviour\"\n",
    "\n",
    "for index, char in enumerate(string):\n",
    "    print(f\"Character at index {index} is :: {char}\")"
   ]
  },
  {
   "cell_type": "code",
   "execution_count": 16,
   "id": "e44801d0",
   "metadata": {},
   "outputs": [
    {
     "name": "stdout",
     "output_type": "stream",
     "text": [
      "Character at index 0 is :: P\n",
      "Character at index 1 is :: y\n",
      "Character at index 2 is :: t\n",
      "Character at index 3 is :: h\n",
      "Character at index 4 is :: o\n",
      "Character at index 5 is :: n\n",
      "Character at index 6 is :: IS SPACE\n",
      "Character at index 7 is :: i\n",
      "Character at index 8 is :: s\n",
      "Character at index 9 is :: IS SPACE\n",
      "Character at index 10 is :: s\n",
      "Character at index 11 is :: a\n",
      "Character at index 12 is :: v\n",
      "Character at index 13 is :: i\n",
      "Character at index 14 is :: o\n",
      "Character at index 15 is :: u\n",
      "Character at index 16 is :: r\n"
     ]
    }
   ],
   "source": [
    "string = \"Python is saviour\"\n",
    "\n",
    "for index, char in enumerate(string):\n",
    "    if char.isspace():\n",
    "        print(f\"Character at index {index} is :: IS SPACE\")\n",
    "    else:\n",
    "        print(f\"Character at index {index} is :: {char}\")"
   ]
  },
  {
   "cell_type": "code",
   "execution_count": null,
   "id": "a2077802",
   "metadata": {},
   "outputs": [],
   "source": [
    "## Home work\n",
    "string = \"Python is saviour\"\n",
    "\n",
    "for index, char in enumerate(string):\n",
    "    if char.isspace():\n",
    "        print(f\"Character at index {index} is :: IS SPACE\")\n",
    "    else:\n",
    "        print(f\"Character at index {index} is :: {char} :: Is consonent\")\n",
    "        \n",
    "        print(f\"Character at index {index} is :: {char} :: Is Vovel\")"
   ]
  },
  {
   "cell_type": "markdown",
   "id": "4b8b9251",
   "metadata": {},
   "source": [
    "## Iterating over list"
   ]
  },
  {
   "cell_type": "code",
   "execution_count": 17,
   "id": "67d890c1",
   "metadata": {},
   "outputs": [
    {
     "name": "stdout",
     "output_type": "stream",
     "text": [
      "1\n",
      "2\n",
      "3\n",
      "4\n",
      "5\n",
      "6\n",
      "7\n",
      "8\n"
     ]
    }
   ],
   "source": [
    "list1 = [1,2,3,4,5,6,7,8]\n",
    "\n",
    "for i in list1:\n",
    "    print(i)"
   ]
  },
  {
   "cell_type": "code",
   "execution_count": 18,
   "id": "946b7c7c",
   "metadata": {},
   "outputs": [
    {
     "name": "stdout",
     "output_type": "stream",
     "text": [
      "1 2 3 4 5 6 7 8 "
     ]
    }
   ],
   "source": [
    "for i in list1:\n",
    "    print(i, end = \" \")"
   ]
  },
  {
   "cell_type": "code",
   "execution_count": 19,
   "id": "46b6f02d",
   "metadata": {},
   "outputs": [
    {
     "name": "stdout",
     "output_type": "stream",
     "text": [
      "Integer List :: [2, 1, 4, 33, 24, 67]\n",
      "Float List :: [4.2, 11.2, 88.99]\n",
      "String List :: ['Python', 'Data', 'Artificial', 'Science']\n"
     ]
    }
   ],
   "source": [
    "list1 = [2,1,4,4.2,\"Python\",33,11.2,\"Data\",24,67,88.99,\"Artificial\",\"Science\"]\n",
    "\n",
    "int_list = []\n",
    "float_list = []\n",
    "str_list = []\n",
    "\n",
    "for item in list1:\n",
    "    if type(item) == int:\n",
    "        int_list.append(item)\n",
    "    elif type(item) == float:\n",
    "        float_list.append(item)\n",
    "    elif type(item) == str:\n",
    "        str_list.append(item)\n",
    "        \n",
    "print(f\"Integer List :: {int_list}\")\n",
    "print(f\"Float List :: {float_list}\")\n",
    "print(f\"String List :: {str_list}\")"
   ]
  },
  {
   "cell_type": "code",
   "execution_count": 20,
   "id": "f8a2908f",
   "metadata": {},
   "outputs": [
    {
     "name": "stdout",
     "output_type": "stream",
     "text": [
      "Integer List :: [2, 1, 4, 33, 24, 67]\n",
      "Float List :: [4.2, 11.2, 88.99]\n",
      "String List :: ['Python', 'Data', 'Artificial', 'Science']\n"
     ]
    }
   ],
   "source": [
    "list1 = [2,1,4,4.2,\"Python\",33,11.2,\"Data\",24,67,88.99,\"Artificial\",\"Science\"]\n",
    "\n",
    "int_list = [i for i in list1 if type(i) == int]\n",
    "float_list = [i for i in list1 if type(i) == float]\n",
    "str_list = [i for i in list1 if type(i) == str]\n",
    "\n",
    "        \n",
    "print(f\"Integer List :: {int_list}\")\n",
    "print(f\"Float List :: {float_list}\")\n",
    "print(f\"String List :: {str_list}\")"
   ]
  },
  {
   "cell_type": "markdown",
   "id": "dd8eebb2",
   "metadata": {},
   "source": [
    "## Loop Control Statements"
   ]
  },
  {
   "cell_type": "code",
   "execution_count": null,
   "id": "40324467",
   "metadata": {},
   "outputs": [],
   "source": [
    "1. break\n",
    "2. continue\n",
    "3. pass"
   ]
  },
  {
   "cell_type": "markdown",
   "id": "6f0e3234",
   "metadata": {},
   "source": [
    "### Break"
   ]
  },
  {
   "cell_type": "code",
   "execution_count": 22,
   "id": "b0a62557",
   "metadata": {},
   "outputs": [
    {
     "name": "stdout",
     "output_type": "stream",
     "text": [
      "1 2 3 4 5 6 7 8 9 10 11 12 13 14 15 16 17 18 19 20 21 22 23 24 25 26 27 28 29 30 31 32 33 34 35 36 37 38 39 40 41 42 43 44 "
     ]
    }
   ],
   "source": [
    "for i in range(1,45):\n",
    "    print(i, end = \" \")"
   ]
  },
  {
   "cell_type": "code",
   "execution_count": 23,
   "id": "293e303d",
   "metadata": {},
   "outputs": [
    {
     "name": "stdout",
     "output_type": "stream",
     "text": [
      "1 "
     ]
    }
   ],
   "source": [
    "for i in range(1,45):\n",
    "    print(i, end = \" \")\n",
    "    break"
   ]
  },
  {
   "cell_type": "code",
   "execution_count": 24,
   "id": "0a0a4334",
   "metadata": {},
   "outputs": [
    {
     "name": "stdout",
     "output_type": "stream",
     "text": [
      "1 2 3 4 5 6 7 8 9 10 11 12 13 14 15 "
     ]
    }
   ],
   "source": [
    "for i in range(1,45):\n",
    "    print(i, end = \" \")\n",
    "    if i == 15:\n",
    "        break"
   ]
  },
  {
   "cell_type": "code",
   "execution_count": 25,
   "id": "4eeb7570",
   "metadata": {},
   "outputs": [
    {
     "name": "stdout",
     "output_type": "stream",
     "text": [
      "1\n",
      "2\n",
      "3\n",
      "4\n",
      "5\n",
      "6\n",
      "7\n",
      "8\n",
      "9\n"
     ]
    }
   ],
   "source": [
    "for i in range(1,45):\n",
    "    if i > 5 and i % 5==0:\n",
    "        break\n",
    "    print(i)"
   ]
  },
  {
   "cell_type": "markdown",
   "id": "ee90f9dd",
   "metadata": {},
   "source": [
    "### 2. Continue"
   ]
  },
  {
   "cell_type": "code",
   "execution_count": null,
   "id": "292ef9ef",
   "metadata": {},
   "outputs": [],
   "source": [
    "The Continue statement is used to stop the current iteration and go the next iteration "
   ]
  },
  {
   "cell_type": "code",
   "execution_count": 37,
   "id": "6a625fb5",
   "metadata": {},
   "outputs": [
    {
     "name": "stdout",
     "output_type": "stream",
     "text": [
      "1 2 3 4 5 6 7 8 9 10 11 12 13 14 * 16 17 18 19 20 21 22 23 24 25 26 27 28 29 30 31 32 33 34 35 36 37 38 39 40 41 42 43 44 "
     ]
    }
   ],
   "source": [
    "for i in range(1,45):\n",
    "    if i == 15:\n",
    "        print(\"*\", end = \" \")\n",
    "        continue\n",
    "    print(i, end = \" \")## If continue condition is met, print statement will not be executed untill next iteration"
   ]
  },
  {
   "cell_type": "code",
   "execution_count": 30,
   "id": "dd8a1320",
   "metadata": {},
   "outputs": [
    {
     "name": "stdout",
     "output_type": "stream",
     "text": [
      "1 2 3 4 * 6 7 8 9 * 11 12 13 14 * 16 17 18 19 * 21 22 23 24 * 26 27 28 29 * 31 32 33 34 * 36 37 38 39 * 41 42 43 44 "
     ]
    }
   ],
   "source": [
    "for i in range(1,45):\n",
    "    if i % 5 == 0:\n",
    "        print(\"*\", end = \" \")\n",
    "        continue\n",
    "    print(i, end = \" \")"
   ]
  },
  {
   "cell_type": "code",
   "execution_count": 31,
   "id": "abafeaec",
   "metadata": {},
   "outputs": [
    {
     "name": "stdout",
     "output_type": "stream",
     "text": [
      "1 2 3 4 * 5 6 7 8 9 * 10 11 12 13 14 * 15 16 17 18 19 * 20 21 22 23 24 * 25 26 27 28 29 * 30 31 32 33 34 * 35 36 37 38 39 * 40 41 42 43 44 "
     ]
    }
   ],
   "source": [
    "for i in range(1,45):\n",
    "    if i % 5 == 0:\n",
    "        print(\"*\", end = \" \")\n",
    "    print(i, end = \" \")"
   ]
  },
  {
   "cell_type": "code",
   "execution_count": 32,
   "id": "44a4ce85",
   "metadata": {},
   "outputs": [
    {
     "name": "stdout",
     "output_type": "stream",
     "text": [
      "1 2 3 4 * 6 7 8 9 * 11 12 13 14 * 16 17 18 19 * 21 22 23 24 * 26 27 28 29 * 31 32 33 34 * 36 37 38 39 * 41 42 43 44 "
     ]
    }
   ],
   "source": [
    "for i in range(1,45):\n",
    "    if i % 5 == 0:\n",
    "        print(\"*\", end = \" \")\n",
    "        continue\n",
    "    print(i, end = \" \")"
   ]
  },
  {
   "cell_type": "markdown",
   "id": "8448d18c",
   "metadata": {},
   "source": [
    "## Pass"
   ]
  },
  {
   "cell_type": "code",
   "execution_count": null,
   "id": "ff258af4",
   "metadata": {},
   "outputs": [],
   "source": [
    "## This will not affect the iteration any way, it will only istruct the for loop to move on to next iteration"
   ]
  },
  {
   "cell_type": "code",
   "execution_count": 34,
   "id": "5e53288f",
   "metadata": {},
   "outputs": [
    {
     "name": "stdout",
     "output_type": "stream",
     "text": [
      "1 2 3 4 5 6 7 8 9 10 11 12 13 14 15 16 17 18 19 20 21 22 23 24 25 26 27 28 29 30 31 32 33 34 35 36 37 38 39 40 41 42 43 44 "
     ]
    }
   ],
   "source": [
    "for i in range(1,45):\n",
    "    if i % 5 == 0:\n",
    "        pass\n",
    "    print(i, end = \" \")"
   ]
  },
  {
   "cell_type": "code",
   "execution_count": 40,
   "id": "f15adb70",
   "metadata": {},
   "outputs": [
    {
     "name": "stdout",
     "output_type": "stream",
     "text": [
      "1 This is a number\n",
      "2 This is a number\n",
      "3 This is a number\n",
      "4 This is a number\n",
      "5 This is a number\n",
      "6 This is a number\n",
      "7 This is a number\n",
      "8 This is a number\n",
      "9 This is a number\n",
      "10 This is a number\n",
      "11 This is a number\n",
      "12 This is a number\n",
      "13 This is a number\n",
      "14 This is a number\n",
      "*\n",
      "16 This is a number\n",
      "17 This is a number\n",
      "18 This is a number\n",
      "19 This is a number\n"
     ]
    }
   ],
   "source": [
    "################\n",
    "for i in range(1,20):\n",
    "    if i == 15:\n",
    "        print(\"*\")\n",
    "        continue\n",
    "    print(i, end = \" \")\n",
    "    print(\"This is a number\")"
   ]
  },
  {
   "cell_type": "code",
   "execution_count": null,
   "id": "0ed27e89",
   "metadata": {},
   "outputs": [],
   "source": []
  }
 ],
 "metadata": {
  "kernelspec": {
   "display_name": "Python 3 (ipykernel)",
   "language": "python",
   "name": "python3"
  },
  "language_info": {
   "codemirror_mode": {
    "name": "ipython",
    "version": 3
   },
   "file_extension": ".py",
   "mimetype": "text/x-python",
   "name": "python",
   "nbconvert_exporter": "python",
   "pygments_lexer": "ipython3",
   "version": "3.10.5"
  }
 },
 "nbformat": 4,
 "nbformat_minor": 5
}
