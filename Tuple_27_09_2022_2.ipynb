{
 "cells": [
  {
   "cell_type": "markdown",
   "id": "e3b0461e",
   "metadata": {},
   "source": [
    "## Copy Function on Tuple"
   ]
  },
  {
   "cell_type": "code",
   "execution_count": 1,
   "id": "4663ad46",
   "metadata": {},
   "outputs": [
    {
     "name": "stdout",
     "output_type": "stream",
     "text": [
      "('Pune', 'Mumbai', 'Nashik', 'Amaravati', 'Solapur')   :: ID >> 2570683302352\n",
      "('Pune', 'Mumbai', 'Nashik', 'Amaravati', 'Solapur')   :: ID >> 2570683302352\n"
     ]
    }
   ],
   "source": [
    "tuple1 = (\"Pune\",\"Mumbai\",\"Nashik\",\"Amaravati\",\"Solapur\")\n",
    "\n",
    "tuple2 = tuple1\n",
    "\n",
    "print(f\"{tuple1}   :: ID >> {id(tuple1)}\")\n",
    "print(f\"{tuple2}   :: ID >> {id(tuple2)}\")"
   ]
  },
  {
   "cell_type": "markdown",
   "id": "0ef867be",
   "metadata": {},
   "source": [
    "### Special case where tuple is mutable"
   ]
  },
  {
   "cell_type": "code",
   "execution_count": 13,
   "id": "e7ab3e44",
   "metadata": {},
   "outputs": [
    {
     "name": "stdout",
     "output_type": "stream",
     "text": [
      "(12, 13, 14, 15, [1, 2, 3, 4], 16, 17, 18)   :: ID >> 2570682072672\n",
      "(12, 13, 14, 15, [1, 2, 3, 4], 16, 17, 18)   :: ID >> 2570682072672\n"
     ]
    }
   ],
   "source": [
    "tuple1 = (12,13,14,15,[1,2,3,4],16,17,18)\n",
    "\n",
    "tuple2 = tuple1\n",
    "\n",
    "print(f\"{tuple1}   :: ID >> {id(tuple1)}\")\n",
    "print(f\"{tuple2}   :: ID >> {id(tuple2)}\")"
   ]
  },
  {
   "cell_type": "code",
   "execution_count": 14,
   "id": "8840df98",
   "metadata": {},
   "outputs": [
    {
     "data": {
      "text/plain": [
       "4"
      ]
     },
     "execution_count": 14,
     "metadata": {},
     "output_type": "execute_result"
    }
   ],
   "source": [
    "tuple1.index([1,2,3,4])"
   ]
  },
  {
   "cell_type": "code",
   "execution_count": 15,
   "id": "6476894f",
   "metadata": {},
   "outputs": [
    {
     "data": {
      "text/plain": [
       "[1, 2, 3, 4]"
      ]
     },
     "execution_count": 15,
     "metadata": {},
     "output_type": "execute_result"
    }
   ],
   "source": [
    "tuple1[4]"
   ]
  },
  {
   "cell_type": "code",
   "execution_count": 16,
   "id": "5b9eb01f",
   "metadata": {},
   "outputs": [
    {
     "data": {
      "text/plain": [
       "list"
      ]
     },
     "execution_count": 16,
     "metadata": {},
     "output_type": "execute_result"
    }
   ],
   "source": [
    "type(tuple1[4])"
   ]
  },
  {
   "cell_type": "markdown",
   "id": "e451a52b",
   "metadata": {},
   "source": [
    "#### Changing element in a list in a tuple"
   ]
  },
  {
   "cell_type": "code",
   "execution_count": 17,
   "id": "74952cae",
   "metadata": {},
   "outputs": [],
   "source": [
    "tuple1[4][2] = 1000"
   ]
  },
  {
   "cell_type": "code",
   "execution_count": 18,
   "id": "bfd0977b",
   "metadata": {},
   "outputs": [
    {
     "data": {
      "text/plain": [
       "(12, 13, 14, 15, [1, 2, 1000, 4], 16, 17, 18)"
      ]
     },
     "execution_count": 18,
     "metadata": {},
     "output_type": "execute_result"
    }
   ],
   "source": [
    "tuple1"
   ]
  },
  {
   "cell_type": "code",
   "execution_count": 19,
   "id": "d7b4e1fd",
   "metadata": {},
   "outputs": [
    {
     "name": "stdout",
     "output_type": "stream",
     "text": [
      "(12, 13, 14, 15, [1, 2, 1000, 4], 16, 17, 18)   :: ID >> 2570682072672\n",
      "(12, 13, 14, 15, [1, 2, 1000, 4], 16, 17, 18)   :: ID >> 2570682072672\n"
     ]
    }
   ],
   "source": [
    "print(f\"{tuple1}   :: ID >> {id(tuple1)}\")\n",
    "print(f\"{tuple2}   :: ID >> {id(tuple2)}\")"
   ]
  },
  {
   "cell_type": "code",
   "execution_count": 20,
   "id": "a9b7f977",
   "metadata": {},
   "outputs": [
    {
     "ename": "AttributeError",
     "evalue": "'tuple' object has no attribute 'copy'",
     "output_type": "error",
     "traceback": [
      "\u001b[1;31m---------------------------------------------------------------------------\u001b[0m",
      "\u001b[1;31mAttributeError\u001b[0m                            Traceback (most recent call last)",
      "Input \u001b[1;32mIn [20]\u001b[0m, in \u001b[0;36m<cell line: 5>\u001b[1;34m()\u001b[0m\n\u001b[0;32m      1\u001b[0m \u001b[38;5;66;03m## Using general copy function on tuple\u001b[39;00m\n\u001b[0;32m      3\u001b[0m tuple1 \u001b[38;5;241m=\u001b[39m (\u001b[38;5;241m12\u001b[39m,\u001b[38;5;241m13\u001b[39m,\u001b[38;5;241m14\u001b[39m,\u001b[38;5;241m15\u001b[39m,[\u001b[38;5;241m1\u001b[39m,\u001b[38;5;241m2\u001b[39m,\u001b[38;5;241m3\u001b[39m,\u001b[38;5;241m4\u001b[39m],\u001b[38;5;241m16\u001b[39m,\u001b[38;5;241m17\u001b[39m,\u001b[38;5;241m18\u001b[39m)\n\u001b[1;32m----> 5\u001b[0m tuple2 \u001b[38;5;241m=\u001b[39m \u001b[43mtuple1\u001b[49m\u001b[38;5;241;43m.\u001b[39;49m\u001b[43mcopy\u001b[49m()\n",
      "\u001b[1;31mAttributeError\u001b[0m: 'tuple' object has no attribute 'copy'"
     ]
    }
   ],
   "source": [
    "## Using general copy function on tuple\n",
    "\n",
    "tuple1 = (12,13,14,15,[1,2,3,4],16,17,18)\n",
    "\n",
    "tuple2 = tuple1.copy()  ## Copy doesn't work with tuple"
   ]
  },
  {
   "cell_type": "code",
   "execution_count": 21,
   "id": "cf58b696",
   "metadata": {},
   "outputs": [
    {
     "name": "stdout",
     "output_type": "stream",
     "text": [
      "(12, 13, 14, 15, [1, 2, 3, 4], 16, 17, 18)   :: ID >> 2570711676608\n",
      "(12, 13, 14, 15, [1, 2, 3, 4], 16, 17, 18)   :: ID >> 2570711676480\n"
     ]
    }
   ],
   "source": [
    "## Using copy library we can create a copy of a tuple\n",
    "\n",
    "import copy\n",
    "\n",
    "tuple1 = (12,13,14,15,[1,2,3,4],16,17,18)\n",
    "\n",
    "tuple2 = copy.deepcopy(tuple1)\n",
    "\n",
    "print(f\"{tuple1}   :: ID >> {id(tuple1)}\")\n",
    "print(f\"{tuple2}   :: ID >> {id(tuple2)}\")\n"
   ]
  },
  {
   "cell_type": "code",
   "execution_count": 22,
   "id": "83a9fb02",
   "metadata": {},
   "outputs": [
    {
     "name": "stdout",
     "output_type": "stream",
     "text": [
      "(12, 13, 14, 15, [1, 2, 1000, 4], 16, 17, 18)   :: ID >> 2570711676608\n",
      "(12, 13, 14, 15, [1, 2, 3, 4], 16, 17, 18)   :: ID >> 2570711676480\n"
     ]
    }
   ],
   "source": [
    "tuple1[4][2] = 1000\n",
    "\n",
    "print(f\"{tuple1}   :: ID >> {id(tuple1)}\")\n",
    "print(f\"{tuple2}   :: ID >> {id(tuple2)}\")"
   ]
  },
  {
   "cell_type": "code",
   "execution_count": 23,
   "id": "fdef6643",
   "metadata": {},
   "outputs": [
    {
     "name": "stdout",
     "output_type": "stream",
     "text": [
      "(12345, 'BB12CD12', 123456789, 1234567)\n"
     ]
    }
   ],
   "source": [
    "acc_no = 12345\n",
    "pan_card = 'BB12CD12' \n",
    "aadhar = 123456789\n",
    "passport_num = 1234567\n",
    "\n",
    "x = acc_no, pan_card, aadhar, passport_num\n",
    "\n",
    "print(x)"
   ]
  },
  {
   "cell_type": "markdown",
   "id": "e808f48a",
   "metadata": {},
   "source": [
    "### Accessing Items From Tuple"
   ]
  },
  {
   "cell_type": "markdown",
   "id": "782a56de",
   "metadata": {},
   "source": [
    "##### Using indexing and slicing"
   ]
  },
  {
   "cell_type": "code",
   "execution_count": 24,
   "id": "e4d3a953",
   "metadata": {},
   "outputs": [
    {
     "data": {
      "text/plain": [
       "'Nashik'"
      ]
     },
     "execution_count": 24,
     "metadata": {},
     "output_type": "execute_result"
    }
   ],
   "source": [
    "tuple1 = (\"Pune\",\"Mumbai\",\"Nashik\",\"Amaravati\",\"Solapur\")\n",
    "\n",
    "tuple1[2]"
   ]
  },
  {
   "cell_type": "code",
   "execution_count": 25,
   "id": "d1e351f2",
   "metadata": {},
   "outputs": [
    {
     "data": {
      "text/plain": [
       "'Nashik'"
      ]
     },
     "execution_count": 25,
     "metadata": {},
     "output_type": "execute_result"
    }
   ],
   "source": [
    "tuple1[-3]"
   ]
  },
  {
   "cell_type": "code",
   "execution_count": 26,
   "id": "f8c80ef0",
   "metadata": {},
   "outputs": [
    {
     "data": {
      "text/plain": [
       "('Nashik', 'Amaravati', 'Solapur')"
      ]
     },
     "execution_count": 26,
     "metadata": {},
     "output_type": "execute_result"
    }
   ],
   "source": [
    "tuple1[-3:]"
   ]
  },
  {
   "cell_type": "code",
   "execution_count": 27,
   "id": "b676f42c",
   "metadata": {},
   "outputs": [
    {
     "data": {
      "text/plain": [
       "('Pune', 'Mumbai', 'Nashik')"
      ]
     },
     "execution_count": 27,
     "metadata": {},
     "output_type": "execute_result"
    }
   ],
   "source": [
    "tuple1[:3]"
   ]
  },
  {
   "cell_type": "markdown",
   "id": "24b430d1",
   "metadata": {},
   "source": [
    "##### Using for loop"
   ]
  },
  {
   "cell_type": "code",
   "execution_count": 29,
   "id": "3c8c2a8a",
   "metadata": {},
   "outputs": [
    {
     "name": "stdout",
     "output_type": "stream",
     "text": [
      "Pune\n",
      "Mumbai\n",
      "Nashik\n",
      "Amaravati\n",
      "Solapur\n",
      "Sangali\n",
      "Baramati\n",
      "Kolhapur\n",
      "Satara\n",
      "Sambhaji Nagar\n",
      "Nagpur\n"
     ]
    }
   ],
   "source": [
    "tuple1 = (\"Pune\",\"Mumbai\",\"Nashik\",\"Amaravati\",\"Solapur\", \"Sangali\", \n",
    "          \"Baramati\", \"Kolhapur\", \"Satara\", \"Sambhaji Nagar\", \"Nagpur\")\n",
    "\n",
    "for city in tuple1:\n",
    "    print(city)"
   ]
  },
  {
   "cell_type": "code",
   "execution_count": 30,
   "id": "b6f4e421",
   "metadata": {},
   "outputs": [
    {
     "name": "stdout",
     "output_type": "stream",
     "text": [
      "(0, 'Pune')\n",
      "(1, 'Mumbai')\n",
      "(2, 'Nashik')\n",
      "(3, 'Amaravati')\n",
      "(4, 'Solapur')\n",
      "(5, 'Sangali')\n",
      "(6, 'Baramati')\n",
      "(7, 'Kolhapur')\n",
      "(8, 'Satara')\n",
      "(9, 'Sambhaji Nagar')\n",
      "(10, 'Nagpur')\n"
     ]
    }
   ],
   "source": [
    "for city in enumerate(tuple1):\n",
    "    print(city)"
   ]
  },
  {
   "cell_type": "code",
   "execution_count": 32,
   "id": "4cc03a41",
   "metadata": {},
   "outputs": [
    {
     "name": "stdout",
     "output_type": "stream",
     "text": [
      "0 :: Pune\n",
      "1 :: Mumbai\n",
      "2 :: Nashik\n",
      "3 :: Amaravati\n",
      "4 :: Solapur\n",
      "5 :: Sangali\n",
      "6 :: Baramati\n",
      "7 :: Kolhapur\n",
      "8 :: Satara\n",
      "9 :: Sambhaji Nagar\n",
      "10 :: Nagpur\n"
     ]
    }
   ],
   "source": [
    "for index, city in enumerate(tuple1):\n",
    "    \n",
    "    print(f\"{index} :: {city}\")"
   ]
  },
  {
   "cell_type": "code",
   "execution_count": 36,
   "id": "33d1a6bd",
   "metadata": {},
   "outputs": [
    {
     "name": "stdout",
     "output_type": "stream",
     "text": [
      "City Name    Distance\n",
      "Pune    600\n",
      "Mumbai    1000\n",
      "Nashik    650\n",
      "Amaravati    0\n",
      "Solapur    700\n",
      "Sangali    800\n",
      "Baramati    400\n",
      "Kolhapur    750\n",
      "Satara    400\n",
      "Sambhaji Nagar    350\n",
      "Nagpur    200\n"
     ]
    }
   ],
   "source": [
    "tuple1 = (\"Pune\",\"Mumbai\",\"Nashik\",\"Amaravati\",\"Solapur\", \"Sangali\", \n",
    "          \"Baramati\", \"Kolhapur\", \"Satara\", \"Sambhaji Nagar\", \"Nagpur\")\n",
    "## Distance from Amaravati\n",
    "\n",
    "tuple2 = (600,1000,650,0,700,800,400,750,400,350,200)\n",
    "\n",
    "\n",
    "print(\"City Name\"+\" \"*Distance\")\n",
    "\n",
    "for city, distance in zip(tuple1,tuple2):\n",
    "    print(f\"{city}\" + \" \"*4 + f\"{distance}\")"
   ]
  },
  {
   "cell_type": "markdown",
   "id": "c2ae1ffa",
   "metadata": {},
   "source": [
    "### Type Casting"
   ]
  },
  {
   "cell_type": "code",
   "execution_count": 38,
   "id": "7d672292",
   "metadata": {},
   "outputs": [
    {
     "name": "stdout",
     "output_type": "stream",
     "text": [
      "['Pune', 'Mumbai', 'Nashik', 'Amaravati', 'Solapur', 'Sangali', 'Baramati', 'Kolhapur', 'Satara', 'Sambhaji Nagar', 'Nagpur']\n",
      "<class 'list'>\n"
     ]
    }
   ],
   "source": [
    "tuple1 = (\"Pune\",\"Mumbai\",\"Nashik\",\"Amaravati\",\"Solapur\", \"Sangali\", \n",
    "          \"Baramati\", \"Kolhapur\", \"Satara\", \"Sambhaji Nagar\", \"Nagpur\")\n",
    "\n",
    "list_from_tuple = list(tuple1)\n",
    "\n",
    "print(list_from_tuple)\n",
    "print(type(list_from_tuple))\n"
   ]
  },
  {
   "cell_type": "code",
   "execution_count": 40,
   "id": "f8e3a131",
   "metadata": {},
   "outputs": [
    {
     "name": "stdout",
     "output_type": "stream",
     "text": [
      "('Pune', 'Mumbai', 'Nashik', 'Amaravati', 'Solapur', 'Sangali', 'Baramati', 'Kolhapur', 'Satara', 'Sambhaji Nagar', 'Nagpur')\n",
      "<class 'tuple'>\n"
     ]
    }
   ],
   "source": [
    "city_list = ['Pune', 'Mumbai', 'Nashik', 'Amaravati', 'Solapur', 'Sangali', \n",
    "             'Baramati', 'Kolhapur', 'Satara', 'Sambhaji Nagar', 'Nagpur']\n",
    "\n",
    "tuple_from_list = tuple(city_list)\n",
    "\n",
    "print(tuple_from_list)\n",
    "print(type(tuple_from_list))"
   ]
  },
  {
   "cell_type": "code",
   "execution_count": 42,
   "id": "7aab6c7d",
   "metadata": {},
   "outputs": [
    {
     "name": "stdout",
     "output_type": "stream",
     "text": [
      "{'Kolhapur', 'Nagpur', 'Amaravati', 'Pune', 'Sangali', 'Mumbai', 'Solapur', 'Satara', 'Baramati', 'Sambhaji Nagar', 'Nashik'}\n",
      "<class 'set'>\n"
     ]
    }
   ],
   "source": [
    "city_list = ['Pune', 'Mumbai', 'Nashik', 'Amaravati', 'Solapur', 'Sangali', \n",
    "             'Baramati', 'Kolhapur', 'Satara', 'Sambhaji Nagar', 'Nagpur']\n",
    "\n",
    "set_from_list = set(city_list)\n",
    "\n",
    "print(set_from_list)\n",
    "print(type(set_from_list))"
   ]
  },
  {
   "cell_type": "code",
   "execution_count": null,
   "id": "77177242",
   "metadata": {},
   "outputs": [],
   "source": []
  }
 ],
 "metadata": {
  "kernelspec": {
   "display_name": "Python 3 (ipykernel)",
   "language": "python",
   "name": "python3"
  },
  "language_info": {
   "codemirror_mode": {
    "name": "ipython",
    "version": 3
   },
   "file_extension": ".py",
   "mimetype": "text/x-python",
   "name": "python",
   "nbconvert_exporter": "python",
   "pygments_lexer": "ipython3",
   "version": "3.10.5"
  }
 },
 "nbformat": 4,
 "nbformat_minor": 5
}
