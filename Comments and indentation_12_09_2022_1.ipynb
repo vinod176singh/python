{
 "cells": [
  {
   "cell_type": "code",
   "execution_count": 1,
   "id": "92ff1001",
   "metadata": {},
   "outputs": [],
   "source": [
    "# This is a comment"
   ]
  },
  {
   "cell_type": "code",
   "execution_count": 2,
   "id": "c5232d82",
   "metadata": {},
   "outputs": [],
   "source": [
    "def add(a,b):\n",
    "    addition = a + b\n",
    "    return addition"
   ]
  },
  {
   "cell_type": "code",
   "execution_count": null,
   "id": "1de60efa",
   "metadata": {},
   "outputs": [],
   "source": [
    "# def add(a,b):\n",
    "#     addition = a + b\n",
    "#     return addition\n",
    "\n",
    "# Ctrl + /"
   ]
  },
  {
   "cell_type": "code",
   "execution_count": null,
   "id": "c5495d41",
   "metadata": {},
   "outputs": [],
   "source": [
    "# def add(a,b):\n",
    "#     addition = a + b\n",
    "#     return addition\n",
    "\n",
    "# # For commenting and un-commenting use Ctrl + /"
   ]
  },
  {
   "cell_type": "code",
   "execution_count": 3,
   "id": "996b14e1",
   "metadata": {},
   "outputs": [],
   "source": [
    "def add(a,b):          # This fucntion adds two values\n",
    "    addition = a + b   # Here the addition is taking place\n",
    "    return addition    # Here the function is returning the addition"
   ]
  },
  {
   "cell_type": "markdown",
   "id": "94cedded",
   "metadata": {},
   "source": [
    "## Docstring"
   ]
  },
  {
   "cell_type": "code",
   "execution_count": 4,
   "id": "0044c9d4",
   "metadata": {},
   "outputs": [],
   "source": [
    "# How to declare a string variable\n",
    "\n",
    "a = 'string'     # Single Quotes\n",
    "b = \"string\"     # Double Quotes\n",
    "c = \"\"\"string\"\"\" # Triple Quotes"
   ]
  },
  {
   "cell_type": "code",
   "execution_count": 5,
   "id": "7e8e95fa",
   "metadata": {},
   "outputs": [
    {
     "name": "stdout",
     "output_type": "stream",
     "text": [
      "string\n",
      "string\n",
      "string\n"
     ]
    }
   ],
   "source": [
    "print(a)\n",
    "print(b)\n",
    "print(c)"
   ]
  },
  {
   "cell_type": "code",
   "execution_count": 19,
   "id": "6a5c9ca4",
   "metadata": {},
   "outputs": [],
   "source": [
    "def add_1(a,b):\n",
    "    'Ye string maine likha hai'\n",
    "    addition = a + b\n",
    "    return addition"
   ]
  },
  {
   "cell_type": "code",
   "execution_count": 20,
   "id": "5b5e9eaf",
   "metadata": {},
   "outputs": [
    {
     "data": {
      "text/plain": [
       "22"
      ]
     },
     "execution_count": 20,
     "metadata": {},
     "output_type": "execute_result"
    }
   ],
   "source": [
    "add_1(10,12)"
   ]
  },
  {
   "cell_type": "code",
   "execution_count": 14,
   "id": "37314b5e",
   "metadata": {},
   "outputs": [
    {
     "name": "stdout",
     "output_type": "stream",
     "text": [
      "12\n"
     ]
    }
   ],
   "source": [
    "a = 10\n",
    "'string'\n",
    "print(12)"
   ]
  },
  {
   "cell_type": "code",
   "execution_count": 22,
   "id": "fd6e5698",
   "metadata": {},
   "outputs": [
    {
     "ename": "SyntaxError",
     "evalue": "unterminated string literal (detected at line 2) (1421906630.py, line 2)",
     "output_type": "error",
     "traceback": [
      "\u001b[1;36m  Input \u001b[1;32mIn [22]\u001b[1;36m\u001b[0m\n\u001b[1;33m    'New string first line\u001b[0m\n\u001b[1;37m    ^\u001b[0m\n\u001b[1;31mSyntaxError\u001b[0m\u001b[1;31m:\u001b[0m unterminated string literal (detected at line 2)\n"
     ]
    }
   ],
   "source": [
    "def add_2(a,b):\n",
    "    'New string first line     \n",
    "    Second line'\n",
    "    addition = a + b\n",
    "    return addition    # Single Quote Doesn't work for multiple line"
   ]
  },
  {
   "cell_type": "code",
   "execution_count": 23,
   "id": "497a085e",
   "metadata": {},
   "outputs": [
    {
     "ename": "SyntaxError",
     "evalue": "unterminated string literal (detected at line 2) (211515266.py, line 2)",
     "output_type": "error",
     "traceback": [
      "\u001b[1;36m  Input \u001b[1;32mIn [23]\u001b[1;36m\u001b[0m\n\u001b[1;33m    \"New string First Line\u001b[0m\n\u001b[1;37m    ^\u001b[0m\n\u001b[1;31mSyntaxError\u001b[0m\u001b[1;31m:\u001b[0m unterminated string literal (detected at line 2)\n"
     ]
    }
   ],
   "source": [
    "def add_2(a,b):\n",
    "    \"New string First Line     \n",
    "    Second Line\"\n",
    "    addition = a + b\n",
    "    return addition  # Double Quote doesn't work for multiple line"
   ]
  },
  {
   "cell_type": "code",
   "execution_count": 37,
   "id": "8b3470a1",
   "metadata": {},
   "outputs": [],
   "source": [
    "def add_2(a,b):\n",
    "    \"\"\"New string First Line     \n",
    "    Second Line\"\"\"\n",
    "    # This is test comment\n",
    "    addition = a + b\n",
    "    return addition  # Triple Quote works for Multiple Lines"
   ]
  },
  {
   "cell_type": "code",
   "execution_count": null,
   "id": "81c07239",
   "metadata": {},
   "outputs": [],
   "source": [
    "add_2()"
   ]
  },
  {
   "cell_type": "code",
   "execution_count": 25,
   "id": "7e83852d",
   "metadata": {},
   "outputs": [],
   "source": [
    "def sub(a,b):\n",
    "    \"\"\"\n",
    "    Args:\n",
    "    a and b are any interger\n",
    "    \n",
    "    Returns:\n",
    "    substraction of a and b\n",
    "    \n",
    "    \"\"\"\n",
    "    substraction = a - b\n",
    "    \n",
    "    return substraction"
   ]
  },
  {
   "cell_type": "code",
   "execution_count": null,
   "id": "71ac4f32",
   "metadata": {},
   "outputs": [],
   "source": [
    "sub() ## Take cursor to parenthesis and press shift + tab then read docstring"
   ]
  },
  {
   "cell_type": "markdown",
   "id": "e85bf69b",
   "metadata": {},
   "source": [
    "# Indentation"
   ]
  },
  {
   "cell_type": "code",
   "execution_count": 26,
   "id": "00bf98bb",
   "metadata": {},
   "outputs": [],
   "source": [
    "def div(a,b):\n",
    "    division = a/b\n",
    "    return division"
   ]
  },
  {
   "cell_type": "code",
   "execution_count": 27,
   "id": "da9d5c41",
   "metadata": {},
   "outputs": [
    {
     "data": {
      "text/plain": [
       "0.75"
      ]
     },
     "execution_count": 27,
     "metadata": {},
     "output_type": "execute_result"
    }
   ],
   "source": [
    "div(3,4)"
   ]
  },
  {
   "cell_type": "code",
   "execution_count": 29,
   "id": "8ac3d96f",
   "metadata": {},
   "outputs": [
    {
     "ename": "IndentationError",
     "evalue": "unindent does not match any outer indentation level (<tokenize>, line 3)",
     "output_type": "error",
     "traceback": [
      "\u001b[1;36m  File \u001b[1;32m<tokenize>:3\u001b[1;36m\u001b[0m\n\u001b[1;33m    return division\u001b[0m\n\u001b[1;37m    ^\u001b[0m\n\u001b[1;31mIndentationError\u001b[0m\u001b[1;31m:\u001b[0m unindent does not match any outer indentation level\n"
     ]
    }
   ],
   "source": [
    "def div(a,b):\n",
    "     division = a/b  ## Additional space given here\n",
    "    return division"
   ]
  },
  {
   "cell_type": "code",
   "execution_count": 30,
   "id": "ef4cc1c1",
   "metadata": {},
   "outputs": [
    {
     "ename": "IndentationError",
     "evalue": "expected an indented block after function definition on line 1 (2241553737.py, line 2)",
     "output_type": "error",
     "traceback": [
      "\u001b[1;36m  Input \u001b[1;32mIn [30]\u001b[1;36m\u001b[0m\n\u001b[1;33m    division = a/b  ## Space removed\u001b[0m\n\u001b[1;37m    ^\u001b[0m\n\u001b[1;31mIndentationError\u001b[0m\u001b[1;31m:\u001b[0m expected an indented block after function definition on line 1\n"
     ]
    }
   ],
   "source": [
    "def div(a,b):\n",
    "division = a/b  ## Space removed\n",
    "    return division"
   ]
  },
  {
   "cell_type": "code",
   "execution_count": 32,
   "id": "99121b65",
   "metadata": {},
   "outputs": [
    {
     "ename": "IndentationError",
     "evalue": "unexpected indent (2690080896.py, line 3)",
     "output_type": "error",
     "traceback": [
      "\u001b[1;36m  Input \u001b[1;32mIn [32]\u001b[1;36m\u001b[0m\n\u001b[1;33m    return division\u001b[0m\n\u001b[1;37m    ^\u001b[0m\n\u001b[1;31mIndentationError\u001b[0m\u001b[1;31m:\u001b[0m unexpected indent\n"
     ]
    }
   ],
   "source": [
    "def div(a,b):\n",
    "    division = a/b\n",
    "     return division"
   ]
  },
  {
   "cell_type": "code",
   "execution_count": 33,
   "id": "b2508eb9",
   "metadata": {},
   "outputs": [],
   "source": [
    "# 1 indent equals to 4 spaces"
   ]
  },
  {
   "cell_type": "code",
   "execution_count": 34,
   "id": "f7c9ffd1",
   "metadata": {},
   "outputs": [
    {
     "ename": "IndentationError",
     "evalue": "expected an indented block after function definition on line 1 (3457318746.py, line 2)",
     "output_type": "error",
     "traceback": [
      "\u001b[1;36m  Input \u001b[1;32mIn [34]\u001b[1;36m\u001b[0m\n\u001b[1;33m    division = a/b\u001b[0m\n\u001b[1;37m    ^\u001b[0m\n\u001b[1;31mIndentationError\u001b[0m\u001b[1;31m:\u001b[0m expected an indented block after function definition on line 1\n"
     ]
    }
   ],
   "source": [
    "def div(a,b):\n",
    "division = a/b\n",
    "return division"
   ]
  },
  {
   "cell_type": "code",
   "execution_count": 36,
   "id": "89160d1c",
   "metadata": {},
   "outputs": [],
   "source": [
    "def div(a,b):\n",
    "    division = a/b # To correct indentation press space bar for 4 times or Tab for 1 time\n",
    "    div_2 = a/100\n",
    "    return division"
   ]
  },
  {
   "cell_type": "code",
   "execution_count": null,
   "id": "609838c0",
   "metadata": {},
   "outputs": [],
   "source": [
    "\"\"\" This is \n",
    "Docstring\"\"\""
   ]
  }
 ],
 "metadata": {
  "kernelspec": {
   "display_name": "Python 3 (ipykernel)",
   "language": "python",
   "name": "python3"
  },
  "language_info": {
   "codemirror_mode": {
    "name": "ipython",
    "version": 3
   },
   "file_extension": ".py",
   "mimetype": "text/x-python",
   "name": "python",
   "nbconvert_exporter": "python",
   "pygments_lexer": "ipython3",
   "version": "3.10.5"
  }
 },
 "nbformat": 4,
 "nbformat_minor": 5
}
