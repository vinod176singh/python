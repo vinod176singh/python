{
 "cells": [
  {
   "cell_type": "markdown",
   "id": "3ee4f22e",
   "metadata": {},
   "source": [
    "## Numpy Statistics"
   ]
  },
  {
   "cell_type": "code",
   "execution_count": null,
   "id": "2ea5a3d2",
   "metadata": {},
   "outputs": [],
   "source": [
    "1. np.mean\n",
    "2. np.median\n",
    "3. scipy.stats.mode\n",
    "4. np.var\n",
    "5. np.std\n",
    "6. np.max\n",
    "7. np.min\n",
    "8. np.sum"
   ]
  },
  {
   "cell_type": "markdown",
   "id": "66524ef3",
   "metadata": {},
   "source": [
    "### 4. Variance (np.var)"
   ]
  },
  {
   "cell_type": "code",
   "execution_count": null,
   "id": "7c812301",
   "metadata": {},
   "outputs": [],
   "source": [
    "Sample Variance >> [summation of (Xi-Xmean)**2]/(n-1)"
   ]
  },
  {
   "cell_type": "code",
   "execution_count": null,
   "id": "f738ca89",
   "metadata": {},
   "outputs": [],
   "source": [
    "Population Variance >> [Summation of (Xi-Xmean)**2]/N"
   ]
  },
  {
   "cell_type": "code",
   "execution_count": null,
   "id": "96a4580e",
   "metadata": {},
   "outputs": [],
   "source": [
    "This term variance refers to a statistical measurement of a spread between the numbers in a dataset "
   ]
  },
  {
   "cell_type": "code",
   "execution_count": 1,
   "id": "c71d4f99",
   "metadata": {},
   "outputs": [],
   "source": [
    "import numpy as np"
   ]
  },
  {
   "cell_type": "code",
   "execution_count": 2,
   "id": "cf24d25d",
   "metadata": {},
   "outputs": [],
   "source": [
    "array1 = np.random.randint(10,99,100)"
   ]
  },
  {
   "cell_type": "code",
   "execution_count": 3,
   "id": "8c632e6d",
   "metadata": {},
   "outputs": [
    {
     "data": {
      "text/plain": [
       "array([41, 46, 43, 22, 10, 74, 98, 74, 62, 62, 91, 96, 85, 62, 20, 44, 80,\n",
       "       85, 77, 79, 49, 56, 66, 20, 93, 48, 41, 76, 77, 49, 42, 74, 11, 29,\n",
       "       55, 48, 75, 14, 45, 50, 49, 51, 79, 26, 52, 10, 84, 38, 33, 77, 55,\n",
       "       45, 52, 19, 94, 90, 93, 71, 44, 10, 77, 28, 50, 91, 21, 29, 62, 87,\n",
       "       42, 50, 54, 29, 61, 43, 88, 30, 76, 59, 10, 46, 39, 86, 45, 29, 97,\n",
       "       59, 47, 90, 59, 39, 82, 48, 10, 45, 87, 85, 47, 83, 46, 66])"
      ]
     },
     "execution_count": 3,
     "metadata": {},
     "output_type": "execute_result"
    }
   ],
   "source": [
    "array1"
   ]
  },
  {
   "cell_type": "code",
   "execution_count": 4,
   "id": "964dd4e1",
   "metadata": {},
   "outputs": [
    {
     "data": {
      "text/plain": [
       "590.2731"
      ]
     },
     "execution_count": 4,
     "metadata": {},
     "output_type": "execute_result"
    }
   ],
   "source": [
    "np.var(array1)"
   ]
  },
  {
   "cell_type": "code",
   "execution_count": 5,
   "id": "70732e74",
   "metadata": {},
   "outputs": [],
   "source": [
    "def varaince(array):\n",
    "    dev_list = []\n",
    "    temp_total = 0\n",
    "    for i in array:\n",
    "        temp_total = temp_total + i\n",
    "    temp_mean = temp_total/len(array)\n",
    "    \n",
    "    for i in array:\n",
    "        deviation = i - temp_mean\n",
    "        dev_list.append(deviation**2)\n",
    "    dev_sum = 0\n",
    "    for i in dev_list:\n",
    "        dev_sum = dev_sum + i\n",
    "    \n",
    "    var = dev_sum/len(array)\n",
    "    return var"
   ]
  },
  {
   "cell_type": "code",
   "execution_count": 6,
   "id": "2c989567",
   "metadata": {},
   "outputs": [
    {
     "data": {
      "text/plain": [
       "590.2731000000002"
      ]
     },
     "execution_count": 6,
     "metadata": {},
     "output_type": "execute_result"
    }
   ],
   "source": [
    "varaince(array1)"
   ]
  },
  {
   "cell_type": "markdown",
   "id": "b862332d",
   "metadata": {},
   "source": [
    "### 5. Standard Deviation (np.std)"
   ]
  },
  {
   "cell_type": "code",
   "execution_count": 7,
   "id": "987cf358",
   "metadata": {},
   "outputs": [],
   "source": [
    "array1 = np.random.randint(10,99,100)"
   ]
  },
  {
   "cell_type": "code",
   "execution_count": 9,
   "id": "e8b7f904",
   "metadata": {},
   "outputs": [
    {
     "data": {
      "text/plain": [
       "array([26, 68, 66, 15, 33, 31, 90, 50, 17, 68, 20, 90, 39, 47, 69, 68, 73,\n",
       "       57, 63, 55, 49, 39, 36, 64, 80, 21, 84, 49, 22, 35, 15, 31, 17, 50,\n",
       "       48, 37, 38, 92, 67, 17, 75, 15, 98, 18, 22, 91, 82, 18, 94, 69, 18,\n",
       "       32, 53, 54, 66, 46, 81, 18, 77, 61, 14, 68, 32, 34, 66, 37, 19, 24,\n",
       "       60, 38, 73, 21, 69, 50, 60, 18, 77, 15, 87, 12, 57, 30, 96, 12, 47,\n",
       "       11, 24, 63, 31, 36, 59, 33, 18, 45, 75, 39, 55, 46, 25, 38])"
      ]
     },
     "execution_count": 9,
     "metadata": {},
     "output_type": "execute_result"
    }
   ],
   "source": [
    "array1"
   ]
  },
  {
   "cell_type": "code",
   "execution_count": 10,
   "id": "c1c6d1e5",
   "metadata": {},
   "outputs": [
    {
     "data": {
      "text/plain": [
       "585.1156000000001"
      ]
     },
     "execution_count": 10,
     "metadata": {},
     "output_type": "execute_result"
    }
   ],
   "source": [
    "np.var(array1)"
   ]
  },
  {
   "cell_type": "code",
   "execution_count": 11,
   "id": "f84de45b",
   "metadata": {},
   "outputs": [
    {
     "data": {
      "text/plain": [
       "24.189162862736694"
      ]
     },
     "execution_count": 11,
     "metadata": {},
     "output_type": "execute_result"
    }
   ],
   "source": [
    "np.std(array1)"
   ]
  },
  {
   "cell_type": "code",
   "execution_count": 12,
   "id": "136720e4",
   "metadata": {},
   "outputs": [
    {
     "data": {
      "image/svg+xml": [
       "<svg xmlns:dc=\"http://purl.org/dc/elements/1.1/\" xmlns:cc=\"http://creativecommons.org/ns#\" xmlns:rdf=\"http://www.w3.org/1999/02/22-rdf-syntax-ns#\" xmlns:svg=\"http://www.w3.org/2000/svg\" xmlns=\"http://www.w3.org/2000/svg\" xmlns:sodipodi=\"http://sodipodi.sourceforge.net/DTD/sodipodi-0.dtd\" xmlns:inkscape=\"http://www.inkscape.org/namespaces/inkscape\" version=\"1.1\" width=\"400\" height=\"200\" viewBox=\"0 0 400 200\" overflow=\"visible\" enable-background=\"new 0 0 400 200\" xml:space=\"preserve\" id=\"svg2\" inkscape:version=\"0.48.1 \" sodipodi:docname=\"Standard_deviation_diagram.svg\"><metadata id=\"metadata148\"><rdf:RDF><cc:Work rdf:about=\"\"><dc:format>image/svg+xml</dc:format><dc:type rdf:resource=\"http://purl.org/dc/dcmitype/StillImage\"/><dc:title/></cc:Work></rdf:RDF></metadata><defs id=\"defs146\"/><sodipodi:namedview pagecolor=\"#ffffff\" bordercolor=\"#666666\" borderopacity=\"1\" objecttolerance=\"10\" gridtolerance=\"10\" guidetolerance=\"10\" inkscape:pageopacity=\"0\" inkscape:pageshadow=\"2\" inkscape:window-width=\"1035\" inkscape:window-height=\"842\" id=\"namedview144\" showgrid=\"false\" inkscape:zoom=\"1.275\" inkscape:cx=\"200\" inkscape:cy=\"100\" inkscape:window-x=\"58\" inkscape:window-y=\"87\" inkscape:window-maximized=\"0\" inkscape:current-layer=\"svg2\"/>\n",
       "<font horiz-adv-x=\"2048\" id=\"font4\">\n",
       "<!-- Arial(R) Trademark of The Monotype Corporation plc registered in the US Pat &amp; TM Off. and elsewhere. -->\n",
       "<!-- Copyright: Copyright 2007 Adobe System Incorporated. All rights reserved. -->\n",
       "<font-face font-family=\"ArialMT\" units-per-em=\"2048\" underline-position=\"-217\" underline-thickness=\"150\" id=\"font-face6\"/>\n",
       "<missing-glyph horiz-adv-x=\"1536\" d=\"M256,0l0,1280l1024,0l0,-1280M288,32l960,0l0,1216l-960,0z\" id=\"missing-glyph8\"/>\n",
       "<glyph unicode=\"%\" horiz-adv-x=\"1821\" d=\"M119,1114C119,1219 145,1308 198,1381C251,1454 327,1491 427,1491C519,1491 595,1458 656,1393C716,1327 746,1230 746,1103C746,979 716,884 655,817C594,750 518,716 429,716C340,716 267,749 208,815C149,881 119,981 119,1114M432,1367C387,1367 350,1348 321,1309C291,1270 276,1199 276,1096C276,1002 291,936 321,898C351,859 388,840 432,840C477,840 515,859 545,898C574,937 589,1007 589,1110C589,1205 574,1271 544,1310C514,1348 477,1367 432,1367M433,-54l802,1545l146,0l-799,-1545M1067,344C1067,449 1093,539 1146,612C1199,685 1275,721 1376,721C1468,721 1544,688 1605,623C1665,557 1695,460 1695,333C1695,209 1665,114 1604,47C1543,-20 1467,-54 1377,-54C1288,-54 1215,-21 1156,46C1097,112 1067,211 1067,344M1381,597C1336,597 1298,578 1269,539C1239,500 1224,429 1224,326C1224,233 1239,167 1269,128C1299,89 1336,70 1380,70C1426,70 1464,89 1494,128C1523,167 1538,237 1538,340C1538,435 1523,501 1493,540C1463,578 1426,597 1381,597z\" id=\"glyph10\"/>\n",
       "<glyph unicode=\".\" horiz-adv-x=\"569\" d=\"M186,0l0,205l205,0l0,-205z\" id=\"glyph12\"/>\n",
       "<glyph unicode=\"0\" horiz-adv-x=\"1139\" d=\"M85,723C85,896 103,1036 139,1142C174,1247 227,1329 298,1386C368,1443 456,1472 563,1472C642,1472 711,1456 770,1425C829,1393 878,1347 917,1288C956,1228 986,1155 1008,1070C1030,984 1041,868 1041,723C1041,551 1023,412 988,307C953,201 900,119 830,62C759,4 670,-25 563,-25C422,-25 311,26 230,127C133,249 85,448 85,723M270,723C270,482 298,322 355,243C411,163 480,123 563,123C646,123 715,163 772,243C828,323 856,483 856,723C856,964 828,1125 772,1204C715,1283 645,1323 561,1323C478,1323 412,1288 363,1218C301,1129 270,964 270,723z\" id=\"glyph14\"/>\n",
       "<glyph unicode=\"1\" horiz-adv-x=\"1139\" d=\"M763,0l-180,0l0,1147C540,1106 483,1064 413,1023C342,982 279,951 223,930l0,174C324,1151 412,1209 487,1276C562,1343 616,1409 647,1472l116,0z\" id=\"glyph16\"/>\n",
       "<glyph unicode=\"2\" horiz-adv-x=\"1139\" d=\"M1031,173l0,-173l-969,0C61,43 68,85 83,125C108,191 147,256 202,320C256,384 334,458 437,542C596,673 704,776 760,853C816,929 844,1001 844,1069C844,1140 819,1201 768,1250C717,1299 650,1323 568,1323C481,1323 412,1297 360,1245C308,1193 282,1121 281,1029l-185,19C109,1186 156,1291 239,1364C322,1436 433,1472 572,1472C713,1472 824,1433 906,1355C988,1277 1029,1180 1029,1065C1029,1006 1017,949 993,892C969,835 929,776 874,713C818,650 725,564 596,455C488,364 419,303 388,271C357,238 332,206 312,173z\" id=\"glyph18\"/>\n",
       "<glyph unicode=\"3\" horiz-adv-x=\"1139\" d=\"M86,387l180,24C287,309 322,236 372,191C421,146 482,123 553,123C638,123 709,152 768,211C826,270 855,342 855,429C855,512 828,580 774,634C720,687 651,714 568,714C534,714 492,707 441,694l20,158C473,851 483,850 490,850C567,850 636,870 697,910C758,950 789,1012 789,1095C789,1161 767,1216 722,1259C677,1302 620,1324 549,1324C479,1324 421,1302 374,1258C327,1214 297,1148 284,1060l-180,32C126,1213 176,1306 254,1373C332,1439 429,1472 545,1472C625,1472 699,1455 766,1421C833,1386 885,1339 921,1280C956,1221 974,1158 974,1091C974,1028 957,970 923,918C889,866 839,825 772,794C859,774 926,733 974,670C1022,607 1046,528 1046,433C1046,305 999,197 906,108C813,19 695,-26 552,-26C423,-26 317,12 232,89C147,166 98,265 86,387z\" id=\"glyph20\"/>\n",
       "<glyph unicode=\"4\" horiz-adv-x=\"1139\" d=\"M662,0l0,351l-636,0l0,165l669,950l147,0l0,-950l198,0l0,-165l-198,0l0,-351M662,516l0,661l-459,-661z\" id=\"glyph22\"/>\n",
       "<glyph unicode=\"6\" horiz-adv-x=\"1139\" d=\"M1019,1107l-179,-14C824,1164 801,1215 772,1247C723,1298 663,1324 592,1324C535,1324 484,1308 441,1276C384,1235 340,1174 307,1095C274,1016 257,903 256,756C299,822 352,871 415,903C478,935 543,951 612,951C732,951 834,907 919,819C1003,730 1045,616 1045,476C1045,384 1025,299 986,220C946,141 891,80 822,38C753,-4 674,-25 586,-25C436,-25 314,30 219,141C124,251 77,433 77,686C77,969 129,1175 234,1304C325,1416 448,1472 603,1472C718,1472 813,1440 887,1375C960,1310 1004,1221 1019,1107M284,475C284,413 297,354 324,297C350,240 387,197 434,168C481,138 531,123 583,123C659,123 724,154 779,215C834,276 861,360 861,465C861,566 834,646 780,705C726,763 658,792 576,792C495,792 426,763 369,705C312,646 284,570 284,475z\" id=\"glyph24\"/>\n",
       "<glyph unicode=\"µ\" horiz-adv-x=\"1180\" d=\"M1018,1062l0,-1062l-161,0l0,126C822,73 788,36 754,16C707,-11 653,-25 591,-25C536,-25 487,-14 444,8C412,25 377,58 338,107l0,-514l-178,0l0,1469l178,0l0,-450C338,449 347,343 364,295C381,246 410,208 449,180C488,152 532,138 583,138C636,138 684,153 726,182C768,211 798,249 815,296C832,342 841,446 841,609l0,453z\" id=\"glyph26\"/>\n",
       "<glyph unicode=\"−\" horiz-adv-x=\"1196\" d=\"M1082,639l-968,0l0,168l968,0z\" id=\"glyph28\"/>\n",
       "<glyph unicode=\"σ\" horiz-adv-x=\"1264\" d=\"M1219,1062l0,-146l-289,0C1019,833 1063,705 1063,530C1063,340 1015,200 918,111C821,21 703,-24 564,-24C420,-24 301,23 208,116C115,209 68,348 68,531C68,720 117,859 214,950C311,1041 427,1086 564,1086C614,1086 671,1078 734,1062M561,937C474,937 401,903 342,835C283,767 253,665 253,530C253,395 282,294 340,226C397,158 472,124 564,124C661,124 738,160 795,231C852,302 880,402 880,531C880,649 854,746 802,823C749,899 669,937 561,937z\" id=\"glyph30\"/>\n",
       "</font>\n",
       "\n",
       "\t<g id=\"Layer_1\">\n",
       "\t<g id=\"colours\">\n",
       "\t\t<path fill=\"#2B8CBE\" d=\"M165.641,79.148c-4.144,7.859-8.322,15.692-12.687,23.42c-4.234,7.497-8.798,14.781-13.72,21.806    c-4.784,6.826-10.222,13.536-16.437,18.996c-0.743,0.653-1.495,1.292-2.253,1.922V164.8h45.976V77.483    C166.227,78.038,165.933,78.593,165.641,79.148z\" id=\"path34\"/>\n",
       "\t\t<path fill=\"#74A9CF\" d=\"M101.657,156.961c-7.855,3.18-16.052,4.927-24.396,5.979c-0.896,0.113-1.794,0.215-2.693,0.313v1.547    h45.977v-19.508C114.781,150.08,108.574,154.16,101.657,156.961z\" id=\"path36\"/>\n",
       "\t\t<path fill=\"#BDC9E1\" d=\"M53.484,164.48c-8.295,0.218-16.594,0.284-24.893,0.319h45.976v-1.547    C67.567,164.007,60.515,164.295,53.484,164.48z\" id=\"path38\"/>\n",
       "\t\t<path fill=\"#045A8D\" d=\"M212.103,20.831c-4.103,0.322-8.023,1.843-11.271,4.541c-3.339,2.773-6.319,5.849-9.025,9.298    c-5.224,6.657-9.685,14.041-13.813,21.477c-3.919,7.058-7.704,14.191-11.473,21.336V164.8h45.976V20.814    C212.365,20.819,212.234,20.82,212.103,20.831z\" id=\"path40\"/>\n",
       "\t\t<path fill=\"#045A8D\" d=\"M246.688,55.604c-4.303-7.503-8.707-15.093-14.175-21.75c-2.654-3.234-5.51-6.552-8.943-8.912    c-3.25-2.234-7.057-4.295-11.074-4.127V164.8h45.976V77.48C254.612,70.152,250.805,62.781,246.688,55.604z\" id=\"path42\"/>\n",
       "\t\t<path fill=\"#74A9CF\" d=\"M346.089,162.733c-7.962-1.005-16.086-2.795-23.49-6.08c-6.541-2.901-12.647-6.651-18.15-11.311V164.8    h45.976v-1.594C348.979,163.059,347.533,162.916,346.089,162.733z\" id=\"path44\"/>\n",
       "\t\t<path fill=\"#2B8CBE\" d=\"M301.594,142.806c-6.322-5.967-11.824-12.711-16.852-19.884c-4.902-6.994-9.317-14.354-13.531-21.817    c-4.343-7.69-8.463-15.513-12.585-23.333c-0.052-0.097-0.103-0.195-0.154-0.292v87.32h45.977v-19.457    C303.479,144.522,302.523,143.684,301.594,142.806z\" id=\"path46\"/>\n",
       "\t\t<path fill=\"#BDC9E1\" d=\"M395.16,164.795c-8.146-0.035-16.298-0.092-24.44-0.337c-6.782-0.204-13.548-0.563-20.296-1.252v1.594    H396.4C395.986,164.798,395.574,164.796,395.16,164.795z\" id=\"path48\"/>\n",
       "\t</g>\n",
       "\t<g id=\"white_lines\">\n",
       "\t\t\n",
       "\t\t\t<line fill=\"none\" stroke=\"#FFFFFF\" stroke-linejoin=\"round\" stroke-miterlimit=\"10\" x1=\"74.567\" y1=\"157.5\" x2=\"74.567\" y2=\"164.854\" id=\"line51\"/>\n",
       "\t\t\n",
       "\t\t\t<line fill=\"none\" stroke=\"#FFFFFF\" stroke-linejoin=\"round\" stroke-miterlimit=\"10\" x1=\"120.544\" y1=\"135\" x2=\"120.544\" y2=\"164.854\" id=\"line53\"/>\n",
       "\t\t\n",
       "\t\t\t<line fill=\"none\" stroke=\"#FFFFFF\" stroke-linejoin=\"round\" stroke-miterlimit=\"10\" x1=\"166.52\" y1=\"69\" x2=\"166.52\" y2=\"164.854\" id=\"line55\"/>\n",
       "\t\t\n",
       "\t\t\t<line fill=\"none\" stroke=\"#FFFFFF\" stroke-linejoin=\"round\" stroke-miterlimit=\"10\" x1=\"212.496\" y1=\"20.214\" x2=\"212.496\" y2=\"164.854\" id=\"line57\"/>\n",
       "\t\t\n",
       "\t\t\t<line fill=\"none\" stroke=\"#FFFFFF\" stroke-linejoin=\"round\" stroke-miterlimit=\"10\" x1=\"258.472\" y1=\"69\" x2=\"258.472\" y2=\"164.854\" id=\"line59\"/>\n",
       "\t\t\n",
       "\t\t\t<line fill=\"none\" stroke=\"#FFFFFF\" stroke-linejoin=\"round\" stroke-miterlimit=\"10\" x1=\"304.448\" y1=\"135\" x2=\"304.448\" y2=\"164.854\" id=\"line61\"/>\n",
       "\t\t\n",
       "\t\t\t<line fill=\"none\" stroke=\"#FFFFFF\" stroke-linejoin=\"round\" stroke-miterlimit=\"10\" x1=\"350.424\" y1=\"157.5\" x2=\"350.424\" y2=\"164.854\" id=\"line63\"/>\n",
       "\t</g>\n",
       "\t\n",
       "\t\t<line fill=\"none\" stroke=\"#000000\" stroke-width=\"0.75\" stroke-linejoin=\"round\" stroke-miterlimit=\"10\" x1=\"28.486\" y1=\"164.85\" x2=\"28.486\" y2=\"20.42\" id=\"line65\"/>\n",
       "\t\n",
       "\t\t<line fill=\"none\" stroke=\"#000000\" stroke-width=\"0.75\" stroke-linejoin=\"round\" stroke-miterlimit=\"10\" x1=\"28.486\" y1=\"164.85\" x2=\"21.59\" y2=\"164.85\" id=\"line67\"/>\n",
       "\t\n",
       "\t\t<line fill=\"none\" stroke=\"#000000\" stroke-width=\"0.75\" stroke-linejoin=\"round\" stroke-miterlimit=\"10\" x1=\"28.486\" y1=\"128.74\" x2=\"21.59\" y2=\"128.74\" id=\"line69\"/>\n",
       "\t\n",
       "\t\t<line fill=\"none\" stroke=\"#000000\" stroke-width=\"0.75\" stroke-linejoin=\"round\" stroke-miterlimit=\"10\" x1=\"28.486\" y1=\"92.63\" x2=\"21.59\" y2=\"92.63\" id=\"line71\"/>\n",
       "\t\n",
       "\t\t<line fill=\"none\" stroke=\"#000000\" stroke-width=\"0.75\" stroke-linejoin=\"round\" stroke-miterlimit=\"10\" x1=\"28.486\" y1=\"56.53\" x2=\"21.59\" y2=\"56.53\" id=\"line73\"/>\n",
       "\t\n",
       "\t\t<line fill=\"none\" stroke=\"#000000\" stroke-width=\"0.75\" stroke-linejoin=\"round\" stroke-miterlimit=\"10\" x1=\"28.486\" y1=\"20.42\" x2=\"21.59\" y2=\"20.42\" id=\"line75\"/>\n",
       "\t<text transform=\"matrix(-6.123032e-017 -1 1 -6.123032e-017 15.2158 173.1904)\" font-family=\"'ArialMT'\" font-size=\"12\" id=\"text77\">0.0</text>\n",
       "\n",
       "\t<text transform=\"matrix(-6.123032e-017 -1 1 -6.123032e-017 15.2148 137.0801)\" font-family=\"'ArialMT'\" font-size=\"12\" id=\"text79\">0.1</text>\n",
       "\n",
       "\t<text transform=\"matrix(-6.123032e-017 -1 1 -6.123032e-017 15.2148 100.9707)\" font-family=\"'ArialMT'\" font-size=\"12\" id=\"text81\">0.2</text>\n",
       "\n",
       "\t<text transform=\"matrix(-6.123032e-017 -1 1 -6.123032e-017 15.2148 64.8701)\" font-family=\"'ArialMT'\" font-size=\"12\" id=\"text83\">0.3</text>\n",
       "\n",
       "\t<text transform=\"matrix(-6.123032e-017 -1 1 -6.123032e-017 15.2144 28.7598)\" font-family=\"'ArialMT'\" font-size=\"12\" id=\"text85\">0.4</text>\n",
       "\n",
       "\t\n",
       "\t\t<line fill=\"none\" stroke=\"#000000\" stroke-width=\"0.75\" stroke-linecap=\"round\" stroke-linejoin=\"round\" stroke-miterlimit=\"10\" x1=\"28.448\" y1=\"164.85\" x2=\"396.325\" y2=\"164.85\" id=\"line87\"/>\n",
       "\t\n",
       "\t\t<path fill=\"none\" stroke=\"#000000\" stroke-width=\"0.75\" stroke-linecap=\"round\" stroke-linejoin=\"round\" stroke-miterlimit=\"10\" d=\"   M28.591,164.8c8.299-0.035,16.598-0.102,24.893-0.319c7.932-0.209,15.894-0.546,23.776-1.54c8.345-1.053,16.541-2.8,24.396-5.979   c7.827-3.169,14.747-7.974,21.14-13.591c6.215-5.46,11.653-12.17,16.437-18.996c4.922-7.024,9.486-14.309,13.72-21.806   c4.365-7.728,8.543-15.562,12.687-23.42c4.061-7.702,8.129-15.395,12.353-23.001c4.128-7.436,8.59-14.82,13.813-21.477   c2.706-3.449,5.687-6.525,9.025-9.298c3.247-2.698,7.168-4.219,11.271-4.541c4.161-0.326,8.111,1.804,11.468,4.111   c3.434,2.36,6.289,5.678,8.943,8.912c5.468,6.658,9.872,14.247,14.175,21.75c4.17,7.272,8.024,14.744,11.938,22.168   c4.122,7.82,8.242,15.642,12.585,23.333c4.214,7.463,8.629,14.823,13.531,21.817c5.027,7.173,10.529,13.917,16.852,19.884   c6.212,5.863,13.312,10.436,21.005,13.848c7.404,3.285,15.528,5.075,23.49,6.08c8.182,1.032,16.396,1.477,24.631,1.725   c8.143,0.245,16.294,0.302,24.44,0.337c0.414,0.001,0.826,0.003,1.24,0.005\" id=\"path89\"/>\n",
       "\t\n",
       "\t\t<line fill=\"none\" stroke=\"#000000\" stroke-width=\"0.75\" stroke-linejoin=\"round\" stroke-miterlimit=\"10\" x1=\"74.567\" y1=\"170.56\" x2=\"74.567\" y2=\"164.75\" id=\"line91\"/>\n",
       "\t\n",
       "\t\t<line fill=\"none\" stroke=\"#000000\" stroke-width=\"0.75\" stroke-linejoin=\"round\" stroke-miterlimit=\"10\" x1=\"120.544\" y1=\"170.56\" x2=\"120.544\" y2=\"164.75\" id=\"line93\"/>\n",
       "\t\n",
       "\t\t<line fill=\"none\" stroke=\"#000000\" stroke-width=\"0.75\" stroke-linejoin=\"round\" stroke-miterlimit=\"10\" x1=\"166.52\" y1=\"170.56\" x2=\"166.52\" y2=\"164.75\" id=\"line95\"/>\n",
       "\t\n",
       "\t\t<line fill=\"none\" stroke=\"#000000\" stroke-width=\"0.75\" stroke-linejoin=\"round\" stroke-miterlimit=\"10\" x1=\"212.496\" y1=\"170.56\" x2=\"212.496\" y2=\"164.75\" id=\"line97\"/>\n",
       "\t\n",
       "\t\t<line fill=\"none\" stroke=\"#000000\" stroke-width=\"0.75\" stroke-linejoin=\"round\" stroke-miterlimit=\"10\" x1=\"258.472\" y1=\"170.56\" x2=\"258.472\" y2=\"164.75\" id=\"line99\"/>\n",
       "\t\n",
       "\t\t<line fill=\"none\" stroke=\"#000000\" stroke-width=\"0.75\" stroke-linejoin=\"round\" stroke-miterlimit=\"10\" x1=\"304.448\" y1=\"170.56\" x2=\"304.448\" y2=\"164.75\" id=\"line101\"/>\n",
       "\t\n",
       "\t\t<line fill=\"none\" stroke=\"#000000\" stroke-width=\"0.75\" stroke-linejoin=\"round\" stroke-miterlimit=\"10\" x1=\"350.424\" y1=\"170.56\" x2=\"350.424\" y2=\"164.75\" id=\"line103\"/>\n",
       "\t<text transform=\"matrix(1 0 0 1 107.896 185.46)\" font-family=\"'ArialMT'\" font-size=\"12\" id=\"text105\">−2σ</text>\n",
       "\n",
       "\t<text transform=\"matrix(1 0 0 1 155.5142 185.46)\" font-family=\"'ArialMT'\" font-size=\"12\" id=\"text107\">−1σ</text>\n",
       "\n",
       "\t<text transform=\"matrix(1 0 0 1 252.7461 185.46)\" font-family=\"'ArialMT'\" font-size=\"12\" id=\"text109\">1σ</text>\n",
       "\n",
       "\t<text transform=\"matrix(1 0 0 1 61.3984 185.46)\" font-family=\"'ArialMT'\" font-size=\"12\" id=\"text111\">−3σ</text>\n",
       "\n",
       "\t<text transform=\"matrix(1 0 0 1 345.2275 185.46)\" font-family=\"'ArialMT'\" font-size=\"12\" id=\"text113\">3σ</text>\n",
       "\n",
       "\t<text font-size=\"12\" id=\"text115\" style=\"font-size:12px;font-family:ArialMT\" x=\"210.63715\" y=\"185.46001\">0</text>\n",
       "\n",
       "\t<text transform=\"matrix(1 0 0 1 299.4688 185.46)\" font-family=\"'ArialMT'\" font-size=\"12\" id=\"text117\">2σ</text>\n",
       "\n",
       "\t<text transform=\"matrix(1 0 0 1 174.2163 100.9683)\" fill=\"#FFFFFF\" font-family=\"'ArialMT'\" font-size=\"12\" id=\"text119\">34.1%</text>\n",
       "\n",
       "\t<text transform=\"matrix(1 0 0 1 219.0986 100.9683)\" fill=\"#FFFFFF\" font-family=\"'ArialMT'\" font-size=\"12\" id=\"text121\">34.1%</text>\n",
       "\n",
       "\t<text transform=\"matrix(1 0 0 1 264.7637 154.5986)\" fill=\"#FFFFFF\" font-family=\"'ArialMT'\" font-size=\"12\" id=\"text123\">13.6%</text>\n",
       "\n",
       "\t<text transform=\"matrix(1 0 0 1 313.2637 143.5986)\" font-family=\"'ArialMT'\" font-size=\"12\" id=\"text125\">2.1%</text>\n",
       "\n",
       "\t<text transform=\"matrix(1 0 0 1 127.3506 154.5986)\" fill=\"#FFFFFF\" font-family=\"'ArialMT'\" font-size=\"12\" id=\"text127\">13.6%</text>\n",
       "\n",
       "\t<line fill=\"none\" stroke=\"#000000\" x1=\"324.419\" y1=\"146.25\" x2=\"324.419\" y2=\"155.375\" id=\"line129\"/>\n",
       "\t<text transform=\"matrix(1 0 0 1 352.3467 151.0986)\" font-family=\"'ArialMT'\" font-size=\"12\" id=\"text131\">0.1%</text>\n",
       "\n",
       "\t<line fill=\"none\" stroke=\"#000000\" x1=\"363.211\" y1=\"153.75\" x2=\"363.211\" y2=\"162.875\" id=\"line133\"/>\n",
       "\t<text transform=\"matrix(1 0 0 1 50.3857 151.0986)\" font-family=\"'ArialMT'\" font-size=\"12\" id=\"text135\">0.1%</text>\n",
       "\n",
       "\t<line fill=\"none\" stroke=\"#000000\" x1=\"61.494\" y1=\"153.75\" x2=\"61.494\" y2=\"162.875\" id=\"line137\"/>\n",
       "\t<text transform=\"matrix(1 0 0 1 90.4683 143.5986)\" font-family=\"'ArialMT'\" font-size=\"12\" id=\"text139\">2.1%</text>\n",
       "\n",
       "\t<line fill=\"none\" stroke=\"#000000\" x1=\"100.428\" y1=\"146.25\" x2=\"100.428\" y2=\"155.375\" id=\"line141\"/>\n",
       "</g>\n",
       "<g id=\"Layer_2\">\n",
       "</g>\n",
       "</svg>"
      ],
      "text/plain": [
       "<IPython.core.display.SVG object>"
      ]
     },
     "metadata": {},
     "output_type": "display_data"
    }
   ],
   "source": [
    "from IPython.display import SVG, display\n",
    "display(SVG(\"Standard_deviation_diagram.svg\"))"
   ]
  },
  {
   "cell_type": "code",
   "execution_count": 13,
   "id": "8d27375c",
   "metadata": {},
   "outputs": [],
   "source": [
    "import seaborn as sns"
   ]
  },
  {
   "cell_type": "code",
   "execution_count": 17,
   "id": "546a6769",
   "metadata": {},
   "outputs": [
    {
     "data": {
      "text/plain": [
       "<AxesSubplot:ylabel='Density'>"
      ]
     },
     "execution_count": 17,
     "metadata": {},
     "output_type": "execute_result"
    },
    {
     "data": {
      "image/png": "[encoded data removed]",
      "text/plain": [
       "<Figure size 432x288 with 1 Axes>"
      ]
     },
     "metadata": {
      "needs_background": "light"
     },
     "output_type": "display_data"
    }
   ],
   "source": [
    "array2 = np.random.randn(1000)\n",
    "sns.kdeplot(array2)"
   ]
  },
  {
   "cell_type": "code",
   "execution_count": 18,
   "id": "f0257d48",
   "metadata": {},
   "outputs": [
    {
     "data": {
      "text/plain": [
       "1.0416659655433056"
      ]
     },
     "execution_count": 18,
     "metadata": {},
     "output_type": "execute_result"
    }
   ],
   "source": [
    "np.std(array2)"
   ]
  },
  {
   "cell_type": "code",
   "execution_count": null,
   "id": "d367a036",
   "metadata": {},
   "outputs": [],
   "source": [
    "-1.0416659655433056 to +1.0416659655433056 (+ data mean) >> 68.4%"
   ]
  },
  {
   "cell_type": "code",
   "execution_count": 19,
   "id": "e4506198",
   "metadata": {},
   "outputs": [
    {
     "data": {
      "text/plain": [
       "array([-7.11774199e-01, -1.55993091e+00,  1.02192584e+00,  2.26587646e-01,\n",
       "        3.23665983e-01,  1.49147587e+00, -7.00696522e-01,  1.82847334e+00,\n",
       "       -1.05230587e+00, -3.08080705e-01,  2.33984909e-01,  7.36880256e-01,\n",
       "       -1.87639397e-01,  6.06539702e-01, -1.51865962e+00, -5.41287659e-01,\n",
       "       -1.04309468e+00,  3.76069343e-03,  1.44938552e+00, -1.33468011e+00,\n",
       "       -4.67020610e-01,  8.97599934e-01,  4.46819807e-01,  5.65363052e-01,\n",
       "        3.16617784e-01,  1.17245489e+00,  8.08270609e-01,  8.52840708e-01,\n",
       "       -4.18247243e-01, -3.48043597e-01,  2.78701512e-01,  4.17045652e-01,\n",
       "        5.41116758e-01,  1.13708111e+00,  1.34516495e+00, -1.23570830e+00,\n",
       "        3.42844438e-01, -1.78016185e+00,  4.64145492e-01,  3.12717990e-01,\n",
       "        4.41828738e-02,  4.80188467e-01,  4.54017562e-01, -5.58066542e-01,\n",
       "        4.90437451e-01,  4.02087240e-01, -5.21965386e-01,  1.61244329e-01,\n",
       "       -1.77102964e-01, -7.02614594e-02, -4.66797255e-01,  7.31159206e-01,\n",
       "        9.41681916e-01,  1.18984000e-01, -8.47353541e-01,  5.96083666e-02,\n",
       "       -1.80724890e-01,  7.48407543e-02,  4.36045446e-01, -1.06849089e+00,\n",
       "        8.68129112e-02,  2.04817304e+00, -2.93019572e-01, -2.15705904e+00,\n",
       "        2.08404713e+00,  1.44167818e+00, -4.96794944e-01,  7.98729920e-01,\n",
       "       -1.96967057e-01, -1.30742685e-01,  2.54980726e-01, -4.28876399e-01,\n",
       "       -2.17527533e-01, -7.61651314e-01, -1.93939334e+00, -1.07035298e+00,\n",
       "       -1.16452387e+00,  1.79584239e-01,  6.83479395e-01, -1.10975123e+00,\n",
       "        2.96947076e-02, -1.64666078e+00, -8.61771553e-01, -4.47034269e-01,\n",
       "       -4.77617289e-01, -9.08188239e-01, -1.85383698e+00,  2.87464478e+00,\n",
       "       -1.37472505e+00,  3.20374577e-01, -7.19373812e-01,  6.21929455e-01,\n",
       "       -4.19875127e-01, -8.91343873e-01,  1.39291518e+00,  1.21124541e-01,\n",
       "        2.54604901e+00, -1.24799062e+00,  3.04809799e+00,  3.60520901e-01,\n",
       "        1.71257257e-01, -1.15397063e+00,  5.38762435e-02,  3.64070381e-01,\n",
       "       -1.69341300e+00, -3.39888054e-01, -1.76274815e+00, -1.04758597e+00,\n",
       "        9.07935261e-01,  6.72740038e-01,  5.23608650e-01,  8.90933652e-01,\n",
       "       -3.45063499e-01, -1.41630814e+00,  1.75393260e-01, -1.13789918e-01,\n",
       "        7.66263937e-01, -8.45396456e-01, -3.59682331e-01, -6.22042557e-01,\n",
       "        6.44783930e-01,  7.24038117e-01,  1.00367088e+00,  9.31219783e-01,\n",
       "        7.92682706e-01, -1.30132904e+00,  1.23308141e+00,  4.37003962e-01,\n",
       "        2.92727222e+00,  9.79753810e-01, -1.01286208e+00,  1.16107254e+00,\n",
       "       -8.70821572e-01, -1.55014827e+00, -1.41712641e+00,  2.69125155e-01,\n",
       "       -8.91095521e-01,  6.61457706e-01, -3.92301670e-01,  5.29302073e-01,\n",
       "        1.30987562e-01,  4.18246508e-01, -7.78104998e-01, -2.53029352e+00,\n",
       "        2.30642710e-01, -1.69992248e-02, -4.02898247e-01,  1.45024940e+00,\n",
       "        3.50066871e-01,  7.92631940e-01,  3.88877792e-01, -2.82239123e-01,\n",
       "       -1.32508251e-01, -5.42857265e-01,  6.12941665e-01, -9.96909303e-01,\n",
       "       -1.35068610e+00, -8.95779011e-01, -9.07771047e-01,  6.41193357e-01,\n",
       "       -1.73225045e+00, -8.50142285e-01,  3.94535673e-01,  8.56646792e-02,\n",
       "        3.11857761e-01, -7.70692393e-01,  1.15766637e+00, -9.26254256e-01,\n",
       "        1.81826626e+00, -4.90260049e-01, -2.10700357e+00,  1.00055859e+00,\n",
       "        2.98770331e-02, -9.10203697e-02, -3.18053019e-01, -1.59719772e-01,\n",
       "       -1.39999500e-01,  2.14135636e+00, -9.79064044e-01,  2.69277185e-01,\n",
       "        1.74169123e+00, -7.32366643e-01, -1.01301754e+00,  1.54994425e-03,\n",
       "        1.23262471e+00, -1.71706711e+00, -1.99004273e+00, -3.86951682e-01,\n",
       "       -9.14254787e-01, -1.14905371e+00, -7.46812356e-01,  1.31936484e+00,\n",
       "       -7.01275123e-01,  2.59193828e+00,  9.03811566e-01,  1.00181938e+00,\n",
       "       -4.93632389e-01,  6.44455484e-01, -6.28028390e-01, -9.41696799e-01,\n",
       "        3.33452364e-01, -7.76169335e-01,  1.06853580e+00, -3.36427280e-01,\n",
       "       -3.51737817e-02, -4.17200120e-01,  7.89994155e-01,  3.13981012e-01,\n",
       "        1.53969827e+00,  9.33091326e-01,  2.15970953e+00,  1.22506148e+00,\n",
       "       -9.96410965e-01, -2.54107945e-01,  1.73317936e+00, -6.90962418e-01,\n",
       "       -1.49896678e-01,  1.98700596e+00,  4.40941806e-01,  8.67713132e-01,\n",
       "        1.18723263e+00,  7.19850303e-01,  2.09874739e-02, -1.49093642e+00,\n",
       "       -6.47818495e-01,  1.84577855e+00,  7.87445608e-01, -3.80683956e-01,\n",
       "       -6.58490405e-01, -3.38851811e-02, -1.61706972e+00,  2.81398848e-01,\n",
       "       -4.26213441e-01, -5.08664507e-01, -1.85448687e-01,  5.26328783e-01,\n",
       "       -3.52496776e-01,  5.18707315e-01, -8.15219362e-01, -2.92165632e-01,\n",
       "       -2.25281846e-01,  2.34630706e+00,  5.41210118e-01, -7.73771500e-01,\n",
       "       -5.81942228e-01, -2.61137224e-01, -1.24182051e-01,  2.78122566e-01,\n",
       "        1.57378765e-01,  1.21746253e+00,  7.14018433e-01,  1.83251958e+00,\n",
       "       -1.06199372e-01, -7.23039038e-01, -5.88132406e-01,  1.47329571e+00,\n",
       "       -1.49484603e+00,  1.77344153e+00, -4.04312176e-01,  6.73833383e-01,\n",
       "        1.58880929e+00, -6.01326081e-01, -2.11660591e+00, -6.83021959e-01,\n",
       "        9.20180791e-01,  4.08118633e-01,  1.06433878e-01,  2.07922526e-01,\n",
       "       -3.77585214e-01,  1.27642446e+00, -8.04400194e-01, -6.73593641e-01,\n",
       "        2.76614128e-01,  9.26432754e-01,  3.13644953e-01,  1.41494302e+00,\n",
       "        8.47897452e-01, -2.17157876e+00, -1.15147124e+00,  2.24101943e+00,\n",
       "        1.15003250e+00,  1.34139221e+00,  8.10656380e-01, -7.55503625e-01,\n",
       "        6.93431904e-01,  2.12803295e-01, -1.61281518e-01, -8.05768507e-01,\n",
       "       -1.54564809e+00, -3.05979164e-01, -1.54617345e+00,  1.20214399e+00,\n",
       "       -2.12508613e-01,  6.03760021e-01, -1.89582165e-01,  2.76804119e-01,\n",
       "       -1.41216160e+00, -1.07509867e+00,  1.16472299e+00, -4.32972640e-01,\n",
       "       -4.02212409e-01,  4.21026424e-01, -4.29140126e-01,  1.19106805e+00,\n",
       "       -1.26819096e+00,  4.46502306e-01,  1.20248617e+00,  1.02134754e+00,\n",
       "        5.70405124e-02, -4.63953769e-01, -1.31992355e+00,  1.11179686e+00,\n",
       "       -9.69321985e-01,  3.42901749e-01,  8.37406311e-01,  9.85270171e-02,\n",
       "       -4.80786099e-01,  5.32934821e-01, -8.70460313e-01,  8.10010949e-01,\n",
       "        7.00790526e-01,  3.25872936e-01, -2.88062855e-01,  3.29119381e-01,\n",
       "       -7.35077927e-01, -1.20121557e+00, -1.82970924e+00, -1.05123634e+00,\n",
       "       -1.06085566e+00,  4.93764414e-01,  1.33065921e+00, -3.48075534e-01,\n",
       "       -7.76724976e-01, -3.31818877e-01, -2.07333511e+00,  2.12124884e-01,\n",
       "       -5.92313198e-01,  8.41847866e-01,  1.09862162e+00, -6.28404041e-02,\n",
       "        7.35785210e-01,  1.17708711e+00, -7.58853271e-01, -6.14482129e-01,\n",
       "       -2.05091019e+00, -8.51519069e-02,  5.49031777e-01, -6.54384675e-01,\n",
       "       -1.21785705e-01,  1.39509353e+00, -6.91449284e-01, -1.17547954e+00,\n",
       "        6.23871573e-01, -4.22468016e-01, -9.24200366e-01,  3.42434036e-01,\n",
       "        2.71752891e-01, -1.28710056e-01, -4.74843118e-01,  4.78848236e-01,\n",
       "        1.46129321e+00,  8.72957476e-01,  4.93530142e-01,  1.62301585e+00,\n",
       "       -3.43950049e-01, -7.03140426e-01,  1.68717048e-01,  2.25130207e+00,\n",
       "       -1.61052794e-01,  1.11378418e+00, -7.99564034e-03,  1.49000611e+00,\n",
       "       -7.19270119e-01, -7.84793847e-01,  2.13763207e+00, -8.22036547e-02,\n",
       "        6.04738292e-01, -5.34270654e-02, -1.25371144e+00,  1.01118518e+00,\n",
       "       -5.84760176e-01,  7.96121617e-01, -1.50194738e+00, -9.07149965e-01,\n",
       "        1.51430301e+00,  1.24714458e-01,  4.29648627e-02, -6.87186714e-01,\n",
       "        3.48905167e-02, -7.85771135e-01,  1.73054568e+00, -3.46469456e-01,\n",
       "        1.18634003e+00,  1.60924203e+00, -4.10021001e-02, -9.87965105e-01,\n",
       "       -3.40799425e-01,  1.75419319e+00,  9.17642497e-03, -1.74232150e+00,\n",
       "        3.09563411e-01,  1.01424795e+00,  1.24044939e+00, -2.70091236e+00,\n",
       "       -1.11171031e+00, -1.83327887e+00, -1.12475102e+00,  1.42572400e+00,\n",
       "        3.88094511e-01, -3.94311405e-01,  8.55566189e-01,  8.12643328e-01,\n",
       "        4.35568691e-01,  5.52721751e-01,  1.20967810e+00,  4.80111191e-01,\n",
       "       -1.54243296e+00,  8.47300454e-01,  8.93954488e-01,  7.30792675e-01,\n",
       "        1.74557614e+00, -1.24653607e+00,  2.06180946e+00, -8.25999943e-01,\n",
       "        1.90566913e+00, -2.92967981e-01, -4.28317903e-01,  6.46424938e-01,\n",
       "       -2.30601051e-01,  7.25116859e-02,  4.79901471e-01, -6.90932424e-02,\n",
       "       -6.47811353e-01, -4.84472559e-01, -7.56685761e-02, -4.30211981e-01,\n",
       "       -1.91200196e+00,  1.80925283e+00, -4.47429103e-01,  9.23071334e-01,\n",
       "       -2.56635697e-01,  1.25560009e+00, -1.52554125e+00,  2.47060841e+00,\n",
       "        2.92144397e-01, -4.99946172e-01, -7.50754776e-01, -1.91138967e+00,\n",
       "       -6.14891508e-01, -1.83739406e-01, -7.33540417e-01,  9.39571521e-01,\n",
       "       -5.49906219e-01, -4.80178612e-01,  9.11225178e-01, -1.00861977e+00,\n",
       "       -1.20796280e+00,  4.90550309e-01,  9.71682519e-02, -3.28682923e-02,\n",
       "       -2.07870578e-01, -1.22248082e+00,  4.59101254e-01,  9.33112984e-02,\n",
       "       -1.78647535e+00, -7.62260548e-02,  6.73763537e-01, -2.01454146e+00,\n",
       "       -1.87720813e-01,  9.73897281e-02, -8.68431894e-01,  9.04250050e-01,\n",
       "       -1.99967441e+00,  3.66144973e-01, -9.58628574e-01, -7.15127903e-01,\n",
       "        9.06851805e-01, -8.93575417e-01,  1.77349777e-01,  1.48207942e-01,\n",
       "        1.20531312e-01, -2.13145056e-02, -3.89622872e-01, -1.25253158e+00,\n",
       "       -1.16246312e+00, -2.03652639e-02,  7.74821110e-01,  1.77767171e+00,\n",
       "        9.53943508e-01,  1.49290964e+00,  1.72381290e-01, -1.97755177e+00,\n",
       "       -5.79097471e-01,  2.01750773e+00,  1.31713527e-01,  8.92857636e-01,\n",
       "       -1.04376846e+00,  1.72234763e+00,  1.19522324e+00,  4.90940528e-01,\n",
       "        1.24745391e-01,  1.01554555e-02, -8.28176724e-01,  9.73323175e-01,\n",
       "        1.76972318e+00,  7.53741517e-01, -1.54216057e-01, -1.36491277e-02,\n",
       "       -8.05371943e-01,  1.20850459e+00,  6.94948782e-01, -1.57867154e+00,\n",
       "       -9.24845407e-01,  7.11815458e-01,  5.14373688e-01, -1.13098761e+00,\n",
       "       -4.11838262e-01,  4.45193145e-01, -1.04628901e+00, -3.40248952e+00,\n",
       "        1.78188455e+00, -6.00479113e-01, -3.21820453e-02, -1.92180713e-02,\n",
       "       -1.00353029e+00,  1.85361908e+00,  5.00810659e-01,  6.23424207e-01,\n",
       "        9.61880177e-01, -1.40508086e-01,  1.09751665e+00,  3.94219223e-01,\n",
       "       -2.03158326e+00, -6.07475086e-01,  1.27373696e-01,  5.82393028e-01,\n",
       "        1.17895213e+00, -8.79820634e-01, -2.94553254e+00, -3.45006147e-01,\n",
       "        3.49275580e-02, -1.69008979e-01,  9.52357647e-01,  8.52181809e-01,\n",
       "        5.86846265e-01, -3.08410736e-01, -3.79344611e-01, -1.99928969e-01,\n",
       "        1.40134209e+00, -3.82032350e-02, -1.17738814e+00, -5.86257467e-01,\n",
       "       -1.14833731e+00,  8.20413153e-01, -1.40220134e-01,  1.17171255e+00,\n",
       "        1.48276276e+00, -7.30807846e-01, -1.25087825e+00, -3.21687378e-01,\n",
       "       -4.54401426e-01, -1.13284080e+00, -2.50736991e+00,  2.19089607e-01,\n",
       "        2.46713299e-01, -5.61476457e-01,  4.07393628e-01, -1.90992207e+00,\n",
       "        4.54035148e-02,  9.42214666e-01,  1.69498362e+00, -4.00369940e-01,\n",
       "       -8.92652274e-01,  3.31123392e-01,  9.07640106e-01,  1.76066608e+00,\n",
       "       -5.74108918e-01, -9.88421291e-02, -8.87885887e-01, -4.01413991e-01,\n",
       "        2.08935917e+00,  1.77659903e+00,  1.60327877e+00, -3.20656901e-01,\n",
       "        2.03209834e+00, -1.18780102e+00,  1.81500338e+00,  1.80550340e-01,\n",
       "        5.83290385e-02, -6.63682091e-01, -8.76588227e-01, -2.53810915e+00,\n",
       "        2.65051038e+00,  4.54949986e-01, -3.32085604e-02,  6.70097525e-01,\n",
       "       -1.86829504e+00,  2.12343544e+00,  4.94839901e-01, -1.31093729e+00,\n",
       "        7.45086911e-01,  4.00362565e-02, -1.32758102e+00,  1.38540725e+00,\n",
       "       -2.08943327e+00,  3.13771811e-01,  6.39780565e-01, -7.07346908e-02,\n",
       "       -7.17003491e-01, -7.19777132e-01,  5.07112653e-02,  1.41846644e+00,\n",
       "       -2.73306866e-01, -2.43798516e+00, -4.18640295e-01, -3.61316111e-01,\n",
       "        1.17729346e+00, -8.72207943e-01,  1.25073311e+00,  8.10092454e-02,\n",
       "        1.36060762e-01, -1.74534849e+00, -3.42027041e-01, -8.61037469e-01,\n",
       "        9.63679096e-01,  2.94707628e+00, -2.98077675e-01, -1.27909105e-01,\n",
       "       -5.84504283e-01,  9.99249804e-01, -1.14919550e+00, -3.66308616e-01,\n",
       "        2.38341276e+00,  1.51735577e-01,  1.21545605e+00,  7.18368280e-01,\n",
       "        8.47048560e-02, -4.72346216e-01, -2.17697562e-01,  1.32625890e-01,\n",
       "       -1.55791945e+00, -9.61900690e-01, -8.85252361e-01, -7.19391398e-02,\n",
       "       -2.29244062e-01,  3.08332359e-01, -1.12793846e+00, -2.10818473e+00,\n",
       "       -2.03926783e+00, -1.13483423e+00,  2.90690362e-01,  1.61095738e-01,\n",
       "        1.73028930e-01, -1.56591984e+00,  1.26028125e+00, -1.21082309e+00,\n",
       "       -3.88051058e-01,  1.19379562e+00,  9.02454286e-01, -3.87421304e-01,\n",
       "        2.89049764e-01,  6.75355090e-01, -4.92181580e-01, -6.33675126e-01,\n",
       "        6.33901059e-01, -1.29417108e+00,  6.93061728e-01, -1.18759908e+00,\n",
       "       -3.94288511e-01,  2.10012938e+00,  3.08344306e-01,  1.20773897e+00,\n",
       "       -5.22617846e-01,  8.00281751e-01,  1.24572478e+00,  1.09212906e-01,\n",
       "       -2.28221815e-01, -1.72829072e+00, -2.32343325e-01, -1.89188557e+00,\n",
       "        1.70666981e-01, -1.95332730e+00,  7.45583905e-01,  7.11316886e-01,\n",
       "       -1.39934701e+00,  3.53302265e-02,  7.12088582e-01, -8.62849977e-03,\n",
       "        3.66504177e-01,  6.44029335e-01, -3.93312353e-01,  3.29971547e-01,\n",
       "       -6.81046430e-01, -1.10685977e+00,  7.29790959e-01, -3.98878104e-01,\n",
       "       -2.77117526e+00,  2.14018614e+00,  2.53351282e-01,  4.80724360e-01,\n",
       "        2.38058817e-01, -5.88688242e-01,  6.55180930e-01, -3.47636205e-01,\n",
       "       -7.59791151e-01,  6.57753456e-01,  3.42046349e-01, -4.71599131e-01,\n",
       "        2.43461908e-01, -5.07991287e-01,  8.33633422e-01, -8.17093553e-02,\n",
       "       -9.56404986e-02, -3.31858051e-01,  8.79210022e-01,  9.42783700e-02,\n",
       "       -6.43695920e-01,  1.34804685e+00,  9.02386990e-02, -2.53085361e+00,\n",
       "       -6.50095048e-01, -8.02741650e-01,  2.98617605e-01, -1.14221314e+00,\n",
       "        1.24509414e+00, -1.02588236e+00, -1.85913191e+00,  7.76574050e-02,\n",
       "       -4.17280171e-01, -9.32233197e-01, -7.41114077e-02, -1.86802522e+00,\n",
       "        7.55704971e-01, -6.29648873e-01,  1.42708692e+00,  1.54993635e+00,\n",
       "       -1.25451952e+00, -1.20229527e-01, -1.07825479e+00,  1.16346569e+00,\n",
       "        1.75809208e+00,  1.35095848e+00, -8.43408305e-01,  2.33999806e-01,\n",
       "        1.72305697e+00, -1.16414924e+00, -1.83400569e+00,  1.24309766e-01,\n",
       "       -2.15717990e-01, -1.98895937e-01,  8.15272632e-01, -4.83676531e-02,\n",
       "       -9.56993905e-02,  1.07719779e+00,  3.09909626e-02,  1.67650827e+00,\n",
       "       -1.88887047e-01,  4.41495299e-01,  1.41971536e+00, -1.70951156e+00,\n",
       "        2.62597367e-01,  1.07462347e+00,  5.67702787e-01, -2.28300995e-01,\n",
       "       -7.28121759e-01,  2.33091342e+00, -9.51567219e-01,  1.01812856e+00,\n",
       "       -6.99712129e-02,  2.74223312e-01,  1.13477067e+00, -5.31256141e-01,\n",
       "       -7.91644004e-01,  1.90391182e+00,  5.26215161e-01, -1.44174186e+00,\n",
       "       -3.33389301e-01, -1.22449095e+00, -2.34367016e+00,  9.56867946e-01,\n",
       "       -8.40961832e-01,  1.21315832e+00, -5.03970225e-01,  1.09672291e+00,\n",
       "        1.78122136e+00, -9.44480564e-01, -9.69671894e-01, -1.18034542e+00,\n",
       "        7.71483152e-01, -1.11324506e+00,  4.42957287e-01,  1.77233825e-01,\n",
       "       -1.71981334e+00, -2.34658120e-02,  3.43517926e-01, -3.36793701e-01,\n",
       "       -6.54728818e-01, -1.00580653e+00,  1.03599998e+00,  5.11382245e-01,\n",
       "       -1.05086526e+00,  3.94651837e-01, -6.87909970e-01,  3.89396649e-01,\n",
       "       -1.30361517e+00, -2.71047143e-01, -6.81280130e-01, -3.12972121e-01,\n",
       "        2.69867690e+00, -1.26884393e+00,  9.85351706e-02,  1.62987521e-01,\n",
       "        4.22300069e-01,  1.00233972e+00, -8.21059682e-01,  5.10529920e-01,\n",
       "        4.61306054e-01, -9.86339301e-01,  9.00843639e-01,  1.23045913e+00,\n",
       "        9.43572808e-01, -6.61664912e-01,  8.78450551e-02, -3.92369677e-01,\n",
       "       -6.98484655e-01,  2.88871407e-01,  1.35288580e+00, -1.89698281e+00,\n",
       "        5.21062645e-01,  1.57998730e+00,  9.14432690e-01, -1.79336413e-01,\n",
       "       -9.80352899e-01, -4.66676636e-01,  1.93627958e+00, -1.00046163e+00,\n",
       "        4.64588691e-01, -8.40987009e-02,  1.70441862e+00, -3.81500922e-01,\n",
       "       -6.27625640e-02,  9.00550394e-01,  1.23721320e+00,  6.44180358e-01,\n",
       "       -1.42857894e+00,  1.26848387e+00, -1.90895279e-01,  2.21351799e+00,\n",
       "       -1.85129416e+00,  2.94100780e-01,  4.02411255e-01, -8.83206898e-01,\n",
       "       -7.97495126e-01,  2.22593868e+00,  6.99391250e-01,  3.39320921e-02,\n",
       "       -9.14434387e-01, -3.00145756e+00, -6.97553672e-02, -2.72649934e-01,\n",
       "       -5.61208437e-01, -4.41988792e-01,  6.79489542e-01,  9.23857803e-01,\n",
       "       -6.75637673e-01,  8.34001374e-01, -1.24445413e-01,  8.87203757e-01,\n",
       "       -3.26533100e-01,  1.24756648e+00,  1.19438969e+00,  1.14229922e+00,\n",
       "       -1.26119220e-01,  5.20571201e-01, -4.01810051e-01,  3.17397003e-01,\n",
       "       -1.28936011e+00, -4.51591140e-01,  1.58106462e+00, -1.66308303e+00,\n",
       "        1.81222335e+00,  2.59454034e-03,  1.61328711e+00, -2.21621673e+00,\n",
       "        3.51397830e-01,  1.39159839e+00, -7.02107129e-01,  7.30715134e-01,\n",
       "       -1.18717888e+00,  4.11166029e-01, -1.04519863e+00,  6.81188590e-01,\n",
       "        1.00487904e+00,  2.45189434e-01, -1.47693859e+00, -4.27744746e-01,\n",
       "       -1.55470776e+00, -1.15388241e+00,  9.85523106e-01,  2.99779130e-01,\n",
       "       -2.98445060e-01,  4.46143080e-01, -7.00597160e-01, -7.15196778e-01,\n",
       "        1.35685310e-01,  1.85619384e-02,  3.52966351e-02, -1.08793681e-02,\n",
       "        2.67497324e+00, -8.91565000e-01,  5.74726562e-01, -1.02974347e+00,\n",
       "        5.05599153e-01, -3.57887181e+00, -1.06936690e+00, -8.89547513e-01,\n",
       "        1.40702999e+00, -1.16013843e+00,  1.70114776e-01,  5.03208589e-02,\n",
       "       -9.90932932e-01, -2.01058553e+00,  2.07012730e-01, -1.81352407e+00,\n",
       "       -1.25389357e+00,  1.46230314e+00, -2.19087448e-01,  1.93256305e+00,\n",
       "        6.46301974e-01,  9.98920686e-01, -6.53452000e-01, -1.64506269e+00,\n",
       "        5.10860699e-01, -2.09316489e+00,  1.28704799e+00,  1.31351565e+00,\n",
       "        1.33176348e+00, -9.03114970e-01,  5.96532096e-01,  9.91795010e-02,\n",
       "       -1.21354607e-01,  4.87023381e-02, -1.05305719e+00,  4.72847528e-01,\n",
       "       -1.75236604e+00, -5.28266114e-01, -5.56827575e-02,  1.58131495e+00,\n",
       "       -8.38370190e-01, -9.14865724e-01, -1.06977153e+00, -3.36547151e-01,\n",
       "       -2.41268916e+00, -2.60522961e-01, -9.84743555e-01,  1.03378864e+00,\n",
       "       -6.75514907e-01,  7.87564838e-02, -3.48043669e-01, -3.94895075e-01,\n",
       "        1.88771815e+00, -1.85630539e-01, -9.45636036e-01, -1.33651561e-02,\n",
       "        6.33491516e-01,  9.15371461e-01, -6.78172806e-01, -1.51131921e+00,\n",
       "       -1.21148366e+00,  1.21704054e+00,  8.35047422e-01,  8.31531742e-01,\n",
       "        6.80816420e-01, -4.79458310e-01,  6.06139526e-01,  2.45251258e-01,\n",
       "        2.58874015e-01,  2.33938523e-01, -1.69305256e-01,  8.18813992e-01,\n",
       "        1.38037179e+00, -2.00309717e-01, -1.08855982e+00,  1.20344360e+00,\n",
       "        1.96120788e+00,  7.75471319e-01,  4.84900129e-01, -9.59049220e-02,\n",
       "       -9.10351595e-01,  1.48468825e+00,  8.73976350e-01,  6.87257917e-01,\n",
       "        5.13496739e-01, -5.00185028e-01,  4.63564625e-01,  4.01852655e-01,\n",
       "        8.12758376e-01, -6.81330388e-01, -2.08374117e-01, -2.92664241e-01])"
      ]
     },
     "execution_count": 19,
     "metadata": {},
     "output_type": "execute_result"
    }
   ],
   "source": [
    "array2"
   ]
  },
  {
   "cell_type": "code",
   "execution_count": null,
   "id": "ab005595",
   "metadata": {},
   "outputs": [],
   "source": [
    "Standard Deviation of Hight of adult men\n",
    "Natural Phenomenon is generally normally distributed\n",
    "Standard Deviation will provide an information about deviations of values about its mean\n",
    "\n",
    "The average height of Indian male is 60 inches, with standard deviation of 3 inches  \n",
    "\n",
    "1 standard deviation = 3 inches\n",
    "2 standard deviation = 6 inches\n",
    "3 standard deviation = 9 inches\n",
    "4 standard deviation = 12 inches\n",
    "\n",
    "average = 60 >> \n",
    "with 1 standard deviation >> 57 --- 63  >> 68.2%  1000000\n",
    "with 2 standard deviation >> 54 --- 66  >> 95.4%\n",
    "with 3 standard deviation >> 51 --- 69  >> 99.7%"
   ]
  },
  {
   "cell_type": "code",
   "execution_count": 20,
   "id": "ce3ca5be",
   "metadata": {},
   "outputs": [
    {
     "data": {
      "image/svg+xml": [
       "<svg xmlns:dc=\"http://purl.org/dc/elements/1.1/\" xmlns:cc=\"http://creativecommons.org/ns#\" xmlns:rdf=\"http://www.w3.org/1999/02/22-rdf-syntax-ns#\" xmlns:svg=\"http://www.w3.org/2000/svg\" xmlns=\"http://www.w3.org/2000/svg\" xmlns:sodipodi=\"http://sodipodi.sourceforge.net/DTD/sodipodi-0.dtd\" xmlns:inkscape=\"http://www.inkscape.org/namespaces/inkscape\" version=\"1.1\" width=\"400\" height=\"200\" viewBox=\"0 0 400 200\" overflow=\"visible\" enable-background=\"new 0 0 400 200\" xml:space=\"preserve\" id=\"svg2\" inkscape:version=\"0.48.1 \" sodipodi:docname=\"Standard_deviation_diagram.svg\"><metadata id=\"metadata148\"><rdf:RDF><cc:Work rdf:about=\"\"><dc:format>image/svg+xml</dc:format><dc:type rdf:resource=\"http://purl.org/dc/dcmitype/StillImage\"/><dc:title/></cc:Work></rdf:RDF></metadata><defs id=\"defs146\"/><sodipodi:namedview pagecolor=\"#ffffff\" bordercolor=\"#666666\" borderopacity=\"1\" objecttolerance=\"10\" gridtolerance=\"10\" guidetolerance=\"10\" inkscape:pageopacity=\"0\" inkscape:pageshadow=\"2\" inkscape:window-width=\"1035\" inkscape:window-height=\"842\" id=\"namedview144\" showgrid=\"false\" inkscape:zoom=\"1.275\" inkscape:cx=\"200\" inkscape:cy=\"100\" inkscape:window-x=\"58\" inkscape:window-y=\"87\" inkscape:window-maximized=\"0\" inkscape:current-layer=\"svg2\"/>\n",
       "<font horiz-adv-x=\"2048\" id=\"font4\">\n",
       "<!-- Arial(R) Trademark of The Monotype Corporation plc registered in the US Pat &amp; TM Off. and elsewhere. -->\n",
       "<!-- Copyright: Copyright 2007 Adobe System Incorporated. All rights reserved. -->\n",
       "<font-face font-family=\"ArialMT\" units-per-em=\"2048\" underline-position=\"-217\" underline-thickness=\"150\" id=\"font-face6\"/>\n",
       "<missing-glyph horiz-adv-x=\"1536\" d=\"M256,0l0,1280l1024,0l0,-1280M288,32l960,0l0,1216l-960,0z\" id=\"missing-glyph8\"/>\n",
       "<glyph unicode=\"%\" horiz-adv-x=\"1821\" d=\"M119,1114C119,1219 145,1308 198,1381C251,1454 327,1491 427,1491C519,1491 595,1458 656,1393C716,1327 746,1230 746,1103C746,979 716,884 655,817C594,750 518,716 429,716C340,716 267,749 208,815C149,881 119,981 119,1114M432,1367C387,1367 350,1348 321,1309C291,1270 276,1199 276,1096C276,1002 291,936 321,898C351,859 388,840 432,840C477,840 515,859 545,898C574,937 589,1007 589,1110C589,1205 574,1271 544,1310C514,1348 477,1367 432,1367M433,-54l802,1545l146,0l-799,-1545M1067,344C1067,449 1093,539 1146,612C1199,685 1275,721 1376,721C1468,721 1544,688 1605,623C1665,557 1695,460 1695,333C1695,209 1665,114 1604,47C1543,-20 1467,-54 1377,-54C1288,-54 1215,-21 1156,46C1097,112 1067,211 1067,344M1381,597C1336,597 1298,578 1269,539C1239,500 1224,429 1224,326C1224,233 1239,167 1269,128C1299,89 1336,70 1380,70C1426,70 1464,89 1494,128C1523,167 1538,237 1538,340C1538,435 1523,501 1493,540C1463,578 1426,597 1381,597z\" id=\"glyph10\"/>\n",
       "<glyph unicode=\".\" horiz-adv-x=\"569\" d=\"M186,0l0,205l205,0l0,-205z\" id=\"glyph12\"/>\n",
       "<glyph unicode=\"0\" horiz-adv-x=\"1139\" d=\"M85,723C85,896 103,1036 139,1142C174,1247 227,1329 298,1386C368,1443 456,1472 563,1472C642,1472 711,1456 770,1425C829,1393 878,1347 917,1288C956,1228 986,1155 1008,1070C1030,984 1041,868 1041,723C1041,551 1023,412 988,307C953,201 900,119 830,62C759,4 670,-25 563,-25C422,-25 311,26 230,127C133,249 85,448 85,723M270,723C270,482 298,322 355,243C411,163 480,123 563,123C646,123 715,163 772,243C828,323 856,483 856,723C856,964 828,1125 772,1204C715,1283 645,1323 561,1323C478,1323 412,1288 363,1218C301,1129 270,964 270,723z\" id=\"glyph14\"/>\n",
       "<glyph unicode=\"1\" horiz-adv-x=\"1139\" d=\"M763,0l-180,0l0,1147C540,1106 483,1064 413,1023C342,982 279,951 223,930l0,174C324,1151 412,1209 487,1276C562,1343 616,1409 647,1472l116,0z\" id=\"glyph16\"/>\n",
       "<glyph unicode=\"2\" horiz-adv-x=\"1139\" d=\"M1031,173l0,-173l-969,0C61,43 68,85 83,125C108,191 147,256 202,320C256,384 334,458 437,542C596,673 704,776 760,853C816,929 844,1001 844,1069C844,1140 819,1201 768,1250C717,1299 650,1323 568,1323C481,1323 412,1297 360,1245C308,1193 282,1121 281,1029l-185,19C109,1186 156,1291 239,1364C322,1436 433,1472 572,1472C713,1472 824,1433 906,1355C988,1277 1029,1180 1029,1065C1029,1006 1017,949 993,892C969,835 929,776 874,713C818,650 725,564 596,455C488,364 419,303 388,271C357,238 332,206 312,173z\" id=\"glyph18\"/>\n",
       "<glyph unicode=\"3\" horiz-adv-x=\"1139\" d=\"M86,387l180,24C287,309 322,236 372,191C421,146 482,123 553,123C638,123 709,152 768,211C826,270 855,342 855,429C855,512 828,580 774,634C720,687 651,714 568,714C534,714 492,707 441,694l20,158C473,851 483,850 490,850C567,850 636,870 697,910C758,950 789,1012 789,1095C789,1161 767,1216 722,1259C677,1302 620,1324 549,1324C479,1324 421,1302 374,1258C327,1214 297,1148 284,1060l-180,32C126,1213 176,1306 254,1373C332,1439 429,1472 545,1472C625,1472 699,1455 766,1421C833,1386 885,1339 921,1280C956,1221 974,1158 974,1091C974,1028 957,970 923,918C889,866 839,825 772,794C859,774 926,733 974,670C1022,607 1046,528 1046,433C1046,305 999,197 906,108C813,19 695,-26 552,-26C423,-26 317,12 232,89C147,166 98,265 86,387z\" id=\"glyph20\"/>\n",
       "<glyph unicode=\"4\" horiz-adv-x=\"1139\" d=\"M662,0l0,351l-636,0l0,165l669,950l147,0l0,-950l198,0l0,-165l-198,0l0,-351M662,516l0,661l-459,-661z\" id=\"glyph22\"/>\n",
       "<glyph unicode=\"6\" horiz-adv-x=\"1139\" d=\"M1019,1107l-179,-14C824,1164 801,1215 772,1247C723,1298 663,1324 592,1324C535,1324 484,1308 441,1276C384,1235 340,1174 307,1095C274,1016 257,903 256,756C299,822 352,871 415,903C478,935 543,951 612,951C732,951 834,907 919,819C1003,730 1045,616 1045,476C1045,384 1025,299 986,220C946,141 891,80 822,38C753,-4 674,-25 586,-25C436,-25 314,30 219,141C124,251 77,433 77,686C77,969 129,1175 234,1304C325,1416 448,1472 603,1472C718,1472 813,1440 887,1375C960,1310 1004,1221 1019,1107M284,475C284,413 297,354 324,297C350,240 387,197 434,168C481,138 531,123 583,123C659,123 724,154 779,215C834,276 861,360 861,465C861,566 834,646 780,705C726,763 658,792 576,792C495,792 426,763 369,705C312,646 284,570 284,475z\" id=\"glyph24\"/>\n",
       "<glyph unicode=\"µ\" horiz-adv-x=\"1180\" d=\"M1018,1062l0,-1062l-161,0l0,126C822,73 788,36 754,16C707,-11 653,-25 591,-25C536,-25 487,-14 444,8C412,25 377,58 338,107l0,-514l-178,0l0,1469l178,0l0,-450C338,449 347,343 364,295C381,246 410,208 449,180C488,152 532,138 583,138C636,138 684,153 726,182C768,211 798,249 815,296C832,342 841,446 841,609l0,453z\" id=\"glyph26\"/>\n",
       "<glyph unicode=\"−\" horiz-adv-x=\"1196\" d=\"M1082,639l-968,0l0,168l968,0z\" id=\"glyph28\"/>\n",
       "<glyph unicode=\"σ\" horiz-adv-x=\"1264\" d=\"M1219,1062l0,-146l-289,0C1019,833 1063,705 1063,530C1063,340 1015,200 918,111C821,21 703,-24 564,-24C420,-24 301,23 208,116C115,209 68,348 68,531C68,720 117,859 214,950C311,1041 427,1086 564,1086C614,1086 671,1078 734,1062M561,937C474,937 401,903 342,835C283,767 253,665 253,530C253,395 282,294 340,226C397,158 472,124 564,124C661,124 738,160 795,231C852,302 880,402 880,531C880,649 854,746 802,823C749,899 669,937 561,937z\" id=\"glyph30\"/>\n",
       "</font>\n",
       "\n",
       "\t<g id=\"Layer_1\">\n",
       "\t<g id=\"colours\">\n",
       "\t\t<path fill=\"#2B8CBE\" d=\"M165.641,79.148c-4.144,7.859-8.322,15.692-12.687,23.42c-4.234,7.497-8.798,14.781-13.72,21.806    c-4.784,6.826-10.222,13.536-16.437,18.996c-0.743,0.653-1.495,1.292-2.253,1.922V164.8h45.976V77.483    C166.227,78.038,165.933,78.593,165.641,79.148z\" id=\"path34\"/>\n",
       "\t\t<path fill=\"#74A9CF\" d=\"M101.657,156.961c-7.855,3.18-16.052,4.927-24.396,5.979c-0.896,0.113-1.794,0.215-2.693,0.313v1.547    h45.977v-19.508C114.781,150.08,108.574,154.16,101.657,156.961z\" id=\"path36\"/>\n",
       "\t\t<path fill=\"#BDC9E1\" d=\"M53.484,164.48c-8.295,0.218-16.594,0.284-24.893,0.319h45.976v-1.547    C67.567,164.007,60.515,164.295,53.484,164.48z\" id=\"path38\"/>\n",
       "\t\t<path fill=\"#045A8D\" d=\"M212.103,20.831c-4.103,0.322-8.023,1.843-11.271,4.541c-3.339,2.773-6.319,5.849-9.025,9.298    c-5.224,6.657-9.685,14.041-13.813,21.477c-3.919,7.058-7.704,14.191-11.473,21.336V164.8h45.976V20.814    C212.365,20.819,212.234,20.82,212.103,20.831z\" id=\"path40\"/>\n",
       "\t\t<path fill=\"#045A8D\" d=\"M246.688,55.604c-4.303-7.503-8.707-15.093-14.175-21.75c-2.654-3.234-5.51-6.552-8.943-8.912    c-3.25-2.234-7.057-4.295-11.074-4.127V164.8h45.976V77.48C254.612,70.152,250.805,62.781,246.688,55.604z\" id=\"path42\"/>\n",
       "\t\t<path fill=\"#74A9CF\" d=\"M346.089,162.733c-7.962-1.005-16.086-2.795-23.49-6.08c-6.541-2.901-12.647-6.651-18.15-11.311V164.8    h45.976v-1.594C348.979,163.059,347.533,162.916,346.089,162.733z\" id=\"path44\"/>\n",
       "\t\t<path fill=\"#2B8CBE\" d=\"M301.594,142.806c-6.322-5.967-11.824-12.711-16.852-19.884c-4.902-6.994-9.317-14.354-13.531-21.817    c-4.343-7.69-8.463-15.513-12.585-23.333c-0.052-0.097-0.103-0.195-0.154-0.292v87.32h45.977v-19.457    C303.479,144.522,302.523,143.684,301.594,142.806z\" id=\"path46\"/>\n",
       "\t\t<path fill=\"#BDC9E1\" d=\"M395.16,164.795c-8.146-0.035-16.298-0.092-24.44-0.337c-6.782-0.204-13.548-0.563-20.296-1.252v1.594    H396.4C395.986,164.798,395.574,164.796,395.16,164.795z\" id=\"path48\"/>\n",
       "\t</g>\n",
       "\t<g id=\"white_lines\">\n",
       "\t\t\n",
       "\t\t\t<line fill=\"none\" stroke=\"#FFFFFF\" stroke-linejoin=\"round\" stroke-miterlimit=\"10\" x1=\"74.567\" y1=\"157.5\" x2=\"74.567\" y2=\"164.854\" id=\"line51\"/>\n",
       "\t\t\n",
       "\t\t\t<line fill=\"none\" stroke=\"#FFFFFF\" stroke-linejoin=\"round\" stroke-miterlimit=\"10\" x1=\"120.544\" y1=\"135\" x2=\"120.544\" y2=\"164.854\" id=\"line53\"/>\n",
       "\t\t\n",
       "\t\t\t<line fill=\"none\" stroke=\"#FFFFFF\" stroke-linejoin=\"round\" stroke-miterlimit=\"10\" x1=\"166.52\" y1=\"69\" x2=\"166.52\" y2=\"164.854\" id=\"line55\"/>\n",
       "\t\t\n",
       "\t\t\t<line fill=\"none\" stroke=\"#FFFFFF\" stroke-linejoin=\"round\" stroke-miterlimit=\"10\" x1=\"212.496\" y1=\"20.214\" x2=\"212.496\" y2=\"164.854\" id=\"line57\"/>\n",
       "\t\t\n",
       "\t\t\t<line fill=\"none\" stroke=\"#FFFFFF\" stroke-linejoin=\"round\" stroke-miterlimit=\"10\" x1=\"258.472\" y1=\"69\" x2=\"258.472\" y2=\"164.854\" id=\"line59\"/>\n",
       "\t\t\n",
       "\t\t\t<line fill=\"none\" stroke=\"#FFFFFF\" stroke-linejoin=\"round\" stroke-miterlimit=\"10\" x1=\"304.448\" y1=\"135\" x2=\"304.448\" y2=\"164.854\" id=\"line61\"/>\n",
       "\t\t\n",
       "\t\t\t<line fill=\"none\" stroke=\"#FFFFFF\" stroke-linejoin=\"round\" stroke-miterlimit=\"10\" x1=\"350.424\" y1=\"157.5\" x2=\"350.424\" y2=\"164.854\" id=\"line63\"/>\n",
       "\t</g>\n",
       "\t\n",
       "\t\t<line fill=\"none\" stroke=\"#000000\" stroke-width=\"0.75\" stroke-linejoin=\"round\" stroke-miterlimit=\"10\" x1=\"28.486\" y1=\"164.85\" x2=\"28.486\" y2=\"20.42\" id=\"line65\"/>\n",
       "\t\n",
       "\t\t<line fill=\"none\" stroke=\"#000000\" stroke-width=\"0.75\" stroke-linejoin=\"round\" stroke-miterlimit=\"10\" x1=\"28.486\" y1=\"164.85\" x2=\"21.59\" y2=\"164.85\" id=\"line67\"/>\n",
       "\t\n",
       "\t\t<line fill=\"none\" stroke=\"#000000\" stroke-width=\"0.75\" stroke-linejoin=\"round\" stroke-miterlimit=\"10\" x1=\"28.486\" y1=\"128.74\" x2=\"21.59\" y2=\"128.74\" id=\"line69\"/>\n",
       "\t\n",
       "\t\t<line fill=\"none\" stroke=\"#000000\" stroke-width=\"0.75\" stroke-linejoin=\"round\" stroke-miterlimit=\"10\" x1=\"28.486\" y1=\"92.63\" x2=\"21.59\" y2=\"92.63\" id=\"line71\"/>\n",
       "\t\n",
       "\t\t<line fill=\"none\" stroke=\"#000000\" stroke-width=\"0.75\" stroke-linejoin=\"round\" stroke-miterlimit=\"10\" x1=\"28.486\" y1=\"56.53\" x2=\"21.59\" y2=\"56.53\" id=\"line73\"/>\n",
       "\t\n",
       "\t\t<line fill=\"none\" stroke=\"#000000\" stroke-width=\"0.75\" stroke-linejoin=\"round\" stroke-miterlimit=\"10\" x1=\"28.486\" y1=\"20.42\" x2=\"21.59\" y2=\"20.42\" id=\"line75\"/>\n",
       "\t<text transform=\"matrix(-6.123032e-017 -1 1 -6.123032e-017 15.2158 173.1904)\" font-family=\"'ArialMT'\" font-size=\"12\" id=\"text77\">0.0</text>\n",
       "\n",
       "\t<text transform=\"matrix(-6.123032e-017 -1 1 -6.123032e-017 15.2148 137.0801)\" font-family=\"'ArialMT'\" font-size=\"12\" id=\"text79\">0.1</text>\n",
       "\n",
       "\t<text transform=\"matrix(-6.123032e-017 -1 1 -6.123032e-017 15.2148 100.9707)\" font-family=\"'ArialMT'\" font-size=\"12\" id=\"text81\">0.2</text>\n",
       "\n",
       "\t<text transform=\"matrix(-6.123032e-017 -1 1 -6.123032e-017 15.2148 64.8701)\" font-family=\"'ArialMT'\" font-size=\"12\" id=\"text83\">0.3</text>\n",
       "\n",
       "\t<text transform=\"matrix(-6.123032e-017 -1 1 -6.123032e-017 15.2144 28.7598)\" font-family=\"'ArialMT'\" font-size=\"12\" id=\"text85\">0.4</text>\n",
       "\n",
       "\t\n",
       "\t\t<line fill=\"none\" stroke=\"#000000\" stroke-width=\"0.75\" stroke-linecap=\"round\" stroke-linejoin=\"round\" stroke-miterlimit=\"10\" x1=\"28.448\" y1=\"164.85\" x2=\"396.325\" y2=\"164.85\" id=\"line87\"/>\n",
       "\t\n",
       "\t\t<path fill=\"none\" stroke=\"#000000\" stroke-width=\"0.75\" stroke-linecap=\"round\" stroke-linejoin=\"round\" stroke-miterlimit=\"10\" d=\"   M28.591,164.8c8.299-0.035,16.598-0.102,24.893-0.319c7.932-0.209,15.894-0.546,23.776-1.54c8.345-1.053,16.541-2.8,24.396-5.979   c7.827-3.169,14.747-7.974,21.14-13.591c6.215-5.46,11.653-12.17,16.437-18.996c4.922-7.024,9.486-14.309,13.72-21.806   c4.365-7.728,8.543-15.562,12.687-23.42c4.061-7.702,8.129-15.395,12.353-23.001c4.128-7.436,8.59-14.82,13.813-21.477   c2.706-3.449,5.687-6.525,9.025-9.298c3.247-2.698,7.168-4.219,11.271-4.541c4.161-0.326,8.111,1.804,11.468,4.111   c3.434,2.36,6.289,5.678,8.943,8.912c5.468,6.658,9.872,14.247,14.175,21.75c4.17,7.272,8.024,14.744,11.938,22.168   c4.122,7.82,8.242,15.642,12.585,23.333c4.214,7.463,8.629,14.823,13.531,21.817c5.027,7.173,10.529,13.917,16.852,19.884   c6.212,5.863,13.312,10.436,21.005,13.848c7.404,3.285,15.528,5.075,23.49,6.08c8.182,1.032,16.396,1.477,24.631,1.725   c8.143,0.245,16.294,0.302,24.44,0.337c0.414,0.001,0.826,0.003,1.24,0.005\" id=\"path89\"/>\n",
       "\t\n",
       "\t\t<line fill=\"none\" stroke=\"#000000\" stroke-width=\"0.75\" stroke-linejoin=\"round\" stroke-miterlimit=\"10\" x1=\"74.567\" y1=\"170.56\" x2=\"74.567\" y2=\"164.75\" id=\"line91\"/>\n",
       "\t\n",
       "\t\t<line fill=\"none\" stroke=\"#000000\" stroke-width=\"0.75\" stroke-linejoin=\"round\" stroke-miterlimit=\"10\" x1=\"120.544\" y1=\"170.56\" x2=\"120.544\" y2=\"164.75\" id=\"line93\"/>\n",
       "\t\n",
       "\t\t<line fill=\"none\" stroke=\"#000000\" stroke-width=\"0.75\" stroke-linejoin=\"round\" stroke-miterlimit=\"10\" x1=\"166.52\" y1=\"170.56\" x2=\"166.52\" y2=\"164.75\" id=\"line95\"/>\n",
       "\t\n",
       "\t\t<line fill=\"none\" stroke=\"#000000\" stroke-width=\"0.75\" stroke-linejoin=\"round\" stroke-miterlimit=\"10\" x1=\"212.496\" y1=\"170.56\" x2=\"212.496\" y2=\"164.75\" id=\"line97\"/>\n",
       "\t\n",
       "\t\t<line fill=\"none\" stroke=\"#000000\" stroke-width=\"0.75\" stroke-linejoin=\"round\" stroke-miterlimit=\"10\" x1=\"258.472\" y1=\"170.56\" x2=\"258.472\" y2=\"164.75\" id=\"line99\"/>\n",
       "\t\n",
       "\t\t<line fill=\"none\" stroke=\"#000000\" stroke-width=\"0.75\" stroke-linejoin=\"round\" stroke-miterlimit=\"10\" x1=\"304.448\" y1=\"170.56\" x2=\"304.448\" y2=\"164.75\" id=\"line101\"/>\n",
       "\t\n",
       "\t\t<line fill=\"none\" stroke=\"#000000\" stroke-width=\"0.75\" stroke-linejoin=\"round\" stroke-miterlimit=\"10\" x1=\"350.424\" y1=\"170.56\" x2=\"350.424\" y2=\"164.75\" id=\"line103\"/>\n",
       "\t<text transform=\"matrix(1 0 0 1 107.896 185.46)\" font-family=\"'ArialMT'\" font-size=\"12\" id=\"text105\">−2σ</text>\n",
       "\n",
       "\t<text transform=\"matrix(1 0 0 1 155.5142 185.46)\" font-family=\"'ArialMT'\" font-size=\"12\" id=\"text107\">−1σ</text>\n",
       "\n",
       "\t<text transform=\"matrix(1 0 0 1 252.7461 185.46)\" font-family=\"'ArialMT'\" font-size=\"12\" id=\"text109\">1σ</text>\n",
       "\n",
       "\t<text transform=\"matrix(1 0 0 1 61.3984 185.46)\" font-family=\"'ArialMT'\" font-size=\"12\" id=\"text111\">−3σ</text>\n",
       "\n",
       "\t<text transform=\"matrix(1 0 0 1 345.2275 185.46)\" font-family=\"'ArialMT'\" font-size=\"12\" id=\"text113\">3σ</text>\n",
       "\n",
       "\t<text font-size=\"12\" id=\"text115\" style=\"font-size:12px;font-family:ArialMT\" x=\"210.63715\" y=\"185.46001\">0</text>\n",
       "\n",
       "\t<text transform=\"matrix(1 0 0 1 299.4688 185.46)\" font-family=\"'ArialMT'\" font-size=\"12\" id=\"text117\">2σ</text>\n",
       "\n",
       "\t<text transform=\"matrix(1 0 0 1 174.2163 100.9683)\" fill=\"#FFFFFF\" font-family=\"'ArialMT'\" font-size=\"12\" id=\"text119\">34.1%</text>\n",
       "\n",
       "\t<text transform=\"matrix(1 0 0 1 219.0986 100.9683)\" fill=\"#FFFFFF\" font-family=\"'ArialMT'\" font-size=\"12\" id=\"text121\">34.1%</text>\n",
       "\n",
       "\t<text transform=\"matrix(1 0 0 1 264.7637 154.5986)\" fill=\"#FFFFFF\" font-family=\"'ArialMT'\" font-size=\"12\" id=\"text123\">13.6%</text>\n",
       "\n",
       "\t<text transform=\"matrix(1 0 0 1 313.2637 143.5986)\" font-family=\"'ArialMT'\" font-size=\"12\" id=\"text125\">2.1%</text>\n",
       "\n",
       "\t<text transform=\"matrix(1 0 0 1 127.3506 154.5986)\" fill=\"#FFFFFF\" font-family=\"'ArialMT'\" font-size=\"12\" id=\"text127\">13.6%</text>\n",
       "\n",
       "\t<line fill=\"none\" stroke=\"#000000\" x1=\"324.419\" y1=\"146.25\" x2=\"324.419\" y2=\"155.375\" id=\"line129\"/>\n",
       "\t<text transform=\"matrix(1 0 0 1 352.3467 151.0986)\" font-family=\"'ArialMT'\" font-size=\"12\" id=\"text131\">0.1%</text>\n",
       "\n",
       "\t<line fill=\"none\" stroke=\"#000000\" x1=\"363.211\" y1=\"153.75\" x2=\"363.211\" y2=\"162.875\" id=\"line133\"/>\n",
       "\t<text transform=\"matrix(1 0 0 1 50.3857 151.0986)\" font-family=\"'ArialMT'\" font-size=\"12\" id=\"text135\">0.1%</text>\n",
       "\n",
       "\t<line fill=\"none\" stroke=\"#000000\" x1=\"61.494\" y1=\"153.75\" x2=\"61.494\" y2=\"162.875\" id=\"line137\"/>\n",
       "\t<text transform=\"matrix(1 0 0 1 90.4683 143.5986)\" font-family=\"'ArialMT'\" font-size=\"12\" id=\"text139\">2.1%</text>\n",
       "\n",
       "\t<line fill=\"none\" stroke=\"#000000\" x1=\"100.428\" y1=\"146.25\" x2=\"100.428\" y2=\"155.375\" id=\"line141\"/>\n",
       "</g>\n",
       "<g id=\"Layer_2\">\n",
       "</g>\n",
       "</svg>"
      ],
      "text/plain": [
       "<IPython.core.display.SVG object>"
      ]
     },
     "metadata": {},
     "output_type": "display_data"
    }
   ],
   "source": [
    "display(SVG(\"Standard_deviation_diagram.svg\"))"
   ]
  },
  {
   "cell_type": "code",
   "execution_count": 21,
   "id": "bf7b4cb1",
   "metadata": {},
   "outputs": [
    {
     "data": {
      "text/plain": [
       "95.4"
      ]
     },
     "execution_count": 21,
     "metadata": {},
     "output_type": "execute_result"
    }
   ],
   "source": [
    "34.1*2+13.6*2"
   ]
  },
  {
   "cell_type": "code",
   "execution_count": null,
   "id": "38afcec8",
   "metadata": {},
   "outputs": [],
   "source": []
  }
 ],
 "metadata": {
  "kernelspec": {
   "display_name": "Python 3 (ipykernel)",
   "language": "python",
   "name": "python3"
  },
  "language_info": {
   "codemirror_mode": {
    "name": "ipython",
    "version": 3
   },
   "file_extension": ".py",
   "mimetype": "text/x-python",
   "name": "python",
   "nbconvert_exporter": "python",
   "pygments_lexer": "ipython3",
   "version": "3.10.5"
  }
 },
 "nbformat": 4,
 "nbformat_minor": 5
}
