{
 "cells": [
  {
   "cell_type": "code",
   "execution_count": 13,
   "id": "59263c7c",
   "metadata": {},
   "outputs": [],
   "source": [
    "def func1(name:str):\n",
    "    return f\"Hello, {name}!\""
   ]
  },
  {
   "cell_type": "code",
   "execution_count": 14,
   "id": "5634cd7d",
   "metadata": {},
   "outputs": [
    {
     "data": {
      "text/plain": [
       "'Hello, Class!'"
      ]
     },
     "execution_count": 14,
     "metadata": {},
     "output_type": "execute_result"
    }
   ],
   "source": [
    "func1(\"Class\")"
   ]
  },
  {
   "cell_type": "code",
   "execution_count": 15,
   "id": "381f20a6",
   "metadata": {},
   "outputs": [
    {
     "name": "stdout",
     "output_type": "stream",
     "text": [
      "Hello, Good Morning!\n"
     ]
    }
   ],
   "source": [
    "print(func1(\"Good Morning\"))"
   ]
  },
  {
   "cell_type": "code",
   "execution_count": 16,
   "id": "3f0282fe",
   "metadata": {},
   "outputs": [
    {
     "name": "stdout",
     "output_type": "stream",
     "text": [
      "Hello, Ramesh!\n"
     ]
    }
   ],
   "source": [
    "returned_value = func1(\"Ramesh\")\n",
    "print(returned_value)"
   ]
  },
  {
   "cell_type": "code",
   "execution_count": 17,
   "id": "940d687a",
   "metadata": {},
   "outputs": [],
   "source": [
    "def func(function1):                   # This function takes a function as an argurment\n",
    "    return function1(\"Dear Learner\")   # Here the function (func) will return a function (function1) which has been passed as an \n",
    "                                       #  argument with it's  own argument \"Dear Learner\""
   ]
  },
  {
   "cell_type": "code",
   "execution_count": 18,
   "id": "e18407ca",
   "metadata": {},
   "outputs": [
    {
     "data": {
      "text/plain": [
       "'Hello, Dear Learner!'"
      ]
     },
     "execution_count": 18,
     "metadata": {},
     "output_type": "execute_result"
    }
   ],
   "source": [
    "func(func1)"
   ]
  },
  {
   "cell_type": "code",
   "execution_count": 19,
   "id": "2afb7020",
   "metadata": {},
   "outputs": [],
   "source": [
    "def func2(name):\n",
    "    return f\"{name}, How are you?!\""
   ]
  },
  {
   "cell_type": "code",
   "execution_count": 20,
   "id": "fca1fcc7",
   "metadata": {},
   "outputs": [
    {
     "data": {
      "text/plain": [
       "'Dear Learner, How are you?!'"
      ]
     },
     "execution_count": 20,
     "metadata": {},
     "output_type": "execute_result"
    }
   ],
   "source": [
    "func(func2)"
   ]
  },
  {
   "cell_type": "code",
   "execution_count": null,
   "id": "cc7e5ddd",
   "metadata": {},
   "outputs": [],
   "source": [
    "# In python, functions are first class objects.. ie they can passed to another function as an argument "
   ]
  },
  {
   "cell_type": "code",
   "execution_count": 21,
   "id": "0fe9fc9e",
   "metadata": {},
   "outputs": [
    {
     "data": {
      "text/plain": [
       "'Suresh, How are you?!'"
      ]
     },
     "execution_count": 21,
     "metadata": {},
     "output_type": "execute_result"
    }
   ],
   "source": [
    "x = \"Suresh\"\n",
    "func2(x) # << here x is an object which holds a string"
   ]
  },
  {
   "cell_type": "code",
   "execution_count": 22,
   "id": "128c46ab",
   "metadata": {},
   "outputs": [
    {
     "data": {
      "text/plain": [
       "'Dear Learner, How are you?!'"
      ]
     },
     "execution_count": 22,
     "metadata": {},
     "output_type": "execute_result"
    }
   ],
   "source": [
    "func(func2) ## << Here func2 is an object thas is being passed as an argument to other function func"
   ]
  },
  {
   "cell_type": "code",
   "execution_count": 23,
   "id": "6d973aaa",
   "metadata": {},
   "outputs": [],
   "source": [
    "def function1():\n",
    "    print(\"First Function >> Parent Function\")\n",
    "    \n",
    "    def function2():\n",
    "        print(\"Second Function >> Child Function\")\n",
    "        \n",
    "    def function3():\n",
    "        print(\"Third Function >> Child Function\")\n",
    "    \n",
    "    function2()\n",
    "    function3()"
   ]
  },
  {
   "cell_type": "code",
   "execution_count": 25,
   "id": "f20901b7",
   "metadata": {},
   "outputs": [
    {
     "data": {
      "text/plain": [
       "<function __main__.function1()>"
      ]
     },
     "execution_count": 25,
     "metadata": {},
     "output_type": "execute_result"
    }
   ],
   "source": [
    "function1  ## This will not call the function i.e. execute the function \n",
    "           ## Rather it will return a function object"
   ]
  },
  {
   "cell_type": "code",
   "execution_count": 26,
   "id": "78650a64",
   "metadata": {},
   "outputs": [
    {
     "name": "stdout",
     "output_type": "stream",
     "text": [
      "First Function >> Parent Function\n",
      "Second Function >> Child Function\n",
      "Third Function >> Child Function\n"
     ]
    }
   ],
   "source": [
    "function1() ## This will execute the function1"
   ]
  },
  {
   "cell_type": "code",
   "execution_count": 27,
   "id": "e9d0c944",
   "metadata": {},
   "outputs": [],
   "source": [
    "## We will define a function which will return a function based on given condition\n",
    "def func(n:int):\n",
    "    \n",
    "    def func1():\n",
    "        return \"Velocity\"\n",
    "    \n",
    "    def func2():\n",
    "        return \"Python and Data Science\"\n",
    "    \n",
    "    if n == 1:\n",
    "        return func1\n",
    "    else:\n",
    "        return func2"
   ]
  },
  {
   "cell_type": "code",
   "execution_count": 28,
   "id": "381d9e5a",
   "metadata": {},
   "outputs": [],
   "source": [
    "a = func(1) ## Here a will be the object of function 1"
   ]
  },
  {
   "cell_type": "code",
   "execution_count": 29,
   "id": "4883ce30",
   "metadata": {},
   "outputs": [
    {
     "data": {
      "text/plain": [
       "<function __main__.func.<locals>.func1()>"
      ]
     },
     "execution_count": 29,
     "metadata": {},
     "output_type": "execute_result"
    }
   ],
   "source": [
    "a"
   ]
  },
  {
   "cell_type": "code",
   "execution_count": 30,
   "id": "e59120b5",
   "metadata": {},
   "outputs": [],
   "source": [
    "b = func(2) ## Here b will be the object of function 2"
   ]
  },
  {
   "cell_type": "code",
   "execution_count": 31,
   "id": "53ffea56",
   "metadata": {},
   "outputs": [
    {
     "data": {
      "text/plain": [
       "<function __main__.func.<locals>.func2()>"
      ]
     },
     "execution_count": 31,
     "metadata": {},
     "output_type": "execute_result"
    }
   ],
   "source": [
    "b"
   ]
  },
  {
   "cell_type": "code",
   "execution_count": 32,
   "id": "0ecf7c25",
   "metadata": {},
   "outputs": [
    {
     "data": {
      "text/plain": [
       "'Velocity'"
      ]
     },
     "execution_count": 32,
     "metadata": {},
     "output_type": "execute_result"
    }
   ],
   "source": [
    "a() ## Here we are executing the function object"
   ]
  },
  {
   "cell_type": "code",
   "execution_count": 33,
   "id": "a0c15d9f",
   "metadata": {},
   "outputs": [
    {
     "data": {
      "text/plain": [
       "'Python and Data Science'"
      ]
     },
     "execution_count": 33,
     "metadata": {},
     "output_type": "execute_result"
    }
   ],
   "source": [
    "b() ## Here we are executing the function object"
   ]
  },
  {
   "cell_type": "code",
   "execution_count": null,
   "id": "67db5325",
   "metadata": {},
   "outputs": [],
   "source": [
    "Decorators in Pythons are used to modify the behaviour of a function without changing it permanently \n",
    "It basically wraps the another function and since the function callable it returns a callable function"
   ]
  },
  {
   "cell_type": "code",
   "execution_count": 34,
   "id": "ca64aa9b",
   "metadata": {},
   "outputs": [],
   "source": [
    "def function1(function):  ## >> Outer Function\n",
    "    \n",
    "    def wrapper():             ## >> Inner Function\n",
    "        print(\"Hi! the passed function will be executed now\")\n",
    "        print(\"********************************************\")\n",
    "        function()\n",
    "        print(\"********************************************\")\n",
    "    return wrapper"
   ]
  },
  {
   "cell_type": "code",
   "execution_count": 35,
   "id": "65f3cd82",
   "metadata": {},
   "outputs": [],
   "source": [
    "def function2():\n",
    "    print(\"Executing Function 2!\")"
   ]
  },
  {
   "cell_type": "code",
   "execution_count": 36,
   "id": "86d1cc18",
   "metadata": {},
   "outputs": [
    {
     "name": "stdout",
     "output_type": "stream",
     "text": [
      "Executing Function 2!\n"
     ]
    }
   ],
   "source": [
    "function2()"
   ]
  },
  {
   "cell_type": "code",
   "execution_count": 37,
   "id": "bb9ba9f1",
   "metadata": {},
   "outputs": [
    {
     "data": {
      "text/plain": [
       "<function __main__.function1.<locals>.wrapper()>"
      ]
     },
     "execution_count": 37,
     "metadata": {},
     "output_type": "execute_result"
    }
   ],
   "source": [
    "function1(function2) ## Function1 is a decorator function, which returns a wrapper object"
   ]
  },
  {
   "cell_type": "code",
   "execution_count": 38,
   "id": "f03c1bdf",
   "metadata": {},
   "outputs": [],
   "source": [
    "function3 = function1(function2)"
   ]
  },
  {
   "cell_type": "code",
   "execution_count": 39,
   "id": "6854c5a5",
   "metadata": {},
   "outputs": [
    {
     "name": "stdout",
     "output_type": "stream",
     "text": [
      "Hi! the passed function will be executed now\n",
      "********************************************\n",
      "Executing Function 2!\n",
      "********************************************\n"
     ]
    }
   ],
   "source": [
    "function3()"
   ]
  },
  {
   "cell_type": "code",
   "execution_count": 40,
   "id": "cd18e846",
   "metadata": {},
   "outputs": [
    {
     "name": "stdout",
     "output_type": "stream",
     "text": [
      "Hi! the passed function will be executed now\n",
      "********************************************\n",
      "Executing Function 2!\n",
      "********************************************\n"
     ]
    }
   ],
   "source": [
    "function1(function2)()"
   ]
  },
  {
   "cell_type": "code",
   "execution_count": 41,
   "id": "e9998d85",
   "metadata": {},
   "outputs": [],
   "source": [
    "@function1\n",
    "def function4():\n",
    "    print(\"Function 4 is being executed!\")"
   ]
  },
  {
   "cell_type": "code",
   "execution_count": 42,
   "id": "9d5a04c2",
   "metadata": {},
   "outputs": [
    {
     "name": "stdout",
     "output_type": "stream",
     "text": [
      "Hi! the passed function will be executed now\n",
      "********************************************\n",
      "Function 4 is being executed!\n",
      "********************************************\n"
     ]
    }
   ],
   "source": [
    "function4()"
   ]
  },
  {
   "cell_type": "code",
   "execution_count": 43,
   "id": "e118ee67",
   "metadata": {},
   "outputs": [],
   "source": [
    "@function1\n",
    "def function4(x):\n",
    "    print(\"Function 4 is being executed!\")\n",
    "    print(x)"
   ]
  },
  {
   "cell_type": "code",
   "execution_count": 44,
   "id": "4e1574c5",
   "metadata": {},
   "outputs": [
    {
     "ename": "TypeError",
     "evalue": "function1.<locals>.wrapper() takes 0 positional arguments but 1 was given",
     "output_type": "error",
     "traceback": [
      "\u001b[1;31m---------------------------------------------------------------------------\u001b[0m",
      "\u001b[1;31mTypeError\u001b[0m                                 Traceback (most recent call last)",
      "Input \u001b[1;32mIn [44]\u001b[0m, in \u001b[0;36m<cell line: 1>\u001b[1;34m()\u001b[0m\n\u001b[1;32m----> 1\u001b[0m \u001b[43mfunction4\u001b[49m\u001b[43m(\u001b[49m\u001b[38;5;124;43m\"\u001b[39;49m\u001b[38;5;124;43mSuresh\u001b[39;49m\u001b[38;5;124;43m\"\u001b[39;49m\u001b[43m)\u001b[49m\n",
      "\u001b[1;31mTypeError\u001b[0m: function1.<locals>.wrapper() takes 0 positional arguments but 1 was given"
     ]
    }
   ],
   "source": [
    "function4(\"Suresh\")"
   ]
  },
  {
   "cell_type": "code",
   "execution_count": 45,
   "id": "a39c43b7",
   "metadata": {},
   "outputs": [],
   "source": [
    "def function1(function):  ## >> Outer Function\n",
    "    \n",
    "    def wrapper(value):             ## >> Inner Function\n",
    "        print(\"Hi! the passed function will be executed now\")\n",
    "        print(\"********************************************\")\n",
    "        function(value)\n",
    "        print(\"********************************************\")\n",
    "    return wrapper"
   ]
  },
  {
   "cell_type": "code",
   "execution_count": 46,
   "id": "95de3f91",
   "metadata": {},
   "outputs": [],
   "source": [
    "@function1\n",
    "def function4(x):\n",
    "    print(\"Function 4 is being executed!\")\n",
    "    print(x)"
   ]
  },
  {
   "cell_type": "code",
   "execution_count": 47,
   "id": "b94d6925",
   "metadata": {},
   "outputs": [
    {
     "name": "stdout",
     "output_type": "stream",
     "text": [
      "Hi! the passed function will be executed now\n",
      "********************************************\n",
      "Function 4 is being executed!\n",
      "Suresh\n",
      "********************************************\n"
     ]
    }
   ],
   "source": [
    "function4(\"Suresh\")"
   ]
  },
  {
   "cell_type": "code",
   "execution_count": 48,
   "id": "d26caef3",
   "metadata": {},
   "outputs": [
    {
     "name": "stdout",
     "output_type": "stream",
     "text": [
      "Hi! the passed function will be executed now\n",
      "********************************************\n",
      "Function 4 is being executed!\n",
      "Ram Ram!\n",
      "********************************************\n"
     ]
    }
   ],
   "source": [
    "function4(\"Ram Ram!\")"
   ]
  },
  {
   "cell_type": "code",
   "execution_count": 50,
   "id": "ce27bc61",
   "metadata": {},
   "outputs": [],
   "source": [
    "@function1\n",
    "def function5(x,y):\n",
    "    print(\"Function 5 is being executed!\")\n",
    "    print(x)\n",
    "    print(y)"
   ]
  },
  {
   "cell_type": "code",
   "execution_count": 51,
   "id": "648b8f49",
   "metadata": {},
   "outputs": [
    {
     "ename": "TypeError",
     "evalue": "function1.<locals>.wrapper() takes 1 positional argument but 2 were given",
     "output_type": "error",
     "traceback": [
      "\u001b[1;31m---------------------------------------------------------------------------\u001b[0m",
      "\u001b[1;31mTypeError\u001b[0m                                 Traceback (most recent call last)",
      "Input \u001b[1;32mIn [51]\u001b[0m, in \u001b[0;36m<cell line: 1>\u001b[1;34m()\u001b[0m\n\u001b[1;32m----> 1\u001b[0m \u001b[43mfunction5\u001b[49m\u001b[43m(\u001b[49m\u001b[38;5;124;43m\"\u001b[39;49m\u001b[38;5;124;43mSuresh\u001b[39;49m\u001b[38;5;124;43m\"\u001b[39;49m\u001b[43m,\u001b[49m\u001b[38;5;124;43m\"\u001b[39;49m\u001b[38;5;124;43mDinesh\u001b[39;49m\u001b[38;5;124;43m\"\u001b[39;49m\u001b[43m)\u001b[49m\n",
      "\u001b[1;31mTypeError\u001b[0m: function1.<locals>.wrapper() takes 1 positional argument but 2 were given"
     ]
    }
   ],
   "source": [
    "function5(\"Suresh\",\"Dinesh\")"
   ]
  },
  {
   "cell_type": "code",
   "execution_count": 52,
   "id": "07d8ff90",
   "metadata": {},
   "outputs": [],
   "source": [
    "def function1(function):  ## >> Outer Function\n",
    "    \n",
    "    def wrapper(value1,value2):             ## >> Inner Function\n",
    "        print(\"Hi! the passed function will be executed now\")\n",
    "        print(\"********************************************\")\n",
    "        function(value1,value2)\n",
    "        print(\"********************************************\")\n",
    "    return wrapper"
   ]
  },
  {
   "cell_type": "code",
   "execution_count": 53,
   "id": "5e4fcbbf",
   "metadata": {},
   "outputs": [],
   "source": [
    "@function1\n",
    "def function5(x,y):\n",
    "    print(\"Function 5 is being executed!\")\n",
    "    print(x)\n",
    "    print(y)"
   ]
  },
  {
   "cell_type": "code",
   "execution_count": 54,
   "id": "ccb7c788",
   "metadata": {},
   "outputs": [
    {
     "name": "stdout",
     "output_type": "stream",
     "text": [
      "Hi! the passed function will be executed now\n",
      "********************************************\n",
      "Function 5 is being executed!\n",
      "Suresh\n",
      "Dinesh\n",
      "********************************************\n"
     ]
    }
   ],
   "source": [
    "function5(\"Suresh\",\"Dinesh\")"
   ]
  },
  {
   "cell_type": "code",
   "execution_count": 75,
   "id": "eb3cbba6",
   "metadata": {},
   "outputs": [],
   "source": [
    "import time\n",
    "\n",
    "def calculate_time(function):\n",
    "    def wrapper(val):\n",
    "        start_time = time.time()\n",
    "        function(val)\n",
    "        end_time = time.time()\n",
    "        total_time = end_time-start_time\n",
    "        print(f\"Time required to execute the function is {total_time} seconds\")\n",
    "    return wrapper"
   ]
  },
  {
   "cell_type": "code",
   "execution_count": 76,
   "id": "829f6cb9",
   "metadata": {},
   "outputs": [],
   "source": [
    "def run_loop(n):\n",
    "    for i in range(n):\n",
    "        pass"
   ]
  },
  {
   "cell_type": "code",
   "execution_count": 77,
   "id": "185469e5",
   "metadata": {},
   "outputs": [],
   "source": [
    "run_loop(10000000)"
   ]
  },
  {
   "cell_type": "code",
   "execution_count": 78,
   "id": "53dea517",
   "metadata": {},
   "outputs": [],
   "source": [
    "@calculate_time\n",
    "def run_loop(n):\n",
    "    for i in range(n):\n",
    "        pass\n",
    "    print(f\"Loop has run over {n} times\")"
   ]
  },
  {
   "cell_type": "code",
   "execution_count": 79,
   "id": "e775b484",
   "metadata": {},
   "outputs": [
    {
     "name": "stdout",
     "output_type": "stream",
     "text": [
      "Loop has run over 10000000 times\n",
      "Time required to execute the function is 0.3658933639526367 seconds\n"
     ]
    }
   ],
   "source": [
    "run_loop(10000000)"
   ]
  },
  {
   "cell_type": "code",
   "execution_count": null,
   "id": "7e207f30",
   "metadata": {},
   "outputs": [],
   "source": []
  }
 ],
 "metadata": {
  "kernelspec": {
   "display_name": "Python 3 (ipykernel)",
   "language": "python",
   "name": "python3"
  },
  "language_info": {
   "codemirror_mode": {
    "name": "ipython",
    "version": 3
   },
   "file_extension": ".py",
   "mimetype": "text/x-python",
   "name": "python",
   "nbconvert_exporter": "python",
   "pygments_lexer": "ipython3",
   "version": "3.10.5"
  }
 },
 "nbformat": 4,
 "nbformat_minor": 5
}
