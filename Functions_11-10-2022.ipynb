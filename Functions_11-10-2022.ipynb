{
 "cells": [
  {
   "cell_type": "code",
   "execution_count": null,
   "id": "730a3c20",
   "metadata": {},
   "outputs": [],
   "source": [
    "To define function we use def keyword\n",
    "while writting the name of function we are supposed to follow the rules of creating the identifiers\n",
    "\n",
    "A function might carryout a task and print the output or return the output\n",
    "When we put print statement we will get to see the output\n",
    "And when we use return statement we can store the output in a variable\n",
    "\n",
    "Docstring: A doc string written inside the fucntion is used to explain the functionality of the function"
   ]
  },
  {
   "cell_type": "markdown",
   "id": "eb0b4f42",
   "metadata": {},
   "source": [
    "## Syntax"
   ]
  },
  {
   "cell_type": "code",
   "execution_count": null,
   "id": "3d98d293",
   "metadata": {},
   "outputs": [],
   "source": [
    "def function_name(argument):\n",
    "    \"Docstring explaining functionality of a function\"\n",
    "    statement_1\n",
    "    statement_2\n",
    "    \n",
    "    return value  ## Returning optional"
   ]
  },
  {
   "cell_type": "code",
   "execution_count": 1,
   "id": "acd91832",
   "metadata": {},
   "outputs": [
    {
     "name": "stdout",
     "output_type": "stream",
     "text": [
      "314.0\n"
     ]
    }
   ],
   "source": [
    "r = 10\n",
    "\n",
    "area = 3.14*r**2\n",
    "\n",
    "print(area)"
   ]
  },
  {
   "cell_type": "code",
   "execution_count": 2,
   "id": "b4a567b3",
   "metadata": {},
   "outputs": [
    {
     "name": "stdout",
     "output_type": "stream",
     "text": [
      "1256.0\n"
     ]
    }
   ],
   "source": [
    "r = 20\n",
    "\n",
    "area = 3.14*r**2\n",
    "\n",
    "print(area)"
   ]
  },
  {
   "cell_type": "code",
   "execution_count": 3,
   "id": "0218cad8",
   "metadata": {},
   "outputs": [
    {
     "name": "stdout",
     "output_type": "stream",
     "text": [
      "572.265\n"
     ]
    }
   ],
   "source": [
    "r = 13.5\n",
    "\n",
    "area = 3.14*r**2\n",
    "\n",
    "print(area)"
   ]
  },
  {
   "cell_type": "code",
   "execution_count": 4,
   "id": "4e8ae30c",
   "metadata": {},
   "outputs": [],
   "source": [
    "def area_circle(radius):\n",
    "    area = 3.14*radius**2\n",
    "    print(f\"Area of given circle is {area} units\")"
   ]
  },
  {
   "cell_type": "code",
   "execution_count": 5,
   "id": "7c16dc03",
   "metadata": {},
   "outputs": [
    {
     "name": "stdout",
     "output_type": "stream",
     "text": [
      "Area of given circle is 314.0 units\n"
     ]
    }
   ],
   "source": [
    "area_circle(10)"
   ]
  },
  {
   "cell_type": "code",
   "execution_count": 6,
   "id": "3e0307c7",
   "metadata": {},
   "outputs": [
    {
     "name": "stdout",
     "output_type": "stream",
     "text": [
      "Area of given circle is 379.94 units\n"
     ]
    }
   ],
   "source": [
    "area_circle(11)"
   ]
  },
  {
   "cell_type": "code",
   "execution_count": 7,
   "id": "15794dda",
   "metadata": {},
   "outputs": [
    {
     "name": "stdout",
     "output_type": "stream",
     "text": [
      "Area of given circle is 7850.0 units\n"
     ]
    }
   ],
   "source": [
    "area_circle(50)"
   ]
  },
  {
   "cell_type": "code",
   "execution_count": 8,
   "id": "d4b6a33f",
   "metadata": {},
   "outputs": [],
   "source": [
    "def area_circle(r):\n",
    "    \"\"\"\n",
    "    Args: \n",
    "    r >> Radius of a circle\n",
    "    \n",
    "    Returns:\n",
    "    Area of a circle for the given radius\n",
    "    \n",
    "    \"\"\"\n",
    "    \n",
    "    area = 3.14*r**2\n",
    "    \n",
    "    return area"
   ]
  },
  {
   "cell_type": "code",
   "execution_count": 10,
   "id": "9737325c",
   "metadata": {},
   "outputs": [],
   "source": [
    "area1 = area_circle(20)"
   ]
  },
  {
   "cell_type": "code",
   "execution_count": 11,
   "id": "99ffa0bb",
   "metadata": {},
   "outputs": [
    {
     "name": "stdout",
     "output_type": "stream",
     "text": [
      "1256.0\n"
     ]
    }
   ],
   "source": [
    "print(area1)"
   ]
  },
  {
   "cell_type": "code",
   "execution_count": 29,
   "id": "77b0eef0",
   "metadata": {},
   "outputs": [],
   "source": [
    "def area(shape,dimensions):\n",
    "    \"\"\"\n",
    "    Args:\n",
    "    shape: shape of an entity whose area to be found, this function can be used\n",
    "           to find area of circle,square,triangle,rectangle only\n",
    "    \n",
    "    dimensions: Dimensions will be a sigle value for circle and square, whereas for\n",
    "                triangle and rectangle dimensions need to passed in an iterable viz.\n",
    "                list or a tuple\n",
    "    Returns: \n",
    "    an area of the given entity\n",
    "    \n",
    "    \"\"\"\n",
    "    if shape == \"circle\":\n",
    "        a = 3.14*dimensions**2\n",
    "    \n",
    "    elif shape == 'square':\n",
    "        a = dimensions**2\n",
    "        \n",
    "    elif shape == \"triangle\":\n",
    "        a = 0.5*dimensions[0]*dimensions[1]\n",
    "        \n",
    "    elif shape == \"rectangle\":\n",
    "        a = dimensions[0]*dimensions[1]\n",
    "    \n",
    "    return a\n",
    "    "
   ]
  },
  {
   "cell_type": "code",
   "execution_count": 23,
   "id": "ca4a7b6e",
   "metadata": {},
   "outputs": [
    {
     "name": "stdout",
     "output_type": "stream",
     "text": [
      "452.16\n"
     ]
    }
   ],
   "source": [
    "area_circle = area(\"circle\",12)\n",
    "print(area_circle)"
   ]
  },
  {
   "cell_type": "code",
   "execution_count": 24,
   "id": "7ce3cb08",
   "metadata": {},
   "outputs": [
    {
     "name": "stdout",
     "output_type": "stream",
     "text": [
      "225\n"
     ]
    }
   ],
   "source": [
    "area_square = area(\"square\",15)\n",
    "print(area_square)"
   ]
  },
  {
   "cell_type": "code",
   "execution_count": 25,
   "id": "0face69a",
   "metadata": {},
   "outputs": [
    {
     "name": "stdout",
     "output_type": "stream",
     "text": [
      "120.0\n"
     ]
    }
   ],
   "source": [
    "area_triangle = area(\"triangle\",[12,20])\n",
    "print(area_triangle)"
   ]
  },
  {
   "cell_type": "code",
   "execution_count": 26,
   "id": "3e6bb5e8",
   "metadata": {},
   "outputs": [
    {
     "name": "stdout",
     "output_type": "stream",
     "text": [
      "240\n"
     ]
    }
   ],
   "source": [
    "area_rect = area(\"rectangle\",[12,20])\n",
    "print(area_rect)"
   ]
  },
  {
   "cell_type": "markdown",
   "id": "ffe33dd4",
   "metadata": {},
   "source": [
    "### Functions to find average of three numbers"
   ]
  },
  {
   "cell_type": "code",
   "execution_count": 30,
   "id": "9b926a44",
   "metadata": {},
   "outputs": [
    {
     "name": "stdout",
     "output_type": "stream",
     "text": [
      "20.0\n"
     ]
    }
   ],
   "source": [
    "a = 10\n",
    "b = 20\n",
    "c = 30\n",
    "\n",
    "average = (a+b+c)/3\n",
    "\n",
    "print(average)"
   ]
  },
  {
   "cell_type": "code",
   "execution_count": 32,
   "id": "3ed2cf4d",
   "metadata": {},
   "outputs": [
    {
     "name": "stdout",
     "output_type": "stream",
     "text": [
      "100.33333333333333\n"
     ]
    }
   ],
   "source": [
    "a = 50\n",
    "b = 100\n",
    "c = 151\n",
    "\n",
    "average = (a+b+c)/3\n",
    "\n",
    "print(average)"
   ]
  },
  {
   "cell_type": "code",
   "execution_count": 39,
   "id": "2bbc448b",
   "metadata": {},
   "outputs": [],
   "source": [
    "def average(a,b,c):\n",
    "    avg = (a + b + c)/3\n",
    "    \n",
    "    print(avg)\n",
    "    return avg"
   ]
  },
  {
   "cell_type": "code",
   "execution_count": 40,
   "id": "c341b5eb",
   "metadata": {},
   "outputs": [
    {
     "name": "stdout",
     "output_type": "stream",
     "text": [
      "51.666666666666664\n"
     ]
    },
    {
     "data": {
      "text/plain": [
       "51.666666666666664"
      ]
     },
     "execution_count": 40,
     "metadata": {},
     "output_type": "execute_result"
    }
   ],
   "source": [
    "average(22,55,78)"
   ]
  },
  {
   "cell_type": "code",
   "execution_count": 35,
   "id": "8456e225",
   "metadata": {},
   "outputs": [
    {
     "name": "stdout",
     "output_type": "stream",
     "text": [
      "51.666666666666664\n"
     ]
    }
   ],
   "source": [
    "three_num_avg = average(22,55,78)"
   ]
  },
  {
   "cell_type": "code",
   "execution_count": 36,
   "id": "a073ed20",
   "metadata": {},
   "outputs": [
    {
     "name": "stdout",
     "output_type": "stream",
     "text": [
      "51.666666666666664\n"
     ]
    }
   ],
   "source": [
    "print(three_num_avg)"
   ]
  },
  {
   "cell_type": "code",
   "execution_count": 41,
   "id": "1aa0017c",
   "metadata": {},
   "outputs": [],
   "source": [
    "## Chnage the order of print and return\n",
    "def average(a,b,c):\n",
    "    avg = (a + b + c)/3\n",
    "    \n",
    "    return avg\n",
    "    print(avg) ## After return stateemnt print will not work"
   ]
  },
  {
   "cell_type": "code",
   "execution_count": 42,
   "id": "e8a6dd95",
   "metadata": {},
   "outputs": [
    {
     "data": {
      "text/plain": [
       "21.333333333333332"
      ]
     },
     "execution_count": 42,
     "metadata": {},
     "output_type": "execute_result"
    }
   ],
   "source": [
    "average(20,11,33)"
   ]
  },
  {
   "cell_type": "code",
   "execution_count": 44,
   "id": "f68378b0",
   "metadata": {},
   "outputs": [],
   "source": [
    "### function for finding average of many numbers\n",
    "\n",
    "def average(iterable):\n",
    "    total = 0\n",
    "    \n",
    "    for i in iterable:\n",
    "        total = total + i\n",
    "    avg = total/len(iterable)\n",
    "    \n",
    "    return avg\n",
    "\n",
    "    "
   ]
  },
  {
   "cell_type": "code",
   "execution_count": 45,
   "id": "dd1dc428",
   "metadata": {},
   "outputs": [
    {
     "data": {
      "text/plain": [
       "52.42857142857143"
      ]
     },
     "execution_count": 45,
     "metadata": {},
     "output_type": "execute_result"
    }
   ],
   "source": [
    "average([1,23,55,77,88,100,23])"
   ]
  },
  {
   "cell_type": "code",
   "execution_count": 46,
   "id": "216449ab",
   "metadata": {},
   "outputs": [
    {
     "data": {
      "text/plain": [
       "24.5"
      ]
     },
     "execution_count": 46,
     "metadata": {},
     "output_type": "execute_result"
    }
   ],
   "source": [
    "average(range(50))"
   ]
  },
  {
   "cell_type": "markdown",
   "id": "2fb48d96",
   "metadata": {},
   "source": [
    "### Factorial"
   ]
  },
  {
   "cell_type": "code",
   "execution_count": 47,
   "id": "c40c4d3f",
   "metadata": {},
   "outputs": [
    {
     "name": "stdout",
     "output_type": "stream",
     "text": [
      "120\n"
     ]
    }
   ],
   "source": [
    "num = 5\n",
    "\n",
    "fact = 1\n",
    "\n",
    "for i in range(1,num+1):\n",
    "    fact = fact*i\n",
    "\n",
    "print(fact)"
   ]
  },
  {
   "cell_type": "code",
   "execution_count": 49,
   "id": "2cb278fd",
   "metadata": {},
   "outputs": [
    {
     "name": "stdout",
     "output_type": "stream",
     "text": [
      "720\n"
     ]
    }
   ],
   "source": [
    "num = 6\n",
    "\n",
    "fact = 1\n",
    "\n",
    "for i in range(1,num+1):\n",
    "    fact = fact*i\n",
    "\n",
    "print(fact)"
   ]
  },
  {
   "cell_type": "code",
   "execution_count": 59,
   "id": "fbff0d2e",
   "metadata": {},
   "outputs": [],
   "source": [
    "## Function of factorial\n",
    "\n",
    "def factorial(x):\n",
    "    fact = 1\n",
    "    if x == 1:\n",
    "        print(1)\n",
    "    else:\n",
    "        for i in range(1,x+1):\n",
    "            fact = fact * i\n",
    "    \n",
    "    print(fact)\n",
    "    \n",
    "            "
   ]
  },
  {
   "cell_type": "code",
   "execution_count": 60,
   "id": "ff1ce23a",
   "metadata": {},
   "outputs": [
    {
     "data": {
      "text/plain": [
       "479001600"
      ]
     },
     "execution_count": 60,
     "metadata": {},
     "output_type": "execute_result"
    }
   ],
   "source": [
    "factorial(12)"
   ]
  },
  {
   "cell_type": "code",
   "execution_count": 58,
   "id": "53c531ca",
   "metadata": {},
   "outputs": [
    {
     "name": "stdout",
     "output_type": "stream",
     "text": [
      "5040\n",
      "*******************************\n"
     ]
    }
   ],
   "source": [
    "factorial(7)"
   ]
  },
  {
   "cell_type": "code",
   "execution_count": 53,
   "id": "e5cbb93e",
   "metadata": {},
   "outputs": [
    {
     "name": "stdout",
     "output_type": "stream",
     "text": [
      "24\n"
     ]
    }
   ],
   "source": [
    "factorial(4)"
   ]
  },
  {
   "cell_type": "code",
   "execution_count": 55,
   "id": "d05756b3",
   "metadata": {},
   "outputs": [
    {
     "name": "stdout",
     "output_type": "stream",
     "text": [
      "1\n",
      "1\n"
     ]
    }
   ],
   "source": [
    "factorial(1)"
   ]
  },
  {
   "cell_type": "code",
   "execution_count": null,
   "id": "b8ae2289",
   "metadata": {},
   "outputs": [],
   "source": []
  }
 ],
 "metadata": {
  "kernelspec": {
   "display_name": "Python 3 (ipykernel)",
   "language": "python",
   "name": "python3"
  },
  "language_info": {
   "codemirror_mode": {
    "name": "ipython",
    "version": 3
   },
   "file_extension": ".py",
   "mimetype": "text/x-python",
   "name": "python",
   "nbconvert_exporter": "python",
   "pygments_lexer": "ipython3",
   "version": "3.10.5"
  }
 },
 "nbformat": 4,
 "nbformat_minor": 5
}
