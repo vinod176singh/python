{
 "cells": [
  {
   "cell_type": "markdown",
   "id": "67683483",
   "metadata": {},
   "source": [
    "### for - else "
   ]
  },
  {
   "cell_type": "code",
   "execution_count": 2,
   "id": "95b280fb",
   "metadata": {},
   "outputs": [
    {
     "name": "stdout",
     "output_type": "stream",
     "text": [
      "Loop is completed\n"
     ]
    }
   ],
   "source": [
    "for i in range(1,20):\n",
    "    pass\n",
    "\n",
    "else:\n",
    "    print(\"Loop is completed\")"
   ]
  },
  {
   "cell_type": "markdown",
   "id": "f62a8afc",
   "metadata": {},
   "source": [
    "In the combination of for loop and else block, the else block will execute only when the for loop has completed all of it's iterations"
   ]
  },
  {
   "cell_type": "code",
   "execution_count": 4,
   "id": "f81b4e88",
   "metadata": {},
   "outputs": [
    {
     "name": "stdout",
     "output_type": "stream",
     "text": [
      "1 2 3 4 5 6 7 8 9 10 \n",
      "We have reached number 10, now the loop will break\n"
     ]
    }
   ],
   "source": [
    "for i in range(1,20):\n",
    "    \n",
    "    print(i, end = \" \")\n",
    "    \n",
    "    if i == 10:\n",
    "        print(\"\\nWe have reached number 10, now the loop will break\")\n",
    "        break\n",
    "else:\n",
    "    print(\"The Loop is completed\")"
   ]
  },
  {
   "cell_type": "code",
   "execution_count": 5,
   "id": "4b609095",
   "metadata": {},
   "outputs": [
    {
     "name": "stdout",
     "output_type": "stream",
     "text": [
      "1 2 3 4 5 6 7 8 9 10 11 12 13 14 15 16 17 18 19 The Loop is completed\n"
     ]
    }
   ],
   "source": [
    "for i in range(1,20):\n",
    "    \n",
    "    print(i, end = \" \")\n",
    "    \n",
    "    if i == 100:\n",
    "        print(\"\\nWe have reached number 10, now the loop will break\")\n",
    "        break\n",
    "else:\n",
    "    print(\"The Loop is completed\")"
   ]
  },
  {
   "cell_type": "code",
   "execution_count": 9,
   "id": "179e82e4",
   "metadata": {},
   "outputs": [
    {
     "name": "stdout",
     "output_type": "stream",
     "text": [
      "10 20 30 \n",
      "We have reached Number 30\n",
      "40 50 60 70 80 90 \n",
      "Loop is completed\n"
     ]
    }
   ],
   "source": [
    "for i in range(1,100):\n",
    "    \n",
    "    if i % 10 == 0:\n",
    "        print(i, end = \" \")\n",
    "    if i == 30:\n",
    "        print('\\nWe have reached Number 30')\n",
    "        continue\n",
    "        print(\"This is a statement after continue\")\n",
    "else:\n",
    "    print(\"\\nLoop is completed\")"
   ]
  },
  {
   "cell_type": "code",
   "execution_count": 8,
   "id": "e2bc5e76",
   "metadata": {},
   "outputs": [
    {
     "name": "stdout",
     "output_type": "stream",
     "text": [
      "10 20 30 \n",
      "We have reached Number 30\n"
     ]
    }
   ],
   "source": [
    "for i in range(1,100):\n",
    "    \n",
    "    if i % 10 == 0:\n",
    "        print(i, end = \" \")\n",
    "    if i == 30:\n",
    "        print('\\nWe have reached Number 30')\n",
    "        break\n",
    "else:\n",
    "    print(\"\\nLoop is completed\")"
   ]
  },
  {
   "cell_type": "markdown",
   "id": "4051b7e6",
   "metadata": {},
   "source": [
    "### Continue"
   ]
  },
  {
   "cell_type": "code",
   "execution_count": 12,
   "id": "36609ef4",
   "metadata": {},
   "outputs": [
    {
     "name": "stdout",
     "output_type": "stream",
     "text": [
      "Integer List : [4, 5, 100, 200, 1000]\n",
      "Float List : [3.6, 7.8, 9.9]\n",
      "String List : ['python', 'Data', 'Science', 'artificial']\n"
     ]
    }
   ],
   "source": [
    "list1 = [4,5,3.6,\"python\",100,200,7.8,9.9,\"Data\",1000,\"Science\",\"artificial\"]\n",
    "\n",
    "int_list,float_list,str_list = [],[],[]\n",
    "\n",
    "for item in list1:\n",
    "    \n",
    "    if type(item) == int:\n",
    "        int_list.append(item)\n",
    "    elif type(item) == float:\n",
    "        float_list.append(item)\n",
    "    elif type(item) == str:\n",
    "        str_list.append(item)\n",
    "        \n",
    "print(f\"Integer List : {int_list}\")\n",
    "print(f\"Float List : {float_list}\")\n",
    "print(f\"String List : {str_list}\")"
   ]
  },
  {
   "cell_type": "code",
   "execution_count": 13,
   "id": "d2fbaa79",
   "metadata": {},
   "outputs": [
    {
     "name": "stdout",
     "output_type": "stream",
     "text": [
      "Integer List : [4, 5, 100, 200, 1000]\n",
      "Float List : [3.6, 7.8, 9.9]\n",
      "String List : []\n"
     ]
    }
   ],
   "source": [
    "list1 = [4,5,3.6,\"python\",100,200,7.8,9.9,\"Data\",1000,\"Science\",\"artificial\"]\n",
    "\n",
    "int_list,float_list,str_list = [],[],[]\n",
    "\n",
    "for item in list1:\n",
    "    \n",
    "    if type(item) == int:\n",
    "        int_list.append(item)\n",
    "    elif type(item) == float:\n",
    "        float_list.append(item)\n",
    "    elif type(item) == str:\n",
    "        continue\n",
    "        str_list.append(item)\n",
    "        \n",
    "print(f\"Integer List : {int_list}\")\n",
    "print(f\"Float List : {float_list}\")\n",
    "print(f\"String List : {str_list}\")"
   ]
  },
  {
   "cell_type": "code",
   "execution_count": 14,
   "id": "db15bc98",
   "metadata": {},
   "outputs": [
    {
     "name": "stdout",
     "output_type": "stream",
     "text": [
      "Integer List : [4, 5, 100, 200, 1000]\n",
      "Float List : [3.6, 7.8, 9.9]\n",
      "String List : ['python', 'Data', 'Science', 'artificial']\n"
     ]
    }
   ],
   "source": [
    "list1 = [4,5,3.6,\"python\",100,200,7.8,9.9,\"Data\",1000,\"Science\",\"artificial\"]\n",
    "\n",
    "int_list,float_list,str_list = [],[],[]\n",
    "\n",
    "for item in list1:\n",
    "    \n",
    "    if type(item) == int:\n",
    "        int_list.append(item)\n",
    "    elif type(item) == float:\n",
    "        float_list.append(item)\n",
    "    elif type(item) == str:\n",
    "        pass\n",
    "        str_list.append(item)\n",
    "        \n",
    "print(f\"Integer List : {int_list}\")\n",
    "print(f\"Float List : {float_list}\")\n",
    "print(f\"String List : {str_list}\")"
   ]
  },
  {
   "cell_type": "markdown",
   "id": "f2324576",
   "metadata": {},
   "source": [
    "## Finding Factorial of a Number"
   ]
  },
  {
   "cell_type": "code",
   "execution_count": null,
   "id": "b5879665",
   "metadata": {},
   "outputs": [],
   "source": [
    "!5 >> 5 * 4 * 3 * 2 * 1\n",
    "!4 >> 4 * 3 * 2 * 1\n",
    "!3 >> 3 * 2 * 1\n",
    "!2 >> 2 * 1\n",
    "!1 >> 1"
   ]
  },
  {
   "cell_type": "code",
   "execution_count": 15,
   "id": "44f1cc3f",
   "metadata": {},
   "outputs": [
    {
     "name": "stdout",
     "output_type": "stream",
     "text": [
      "120\n"
     ]
    }
   ],
   "source": [
    "n = 5\n",
    "\n",
    "factorial = 1\n",
    "\n",
    "for i in range(1,n+1):\n",
    "    factorial = factorial * i\n",
    "\n",
    "print(factorial)\n",
    "    \n",
    "# first iteration factorial = 1 * 1\n",
    "# Second Iteration factorial = 1 * 2\n",
    "# Third Iteration factorial = 2 * 3\n",
    "# forth iteration factorial = 6 * 4\n",
    "# fifth iteration factorial = 24 * 5\n",
    "# factorial = 120\n"
   ]
  },
  {
   "cell_type": "code",
   "execution_count": 16,
   "id": "5f2717f2",
   "metadata": {},
   "outputs": [
    {
     "name": "stdout",
     "output_type": "stream",
     "text": [
      "The factorial of 5 is 120\n"
     ]
    }
   ],
   "source": [
    "n = 5\n",
    "factorial = 1\n",
    "\n",
    "for i in range(1,n+1):\n",
    "    factorial *= i\n",
    "\n",
    "print(f\"The factorial of {n} is {factorial}\")"
   ]
  },
  {
   "cell_type": "code",
   "execution_count": 21,
   "id": "266e3649",
   "metadata": {},
   "outputs": [
    {
     "name": "stdout",
     "output_type": "stream",
     "text": [
      "Enter number to find factorial 20\n",
      "The factorial of 20 is 2432902008176640000\n"
     ]
    }
   ],
   "source": [
    "## With user input\n",
    "\n",
    "n = int(input(\"Enter number to find factorial \"))\n",
    "factorial = 1\n",
    "for i in range(1,n+1):\n",
    "    factorial *= i\n",
    "\n",
    "print(f\"The factorial of {n} is {factorial}\")"
   ]
  },
  {
   "cell_type": "markdown",
   "id": "5e041189",
   "metadata": {},
   "source": [
    "## Program to find prime number"
   ]
  },
  {
   "cell_type": "code",
   "execution_count": null,
   "id": "f70a0101",
   "metadata": {},
   "outputs": [],
   "source": [
    "Prime Numbers >> The numbers that are divisible by 1 or by itself only\n",
    "\n",
    "2,3,5,7,11,13,17 >>> Are Prime numbers\n",
    "\n",
    "1,4,6,8,9,10 >> Are not prime numbers"
   ]
  },
  {
   "cell_type": "code",
   "execution_count": 22,
   "id": "6901ecf5",
   "metadata": {},
   "outputs": [
    {
     "name": "stdout",
     "output_type": "stream",
     "text": [
      "Not A Prime Number\n"
     ]
    }
   ],
   "source": [
    "n = 9\n",
    "\n",
    "for i in range(2,n):                    # i = 2, 3, 4, 5, 6, 7, 8\n",
    "    if n % i == 0:\n",
    "        print(\"Not A Prime Number\")\n",
    "        break\n",
    "\n",
    "else:\n",
    "    print(\"It is a Prime Number\")"
   ]
  },
  {
   "cell_type": "code",
   "execution_count": 45,
   "id": "efd99743",
   "metadata": {},
   "outputs": [
    {
     "name": "stdout",
     "output_type": "stream",
     "text": [
      "It is a Prime Number\n"
     ]
    }
   ],
   "source": [
    "## Check if n is Prime Number\n",
    "n = 17\n",
    "\n",
    "for i in range(2,n):                    # i = 2, 3, 4, 5, 6, 7, 8, 9, 10, 11, 12, 13, 14, 15, 16\n",
    "    if n % i == 0:\n",
    "        print(\"Not A Prime Number\")\n",
    "        break\n",
    "\n",
    "else:\n",
    "    print(\"It is a Prime Number\")"
   ]
  },
  {
   "cell_type": "code",
   "execution_count": 41,
   "id": "2cedf86e",
   "metadata": {},
   "outputs": [
    {
     "name": "stdout",
     "output_type": "stream",
     "text": [
      "Enter number to check if it is a prime number 17\n",
      "It is a Prime Number\n"
     ]
    }
   ],
   "source": [
    "## User input for testing prime number\n",
    "\n",
    "num = int(input(\"Enter number to check if it is a prime number \"))\n",
    "\n",
    "for i in range(2,num):\n",
    "    \n",
    "    if num % i == 0:\n",
    "        print(\"Not A Prime Number\")\n",
    "        break\n",
    "\n",
    "        \n",
    "else:\n",
    "    print(\"It is a Prime Number\")"
   ]
  },
  {
   "cell_type": "markdown",
   "id": "6e9eb32c",
   "metadata": {},
   "source": [
    "## Fibonacci Series"
   ]
  },
  {
   "cell_type": "code",
   "execution_count": null,
   "id": "60774242",
   "metadata": {},
   "outputs": [],
   "source": [
    "0 1 1 2 3 5 8 13 21 34 55 ...."
   ]
  },
  {
   "cell_type": "code",
   "execution_count": 33,
   "id": "9dc76262",
   "metadata": {},
   "outputs": [
    {
     "name": "stdout",
     "output_type": "stream",
     "text": [
      "0 1 1 2 3 5 8 13 "
     ]
    }
   ],
   "source": [
    "## Printing First Eight Numbers of Fibonacci Series\n",
    "\n",
    "n = 8 \n",
    "first = 0\n",
    "second = 1\n",
    "print(first, second, end = \" \")\n",
    "\n",
    "for i in range(0,n-2):\n",
    "    new = first + second\n",
    "    print(new, end = \" \")\n",
    "    first = second\n",
    "    second = new\n",
    "\n",
    "# first iteration >> first (0) + second (1) = new (1)\n",
    "# Second Iteration >> first (1) + Second (1) = new (2)\n",
    "# Third Iteration >> first (1) + second (2) = new (3)\n",
    "# Fourth Iteration >> first (2) + second (3) = new (5)"
   ]
  },
  {
   "cell_type": "code",
   "execution_count": 38,
   "id": "903f2922",
   "metadata": {},
   "outputs": [
    {
     "name": "stdout",
     "output_type": "stream",
     "text": [
      "[0, 1, 1]\n",
      "[0, 1, 1, 2]\n",
      "[0, 1, 1, 2, 3]\n",
      "[0, 1, 1, 2, 3, 5]\n",
      "[0, 1, 1, 2, 3, 5, 8]\n",
      "[0, 1, 1, 2, 3, 5, 8, 13]\n",
      "[0, 1, 1, 2, 3, 5, 8, 13, 21]\n",
      "[0, 1, 1, 2, 3, 5, 8, 13, 21, 34]\n"
     ]
    },
    {
     "data": {
      "text/plain": [
       "[0, 1, 1, 2, 3, 5, 8, 13, 21, 34]"
      ]
     },
     "execution_count": 38,
     "metadata": {},
     "output_type": "execute_result"
    }
   ],
   "source": [
    "## Other method\n",
    "n = 10\n",
    "num_lst = [0,1]\n",
    "\n",
    "for i in range(0,n-2):\n",
    "    num_lst.append(sum(num_lst[-2:]))\n",
    "    print(num_lst)\n",
    "\n",
    "num_lst"
   ]
  },
  {
   "cell_type": "code",
   "execution_count": null,
   "id": "920a2a05",
   "metadata": {},
   "outputs": [],
   "source": []
  }
 ],
 "metadata": {
  "kernelspec": {
   "display_name": "Python 3 (ipykernel)",
   "language": "python",
   "name": "python3"
  },
  "language_info": {
   "codemirror_mode": {
    "name": "ipython",
    "version": 3
   },
   "file_extension": ".py",
   "mimetype": "text/x-python",
   "name": "python",
   "nbconvert_exporter": "python",
   "pygments_lexer": "ipython3",
   "version": "3.10.5"
  }
 },
 "nbformat": 4,
 "nbformat_minor": 5
}
