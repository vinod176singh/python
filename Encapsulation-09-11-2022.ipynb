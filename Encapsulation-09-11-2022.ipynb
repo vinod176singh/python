{
 "cells": [
  {
   "cell_type": "code",
   "execution_count": null,
   "id": "4f5f6e59",
   "metadata": {},
   "outputs": [],
   "source": [
    "In encapsulation we protect variables and methods being used from outside the class"
   ]
  },
  {
   "cell_type": "code",
   "execution_count": 3,
   "id": "49455aa7",
   "metadata": {},
   "outputs": [
    {
     "name": "stdout",
     "output_type": "stream",
     "text": [
      "Demonstraction of Encapsulation\n",
      "Protected Variable\n"
     ]
    }
   ],
   "source": [
    "class TestClass():\n",
    "    __var  = \"Protected Variable\"  # Private Variable\n",
    "    \n",
    "    def __init__(self):\n",
    "        print(\"Demonstraction of Encapsulation\")\n",
    "        print(self.__var)\n",
    "        \n",
    "t1 = TestClass()"
   ]
  },
  {
   "cell_type": "code",
   "execution_count": 4,
   "id": "3c32d21a",
   "metadata": {},
   "outputs": [
    {
     "ename": "AttributeError",
     "evalue": "'TestClass' object has no attribute '__var'",
     "output_type": "error",
     "traceback": [
      "\u001b[1;31m---------------------------------------------------------------------------\u001b[0m",
      "\u001b[1;31mAttributeError\u001b[0m                            Traceback (most recent call last)",
      "Input \u001b[1;32mIn [4]\u001b[0m, in \u001b[0;36m<cell line: 1>\u001b[1;34m()\u001b[0m\n\u001b[1;32m----> 1\u001b[0m \u001b[43mt1\u001b[49m\u001b[38;5;241;43m.\u001b[39;49m\u001b[43m__var\u001b[49m\n",
      "\u001b[1;31mAttributeError\u001b[0m: 'TestClass' object has no attribute '__var'"
     ]
    }
   ],
   "source": [
    "t1.__var  # We cannot access private variable from outside the class "
   ]
  },
  {
   "cell_type": "code",
   "execution_count": 5,
   "id": "2c6489d2",
   "metadata": {},
   "outputs": [
    {
     "name": "stdout",
     "output_type": "stream",
     "text": [
      "Demonstraction of Encapsulation\n",
      "Protected Variable\n"
     ]
    }
   ],
   "source": [
    "class TestClass():\n",
    "    __var  = \"Protected Variable\"  # Private Variable\n",
    "    \n",
    "    def __init__(self):\n",
    "        print(\"Demonstraction of Encapsulation\")\n",
    "        print(self.__var)\n",
    "        \n",
    "    def method(self):  # Public Method\n",
    "        print(\"This is a demo method\")\n",
    "\n",
    "t1 = TestClass()"
   ]
  },
  {
   "cell_type": "code",
   "execution_count": 6,
   "id": "97139ddc",
   "metadata": {},
   "outputs": [
    {
     "name": "stdout",
     "output_type": "stream",
     "text": [
      "This is a demo method\n"
     ]
    }
   ],
   "source": [
    "t1.method()"
   ]
  },
  {
   "cell_type": "code",
   "execution_count": 7,
   "id": "9b2b2e56",
   "metadata": {},
   "outputs": [
    {
     "name": "stdout",
     "output_type": "stream",
     "text": [
      "Demonstraction of Encapsulation\n",
      "Protected Variable\n"
     ]
    }
   ],
   "source": [
    "class TestClass():\n",
    "    __var  = \"Protected Variable\"  # Private Variable\n",
    "    \n",
    "    def __init__(self):\n",
    "        print(\"Demonstraction of Encapsulation\")\n",
    "        print(self.__var)\n",
    "        \n",
    "    def __method(self):  # Private  Method\n",
    "        print(\"This is a demo method\")\n",
    "\n",
    "t1 = TestClass()"
   ]
  },
  {
   "cell_type": "code",
   "execution_count": 8,
   "id": "1bef4551",
   "metadata": {},
   "outputs": [
    {
     "ename": "AttributeError",
     "evalue": "'TestClass' object has no attribute '__method'",
     "output_type": "error",
     "traceback": [
      "\u001b[1;31m---------------------------------------------------------------------------\u001b[0m",
      "\u001b[1;31mAttributeError\u001b[0m                            Traceback (most recent call last)",
      "Input \u001b[1;32mIn [8]\u001b[0m, in \u001b[0;36m<cell line: 1>\u001b[1;34m()\u001b[0m\n\u001b[1;32m----> 1\u001b[0m \u001b[43mt1\u001b[49m\u001b[38;5;241;43m.\u001b[39;49m\u001b[43m__method\u001b[49m()\n",
      "\u001b[1;31mAttributeError\u001b[0m: 'TestClass' object has no attribute '__method'"
     ]
    }
   ],
   "source": [
    "t1.__method()"
   ]
  },
  {
   "cell_type": "markdown",
   "id": "bdf7e0fe",
   "metadata": {},
   "source": [
    "## Name Mangling"
   ]
  },
  {
   "cell_type": "code",
   "execution_count": null,
   "id": "412792ec",
   "metadata": {},
   "outputs": [],
   "source": [
    "To override encapsulation we use Name Mangling\n",
    "\n",
    "Syntax:\n",
    "    Obj._ClassName__Indentifier\n",
    "    \n",
    "    Obj._ClassName__ClassVariable\n",
    "    Obj._ClassName__InstanceVariable\n",
    "    Obj._ClassName__ClassMethod"
   ]
  },
  {
   "cell_type": "code",
   "execution_count": 84,
   "id": "e92fc6d3",
   "metadata": {},
   "outputs": [],
   "source": [
    "class EmployeeDetails:\n",
    "    __company_name = \"TCS\"  ## Private Class Variable\n",
    "    __salary = 1000000      ## Private Class Variable\n",
    "    name = \"Mahendra Sing Dhoni\" ## Public Class Variable\n",
    "    \n",
    "    def __init__(self,emp_id,location,designation,perks):\n",
    "        self.emp_id = emp_id                        # Public Instance Varible\n",
    "        self.location = location\n",
    "        self.designation = designation\n",
    "        self.__perks = perks                        # Private Instance Variable\n",
    "    \n",
    "    def show_details(self):\n",
    "        print(\"Name : \", self.name)\n",
    "        print(\"Company Name : \", self.__company_name)\n",
    "        print(\"Salary : \", self.__salary)\n",
    "        print(\"Employee ID : \", self.emp_id)\n",
    "        print(\"Location : \", self.location)\n",
    "        print(\"Designation : \", self.designation)\n",
    "        print(\"Perks Offered : \", self.__perks)\n",
    "        \n",
    "    def employee_responsibility(self): ## Public Method\n",
    "        print(\"Fetch Data\")\n",
    "        print(\"Clean Data\")\n",
    "        print(\"Exploratory Data Analysis\")\n",
    "        print(\"Model Testing\")\n",
    "        print(\"Model Selection\")\n",
    "        print(\"Checking Metrics of Model\")\n",
    "        print(\"Model Selection\")\n",
    "        print(\"Model Deployment\")\n",
    "        \n",
    "    def __additional_responsibility(self):  ## Private Method\n",
    "        print(\"Prepare Presentation\")\n",
    "        print(\"Talk To Clients\")\n",
    "        print(\"Deliver Presentations\")\n",
    "        \n",
    "    \n",
    "    def show_responsibilities(self):    ### Public Method\n",
    "        self.employee_responsibility()\n",
    "        self.__additional_responsibility()"
   ]
  },
  {
   "cell_type": "code",
   "execution_count": 62,
   "id": "5ef51156",
   "metadata": {},
   "outputs": [],
   "source": [
    "emp = EmployeeDetails(\"TCS11001\",\"Banglore\",\"Machine Learning Engineer\",\"Fuel Charges\")"
   ]
  },
  {
   "cell_type": "code",
   "execution_count": 63,
   "id": "f58c32c4",
   "metadata": {},
   "outputs": [
    {
     "name": "stdout",
     "output_type": "stream",
     "text": [
      "Name :  Mahendra Sing Dhoni\n",
      "Company Name :  TCS\n",
      "Salary :  1000000\n",
      "Employee ID :  TCS11001\n",
      "Location :  Banglore\n",
      "Designation :  Machine Learning Engineer\n",
      "Perks Offered :  Fuel Charges\n"
     ]
    }
   ],
   "source": [
    "emp.show_details()"
   ]
  },
  {
   "cell_type": "code",
   "execution_count": 64,
   "id": "a92a7f76",
   "metadata": {},
   "outputs": [
    {
     "ename": "AttributeError",
     "evalue": "'EmployeeDetails' object has no attribute '__perks'",
     "output_type": "error",
     "traceback": [
      "\u001b[1;31m---------------------------------------------------------------------------\u001b[0m",
      "\u001b[1;31mAttributeError\u001b[0m                            Traceback (most recent call last)",
      "Input \u001b[1;32mIn [64]\u001b[0m, in \u001b[0;36m<cell line: 1>\u001b[1;34m()\u001b[0m\n\u001b[1;32m----> 1\u001b[0m \u001b[43memp\u001b[49m\u001b[38;5;241;43m.\u001b[39;49m\u001b[43m__perks\u001b[49m\n",
      "\u001b[1;31mAttributeError\u001b[0m: 'EmployeeDetails' object has no attribute '__perks'"
     ]
    }
   ],
   "source": [
    "emp.__perks"
   ]
  },
  {
   "cell_type": "code",
   "execution_count": 110,
   "id": "f6f50d9d",
   "metadata": {},
   "outputs": [
    {
     "data": {
      "text/plain": [
       "'Free Ride to Company'"
      ]
     },
     "execution_count": 110,
     "metadata": {},
     "output_type": "execute_result"
    }
   ],
   "source": [
    "emp._EmployeeDetails__perks"
   ]
  },
  {
   "cell_type": "code",
   "execution_count": 65,
   "id": "ba0444e7",
   "metadata": {},
   "outputs": [
    {
     "name": "stdout",
     "output_type": "stream",
     "text": [
      "Fetch Data\n",
      "Clean Data\n",
      "Exploratory Data Analysis\n",
      "Model Testing\n",
      "Model Selection\n",
      "Checking Metrics of Model\n",
      "Model Selection\n",
      "Model Deployment\n"
     ]
    }
   ],
   "source": [
    "emp.employee_responsibility()"
   ]
  },
  {
   "cell_type": "code",
   "execution_count": 66,
   "id": "8ef2a0ad",
   "metadata": {},
   "outputs": [
    {
     "ename": "AttributeError",
     "evalue": "'EmployeeDetails' object has no attribute '__additional_responsibility'",
     "output_type": "error",
     "traceback": [
      "\u001b[1;31m---------------------------------------------------------------------------\u001b[0m",
      "\u001b[1;31mAttributeError\u001b[0m                            Traceback (most recent call last)",
      "Input \u001b[1;32mIn [66]\u001b[0m, in \u001b[0;36m<cell line: 1>\u001b[1;34m()\u001b[0m\n\u001b[1;32m----> 1\u001b[0m \u001b[43memp\u001b[49m\u001b[38;5;241;43m.\u001b[39;49m\u001b[43m__additional_responsibility\u001b[49m()\n",
      "\u001b[1;31mAttributeError\u001b[0m: 'EmployeeDetails' object has no attribute '__additional_responsibility'"
     ]
    }
   ],
   "source": [
    "emp.__additional_responsibility()"
   ]
  },
  {
   "cell_type": "code",
   "execution_count": 67,
   "id": "69efa50d",
   "metadata": {},
   "outputs": [
    {
     "name": "stdout",
     "output_type": "stream",
     "text": [
      "Fetch Data\n",
      "Clean Data\n",
      "Exploratory Data Analysis\n",
      "Model Testing\n",
      "Model Selection\n",
      "Checking Metrics of Model\n",
      "Model Selection\n",
      "Model Deployment\n",
      "Prepare Presentation\n",
      "Talk To Clients\n",
      "Deliver Presentations\n"
     ]
    }
   ],
   "source": [
    "emp.show_responsibilities()"
   ]
  },
  {
   "cell_type": "code",
   "execution_count": 69,
   "id": "b332cc19",
   "metadata": {},
   "outputs": [
    {
     "ename": "AttributeError",
     "evalue": "'EmployeeDetails' object has no attribute '__company_name'",
     "output_type": "error",
     "traceback": [
      "\u001b[1;31m---------------------------------------------------------------------------\u001b[0m",
      "\u001b[1;31mAttributeError\u001b[0m                            Traceback (most recent call last)",
      "Input \u001b[1;32mIn [69]\u001b[0m, in \u001b[0;36m<cell line: 9>\u001b[1;34m()\u001b[0m\n\u001b[0;32m      1\u001b[0m \u001b[38;5;66;03m## Demonstration of Name mangling\u001b[39;00m\n\u001b[0;32m      2\u001b[0m \u001b[38;5;66;03m# Syntax:\u001b[39;00m\n\u001b[0;32m      3\u001b[0m \u001b[38;5;66;03m#     Obj._ClassName__Indentifier\u001b[39;00m\n\u001b[1;32m   (...)\u001b[0m\n\u001b[0;32m      6\u001b[0m \u001b[38;5;66;03m#     Obj._ClassName__InstanceVariable\u001b[39;00m\n\u001b[0;32m      7\u001b[0m \u001b[38;5;66;03m#     Obj._ClassName__ClassMethod\u001b[39;00m\n\u001b[1;32m----> 9\u001b[0m \u001b[38;5;28mprint\u001b[39m(\u001b[43memp\u001b[49m\u001b[38;5;241;43m.\u001b[39;49m\u001b[43m__company_name\u001b[49m)\n",
      "\u001b[1;31mAttributeError\u001b[0m: 'EmployeeDetails' object has no attribute '__company_name'"
     ]
    }
   ],
   "source": [
    "## Demonstration of Name mangling\n",
    "# Syntax:\n",
    "#     Obj._ClassName__Indentifier\n",
    "    \n",
    "#     Obj._ClassName__ClassVariable\n",
    "#     Obj._ClassName__InstanceVariable\n",
    "#     Obj._ClassName__ClassMethod\n",
    "\n",
    "print(emp.__company_name) ## Private Class Variable"
   ]
  },
  {
   "cell_type": "code",
   "execution_count": 70,
   "id": "12ec1724",
   "metadata": {},
   "outputs": [
    {
     "name": "stdout",
     "output_type": "stream",
     "text": [
      "TCS\n"
     ]
    }
   ],
   "source": [
    "print(emp._EmployeeDetails__company_name) ## Private Class Variable with Name Mangling"
   ]
  },
  {
   "cell_type": "code",
   "execution_count": 71,
   "id": "324fe130",
   "metadata": {},
   "outputs": [
    {
     "ename": "AttributeError",
     "evalue": "'EmployeeDetails' object has no attribute '__perks'",
     "output_type": "error",
     "traceback": [
      "\u001b[1;31m---------------------------------------------------------------------------\u001b[0m",
      "\u001b[1;31mAttributeError\u001b[0m                            Traceback (most recent call last)",
      "Input \u001b[1;32mIn [71]\u001b[0m, in \u001b[0;36m<cell line: 1>\u001b[1;34m()\u001b[0m\n\u001b[1;32m----> 1\u001b[0m \u001b[38;5;28mprint\u001b[39m(\u001b[43memp\u001b[49m\u001b[38;5;241;43m.\u001b[39;49m\u001b[43m__perks\u001b[49m)\n",
      "\u001b[1;31mAttributeError\u001b[0m: 'EmployeeDetails' object has no attribute '__perks'"
     ]
    }
   ],
   "source": [
    "print(emp.__perks) ## Private Instance Variable"
   ]
  },
  {
   "cell_type": "code",
   "execution_count": 72,
   "id": "fab2fc83",
   "metadata": {},
   "outputs": [
    {
     "name": "stdout",
     "output_type": "stream",
     "text": [
      "Fuel Charges\n"
     ]
    }
   ],
   "source": [
    "print(emp._EmployeeDetails__perks) ## Private Instance Variable with Name Mangling"
   ]
  },
  {
   "cell_type": "code",
   "execution_count": 73,
   "id": "4c2d876a",
   "metadata": {},
   "outputs": [
    {
     "ename": "AttributeError",
     "evalue": "'EmployeeDetails' object has no attribute '__additional_responsibility'",
     "output_type": "error",
     "traceback": [
      "\u001b[1;31m---------------------------------------------------------------------------\u001b[0m",
      "\u001b[1;31mAttributeError\u001b[0m                            Traceback (most recent call last)",
      "Input \u001b[1;32mIn [73]\u001b[0m, in \u001b[0;36m<cell line: 1>\u001b[1;34m()\u001b[0m\n\u001b[1;32m----> 1\u001b[0m \u001b[43memp\u001b[49m\u001b[38;5;241;43m.\u001b[39;49m\u001b[43m__additional_responsibility\u001b[49m()\n",
      "\u001b[1;31mAttributeError\u001b[0m: 'EmployeeDetails' object has no attribute '__additional_responsibility'"
     ]
    }
   ],
   "source": [
    "emp.__additional_responsibility() ## Private Method"
   ]
  },
  {
   "cell_type": "code",
   "execution_count": 74,
   "id": "be1c3ef5",
   "metadata": {},
   "outputs": [
    {
     "name": "stdout",
     "output_type": "stream",
     "text": [
      "Prepare Presentation\n",
      "Talk To Clients\n",
      "Deliver Presentations\n"
     ]
    }
   ],
   "source": [
    "emp._EmployeeDetails__additional_responsibility() ## Priavte Method With Name Mangling"
   ]
  },
  {
   "cell_type": "code",
   "execution_count": 75,
   "id": "6c14de2b",
   "metadata": {},
   "outputs": [],
   "source": [
    "emp._EmployeeDetails__salary = 900000  ## We have altered the class variable with Name Mangling"
   ]
  },
  {
   "cell_type": "code",
   "execution_count": 76,
   "id": "dedb748a",
   "metadata": {},
   "outputs": [
    {
     "data": {
      "text/plain": [
       "900000"
      ]
     },
     "execution_count": 76,
     "metadata": {},
     "output_type": "execute_result"
    }
   ],
   "source": [
    "emp._EmployeeDetails__salary"
   ]
  },
  {
   "cell_type": "code",
   "execution_count": 77,
   "id": "2d0a01e7",
   "metadata": {},
   "outputs": [],
   "source": [
    "emp._EmployeeDetails__perks = \"Free Ride to Company\""
   ]
  },
  {
   "cell_type": "code",
   "execution_count": 78,
   "id": "89cc1c45",
   "metadata": {},
   "outputs": [
    {
     "data": {
      "text/plain": [
       "'Free Ride to Company'"
      ]
     },
     "execution_count": 78,
     "metadata": {},
     "output_type": "execute_result"
    }
   ],
   "source": [
    "emp._EmployeeDetails__perks  ## We have Changed instance variable with Name Mangling"
   ]
  },
  {
   "cell_type": "code",
   "execution_count": 81,
   "id": "c60eb5df",
   "metadata": {},
   "outputs": [
    {
     "ename": "AttributeError",
     "evalue": "'EmployeeDetails' object has no attribute '__perks'",
     "output_type": "error",
     "traceback": [
      "\u001b[1;31m---------------------------------------------------------------------------\u001b[0m",
      "\u001b[1;31mAttributeError\u001b[0m                            Traceback (most recent call last)",
      "Input \u001b[1;32mIn [81]\u001b[0m, in \u001b[0;36m<cell line: 1>\u001b[1;34m()\u001b[0m\n\u001b[1;32m----> 1\u001b[0m \u001b[43memp\u001b[49m\u001b[38;5;241;43m.\u001b[39;49m\u001b[43m__perks\u001b[49m\n",
      "\u001b[1;31mAttributeError\u001b[0m: 'EmployeeDetails' object has no attribute '__perks'"
     ]
    }
   ],
   "source": [
    "emp.__perks"
   ]
  },
  {
   "cell_type": "code",
   "execution_count": 106,
   "id": "03850dd9",
   "metadata": {},
   "outputs": [],
   "source": [
    "class EmployeeDetails:\n",
    "    __company_name = \"TCS\"  ## Private Class Variable\n",
    "    __salary = 1000000      ## Private Class Variable\n",
    "    name = \"Mahendra Sing Dhoni\" ## Public Class Variable\n",
    "    \n",
    "    def __init__(self):\n",
    "        self.emp_id = 10001001                                  # Public Instance Varible\n",
    "        self.location = \"Delhi\"\n",
    "        self.designation = \"Data Analyst\"\n",
    "        self.__perks = \"Free Clean Water\"                        # Private Instance Variable\n",
    "    \n",
    "    def show_details(self):\n",
    "        print(\"Name : \", self.name)\n",
    "        print(\"Company Name : \", self.__company_name)\n",
    "        print(\"Salary : \", self.__salary)\n",
    "        print(\"Employee ID : \", self.emp_id)\n",
    "        print(\"Location : \", self.location)\n",
    "        print(\"Designation : \", self.designation)\n",
    "        print(\"Perks Offered : \", self.__perks)\n",
    "        \n",
    "    def employee_responsibility(self):   ## Public Method\n",
    "        print(\"Fetch Data\")\n",
    "        print(\"Clean Data\")\n",
    "        print(\"Exploratory Data Analysis\")\n",
    "        print(\"Model Testing\")\n",
    "        print(\"Model Selection\")\n",
    "        print(\"Checking Metrics of Model\")\n",
    "        print(\"Model Selection\")\n",
    "        print(\"Model Deployment\")\n",
    "        \n",
    "    def __additional_responsibility(self):  ## Private Method\n",
    "        print(\"Prepare Presentation\")\n",
    "        print(\"Talk To Clients\")\n",
    "        print(\"Deliver Presentations\")\n",
    "        \n",
    "    \n",
    "    def show_responsibilities(self):    ### Public Method\n",
    "        self.employee_responsibility()\n",
    "        self.__additional_responsibility()"
   ]
  },
  {
   "cell_type": "code",
   "execution_count": null,
   "id": "737c81dd",
   "metadata": {},
   "outputs": [],
   "source": []
  }
 ],
 "metadata": {
  "kernelspec": {
   "display_name": "Python 3 (ipykernel)",
   "language": "python",
   "name": "python3"
  },
  "language_info": {
   "codemirror_mode": {
    "name": "ipython",
    "version": 3
   },
   "file_extension": ".py",
   "mimetype": "text/x-python",
   "name": "python",
   "nbconvert_exporter": "python",
   "pygments_lexer": "ipython3",
   "version": "3.10.5"
  }
 },
 "nbformat": 4,
 "nbformat_minor": 5
}
