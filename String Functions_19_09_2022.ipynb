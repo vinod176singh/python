{
 "cells": [
  {
   "cell_type": "code",
   "execution_count": null,
   "id": "a6ffc7e2",
   "metadata": {},
   "outputs": [],
   "source": [
    "1. capitalize\n",
    "2. upper\n",
    "3. lower\n",
    "4. title\n",
    "5. strip\n",
    "6. lstrip\n",
    "7. rstrip\n",
    "8. replace\n",
    "9. count\n",
    "10.index\n",
    "\n",
    "11. find\n",
    "12. split\n",
    "13. endswith\n",
    "14. startswith\n",
    "15. isupper\n",
    "16. islower\n",
    "17. istitle\n",
    "18. isspace\n",
    "19. isalpha\n",
    "20. isalphanum\n",
    "21. isdecimal\n",
    "22. isdigit\n",
    "23. isnumeric\n",
    "24. zfill\n",
    "25. center"
   ]
  },
  {
   "cell_type": "markdown",
   "id": "1c32319e",
   "metadata": {},
   "source": [
    "## 11. find()"
   ]
  },
  {
   "cell_type": "code",
   "execution_count": 8,
   "id": "0d27f3d6",
   "metadata": {},
   "outputs": [
    {
     "data": {
      "text/plain": [
       "3"
      ]
     },
     "execution_count": 8,
     "metadata": {},
     "output_type": "execute_result"
    }
   ],
   "source": [
    "string = \"This is a sample string\"\n",
    "\n",
    "string.index(\"s\")"
   ]
  },
  {
   "cell_type": "code",
   "execution_count": 2,
   "id": "4782f1fa",
   "metadata": {},
   "outputs": [
    {
     "data": {
      "text/plain": [
       "3"
      ]
     },
     "execution_count": 2,
     "metadata": {},
     "output_type": "execute_result"
    }
   ],
   "source": [
    "string.find(\"s\")"
   ]
  },
  {
   "cell_type": "code",
   "execution_count": 3,
   "id": "b9c5f0d8",
   "metadata": {},
   "outputs": [
    {
     "data": {
      "text/plain": [
       "8"
      ]
     },
     "execution_count": 3,
     "metadata": {},
     "output_type": "execute_result"
    }
   ],
   "source": [
    "string.index(\"a\")"
   ]
  },
  {
   "cell_type": "code",
   "execution_count": 9,
   "id": "f6df7e66",
   "metadata": {},
   "outputs": [
    {
     "data": {
      "text/plain": [
       "8"
      ]
     },
     "execution_count": 9,
     "metadata": {},
     "output_type": "execute_result"
    }
   ],
   "source": [
    "string.find(\"a\")"
   ]
  },
  {
   "cell_type": "code",
   "execution_count": 5,
   "id": "a796e583",
   "metadata": {},
   "outputs": [
    {
     "ename": "ValueError",
     "evalue": "substring not found",
     "output_type": "error",
     "traceback": [
      "\u001b[1;31m---------------------------------------------------------------------------\u001b[0m",
      "\u001b[1;31mValueError\u001b[0m                                Traceback (most recent call last)",
      "Input \u001b[1;32mIn [5]\u001b[0m, in \u001b[0;36m<cell line: 1>\u001b[1;34m()\u001b[0m\n\u001b[1;32m----> 1\u001b[0m \u001b[43mstring\u001b[49m\u001b[38;5;241;43m.\u001b[39;49m\u001b[43mindex\u001b[49m\u001b[43m(\u001b[49m\u001b[38;5;124;43m\"\u001b[39;49m\u001b[38;5;124;43mq\u001b[39;49m\u001b[38;5;124;43m\"\u001b[39;49m\u001b[43m)\u001b[49m\n",
      "\u001b[1;31mValueError\u001b[0m: substring not found"
     ]
    }
   ],
   "source": [
    "string.index(\"q\")"
   ]
  },
  {
   "cell_type": "code",
   "execution_count": 6,
   "id": "ba75a9bf",
   "metadata": {},
   "outputs": [
    {
     "data": {
      "text/plain": [
       "-1"
      ]
     },
     "execution_count": 6,
     "metadata": {},
     "output_type": "execute_result"
    }
   ],
   "source": [
    "string.find(\"q\")"
   ]
  },
  {
   "cell_type": "code",
   "execution_count": null,
   "id": "7b3944a5",
   "metadata": {},
   "outputs": [],
   "source": [
    "## The difference between .index and .find is that.. the .index method would throgh an error if the charachter is not found\n",
    "## in a string whereas .find would return -1"
   ]
  },
  {
   "cell_type": "markdown",
   "id": "0403001c",
   "metadata": {},
   "source": [
    "## 12. split()"
   ]
  },
  {
   "cell_type": "code",
   "execution_count": 10,
   "id": "95e03aca",
   "metadata": {},
   "outputs": [],
   "source": [
    "## It returns list of the words of the string without the split criterion"
   ]
  },
  {
   "cell_type": "code",
   "execution_count": 11,
   "id": "4965a177",
   "metadata": {},
   "outputs": [
    {
     "data": {
      "text/plain": [
       "['This', 'is', 'a', 'sample', 'string']"
      ]
     },
     "execution_count": 11,
     "metadata": {},
     "output_type": "execute_result"
    }
   ],
   "source": [
    "string = \"This is a sample string\"\n",
    "\n",
    "string.split()"
   ]
  },
  {
   "cell_type": "code",
   "execution_count": 12,
   "id": "5b9d8292",
   "metadata": {},
   "outputs": [],
   "source": [
    "list_of_words = string.split()"
   ]
  },
  {
   "cell_type": "code",
   "execution_count": 13,
   "id": "01abb2bb",
   "metadata": {},
   "outputs": [
    {
     "name": "stdout",
     "output_type": "stream",
     "text": [
      "['This', 'is', 'a', 'sample', 'string']\n"
     ]
    }
   ],
   "source": [
    "print(list_of_words)"
   ]
  },
  {
   "cell_type": "code",
   "execution_count": 14,
   "id": "b670d9bb",
   "metadata": {},
   "outputs": [
    {
     "name": "stdout",
     "output_type": "stream",
     "text": [
      "['This', 'is', 'a', 'great', 'day', 'to', 'learn', 'string', 'functions']\n"
     ]
    }
   ],
   "source": [
    "str2 = \"This is a great day to learn string functions\"\n",
    "list2 = str2.split()\n",
    "print(list2)"
   ]
  },
  {
   "cell_type": "code",
   "execution_count": 21,
   "id": "3f6c6b6e",
   "metadata": {},
   "outputs": [
    {
     "data": {
      "text/plain": [
       "['This', 'is', 'a', 'great', 'day', 'to', 'learn', 'string', 'functions']"
      ]
     },
     "execution_count": 21,
     "metadata": {},
     "output_type": "execute_result"
    }
   ],
   "source": [
    "str2.split(\" \")"
   ]
  },
  {
   "cell_type": "code",
   "execution_count": 22,
   "id": "669201cd",
   "metadata": {},
   "outputs": [
    {
     "data": {
      "text/plain": [
       "['This is ', ' gre', 't d', 'y to le', 'rn string functions']"
      ]
     },
     "execution_count": 22,
     "metadata": {},
     "output_type": "execute_result"
    }
   ],
   "source": [
    "str2.split(\"a\")"
   ]
  },
  {
   "cell_type": "code",
   "execution_count": 23,
   "id": "c276af80",
   "metadata": {},
   "outputs": [],
   "source": [
    "string = \"Data science is the domain of study that deals with vast volumes of data using modern tools and techniques to find unseen patterns, derive meaningful information, and make business decisions. Data science uses complex machine learning algorithms to build predictive models\""
   ]
  },
  {
   "cell_type": "code",
   "execution_count": 25,
   "id": "2449d6c8",
   "metadata": {},
   "outputs": [
    {
     "data": {
      "text/plain": [
       "['Data science is the domain of study that deals with vast volumes of data using modern tools and techniques to find unseen patterns, derive meaningful information, and make business decisions. Data science uses complex machine learning algorithms to build predictive models']"
      ]
     },
     "execution_count": 25,
     "metadata": {},
     "output_type": "execute_result"
    }
   ],
   "source": [
    "string.split(\"\\n\")"
   ]
  },
  {
   "cell_type": "code",
   "execution_count": 27,
   "id": "65e883f0",
   "metadata": {},
   "outputs": [
    {
     "data": {
      "text/plain": [
       "['Data science is the domain of study that deals with vast volumes of data using modern tools ',\n",
       " 'and techniques to find unseen patterns, derive meaningful information, and make business decisions.',\n",
       " 'Data science uses complex machine learning algorithms to build predictive models']"
      ]
     },
     "execution_count": 27,
     "metadata": {},
     "output_type": "execute_result"
    }
   ],
   "source": [
    "string = \"\"\"Data science is the domain of study that deals with vast volumes of data using modern tools \n",
    "and techniques to find unseen patterns, derive meaningful information, and make business decisions.\n",
    "Data science uses complex machine learning algorithms to build predictive models\"\"\"\n",
    "\n",
    "string.split(\"\\n\")"
   ]
  },
  {
   "cell_type": "code",
   "execution_count": 28,
   "id": "84e67e21",
   "metadata": {},
   "outputs": [
    {
     "data": {
      "text/plain": [
       "'Data science is the domain of study that deals with vast volumes of data using modern tools \\nand techniques to find unseen patterns, derive meaningful information, and make business decisions.\\nData science uses complex machine learning algorithms to build predictive models'"
      ]
     },
     "execution_count": 28,
     "metadata": {},
     "output_type": "execute_result"
    }
   ],
   "source": [
    "string"
   ]
  },
  {
   "cell_type": "code",
   "execution_count": 29,
   "id": "b3875f6c",
   "metadata": {},
   "outputs": [
    {
     "name": "stdout",
     "output_type": "stream",
     "text": [
      "['This', 'is', 'a', 'sample', 'string']\n"
     ]
    }
   ],
   "source": [
    "string = \"This is a sample string\"\n",
    "\n",
    "lst1 = string.split()\n",
    "print(lst1)"
   ]
  },
  {
   "cell_type": "markdown",
   "id": "71b6aa39",
   "metadata": {},
   "source": [
    "## .join method of List"
   ]
  },
  {
   "cell_type": "code",
   "execution_count": 30,
   "id": "e25fc1bd",
   "metadata": {},
   "outputs": [],
   "source": [
    "string2 = \"\".join(lst1)"
   ]
  },
  {
   "cell_type": "code",
   "execution_count": 31,
   "id": "9450eb74",
   "metadata": {},
   "outputs": [
    {
     "data": {
      "text/plain": [
       "'Thisisasamplestring'"
      ]
     },
     "execution_count": 31,
     "metadata": {},
     "output_type": "execute_result"
    }
   ],
   "source": [
    "string2"
   ]
  },
  {
   "cell_type": "code",
   "execution_count": 32,
   "id": "654343c0",
   "metadata": {},
   "outputs": [
    {
     "data": {
      "text/plain": [
       "'This is a sample string'"
      ]
     },
     "execution_count": 32,
     "metadata": {},
     "output_type": "execute_result"
    }
   ],
   "source": [
    "string3 = \" \".join(lst1)\n",
    "string3"
   ]
  },
  {
   "cell_type": "code",
   "execution_count": 34,
   "id": "b1cf379b",
   "metadata": {},
   "outputs": [
    {
     "data": {
      "text/plain": [
       "'This+is+a+sample+string'"
      ]
     },
     "execution_count": 34,
     "metadata": {},
     "output_type": "execute_result"
    }
   ],
   "source": [
    "str4 = \"+\".join(lst1)\n",
    "str4"
   ]
  },
  {
   "cell_type": "code",
   "execution_count": 35,
   "id": "600cac9b",
   "metadata": {},
   "outputs": [
    {
     "ename": "TypeError",
     "evalue": "sequence item 1: expected str instance, int found",
     "output_type": "error",
     "traceback": [
      "\u001b[1;31m---------------------------------------------------------------------------\u001b[0m",
      "\u001b[1;31mTypeError\u001b[0m                                 Traceback (most recent call last)",
      "Input \u001b[1;32mIn [35]\u001b[0m, in \u001b[0;36m<cell line: 3>\u001b[1;34m()\u001b[0m\n\u001b[0;32m      1\u001b[0m lst2 \u001b[38;5;241m=\u001b[39m [\u001b[38;5;124m\"\u001b[39m\u001b[38;5;124m1\u001b[39m\u001b[38;5;124m\"\u001b[39m,\u001b[38;5;241m1\u001b[39m,\u001b[38;5;241m2\u001b[39m,\u001b[38;5;241m3\u001b[39m,\u001b[38;5;124m\"\u001b[39m\u001b[38;5;124mPython\u001b[39m\u001b[38;5;124m\"\u001b[39m]\n\u001b[1;32m----> 3\u001b[0m \u001b[38;5;124;43m\"\u001b[39;49m\u001b[38;5;124;43m \u001b[39;49m\u001b[38;5;124;43m\"\u001b[39;49m\u001b[38;5;241;43m.\u001b[39;49m\u001b[43mjoin\u001b[49m\u001b[43m(\u001b[49m\u001b[43mlst2\u001b[49m\u001b[43m)\u001b[49m\n",
      "\u001b[1;31mTypeError\u001b[0m: sequence item 1: expected str instance, int found"
     ]
    }
   ],
   "source": [
    "lst2 = [\"1\",1,2,3,\"Python\"]\n",
    "\n",
    "\" \".join(lst2)"
   ]
  },
  {
   "cell_type": "code",
   "execution_count": 36,
   "id": "51935818",
   "metadata": {},
   "outputs": [
    {
     "data": {
      "text/plain": [
       "'1 1 2 3 Python'"
      ]
     },
     "execution_count": 36,
     "metadata": {},
     "output_type": "execute_result"
    }
   ],
   "source": [
    "lst2 = [\"1\",\"1\",\"2\",\"3\",\"Python\"]\n",
    "\n",
    "\" \".join(lst2)"
   ]
  },
  {
   "cell_type": "markdown",
   "id": "a47bf9a7",
   "metadata": {},
   "source": [
    "## 13. endswith()"
   ]
  },
  {
   "cell_type": "code",
   "execution_count": 37,
   "id": "8f98262e",
   "metadata": {},
   "outputs": [
    {
     "data": {
      "text/plain": [
       "False"
      ]
     },
     "execution_count": 37,
     "metadata": {},
     "output_type": "execute_result"
    }
   ],
   "source": [
    "## It returns true or false on the given condition\n",
    "\n",
    "str1 = \"This is a sample string\"\n",
    "\n",
    "str1.endswith(\"n\")"
   ]
  },
  {
   "cell_type": "code",
   "execution_count": 38,
   "id": "3cb0ed55",
   "metadata": {},
   "outputs": [
    {
     "data": {
      "text/plain": [
       "True"
      ]
     },
     "execution_count": 38,
     "metadata": {},
     "output_type": "execute_result"
    }
   ],
   "source": [
    "str1.endswith('g')"
   ]
  },
  {
   "cell_type": "code",
   "execution_count": 39,
   "id": "ec24cb18",
   "metadata": {},
   "outputs": [
    {
     "data": {
      "text/plain": [
       "True"
      ]
     },
     "execution_count": 39,
     "metadata": {},
     "output_type": "execute_result"
    }
   ],
   "source": [
    "str1.endswith('string')"
   ]
  },
  {
   "cell_type": "code",
   "execution_count": 42,
   "id": "67fd12ed",
   "metadata": {},
   "outputs": [
    {
     "data": {
      "text/plain": [
       "True"
      ]
     },
     "execution_count": 42,
     "metadata": {},
     "output_type": "execute_result"
    }
   ],
   "source": [
    "file_path = \"C:\\disk_1\\Folder_1\\Python\\Python_Tipes.txt\"\n",
    "file_path2 = \"C:\\disk_1\\Folder_1\\Python\\Python_Tipes.pdf\"\n",
    "file_path.endswith(\"txt\")"
   ]
  },
  {
   "cell_type": "code",
   "execution_count": 43,
   "id": "9ab9ab35",
   "metadata": {},
   "outputs": [
    {
     "data": {
      "text/plain": [
       "True"
      ]
     },
     "execution_count": 43,
     "metadata": {},
     "output_type": "execute_result"
    }
   ],
   "source": [
    "file_path2.endswith(\"pdf\")"
   ]
  },
  {
   "cell_type": "markdown",
   "id": "6b1c1aa7",
   "metadata": {},
   "source": [
    "## 14. startswith()"
   ]
  },
  {
   "cell_type": "code",
   "execution_count": 44,
   "id": "5af05612",
   "metadata": {},
   "outputs": [
    {
     "data": {
      "text/plain": [
       "True"
      ]
     },
     "execution_count": 44,
     "metadata": {},
     "output_type": "execute_result"
    }
   ],
   "source": [
    "str1 = \"This might be the easiest thing to learn in python\"\n",
    "\n",
    "str1.startswith(\"T\")"
   ]
  },
  {
   "cell_type": "code",
   "execution_count": 45,
   "id": "bfcde76d",
   "metadata": {},
   "outputs": [
    {
     "data": {
      "text/plain": [
       "True"
      ]
     },
     "execution_count": 45,
     "metadata": {},
     "output_type": "execute_result"
    }
   ],
   "source": [
    "str1.startswith(\"Thi\")"
   ]
  },
  {
   "cell_type": "code",
   "execution_count": 46,
   "id": "f581755e",
   "metadata": {},
   "outputs": [
    {
     "data": {
      "text/plain": [
       "False"
      ]
     },
     "execution_count": 46,
     "metadata": {},
     "output_type": "execute_result"
    }
   ],
   "source": [
    "str1.startswith(\"i\")"
   ]
  },
  {
   "cell_type": "code",
   "execution_count": 47,
   "id": "b08a7b20",
   "metadata": {},
   "outputs": [
    {
     "data": {
      "text/plain": [
       "False"
      ]
     },
     "execution_count": 47,
     "metadata": {},
     "output_type": "execute_result"
    }
   ],
   "source": [
    "str1.startswith(\"his\")"
   ]
  },
  {
   "cell_type": "code",
   "execution_count": 48,
   "id": "4ba39cd7",
   "metadata": {},
   "outputs": [
    {
     "data": {
      "text/plain": [
       "True"
      ]
     },
     "execution_count": 48,
     "metadata": {},
     "output_type": "execute_result"
    }
   ],
   "source": [
    "str1.startswith(\"This might\")"
   ]
  },
  {
   "cell_type": "markdown",
   "id": "4463eca9",
   "metadata": {},
   "source": [
    "## 15. isupper()"
   ]
  },
  {
   "cell_type": "code",
   "execution_count": 49,
   "id": "93d1f88c",
   "metadata": {},
   "outputs": [
    {
     "data": {
      "text/plain": [
       "True"
      ]
     },
     "execution_count": 49,
     "metadata": {},
     "output_type": "execute_result"
    }
   ],
   "source": [
    "str1 = \"THIS IS PYTHON\"\n",
    "\n",
    "str1.isupper() # When all the characters are in uppercase this method will return true or else it will return false"
   ]
  },
  {
   "cell_type": "code",
   "execution_count": 50,
   "id": "f5afb263",
   "metadata": {},
   "outputs": [
    {
     "data": {
      "text/plain": [
       "False"
      ]
     },
     "execution_count": 50,
     "metadata": {},
     "output_type": "execute_result"
    }
   ],
   "source": [
    "str1 = \"This is python\"\n",
    "\n",
    "str1.isupper()"
   ]
  },
  {
   "cell_type": "code",
   "execution_count": 51,
   "id": "116085c8",
   "metadata": {},
   "outputs": [
    {
     "data": {
      "text/plain": [
       "False"
      ]
     },
     "execution_count": 51,
     "metadata": {},
     "output_type": "execute_result"
    }
   ],
   "source": [
    "str2 = \"pYTHON\"\n",
    "str2.isupper()"
   ]
  },
  {
   "cell_type": "code",
   "execution_count": 52,
   "id": "3c6e92d3",
   "metadata": {},
   "outputs": [
    {
     "data": {
      "text/plain": [
       "False"
      ]
     },
     "execution_count": 52,
     "metadata": {},
     "output_type": "execute_result"
    }
   ],
   "source": [
    "str2 = \"Python\"\n",
    "str2.isupper()"
   ]
  },
  {
   "cell_type": "code",
   "execution_count": 53,
   "id": "97c9dcae",
   "metadata": {},
   "outputs": [
    {
     "data": {
      "text/plain": [
       "True"
      ]
     },
     "execution_count": 53,
     "metadata": {},
     "output_type": "execute_result"
    }
   ],
   "source": [
    "str3 = \"PYTHON\"\n",
    "str3.isupper()"
   ]
  },
  {
   "cell_type": "markdown",
   "id": "a64cd8fc",
   "metadata": {},
   "source": [
    "## 16. islower()"
   ]
  },
  {
   "cell_type": "code",
   "execution_count": 54,
   "id": "07550327",
   "metadata": {},
   "outputs": [],
   "source": [
    "## when all characters are in lower case in the givem string this will return true else it will return false"
   ]
  },
  {
   "cell_type": "code",
   "execution_count": 55,
   "id": "bcb2b5f4",
   "metadata": {},
   "outputs": [
    {
     "data": {
      "text/plain": [
       "False"
      ]
     },
     "execution_count": 55,
     "metadata": {},
     "output_type": "execute_result"
    }
   ],
   "source": [
    "str1 = \"This is a Good Language to learn\"\n",
    "\n",
    "str1.islower()"
   ]
  },
  {
   "cell_type": "code",
   "execution_count": 56,
   "id": "0a099f9a",
   "metadata": {},
   "outputs": [
    {
     "name": "stdout",
     "output_type": "stream",
     "text": [
      "this is a good language to learn\n"
     ]
    }
   ],
   "source": [
    "str1 = str1.lower()\n",
    "print(str1)"
   ]
  },
  {
   "cell_type": "code",
   "execution_count": 57,
   "id": "b9de997e",
   "metadata": {},
   "outputs": [
    {
     "data": {
      "text/plain": [
       "True"
      ]
     },
     "execution_count": 57,
     "metadata": {},
     "output_type": "execute_result"
    }
   ],
   "source": [
    "str1.islower()"
   ]
  },
  {
   "cell_type": "code",
   "execution_count": 58,
   "id": "6be0265b",
   "metadata": {},
   "outputs": [
    {
     "data": {
      "text/plain": [
       "False"
      ]
     },
     "execution_count": 58,
     "metadata": {},
     "output_type": "execute_result"
    }
   ],
   "source": [
    "str1 = \"Python\"\n",
    "str1.islower()"
   ]
  },
  {
   "cell_type": "code",
   "execution_count": 60,
   "id": "3d502538",
   "metadata": {},
   "outputs": [
    {
     "data": {
      "text/plain": [
       "True"
      ]
     },
     "execution_count": 60,
     "metadata": {},
     "output_type": "execute_result"
    }
   ],
   "source": [
    "str1 = \"python\"\n",
    "str1.islower()"
   ]
  },
  {
   "cell_type": "code",
   "execution_count": 61,
   "id": "76a5c081",
   "metadata": {},
   "outputs": [
    {
     "data": {
      "text/plain": [
       "False"
      ]
     },
     "execution_count": 61,
     "metadata": {},
     "output_type": "execute_result"
    }
   ],
   "source": [
    "str1 = \"pYTHON\"\n",
    "str1.islower()"
   ]
  },
  {
   "cell_type": "markdown",
   "id": "3443654e",
   "metadata": {},
   "source": [
    "## 17. istitle()"
   ]
  },
  {
   "cell_type": "code",
   "execution_count": 62,
   "id": "ad0be1bd",
   "metadata": {},
   "outputs": [
    {
     "data": {
      "text/plain": [
       "False"
      ]
     },
     "execution_count": 62,
     "metadata": {},
     "output_type": "execute_result"
    }
   ],
   "source": [
    "str1 = \"python\"\n",
    "str1.istitle()"
   ]
  },
  {
   "cell_type": "code",
   "execution_count": 63,
   "id": "cdcb256a",
   "metadata": {},
   "outputs": [
    {
     "data": {
      "text/plain": [
       "False"
      ]
     },
     "execution_count": 63,
     "metadata": {},
     "output_type": "execute_result"
    }
   ],
   "source": [
    "str1 = \"PYTHON\"\n",
    "str1.istitle()"
   ]
  },
  {
   "cell_type": "code",
   "execution_count": 64,
   "id": "ff8bf07e",
   "metadata": {},
   "outputs": [
    {
     "data": {
      "text/plain": [
       "True"
      ]
     },
     "execution_count": 64,
     "metadata": {},
     "output_type": "execute_result"
    }
   ],
   "source": [
    "str1 = \"Python\"\n",
    "str1.istitle()"
   ]
  },
  {
   "cell_type": "code",
   "execution_count": 65,
   "id": "0f7f191e",
   "metadata": {},
   "outputs": [
    {
     "data": {
      "text/plain": [
       "False"
      ]
     },
     "execution_count": 65,
     "metadata": {},
     "output_type": "execute_result"
    }
   ],
   "source": [
    "str1 = \"Python is a GOOD language to learn\"\n",
    "\n",
    "str1.istitle()"
   ]
  },
  {
   "cell_type": "code",
   "execution_count": 66,
   "id": "b466659c",
   "metadata": {},
   "outputs": [
    {
     "data": {
      "text/plain": [
       "False"
      ]
     },
     "execution_count": 66,
     "metadata": {},
     "output_type": "execute_result"
    }
   ],
   "source": [
    "str1 = \"Python is a good language to learn\"\n",
    "str1.istitle()"
   ]
  },
  {
   "cell_type": "code",
   "execution_count": 67,
   "id": "abd0feea",
   "metadata": {},
   "outputs": [
    {
     "data": {
      "text/plain": [
       "True"
      ]
     },
     "execution_count": 67,
     "metadata": {},
     "output_type": "execute_result"
    }
   ],
   "source": [
    "str1 = \"Python Is A Good Language To Learn\"\n",
    "str1.istitle()"
   ]
  },
  {
   "cell_type": "code",
   "execution_count": 110,
   "id": "e5392ef1",
   "metadata": {},
   "outputs": [
    {
     "data": {
      "text/plain": [
       "True"
      ]
     },
     "execution_count": 110,
     "metadata": {},
     "output_type": "execute_result"
    }
   ],
   "source": [
    "str1 = \"3Python Is A Good Language To Learn\"\n",
    "str1.istitle()"
   ]
  },
  {
   "cell_type": "code",
   "execution_count": 112,
   "id": "20b5e58b",
   "metadata": {},
   "outputs": [
    {
     "data": {
      "text/plain": [
       "'23652E3653Python Is A Good Language To Learn'"
      ]
     },
     "execution_count": 112,
     "metadata": {},
     "output_type": "execute_result"
    }
   ],
   "source": [
    "\"23652e3653python Is A Good Language To Learn\".title()"
   ]
  },
  {
   "cell_type": "markdown",
   "id": "ce165106",
   "metadata": {},
   "source": [
    "## 18. isspace()"
   ]
  },
  {
   "cell_type": "code",
   "execution_count": 68,
   "id": "2facf11c",
   "metadata": {},
   "outputs": [
    {
     "data": {
      "text/plain": [
       "False"
      ]
     },
     "execution_count": 68,
     "metadata": {},
     "output_type": "execute_result"
    }
   ],
   "source": [
    "str1 = \"python\"\n",
    "\n",
    "str1.isspace()"
   ]
  },
  {
   "cell_type": "code",
   "execution_count": 71,
   "id": "fc92cc82",
   "metadata": {},
   "outputs": [
    {
     "data": {
      "text/plain": [
       "False"
      ]
     },
     "execution_count": 71,
     "metadata": {},
     "output_type": "execute_result"
    }
   ],
   "source": [
    "str1 = \"    python\"\n",
    "str1.isspace()"
   ]
  },
  {
   "cell_type": "code",
   "execution_count": 70,
   "id": "fcb3c1d3",
   "metadata": {},
   "outputs": [
    {
     "data": {
      "text/plain": [
       "True"
      ]
     },
     "execution_count": 70,
     "metadata": {},
     "output_type": "execute_result"
    }
   ],
   "source": [
    "str1 = \"     \"\n",
    "str1.isspace()"
   ]
  },
  {
   "cell_type": "code",
   "execution_count": 72,
   "id": "2a431205",
   "metadata": {},
   "outputs": [
    {
     "data": {
      "text/plain": [
       "True"
      ]
     },
     "execution_count": 72,
     "metadata": {},
     "output_type": "execute_result"
    }
   ],
   "source": [
    "str1 = \"    Python is a good language\"\n",
    "\n",
    "str1[:4].isspace()"
   ]
  },
  {
   "cell_type": "code",
   "execution_count": 73,
   "id": "8d03eaec",
   "metadata": {},
   "outputs": [
    {
     "data": {
      "text/plain": [
       "False"
      ]
     },
     "execution_count": 73,
     "metadata": {},
     "output_type": "execute_result"
    }
   ],
   "source": [
    "str1.isspace()"
   ]
  },
  {
   "cell_type": "code",
   "execution_count": 74,
   "id": "f911f213",
   "metadata": {},
   "outputs": [
    {
     "data": {
      "text/plain": [
       "True"
      ]
     },
     "execution_count": 74,
     "metadata": {},
     "output_type": "execute_result"
    }
   ],
   "source": [
    "str1 = \"Python      is a good language\"\n",
    "\n",
    "str1[6:12].isspace()"
   ]
  },
  {
   "cell_type": "markdown",
   "id": "e658d21a",
   "metadata": {},
   "source": [
    "## 19. isalpha()"
   ]
  },
  {
   "cell_type": "code",
   "execution_count": 75,
   "id": "b6c05dff",
   "metadata": {},
   "outputs": [],
   "source": [
    "## This returns True if the given string has alphabets only (a-z,A-Z)\n",
    "## Otherwise it will return false"
   ]
  },
  {
   "cell_type": "code",
   "execution_count": 76,
   "id": "b52054e7",
   "metadata": {},
   "outputs": [
    {
     "data": {
      "text/plain": [
       "True"
      ]
     },
     "execution_count": 76,
     "metadata": {},
     "output_type": "execute_result"
    }
   ],
   "source": [
    "str1 = \"Python\"\n",
    "\n",
    "str1.isalpha()"
   ]
  },
  {
   "cell_type": "code",
   "execution_count": 77,
   "id": "65c002d7",
   "metadata": {},
   "outputs": [
    {
     "data": {
      "text/plain": [
       "False"
      ]
     },
     "execution_count": 77,
     "metadata": {},
     "output_type": "execute_result"
    }
   ],
   "source": [
    "str1 = \"Python is a good language\"\n",
    "str1.isalpha()"
   ]
  },
  {
   "cell_type": "code",
   "execution_count": 78,
   "id": "ea2062b7",
   "metadata": {},
   "outputs": [
    {
     "data": {
      "text/plain": [
       "False"
      ]
     },
     "execution_count": 78,
     "metadata": {},
     "output_type": "execute_result"
    }
   ],
   "source": [
    "str1 = \"Python Python\"\n",
    "str1.isalpha()"
   ]
  },
  {
   "cell_type": "code",
   "execution_count": 79,
   "id": "92729984",
   "metadata": {},
   "outputs": [
    {
     "data": {
      "text/plain": [
       "True"
      ]
     },
     "execution_count": 79,
     "metadata": {},
     "output_type": "execute_result"
    }
   ],
   "source": [
    "str1 = \"PythonPYTHON\"\n",
    "str1.isalpha()"
   ]
  },
  {
   "cell_type": "code",
   "execution_count": 80,
   "id": "33680b0d",
   "metadata": {},
   "outputs": [
    {
     "data": {
      "text/plain": [
       "False"
      ]
     },
     "execution_count": 80,
     "metadata": {},
     "output_type": "execute_result"
    }
   ],
   "source": [
    "str1 = \"Python \" #Space is not allowed\n",
    "str1.isalpha()"
   ]
  },
  {
   "cell_type": "markdown",
   "id": "9a6253fe",
   "metadata": {},
   "source": [
    "## 20. isalnum()"
   ]
  },
  {
   "cell_type": "code",
   "execution_count": 81,
   "id": "286a7ceb",
   "metadata": {},
   "outputs": [],
   "source": [
    "## This returns true if the given string has alphabets and numerical value"
   ]
  },
  {
   "cell_type": "code",
   "execution_count": 82,
   "id": "c12a28e0",
   "metadata": {},
   "outputs": [
    {
     "data": {
      "text/plain": [
       "False"
      ]
     },
     "execution_count": 82,
     "metadata": {},
     "output_type": "execute_result"
    }
   ],
   "source": [
    "str1 = \"This is number 1 language\"\n",
    "str1.isalnum()"
   ]
  },
  {
   "cell_type": "code",
   "execution_count": 83,
   "id": "2996b26b",
   "metadata": {},
   "outputs": [
    {
     "data": {
      "text/plain": [
       "True"
      ]
     },
     "execution_count": 83,
     "metadata": {},
     "output_type": "execute_result"
    }
   ],
   "source": [
    "str1 = \"Python1\"\n",
    "str1.isalnum()"
   ]
  },
  {
   "cell_type": "code",
   "execution_count": 84,
   "id": "4ddc7cbc",
   "metadata": {},
   "outputs": [
    {
     "data": {
      "text/plain": [
       "False"
      ]
     },
     "execution_count": 84,
     "metadata": {},
     "output_type": "execute_result"
    }
   ],
   "source": [
    "str1 = \"Python1 \"\n",
    "str1.isalnum()"
   ]
  },
  {
   "cell_type": "markdown",
   "id": "8b3efd44",
   "metadata": {},
   "source": [
    "## 21. isdecimal()"
   ]
  },
  {
   "cell_type": "code",
   "execution_count": null,
   "id": "047eb018",
   "metadata": {},
   "outputs": [],
   "source": [
    "## This returns true if the string congtains only integers and unicode for integers (0-9)"
   ]
  },
  {
   "cell_type": "code",
   "execution_count": 87,
   "id": "8f379311",
   "metadata": {},
   "outputs": [
    {
     "data": {
      "text/plain": [
       "True"
      ]
     },
     "execution_count": 87,
     "metadata": {},
     "output_type": "execute_result"
    }
   ],
   "source": [
    "str1 = \"12345\"\n",
    "str1.isdecimal()"
   ]
  },
  {
   "cell_type": "code",
   "execution_count": 88,
   "id": "48c88316",
   "metadata": {},
   "outputs": [
    {
     "data": {
      "text/plain": [
       "False"
      ]
     },
     "execution_count": 88,
     "metadata": {},
     "output_type": "execute_result"
    }
   ],
   "source": [
    "str1 = \"12345 \"\n",
    "str1.isdecimal() ## Space is not allowed"
   ]
  },
  {
   "cell_type": "code",
   "execution_count": 89,
   "id": "d890b8c2",
   "metadata": {},
   "outputs": [
    {
     "data": {
      "text/plain": [
       "False"
      ]
     },
     "execution_count": 89,
     "metadata": {},
     "output_type": "execute_result"
    }
   ],
   "source": [
    "str1 = \"p1234\"\n",
    "str1.isdecimal()"
   ]
  },
  {
   "cell_type": "code",
   "execution_count": 90,
   "id": "d4bffc36",
   "metadata": {},
   "outputs": [
    {
     "data": {
      "text/plain": [
       "False"
      ]
     },
     "execution_count": 90,
     "metadata": {},
     "output_type": "execute_result"
    }
   ],
   "source": [
    "str1 = \"11.22\"\n",
    "str1.isdecimal()"
   ]
  },
  {
   "cell_type": "code",
   "execution_count": null,
   "id": "3a0d5065",
   "metadata": {},
   "outputs": [],
   "source": [
    "\\u0000 >> null\n",
    "\\u0030 >> 0\n",
    "\\u0031 >> 1\n",
    ".\n",
    ".\n",
    "\\u0039 >> 9"
   ]
  },
  {
   "cell_type": "code",
   "execution_count": 92,
   "id": "26a07c2e",
   "metadata": {},
   "outputs": [
    {
     "data": {
      "text/plain": [
       "False"
      ]
     },
     "execution_count": 92,
     "metadata": {},
     "output_type": "execute_result"
    }
   ],
   "source": [
    "str1 = \"\\u0000\"  ## This is a unicode for null\n",
    "str1.isdecimal()"
   ]
  },
  {
   "cell_type": "code",
   "execution_count": 93,
   "id": "42cb6fe9",
   "metadata": {},
   "outputs": [
    {
     "data": {
      "text/plain": [
       "True"
      ]
     },
     "execution_count": 93,
     "metadata": {},
     "output_type": "execute_result"
    }
   ],
   "source": [
    "str1 = \"\\u0030\" ## This is a unicode for zero\n",
    "\n",
    "str1.isdecimal()"
   ]
  },
  {
   "cell_type": "code",
   "execution_count": 94,
   "id": "da10071f",
   "metadata": {},
   "outputs": [
    {
     "data": {
      "text/plain": [
       "True"
      ]
     },
     "execution_count": 94,
     "metadata": {},
     "output_type": "execute_result"
    }
   ],
   "source": [
    "str1 = \"\\u0031\"\n",
    "str1.isdecimal()"
   ]
  },
  {
   "cell_type": "markdown",
   "id": "a7b51378",
   "metadata": {},
   "source": [
    "## 22. isdigit()"
   ]
  },
  {
   "cell_type": "code",
   "execution_count": null,
   "id": "3ed83768",
   "metadata": {},
   "outputs": [],
   "source": [
    "True >> If the string contains only digits and unicode for digits (0-9)\n",
    "True >> If there are subscripts and suerscripts\n",
    "\n",
    "False >> If there is a space in the string or dot(.)"
   ]
  },
  {
   "cell_type": "code",
   "execution_count": 95,
   "id": "27a17d43",
   "metadata": {},
   "outputs": [
    {
     "data": {
      "text/plain": [
       "True"
      ]
     },
     "execution_count": 95,
     "metadata": {},
     "output_type": "execute_result"
    }
   ],
   "source": [
    "str1 = \"1112233\"\n",
    "str1.isdigit()"
   ]
  },
  {
   "cell_type": "code",
   "execution_count": 96,
   "id": "c96a2371",
   "metadata": {},
   "outputs": [
    {
     "data": {
      "text/plain": [
       "False"
      ]
     },
     "execution_count": 96,
     "metadata": {},
     "output_type": "execute_result"
    }
   ],
   "source": [
    "str1 = \"123.123\"\n",
    "str1.isdigit()"
   ]
  },
  {
   "cell_type": "code",
   "execution_count": 97,
   "id": "6b6db471",
   "metadata": {},
   "outputs": [
    {
     "data": {
      "text/plain": [
       "False"
      ]
     },
     "execution_count": 97,
     "metadata": {},
     "output_type": "execute_result"
    }
   ],
   "source": [
    "str1 = \"123 \"\n",
    "str1.isdigit()"
   ]
  },
  {
   "cell_type": "code",
   "execution_count": 98,
   "id": "05bb3cf4",
   "metadata": {},
   "outputs": [
    {
     "data": {
      "text/plain": [
       "True"
      ]
     },
     "execution_count": 98,
     "metadata": {},
     "output_type": "execute_result"
    }
   ],
   "source": [
    "str1 = \"\\u0030\"\n",
    "str1.isdigit()"
   ]
  },
  {
   "cell_type": "code",
   "execution_count": 100,
   "id": "8a5bc857",
   "metadata": {},
   "outputs": [
    {
     "data": {
      "text/plain": [
       "True"
      ]
     },
     "execution_count": 100,
     "metadata": {},
     "output_type": "execute_result"
    }
   ],
   "source": [
    "str1 = \"\\u00B2\" ## Superscript 2\n",
    "\n",
    "str1.isdigit()"
   ]
  },
  {
   "cell_type": "code",
   "execution_count": 101,
   "id": "790718b2",
   "metadata": {},
   "outputs": [
    {
     "data": {
      "text/plain": [
       "True"
      ]
     },
     "execution_count": 101,
     "metadata": {},
     "output_type": "execute_result"
    }
   ],
   "source": [
    "str1 = \"\\u00B3\" ## Superscript 3\n",
    "\n",
    "str1.isdigit()"
   ]
  },
  {
   "cell_type": "code",
   "execution_count": 102,
   "id": "d6cd94a8",
   "metadata": {},
   "outputs": [
    {
     "data": {
      "text/plain": [
       "False"
      ]
     },
     "execution_count": 102,
     "metadata": {},
     "output_type": "execute_result"
    }
   ],
   "source": [
    "str1 = \"\\u00B4\" ## Acute Accent\n",
    "\n",
    "str1.isdigit()"
   ]
  },
  {
   "cell_type": "markdown",
   "id": "7543d27c",
   "metadata": {},
   "source": [
    "## 23. isnumeric()"
   ]
  },
  {
   "cell_type": "code",
   "execution_count": null,
   "id": "99a5c6f9",
   "metadata": {},
   "outputs": [],
   "source": [
    "True  >> for digits (0-9)\n",
    "True  >> for uicode of digits (0-9)\n",
    "True  >> For digit subscript and superscripts unicodes\n",
    "True  >> Unicode of Vulgar fraction (2/3, 5/6)\n",
    "\n",
    "False >> space, dot(.)"
   ]
  },
  {
   "cell_type": "code",
   "execution_count": 103,
   "id": "358ace26",
   "metadata": {},
   "outputs": [
    {
     "data": {
      "text/plain": [
       "True"
      ]
     },
     "execution_count": 103,
     "metadata": {},
     "output_type": "execute_result"
    }
   ],
   "source": [
    "str1 = \"1234\"\n",
    "\n",
    "str1.isnumeric()"
   ]
  },
  {
   "cell_type": "code",
   "execution_count": 104,
   "id": "9bc44210",
   "metadata": {},
   "outputs": [
    {
     "data": {
      "text/plain": [
       "True"
      ]
     },
     "execution_count": 104,
     "metadata": {},
     "output_type": "execute_result"
    }
   ],
   "source": [
    "str1 = \"\\u0030\"\n",
    "str1.isnumeric()"
   ]
  },
  {
   "cell_type": "code",
   "execution_count": 105,
   "id": "a25b4303",
   "metadata": {},
   "outputs": [
    {
     "data": {
      "text/plain": [
       "True"
      ]
     },
     "execution_count": 105,
     "metadata": {},
     "output_type": "execute_result"
    }
   ],
   "source": [
    "str1 = \"\\u00B3\" ## Superscript 3\n",
    "\n",
    "str1.isnumeric()"
   ]
  },
  {
   "cell_type": "code",
   "execution_count": 106,
   "id": "5b400560",
   "metadata": {},
   "outputs": [
    {
     "data": {
      "text/plain": [
       "False"
      ]
     },
     "execution_count": 106,
     "metadata": {},
     "output_type": "execute_result"
    }
   ],
   "source": [
    "str1 = \"3/4\"\n",
    "\n",
    "str1.isnumeric()"
   ]
  },
  {
   "cell_type": "code",
   "execution_count": 107,
   "id": "c7782b69",
   "metadata": {},
   "outputs": [
    {
     "data": {
      "text/plain": [
       "True"
      ]
     },
     "execution_count": 107,
     "metadata": {},
     "output_type": "execute_result"
    }
   ],
   "source": [
    "str1 = '\\u00BE' ## This is unicode for 3/4\n",
    "str1.isnumeric()"
   ]
  },
  {
   "cell_type": "code",
   "execution_count": null,
   "id": "820412fd",
   "metadata": {},
   "outputs": [],
   "source": []
  }
 ],
 "metadata": {
  "kernelspec": {
   "display_name": "Python 3 (ipykernel)",
   "language": "python",
   "name": "python3"
  },
  "language_info": {
   "codemirror_mode": {
    "name": "ipython",
    "version": 3
   },
   "file_extension": ".py",
   "mimetype": "text/x-python",
   "name": "python",
   "nbconvert_exporter": "python",
   "pygments_lexer": "ipython3",
   "version": "3.10.5"
  }
 },
 "nbformat": 4,
 "nbformat_minor": 5
}
