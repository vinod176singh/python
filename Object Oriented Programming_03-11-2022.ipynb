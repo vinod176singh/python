{
 "cells": [
  {
   "cell_type": "code",
   "execution_count": 1,
   "id": "1d5ecdd2",
   "metadata": {},
   "outputs": [
    {
     "data": {
      "text/plain": [
       "range(10, 20)"
      ]
     },
     "execution_count": 1,
     "metadata": {},
     "output_type": "execute_result"
    }
   ],
   "source": [
    "range(10,20)"
   ]
  },
  {
   "cell_type": "code",
   "execution_count": 2,
   "id": "3db76256",
   "metadata": {},
   "outputs": [
    {
     "data": {
      "text/plain": [
       "[1, 2, 3, 4, 5, 6, 7, 8, 9, 10, 11, 12, 13, 14, 15, 16, 17, 18, 19]"
      ]
     },
     "execution_count": 2,
     "metadata": {},
     "output_type": "execute_result"
    }
   ],
   "source": [
    "list(range(1,20))"
   ]
  },
  {
   "cell_type": "code",
   "execution_count": 3,
   "id": "5fc58c11",
   "metadata": {},
   "outputs": [
    {
     "data": {
      "text/plain": [
       "(1, 2, 3, 4, 5, 6, 7, 8, 9, 10, 11, 12, 13, 14, 15, 16, 17, 18, 19)"
      ]
     },
     "execution_count": 3,
     "metadata": {},
     "output_type": "execute_result"
    }
   ],
   "source": [
    "tuple(range(1,20))"
   ]
  },
  {
   "cell_type": "code",
   "execution_count": null,
   "id": "9c7218a1",
   "metadata": {},
   "outputs": [],
   "source": [
    "int, str, bool, float"
   ]
  },
  {
   "cell_type": "code",
   "execution_count": 4,
   "id": "58a66678",
   "metadata": {},
   "outputs": [],
   "source": [
    "import numpy as np"
   ]
  },
  {
   "cell_type": "code",
   "execution_count": 5,
   "id": "e4b42c11",
   "metadata": {},
   "outputs": [],
   "source": [
    "arr = np.array(range(1,20))"
   ]
  },
  {
   "cell_type": "code",
   "execution_count": 6,
   "id": "07242bb2",
   "metadata": {},
   "outputs": [
    {
     "data": {
      "text/plain": [
       "array([ 1,  2,  3,  4,  5,  6,  7,  8,  9, 10, 11, 12, 13, 14, 15, 16, 17,\n",
       "       18, 19])"
      ]
     },
     "execution_count": 6,
     "metadata": {},
     "output_type": "execute_result"
    }
   ],
   "source": [
    "arr"
   ]
  },
  {
   "cell_type": "code",
   "execution_count": 67,
   "id": "4f7d9828",
   "metadata": {},
   "outputs": [],
   "source": [
    "class Dog():\n",
    "    def __init__(self,colour, breed, cuteness, agression, cost, gender, name, age):\n",
    "        self.colour = colour\n",
    "        self.breed = breed\n",
    "        self.cuteness = cuteness\n",
    "        self.agression = agression\n",
    "        self.cost = cost\n",
    "        self.gender = gender\n",
    "        self.name = name\n",
    "        self.age = age\n",
    "    \n",
    "    def bark(self):\n",
    "        print(\"Bhau wow!\")\n",
    "    \n",
    "    def howl(self):\n",
    "        print(\"Auuuuuuuuuuuuuuuuuuuuuuuuuuuuuuu!\")\n",
    "        \n",
    "    def introduce(self):\n",
    "        print(f\"Hi I am {self.name}\")\n",
    "        print(\"And I am a dog\")\n",
    "        print(f\"My age is {self.age}\")\n",
    "        \n",
    "        \n",
    "        "
   ]
  },
  {
   "cell_type": "code",
   "execution_count": 68,
   "id": "d84cfc1e",
   "metadata": {},
   "outputs": [],
   "source": [
    "my_dog = Dog(\"Golden\",\"Golden Retrival\",100,5,1000,\"Male\",\"Tommy\",4)\n",
    "\n",
    "## my_dog is an object of class Dog"
   ]
  },
  {
   "cell_type": "code",
   "execution_count": 9,
   "id": "442bd42a",
   "metadata": {},
   "outputs": [
    {
     "name": "stdout",
     "output_type": "stream",
     "text": [
      "Bhau wow!\n"
     ]
    }
   ],
   "source": [
    "my_dog.bark()"
   ]
  },
  {
   "cell_type": "code",
   "execution_count": 10,
   "id": "9532d4a6",
   "metadata": {},
   "outputs": [
    {
     "name": "stdout",
     "output_type": "stream",
     "text": [
      "Auuuuuuuuuuuuuuuuuuuuuuuuuuuuuuu!\n"
     ]
    }
   ],
   "source": [
    "my_dog.howl()"
   ]
  },
  {
   "cell_type": "code",
   "execution_count": 11,
   "id": "7ac258b9",
   "metadata": {},
   "outputs": [
    {
     "name": "stdout",
     "output_type": "stream",
     "text": [
      "Hi I am Tommy\n",
      "And I am a dog\n",
      "My age is 4\n"
     ]
    }
   ],
   "source": [
    "my_dog.introduce()"
   ]
  },
  {
   "cell_type": "code",
   "execution_count": null,
   "id": "36dc8c99",
   "metadata": {},
   "outputs": [],
   "source": [
    "Real world objects have Properties (Attributes) and behaviour (Methods)\n",
    "\n",
    "Class are the blue print of real world objects or user defined objects "
   ]
  },
  {
   "cell_type": "code",
   "execution_count": null,
   "id": "6fc07142",
   "metadata": {},
   "outputs": [],
   "source": [
    "Example: Phone\n",
    "    Properties (Attributes): Colour, Cost, Brand, Battery life, OS, Processor\n",
    "    Behaviour (Methods)    : Making a call, Receiving a call, Display Video, Taking Photo, Playing Game, Internet, Messages\n",
    "\n",
    "When we package this Attributes and Method, we are going to call it as Class in python\n",
    "Class in python is a user defined datatype"
   ]
  },
  {
   "cell_type": "code",
   "execution_count": null,
   "id": "e8c2f8a8",
   "metadata": {},
   "outputs": [],
   "source": [
    "Object (my_dog) is an Example (instance) of Class (Dog)\n",
    "Object is an instance of class"
   ]
  },
  {
   "cell_type": "code",
   "execution_count": 16,
   "id": "4d06ae7a",
   "metadata": {},
   "outputs": [],
   "source": [
    "## Lel's creat a Phone in Python!\n",
    "\n",
    "class Phone():  ## Class name shall always start with capital letter\n",
    "    def make_call(self,name):\n",
    "        print(f\"Calling {name}.....\")\n",
    "    def play_game(self,game_name):\n",
    "        print(f\"Playing Game {game_name}\")\n",
    "    def play_music(self,song_name):\n",
    "        print(f\"Playing {song_name}\")"
   ]
  },
  {
   "cell_type": "code",
   "execution_count": 17,
   "id": "b2782b14",
   "metadata": {},
   "outputs": [],
   "source": [
    "my_phone = Phone()"
   ]
  },
  {
   "cell_type": "code",
   "execution_count": 18,
   "id": "868d1971",
   "metadata": {},
   "outputs": [
    {
     "name": "stdout",
     "output_type": "stream",
     "text": [
      "Calling Friend.....\n"
     ]
    }
   ],
   "source": [
    "my_phone.make_call(\"Friend\")"
   ]
  },
  {
   "cell_type": "code",
   "execution_count": 19,
   "id": "c93078fc",
   "metadata": {},
   "outputs": [
    {
     "name": "stdout",
     "output_type": "stream",
     "text": [
      "Playing Game PUBG\n"
     ]
    }
   ],
   "source": [
    "my_phone.play_game(\"PUBG\")"
   ]
  },
  {
   "cell_type": "code",
   "execution_count": 20,
   "id": "cf61ed5a",
   "metadata": {},
   "outputs": [
    {
     "name": "stdout",
     "output_type": "stream",
     "text": [
      "Playing Chaiyya Chaiyya\n"
     ]
    }
   ],
   "source": [
    "my_phone.play_music(\"Chaiyya Chaiyya\")"
   ]
  },
  {
   "cell_type": "code",
   "execution_count": 64,
   "id": "6b2f41c0",
   "metadata": {},
   "outputs": [],
   "source": [
    "### Setting Properties without __init__\n",
    "class Phone():\n",
    "    def set_colour(self,colour):\n",
    "        self.colour = colour\n",
    "    def set_price(self, price):\n",
    "        self.price = price\n",
    "    def set_brand(self,brand):\n",
    "        self.brand = brand\n",
    "    def set_processesor(self,processesor):\n",
    "        self.processesor = processesor\n",
    "        \n",
    "    def make_call(self,name):\n",
    "        print(f\"Calling {name}...\")\n",
    "    def play_game(self, game):\n",
    "        print(f\"Playing {game}\")\n",
    "    def play_music(self, music):\n",
    "        print(f\"Playing song {music}\")"
   ]
  },
  {
   "cell_type": "code",
   "execution_count": 42,
   "id": "d6faec1a",
   "metadata": {},
   "outputs": [],
   "source": [
    "my_phone = Phone()"
   ]
  },
  {
   "cell_type": "code",
   "execution_count": 43,
   "id": "edad0380",
   "metadata": {},
   "outputs": [],
   "source": [
    "my_phone.set_brand(\"Xiaomi\")\n",
    "my_phone.set_colour(\"Moonlight Black\")\n",
    "my_phone.set_price(12000)\n",
    "my_phone.set_processesor(\"Snapdragon 665\")"
   ]
  },
  {
   "cell_type": "code",
   "execution_count": 44,
   "id": "b059e452",
   "metadata": {},
   "outputs": [
    {
     "data": {
      "text/plain": [
       "'Xiaomi'"
      ]
     },
     "execution_count": 44,
     "metadata": {},
     "output_type": "execute_result"
    }
   ],
   "source": [
    "### Accessing the properties /  Attributes\n",
    "\n",
    "my_phone.brand"
   ]
  },
  {
   "cell_type": "code",
   "execution_count": 45,
   "id": "03651558",
   "metadata": {},
   "outputs": [
    {
     "data": {
      "text/plain": [
       "'Moonlight Black'"
      ]
     },
     "execution_count": 45,
     "metadata": {},
     "output_type": "execute_result"
    }
   ],
   "source": [
    "my_phone.colour"
   ]
  },
  {
   "cell_type": "code",
   "execution_count": 46,
   "id": "e8ac6e04",
   "metadata": {},
   "outputs": [
    {
     "data": {
      "text/plain": [
       "12000"
      ]
     },
     "execution_count": 46,
     "metadata": {},
     "output_type": "execute_result"
    }
   ],
   "source": [
    "my_phone.price"
   ]
  },
  {
   "cell_type": "code",
   "execution_count": 47,
   "id": "079716ee",
   "metadata": {},
   "outputs": [
    {
     "data": {
      "text/plain": [
       "'Snapdragon 665'"
      ]
     },
     "execution_count": 47,
     "metadata": {},
     "output_type": "execute_result"
    }
   ],
   "source": [
    "my_phone.processesor"
   ]
  },
  {
   "cell_type": "code",
   "execution_count": 48,
   "id": "6ceb00f3",
   "metadata": {},
   "outputs": [
    {
     "name": "stdout",
     "output_type": "stream",
     "text": [
      "Calling Narendra Modi...\n"
     ]
    }
   ],
   "source": [
    "my_phone.make_call(\"Narendra Modi\")"
   ]
  },
  {
   "cell_type": "code",
   "execution_count": 49,
   "id": "fecf212b",
   "metadata": {},
   "outputs": [
    {
     "name": "stdout",
     "output_type": "stream",
     "text": [
      "Playing Angry Birds\n"
     ]
    }
   ],
   "source": [
    "my_phone.play_game(\"Angry Birds\")"
   ]
  },
  {
   "cell_type": "code",
   "execution_count": 50,
   "id": "0bbf8177",
   "metadata": {},
   "outputs": [
    {
     "name": "stdout",
     "output_type": "stream",
     "text": [
      "Playing song Chal Chaiyya Chaiyya!!\n"
     ]
    }
   ],
   "source": [
    "my_phone.play_music(\"Chal Chaiyya Chaiyya!!\")"
   ]
  },
  {
   "cell_type": "code",
   "execution_count": null,
   "id": "10d7b38f",
   "metadata": {},
   "outputs": [],
   "source": [
    "### Setting Properties / Attributes with __init__\n",
    "\n",
    "__init__ is a special method used to set parameters / properties / Attributes"
   ]
  },
  {
   "cell_type": "code",
   "execution_count": 51,
   "id": "732fec9d",
   "metadata": {},
   "outputs": [],
   "source": [
    "class Phone():\n",
    "    def __init__(self,brand, colour, cost, processor, os, display, ram):\n",
    "        self.brand = brand\n",
    "        self.colour = colour\n",
    "        self.cost = cost\n",
    "        self.processor = processor\n",
    "        self.os = os\n",
    "        self.display = display\n",
    "        self.ram = ram\n",
    "        print(\"Phone Discription\")\n",
    "        print(f\"Brand : {self.brand}\")\n",
    "        print(f\"Price : {self.cost}\")\n",
    "    \n",
    "    def make_call(self, name):\n",
    "        print(f\"Calling {name}\")\n",
    "    def play_game(self,game):\n",
    "        print(f\"Playing {game}\")"
   ]
  },
  {
   "cell_type": "code",
   "execution_count": 59,
   "id": "42cbf4d9",
   "metadata": {},
   "outputs": [
    {
     "name": "stdout",
     "output_type": "stream",
     "text": [
      "Phone Discription\n",
      "Brand : Iphone\n",
      "Price : 100000\n"
     ]
    }
   ],
   "source": [
    "anils_phone = Phone(\"Iphone\",\"Midnight Black\", 100000, \"M1\", \"Ios 16.1\",\"OLED\", 32)"
   ]
  },
  {
   "cell_type": "code",
   "execution_count": 60,
   "id": "b40095f8",
   "metadata": {},
   "outputs": [
    {
     "name": "stdout",
     "output_type": "stream",
     "text": [
      "Calling Fried\n"
     ]
    }
   ],
   "source": [
    "anils_phone.make_call(\"Fried\")"
   ]
  },
  {
   "cell_type": "code",
   "execution_count": 61,
   "id": "9769fd35",
   "metadata": {},
   "outputs": [
    {
     "name": "stdout",
     "output_type": "stream",
     "text": [
      "Playing War of Gods\n"
     ]
    }
   ],
   "source": [
    "anils_phone.play_game(\"War of Gods\")"
   ]
  },
  {
   "cell_type": "code",
   "execution_count": 62,
   "id": "1b3a67e5",
   "metadata": {},
   "outputs": [
    {
     "data": {
      "text/plain": [
       "32"
      ]
     },
     "execution_count": 62,
     "metadata": {},
     "output_type": "execute_result"
    }
   ],
   "source": [
    "anils_phone.ram"
   ]
  },
  {
   "cell_type": "code",
   "execution_count": 63,
   "id": "bfa00923",
   "metadata": {},
   "outputs": [
    {
     "data": {
      "text/plain": [
       "'OLED'"
      ]
     },
     "execution_count": 63,
     "metadata": {},
     "output_type": "execute_result"
    }
   ],
   "source": [
    "anils_phone.display"
   ]
  },
  {
   "cell_type": "code",
   "execution_count": null,
   "id": "eba4db2b",
   "metadata": {},
   "outputs": [],
   "source": []
  }
 ],
 "metadata": {
  "kernelspec": {
   "display_name": "Python 3 (ipykernel)",
   "language": "python",
   "name": "python3"
  },
  "language_info": {
   "codemirror_mode": {
    "name": "ipython",
    "version": 3
   },
   "file_extension": ".py",
   "mimetype": "text/x-python",
   "name": "python",
   "nbconvert_exporter": "python",
   "pygments_lexer": "ipython3",
   "version": "3.10.5"
  }
 },
 "nbformat": 4,
 "nbformat_minor": 5
}
