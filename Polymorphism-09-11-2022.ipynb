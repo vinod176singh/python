{
 "cells": [
  {
   "cell_type": "code",
   "execution_count": null,
   "id": "3dbf8b95",
   "metadata": {},
   "outputs": [],
   "source": [
    "Poly >> Many\n",
    "Morph >> Is to change/ Take new Form\n",
    "\n",
    "Polymorphism >> Which can take many form\n",
    "\n",
    "A single identifier taking many forms is polymorphism in python\n",
    "\n",
    "Here in next example we can see area idententifier when used with diffrent objects yieling different results"
   ]
  },
  {
   "cell_type": "code",
   "execution_count": 12,
   "id": "88c8570f",
   "metadata": {},
   "outputs": [],
   "source": [
    "class Rectangle():\n",
    "    def __init__(self, length, width):\n",
    "        self.length = length\n",
    "        self.width = width\n",
    "        \n",
    "    def area(self):\n",
    "        area = self.length * self.width\n",
    "        return area\n",
    "    \n",
    "    def describe(self):\n",
    "        print(f\"The Length of given rectangle is {self.length} and width is {self.width}\")\n",
    "    \n",
    "class Circle():\n",
    "    def __init__(self,radius):\n",
    "        self.radius = radius\n",
    "        \n",
    "    def area(self):\n",
    "        area = 3.14*self.radius**2\n",
    "        return area\n",
    "    def describe(self):\n",
    "        print(\"The radius of the give triangle is\", self.radius)\n",
    "        \n",
    "        \n",
    "class Square():\n",
    "    def __init__(self, side):\n",
    "        self.side =side\n",
    "        \n",
    "    def area(self):\n",
    "        area = self.side**2\n",
    "        return area\n",
    "    def describe(self):\n",
    "        print(\"The side of the given square is\", self.side)\n",
    "    \n",
    "class Triangle():\n",
    "    def __init__(self, base, height):\n",
    "        self.base = base\n",
    "        self.height = height\n",
    "        \n",
    "    def area(self):\n",
    "        area = 0.5*self.base*self.height\n",
    "        return area\n",
    "    \n",
    "    def describe(self):\n",
    "        print(f\"The height of given Triangle is {self.height} and the base is {self.base}\")\n",
    "        "
   ]
  },
  {
   "cell_type": "code",
   "execution_count": 13,
   "id": "c1d7c60e",
   "metadata": {},
   "outputs": [],
   "source": [
    "rectangle = Rectangle(12,20)\n",
    "circle = Circle(20)\n",
    "square = Square(10)\n",
    "triangle = Triangle(12,20)"
   ]
  },
  {
   "cell_type": "code",
   "execution_count": 14,
   "id": "5458b360",
   "metadata": {},
   "outputs": [
    {
     "data": {
      "text/plain": [
       "1256.0"
      ]
     },
     "execution_count": 14,
     "metadata": {},
     "output_type": "execute_result"
    }
   ],
   "source": [
    "circle.area()"
   ]
  },
  {
   "cell_type": "code",
   "execution_count": 15,
   "id": "184ae2e0",
   "metadata": {},
   "outputs": [
    {
     "data": {
      "text/plain": [
       "240"
      ]
     },
     "execution_count": 15,
     "metadata": {},
     "output_type": "execute_result"
    }
   ],
   "source": [
    "rectangle.area()"
   ]
  },
  {
   "cell_type": "code",
   "execution_count": 16,
   "id": "5ea3f741",
   "metadata": {},
   "outputs": [
    {
     "data": {
      "text/plain": [
       "100"
      ]
     },
     "execution_count": 16,
     "metadata": {},
     "output_type": "execute_result"
    }
   ],
   "source": [
    "square.area()"
   ]
  },
  {
   "cell_type": "code",
   "execution_count": 17,
   "id": "78d027bf",
   "metadata": {},
   "outputs": [
    {
     "data": {
      "text/plain": [
       "120.0"
      ]
     },
     "execution_count": 17,
     "metadata": {},
     "output_type": "execute_result"
    }
   ],
   "source": [
    "triangle.area()"
   ]
  },
  {
   "cell_type": "code",
   "execution_count": 18,
   "id": "d2c67fe0",
   "metadata": {},
   "outputs": [],
   "source": [
    "list_objects = [rectangle, circle, triangle, square]"
   ]
  },
  {
   "cell_type": "code",
   "execution_count": 20,
   "id": "3891a409",
   "metadata": {},
   "outputs": [
    {
     "name": "stdout",
     "output_type": "stream",
     "text": [
      "The Length of given rectangle is 12 and width is 20\n",
      "240\n",
      "The radius of the give triangle is 20\n",
      "1256.0\n",
      "The height of given Triangle is 20 and the base is 12\n",
      "120.0\n",
      "The side of the given square is 10\n",
      "100\n"
     ]
    }
   ],
   "source": [
    "for obj in list_objects:\n",
    "    obj.describe()\n",
    "    print(obj.area())\n",
    "    "
   ]
  },
  {
   "cell_type": "code",
   "execution_count": 24,
   "id": "5b9734ef",
   "metadata": {},
   "outputs": [],
   "source": [
    "class Shape1:\n",
    "    def __init__(self, length):\n",
    "        self.length = length\n",
    "        \n",
    "class Shape2:\n",
    "    def __init__(self, length):\n",
    "        self.length = length"
   ]
  },
  {
   "cell_type": "code",
   "execution_count": 25,
   "id": "f457a077",
   "metadata": {},
   "outputs": [],
   "source": [
    "shape_1 = Shape1(12)\n",
    "shape_2 = Shape2(20)"
   ]
  },
  {
   "cell_type": "code",
   "execution_count": 26,
   "id": "f544192d",
   "metadata": {},
   "outputs": [
    {
     "data": {
      "text/plain": [
       "12"
      ]
     },
     "execution_count": 26,
     "metadata": {},
     "output_type": "execute_result"
    }
   ],
   "source": [
    "shape_1.length"
   ]
  },
  {
   "cell_type": "code",
   "execution_count": 27,
   "id": "685e5d19",
   "metadata": {},
   "outputs": [
    {
     "data": {
      "text/plain": [
       "20"
      ]
     },
     "execution_count": 27,
     "metadata": {},
     "output_type": "execute_result"
    }
   ],
   "source": [
    "shape_2.length"
   ]
  },
  {
   "cell_type": "markdown",
   "id": "a8cceff4",
   "metadata": {},
   "source": [
    "### Overriding a method"
   ]
  },
  {
   "cell_type": "code",
   "execution_count": 34,
   "id": "12909a19",
   "metadata": {},
   "outputs": [],
   "source": [
    "class Shape:\n",
    "    def __init__(self, base, length):\n",
    "        self.length = length\n",
    "        self.base = base\n",
    "    \n",
    "    def area(self):\n",
    "        area = self.base*self.length\n",
    "        return area\n",
    "        \n",
    "class Triangle(Shape):\n",
    "    pass"
   ]
  },
  {
   "cell_type": "code",
   "execution_count": 35,
   "id": "11e49efd",
   "metadata": {},
   "outputs": [],
   "source": [
    "t1 = Triangle(12,20)"
   ]
  },
  {
   "cell_type": "code",
   "execution_count": 36,
   "id": "66149f2c",
   "metadata": {},
   "outputs": [
    {
     "data": {
      "text/plain": [
       "240"
      ]
     },
     "execution_count": 36,
     "metadata": {},
     "output_type": "execute_result"
    }
   ],
   "source": [
    "t1.area()"
   ]
  },
  {
   "cell_type": "code",
   "execution_count": 37,
   "id": "7dcf622c",
   "metadata": {},
   "outputs": [],
   "source": [
    "class Shape:\n",
    "    def __init__(self, base, length):\n",
    "        self.length = length\n",
    "        self.base = base\n",
    "    \n",
    "    def area(self):\n",
    "        area = self.base*self.length\n",
    "        return area\n",
    "        \n",
    "class Triangle(Shape):\n",
    "    \n",
    "    def area(self):\n",
    "        area = 0.5*self.base*self.length\n",
    "        return area"
   ]
  },
  {
   "cell_type": "code",
   "execution_count": 38,
   "id": "49cfb070",
   "metadata": {},
   "outputs": [
    {
     "data": {
      "text/plain": [
       "120.0"
      ]
     },
     "execution_count": 38,
     "metadata": {},
     "output_type": "execute_result"
    }
   ],
   "source": [
    "t2 = Triangle(12,20)\n",
    "t2.area()"
   ]
  },
  {
   "cell_type": "code",
   "execution_count": null,
   "id": "26f30861",
   "metadata": {},
   "outputs": [],
   "source": []
  }
 ],
 "metadata": {
  "kernelspec": {
   "display_name": "Python 3 (ipykernel)",
   "language": "python",
   "name": "python3"
  },
  "language_info": {
   "codemirror_mode": {
    "name": "ipython",
    "version": 3
   },
   "file_extension": ".py",
   "mimetype": "text/x-python",
   "name": "python",
   "nbconvert_exporter": "python",
   "pygments_lexer": "ipython3",
   "version": "3.10.5"
  }
 },
 "nbformat": 4,
 "nbformat_minor": 5
}
