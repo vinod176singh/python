{
 "cells": [
  {
   "cell_type": "code",
   "execution_count": 2,
   "id": "7b2c04ba",
   "metadata": {},
   "outputs": [],
   "source": [
    "import datetime"
   ]
  },
  {
   "cell_type": "markdown",
   "id": "d252c4ba",
   "metadata": {},
   "source": [
    "## 1. Current Date and time"
   ]
  },
  {
   "cell_type": "markdown",
   "id": "3d87363f",
   "metadata": {},
   "source": [
    "### now()"
   ]
  },
  {
   "cell_type": "code",
   "execution_count": 4,
   "id": "9cda0ddf",
   "metadata": {},
   "outputs": [
    {
     "data": {
      "text/plain": [
       "datetime.datetime(2022, 10, 19, 7, 9, 31, 553135)"
      ]
     },
     "execution_count": 4,
     "metadata": {},
     "output_type": "execute_result"
    }
   ],
   "source": [
    "current_datetime = datetime.datetime.now()\n",
    "current_datetime"
   ]
  },
  {
   "cell_type": "raw",
   "id": "56ab01d7",
   "metadata": {},
   "source": [
    "Year | Month | Date | Hour | Minute | Second | MicroSecond"
   ]
  },
  {
   "cell_type": "code",
   "execution_count": 6,
   "id": "6dbb6985",
   "metadata": {},
   "outputs": [
    {
     "name": "stdout",
     "output_type": "stream",
     "text": [
      "2022-10-19 07:09:31.553135\n"
     ]
    }
   ],
   "source": [
    "print(current_datetime)"
   ]
  },
  {
   "cell_type": "markdown",
   "id": "6ad6be1a",
   "metadata": {},
   "source": [
    "### today()"
   ]
  },
  {
   "cell_type": "code",
   "execution_count": 8,
   "id": "db620639",
   "metadata": {},
   "outputs": [
    {
     "name": "stdout",
     "output_type": "stream",
     "text": [
      "2022-10-19 07:14:25.948101\n"
     ]
    }
   ],
   "source": [
    "today_datetime = datetime.datetime.today()\n",
    "\n",
    "print(today_datetime)"
   ]
  },
  {
   "cell_type": "markdown",
   "id": "cce51ed0",
   "metadata": {},
   "source": [
    "### Current Date"
   ]
  },
  {
   "cell_type": "code",
   "execution_count": 13,
   "id": "63626434",
   "metadata": {},
   "outputs": [
    {
     "name": "stdout",
     "output_type": "stream",
     "text": [
      "2022-10-19 07:16:37.524215\n",
      "2022-10-19\n"
     ]
    }
   ],
   "source": [
    "todays_date = datetime.datetime.today()\n",
    "print(todays_date)\n",
    "print(todays_date.date())"
   ]
  },
  {
   "cell_type": "markdown",
   "id": "5e726bcb",
   "metadata": {},
   "source": [
    "### Current Time"
   ]
  },
  {
   "cell_type": "code",
   "execution_count": 14,
   "id": "8a67c62a",
   "metadata": {},
   "outputs": [
    {
     "name": "stdout",
     "output_type": "stream",
     "text": [
      "2022-10-19 07:19:52.489838\n",
      "07:19:52.489838\n"
     ]
    }
   ],
   "source": [
    "todays_date = datetime.datetime.today()\n",
    "print(todays_date)\n",
    "print(todays_date.time())"
   ]
  },
  {
   "cell_type": "code",
   "execution_count": 15,
   "id": "07ae6937",
   "metadata": {},
   "outputs": [
    {
     "name": "stdout",
     "output_type": "stream",
     "text": [
      "2022\n"
     ]
    }
   ],
   "source": [
    "print(todays_date.year)"
   ]
  },
  {
   "cell_type": "code",
   "execution_count": 16,
   "id": "3f07eb50",
   "metadata": {},
   "outputs": [
    {
     "name": "stdout",
     "output_type": "stream",
     "text": [
      "10\n"
     ]
    }
   ],
   "source": [
    "print(todays_date.month)"
   ]
  },
  {
   "cell_type": "code",
   "execution_count": 17,
   "id": "68a2a082",
   "metadata": {},
   "outputs": [
    {
     "name": "stdout",
     "output_type": "stream",
     "text": [
      "19\n"
     ]
    }
   ],
   "source": [
    "print(todays_date.day)"
   ]
  },
  {
   "cell_type": "code",
   "execution_count": 18,
   "id": "1d96b99c",
   "metadata": {},
   "outputs": [
    {
     "name": "stdout",
     "output_type": "stream",
     "text": [
      "7\n"
     ]
    }
   ],
   "source": [
    "print(todays_date.hour)"
   ]
  },
  {
   "cell_type": "code",
   "execution_count": 19,
   "id": "a2e5b58c",
   "metadata": {},
   "outputs": [
    {
     "name": "stdout",
     "output_type": "stream",
     "text": [
      "19\n"
     ]
    }
   ],
   "source": [
    "print(todays_date.minute)"
   ]
  },
  {
   "cell_type": "code",
   "execution_count": 22,
   "id": "c112c3d7",
   "metadata": {},
   "outputs": [
    {
     "name": "stdout",
     "output_type": "stream",
     "text": [
      "52\n"
     ]
    }
   ],
   "source": [
    "print(todays_date.second)"
   ]
  },
  {
   "cell_type": "code",
   "execution_count": 23,
   "id": "35e26643",
   "metadata": {},
   "outputs": [
    {
     "name": "stdout",
     "output_type": "stream",
     "text": [
      "489838\n"
     ]
    }
   ],
   "source": [
    "print(todays_date.microsecond)"
   ]
  },
  {
   "cell_type": "markdown",
   "id": "034727ab",
   "metadata": {},
   "source": [
    "## Time Delta"
   ]
  },
  {
   "cell_type": "code",
   "execution_count": 25,
   "id": "b9e1be25",
   "metadata": {},
   "outputs": [
    {
     "name": "stdout",
     "output_type": "stream",
     "text": [
      "2022-10-19 07:26:28.781093\n"
     ]
    }
   ],
   "source": [
    "current_datetime = datetime.datetime.today()\n",
    "print(current_datetime)"
   ]
  },
  {
   "cell_type": "code",
   "execution_count": 27,
   "id": "5e67d1d6",
   "metadata": {},
   "outputs": [
    {
     "ename": "TypeError",
     "evalue": "unsupported operand type(s) for +: 'datetime.datetime' and 'int'",
     "output_type": "error",
     "traceback": [
      "\u001b[1;31m---------------------------------------------------------------------------\u001b[0m",
      "\u001b[1;31mTypeError\u001b[0m                                 Traceback (most recent call last)",
      "Input \u001b[1;32mIn [27]\u001b[0m, in \u001b[0;36m<cell line: 1>\u001b[1;34m()\u001b[0m\n\u001b[1;32m----> 1\u001b[0m new_date \u001b[38;5;241m=\u001b[39m \u001b[43mcurrent_datetime\u001b[49m\u001b[43m \u001b[49m\u001b[38;5;241;43m+\u001b[39;49m\u001b[43m \u001b[49m\u001b[38;5;241;43m10\u001b[39;49m\n",
      "\u001b[1;31mTypeError\u001b[0m: unsupported operand type(s) for +: 'datetime.datetime' and 'int'"
     ]
    }
   ],
   "source": [
    "new_date = current_datetime + 10"
   ]
  },
  {
   "cell_type": "code",
   "execution_count": 28,
   "id": "41fc3d6b",
   "metadata": {},
   "outputs": [
    {
     "name": "stdout",
     "output_type": "stream",
     "text": [
      "2022-10-29 07:26:28.781093\n"
     ]
    }
   ],
   "source": [
    "new_date = current_datetime + datetime.timedelta(days = 10)\n",
    "print(new_date)"
   ]
  },
  {
   "cell_type": "code",
   "execution_count": 29,
   "id": "15cda9b7",
   "metadata": {},
   "outputs": [
    {
     "name": "stdout",
     "output_type": "stream",
     "text": [
      "2022-10-09 07:26:28.781093\n"
     ]
    }
   ],
   "source": [
    "old_date = current_datetime - datetime.timedelta(days = 10)\n",
    "print(old_date)"
   ]
  },
  {
   "cell_type": "code",
   "execution_count": 30,
   "id": "fdfee968",
   "metadata": {},
   "outputs": [
    {
     "name": "stdout",
     "output_type": "stream",
     "text": [
      "2022-09-29 07:26:28.781093\n"
     ]
    }
   ],
   "source": [
    "old_date_2 = current_datetime + datetime.timedelta(days = -20)\n",
    "print(old_date_2)"
   ]
  },
  {
   "cell_type": "code",
   "execution_count": 31,
   "id": "563278d4",
   "metadata": {},
   "outputs": [
    {
     "name": "stdout",
     "output_type": "stream",
     "text": [
      "2023-01-27 07:26:28.781093\n"
     ]
    }
   ],
   "source": [
    "new_date_100 = current_datetime + datetime.timedelta(days = 100)\n",
    "\n",
    "print(new_date_100)"
   ]
  },
  {
   "cell_type": "code",
   "execution_count": 32,
   "id": "82e71c8a",
   "metadata": {},
   "outputs": [
    {
     "name": "stdout",
     "output_type": "stream",
     "text": [
      "2022-10-19 07:39:48.790779\n"
     ]
    }
   ],
   "source": [
    "current_datetime = datetime.datetime.today()\n",
    "print(current_datetime)"
   ]
  },
  {
   "cell_type": "code",
   "execution_count": 34,
   "id": "baa9dee6",
   "metadata": {},
   "outputs": [
    {
     "name": "stdout",
     "output_type": "stream",
     "text": [
      "2022-11-23 07:39:48.790779\n"
     ]
    }
   ],
   "source": [
    "new_date_5_weeks = current_datetime + datetime.timedelta(weeks = 5)\n",
    "print(new_date_5_weeks)"
   ]
  },
  {
   "cell_type": "code",
   "execution_count": 36,
   "id": "83cbf796",
   "metadata": {},
   "outputs": [
    {
     "name": "stdout",
     "output_type": "stream",
     "text": [
      "2022-10-20 07:39:48.790779\n"
     ]
    }
   ],
   "source": [
    "new_date_24_hours = current_datetime + datetime.timedelta(hours = 24)\n",
    "print(new_date_24_hours)"
   ]
  },
  {
   "cell_type": "markdown",
   "id": "20f6296e",
   "metadata": {},
   "source": [
    "## strftime()"
   ]
  },
  {
   "cell_type": "code",
   "execution_count": null,
   "id": "1b9bb41b",
   "metadata": {},
   "outputs": [],
   "source": [
    "string from time"
   ]
  },
  {
   "cell_type": "code",
   "execution_count": null,
   "id": "b4270407",
   "metadata": {},
   "outputs": [],
   "source": [
    "datetime_object(2022-10-19) >> \"19-10-2022\"\n",
    "datetime_object(2022-10-19) >> \"19 Oct 2022\"\n",
    "datetime_object(2022-10-19) >> \"19 October 2022\"\n",
    "datetime_object(2022-10-19) >> \"19/10/2022\"\n",
    "datetime_object(2022-10-19) >> \"19/10/22\"\n",
    "datetime_object(2022-10-19) >> \"19/October/2022\""
   ]
  },
  {
   "cell_type": "code",
   "execution_count": null,
   "id": "1dd4a6e8",
   "metadata": {},
   "outputs": [],
   "source": [
    "strftime()  will convert datetime object in a given string format"
   ]
  },
  {
   "cell_type": "code",
   "execution_count": 38,
   "id": "8b6b4ff6",
   "metadata": {},
   "outputs": [
    {
     "name": "stdout",
     "output_type": "stream",
     "text": [
      "2022-10-19 07:39:48.790779\n"
     ]
    }
   ],
   "source": [
    "currrent_datetime = datetime.datetime.today()\n",
    "print(current_datetime)"
   ]
  },
  {
   "cell_type": "code",
   "execution_count": 39,
   "id": "84e4e66f",
   "metadata": {},
   "outputs": [
    {
     "name": "stdout",
     "output_type": "stream",
     "text": [
      "19/10/2022\n"
     ]
    }
   ],
   "source": [
    "new_format = current_datetime.strftime(\"%d/%m/%Y\")\n",
    "print(new_format)"
   ]
  },
  {
   "cell_type": "code",
   "execution_count": 45,
   "id": "b6b05aaf",
   "metadata": {},
   "outputs": [
    {
     "name": "stdout",
     "output_type": "stream",
     "text": [
      "Wednesday, 19 October 2022\n"
     ]
    }
   ],
   "source": [
    "new_format = current_datetime.strftime(\"%A, %d %B %Y\")\n",
    "print(new_format)"
   ]
  },
  {
   "cell_type": "code",
   "execution_count": 46,
   "id": "f5cbc5bb",
   "metadata": {},
   "outputs": [
    {
     "name": "stdout",
     "output_type": "stream",
     "text": [
      "Wed, 19 Oct 22\n"
     ]
    }
   ],
   "source": [
    "new_format = current_datetime.strftime(\"%a, %d %b %y\")\n",
    "print(new_format)"
   ]
  },
  {
   "cell_type": "code",
   "execution_count": 48,
   "id": "e297b90d",
   "metadata": {},
   "outputs": [
    {
     "name": "stdout",
     "output_type": "stream",
     "text": [
      "Wednesday, 19 Oct 2022, 07:39 AM\n"
     ]
    }
   ],
   "source": [
    "new_format = current_datetime.strftime(\"%A, %d %b %Y, %I:%M %p\")\n",
    "print(new_format)"
   ]
  },
  {
   "cell_type": "markdown",
   "id": "858f47ec",
   "metadata": {},
   "source": [
    "### Basic Fomatting to be remembered"
   ]
  },
  {
   "cell_type": "code",
   "execution_count": null,
   "id": "09a2ade3",
   "metadata": {},
   "outputs": [],
   "source": [
    "%Y >> Year (2022)\n",
    "%y >> year (22)\n",
    "\n",
    "%m >> month (10)\n",
    "%B >> Month (October)\n",
    "%b >> Month (Oct)\n",
    "\n",
    "%d >> date (19)\n",
    "%A >> day (Wednesday)\n",
    "%a >> day (Wed)\n",
    "\n",
    "%I >> time (12 hour format) (07)\n",
    "%H >> time (24 hour format) (07)\n",
    "\n",
    "%M >> Minutes\n",
    "\n",
    "%p >> AM PM"
   ]
  },
  {
   "cell_type": "markdown",
   "id": "e4b3fdbb",
   "metadata": {},
   "source": [
    "## Additional formats"
   ]
  },
  {
   "cell_type": "code",
   "execution_count": null,
   "id": "d5b33589",
   "metadata": {},
   "outputs": [],
   "source": [
    "%w >> Week day number (Sun >> 0, Mon >> 1, Tue >> 2 ... Sat >> 6)\n",
    "\n",
    "%j >> day number in a year\n",
    "\n",
    "%U >> Week number in a year\n",
    "\n",
    "%Z >> Time Zone"
   ]
  },
  {
   "cell_type": "code",
   "execution_count": 52,
   "id": "4a4de922",
   "metadata": {},
   "outputs": [
    {
     "name": "stdout",
     "output_type": "stream",
     "text": [
      "2022-10-19 08:16:07.425405\n"
     ]
    }
   ],
   "source": [
    "current_datetime = datetime.datetime.today()\n",
    "print(current_datetime)"
   ]
  },
  {
   "cell_type": "code",
   "execution_count": 54,
   "id": "4ad2b5b1",
   "metadata": {},
   "outputs": [
    {
     "data": {
      "text/plain": [
       "'Wednesday, 19 October 2022, 08:16 AM , Weekday >> 3, Day Number in this year >> 292'"
      ]
     },
     "execution_count": 54,
     "metadata": {},
     "output_type": "execute_result"
    }
   ],
   "source": [
    "current_datetime.strftime(\"%A, %d %B %Y, %I:%M %p , Weekday >> %w, Day Number in this year >> %j\")"
   ]
  },
  {
   "cell_type": "markdown",
   "id": "baf76f78",
   "metadata": {},
   "source": [
    "## strptime()"
   ]
  },
  {
   "cell_type": "code",
   "execution_count": null,
   "id": "43a43e91",
   "metadata": {},
   "outputs": [],
   "source": [
    "string parsing time\n",
    "\n",
    "This is used for converting string to a datetime object`b"
   ]
  },
  {
   "cell_type": "code",
   "execution_count": 55,
   "id": "862daca9",
   "metadata": {},
   "outputs": [
    {
     "data": {
      "text/plain": [
       "datetime.datetime(2022, 10, 19, 0, 0)"
      ]
     },
     "execution_count": 55,
     "metadata": {},
     "output_type": "execute_result"
    }
   ],
   "source": [
    "date_string = \"19-10-2022\"\n",
    "date_format = \"%d-%m-%Y\"\n",
    "datetime_object = datetime.datetime.strptime(date_string,date_format)\n",
    "\n",
    "datetime_object"
   ]
  },
  {
   "cell_type": "code",
   "execution_count": 56,
   "id": "43250024",
   "metadata": {},
   "outputs": [
    {
     "name": "stdout",
     "output_type": "stream",
     "text": [
      "2022-10-19 00:00:00\n"
     ]
    }
   ],
   "source": [
    "print(datetime_object)"
   ]
  },
  {
   "cell_type": "code",
   "execution_count": 57,
   "id": "2f30f535",
   "metadata": {},
   "outputs": [
    {
     "data": {
      "text/plain": [
       "datetime.datetime(2022, 10, 19, 0, 0)"
      ]
     },
     "execution_count": 57,
     "metadata": {},
     "output_type": "execute_result"
    }
   ],
   "source": [
    "date_string = \"19/10/2022\"\n",
    "date_format = \"%d/%m/%Y\"\n",
    "\n",
    "datetime_object = datetime.datetime.strptime(date_string, date_format)\n",
    "\n",
    "datetime_object"
   ]
  },
  {
   "cell_type": "code",
   "execution_count": 58,
   "id": "ad3f171e",
   "metadata": {},
   "outputs": [
    {
     "name": "stdout",
     "output_type": "stream",
     "text": [
      "2022-10-19 00:00:00\n"
     ]
    }
   ],
   "source": [
    "print(datetime_object)"
   ]
  },
  {
   "cell_type": "code",
   "execution_count": 68,
   "id": "f47748a3",
   "metadata": {},
   "outputs": [
    {
     "data": {
      "text/plain": [
       "datetime.datetime(2050, 9, 20, 7, 25, 23)"
      ]
     },
     "execution_count": 68,
     "metadata": {},
     "output_type": "execute_result"
    }
   ],
   "source": [
    "date_string = \"07:25:23 AM, Tuesday, 20 Sep 2050\"\n",
    "date_format = \"%I:%M:%S %p, %A, %d %b %Y\"\n",
    "\n",
    "datetime_object = datetime.datetime.strptime(date_string, date_format)\n",
    "datetime_object"
   ]
  },
  {
   "cell_type": "code",
   "execution_count": 69,
   "id": "000ab9df",
   "metadata": {},
   "outputs": [
    {
     "name": "stdout",
     "output_type": "stream",
     "text": [
      "2050-09-20 07:25:23\n"
     ]
    }
   ],
   "source": [
    "print(datetime_object)"
   ]
  },
  {
   "cell_type": "code",
   "execution_count": 70,
   "id": "73b0212c",
   "metadata": {},
   "outputs": [
    {
     "name": "stdout",
     "output_type": "stream",
     "text": [
      "Tuesday\n"
     ]
    }
   ],
   "source": [
    "print(datetime_object.strftime(\"%A\"))"
   ]
  },
  {
   "cell_type": "code",
   "execution_count": 71,
   "id": "9f6cca6b",
   "metadata": {},
   "outputs": [
    {
     "name": "stdout",
     "output_type": "stream",
     "text": [
      "2060-08-19 00:00:00\n"
     ]
    }
   ],
   "source": [
    "date = datetime.datetime.strptime(\"19 August 2060\",\"%d %B %Y\")\n",
    "print(date)"
   ]
  },
  {
   "cell_type": "code",
   "execution_count": 72,
   "id": "f31eef89",
   "metadata": {},
   "outputs": [
    {
     "data": {
      "text/plain": [
       "'Thursday'"
      ]
     },
     "execution_count": 72,
     "metadata": {},
     "output_type": "execute_result"
    }
   ],
   "source": [
    "date.strftime(\"%A\")"
   ]
  },
  {
   "cell_type": "code",
   "execution_count": 73,
   "id": "47c42e7b",
   "metadata": {},
   "outputs": [
    {
     "data": {
      "text/plain": [
       "'33'"
      ]
     },
     "execution_count": 73,
     "metadata": {},
     "output_type": "execute_result"
    }
   ],
   "source": [
    "date.strftime(\"%U\") #Week Number"
   ]
  },
  {
   "cell_type": "code",
   "execution_count": 74,
   "id": "1de98fd0",
   "metadata": {},
   "outputs": [
    {
     "data": {
      "text/plain": [
       "'232'"
      ]
     },
     "execution_count": 74,
     "metadata": {},
     "output_type": "execute_result"
    }
   ],
   "source": [
    "date.strftime(\"%j\") ## Day Number in a year"
   ]
  },
  {
   "cell_type": "code",
   "execution_count": null,
   "id": "5a7f3ca6",
   "metadata": {},
   "outputs": [],
   "source": []
  }
 ],
 "metadata": {
  "kernelspec": {
   "display_name": "Python 3 (ipykernel)",
   "language": "python",
   "name": "python3"
  },
  "language_info": {
   "codemirror_mode": {
    "name": "ipython",
    "version": 3
   },
   "file_extension": ".py",
   "mimetype": "text/x-python",
   "name": "python",
   "nbconvert_exporter": "python",
   "pygments_lexer": "ipython3",
   "version": "3.10.5"
  }
 },
 "nbformat": 4,
 "nbformat_minor": 5
}
