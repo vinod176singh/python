{
 "cells": [
  {
   "cell_type": "code",
   "execution_count": null,
   "id": "71ff8a6f",
   "metadata": {},
   "outputs": [],
   "source": [
    "string is like pearls woven in a string\n",
    "\n",
    "\"This is a sample string\"\n",
    "\n",
    "Here every letter is a pearl kept together by an invisible string"
   ]
  },
  {
   "cell_type": "code",
   "execution_count": null,
   "id": "30f66766",
   "metadata": {},
   "outputs": [],
   "source": [
    "string = 'This is a sample string'\n",
    "string = \"This is a sample string\"\n",
    "string ='''This is a sample string'''\n",
    "string = \"\"\"This is a sample string\"\"\""
   ]
  },
  {
   "cell_type": "code",
   "execution_count": null,
   "id": "320c8094",
   "metadata": {},
   "outputs": [],
   "source": [
    "We cannot use single quote in a single quote # Valid\n",
    "We cannot use double quote in a double quote #Valid\n",
    "We cannot use triple quote in a triple quote # Valid\n",
    "                |\n",
    "                |-----Both triple quote shall not be single triple quote\n",
    "                |\n",
    "                |-----Both triple quote shall not be double triple quote"
   ]
  },
  {
   "cell_type": "code",
   "execution_count": 1,
   "id": "c5306ad9",
   "metadata": {},
   "outputs": [
    {
     "ename": "SyntaxError",
     "evalue": "invalid syntax (2388758638.py, line 1)",
     "output_type": "error",
     "traceback": [
      "\u001b[1;36m  Input \u001b[1;32mIn [1]\u001b[1;36m\u001b[0m\n\u001b[1;33m    string = 'This is a 'sample' string'\u001b[0m\n\u001b[1;37m                         ^\u001b[0m\n\u001b[1;31mSyntaxError\u001b[0m\u001b[1;31m:\u001b[0m invalid syntax\n"
     ]
    }
   ],
   "source": [
    "string = 'This is a 'sample' string' # We cannot use single quote in a single quote"
   ]
  },
  {
   "cell_type": "code",
   "execution_count": 2,
   "id": "45d12551",
   "metadata": {},
   "outputs": [],
   "source": [
    "string = 'This is a \"sample\" string' # We can use double quote in a single quote"
   ]
  },
  {
   "cell_type": "code",
   "execution_count": 3,
   "id": "6e592ea9",
   "metadata": {},
   "outputs": [
    {
     "name": "stdout",
     "output_type": "stream",
     "text": [
      "This is a \"sample\" string\n"
     ]
    }
   ],
   "source": [
    "print(string)"
   ]
  },
  {
   "cell_type": "code",
   "execution_count": null,
   "id": "5202d8df",
   "metadata": {},
   "outputs": [],
   "source": [
    "string = 'This is a '''sample''' string' # We cannot use sigle quote wala triple quote in a single quote"
   ]
  },
  {
   "cell_type": "code",
   "execution_count": 9,
   "id": "77d40b90",
   "metadata": {},
   "outputs": [
    {
     "name": "stdout",
     "output_type": "stream",
     "text": [
      "This is a \"\"\"sample\"\"\" string\n"
     ]
    }
   ],
   "source": [
    "string = 'This is a \"\"\"sample\"\"\" string' # We can use double quote wala triple quote in single quote string\n",
    "print(string)"
   ]
  },
  {
   "cell_type": "code",
   "execution_count": 4,
   "id": "64a7effe",
   "metadata": {},
   "outputs": [
    {
     "ename": "SyntaxError",
     "evalue": "invalid syntax (1075791852.py, line 1)",
     "output_type": "error",
     "traceback": [
      "\u001b[1;36m  Input \u001b[1;32mIn [4]\u001b[1;36m\u001b[0m\n\u001b[1;33m    string = \"This is a \"sample\" string\" #\u001b[0m\n\u001b[1;37m                         ^\u001b[0m\n\u001b[1;31mSyntaxError\u001b[0m\u001b[1;31m:\u001b[0m invalid syntax\n"
     ]
    }
   ],
   "source": [
    "string = \"This is a \"sample\" string\" # We cannot use double quote in a double quote"
   ]
  },
  {
   "cell_type": "code",
   "execution_count": 5,
   "id": "0407784d",
   "metadata": {},
   "outputs": [],
   "source": [
    "string = \"This is a 'sample' string\" # We can use single quote in a double quote"
   ]
  },
  {
   "cell_type": "code",
   "execution_count": 7,
   "id": "4c89e6a6",
   "metadata": {},
   "outputs": [
    {
     "name": "stdout",
     "output_type": "stream",
     "text": [
      "This is a '''sample''' string\n"
     ]
    }
   ],
   "source": [
    "string = \"This is a '''sample''' string\" # we can use single quote wala triple quote in a double quote\n",
    "print(string)"
   ]
  },
  {
   "cell_type": "code",
   "execution_count": null,
   "id": "8d15d549",
   "metadata": {},
   "outputs": [],
   "source": [
    "string = \"This is a \"\"\"sample\"\"\" string\" # We cannot use double quote wala triple quote in a double quote"
   ]
  },
  {
   "cell_type": "code",
   "execution_count": 10,
   "id": "07a3833f",
   "metadata": {},
   "outputs": [
    {
     "ename": "SyntaxError",
     "evalue": "invalid syntax (3489242221.py, line 1)",
     "output_type": "error",
     "traceback": [
      "\u001b[1;36m  Input \u001b[1;32mIn [10]\u001b[1;36m\u001b[0m\n\u001b[1;33m    string = '''This is a '''sample''' string''' # This does not work\u001b[0m\n\u001b[1;37m                             ^\u001b[0m\n\u001b[1;31mSyntaxError\u001b[0m\u001b[1;31m:\u001b[0m invalid syntax\n"
     ]
    }
   ],
   "source": [
    "string = '''This is a '''sample''' string''' # This does not work"
   ]
  },
  {
   "cell_type": "code",
   "execution_count": 12,
   "id": "c866c262",
   "metadata": {},
   "outputs": [
    {
     "name": "stdout",
     "output_type": "stream",
     "text": [
      "This is a \"\"\"sample\"\"\" string\n"
     ]
    }
   ],
   "source": [
    "string = '''This is a \"\"\"sample\"\"\" string''' # This works\n",
    "print(string)"
   ]
  },
  {
   "cell_type": "code",
   "execution_count": 13,
   "id": "c19a4c13",
   "metadata": {},
   "outputs": [
    {
     "ename": "SyntaxError",
     "evalue": "invalid syntax (4142410399.py, line 1)",
     "output_type": "error",
     "traceback": [
      "\u001b[1;36m  Input \u001b[1;32mIn [13]\u001b[1;36m\u001b[0m\n\u001b[1;33m    string = \"\"\"This is a \"\"\"sample\"\"\" string\"\"\" # This does not work\u001b[0m\n\u001b[1;37m                             ^\u001b[0m\n\u001b[1;31mSyntaxError\u001b[0m\u001b[1;31m:\u001b[0m invalid syntax\n"
     ]
    }
   ],
   "source": [
    "string = \"\"\"This is a \"\"\"sample\"\"\" string\"\"\" # This does not work\n"
   ]
  },
  {
   "cell_type": "code",
   "execution_count": 14,
   "id": "8533ac3e",
   "metadata": {},
   "outputs": [],
   "source": [
    "string = \"\"\"This is a '''sample''' string\"\"\""
   ]
  },
  {
   "cell_type": "markdown",
   "id": "806b4c38",
   "metadata": {},
   "source": [
    "# Workaround"
   ]
  },
  {
   "cell_type": "markdown",
   "id": "aa616a7e",
   "metadata": {},
   "source": [
    "### Escape Character"
   ]
  },
  {
   "cell_type": "code",
   "execution_count": 15,
   "id": "5f7d63ff",
   "metadata": {},
   "outputs": [
    {
     "name": "stdout",
     "output_type": "stream",
     "text": [
      "This is a sample string\n"
     ]
    }
   ],
   "source": [
    "string = \"This is a sample string\"\n",
    "print(string)"
   ]
  },
  {
   "cell_type": "code",
   "execution_count": 16,
   "id": "fce33273",
   "metadata": {},
   "outputs": [
    {
     "ename": "SyntaxError",
     "evalue": "invalid syntax (1167959065.py, line 1)",
     "output_type": "error",
     "traceback": [
      "\u001b[1;36m  Input \u001b[1;32mIn [16]\u001b[1;36m\u001b[0m\n\u001b[1;33m    string = \"This is a \"sample\" string\"\u001b[0m\n\u001b[1;37m                         ^\u001b[0m\n\u001b[1;31mSyntaxError\u001b[0m\u001b[1;31m:\u001b[0m invalid syntax\n"
     ]
    }
   ],
   "source": [
    "string = \"This is a \"sample\" string\""
   ]
  },
  {
   "cell_type": "code",
   "execution_count": 17,
   "id": "6727308e",
   "metadata": {},
   "outputs": [],
   "source": [
    "# Lets use escape character\n",
    "string = \"This is a \\\"sample\\\" string\""
   ]
  },
  {
   "cell_type": "code",
   "execution_count": 18,
   "id": "71c923dd",
   "metadata": {},
   "outputs": [
    {
     "name": "stdout",
     "output_type": "stream",
     "text": [
      "This is a \"sample\" string\n"
     ]
    }
   ],
   "source": [
    "print(string)"
   ]
  },
  {
   "cell_type": "code",
   "execution_count": 19,
   "id": "a74858ba",
   "metadata": {},
   "outputs": [
    {
     "ename": "SyntaxError",
     "evalue": "invalid syntax (2388758638.py, line 1)",
     "output_type": "error",
     "traceback": [
      "\u001b[1;36m  Input \u001b[1;32mIn [19]\u001b[1;36m\u001b[0m\n\u001b[1;33m    string = 'This is a 'sample' string'\u001b[0m\n\u001b[1;37m                         ^\u001b[0m\n\u001b[1;31mSyntaxError\u001b[0m\u001b[1;31m:\u001b[0m invalid syntax\n"
     ]
    }
   ],
   "source": [
    "string = 'This is a 'sample' string'"
   ]
  },
  {
   "cell_type": "code",
   "execution_count": 20,
   "id": "401a80a9",
   "metadata": {},
   "outputs": [
    {
     "name": "stdout",
     "output_type": "stream",
     "text": [
      "This is a 'sample' string\n"
     ]
    }
   ],
   "source": [
    "# Lets use escape character\n",
    "string = 'This is a \\'sample\\' string'\n",
    "print(string)"
   ]
  },
  {
   "cell_type": "code",
   "execution_count": 21,
   "id": "8bc780e3",
   "metadata": {},
   "outputs": [
    {
     "name": "stdout",
     "output_type": "stream",
     "text": [
      "This is a \\sample string\n"
     ]
    }
   ],
   "source": [
    "string = \"This is a \\sample string\"\n",
    "print(string)"
   ]
  },
  {
   "cell_type": "code",
   "execution_count": 22,
   "id": "195133c0",
   "metadata": {},
   "outputs": [
    {
     "name": "stdout",
     "output_type": "stream",
     "text": [
      "This is a \"sample\" string\n"
     ]
    }
   ],
   "source": [
    "string = \"This is a \\\"\"\"sample\\\"\"\" string\"\n",
    "print(string)"
   ]
  },
  {
   "cell_type": "code",
   "execution_count": 23,
   "id": "15ae80dc",
   "metadata": {},
   "outputs": [
    {
     "ename": "SyntaxError",
     "evalue": "unterminated string literal (detected at line 1) (4039594595.py, line 1)",
     "output_type": "error",
     "traceback": [
      "\u001b[1;36m  Input \u001b[1;32mIn [23]\u001b[1;36m\u001b[0m\n\u001b[1;33m    string = 'Data science combines math and statistics, specialized programming, advanced analytics, artificial intelligence (AI), and machine learning with specific subject matter expertise to uncover actionable insights hidden in an organization's data. These insights can be used to guide decision making and strategic planning.'\u001b[0m\n\u001b[1;37m                                                                                                                                                                                                                                                                                                                                            ^\u001b[0m\n\u001b[1;31mSyntaxError\u001b[0m\u001b[1;31m:\u001b[0m unterminated string literal (detected at line 1)\n"
     ]
    }
   ],
   "source": [
    "string = 'Data science combines math and statistics, specialized programming, advanced analytics, artificial intelligence (AI), and machine learning with specific subject matter expertise to uncover actionable insights hidden in an organization's data. These insights can be used to guide decision making and strategic planning.'"
   ]
  },
  {
   "cell_type": "code",
   "execution_count": 24,
   "id": "ce823a22",
   "metadata": {},
   "outputs": [],
   "source": [
    "string = \"Data science combines math and statistics, specialized programming, advanced analytics, artificial intelligence (AI), and machine learning with specific subject matter expertise to uncover actionable insights hidden in an organization's data. These insights can be used to guide decision making and strategic planning.\""
   ]
  },
  {
   "cell_type": "code",
   "execution_count": 25,
   "id": "15277335",
   "metadata": {},
   "outputs": [
    {
     "name": "stdout",
     "output_type": "stream",
     "text": [
      "Data science combines math and statistics, specialized programming, advanced analytics, artificial intelligence (AI), and machine learning with specific subject matter expertise to uncover actionable insights hidden in an organization's data. These insights can be used to guide decision making and strategic planning.\n"
     ]
    }
   ],
   "source": [
    "print(string)"
   ]
  },
  {
   "cell_type": "code",
   "execution_count": 26,
   "id": "dc806fa1",
   "metadata": {},
   "outputs": [
    {
     "ename": "SyntaxError",
     "evalue": "unterminated string literal (detected at line 1) (484555735.py, line 1)",
     "output_type": "error",
     "traceback": [
      "\u001b[1;36m  Input \u001b[1;32mIn [26]\u001b[1;36m\u001b[0m\n\u001b[1;33m    string = \"Data science combines math and statistics, specialized programming, advanced analytics, artificial intelligence (AI),\u001b[0m\n\u001b[1;37m             ^\u001b[0m\n\u001b[1;31mSyntaxError\u001b[0m\u001b[1;31m:\u001b[0m unterminated string literal (detected at line 1)\n"
     ]
    }
   ],
   "source": [
    "string = \"Data science combines math and statistics, specialized programming, advanced analytics, artificial intelligence (AI), \n",
    "and machine learning with specific subject matter expertise to uncover actionable insights hidden in an organization's data. \n",
    "These insights can be used to guide decision making and strategic planning.\""
   ]
  },
  {
   "cell_type": "code",
   "execution_count": 27,
   "id": "3721b549",
   "metadata": {},
   "outputs": [],
   "source": [
    "## Using triple quote for multiple lines"
   ]
  },
  {
   "cell_type": "code",
   "execution_count": 28,
   "id": "09321153",
   "metadata": {},
   "outputs": [
    {
     "name": "stdout",
     "output_type": "stream",
     "text": [
      "Data science combines math and statistics, specialized programming, advanced analytics, \n",
      "artificial intelligence (AI), and machine learning with specific subject matter expertise to uncover \n",
      "actionable insights hidden in an organization's data. These insights can be used to guide decision making and \n",
      "strategic planning.\n"
     ]
    }
   ],
   "source": [
    "string = \"\"\"Data science combines math and statistics, specialized programming, advanced analytics, \n",
    "artificial intelligence (AI), and machine learning with specific subject matter expertise to uncover \n",
    "actionable insights hidden in an organization's data. These insights can be used to guide decision making and \n",
    "strategic planning.\"\"\"\n",
    "\n",
    "print(string)"
   ]
  },
  {
   "cell_type": "code",
   "execution_count": 29,
   "id": "d776539f",
   "metadata": {},
   "outputs": [],
   "source": [
    "string = '''Data science combines math and statistics, specialized programming, advanced analytics, \n",
    "artificial intelligence (AI), and machine learning with specific subject matter expertise to uncover actionable \n",
    "insights hidden in an organization's data. These insights can be used to guide decision making and strategic planning.'''"
   ]
  },
  {
   "cell_type": "code",
   "execution_count": 30,
   "id": "e44d1203",
   "metadata": {},
   "outputs": [
    {
     "name": "stdout",
     "output_type": "stream",
     "text": [
      "Data science combines math and statistics, specialized programming, advanced analytics, artificial intelligence (AI), and machine learning with specific subject matter expertise to uncover actionable insights hidden in an organization's data. These insights can be used to guide decision making and strategic planning.\n"
     ]
    }
   ],
   "source": [
    "## Using Escape Character with double quote\n",
    "string = \"Data science combines math and statistics, specialized programming, advanced analytics, \\\n",
    "artificial intelligence (AI), and machine learning with specific subject matter expertise to uncover actionable \\\n",
    "insights hidden in an organization's data. These insights can be used to guide decision making and strategic planning.\"\n",
    "\n",
    "print(string)"
   ]
  },
  {
   "cell_type": "markdown",
   "id": "ab509fa1",
   "metadata": {},
   "source": [
    "## New Line Character"
   ]
  },
  {
   "cell_type": "markdown",
   "id": "e2cedc85",
   "metadata": {},
   "source": [
    "#### \\n"
   ]
  },
  {
   "cell_type": "code",
   "execution_count": 31,
   "id": "3a57dc7c",
   "metadata": {},
   "outputs": [
    {
     "name": "stdout",
     "output_type": "stream",
     "text": [
      "This is a sample string\n"
     ]
    }
   ],
   "source": [
    "string = \"This is a sample string\"\n",
    "print(string)"
   ]
  },
  {
   "cell_type": "code",
   "execution_count": 32,
   "id": "4f7f9725",
   "metadata": {},
   "outputs": [
    {
     "name": "stdout",
     "output_type": "stream",
     "text": [
      "This is a \n",
      "sample string\n"
     ]
    }
   ],
   "source": [
    "string = \"This is a \\nsample string\"\n",
    "print(string)"
   ]
  },
  {
   "cell_type": "code",
   "execution_count": 36,
   "id": "bdfd0192",
   "metadata": {},
   "outputs": [
    {
     "name": "stdout",
     "output_type": "stream",
     "text": [
      "This \n",
      "is \n",
      "a \n",
      "sample \n",
      "string\n"
     ]
    }
   ],
   "source": [
    "string = \"This \\nis \\na \\nsample \\nstring\"\n",
    "print(string)"
   ]
  },
  {
   "cell_type": "code",
   "execution_count": 37,
   "id": "0f5bcc48",
   "metadata": {},
   "outputs": [
    {
     "name": "stdout",
     "output_type": "stream",
     "text": [
      "This \n",
      " is \n",
      " a \n",
      " sample \n",
      " string\n"
     ]
    }
   ],
   "source": [
    "string = \"This \\n is \\n a \\n sample \\n string\"\n",
    "print(string)"
   ]
  },
  {
   "cell_type": "code",
   "execution_count": 38,
   "id": "3c87e9fb",
   "metadata": {},
   "outputs": [
    {
     "name": "stdout",
     "output_type": "stream",
     "text": [
      "In python \n",
      " is a new line charachter\n"
     ]
    }
   ],
   "source": [
    "string = \"In python \\n is a new line charachter\"\n",
    "print(string)"
   ]
  },
  {
   "cell_type": "code",
   "execution_count": 39,
   "id": "64bc756d",
   "metadata": {},
   "outputs": [
    {
     "name": "stdout",
     "output_type": "stream",
     "text": [
      "In python \\n is a new line charachter\n"
     ]
    }
   ],
   "source": [
    "## Lets use escape character\n",
    "string = \"In python \\\\n is a new line charachter\"\n",
    "print(string)"
   ]
  },
  {
   "cell_type": "markdown",
   "id": "8e7805cd",
   "metadata": {},
   "source": [
    "## Tab Character"
   ]
  },
  {
   "cell_type": "markdown",
   "id": "2c4cf191",
   "metadata": {},
   "source": [
    "### \\t"
   ]
  },
  {
   "cell_type": "code",
   "execution_count": 40,
   "id": "6a5d45e8",
   "metadata": {},
   "outputs": [
    {
     "name": "stdout",
     "output_type": "stream",
     "text": [
      "This is a sample string\n"
     ]
    }
   ],
   "source": [
    "string = \"This is a sample string\"\n",
    "print(string)"
   ]
  },
  {
   "cell_type": "code",
   "execution_count": 41,
   "id": "82285fda",
   "metadata": {},
   "outputs": [
    {
     "name": "stdout",
     "output_type": "stream",
     "text": [
      "This is a \tsample string\n"
     ]
    }
   ],
   "source": [
    "string = \"This is a \\tsample string\" # It adds 4 spaces before the character\n",
    "print(string)"
   ]
  },
  {
   "cell_type": "code",
   "execution_count": 42,
   "id": "63c05569",
   "metadata": {},
   "outputs": [
    {
     "name": "stdout",
     "output_type": "stream",
     "text": [
      "This \tis \ta \tsample \tstring\n"
     ]
    }
   ],
   "source": [
    "string = \"This \\tis \\ta \\tsample \\tstring\"\n",
    "print(string)"
   ]
  },
  {
   "cell_type": "code",
   "execution_count": 43,
   "id": "f28b372e",
   "metadata": {},
   "outputs": [
    {
     "name": "stdout",
     "output_type": "stream",
     "text": [
      "In Python \t is a characher used in a string to add 4 spaces\n"
     ]
    }
   ],
   "source": [
    "string = \"In Python \\t is a characher used in a string to add 4 spaces\"\n",
    "print(string)"
   ]
  },
  {
   "cell_type": "code",
   "execution_count": 44,
   "id": "f53ad24b",
   "metadata": {},
   "outputs": [
    {
     "name": "stdout",
     "output_type": "stream",
     "text": [
      "In Python \\t is a characher used in a string to add 4 spaces\n"
     ]
    }
   ],
   "source": [
    "## Lets use escape charachter\n",
    "string = \"In Python \\\\t is a characher used in a string to add 4 spaces\"\n",
    "print(string)"
   ]
  },
  {
   "cell_type": "markdown",
   "id": "08f70716",
   "metadata": {},
   "source": [
    "### Revision of fstring"
   ]
  },
  {
   "cell_type": "code",
   "execution_count": 45,
   "id": "f6fca717",
   "metadata": {},
   "outputs": [
    {
     "name": "stdout",
     "output_type": "stream",
     "text": [
      "This is a sample string\n"
     ]
    }
   ],
   "source": [
    "x = \"This is a sample string\"\n",
    "\n",
    "print(x)"
   ]
  },
  {
   "cell_type": "code",
   "execution_count": 46,
   "id": "76cbe284",
   "metadata": {},
   "outputs": [
    {
     "ename": "NameError",
     "evalue": "name 'sample' is not defined",
     "output_type": "error",
     "traceback": [
      "\u001b[1;31m---------------------------------------------------------------------------\u001b[0m",
      "\u001b[1;31mNameError\u001b[0m                                 Traceback (most recent call last)",
      "Input \u001b[1;32mIn [46]\u001b[0m, in \u001b[0;36m<cell line: 1>\u001b[1;34m()\u001b[0m\n\u001b[1;32m----> 1\u001b[0m x \u001b[38;5;241m=\u001b[39m \u001b[38;5;124mf\u001b[39m\u001b[38;5;124m\"\u001b[39m\u001b[38;5;124mThis is a \u001b[39m\u001b[38;5;132;01m{\u001b[39;00msample\u001b[38;5;132;01m}\u001b[39;00m\u001b[38;5;124m string\u001b[39m\u001b[38;5;124m\"\u001b[39m\n\u001b[0;32m      3\u001b[0m \u001b[38;5;28mprint\u001b[39m(x)\n",
      "\u001b[1;31mNameError\u001b[0m: name 'sample' is not defined"
     ]
    }
   ],
   "source": [
    "x = f\"This is a {sample} string\"\n",
    "\n",
    "print(x)"
   ]
  },
  {
   "cell_type": "code",
   "execution_count": 47,
   "id": "86dd9888",
   "metadata": {},
   "outputs": [
    {
     "name": "stdout",
     "output_type": "stream",
     "text": [
      "This is a sample string\n"
     ]
    }
   ],
   "source": [
    "sample = \"sample\"\n",
    "\n",
    "x = f\"This is a {sample} string\"\n",
    "\n",
    "print(x)"
   ]
  },
  {
   "cell_type": "code",
   "execution_count": 48,
   "id": "db0c7c8b",
   "metadata": {},
   "outputs": [
    {
     "name": "stdout",
     "output_type": "stream",
     "text": [
      "This is a Velocity Class string\n"
     ]
    }
   ],
   "source": [
    "sample = \"Velocity Class\"\n",
    "\n",
    "x = f\"This is a {sample} string\"\n",
    "\n",
    "print(x)"
   ]
  },
  {
   "cell_type": "code",
   "execution_count": 49,
   "id": "26c40e6a",
   "metadata": {},
   "outputs": [
    {
     "name": "stdout",
     "output_type": "stream",
     "text": [
      "The value of variable x is 10\n"
     ]
    }
   ],
   "source": [
    "x = 10\n",
    "\n",
    "statement = f\"The value of variable x is {x}\"\n",
    "\n",
    "print(statement)"
   ]
  },
  {
   "cell_type": "code",
   "execution_count": 50,
   "id": "27d35373",
   "metadata": {},
   "outputs": [
    {
     "name": "stdout",
     "output_type": "stream",
     "text": [
      "The value of variable x is 12.623723947867234\n"
     ]
    }
   ],
   "source": [
    "x = 12.623723947867234\n",
    "\n",
    "statement = f\"The value of variable x is {x}\"\n",
    "\n",
    "print(statement)"
   ]
  },
  {
   "cell_type": "code",
   "execution_count": 51,
   "id": "3fc9ae90",
   "metadata": {},
   "outputs": [
    {
     "name": "stdout",
     "output_type": "stream",
     "text": [
      "The value of variable x is 12.6237\n"
     ]
    }
   ],
   "source": [
    "x = 12.623723947867234\n",
    "\n",
    "statement = f\"The value of variable x is {x:.4f}\"\n",
    "\n",
    "print(statement)"
   ]
  },
  {
   "cell_type": "markdown",
   "id": "3fa0a9d1",
   "metadata": {},
   "source": [
    "## Revision .format string "
   ]
  },
  {
   "cell_type": "code",
   "execution_count": 52,
   "id": "17de596a",
   "metadata": {},
   "outputs": [
    {
     "name": "stdout",
     "output_type": "stream",
     "text": [
      "This is a number 10\n"
     ]
    }
   ],
   "source": [
    "x = \"This is a number {}\".format(10)\n",
    "\n",
    "print(x)"
   ]
  },
  {
   "cell_type": "code",
   "execution_count": 53,
   "id": "3be40d05",
   "metadata": {},
   "outputs": [
    {
     "name": "stdout",
     "output_type": "stream",
     "text": [
      "In the series of number 10 comes before 11 which is again before 12\n"
     ]
    }
   ],
   "source": [
    "x = \"In the series of number {} comes before {} which is again before {}\".format(10,11,12)\n",
    "\n",
    "print(x)"
   ]
  },
  {
   "cell_type": "code",
   "execution_count": 54,
   "id": "a77c462c",
   "metadata": {},
   "outputs": [
    {
     "name": "stdout",
     "output_type": "stream",
     "text": [
      "In the series of number 21 comes before 22 which is again before 23\n"
     ]
    }
   ],
   "source": [
    "a = 21\n",
    "b = 22\n",
    "c = 23\n",
    "\n",
    "x = \"In the series of number {} comes before {} which is again before {}\".format(a,b,c)\n",
    "\n",
    "print(x)"
   ]
  },
  {
   "cell_type": "code",
   "execution_count": 61,
   "id": "417162a4",
   "metadata": {},
   "outputs": [
    {
     "name": "stdout",
     "output_type": "stream",
     "text": [
      "In the series of number 21 comes before 22 which is again before 23.1265\n"
     ]
    }
   ],
   "source": [
    "a = 21\n",
    "b = 22\n",
    "c = 23.12653461283\n",
    "\n",
    "x = \"In the series of number {} comes before {} which is again before {:.4f}\".format(a,b,c)\n",
    "\n",
    "print(x)"
   ]
  },
  {
   "cell_type": "markdown",
   "id": "57a2eb8a",
   "metadata": {},
   "source": [
    "### % Operator"
   ]
  },
  {
   "cell_type": "code",
   "execution_count": 79,
   "id": "15a79dfa",
   "metadata": {},
   "outputs": [
    {
     "ename": "ValueError",
     "evalue": "incomplete format",
     "output_type": "error",
     "traceback": [
      "\u001b[1;31m---------------------------------------------------------------------------\u001b[0m",
      "\u001b[1;31mValueError\u001b[0m                                Traceback (most recent call last)",
      "Input \u001b[1;32mIn [79]\u001b[0m, in \u001b[0;36m<cell line: 2>\u001b[1;34m()\u001b[0m\n\u001b[0;32m      1\u001b[0m a \u001b[38;5;241m=\u001b[39m \u001b[38;5;241m10\u001b[39m\n\u001b[1;32m----> 2\u001b[0m x \u001b[38;5;241m=\u001b[39m \u001b[38;5;124;43m\"\u001b[39;49m\u001b[38;5;124;43mLets print \u001b[39;49m\u001b[38;5;132;43;01m%d\u001b[39;49;00m\u001b[38;5;124;43m  \u001b[39;49m\u001b[38;5;124;43m%\u001b[39;49m\u001b[38;5;124;43m\"\u001b[39;49m\u001b[38;5;241;43m%\u001b[39;49m\u001b[38;5;241;43m10\u001b[39;49m\n\u001b[0;32m      4\u001b[0m \u001b[38;5;28mprint\u001b[39m(x)\n",
      "\u001b[1;31mValueError\u001b[0m: incomplete format"
     ]
    }
   ],
   "source": [
    "a = 10\n",
    "x = \"Lets print %d\"%10\n",
    "\n",
    "print(x)"
   ]
  },
  {
   "cell_type": "code",
   "execution_count": 93,
   "id": "5b5888dd",
   "metadata": {},
   "outputs": [
    {
     "data": {
      "text/plain": [
       "'In python to print 10 we can use % operator'"
      ]
     },
     "execution_count": 93,
     "metadata": {},
     "output_type": "execute_result"
    }
   ],
   "source": [
    "x = \"In python to print %d we can use %% operator\"%10\n",
    "x"
   ]
  },
  {
   "cell_type": "code",
   "execution_count": null,
   "id": "8ad97e60",
   "metadata": {},
   "outputs": [],
   "source": [
    "a = 21\n",
    "b = 22\n",
    "c = 23\n",
    "\n",
    "x = \"In the series of number {} comes before {} which is again before {}\".format(a,b,c)\n",
    "\n",
    "print(x)"
   ]
  },
  {
   "cell_type": "code",
   "execution_count": 94,
   "id": "5c99eaca",
   "metadata": {},
   "outputs": [
    {
     "name": "stdout",
     "output_type": "stream",
     "text": [
      "In the series of number 21 comes before 22 which is again before 23\n"
     ]
    }
   ],
   "source": [
    "a = 21\n",
    "b = 22\n",
    "c = 23\n",
    "\n",
    "x = \"In the series of number %d comes before %d which is again before %d\"%(a,b,c)\n",
    "\n",
    "print(x)"
   ]
  },
  {
   "cell_type": "code",
   "execution_count": 95,
   "id": "373ef354",
   "metadata": {},
   "outputs": [
    {
     "name": "stdout",
     "output_type": "stream",
     "text": [
      "In the series of number 21 comes before 22 which is again before 23.623663\n"
     ]
    }
   ],
   "source": [
    "a = 21\n",
    "b = 22\n",
    "c = 23.62366273\n",
    "\n",
    "x = \"In the series of number %d comes before %d which is again before %f\"%(a,b,c)\n",
    "\n",
    "print(x)"
   ]
  },
  {
   "cell_type": "code",
   "execution_count": 96,
   "id": "a845b469",
   "metadata": {},
   "outputs": [
    {
     "name": "stdout",
     "output_type": "stream",
     "text": [
      "In the series of number 21 comes before 22 which is again before 23.62\n"
     ]
    }
   ],
   "source": [
    "a = 21\n",
    "b = 22\n",
    "c = 23.62366273\n",
    "\n",
    "x = \"In the series of number %d comes before %d which is again before %.2f\"%(a,b,c)\n",
    "\n",
    "print(x)"
   ]
  },
  {
   "cell_type": "code",
   "execution_count": null,
   "id": "9435e877",
   "metadata": {},
   "outputs": [],
   "source": []
  }
 ],
 "metadata": {
  "kernelspec": {
   "display_name": "Python 3 (ipykernel)",
   "language": "python",
   "name": "python3"
  },
  "language_info": {
   "codemirror_mode": {
    "name": "ipython",
    "version": 3
   },
   "file_extension": ".py",
   "mimetype": "text/x-python",
   "name": "python",
   "nbconvert_exporter": "python",
   "pygments_lexer": "ipython3",
   "version": "3.10.5"
  }
 },
 "nbformat": 4,
 "nbformat_minor": 5
}
