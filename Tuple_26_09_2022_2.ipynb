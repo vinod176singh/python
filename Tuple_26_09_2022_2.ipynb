{
 "cells": [
  {
   "cell_type": "code",
   "execution_count": null,
   "id": "5c6abd36",
   "metadata": {},
   "outputs": [],
   "source": [
    "List:\n",
    "    1. Mutable\n",
    "    2. Ordered\n",
    "    3. Duplicates are allowed\n",
    "\n",
    "Tuple:\n",
    "    1. Immutable\n",
    "    2. Ordered\n",
    "    3. Duplicates are allowed"
   ]
  },
  {
   "cell_type": "markdown",
   "id": "83fd26df",
   "metadata": {},
   "source": [
    "## Tuple"
   ]
  },
  {
   "cell_type": "code",
   "execution_count": null,
   "id": "7cf1854b",
   "metadata": {},
   "outputs": [],
   "source": [
    "Tuple is a collection of items\n",
    "It is a container type datatype\n",
    "\n",
    "It can contain items of data type as >> int, float, str, list, tuple, set, frozenset, dict\n",
    "\n",
    "Tuples are inclosed by ( )\n",
    "\n",
    "The items in a tuple are comma seperated\n",
    "\n",
    "Takes less memory as compered to list"
   ]
  },
  {
   "cell_type": "markdown",
   "id": "9818dc9d",
   "metadata": {},
   "source": [
    "### Tuple Functions"
   ]
  },
  {
   "cell_type": "code",
   "execution_count": null,
   "id": "ffd8dc02",
   "metadata": {},
   "outputs": [],
   "source": [
    "## Indexing and slicing works the way it works in list hence not covered here\n",
    "1. index\n",
    "2. count\n",
    "\n",
    "Buit in function:\n",
    "    1. sorted()\n",
    "    2. reversed()\n",
    "    3. min()\n",
    "    4. max()\n",
    "    5. sum()"
   ]
  },
  {
   "cell_type": "markdown",
   "id": "68c9cf6c",
   "metadata": {},
   "source": [
    "### How to initiate a tuple"
   ]
  },
  {
   "cell_type": "code",
   "execution_count": 1,
   "id": "fff647da",
   "metadata": {},
   "outputs": [
    {
     "data": {
      "text/plain": [
       "tuple"
      ]
     },
     "execution_count": 1,
     "metadata": {},
     "output_type": "execute_result"
    }
   ],
   "source": [
    "tuple1 = ()\n",
    "\n",
    "type(tuple1)"
   ]
  },
  {
   "cell_type": "code",
   "execution_count": 2,
   "id": "36b16f27",
   "metadata": {},
   "outputs": [
    {
     "data": {
      "text/plain": [
       "tuple"
      ]
     },
     "execution_count": 2,
     "metadata": {},
     "output_type": "execute_result"
    }
   ],
   "source": [
    "tuple1 = (1,2,3,4,5)\n",
    "\n",
    "type(tuple1)"
   ]
  },
  {
   "cell_type": "code",
   "execution_count": 3,
   "id": "19d9c81c",
   "metadata": {},
   "outputs": [
    {
     "data": {
      "text/plain": [
       "int"
      ]
     },
     "execution_count": 3,
     "metadata": {},
     "output_type": "execute_result"
    }
   ],
   "source": [
    "## Something to remember\n",
    "\n",
    "x = (1)\n",
    "\n",
    "type(x)"
   ]
  },
  {
   "cell_type": "code",
   "execution_count": 4,
   "id": "848c437b",
   "metadata": {},
   "outputs": [
    {
     "data": {
      "text/plain": [
       "tuple"
      ]
     },
     "execution_count": 4,
     "metadata": {},
     "output_type": "execute_result"
    }
   ],
   "source": [
    "x = (1,)\n",
    "\n",
    "type(x)"
   ]
  },
  {
   "cell_type": "code",
   "execution_count": 5,
   "id": "2fd33eee",
   "metadata": {},
   "outputs": [
    {
     "data": {
      "text/plain": [
       "str"
      ]
     },
     "execution_count": 5,
     "metadata": {},
     "output_type": "execute_result"
    }
   ],
   "source": [
    "x = (\"This is a sample string\")\n",
    "\n",
    "type(x)"
   ]
  },
  {
   "cell_type": "code",
   "execution_count": 6,
   "id": "6bb4114b",
   "metadata": {},
   "outputs": [
    {
     "data": {
      "text/plain": [
       "tuple"
      ]
     },
     "execution_count": 6,
     "metadata": {},
     "output_type": "execute_result"
    }
   ],
   "source": [
    "x = (\"This is a sample string\",)\n",
    "\n",
    "type(x)"
   ]
  },
  {
   "cell_type": "code",
   "execution_count": 8,
   "id": "80ae5b90",
   "metadata": {},
   "outputs": [
    {
     "name": "stdout",
     "output_type": "stream",
     "text": [
      "<class 'int'>\n",
      "<class 'int'>\n",
      "<class 'int'>\n"
     ]
    }
   ],
   "source": [
    "# Something to remember\n",
    "x,y,z = 1,2,3\n",
    "\n",
    "print(type(x))\n",
    "print(type(y))\n",
    "print(type(z))"
   ]
  },
  {
   "cell_type": "code",
   "execution_count": 9,
   "id": "d2caf5fe",
   "metadata": {},
   "outputs": [
    {
     "name": "stdout",
     "output_type": "stream",
     "text": [
      "<class 'int'>\n",
      "<class 'float'>\n",
      "<class 'str'>\n"
     ]
    }
   ],
   "source": [
    "x,y,z = 1,2.2,\"string\"\n",
    "\n",
    "print(type(x))\n",
    "print(type(y))\n",
    "print(type(z))"
   ]
  },
  {
   "cell_type": "code",
   "execution_count": 10,
   "id": "ddfcbf75",
   "metadata": {},
   "outputs": [
    {
     "data": {
      "text/plain": [
       "tuple"
      ]
     },
     "execution_count": 10,
     "metadata": {},
     "output_type": "execute_result"
    }
   ],
   "source": [
    "x = 1,2.2,\"string\"\n",
    "\n",
    "type(x)"
   ]
  },
  {
   "cell_type": "code",
   "execution_count": 11,
   "id": "b2ebbbfe",
   "metadata": {},
   "outputs": [
    {
     "name": "stdout",
     "output_type": "stream",
     "text": [
      "(1, 2.2, 'string')\n"
     ]
    }
   ],
   "source": [
    "print(x)"
   ]
  },
  {
   "cell_type": "markdown",
   "id": "97a149ea",
   "metadata": {},
   "source": [
    "# Tuple Function"
   ]
  },
  {
   "cell_type": "markdown",
   "id": "e6bc79b9",
   "metadata": {},
   "source": [
    "### index()"
   ]
  },
  {
   "cell_type": "code",
   "execution_count": 12,
   "id": "c99f4c50",
   "metadata": {},
   "outputs": [
    {
     "data": {
      "text/plain": [
       "1"
      ]
     },
     "execution_count": 12,
     "metadata": {},
     "output_type": "execute_result"
    }
   ],
   "source": [
    "## index returns index of first occurance of an element in a tuple\n",
    "tuple1 = (1,2,3,4,1,2,3,4)\n",
    "\n",
    "tuple1.index(2)"
   ]
  },
  {
   "cell_type": "code",
   "execution_count": 15,
   "id": "243aad54",
   "metadata": {},
   "outputs": [
    {
     "data": {
      "text/plain": [
       "3"
      ]
     },
     "execution_count": 15,
     "metadata": {},
     "output_type": "execute_result"
    }
   ],
   "source": [
    "tuple1 = (1,1.2,100,[1,2,3,4],\"Sample\",{\"Name\":\"Mahendra\",\"Surname\":\"Dhoni\"},\"Sample\")\n",
    "\n",
    "tuple1.index([1,2,3,4])"
   ]
  },
  {
   "cell_type": "code",
   "execution_count": 16,
   "id": "81e582af",
   "metadata": {},
   "outputs": [
    {
     "data": {
      "text/plain": [
       "4"
      ]
     },
     "execution_count": 16,
     "metadata": {},
     "output_type": "execute_result"
    }
   ],
   "source": [
    "tuple1.index(\"Sample\")"
   ]
  },
  {
   "cell_type": "markdown",
   "id": "6cc36abd",
   "metadata": {},
   "source": [
    "### count()"
   ]
  },
  {
   "cell_type": "code",
   "execution_count": 18,
   "id": "831193ba",
   "metadata": {},
   "outputs": [
    {
     "data": {
      "text/plain": [
       "5"
      ]
     },
     "execution_count": 18,
     "metadata": {},
     "output_type": "execute_result"
    }
   ],
   "source": [
    "tuple1 = (1,2,3,2,2,3,3,4,5,5,6,1,2,7,8,3,4,2,678,3,8)\n",
    "\n",
    "tuple1.count(2)"
   ]
  },
  {
   "cell_type": "markdown",
   "id": "3e9431d7",
   "metadata": {},
   "source": [
    "# Using Python Built in Function"
   ]
  },
  {
   "cell_type": "markdown",
   "id": "b0722673",
   "metadata": {},
   "source": [
    "### sorted()"
   ]
  },
  {
   "cell_type": "code",
   "execution_count": 19,
   "id": "7569d0be",
   "metadata": {},
   "outputs": [
    {
     "name": "stdout",
     "output_type": "stream",
     "text": [
      "[1, 1, 2, 2, 2, 2, 2, 3, 3, 3, 3, 3, 4, 4, 5, 5, 6, 7, 8, 8, 678]\n"
     ]
    }
   ],
   "source": [
    "tuple1 = (1,2,3,2,2,3,3,4,5,5,6,1,2,7,8,3,4,2,678,3,8)\n",
    "\n",
    "tuple2 = sorted(tuple1)\n",
    "print(tuple2)"
   ]
  },
  {
   "cell_type": "code",
   "execution_count": 20,
   "id": "f63436b0",
   "metadata": {},
   "outputs": [
    {
     "data": {
      "text/plain": [
       "(1, 1, 2, 2, 2, 2, 2, 3, 3, 3, 3, 3, 4, 4, 5, 5, 6, 7, 8, 8, 678)"
      ]
     },
     "execution_count": 20,
     "metadata": {},
     "output_type": "execute_result"
    }
   ],
   "source": [
    "tuple2 = tuple(tuple2) ## Type casting\n",
    "\n",
    "tuple2"
   ]
  },
  {
   "cell_type": "markdown",
   "id": "7a21efef",
   "metadata": {},
   "source": [
    "### reversed()"
   ]
  },
  {
   "cell_type": "code",
   "execution_count": 21,
   "id": "ac28769d",
   "metadata": {},
   "outputs": [
    {
     "name": "stdout",
     "output_type": "stream",
     "text": [
      "<reversed object at 0x000002A458FEA260>\n"
     ]
    }
   ],
   "source": [
    "tuple1 = (1,2,3,2,2,3,3,4,5,5,6,1,2,7,8,3,4,2,678,3,8)\n",
    "\n",
    "tuple2 = reversed(tuple1)\n",
    "\n",
    "print(tuple2)"
   ]
  },
  {
   "cell_type": "code",
   "execution_count": 22,
   "id": "2b0127f5",
   "metadata": {},
   "outputs": [
    {
     "data": {
      "text/plain": [
       "(8, 3, 678, 2, 4, 3, 8, 7, 2, 1, 6, 5, 5, 4, 3, 3, 2, 2, 3, 2, 1)"
      ]
     },
     "execution_count": 22,
     "metadata": {},
     "output_type": "execute_result"
    }
   ],
   "source": [
    "tuple2 = tuple(tuple2)\n",
    "\n",
    "tuple2"
   ]
  },
  {
   "cell_type": "markdown",
   "id": "1f565394",
   "metadata": {},
   "source": [
    "### min()"
   ]
  },
  {
   "cell_type": "code",
   "execution_count": 24,
   "id": "a7537364",
   "metadata": {},
   "outputs": [
    {
     "ename": "AttributeError",
     "evalue": "'tuple' object has no attribute 'min'",
     "output_type": "error",
     "traceback": [
      "\u001b[1;31m---------------------------------------------------------------------------\u001b[0m",
      "\u001b[1;31mAttributeError\u001b[0m                            Traceback (most recent call last)",
      "Input \u001b[1;32mIn [24]\u001b[0m, in \u001b[0;36m<cell line: 3>\u001b[1;34m()\u001b[0m\n\u001b[0;32m      1\u001b[0m tuple1 \u001b[38;5;241m=\u001b[39m (\u001b[38;5;241m1\u001b[39m,\u001b[38;5;241m2\u001b[39m,\u001b[38;5;241m3\u001b[39m,\u001b[38;5;241m2\u001b[39m,\u001b[38;5;241m2\u001b[39m,\u001b[38;5;241m3\u001b[39m,\u001b[38;5;241m3\u001b[39m,\u001b[38;5;241m4\u001b[39m,\u001b[38;5;241m5\u001b[39m,\u001b[38;5;241m5\u001b[39m,\u001b[38;5;241m6\u001b[39m,\u001b[38;5;241m1\u001b[39m,\u001b[38;5;241m2\u001b[39m,\u001b[38;5;241m7\u001b[39m,\u001b[38;5;241m8\u001b[39m,\u001b[38;5;241m3\u001b[39m,\u001b[38;5;241m4\u001b[39m,\u001b[38;5;241m2\u001b[39m,\u001b[38;5;241m678\u001b[39m,\u001b[38;5;241m3\u001b[39m,\u001b[38;5;241m8\u001b[39m)\n\u001b[1;32m----> 3\u001b[0m \u001b[43mtuple1\u001b[49m\u001b[38;5;241;43m.\u001b[39;49m\u001b[43mmin\u001b[49m()\n",
      "\u001b[1;31mAttributeError\u001b[0m: 'tuple' object has no attribute 'min'"
     ]
    }
   ],
   "source": [
    "tuple1 = (1,2,3,2,2,3,3,4,5,5,6,1,2,7,8,3,4,2,678,3,8)\n",
    "\n",
    "tuple1.min() ## There is no such tuple attribute (function)"
   ]
  },
  {
   "cell_type": "code",
   "execution_count": 25,
   "id": "83b5d94d",
   "metadata": {},
   "outputs": [
    {
     "data": {
      "text/plain": [
       "1"
      ]
     },
     "execution_count": 25,
     "metadata": {},
     "output_type": "execute_result"
    }
   ],
   "source": [
    "min(tuple1)"
   ]
  },
  {
   "cell_type": "markdown",
   "id": "bb6fcae2",
   "metadata": {},
   "source": [
    "### max()"
   ]
  },
  {
   "cell_type": "code",
   "execution_count": 26,
   "id": "b87afa7a",
   "metadata": {},
   "outputs": [
    {
     "data": {
      "text/plain": [
       "678"
      ]
     },
     "execution_count": 26,
     "metadata": {},
     "output_type": "execute_result"
    }
   ],
   "source": [
    "tuple1 = (1,2,3,2,2,3,3,4,5,5,6,1,2,7,8,3,4,2,678,3,8)\n",
    "\n",
    "max(tuple1)"
   ]
  },
  {
   "cell_type": "code",
   "execution_count": 29,
   "id": "939f75c7",
   "metadata": {},
   "outputs": [],
   "source": [
    "list1 = list(tuple1)"
   ]
  },
  {
   "cell_type": "code",
   "execution_count": null,
   "id": "5b5dad9a",
   "metadata": {},
   "outputs": [],
   "source": []
  }
 ],
 "metadata": {
  "kernelspec": {
   "display_name": "Python 3 (ipykernel)",
   "language": "python",
   "name": "python3"
  },
  "language_info": {
   "codemirror_mode": {
    "name": "ipython",
    "version": 3
   },
   "file_extension": ".py",
   "mimetype": "text/x-python",
   "name": "python",
   "nbconvert_exporter": "python",
   "pygments_lexer": "ipython3",
   "version": "3.9.12"
  }
 },
 "nbformat": 4,
 "nbformat_minor": 5
}
