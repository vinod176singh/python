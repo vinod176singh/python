{
 "cells": [
  {
   "cell_type": "markdown",
   "id": "afd7f9c5",
   "metadata": {},
   "source": [
    "## Lambda Function"
   ]
  },
  {
   "cell_type": "code",
   "execution_count": null,
   "id": "1966415d",
   "metadata": {},
   "outputs": [],
   "source": [
    "It is also called Annonymous Function\n",
    "\n",
    "Higher Order Function >> This Fuction can be used as an argument to other other function\n",
    "\n",
    "Lambda Functions are defined by using lambda Keyword\n",
    "Here in this function we don't need any return statement\n",
    "\n",
    "Mutiple argument can be passed to this function but it will work on single expression\n",
    "\n",
    "def my_func(a,b,c,d):    ## Mutliple arguments\n",
    "    add = a + b + c + d  ## Single Expresion\n",
    "    return add"
   ]
  },
  {
   "cell_type": "markdown",
   "id": "e7fd4bf2",
   "metadata": {},
   "source": [
    "## Syntax:"
   ]
  },
  {
   "cell_type": "code",
   "execution_count": null,
   "id": "28c16d39",
   "metadata": {},
   "outputs": [],
   "source": [
    "lambda arguments : expression"
   ]
  },
  {
   "cell_type": "code",
   "execution_count": 1,
   "id": "744aa577",
   "metadata": {},
   "outputs": [
    {
     "data": {
      "text/plain": [
       "440"
      ]
     },
     "execution_count": 1,
     "metadata": {},
     "output_type": "execute_result"
    }
   ],
   "source": [
    "def multiply(a,b):\n",
    "    mul = a * b\n",
    "    return mul\n",
    "multiply(20,22)"
   ]
  },
  {
   "cell_type": "code",
   "execution_count": 2,
   "id": "56e3d2ff",
   "metadata": {},
   "outputs": [],
   "source": [
    "multiply = lambda a,b : a*b"
   ]
  },
  {
   "cell_type": "code",
   "execution_count": 3,
   "id": "6ea81b90",
   "metadata": {},
   "outputs": [
    {
     "data": {
      "text/plain": [
       "440"
      ]
     },
     "execution_count": 3,
     "metadata": {},
     "output_type": "execute_result"
    }
   ],
   "source": [
    "multiply(20,22)"
   ]
  },
  {
   "cell_type": "code",
   "execution_count": 4,
   "id": "efa8ee5d",
   "metadata": {},
   "outputs": [
    {
     "data": {
      "text/plain": [
       "440"
      ]
     },
     "execution_count": 4,
     "metadata": {},
     "output_type": "execute_result"
    }
   ],
   "source": [
    "(lambda a,b : a*b)(20,22)"
   ]
  },
  {
   "cell_type": "code",
   "execution_count": 5,
   "id": "c0896808",
   "metadata": {},
   "outputs": [
    {
     "name": "stdout",
     "output_type": "stream",
     "text": [
      "36\n",
      "String1String2String3\n",
      "123\n",
      "44\n"
     ]
    }
   ],
   "source": [
    "add = lambda a,b,c : a+b+c\n",
    "\n",
    "print(add(11,12,13))\n",
    "print(add(\"String1\",\"String2\",\"String3\"))\n",
    "print(add(\"1\",\"2\",\"3\"))\n",
    "print(add(13,15,16))"
   ]
  },
  {
   "cell_type": "code",
   "execution_count": 6,
   "id": "70191775",
   "metadata": {},
   "outputs": [
    {
     "name": "stdout",
     "output_type": "stream",
     "text": [
      "20\n",
      "40\n"
     ]
    }
   ],
   "source": [
    "multiply_10 = lambda a: a*10\n",
    "\n",
    "print(multiply_10(2))\n",
    "print(multiply_10(4))"
   ]
  },
  {
   "cell_type": "code",
   "execution_count": 7,
   "id": "5077e08d",
   "metadata": {},
   "outputs": [
    {
     "name": "stdout",
     "output_type": "stream",
     "text": [
      "169\n",
      "9\n",
      "9.8596\n"
     ]
    }
   ],
   "source": [
    "square = lambda a: a**2\n",
    "\n",
    "print(square(13))\n",
    "print(square(3))\n",
    "print(square(3.14))"
   ]
  },
  {
   "cell_type": "code",
   "execution_count": 11,
   "id": "0e8cc450",
   "metadata": {},
   "outputs": [
    {
     "name": "stdout",
     "output_type": "stream",
     "text": [
      "The square of 12 is 144\n"
     ]
    }
   ],
   "source": [
    "square = lambda a: (f\"The square of {a} is {a**2}\")\n",
    "\n",
    "print(square(12))"
   ]
  },
  {
   "cell_type": "code",
   "execution_count": 12,
   "id": "71767d2e",
   "metadata": {},
   "outputs": [
    {
     "name": "stdout",
     "output_type": "stream",
     "text": [
      "27\n"
     ]
    }
   ],
   "source": [
    "cube = lambda m: m**3\n",
    "\n",
    "print(cube(3))"
   ]
  },
  {
   "cell_type": "code",
   "execution_count": 13,
   "id": "dce7f4c6",
   "metadata": {},
   "outputs": [
    {
     "data": {
      "text/plain": [
       "12.0"
      ]
     },
     "execution_count": 13,
     "metadata": {},
     "output_type": "execute_result"
    }
   ],
   "source": [
    "avg = lambda x,y,z : (x+y+z)/3\n",
    "\n",
    "avg(11,12,13)"
   ]
  },
  {
   "cell_type": "code",
   "execution_count": 14,
   "id": "8aea54b6",
   "metadata": {},
   "outputs": [
    {
     "data": {
      "text/plain": [
       "33.0"
      ]
     },
     "execution_count": 14,
     "metadata": {},
     "output_type": "execute_result"
    }
   ],
   "source": [
    "avg(22,33,44)"
   ]
  },
  {
   "cell_type": "code",
   "execution_count": 15,
   "id": "8cf8ef5c",
   "metadata": {},
   "outputs": [
    {
     "data": {
      "text/plain": [
       "51"
      ]
     },
     "execution_count": 15,
     "metadata": {},
     "output_type": "execute_result"
    }
   ],
   "source": [
    "total = lambda x,y,z : (x+y+z)\n",
    "\n",
    "total(12,19,20)"
   ]
  },
  {
   "cell_type": "code",
   "execution_count": 16,
   "id": "2f95b381",
   "metadata": {},
   "outputs": [
    {
     "data": {
      "text/plain": [
       "84"
      ]
     },
     "execution_count": 16,
     "metadata": {},
     "output_type": "execute_result"
    }
   ],
   "source": [
    "total = lambda *args : sum(args)\n",
    "\n",
    "total(12,15,16,19,22)"
   ]
  },
  {
   "cell_type": "code",
   "execution_count": 17,
   "id": "941f0470",
   "metadata": {},
   "outputs": [
    {
     "data": {
      "text/plain": [
       "25"
      ]
     },
     "execution_count": 17,
     "metadata": {},
     "output_type": "execute_result"
    }
   ],
   "source": [
    "total = lambda a,b,*args : a + b + sum(args)\n",
    "\n",
    "total(12,13)"
   ]
  },
  {
   "cell_type": "code",
   "execution_count": 18,
   "id": "dd787f70",
   "metadata": {},
   "outputs": [
    {
     "data": {
      "text/plain": [
       "87"
      ]
     },
     "execution_count": 18,
     "metadata": {},
     "output_type": "execute_result"
    }
   ],
   "source": [
    "total(12,13,14,15,16,17)"
   ]
  },
  {
   "cell_type": "code",
   "execution_count": 19,
   "id": "1e28dd14",
   "metadata": {},
   "outputs": [
    {
     "data": {
      "text/plain": [
       "85"
      ]
     },
     "execution_count": 19,
     "metadata": {},
     "output_type": "execute_result"
    }
   ],
   "source": [
    "total = lambda a,b,*args, x=10,y=20 : a + b + sum(args) + x + y\n",
    "\n",
    "total(12,13,11,9,10)"
   ]
  },
  {
   "cell_type": "code",
   "execution_count": 20,
   "id": "9aacb2d3",
   "metadata": {},
   "outputs": [
    {
     "data": {
      "text/plain": [
       "65"
      ]
     },
     "execution_count": 20,
     "metadata": {},
     "output_type": "execute_result"
    }
   ],
   "source": [
    "total(12,13,11,9,10,x=5,y=5)"
   ]
  },
  {
   "cell_type": "code",
   "execution_count": 21,
   "id": "0235e97b",
   "metadata": {},
   "outputs": [],
   "source": [
    "total = lambda a,b,*args, x = 20, y = 30, **kwargs : a + b + sum(args) + x + y + sum(kwargs.values())"
   ]
  },
  {
   "cell_type": "code",
   "execution_count": 22,
   "id": "696aa24e",
   "metadata": {},
   "outputs": [
    {
     "data": {
      "text/plain": [
       "221"
      ]
     },
     "execution_count": 22,
     "metadata": {},
     "output_type": "execute_result"
    }
   ],
   "source": [
    "total(10,20,11,12,13,l = 25, m = 35, n = 45)"
   ]
  },
  {
   "cell_type": "code",
   "execution_count": 23,
   "id": "225c8ac8",
   "metadata": {},
   "outputs": [
    {
     "data": {
      "text/plain": [
       "201"
      ]
     },
     "execution_count": 23,
     "metadata": {},
     "output_type": "execute_result"
    }
   ],
   "source": [
    "total(10,20,11,12,13,x=10,y=20,l = 25, m = 35, n = 45)"
   ]
  },
  {
   "cell_type": "code",
   "execution_count": 24,
   "id": "f862293d",
   "metadata": {},
   "outputs": [
    {
     "data": {
      "text/plain": [
       "201"
      ]
     },
     "execution_count": 24,
     "metadata": {},
     "output_type": "execute_result"
    }
   ],
   "source": [
    "total(10,20,11,12,13,l = 25, m = 35, n = 45,x=10,y=20)"
   ]
  },
  {
   "cell_type": "code",
   "execution_count": 25,
   "id": "19ae7263",
   "metadata": {},
   "outputs": [],
   "source": [
    "compare = lambda a,b: (print(f\"{a} is greater than {b}\") if a > b else print(f\"{b} is greater than {a}\"))"
   ]
  },
  {
   "cell_type": "code",
   "execution_count": 26,
   "id": "36dc73f2",
   "metadata": {},
   "outputs": [
    {
     "name": "stdout",
     "output_type": "stream",
     "text": [
      "33 is greater than 22\n"
     ]
    }
   ],
   "source": [
    "compare(22,33)"
   ]
  },
  {
   "cell_type": "code",
   "execution_count": 27,
   "id": "bd3abc80",
   "metadata": {},
   "outputs": [
    {
     "name": "stdout",
     "output_type": "stream",
     "text": [
      "100 is greater than 2\n"
     ]
    }
   ],
   "source": [
    "compare(100,2)"
   ]
  },
  {
   "cell_type": "code",
   "execution_count": 28,
   "id": "3f70c178",
   "metadata": {},
   "outputs": [
    {
     "data": {
      "text/plain": [
       "[1, 4, 9, 16, 25, 36, 49]"
      ]
     },
     "execution_count": 28,
     "metadata": {},
     "output_type": "execute_result"
    }
   ],
   "source": [
    "lst = [1,2,3,4,5,6,7]\n",
    "\n",
    "square = lambda input_list: [i**2 for i in input_list]\n",
    "\n",
    "square(lst)"
   ]
  },
  {
   "cell_type": "code",
   "execution_count": 29,
   "id": "749c4212",
   "metadata": {},
   "outputs": [
    {
     "data": {
      "text/plain": [
       "[4, 9, 49, 81, 484, 1089, 1936]"
      ]
     },
     "execution_count": 29,
     "metadata": {},
     "output_type": "execute_result"
    }
   ],
   "source": [
    "square([2,3,7,9,22,33,44])"
   ]
  },
  {
   "cell_type": "code",
   "execution_count": null,
   "id": "509521ef",
   "metadata": {},
   "outputs": [],
   "source": []
  }
 ],
 "metadata": {
  "kernelspec": {
   "display_name": "Python 3 (ipykernel)",
   "language": "python",
   "name": "python3"
  },
  "language_info": {
   "codemirror_mode": {
    "name": "ipython",
    "version": 3
   },
   "file_extension": ".py",
   "mimetype": "text/x-python",
   "name": "python",
   "nbconvert_exporter": "python",
   "pygments_lexer": "ipython3",
   "version": "3.9.12"
  }
 },
 "nbformat": 4,
 "nbformat_minor": 5
}
