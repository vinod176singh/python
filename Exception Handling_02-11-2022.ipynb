{
 "cells": [
  {
   "cell_type": "code",
   "execution_count": 1,
   "id": "a2c4a560",
   "metadata": {},
   "outputs": [],
   "source": [
    "from datetime import datetime"
   ]
  },
  {
   "cell_type": "code",
   "execution_count": 2,
   "id": "2a7b3589",
   "metadata": {},
   "outputs": [],
   "source": [
    "date1 = \"02-11-2022\"\n",
    "date2 = \"02/11/2022\"\n",
    "\n",
    "def get_date(date):\n",
    "    try:\n",
    "        print(\"Try Block\")\n",
    "        datetime_object = datetime.strptime(date,\"%d-%m-%Y\").date()\n",
    "        return datetime_object\n",
    "    except:\n",
    "        print(\"Except Block\")\n",
    "        datetime_object = datetime.strptime(date,\"%d/%m/%Y\").date()\n",
    "        return datetime_object"
   ]
  },
  {
   "cell_type": "code",
   "execution_count": 3,
   "id": "09dc43ac",
   "metadata": {},
   "outputs": [
    {
     "name": "stdout",
     "output_type": "stream",
     "text": [
      "Try Block\n"
     ]
    },
    {
     "data": {
      "text/plain": [
       "datetime.date(2022, 11, 2)"
      ]
     },
     "execution_count": 3,
     "metadata": {},
     "output_type": "execute_result"
    }
   ],
   "source": [
    "get_date(date1)"
   ]
  },
  {
   "cell_type": "code",
   "execution_count": 4,
   "id": "139e55e6",
   "metadata": {},
   "outputs": [
    {
     "name": "stdout",
     "output_type": "stream",
     "text": [
      "Try Block\n",
      "Except Block\n"
     ]
    },
    {
     "data": {
      "text/plain": [
       "datetime.date(2022, 11, 2)"
      ]
     },
     "execution_count": 4,
     "metadata": {},
     "output_type": "execute_result"
    }
   ],
   "source": [
    "get_date(date2)"
   ]
  },
  {
   "cell_type": "code",
   "execution_count": 18,
   "id": "81c0b857",
   "metadata": {},
   "outputs": [],
   "source": [
    "import traceback\n",
    "def get_date(date):\n",
    "    try:\n",
    "        print(\"Try Block\")\n",
    "        datetime_object = datetime.strptime(date,\"%d-%m-%Y\").date()\n",
    "        return datetime_object\n",
    "    except:\n",
    "        print(\"Except Block\")\n",
    "        print(traceback.print_exc()) ## traceback.print_exc() does not return anything\n",
    "        datetime_object = datetime.strptime(date,\"%d/%m/%Y\").date()\n",
    "        return datetime_object"
   ]
  },
  {
   "cell_type": "code",
   "execution_count": 19,
   "id": "1177acb7",
   "metadata": {},
   "outputs": [
    {
     "name": "stdout",
     "output_type": "stream",
     "text": [
      "Try Block\n",
      "Except Block\n",
      "None\n"
     ]
    },
    {
     "name": "stderr",
     "output_type": "stream",
     "text": [
      "Traceback (most recent call last):\n",
      "  File \"C:\\Users\\kruna\\AppData\\Local\\Temp\\ipykernel_6828\\174894371.py\", line 5, in get_date\n",
      "    datetime_object = datetime.strptime(date,\"%d-%m-%Y\").date()\n",
      "  File \"C:\\Users\\kruna\\AppData\\Local\\Programs\\Python\\Python310\\lib\\_strptime.py\", line 568, in _strptime_datetime\n",
      "    tt, fraction, gmtoff_fraction = _strptime(data_string, format)\n",
      "  File \"C:\\Users\\kruna\\AppData\\Local\\Programs\\Python\\Python310\\lib\\_strptime.py\", line 349, in _strptime\n",
      "    raise ValueError(\"time data %r does not match format %r\" %\n",
      "ValueError: time data '02/11/2022' does not match format '%d-%m-%Y'\n"
     ]
    },
    {
     "data": {
      "text/plain": [
       "datetime.date(2022, 11, 2)"
      ]
     },
     "execution_count": 19,
     "metadata": {},
     "output_type": "execute_result"
    }
   ],
   "source": [
    "get_date(date2)"
   ]
  },
  {
   "cell_type": "code",
   "execution_count": 20,
   "id": "c9836f15",
   "metadata": {},
   "outputs": [],
   "source": [
    "import traceback\n",
    "def get_date(date):\n",
    "    try:\n",
    "        print(\"Try Block\")\n",
    "        datetime_object = datetime.strptime(date,\"%d-%m-%Y\").date()\n",
    "        return datetime_object\n",
    "    except:\n",
    "        print(\"Except Block\")\n",
    "        traceback.print_exc() \n",
    "        datetime_object = datetime.strptime(date,\"%d/%m/%Y\").date()\n",
    "        return datetime_object"
   ]
  },
  {
   "cell_type": "code",
   "execution_count": 21,
   "id": "d41a9d98",
   "metadata": {},
   "outputs": [
    {
     "name": "stdout",
     "output_type": "stream",
     "text": [
      "Try Block\n",
      "Except Block\n"
     ]
    },
    {
     "name": "stderr",
     "output_type": "stream",
     "text": [
      "Traceback (most recent call last):\n",
      "  File \"C:\\Users\\kruna\\AppData\\Local\\Temp\\ipykernel_6828\\2167480723.py\", line 5, in get_date\n",
      "    datetime_object = datetime.strptime(date,\"%d-%m-%Y\").date()\n",
      "  File \"C:\\Users\\kruna\\AppData\\Local\\Programs\\Python\\Python310\\lib\\_strptime.py\", line 568, in _strptime_datetime\n",
      "    tt, fraction, gmtoff_fraction = _strptime(data_string, format)\n",
      "  File \"C:\\Users\\kruna\\AppData\\Local\\Programs\\Python\\Python310\\lib\\_strptime.py\", line 349, in _strptime\n",
      "    raise ValueError(\"time data %r does not match format %r\" %\n",
      "ValueError: time data '02/11/2022' does not match format '%d-%m-%Y'\n"
     ]
    },
    {
     "data": {
      "text/plain": [
       "datetime.date(2022, 11, 2)"
      ]
     },
     "execution_count": 21,
     "metadata": {},
     "output_type": "execute_result"
    }
   ],
   "source": [
    "get_date(date2)"
   ]
  },
  {
   "cell_type": "markdown",
   "id": "02904079",
   "metadata": {},
   "source": [
    "## Two except blocks for single try block"
   ]
  },
  {
   "cell_type": "code",
   "execution_count": 22,
   "id": "a273ecc6",
   "metadata": {},
   "outputs": [
    {
     "name": "stdout",
     "output_type": "stream",
     "text": [
      "File Created using \"w\" mode\n",
      "File Not Found\n"
     ]
    }
   ],
   "source": [
    "try:\n",
    "    f = open(\"Data.txt\",\"w\")\n",
    "    f.write(\"Sample Data\")\n",
    "    f.close()\n",
    "    print(\"File Created using \\\"w\\\" mode\")\n",
    "    \n",
    "    f = open(\"Sample.txt\",\"r\")\n",
    "    text = f.read()\n",
    "    f.close()\n",
    "    print(text)\n",
    "\n",
    "except FileExistsError:\n",
    "    print(\"File Exist!\")\n",
    "\n",
    "except FileNotFoundError:\n",
    "    print(\"File Not Found\")"
   ]
  },
  {
   "cell_type": "code",
   "execution_count": 25,
   "id": "8f5d4eb5",
   "metadata": {},
   "outputs": [
    {
     "name": "stdout",
     "output_type": "stream",
     "text": [
      "File Exist!\n"
     ]
    }
   ],
   "source": [
    "try:\n",
    "    f = open(\"Data.txt\",\"x\")\n",
    "    f.write(\"Sample Data\")\n",
    "    f.close()\n",
    "    print(\"File Created using \\\"x\\\" mode\")\n",
    "    \n",
    "    f = open(\"Sample.txt\",\"r\")\n",
    "    text = f.read()\n",
    "    f.close()\n",
    "    print(text)\n",
    "\n",
    "except FileExistsError:\n",
    "    print(\"File Exist!\")\n",
    "\n",
    "except FileNotFoundError:\n",
    "    print(\"File Not Found\")\n",
    "    \n",
    "except ZeroDivisionError:\n",
    "    print(\"Dividing by zero not possible\")"
   ]
  },
  {
   "cell_type": "code",
   "execution_count": 26,
   "id": "fb2e750e",
   "metadata": {},
   "outputs": [
    {
     "name": "stdout",
     "output_type": "stream",
     "text": [
      "Dividing by zero not possible\n"
     ]
    }
   ],
   "source": [
    "try:\n",
    "    a = 1/0\n",
    "    f = open(\"Data.txt\",\"x\")\n",
    "    f.write(\"Sample Data\")\n",
    "    f.close()\n",
    "    print(\"File Created using \\\"x\\\" mode\")\n",
    "    \n",
    "    f = open(\"Sample.txt\",\"r\")\n",
    "    text = f.read()\n",
    "    f.close()\n",
    "    print(text)\n",
    "\n",
    "except FileExistsError:\n",
    "    print(\"File Exist!\")\n",
    "\n",
    "except FileNotFoundError:\n",
    "    print(\"File Not Found\")\n",
    "    \n",
    "except ZeroDivisionError:\n",
    "    print(\"Dividing by zero not possible\")"
   ]
  },
  {
   "cell_type": "code",
   "execution_count": 28,
   "id": "bfaabdc6",
   "metadata": {},
   "outputs": [
    {
     "name": "stdout",
     "output_type": "stream",
     "text": [
      "File Exist!\n"
     ]
    }
   ],
   "source": [
    "try:\n",
    "    a = 1/0\n",
    "    f = open(\"Data.txt\",\"x\")\n",
    "    f.write(\"Sample Data\")\n",
    "    f.close()\n",
    "    print(\"File Created using \\\"x\\\" mode\")\n",
    "    \n",
    "    f = open(\"Sample.txt\",\"r\")\n",
    "    text = f.read()\n",
    "    f.close()\n",
    "    print(text)\n",
    "\n",
    "except:\n",
    "    print(\"File Exist!\")\n",
    "\n",
    "except:\n",
    "    print(\"File Not Found\")\n",
    "    \n",
    "except:\n",
    "    print(\"Dividing by zero not possible\")"
   ]
  },
  {
   "cell_type": "code",
   "execution_count": 29,
   "id": "1db76526",
   "metadata": {},
   "outputs": [
    {
     "name": "stdout",
     "output_type": "stream",
     "text": [
      "Dividing by zero not possible\n",
      "Error:  division by zero\n"
     ]
    }
   ],
   "source": [
    "try:\n",
    "    a = 1/0\n",
    "    f = open(\"Data.txt\",\"x\")\n",
    "    f.write(\"Sample Data\")\n",
    "    f.close()\n",
    "    print(\"File Created using \\\"x\\\" mode\")\n",
    "    \n",
    "    f = open(\"Sample.txt\",\"r\")\n",
    "    text = f.read()\n",
    "    f.close()\n",
    "    print(text)\n",
    "\n",
    "except FileExistsError as error:\n",
    "    print(\"File Exist!\")\n",
    "    print(\"Error: \", error)\n",
    "\n",
    "except FileNotFoundError as e:\n",
    "    print(\"File Not Found\")\n",
    "    print(\"Error: \", e)\n",
    "    \n",
    "except ZeroDivisionError as e2:\n",
    "    print(\"Dividing by zero not possible\")\n",
    "    print(\"Error: \",e2)"
   ]
  },
  {
   "cell_type": "code",
   "execution_count": 30,
   "id": "8052c984",
   "metadata": {},
   "outputs": [
    {
     "ename": "ZeroDivisionError",
     "evalue": "division by zero",
     "output_type": "error",
     "traceback": [
      "\u001b[1;31m---------------------------------------------------------------------------\u001b[0m",
      "\u001b[1;31mZeroDivisionError\u001b[0m                         Traceback (most recent call last)",
      "Input \u001b[1;32mIn [30]\u001b[0m, in \u001b[0;36m<cell line: 1>\u001b[1;34m()\u001b[0m\n\u001b[1;32m----> 1\u001b[0m a \u001b[38;5;241m=\u001b[39m \u001b[38;5;241;43m1\u001b[39;49m\u001b[38;5;241;43m/\u001b[39;49m\u001b[38;5;241;43m0\u001b[39;49m\n",
      "\u001b[1;31mZeroDivisionError\u001b[0m: division by zero"
     ]
    }
   ],
   "source": [
    "a = 1/0"
   ]
  },
  {
   "cell_type": "code",
   "execution_count": 31,
   "id": "eca05bc5",
   "metadata": {},
   "outputs": [
    {
     "name": "stdout",
     "output_type": "stream",
     "text": [
      "File Exist!\n",
      "Error:  [Errno 17] File exists: 'Data.txt'\n"
     ]
    }
   ],
   "source": [
    "try:\n",
    "    f = open(\"Data.txt\",\"x\")\n",
    "    f.write(\"Sample Data\")\n",
    "    f.close()\n",
    "    print(\"File Created using \\\"x\\\" mode\")\n",
    "    \n",
    "    f = open(\"Sample.txt\",\"r\")\n",
    "    text = f.read()\n",
    "    f.close()\n",
    "    print(text)\n",
    "\n",
    "\n",
    "except FileNotFoundError as e:\n",
    "    print(\"File Not Found\")\n",
    "    print(\"Error: \", e)\n",
    "    \n",
    "except ZeroDivisionError as e2:\n",
    "    print(\"Dividing by zero not possible\")\n",
    "    print(\"Error: \",e2)\n",
    "    \n",
    "except FileExistsError as error:\n",
    "    print(\"File Exist!\")\n",
    "    print(\"Error: \", error)"
   ]
  },
  {
   "cell_type": "markdown",
   "id": "496abc02",
   "metadata": {},
   "source": [
    "### try-except-else"
   ]
  },
  {
   "cell_type": "code",
   "execution_count": 32,
   "id": "9d46507a",
   "metadata": {},
   "outputs": [
    {
     "name": "stdout",
     "output_type": "stream",
     "text": [
      "try block\n",
      "else block\n"
     ]
    }
   ],
   "source": [
    "try:\n",
    "    print('try block')  ## This code will try to run itself\n",
    "    \n",
    "except:\n",
    "    print(\"except block\") ## This will run when there is a error in try block\n",
    "    \n",
    "else:\n",
    "    print(\"else block\")  ## If try block runs successfully, this part of code will execute"
   ]
  },
  {
   "cell_type": "code",
   "execution_count": 33,
   "id": "a49d7310",
   "metadata": {},
   "outputs": [
    {
     "name": "stdout",
     "output_type": "stream",
     "text": [
      "Try Block\n",
      "Except Block\n"
     ]
    }
   ],
   "source": [
    "try:\n",
    "    print(\"Try Block\")\n",
    "    print(1/0)\n",
    "\n",
    "except:\n",
    "    print('Except Block')\n",
    "\n",
    "else:\n",
    "    print(\"Else Block\")"
   ]
  },
  {
   "cell_type": "code",
   "execution_count": 38,
   "id": "56d586e1",
   "metadata": {},
   "outputs": [
    {
     "name": "stdout",
     "output_type": "stream",
     "text": [
      "The file created successfully!\n"
     ]
    }
   ],
   "source": [
    "try:\n",
    "    with open(\"sample_file.txt\",\"x\") as file:\n",
    "        file.write(\"Likho kuchh bhi! Tax thodi dena hai!\")\n",
    "        \n",
    "except:\n",
    "    print(\"We are in except block!, failed to create file\")\n",
    "\n",
    "else:\n",
    "    print(\"The file created successfully!\")"
   ]
  },
  {
   "cell_type": "code",
   "execution_count": 39,
   "id": "48d36618",
   "metadata": {},
   "outputs": [
    {
     "name": "stdout",
     "output_type": "stream",
     "text": [
      "We are in except block!, failed to create file\n"
     ]
    }
   ],
   "source": [
    "try:\n",
    "    with open(\"sample_file.txt\",\"x\") as file:\n",
    "        file.write(\"Likho kuchh bhi! Tax thodi dena hai!\")\n",
    "        \n",
    "except:\n",
    "    print(\"We are in except block!, failed to create file\")\n",
    "\n",
    "else:\n",
    "    print(\"The file created successfully!\")"
   ]
  },
  {
   "cell_type": "code",
   "execution_count": 40,
   "id": "63ae7c52",
   "metadata": {},
   "outputs": [
    {
     "name": "stdout",
     "output_type": "stream",
     "text": [
      "Try block\n",
      "End of Try Block\n",
      "The file created successfully!\n"
     ]
    }
   ],
   "source": [
    "try:\n",
    "    print('Try block')\n",
    "    with open(\"sample_file.txt\",\"w\") as file:\n",
    "        file.write(\"Likho kuchh bhi! Tax thodi dena hai!\")\n",
    "    print(\"End of Try Block\")\n",
    "        \n",
    "except:\n",
    "    print(\"We are in except block!, failed to create file\")\n",
    "\n",
    "else:\n",
    "    print(\"The file created successfully!\")"
   ]
  },
  {
   "cell_type": "markdown",
   "id": "50cd1fbf",
   "metadata": {},
   "source": [
    "### try-except-finally"
   ]
  },
  {
   "cell_type": "code",
   "execution_count": 34,
   "id": "8b314c06",
   "metadata": {},
   "outputs": [
    {
     "name": "stdout",
     "output_type": "stream",
     "text": [
      "try block\n",
      "Final Block\n"
     ]
    }
   ],
   "source": [
    "try:\n",
    "    print(\"try block\")\n",
    "    \n",
    "except:\n",
    "    print(\"Except Block\")\n",
    "    \n",
    "finally:\n",
    "    print(\"Final Block\")  ## Irrespective of try block executing itself successfully, finally block will always execute"
   ]
  },
  {
   "cell_type": "code",
   "execution_count": 35,
   "id": "d81cc184",
   "metadata": {},
   "outputs": [
    {
     "name": "stdout",
     "output_type": "stream",
     "text": [
      "Try Block\n",
      "Except Block\n",
      "Final Block\n"
     ]
    }
   ],
   "source": [
    "try:\n",
    "    print(\"Try Block\")\n",
    "    print(1/0)\n",
    "    \n",
    "except:\n",
    "    print(\"Except Block\")\n",
    "    \n",
    "finally:\n",
    "    print(\"Final Block\")"
   ]
  },
  {
   "cell_type": "markdown",
   "id": "1f436a41",
   "metadata": {},
   "source": [
    "### try - except - else - finally"
   ]
  },
  {
   "cell_type": "code",
   "execution_count": 36,
   "id": "cd06eaee",
   "metadata": {},
   "outputs": [
    {
     "name": "stdout",
     "output_type": "stream",
     "text": [
      "Try Block\n",
      "Else Block\n",
      "Final Block\n"
     ]
    }
   ],
   "source": [
    "try:\n",
    "    print(\"Try Block\")\n",
    "except:\n",
    "    print(\"Except Block\")\n",
    "else:\n",
    "    print('Else Block')\n",
    "finally:\n",
    "    print(\"Final Block\")"
   ]
  },
  {
   "cell_type": "code",
   "execution_count": 37,
   "id": "f55e3350",
   "metadata": {},
   "outputs": [
    {
     "name": "stdout",
     "output_type": "stream",
     "text": [
      "Try Block\n",
      "Except Block\n",
      "Final Block\n"
     ]
    }
   ],
   "source": [
    "try:\n",
    "    print(\"Try Block\")\n",
    "    print(1/0)\n",
    "except:\n",
    "    print(\"Except Block\")\n",
    "else:\n",
    "    print('Else Block')\n",
    "finally:\n",
    "    print(\"Final Block\")"
   ]
  },
  {
   "cell_type": "markdown",
   "id": "94292d5c",
   "metadata": {},
   "source": [
    "### raise (error)"
   ]
  },
  {
   "cell_type": "markdown",
   "id": "2c26a900",
   "metadata": {},
   "source": [
    "raise is a keyword used to raise an error"
   ]
  },
  {
   "cell_type": "code",
   "execution_count": 41,
   "id": "d21ceb3a",
   "metadata": {},
   "outputs": [
    {
     "name": "stdout",
     "output_type": "stream",
     "text": [
      "We are in a try block!\n"
     ]
    }
   ],
   "source": [
    "try:\n",
    "    print(\"We are in a try block!\")\n",
    "\n",
    "except NameError as error:\n",
    "    print(\"We are in a except block\")\n",
    "    print(\"Error: \", error)"
   ]
  },
  {
   "cell_type": "code",
   "execution_count": 42,
   "id": "b7c7bb10",
   "metadata": {},
   "outputs": [
    {
     "name": "stdout",
     "output_type": "stream",
     "text": [
      "We are in a except block\n",
      "Error:  name 'a' is not defined\n"
     ]
    }
   ],
   "source": [
    "try:\n",
    "    print(\"We are in a try block!\", a)\n",
    "\n",
    "except NameError as error:\n",
    "    print(\"We are in a except block\")\n",
    "    print(\"Error: \", error)"
   ]
  },
  {
   "cell_type": "code",
   "execution_count": 43,
   "id": "4c732d98",
   "metadata": {},
   "outputs": [
    {
     "name": "stdout",
     "output_type": "stream",
     "text": [
      "The addition is : 500\n"
     ]
    }
   ],
   "source": [
    "x = 200\n",
    "y = 300\n",
    "\n",
    "if type(x) == int and type(y)== int:\n",
    "    add = x + y\n",
    "    print('The addition is :', add)\n",
    "\n",
    "else:\n",
    "    raise TypeError(\"Either of the number is not an integer\")"
   ]
  },
  {
   "cell_type": "code",
   "execution_count": 44,
   "id": "6fcbbe29",
   "metadata": {},
   "outputs": [
    {
     "ename": "TypeError",
     "evalue": "Either of the number is not an integer",
     "output_type": "error",
     "traceback": [
      "\u001b[1;31m---------------------------------------------------------------------------\u001b[0m",
      "\u001b[1;31mTypeError\u001b[0m                                 Traceback (most recent call last)",
      "Input \u001b[1;32mIn [44]\u001b[0m, in \u001b[0;36m<cell line: 4>\u001b[1;34m()\u001b[0m\n\u001b[0;32m      6\u001b[0m     \u001b[38;5;28mprint\u001b[39m(\u001b[38;5;124m'\u001b[39m\u001b[38;5;124mThe addition is :\u001b[39m\u001b[38;5;124m'\u001b[39m, add)\n\u001b[0;32m      8\u001b[0m \u001b[38;5;28;01melse\u001b[39;00m:\n\u001b[1;32m----> 9\u001b[0m     \u001b[38;5;28;01mraise\u001b[39;00m \u001b[38;5;167;01mTypeError\u001b[39;00m(\u001b[38;5;124m\"\u001b[39m\u001b[38;5;124mEither of the number is not an integer\u001b[39m\u001b[38;5;124m\"\u001b[39m)\n",
      "\u001b[1;31mTypeError\u001b[0m: Either of the number is not an integer"
     ]
    }
   ],
   "source": [
    "x = 200\n",
    "y = '300'\n",
    "\n",
    "if type(x) == int and type(y)== int:\n",
    "    add = x + y\n",
    "    print('The addition is :', add)\n",
    "\n",
    "else:\n",
    "    raise TypeError(\"Either of the number is not an integer\")"
   ]
  },
  {
   "cell_type": "code",
   "execution_count": 45,
   "id": "0edf487e",
   "metadata": {},
   "outputs": [
    {
     "ename": "NameError",
     "evalue": "name 'Error' is not defined",
     "output_type": "error",
     "traceback": [
      "\u001b[1;31m---------------------------------------------------------------------------\u001b[0m",
      "\u001b[1;31mNameError\u001b[0m                                 Traceback (most recent call last)",
      "Input \u001b[1;32mIn [45]\u001b[0m, in \u001b[0;36m<cell line: 4>\u001b[1;34m()\u001b[0m\n\u001b[0;32m      6\u001b[0m     \u001b[38;5;28mprint\u001b[39m(\u001b[38;5;124m'\u001b[39m\u001b[38;5;124mThe addition is :\u001b[39m\u001b[38;5;124m'\u001b[39m, add)\n\u001b[0;32m      8\u001b[0m \u001b[38;5;28;01melse\u001b[39;00m:\n\u001b[1;32m----> 9\u001b[0m     \u001b[38;5;28;01mraise\u001b[39;00m \u001b[43mError\u001b[49m(\u001b[38;5;124m\"\u001b[39m\u001b[38;5;124mEither of the number is not an integer\u001b[39m\u001b[38;5;124m\"\u001b[39m)\n",
      "\u001b[1;31mNameError\u001b[0m: name 'Error' is not defined"
     ]
    }
   ],
   "source": [
    "x = 200\n",
    "y = '300'\n",
    "\n",
    "if type(x) == int and type(y)== int:\n",
    "    add = x + y\n",
    "    print('The addition is :', add)\n",
    "\n",
    "else:\n",
    "    raise Error(\"Either of the number is not an integer\")"
   ]
  },
  {
   "cell_type": "code",
   "execution_count": null,
   "id": "c9d89486",
   "metadata": {},
   "outputs": [],
   "source": [
    "x = 200\n",
    "y = '300'\n",
    "\n",
    "if type(x) == int and type(y)== int:\n",
    "    add = x + y\n",
    "    print('The addition is :', add)\n",
    "\n",
    "else:\n",
    "    raise TypeError(\"Either of the number is not an integer\")"
   ]
  },
  {
   "cell_type": "code",
   "execution_count": 46,
   "id": "e1d335cf",
   "metadata": {},
   "outputs": [],
   "source": [
    "import logging "
   ]
  },
  {
   "cell_type": "code",
   "execution_count": 48,
   "id": "a6873fe5",
   "metadata": {},
   "outputs": [
    {
     "name": "stdout",
     "output_type": "stream",
     "text": [
      "Error:  division by zero\n"
     ]
    }
   ],
   "source": [
    "try:\n",
    "    a = 1/0\n",
    "\n",
    "except Exception as e:\n",
    "    print(\"Error: \", e)"
   ]
  },
  {
   "cell_type": "code",
   "execution_count": 51,
   "id": "1bfd075e",
   "metadata": {},
   "outputs": [
    {
     "ename": "NameError",
     "evalue": "name 'logger' is not defined",
     "output_type": "error",
     "traceback": [
      "\u001b[1;31m---------------------------------------------------------------------------\u001b[0m",
      "\u001b[1;31mZeroDivisionError\u001b[0m                         Traceback (most recent call last)",
      "Input \u001b[1;32mIn [51]\u001b[0m, in \u001b[0;36m<cell line: 1>\u001b[1;34m()\u001b[0m\n\u001b[0;32m      1\u001b[0m \u001b[38;5;28;01mtry\u001b[39;00m:\n\u001b[1;32m----> 2\u001b[0m     a \u001b[38;5;241m=\u001b[39m \u001b[38;5;241;43m1\u001b[39;49m\u001b[38;5;241;43m/\u001b[39;49m\u001b[38;5;241;43m0\u001b[39;49m\n\u001b[0;32m      4\u001b[0m \u001b[38;5;28;01mexcept\u001b[39;00m \u001b[38;5;167;01mException\u001b[39;00m \u001b[38;5;28;01mas\u001b[39;00m e:\n",
      "\u001b[1;31mZeroDivisionError\u001b[0m: division by zero",
      "\nDuring handling of the above exception, another exception occurred:\n",
      "\u001b[1;31mNameError\u001b[0m                                 Traceback (most recent call last)",
      "Input \u001b[1;32mIn [51]\u001b[0m, in \u001b[0;36m<cell line: 1>\u001b[1;34m()\u001b[0m\n\u001b[0;32m      2\u001b[0m     a \u001b[38;5;241m=\u001b[39m \u001b[38;5;241m1\u001b[39m\u001b[38;5;241m/\u001b[39m\u001b[38;5;241m0\u001b[39m\n\u001b[0;32m      4\u001b[0m \u001b[38;5;28;01mexcept\u001b[39;00m \u001b[38;5;167;01mException\u001b[39;00m \u001b[38;5;28;01mas\u001b[39;00m e:\n\u001b[1;32m----> 5\u001b[0m     \u001b[43mlogger\u001b[49m\u001b[38;5;241m.\u001b[39merror(\u001b[38;5;124m\"\u001b[39m\u001b[38;5;124mError: \u001b[39m\u001b[38;5;124m\"\u001b[39m, e)\n",
      "\u001b[1;31mNameError\u001b[0m: name 'logger' is not defined"
     ]
    }
   ],
   "source": [
    "try:\n",
    "    a = 1/0\n",
    "    # 100 lines of code\n",
    "\n",
    "except Exception as e:\n",
    "    logger.error(\"Error: \", e)"
   ]
  },
  {
   "cell_type": "code",
   "execution_count": null,
   "id": "5e505224",
   "metadata": {},
   "outputs": [],
   "source": []
  }
 ],
 "metadata": {
  "kernelspec": {
   "display_name": "Python 3 (ipykernel)",
   "language": "python",
   "name": "python3"
  },
  "language_info": {
   "codemirror_mode": {
    "name": "ipython",
    "version": 3
   },
   "file_extension": ".py",
   "mimetype": "text/x-python",
   "name": "python",
   "nbconvert_exporter": "python",
   "pygments_lexer": "ipython3",
   "version": "3.10.5"
  }
 },
 "nbformat": 4,
 "nbformat_minor": 5
}
