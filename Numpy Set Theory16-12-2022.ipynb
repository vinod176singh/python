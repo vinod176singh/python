{
 "cells": [
  {
   "cell_type": "code",
   "execution_count": null,
   "id": "a2329d48",
   "metadata": {},
   "outputs": [],
   "source": [
    "There are 2 dataframe, there we have student id in both df\n",
    "We need to know how many comman student ids are there"
   ]
  },
  {
   "cell_type": "code",
   "execution_count": 1,
   "id": "fa38204c",
   "metadata": {},
   "outputs": [],
   "source": [
    "import numpy as np"
   ]
  },
  {
   "cell_type": "code",
   "execution_count": null,
   "id": "dc069068",
   "metadata": {},
   "outputs": [],
   "source": [
    "# np.intersect1d(array1, array2)"
   ]
  },
  {
   "cell_type": "code",
   "execution_count": 8,
   "id": "cbda506e",
   "metadata": {},
   "outputs": [],
   "source": [
    "array1 = np.random.randint(10,99, size = 100)"
   ]
  },
  {
   "cell_type": "code",
   "execution_count": 9,
   "id": "5d2539b4",
   "metadata": {},
   "outputs": [
    {
     "data": {
      "text/plain": [
       "array([57, 87, 27, 92, 66, 60, 21, 15, 66, 30, 34, 82, 16, 62, 14, 58, 28,\n",
       "       62, 45, 84, 20, 24, 93, 90, 76, 87, 10, 55, 47, 81, 93, 28, 84, 41,\n",
       "       72, 18, 45, 40, 62, 59, 46, 41, 69, 93, 79, 88, 67, 63, 95, 92, 41,\n",
       "       89, 77, 82, 34, 87, 23, 35, 85, 33, 45, 72, 22, 13, 25, 16, 78, 95,\n",
       "       64, 60, 20, 42, 29, 25, 79, 10, 10, 47, 42, 46, 64, 77, 42, 48, 46,\n",
       "       78, 70, 60, 14, 74, 26, 28, 87, 72, 37, 59, 33, 30, 63, 87])"
      ]
     },
     "execution_count": 9,
     "metadata": {},
     "output_type": "execute_result"
    }
   ],
   "source": [
    "array1"
   ]
  },
  {
   "cell_type": "code",
   "execution_count": 10,
   "id": "ffe1f1c9",
   "metadata": {},
   "outputs": [],
   "source": [
    "array2 = np.random.randint(10,99, size = 100)"
   ]
  },
  {
   "cell_type": "code",
   "execution_count": 11,
   "id": "93a3031c",
   "metadata": {},
   "outputs": [
    {
     "data": {
      "text/plain": [
       "array([64, 67, 95, 56, 89, 84, 18, 63, 10, 32, 28, 22, 47, 75, 33, 53, 34,\n",
       "       67, 53, 83, 15, 96, 26, 41, 94, 60, 40, 41, 71, 35, 82, 79, 71, 72,\n",
       "       17, 45, 56, 87, 63, 46, 35, 28, 69, 87, 53, 58, 21, 85, 77, 27, 76,\n",
       "       37, 43, 84, 45, 87, 86, 56, 51, 38, 17, 18, 92, 47, 46, 84, 61, 71,\n",
       "       62, 59, 21, 71, 50, 37, 38, 63, 27, 50, 26, 84, 45, 24, 51, 64, 68,\n",
       "       91, 35, 87, 25, 42, 12, 79, 15, 83, 12, 62, 20, 61, 66, 83])"
      ]
     },
     "execution_count": 11,
     "metadata": {},
     "output_type": "execute_result"
    }
   ],
   "source": [
    "array2"
   ]
  },
  {
   "cell_type": "code",
   "execution_count": 12,
   "id": "4234eb67",
   "metadata": {},
   "outputs": [
    {
     "data": {
      "text/plain": [
       "array([10, 15, 18, 20, 21, 22, 24, 25, 26, 27, 28, 33, 34, 35, 37, 40, 41,\n",
       "       42, 45, 46, 47, 58, 59, 60, 62, 63, 64, 66, 67, 69, 72, 76, 77, 79,\n",
       "       82, 84, 85, 87, 89, 92, 95])"
      ]
     },
     "execution_count": 12,
     "metadata": {},
     "output_type": "execute_result"
    }
   ],
   "source": [
    " np.intersect1d(array1, array2)"
   ]
  },
  {
   "cell_type": "code",
   "execution_count": 13,
   "id": "4eab5909",
   "metadata": {},
   "outputs": [
    {
     "data": {
      "text/plain": [
       "array([1, 2])"
      ]
     },
     "execution_count": 13,
     "metadata": {},
     "output_type": "execute_result"
    }
   ],
   "source": [
    "### np.setdiff1d(array1, array2)\n",
    "\n",
    "array1 = np.array([1,2,3,4,1])\n",
    "array2 = np.array([3,4,5,6])\n",
    "\n",
    "np.setdiff1d(array1, array2)"
   ]
  },
  {
   "cell_type": "code",
   "execution_count": 14,
   "id": "9ead1228",
   "metadata": {},
   "outputs": [
    {
     "data": {
      "text/plain": [
       "array([5, 6])"
      ]
     },
     "execution_count": 14,
     "metadata": {},
     "output_type": "execute_result"
    }
   ],
   "source": [
    "np.setdiff1d(array2, array1)"
   ]
  },
  {
   "cell_type": "code",
   "execution_count": 15,
   "id": "ef45e45b",
   "metadata": {},
   "outputs": [
    {
     "data": {
      "text/plain": [
       "array([1, 4, 5, 7])"
      ]
     },
     "execution_count": 15,
     "metadata": {},
     "output_type": "execute_result"
    }
   ],
   "source": [
    "### np.setxor1d(array1, array2)\n",
    "\n",
    "array1 = np.array([1,2,3,2,4])\n",
    "array2 = np.array([2,3,5,7,5])\n",
    "\n",
    "np.setxor1d(array1, array2)"
   ]
  },
  {
   "cell_type": "code",
   "execution_count": null,
   "id": "6caa12e3",
   "metadata": {},
   "outputs": [],
   "source": [
    "# np.setxor1d(df1[\"Col1\"],df2[\"Col2\"])"
   ]
  }
 ],
 "metadata": {
  "kernelspec": {
   "display_name": "Python 3 (ipykernel)",
   "language": "python",
   "name": "python3"
  },
  "language_info": {
   "codemirror_mode": {
    "name": "ipython",
    "version": 3
   },
   "file_extension": ".py",
   "mimetype": "text/x-python",
   "name": "python",
   "nbconvert_exporter": "python",
   "pygments_lexer": "ipython3",
   "version": "3.9.12"
  }
 },
 "nbformat": 4,
 "nbformat_minor": 5
}
