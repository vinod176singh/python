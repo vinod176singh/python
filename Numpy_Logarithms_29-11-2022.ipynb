{
 "cells": [
  {
   "cell_type": "markdown",
   "id": "fd2aee80",
   "metadata": {},
   "source": [
    "## Numpy Logarithms"
   ]
  },
  {
   "cell_type": "code",
   "execution_count": 1,
   "id": "800c862e",
   "metadata": {},
   "outputs": [],
   "source": [
    "import numpy as np"
   ]
  },
  {
   "cell_type": "code",
   "execution_count": null,
   "id": "c5348601",
   "metadata": {},
   "outputs": [],
   "source": [
    "1. np.log()\n",
    "2. np.log2()\n",
    "3. np.log10()"
   ]
  },
  {
   "cell_type": "markdown",
   "id": "332c1234",
   "metadata": {},
   "source": [
    "### np.log()"
   ]
  },
  {
   "cell_type": "code",
   "execution_count": null,
   "id": "d65198d2",
   "metadata": {},
   "outputs": [],
   "source": [
    "Natural Log (to the base e)"
   ]
  },
  {
   "cell_type": "code",
   "execution_count": 2,
   "id": "8b6cde94",
   "metadata": {},
   "outputs": [
    {
     "name": "stdout",
     "output_type": "stream",
     "text": [
      "2.995732273553991\n"
     ]
    }
   ],
   "source": [
    "array1 = np.array(20)\n",
    "array1_log_e = np.log(array1)\n",
    "print(array1_log_e)"
   ]
  },
  {
   "cell_type": "code",
   "execution_count": 3,
   "id": "0b2315f1",
   "metadata": {},
   "outputs": [
    {
     "name": "stdout",
     "output_type": "stream",
     "text": [
      "Original Array: \n",
      " [31 71 77 12 98 25 72 11 77 23]\n",
      "\n",
      "Array after taking Natural Log: \n",
      " [3.4339872  4.26267988 4.34380542 2.48490665 4.58496748 3.21887582\n",
      " 4.27666612 2.39789527 4.34380542 3.13549422]\n"
     ]
    }
   ],
   "source": [
    "array1 = np.random.randint(10,99,10)\n",
    "print(\"Original Array: \\n\", array1, end =\"\\n\\n\")\n",
    "array1_log_e = np.log(array1)\n",
    "print(\"Array after taking Natural Log: \\n\",array1_log_e)"
   ]
  },
  {
   "cell_type": "markdown",
   "id": "85a4842e",
   "metadata": {},
   "source": [
    "### np.log2()"
   ]
  },
  {
   "cell_type": "code",
   "execution_count": 4,
   "id": "89aeaa7e",
   "metadata": {},
   "outputs": [
    {
     "name": "stdout",
     "output_type": "stream",
     "text": [
      "Original Array: \n",
      " [46 22 64 95 44 50 61 46 11 75]\n",
      "\n",
      "Array after taking Natural Log: \n",
      " [5.52356196 4.45943162 6.         6.56985561 5.45943162 5.64385619\n",
      " 5.93073734 5.52356196 3.45943162 6.22881869]\n"
     ]
    }
   ],
   "source": [
    "array1 = np.random.randint(10,99,10)\n",
    "print(\"Original Array: \\n\", array1, end =\"\\n\\n\")\n",
    "array1_log_e = np.log2(array1)\n",
    "print(\"Array after taking Natural Log: \\n\",array1_log_e)"
   ]
  },
  {
   "cell_type": "markdown",
   "id": "b34b98d0",
   "metadata": {},
   "source": [
    "### np.log10()"
   ]
  },
  {
   "cell_type": "code",
   "execution_count": 5,
   "id": "aafdcaa0",
   "metadata": {},
   "outputs": [
    {
     "name": "stdout",
     "output_type": "stream",
     "text": [
      "Original Array: \n",
      " [85 89 61 50 79 12 25 47 20 89]\n",
      "\n",
      "Array after taking Natural Log: \n",
      " [1.92941893 1.94939001 1.78532984 1.69897    1.89762709 1.07918125\n",
      " 1.39794001 1.67209786 1.30103    1.94939001]\n"
     ]
    }
   ],
   "source": [
    "array1 = np.random.randint(10,99,10)\n",
    "print(\"Original Array: \\n\", array1, end =\"\\n\\n\")\n",
    "array1_log_e = np.log10(array1)\n",
    "print(\"Array after taking Natural Log: \\n\",array1_log_e)"
   ]
  },
  {
   "cell_type": "code",
   "execution_count": null,
   "id": "18997c94",
   "metadata": {},
   "outputs": [],
   "source": []
  }
 ],
 "metadata": {
  "kernelspec": {
   "display_name": "Python 3 (ipykernel)",
   "language": "python",
   "name": "python3"
  },
  "language_info": {
   "codemirror_mode": {
    "name": "ipython",
    "version": 3
   },
   "file_extension": ".py",
   "mimetype": "text/x-python",
   "name": "python",
   "nbconvert_exporter": "python",
   "pygments_lexer": "ipython3",
   "version": "3.10.5"
  }
 },
 "nbformat": 4,
 "nbformat_minor": 5
}
