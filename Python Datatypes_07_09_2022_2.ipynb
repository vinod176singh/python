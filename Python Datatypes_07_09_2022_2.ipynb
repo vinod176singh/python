{
 "cells": [
  {
   "cell_type": "code",
   "execution_count": null,
   "id": "81d352d2",
   "metadata": {},
   "outputs": [],
   "source": [
    "What are identifiers?\n",
    ">> Python identifiers are the names used to identifiy the variable, class, function , module or any other object"
   ]
  },
  {
   "cell_type": "code",
   "execution_count": null,
   "id": "5bde386c",
   "metadata": {},
   "outputs": [],
   "source": [
    "abc = 10000\n",
    "z = \"Name\"\n",
    "l = 10.25\n",
    "pi = 3.14\n",
    "\n",
    "## abc, z, l, pi are the identifiers"
   ]
  },
  {
   "cell_type": "markdown",
   "id": "107b9ee5",
   "metadata": {},
   "source": [
    "# Python Datatypes"
   ]
  },
  {
   "cell_type": "code",
   "execution_count": null,
   "id": "14d60673",
   "metadata": {},
   "outputs": [],
   "source": [
    "There are three types of Datatypes in python\n",
    ">> Basic datatypes : integer (int), float (float), complex, bool, string (str), bytes\n",
    ">> Container type : list, tuple, set, dict\n",
    ">> User Defined Datatypes : Class"
   ]
  },
  {
   "cell_type": "markdown",
   "id": "e3fd68e2",
   "metadata": {},
   "source": [
    "### Integer (int)"
   ]
  },
  {
   "cell_type": "code",
   "execution_count": 1,
   "id": "82d3e7cc",
   "metadata": {},
   "outputs": [],
   "source": [
    "number = 11"
   ]
  },
  {
   "cell_type": "code",
   "execution_count": 2,
   "id": "33d8a627",
   "metadata": {},
   "outputs": [
    {
     "data": {
      "text/plain": [
       "int"
      ]
     },
     "execution_count": 2,
     "metadata": {},
     "output_type": "execute_result"
    }
   ],
   "source": [
    "type(number)"
   ]
  },
  {
   "cell_type": "code",
   "execution_count": 3,
   "id": "b29c540e",
   "metadata": {},
   "outputs": [],
   "source": [
    "num = 1212312731238127367163762361263912739172"
   ]
  },
  {
   "cell_type": "code",
   "execution_count": 4,
   "id": "c0212b6f",
   "metadata": {},
   "outputs": [
    {
     "data": {
      "text/plain": [
       "int"
      ]
     },
     "execution_count": 4,
     "metadata": {},
     "output_type": "execute_result"
    }
   ],
   "source": [
    "type(num)"
   ]
  },
  {
   "cell_type": "markdown",
   "id": "a60915d6",
   "metadata": {},
   "source": [
    "### Float"
   ]
  },
  {
   "cell_type": "code",
   "execution_count": 5,
   "id": "23eb0073",
   "metadata": {},
   "outputs": [],
   "source": [
    "num = 11.5"
   ]
  },
  {
   "cell_type": "code",
   "execution_count": 6,
   "id": "19400788",
   "metadata": {},
   "outputs": [
    {
     "data": {
      "text/plain": [
       "float"
      ]
     },
     "execution_count": 6,
     "metadata": {},
     "output_type": "execute_result"
    }
   ],
   "source": [
    "type(num)"
   ]
  },
  {
   "cell_type": "code",
   "execution_count": 7,
   "id": "d1e0bce7",
   "metadata": {},
   "outputs": [],
   "source": [
    "num = 12.12312433453546574544323435464"
   ]
  },
  {
   "cell_type": "code",
   "execution_count": 8,
   "id": "f7c1f1fa",
   "metadata": {},
   "outputs": [
    {
     "data": {
      "text/plain": [
       "float"
      ]
     },
     "execution_count": 8,
     "metadata": {},
     "output_type": "execute_result"
    }
   ],
   "source": [
    "type(num)"
   ]
  },
  {
   "cell_type": "code",
   "execution_count": 9,
   "id": "693efca9",
   "metadata": {},
   "outputs": [
    {
     "name": "stdout",
     "output_type": "stream",
     "text": [
      "3.14\n"
     ]
    }
   ],
   "source": [
    "pi = 3.14\n",
    "print(pi)"
   ]
  },
  {
   "cell_type": "code",
   "execution_count": 10,
   "id": "bbc7ae81",
   "metadata": {},
   "outputs": [
    {
     "name": "stdout",
     "output_type": "stream",
     "text": [
      "<class 'float'>\n"
     ]
    }
   ],
   "source": [
    "print(type(pi))"
   ]
  },
  {
   "cell_type": "markdown",
   "id": "fbadc681",
   "metadata": {},
   "source": [
    "### Complex"
   ]
  },
  {
   "cell_type": "code",
   "execution_count": 13,
   "id": "7d0f6ec7",
   "metadata": {},
   "outputs": [
    {
     "data": {
      "text/plain": [
       "complex"
      ]
     },
     "execution_count": 13,
     "metadata": {},
     "output_type": "execute_result"
    }
   ],
   "source": [
    "num = 3 + 2j\n",
    "type(num)"
   ]
  },
  {
   "cell_type": "code",
   "execution_count": 12,
   "id": "ec45c43f",
   "metadata": {},
   "outputs": [
    {
     "data": {
      "text/plain": [
       "complex"
      ]
     },
     "execution_count": 12,
     "metadata": {},
     "output_type": "execute_result"
    }
   ],
   "source": [
    "comp"
   ]
  },
  {
   "cell_type": "markdown",
   "id": "8adaf218",
   "metadata": {},
   "source": [
    "## Bool "
   ]
  },
  {
   "cell_type": "code",
   "execution_count": 14,
   "id": "5e8e305c",
   "metadata": {},
   "outputs": [
    {
     "name": "stdout",
     "output_type": "stream",
     "text": [
      "<class 'bool'>\n"
     ]
    }
   ],
   "source": [
    "bool_value_1 = True\n",
    "bool_value_2 = False\n",
    "\n",
    "print(type(bool_value_1))"
   ]
  },
  {
   "cell_type": "code",
   "execution_count": 15,
   "id": "2cf155a4",
   "metadata": {},
   "outputs": [
    {
     "data": {
      "text/plain": [
       "bool"
      ]
     },
     "execution_count": 15,
     "metadata": {},
     "output_type": "execute_result"
    }
   ],
   "source": [
    "type(bool_value_1)"
   ]
  },
  {
   "cell_type": "markdown",
   "id": "e9f96020",
   "metadata": {},
   "source": [
    "### String"
   ]
  },
  {
   "cell_type": "code",
   "execution_count": 16,
   "id": "f073b33f",
   "metadata": {},
   "outputs": [],
   "source": [
    "str1 = \"Velocity Python and Data Science\""
   ]
  },
  {
   "cell_type": "code",
   "execution_count": 17,
   "id": "792c4e96",
   "metadata": {},
   "outputs": [
    {
     "name": "stdout",
     "output_type": "stream",
     "text": [
      "<class 'str'>\n"
     ]
    }
   ],
   "source": [
    "print(type(str1))"
   ]
  },
  {
   "cell_type": "code",
   "execution_count": 18,
   "id": "7c49bc50",
   "metadata": {},
   "outputs": [
    {
     "data": {
      "text/plain": [
       "str"
      ]
     },
     "execution_count": 18,
     "metadata": {},
     "output_type": "execute_result"
    }
   ],
   "source": [
    "type(str1)"
   ]
  },
  {
   "cell_type": "code",
   "execution_count": 19,
   "id": "0ffcaf15",
   "metadata": {},
   "outputs": [
    {
     "name": "stdout",
     "output_type": "stream",
     "text": [
      "Velocity Python and Data Science\n"
     ]
    }
   ],
   "source": [
    "print(str1)"
   ]
  },
  {
   "cell_type": "markdown",
   "id": "40d9ccde",
   "metadata": {},
   "source": [
    "### Bytes"
   ]
  },
  {
   "cell_type": "code",
   "execution_count": null,
   "id": "bb5001d6",
   "metadata": {},
   "outputs": [],
   "source": [
    "hex_num = \"0x/0X\"\n",
    "bin_num = \"0b/0B\""
   ]
  },
  {
   "cell_type": "markdown",
   "id": "54c860dd",
   "metadata": {},
   "source": [
    "# Container Type Datatypes"
   ]
  },
  {
   "cell_type": "markdown",
   "id": "0843f8e3",
   "metadata": {},
   "source": [
    "### List"
   ]
  },
  {
   "cell_type": "code",
   "execution_count": 20,
   "id": "1f41915f",
   "metadata": {},
   "outputs": [
    {
     "data": {
      "text/plain": [
       "list"
      ]
     },
     "execution_count": 20,
     "metadata": {},
     "output_type": "execute_result"
    }
   ],
   "source": [
    "list1 = [1,2,3,5,6,\n",
    "         \"String1\", \"string2\"]\n",
    "type(list1)"
   ]
  },
  {
   "cell_type": "markdown",
   "id": "560cbd15",
   "metadata": {},
   "source": [
    "### Tuple"
   ]
  },
  {
   "cell_type": "code",
   "execution_count": 21,
   "id": "6f961f78",
   "metadata": {},
   "outputs": [
    {
     "data": {
      "text/plain": [
       "tuple"
      ]
     },
     "execution_count": 21,
     "metadata": {},
     "output_type": "execute_result"
    }
   ],
   "source": [
    "list1 = (1,2,3,5,6,\n",
    "         \"String1\", \"string2\")\n",
    "type(list1)"
   ]
  },
  {
   "cell_type": "markdown",
   "id": "7416ad5c",
   "metadata": {},
   "source": [
    "### Dictionary"
   ]
  },
  {
   "cell_type": "code",
   "execution_count": null,
   "id": "97f539f5",
   "metadata": {},
   "outputs": [],
   "source": [
    "Dictionary has key and value pairs\n",
    "dict1 = {\"Name\":\"Virat\",\"Surname\":\"Kohli\",\"Sport\":\"Cricket\",\"Age\":34}"
   ]
  },
  {
   "cell_type": "code",
   "execution_count": 22,
   "id": "c6b2f561",
   "metadata": {},
   "outputs": [],
   "source": [
    "dict2 = {\"Galaxy\":\"Milkyway\",\"System\":\"Solar\",\"Planet\":\"Earth\",\n",
    "         \"Continent\":\"Asia\",\"Contry\":\"India\",\"State\":\"Maharashtra\",\n",
    "        \"District\":\"Pune\",\"TAQ\":\"Pune\",\"Town\":\"Pune\",\"Area\":\"Katraj\"}\n",
    "## Jason Format"
   ]
  },
  {
   "cell_type": "code",
   "execution_count": 30,
   "id": "a4798075",
   "metadata": {},
   "outputs": [
    {
     "name": "stdout",
     "output_type": "stream",
     "text": [
      "{'Galaxy': 'Milkyway', 'System': 'Solar', 'Planet': 'Earth', 'Continent': 'Asia', 'Contry': 'India', 'State': 'Maharashtra', 'District': 'Pune', 'TAQ': 'Pune', 'Town': 'Pune', 'Area': 'Katraj'}\n"
     ]
    }
   ],
   "source": [
    "print(dict2)"
   ]
  },
  {
   "cell_type": "code",
   "execution_count": 26,
   "id": "3f70e6c1",
   "metadata": {},
   "outputs": [
    {
     "data": {
      "text/plain": [
       "dict"
      ]
     },
     "execution_count": 26,
     "metadata": {},
     "output_type": "execute_result"
    }
   ],
   "source": [
    "type(dict2)"
   ]
  },
  {
   "cell_type": "code",
   "execution_count": 23,
   "id": "b3289cf1",
   "metadata": {},
   "outputs": [
    {
     "data": {
      "text/plain": [
       "'Milkyway'"
      ]
     },
     "execution_count": 23,
     "metadata": {},
     "output_type": "execute_result"
    }
   ],
   "source": [
    "dict2[\"Galaxy\"]"
   ]
  },
  {
   "cell_type": "code",
   "execution_count": 24,
   "id": "aa2d4b40",
   "metadata": {},
   "outputs": [
    {
     "data": {
      "text/plain": [
       "'India'"
      ]
     },
     "execution_count": 24,
     "metadata": {},
     "output_type": "execute_result"
    }
   ],
   "source": [
    "dict2[\"Contry\"]"
   ]
  },
  {
   "cell_type": "markdown",
   "id": "927956db",
   "metadata": {},
   "source": [
    "### Set"
   ]
  },
  {
   "cell_type": "code",
   "execution_count": 27,
   "id": "52b26888",
   "metadata": {},
   "outputs": [],
   "source": [
    "set1 = {1,2,3,4,5,6,\"String1\",\"Name\",\"Surname\"}"
   ]
  },
  {
   "cell_type": "code",
   "execution_count": 28,
   "id": "dfd91d3e",
   "metadata": {},
   "outputs": [
    {
     "data": {
      "text/plain": [
       "set"
      ]
     },
     "execution_count": 28,
     "metadata": {},
     "output_type": "execute_result"
    }
   ],
   "source": [
    "type(set1)"
   ]
  },
  {
   "cell_type": "code",
   "execution_count": 29,
   "id": "86a8c683",
   "metadata": {},
   "outputs": [
    {
     "name": "stdout",
     "output_type": "stream",
     "text": [
      "{1, 2, 3, 4, 5, 6, 'Name', 'String1', 'Surname'}\n"
     ]
    }
   ],
   "source": [
    "print(set1)"
   ]
  },
  {
   "cell_type": "code",
   "execution_count": null,
   "id": "e5c81209",
   "metadata": {},
   "outputs": [],
   "source": []
  }
 ],
 "metadata": {
  "kernelspec": {
   "display_name": "Python 3 (ipykernel)",
   "language": "python",
   "name": "python3"
  },
  "language_info": {
   "codemirror_mode": {
    "name": "ipython",
    "version": 3
   },
   "file_extension": ".py",
   "mimetype": "text/x-python",
   "name": "python",
   "nbconvert_exporter": "python",
   "pygments_lexer": "ipython3",
   "version": "3.10.5"
  }
 },
 "nbformat": 4,
 "nbformat_minor": 5
}
