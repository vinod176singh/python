{
 "cells": [
  {
   "cell_type": "code",
   "execution_count": 3,
   "id": "77db8ed1",
   "metadata": {},
   "outputs": [
    {
     "name": "stdout",
     "output_type": "stream",
     "text": [
      "* * * * * \n",
      "* * * * * \n",
      "* * * * * \n",
      "* * * * * \n",
      "* * * * * \n"
     ]
    }
   ],
   "source": [
    "n = 5\n",
    "\n",
    "for i in range(n):  ## 0, n\n",
    "    for j in range(n):  # 0, n\n",
    "        print(\"*\", end = \" \")\n",
    "    print()"
   ]
  },
  {
   "cell_type": "code",
   "execution_count": 25,
   "id": "776ff634",
   "metadata": {},
   "outputs": [
    {
     "name": "stdout",
     "output_type": "stream",
     "text": [
      "\n",
      "* \n",
      "* * \n",
      "* * * \n",
      "* * * * \n",
      "* * * * * \n"
     ]
    }
   ],
   "source": [
    "n = 6\n",
    "\n",
    "for i in range(0,n):\n",
    "    for j in range(0,i):\n",
    "        print(\"*\", end = \" \")\n",
    "    print()"
   ]
  },
  {
   "cell_type": "code",
   "execution_count": 29,
   "id": "ea545f7f",
   "metadata": {},
   "outputs": [
    {
     "name": "stdout",
     "output_type": "stream",
     "text": [
      "0 1 2 3 4 5 \n",
      "0 1 2 3 4 \n",
      "0 1 2 3 \n",
      "0 1 2 \n",
      "0 1 \n",
      "0 \n"
     ]
    }
   ],
   "source": [
    "n = 6\n",
    "j = 6\n",
    "for i in range(1,n+1):\n",
    "    for j in range(0,j):\n",
    "        print(j, end = \" \")\n",
    "    print()"
   ]
  },
  {
   "cell_type": "code",
   "execution_count": null,
   "id": "763f7e64",
   "metadata": {},
   "outputs": [],
   "source": [
    "Iteration     j        range()    last value\n",
    "1             6          0,6         5\n",
    "2             5          0,5         4"
   ]
  },
  {
   "cell_type": "code",
   "execution_count": 5,
   "id": "eac76d73",
   "metadata": {},
   "outputs": [
    {
     "name": "stdout",
     "output_type": "stream",
     "text": [
      "* * * * * * \n",
      "* * * * * \n",
      "* * * * \n",
      "* * * \n",
      "* * \n",
      "* \n"
     ]
    }
   ],
   "source": [
    "n = 6\n",
    "\n",
    "for i in range(n,0,-1):\n",
    "    for j in range(1,i+1):\n",
    "        print(\"*\",end = \" \")\n",
    "    print()"
   ]
  },
  {
   "cell_type": "code",
   "execution_count": null,
   "id": "d741038f",
   "metadata": {},
   "outputs": [],
   "source": [
    "* \n",
    "* * \n",
    "* * * \n",
    "* * * * \n",
    "* * * * * \n",
    "* * * * * *\n",
    "* * * * * \n",
    "* * * * \n",
    "* * * \n",
    "* * \n",
    "*"
   ]
  },
  {
   "cell_type": "code",
   "execution_count": 6,
   "id": "d2b589da",
   "metadata": {},
   "outputs": [
    {
     "name": "stdout",
     "output_type": "stream",
     "text": [
      "* \n",
      "* * \n",
      "* * * \n",
      "* * * * \n",
      "* * * * * \n",
      "* * * * * * \n",
      "* * * * * * \n",
      "* * * * * \n",
      "* * * * \n",
      "* * * \n",
      "* * \n",
      "* \n"
     ]
    }
   ],
   "source": [
    "n = 6\n",
    "\n",
    "for i in range(1,n+1):\n",
    "    for j in range(1,i+1):\n",
    "        print(\"*\", end = \" \")\n",
    "    print()\n",
    "\n",
    "for i in range(n,0,-1):\n",
    "    for j in range(1,i+1):\n",
    "        print(\"*\",end = \" \")\n",
    "    print()"
   ]
  },
  {
   "cell_type": "code",
   "execution_count": 7,
   "id": "9de2e091",
   "metadata": {},
   "outputs": [
    {
     "name": "stdout",
     "output_type": "stream",
     "text": [
      "* \n",
      "* * \n",
      "* * * \n",
      "* * * * \n",
      "* * * * * \n",
      "* * * * * * \n",
      "* * * * * \n",
      "* * * * \n",
      "* * * \n",
      "* * \n",
      "* \n"
     ]
    }
   ],
   "source": [
    "n = 6\n",
    "\n",
    "for i in range(1,n+1):\n",
    "    for j in range(1,i+1):\n",
    "        print(\"*\", end = \" \")\n",
    "    print()\n",
    "\n",
    "for i in range(n-1,0,-1):\n",
    "    for j in range(1,i+1):\n",
    "        print(\"*\",end = \" \")\n",
    "    print()"
   ]
  },
  {
   "cell_type": "code",
   "execution_count": null,
   "id": "f805e749",
   "metadata": {},
   "outputs": [],
   "source": [
    "     *\n",
    "    **\n",
    "   ***\n",
    "  ****\n",
    " *****\n",
    "******"
   ]
  },
  {
   "cell_type": "code",
   "execution_count": 9,
   "id": "3397ab51",
   "metadata": {},
   "outputs": [
    {
     "name": "stdout",
     "output_type": "stream",
     "text": [
      "     *\n",
      "    **\n",
      "   ***\n",
      "  ****\n",
      " *****\n",
      "******\n"
     ]
    }
   ],
   "source": [
    "n = 6\n",
    "# Space   Star\n",
    "# (n-1)    1\n",
    "# (n-2)    2\n",
    "# (n-3)    3\n",
    "# (n-4)    4\n",
    "# (n-5)    5\n",
    "# (n-6)    6\n",
    "\n",
    "for i in range(1,n+1):\n",
    "    \n",
    "    print(\" \"*(n-i) + \"*\"*i)"
   ]
  },
  {
   "cell_type": "code",
   "execution_count": null,
   "id": "53a56e27",
   "metadata": {},
   "outputs": [],
   "source": [
    "     *\n",
    "    ***\n",
    "   *****\n",
    "  *******\n",
    " *********\n",
    "***********"
   ]
  },
  {
   "cell_type": "code",
   "execution_count": null,
   "id": "4881ab43",
   "metadata": {},
   "outputs": [],
   "source": [
    "12345*\n",
    "1234**\n",
    "123***\n",
    "12****\n",
    "1*****\n",
    "******"
   ]
  },
  {
   "cell_type": "code",
   "execution_count": null,
   "id": "0b4a9f99",
   "metadata": {},
   "outputs": [],
   "source": [
    "12345*\n",
    "1234***\n",
    "123*****\n",
    "12*******\n",
    "1*********\n",
    "***********"
   ]
  },
  {
   "cell_type": "code",
   "execution_count": 11,
   "id": "9d4f4d47",
   "metadata": {},
   "outputs": [
    {
     "name": "stdout",
     "output_type": "stream",
     "text": [
      "     *\n",
      "    ***\n",
      "   *****\n",
      "  *******\n",
      " *********\n",
      "***********\n"
     ]
    }
   ],
   "source": [
    "n = 6\n",
    "\n",
    "# i = 1 (2*i-1) >> 1\n",
    "# i = 2 (2*i-1) >> 3\n",
    "# i = 3 (2*i-1) >> 5\n",
    "# i = 4 (2*i-1) >> 7\n",
    "# i = 5 (2*i-1) >> 9\n",
    "# i = 6 (2*i-1) >> 11\n",
    "\n",
    "for i in range(1,n+1):\n",
    "    \n",
    "    print(\" \"*(n-i) + \"*\"*(2*i-1))"
   ]
  },
  {
   "cell_type": "code",
   "execution_count": 12,
   "id": "57715445",
   "metadata": {},
   "outputs": [
    {
     "name": "stdout",
     "output_type": "stream",
     "text": [
      "     1\n",
      "    222\n",
      "   33333\n",
      "  4444444\n",
      " 555555555\n",
      "66666666666\n"
     ]
    }
   ],
   "source": [
    "n = 6\n",
    "x = 1\n",
    "\n",
    "for i in range(1,n+1):\n",
    "    \n",
    "    print(\" \"*(n-i) + str(x)*(2*i-1))\n",
    "    x += 1"
   ]
  },
  {
   "cell_type": "code",
   "execution_count": 14,
   "id": "f03534ac",
   "metadata": {},
   "outputs": [
    {
     "name": "stdout",
     "output_type": "stream",
     "text": [
      "     A\n",
      "    BBB\n",
      "   CCCCC\n",
      "  DDDDDDD\n",
      " EEEEEEEEE\n",
      "FFFFFFFFFFF\n"
     ]
    }
   ],
   "source": [
    "n = 6\n",
    "x = 65\n",
    "\n",
    "for i in range(1,n+1):\n",
    "    \n",
    "    print(\" \"*(n-i) + chr(x)*(2*i-1))\n",
    "    x += 1"
   ]
  },
  {
   "cell_type": "markdown",
   "id": "27f0d25a",
   "metadata": {},
   "source": [
    "### Prime Number In Given Range"
   ]
  },
  {
   "cell_type": "code",
   "execution_count": 19,
   "id": "748a9e0e",
   "metadata": {},
   "outputs": [
    {
     "name": "stdout",
     "output_type": "stream",
     "text": [
      "Is a Prime Number\n"
     ]
    }
   ],
   "source": [
    "n = 13\n",
    "\n",
    "# 11 >> 2,3,4,5,6,7,8,9,10\n",
    "\n",
    "for i in range(2,n):\n",
    "    if n % i == 0:\n",
    "        print(\"Not A Prime Number\")\n",
    "        break\n",
    "else:\n",
    "    print(\"Is a Prime Number\")"
   ]
  },
  {
   "cell_type": "code",
   "execution_count": 21,
   "id": "f1562a5b",
   "metadata": {},
   "outputs": [
    {
     "name": "stdout",
     "output_type": "stream",
     "text": [
      "10 is not a Prime Number\n",
      "11 is a Prime Number\n",
      "12 is not a Prime Number\n",
      "13 is a Prime Number\n",
      "14 is not a Prime Number\n",
      "15 is not a Prime Number\n",
      "16 is not a Prime Number\n",
      "17 is a Prime Number\n",
      "18 is not a Prime Number\n",
      "19 is a Prime Number\n",
      "20 is not a Prime Number\n",
      "21 is not a Prime Number\n",
      "22 is not a Prime Number\n",
      "23 is a Prime Number\n",
      "24 is not a Prime Number\n",
      "25 is not a Prime Number\n",
      "26 is not a Prime Number\n",
      "27 is not a Prime Number\n",
      "28 is not a Prime Number\n",
      "29 is a Prime Number\n"
     ]
    }
   ],
   "source": [
    "# 10 >> 100\n",
    "\n",
    "for n in range(10,30):\n",
    "    for i in range(2,n):\n",
    "        if n % i == 0:\n",
    "            print(f\"{n} is not a Prime Number\")\n",
    "            break\n",
    "    else:\n",
    "        print(f\"{n} is a Prime Number\") "
   ]
  },
  {
   "cell_type": "code",
   "execution_count": 23,
   "id": "1f375863",
   "metadata": {},
   "outputs": [
    {
     "name": "stdout",
     "output_type": "stream",
     "text": [
      "907 911 919 929 937 941 947 953 967 971 977 983 991 997 "
     ]
    }
   ],
   "source": [
    "# Print Prime numbers in range 900 to 1000\n",
    "\n",
    "for n in range(900,1001):\n",
    "    for i in range(2,n):\n",
    "        if n % i == 0:\n",
    "            break\n",
    "    else:\n",
    "        print(n, end = \" \")"
   ]
  },
  {
   "cell_type": "code",
   "execution_count": 32,
   "id": "d920c6ca",
   "metadata": {},
   "outputs": [
    {
     "name": "stdout",
     "output_type": "stream",
     "text": [
      "Enter List 1,2,3,4,5,6\n",
      "1,2,3,4,5,6\n",
      "<class 'str'>\n"
     ]
    }
   ],
   "source": [
    "x = input(\"Enter List \")\n",
    "\n",
    "print(x)\n",
    "print(type(x))"
   ]
  },
  {
   "cell_type": "code",
   "execution_count": 41,
   "id": "051912a0",
   "metadata": {},
   "outputs": [
    {
     "name": "stdout",
     "output_type": "stream",
     "text": [
      "Enter List [1,2,3,4,5]\n",
      "[1, 2, 3, 4, 5]\n",
      "<class 'list'>\n"
     ]
    }
   ],
   "source": [
    "x = eval(input(\"Enter List \"))\n",
    "\n",
    "# x = x.split(\",\")\n",
    "\n",
    "# new_list = []\n",
    "\n",
    "# for i in x:\n",
    "#     new_list.append(int(i))\n",
    "\n",
    "print(x)\n",
    "print(type(x))"
   ]
  },
  {
   "cell_type": "code",
   "execution_count": null,
   "id": "6b207e39",
   "metadata": {},
   "outputs": [],
   "source": []
  }
 ],
 "metadata": {
  "kernelspec": {
   "display_name": "Python 3 (ipykernel)",
   "language": "python",
   "name": "python3"
  },
  "language_info": {
   "codemirror_mode": {
    "name": "ipython",
    "version": 3
   },
   "file_extension": ".py",
   "mimetype": "text/x-python",
   "name": "python",
   "nbconvert_exporter": "python",
   "pygments_lexer": "ipython3",
   "version": "3.10.5"
  }
 },
 "nbformat": 4,
 "nbformat_minor": 5
}
