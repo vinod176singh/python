{
 "cells": [
  {
   "cell_type": "markdown",
   "id": "7f505ddf",
   "metadata": {},
   "source": [
    "## Solving Equations with Numpy"
   ]
  },
  {
   "cell_type": "code",
   "execution_count": null,
   "id": "0a59b727",
   "metadata": {},
   "outputs": [],
   "source": [
    "2x + 5y = 10\n",
    "3x + 8y = 20\n",
    "\n",
    "x = -20\n",
    "y = 10"
   ]
  },
  {
   "cell_type": "code",
   "execution_count": 1,
   "id": "1655bb2e",
   "metadata": {},
   "outputs": [],
   "source": [
    "import numpy as np\n",
    "array1 = np.array([[2,5],[3,8]])\n",
    "array2 = np.array([10,20])"
   ]
  },
  {
   "cell_type": "code",
   "execution_count": 2,
   "id": "4170bf8f",
   "metadata": {},
   "outputs": [
    {
     "name": "stdout",
     "output_type": "stream",
     "text": [
      "[-20.  10.]\n"
     ]
    }
   ],
   "source": [
    "solution = np.linalg.solve(array1,array2)\n",
    "print(solution)"
   ]
  },
  {
   "cell_type": "code",
   "execution_count": null,
   "id": "90e45e59",
   "metadata": {},
   "outputs": [],
   "source": [
    "2x + 5y + 4z = 10\n",
    "3x + 8y + 6z = 20\n",
    "4x + 6y + 2z = 15"
   ]
  },
  {
   "cell_type": "code",
   "execution_count": 6,
   "id": "fcbed465",
   "metadata": {},
   "outputs": [],
   "source": [
    "array1 = np.array([[2,5,4],[3,8,6],[4,6,2]])\n",
    "array2 = np.array([10,20,15])"
   ]
  },
  {
   "cell_type": "code",
   "execution_count": 7,
   "id": "eae88c46",
   "metadata": {},
   "outputs": [
    {
     "name": "stdout",
     "output_type": "stream",
     "text": [
      "[-8.33333333 10.         -5.83333333]\n"
     ]
    }
   ],
   "source": [
    "solution = np.linalg.solve(array1,array2)\n",
    "print(solution)"
   ]
  },
  {
   "cell_type": "markdown",
   "id": "80b4466c",
   "metadata": {},
   "source": [
    "### Inverse of a Matrics"
   ]
  },
  {
   "cell_type": "code",
   "execution_count": 8,
   "id": "cd192db1",
   "metadata": {},
   "outputs": [
    {
     "name": "stdout",
     "output_type": "stream",
     "text": [
      "Original Array: \n",
      " [[2 6]\n",
      " [9 7]]\n"
     ]
    }
   ],
   "source": [
    "array1 = np.array([[2,6],[9,7]])\n",
    "print(\"Original Array: \\n\", array1)"
   ]
  },
  {
   "cell_type": "code",
   "execution_count": 9,
   "id": "3c486bda",
   "metadata": {},
   "outputs": [
    {
     "name": "stdout",
     "output_type": "stream",
     "text": [
      "Inver of an array: \n",
      " [[-0.175  0.15 ]\n",
      " [ 0.225 -0.05 ]]\n"
     ]
    }
   ],
   "source": [
    "array2 = np.linalg.inv(array1)\n",
    "print(\"Inver of an array: \\n\", array2)"
   ]
  },
  {
   "cell_type": "code",
   "execution_count": null,
   "id": "05dd3dba",
   "metadata": {},
   "outputs": [],
   "source": []
  }
 ],
 "metadata": {
  "kernelspec": {
   "display_name": "Python 3 (ipykernel)",
   "language": "python",
   "name": "python3"
  },
  "language_info": {
   "codemirror_mode": {
    "name": "ipython",
    "version": 3
   },
   "file_extension": ".py",
   "mimetype": "text/x-python",
   "name": "python",
   "nbconvert_exporter": "python",
   "pygments_lexer": "ipython3",
   "version": "3.10.5"
  }
 },
 "nbformat": 4,
 "nbformat_minor": 5
}
