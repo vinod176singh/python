{
 "cells": [
  {
   "cell_type": "code",
   "execution_count": null,
   "id": "0f0c7304",
   "metadata": {},
   "outputs": [],
   "source": [
    "1. capitalize\n",
    "2. upper\n",
    "3. lower\n",
    "4. title\n",
    "5. strip\n",
    "6. lstrip\n",
    "7. rstrip\n",
    "8. replace\n",
    "9. count\n",
    "10.index\n",
    "\n",
    "11. find\n",
    "12. split\n",
    "13. endswith\n",
    "14. startswith\n",
    "15. isupper\n",
    "16. islower\n",
    "17. istitle\n",
    "18. isspace\n",
    "19. isalpha\n",
    "20. isalphanum\n",
    "21. isdecimal\n",
    "22. isdigit\n",
    "23. isnumeric\n",
    "24. zfill\n",
    "25. center"
   ]
  },
  {
   "cell_type": "markdown",
   "id": "18b5766b",
   "metadata": {},
   "source": [
    "### 24 zfill()"
   ]
  },
  {
   "cell_type": "code",
   "execution_count": null,
   "id": "b1877fae",
   "metadata": {},
   "outputs": [],
   "source": [
    "fills zero in the given string"
   ]
  },
  {
   "cell_type": "code",
   "execution_count": 1,
   "id": "02e85c29",
   "metadata": {},
   "outputs": [
    {
     "data": {
      "text/plain": [
       "'0000Python'"
      ]
     },
     "execution_count": 1,
     "metadata": {},
     "output_type": "execute_result"
    }
   ],
   "source": [
    "string = \"Python\"\n",
    "string.zfill(10)"
   ]
  },
  {
   "cell_type": "code",
   "execution_count": 2,
   "id": "233363ae",
   "metadata": {},
   "outputs": [
    {
     "data": {
      "text/plain": [
       "'000000Python'"
      ]
     },
     "execution_count": 2,
     "metadata": {},
     "output_type": "execute_result"
    }
   ],
   "source": [
    "string.zfill(12)"
   ]
  },
  {
   "cell_type": "code",
   "execution_count": 3,
   "id": "2b03cd26",
   "metadata": {},
   "outputs": [
    {
     "data": {
      "text/plain": [
       "'This is Python'"
      ]
     },
     "execution_count": 3,
     "metadata": {},
     "output_type": "execute_result"
    }
   ],
   "source": [
    "string = \"This is Python\"\n",
    "string.zfill(10)"
   ]
  },
  {
   "cell_type": "code",
   "execution_count": 4,
   "id": "4e0b1347",
   "metadata": {},
   "outputs": [
    {
     "data": {
      "text/plain": [
       "'0000000000000000This is Python'"
      ]
     },
     "execution_count": 4,
     "metadata": {},
     "output_type": "execute_result"
    }
   ],
   "source": [
    "string.zfill(30)"
   ]
  },
  {
   "cell_type": "code",
   "execution_count": 5,
   "id": "366722d9",
   "metadata": {},
   "outputs": [
    {
     "data": {
      "text/plain": [
       "30"
      ]
     },
     "execution_count": 5,
     "metadata": {},
     "output_type": "execute_result"
    }
   ],
   "source": [
    "len(string.zfill(30))"
   ]
  },
  {
   "cell_type": "markdown",
   "id": "3c229621",
   "metadata": {},
   "source": [
    "### 25. center()"
   ]
  },
  {
   "cell_type": "code",
   "execution_count": 6,
   "id": "1ecef683",
   "metadata": {},
   "outputs": [
    {
     "data": {
      "text/plain": [
       "'       Python       '"
      ]
     },
     "execution_count": 6,
     "metadata": {},
     "output_type": "execute_result"
    }
   ],
   "source": [
    "string = \"Python\"\n",
    "string.center(20)"
   ]
  },
  {
   "cell_type": "code",
   "execution_count": 12,
   "id": "59f85756",
   "metadata": {},
   "outputs": [
    {
     "data": {
      "text/plain": [
       "'+++++++Python+++++++'"
      ]
     },
     "execution_count": 12,
     "metadata": {},
     "output_type": "execute_result"
    }
   ],
   "source": [
    "string.center(20,\"+\")"
   ]
  },
  {
   "cell_type": "code",
   "execution_count": 8,
   "id": "58456c5a",
   "metadata": {},
   "outputs": [
    {
     "data": {
      "text/plain": [
       "'***********************************************Python***********************************************'"
      ]
     },
     "execution_count": 8,
     "metadata": {},
     "output_type": "execute_result"
    }
   ],
   "source": [
    "string.center(100,\"*\")"
   ]
  },
  {
   "cell_type": "code",
   "execution_count": 9,
   "id": "49bc9cf7",
   "metadata": {},
   "outputs": [
    {
     "data": {
      "text/plain": [
       "100"
      ]
     },
     "execution_count": 9,
     "metadata": {},
     "output_type": "execute_result"
    }
   ],
   "source": [
    "len(string.center(100,\"*\"))"
   ]
  },
  {
   "cell_type": "code",
   "execution_count": 10,
   "id": "59e30230",
   "metadata": {},
   "outputs": [
    {
     "name": "stdout",
     "output_type": "stream",
     "text": [
      "***********************************************OUTPUT***********************************************\n",
      "\n",
      "                                               OUTPUT                                               \n",
      "\n",
      "***********************************************OUTPUT***********************************************\n"
     ]
    }
   ],
   "source": [
    "output = \"OUTPUT\"\n",
    "print(output.center(100,\"*\"))\n",
    "print()\n",
    "print(output.center(100))\n",
    "print()\n",
    "print(output.center(100,\"*\"))\n"
   ]
  },
  {
   "cell_type": "markdown",
   "id": "ca6a5c6e",
   "metadata": {},
   "source": [
    "## 26. swapcase()"
   ]
  },
  {
   "cell_type": "code",
   "execution_count": 13,
   "id": "cfecdaba",
   "metadata": {},
   "outputs": [
    {
     "data": {
      "text/plain": [
       "'VELOCITY TRAINING CENTER PUNE'"
      ]
     },
     "execution_count": 13,
     "metadata": {},
     "output_type": "execute_result"
    }
   ],
   "source": [
    "string = \"velocity training center pune\"\n",
    "\n",
    "string.swapcase()"
   ]
  },
  {
   "cell_type": "code",
   "execution_count": 14,
   "id": "ef0df3d9",
   "metadata": {},
   "outputs": [
    {
     "data": {
      "text/plain": [
       "'vElOcItY tRaInInG cEnTeR pUnE'"
      ]
     },
     "execution_count": 14,
     "metadata": {},
     "output_type": "execute_result"
    }
   ],
   "source": [
    "string = \"VeLoCiTy TrAiNiNg CeNtEr PuNe\"\n",
    "string.swapcase()"
   ]
  },
  {
   "cell_type": "code",
   "execution_count": null,
   "id": "e600c400",
   "metadata": {},
   "outputs": [],
   "source": []
  }
 ],
 "metadata": {
  "kernelspec": {
   "display_name": "Python 3 (ipykernel)",
   "language": "python",
   "name": "python3"
  },
  "language_info": {
   "codemirror_mode": {
    "name": "ipython",
    "version": 3
   },
   "file_extension": ".py",
   "mimetype": "text/x-python",
   "name": "python",
   "nbconvert_exporter": "python",
   "pygments_lexer": "ipython3",
   "version": "3.10.5"
  }
 },
 "nbformat": 4,
 "nbformat_minor": 5
}
