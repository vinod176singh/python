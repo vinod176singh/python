{
 "cells": [
  {
   "cell_type": "markdown",
   "id": "bc776b84",
   "metadata": {},
   "source": [
    "# Relational Operators"
   ]
  },
  {
   "cell_type": "code",
   "execution_count": null,
   "id": "22ca5f1d",
   "metadata": {},
   "outputs": [],
   "source": [
    "==  ---> Is equal to\n",
    "!=  ---> Is not equal to\n",
    ">   ---> Is greater than\n",
    "<   ---> Is less than\n",
    ">=  ---> Is greater than or equal to\n",
    "<=  ---> Is less than or equal to"
   ]
  },
  {
   "cell_type": "code",
   "execution_count": 1,
   "id": "fa524f95",
   "metadata": {},
   "outputs": [
    {
     "name": "stdout",
     "output_type": "stream",
     "text": [
      "False\n"
     ]
    }
   ],
   "source": [
    "a = 10\n",
    "b = 20\n",
    "print(a==b)"
   ]
  },
  {
   "cell_type": "code",
   "execution_count": 2,
   "id": "441c08a7",
   "metadata": {},
   "outputs": [
    {
     "name": "stdout",
     "output_type": "stream",
     "text": [
      "True\n"
     ]
    }
   ],
   "source": [
    "a = 10\n",
    "b = 10\n",
    "print(a==b)"
   ]
  },
  {
   "cell_type": "code",
   "execution_count": 3,
   "id": "752783e1",
   "metadata": {},
   "outputs": [
    {
     "data": {
      "text/plain": [
       "False"
      ]
     },
     "execution_count": 3,
     "metadata": {},
     "output_type": "execute_result"
    }
   ],
   "source": [
    "a = \"Ramesh\"\n",
    "b = \"Suresh\"\n",
    "\n",
    "a==b"
   ]
  },
  {
   "cell_type": "code",
   "execution_count": 4,
   "id": "1d68909d",
   "metadata": {},
   "outputs": [
    {
     "data": {
      "text/plain": [
       "False"
      ]
     },
     "execution_count": 4,
     "metadata": {},
     "output_type": "execute_result"
    }
   ],
   "source": [
    "a = \"RAMESH\"\n",
    "b = \"Ramesh\"\n",
    "\n",
    "a==b"
   ]
  },
  {
   "cell_type": "code",
   "execution_count": 5,
   "id": "43c1d1d6",
   "metadata": {},
   "outputs": [
    {
     "data": {
      "text/plain": [
       "False"
      ]
     },
     "execution_count": 5,
     "metadata": {},
     "output_type": "execute_result"
    }
   ],
   "source": [
    "a = \"sURESH\"\n",
    "b = \"Suresh\"\n",
    "\n",
    "a==b"
   ]
  },
  {
   "cell_type": "code",
   "execution_count": 6,
   "id": "3cadd05e",
   "metadata": {},
   "outputs": [
    {
     "data": {
      "text/plain": [
       "True"
      ]
     },
     "execution_count": 6,
     "metadata": {},
     "output_type": "execute_result"
    }
   ],
   "source": [
    "a  = 10.5\n",
    "b = 10.5\n",
    "\n",
    "a==b"
   ]
  },
  {
   "cell_type": "code",
   "execution_count": 7,
   "id": "4789141f",
   "metadata": {},
   "outputs": [
    {
     "data": {
      "text/plain": [
       "True"
      ]
     },
     "execution_count": 7,
     "metadata": {},
     "output_type": "execute_result"
    }
   ],
   "source": [
    "a = 10\n",
    "b =10.0\n",
    "\n",
    "a==b"
   ]
  },
  {
   "cell_type": "code",
   "execution_count": 8,
   "id": "8b89e8bb",
   "metadata": {},
   "outputs": [
    {
     "data": {
      "text/plain": [
       "True"
      ]
     },
     "execution_count": 8,
     "metadata": {},
     "output_type": "execute_result"
    }
   ],
   "source": [
    "a = \"Ramesh\"\n",
    "b = \"Suresh\"\n",
    "\n",
    "a!=b"
   ]
  },
  {
   "cell_type": "code",
   "execution_count": 9,
   "id": "ea7254de",
   "metadata": {},
   "outputs": [
    {
     "data": {
      "text/plain": [
       "True"
      ]
     },
     "execution_count": 9,
     "metadata": {},
     "output_type": "execute_result"
    }
   ],
   "source": [
    "a = \"Suresh\"\n",
    "b = \"SURESH\"\n",
    "\n",
    "a!=b"
   ]
  },
  {
   "cell_type": "code",
   "execution_count": 10,
   "id": "8a69bff0",
   "metadata": {},
   "outputs": [
    {
     "data": {
      "text/plain": [
       "False"
      ]
     },
     "execution_count": 10,
     "metadata": {},
     "output_type": "execute_result"
    }
   ],
   "source": [
    "a  = 111.234\n",
    "b  = 111.23400\n",
    "\n",
    "a != b"
   ]
  },
  {
   "cell_type": "code",
   "execution_count": 11,
   "id": "c7849c99",
   "metadata": {},
   "outputs": [
    {
     "data": {
      "text/plain": [
       "False"
      ]
     },
     "execution_count": 11,
     "metadata": {},
     "output_type": "execute_result"
    }
   ],
   "source": [
    "a = 20\n",
    "b = 60\n",
    "\n",
    "a > b"
   ]
  },
  {
   "cell_type": "code",
   "execution_count": 12,
   "id": "4a892685",
   "metadata": {},
   "outputs": [
    {
     "data": {
      "text/plain": [
       "True"
      ]
     },
     "execution_count": 12,
     "metadata": {},
     "output_type": "execute_result"
    }
   ],
   "source": [
    "a < b"
   ]
  },
  {
   "cell_type": "code",
   "execution_count": 15,
   "id": "09c272c2",
   "metadata": {},
   "outputs": [
    {
     "data": {
      "text/plain": [
       "True"
      ]
     },
     "execution_count": 15,
     "metadata": {},
     "output_type": "execute_result"
    }
   ],
   "source": [
    "a = \"STRING1\"\n",
    "b = \"String1\"\n",
    "\n",
    "a > b"
   ]
  },
  {
   "cell_type": "code",
   "execution_count": 24,
   "id": "a90e9b63",
   "metadata": {},
   "outputs": [
    {
     "data": {
      "text/plain": [
       "'A'"
      ]
     },
     "execution_count": 24,
     "metadata": {},
     "output_type": "execute_result"
    }
   ],
   "source": [
    "chr(65)"
   ]
  },
  {
   "cell_type": "code",
   "execution_count": 25,
   "id": "de5f7ce5",
   "metadata": {},
   "outputs": [
    {
     "data": {
      "text/plain": [
       "'a'"
      ]
     },
     "execution_count": 25,
     "metadata": {},
     "output_type": "execute_result"
    }
   ],
   "source": [
    "chr(97)"
   ]
  },
  {
   "cell_type": "code",
   "execution_count": 26,
   "id": "4923070b",
   "metadata": {},
   "outputs": [
    {
     "data": {
      "text/plain": [
       "True"
      ]
     },
     "execution_count": 26,
     "metadata": {},
     "output_type": "execute_result"
    }
   ],
   "source": [
    "a = \"StRING\"\n",
    "b = \"STring\"\n",
    "\n",
    "a > b"
   ]
  },
  {
   "cell_type": "code",
   "execution_count": 27,
   "id": "393df27d",
   "metadata": {},
   "outputs": [
    {
     "data": {
      "text/plain": [
       "True"
      ]
     },
     "execution_count": 27,
     "metadata": {},
     "output_type": "execute_result"
    }
   ],
   "source": [
    "a  = 10\n",
    "b = 10\n",
    "\n",
    "a >= b"
   ]
  },
  {
   "cell_type": "code",
   "execution_count": 28,
   "id": "73918ee4",
   "metadata": {},
   "outputs": [
    {
     "data": {
      "text/plain": [
       "True"
      ]
     },
     "execution_count": 28,
     "metadata": {},
     "output_type": "execute_result"
    }
   ],
   "source": [
    "a = 11\n",
    "b = 10\n",
    "\n",
    "a >= b"
   ]
  },
  {
   "cell_type": "code",
   "execution_count": 29,
   "id": "61695685",
   "metadata": {},
   "outputs": [
    {
     "data": {
      "text/plain": [
       "False"
      ]
     },
     "execution_count": 29,
     "metadata": {},
     "output_type": "execute_result"
    }
   ],
   "source": [
    "a = 11\n",
    "b = 10\n",
    "\n",
    "a <= b"
   ]
  },
  {
   "cell_type": "code",
   "execution_count": 30,
   "id": "c0d0f7b5",
   "metadata": {},
   "outputs": [
    {
     "data": {
      "text/plain": [
       "True"
      ]
     },
     "execution_count": 30,
     "metadata": {},
     "output_type": "execute_result"
    }
   ],
   "source": [
    "a = 11\n",
    "b = 111\n",
    "\n",
    "a <= b"
   ]
  },
  {
   "cell_type": "code",
   "execution_count": 33,
   "id": "6cfa95fa",
   "metadata": {},
   "outputs": [
    {
     "name": "stdout",
     "output_type": "stream",
     "text": [
      "5.0\n"
     ]
    }
   ],
   "source": [
    "a = abs(3 + 3j)\n",
    "b = abs(3 + 4j)\n",
    "\n",
    "print(b)"
   ]
  },
  {
   "cell_type": "code",
   "execution_count": 34,
   "id": "a3713557",
   "metadata": {},
   "outputs": [
    {
     "data": {
      "text/plain": [
       "25"
      ]
     },
     "execution_count": 34,
     "metadata": {},
     "output_type": "execute_result"
    }
   ],
   "source": [
    "3**2 + 4**2"
   ]
  },
  {
   "cell_type": "markdown",
   "id": "82ae516a",
   "metadata": {},
   "source": [
    "# Assignment"
   ]
  },
  {
   "cell_type": "code",
   "execution_count": null,
   "id": "5a3d0a72",
   "metadata": {},
   "outputs": [],
   "source": [
    "=    >> Assign value to a variable\n",
    "+=   >> Add and assign\n",
    "-=   >> Substract and Assign\n",
    "*=   >> Multiply and assign\n",
    "/=   >> Devide and assign\n",
    "//=  >> Floor devide and assign\n",
    "%=   >> Modulus divide and assign\n",
    "**=  >> Exponentiation and assign"
   ]
  },
  {
   "cell_type": "markdown",
   "id": "9d40f071",
   "metadata": {},
   "source": [
    "### Add and assign"
   ]
  },
  {
   "cell_type": "code",
   "execution_count": 36,
   "id": "fdbad407",
   "metadata": {},
   "outputs": [],
   "source": [
    "a = 10"
   ]
  },
  {
   "cell_type": "code",
   "execution_count": 50,
   "id": "4964cc26",
   "metadata": {},
   "outputs": [],
   "source": [
    "a += 2 "
   ]
  },
  {
   "cell_type": "code",
   "execution_count": 51,
   "id": "d877d4fd",
   "metadata": {},
   "outputs": [
    {
     "data": {
      "text/plain": [
       "12"
      ]
     },
     "execution_count": 51,
     "metadata": {},
     "output_type": "execute_result"
    }
   ],
   "source": [
    "a"
   ]
  },
  {
   "cell_type": "markdown",
   "id": "877b7efb",
   "metadata": {},
   "source": [
    "### Substract and assign"
   ]
  },
  {
   "cell_type": "code",
   "execution_count": 52,
   "id": "a4c34002",
   "metadata": {},
   "outputs": [],
   "source": [
    "a = 10"
   ]
  },
  {
   "cell_type": "code",
   "execution_count": 58,
   "id": "6a29501f",
   "metadata": {},
   "outputs": [
    {
     "data": {
      "text/plain": [
       "-20"
      ]
     },
     "execution_count": 58,
     "metadata": {},
     "output_type": "execute_result"
    }
   ],
   "source": [
    "a -= 5\n",
    "a ## This cell was run for 6 times"
   ]
  },
  {
   "cell_type": "markdown",
   "id": "97134b30",
   "metadata": {},
   "source": [
    "### Multiply and assign"
   ]
  },
  {
   "cell_type": "code",
   "execution_count": 59,
   "id": "f5f522f2",
   "metadata": {},
   "outputs": [],
   "source": [
    "a = 2"
   ]
  },
  {
   "cell_type": "code",
   "execution_count": 355,
   "id": "00e2ef67",
   "metadata": {},
   "outputs": [
    {
     "data": {
      "text/plain": [
       "254629497041810760783555711051172270131433549208242031329517556169297662470417088272924672"
      ]
     },
     "execution_count": 355,
     "metadata": {},
     "output_type": "execute_result"
    }
   ],
   "source": [
    "a *= 2\n",
    "a ## This cell was run for so many times"
   ]
  },
  {
   "cell_type": "code",
   "execution_count": 356,
   "id": "ee40f28a",
   "metadata": {},
   "outputs": [
    {
     "name": "stdout",
     "output_type": "stream",
     "text": [
      "254629497041810760783555711051172270131433549208242031329517556169297662470417088272924672\n"
     ]
    }
   ],
   "source": [
    "print(a)"
   ]
  },
  {
   "cell_type": "markdown",
   "id": "5b29e372",
   "metadata": {},
   "source": [
    "### Division and assign"
   ]
  },
  {
   "cell_type": "code",
   "execution_count": 365,
   "id": "f2edb52c",
   "metadata": {},
   "outputs": [],
   "source": [
    "a = 222"
   ]
  },
  {
   "cell_type": "code",
   "execution_count": 366,
   "id": "d2798894",
   "metadata": {},
   "outputs": [
    {
     "data": {
      "text/plain": [
       "111.0"
      ]
     },
     "execution_count": 366,
     "metadata": {},
     "output_type": "execute_result"
    }
   ],
   "source": [
    "a /= 2\n",
    "a"
   ]
  },
  {
   "cell_type": "code",
   "execution_count": 369,
   "id": "f1e02bea",
   "metadata": {},
   "outputs": [],
   "source": [
    "a = 10"
   ]
  },
  {
   "cell_type": "code",
   "execution_count": 372,
   "id": "f9b2202e",
   "metadata": {},
   "outputs": [
    {
     "data": {
      "text/plain": [
       "1.25"
      ]
     },
     "execution_count": 372,
     "metadata": {},
     "output_type": "execute_result"
    }
   ],
   "source": [
    "a /= 2\n",
    "a  ## This Cell was run for 3 times"
   ]
  },
  {
   "cell_type": "markdown",
   "id": "1391ebec",
   "metadata": {},
   "source": [
    "## Floor Divide and Assign"
   ]
  },
  {
   "cell_type": "code",
   "execution_count": 399,
   "id": "4cc3ef03",
   "metadata": {},
   "outputs": [],
   "source": [
    "a = 2222"
   ]
  },
  {
   "cell_type": "code",
   "execution_count": 400,
   "id": "eca14a8c",
   "metadata": {},
   "outputs": [
    {
     "data": {
      "text/plain": [
       "1111"
      ]
     },
     "execution_count": 400,
     "metadata": {},
     "output_type": "execute_result"
    }
   ],
   "source": [
    "a //= 2\n",
    "a ## This cell was run for two times "
   ]
  },
  {
   "cell_type": "code",
   "execution_count": null,
   "id": "36d98979",
   "metadata": {},
   "outputs": [],
   "source": [
    "## Floor division and assign returns quotient and stores it back into the variable"
   ]
  },
  {
   "cell_type": "markdown",
   "id": "c8893da7",
   "metadata": {},
   "source": [
    "### Modulus Devide and assign"
   ]
  },
  {
   "cell_type": "code",
   "execution_count": 401,
   "id": "6c162c90",
   "metadata": {},
   "outputs": [],
   "source": [
    "a = 2222"
   ]
  },
  {
   "cell_type": "code",
   "execution_count": 402,
   "id": "751c2bac",
   "metadata": {},
   "outputs": [
    {
     "data": {
      "text/plain": [
       "0"
      ]
     },
     "execution_count": 402,
     "metadata": {},
     "output_type": "execute_result"
    }
   ],
   "source": [
    "a %= 2\n",
    "a"
   ]
  },
  {
   "cell_type": "code",
   "execution_count": 403,
   "id": "bb57ead3",
   "metadata": {},
   "outputs": [],
   "source": [
    "b = 2221"
   ]
  },
  {
   "cell_type": "code",
   "execution_count": 411,
   "id": "f4743946",
   "metadata": {},
   "outputs": [
    {
     "data": {
      "text/plain": [
       "1"
      ]
     },
     "execution_count": 411,
     "metadata": {},
     "output_type": "execute_result"
    }
   ],
   "source": [
    "b %= 2\n",
    "b"
   ]
  },
  {
   "cell_type": "markdown",
   "id": "e80cfd5d",
   "metadata": {},
   "source": [
    "### Exponentiation and Assign"
   ]
  },
  {
   "cell_type": "code",
   "execution_count": 425,
   "id": "307f1e4f",
   "metadata": {},
   "outputs": [],
   "source": [
    "a = 2"
   ]
  },
  {
   "cell_type": "code",
   "execution_count": 437,
   "id": "e2b82dac",
   "metadata": {},
   "outputs": [
    {
     "data": {
      "text/plain": [
       "1044388881413152506691752710716624382579964249047383780384233483283953907971557456848826811934997558340890106714439262837987573438185793607263236087851365277945956976543709998340361590134383718314428070011855946226376318839397712745672334684344586617496807908705803704071284048740118609114467977783598029006686938976881787785946905630190260940599579453432823469303026696443059025015972399867714215541693835559885291486318237914434496734087811872639496475100189041349008417061675093668333850551032972088269550769983616369411933015213796825837188091833656751221318492846368125550225998300412344784862595674492194617023806505913245610825731835380087608622102834270197698202313169017678006675195485079921636419370285375124784014907159135459982790513399611551794271106831134090584272884279791554849782954323534517065223269061394905987693002122963395687782878948440616007412945674919823050571642377154816321380631045902916136926708342856440730447899971901781465763473223850267253059899795996090799469201774624817718449867455659250178329070473119433165550807568221846571746373296884912819520317457002440926616910874148385078411929804522981857338977648103126085903001302413467189726673216491511131602920781738033436090243804708340403154190336"
      ]
     },
     "execution_count": 437,
     "metadata": {},
     "output_type": "execute_result"
    }
   ],
   "source": [
    "a **= 2\n",
    "a  ## This cell was run for 12 times"
   ]
  },
  {
   "cell_type": "code",
   "execution_count": 438,
   "id": "f278104e",
   "metadata": {},
   "outputs": [
    {
     "name": "stdout",
     "output_type": "stream",
     "text": [
      "1044388881413152506691752710716624382579964249047383780384233483283953907971557456848826811934997558340890106714439262837987573438185793607263236087851365277945956976543709998340361590134383718314428070011855946226376318839397712745672334684344586617496807908705803704071284048740118609114467977783598029006686938976881787785946905630190260940599579453432823469303026696443059025015972399867714215541693835559885291486318237914434496734087811872639496475100189041349008417061675093668333850551032972088269550769983616369411933015213796825837188091833656751221318492846368125550225998300412344784862595674492194617023806505913245610825731835380087608622102834270197698202313169017678006675195485079921636419370285375124784014907159135459982790513399611551794271106831134090584272884279791554849782954323534517065223269061394905987693002122963395687782878948440616007412945674919823050571642377154816321380631045902916136926708342856440730447899971901781465763473223850267253059899795996090799469201774624817718449867455659250178329070473119433165550807568221846571746373296884912819520317457002440926616910874148385078411929804522981857338977648103126085903001302413467189726673216491511131602920781738033436090243804708340403154190336\n"
     ]
    }
   ],
   "source": [
    "print(a)"
   ]
  },
  {
   "cell_type": "markdown",
   "id": "abca07ff",
   "metadata": {},
   "source": [
    "# Logical Operator"
   ]
  },
  {
   "cell_type": "code",
   "execution_count": null,
   "id": "f5febbdc",
   "metadata": {},
   "outputs": [],
   "source": [
    "and >> Returns True if both of the operands are True\n",
    "or >> Return True if any one of the operands is True\n",
    "not >> Return negated logical state of the operand"
   ]
  },
  {
   "cell_type": "code",
   "execution_count": 439,
   "id": "9110cd88",
   "metadata": {},
   "outputs": [
    {
     "data": {
      "text/plain": [
       "False"
      ]
     },
     "execution_count": 439,
     "metadata": {},
     "output_type": "execute_result"
    }
   ],
   "source": [
    "a = 10\n",
    "b = 11\n",
    "c = 20\n",
    "\n",
    "(a > b) and (b < c)"
   ]
  },
  {
   "cell_type": "code",
   "execution_count": 440,
   "id": "fe9d5a89",
   "metadata": {},
   "outputs": [
    {
     "data": {
      "text/plain": [
       "True"
      ]
     },
     "execution_count": 440,
     "metadata": {},
     "output_type": "execute_result"
    }
   ],
   "source": [
    "(a < b) and (b < c)"
   ]
  },
  {
   "cell_type": "code",
   "execution_count": 442,
   "id": "e93bde14",
   "metadata": {},
   "outputs": [
    {
     "data": {
      "text/plain": [
       "True"
      ]
     },
     "execution_count": 442,
     "metadata": {},
     "output_type": "execute_result"
    }
   ],
   "source": [
    "(a > b) or (b < c)"
   ]
  },
  {
   "cell_type": "code",
   "execution_count": 443,
   "id": "16548ba3",
   "metadata": {},
   "outputs": [
    {
     "data": {
      "text/plain": [
       "True"
      ]
     },
     "execution_count": 443,
     "metadata": {},
     "output_type": "execute_result"
    }
   ],
   "source": [
    "(a > b) or (b < c) or (c < a)"
   ]
  },
  {
   "cell_type": "code",
   "execution_count": 444,
   "id": "37290441",
   "metadata": {},
   "outputs": [
    {
     "data": {
      "text/plain": [
       "True"
      ]
     },
     "execution_count": 444,
     "metadata": {},
     "output_type": "execute_result"
    }
   ],
   "source": [
    "not (a > b)"
   ]
  },
  {
   "cell_type": "code",
   "execution_count": null,
   "id": "da300af0",
   "metadata": {},
   "outputs": [],
   "source": [
    "a = 10\n",
    "b = 11\n",
    "c = 20"
   ]
  },
  {
   "cell_type": "code",
   "execution_count": 452,
   "id": "aec4d5ca",
   "metadata": {},
   "outputs": [
    {
     "data": {
      "text/plain": [
       "False"
      ]
     },
     "execution_count": 452,
     "metadata": {},
     "output_type": "execute_result"
    }
   ],
   "source": [
    "not (a > b) and (b > c)"
   ]
  },
  {
   "cell_type": "code",
   "execution_count": 453,
   "id": "b199df85",
   "metadata": {},
   "outputs": [
    {
     "data": {
      "text/plain": [
       "True"
      ]
     },
     "execution_count": 453,
     "metadata": {},
     "output_type": "execute_result"
    }
   ],
   "source": [
    "not ((a > b) and (b > c))"
   ]
  },
  {
   "cell_type": "markdown",
   "id": "a9e29b24",
   "metadata": {},
   "source": [
    "# Membership Operator"
   ]
  },
  {
   "cell_type": "code",
   "execution_count": null,
   "id": "b901595d",
   "metadata": {},
   "outputs": [],
   "source": [
    "in      >> Returns True if the left operand value is present in right operand\n",
    "not in  >> Returns True if the left operand value is not present in right operand"
   ]
  },
  {
   "cell_type": "code",
   "execution_count": 454,
   "id": "c9c65186",
   "metadata": {},
   "outputs": [
    {
     "data": {
      "text/plain": [
       "True"
      ]
     },
     "execution_count": 454,
     "metadata": {},
     "output_type": "execute_result"
    }
   ],
   "source": [
    "a = \"My name is Heman and I am master of universe\"\n",
    "\n",
    "b = \"My\"\n",
    "\n",
    "b in a"
   ]
  },
  {
   "cell_type": "code",
   "execution_count": 455,
   "id": "f16f39ba",
   "metadata": {},
   "outputs": [
    {
     "data": {
      "text/plain": [
       "False"
      ]
     },
     "execution_count": 455,
     "metadata": {},
     "output_type": "execute_result"
    }
   ],
   "source": [
    "c = \"my\"\n",
    "\n",
    "c in a"
   ]
  },
  {
   "cell_type": "code",
   "execution_count": 456,
   "id": "c17bdd27",
   "metadata": {},
   "outputs": [
    {
     "data": {
      "text/plain": [
       "True"
      ]
     },
     "execution_count": 456,
     "metadata": {},
     "output_type": "execute_result"
    }
   ],
   "source": [
    "d = \"Universe\"\n",
    "\n",
    "d not in a"
   ]
  },
  {
   "cell_type": "code",
   "execution_count": 457,
   "id": "eec03922",
   "metadata": {},
   "outputs": [
    {
     "data": {
      "text/plain": [
       "False"
      ]
     },
     "execution_count": 457,
     "metadata": {},
     "output_type": "execute_result"
    }
   ],
   "source": [
    "a = [1,2,3,4,5,6]\n",
    "b = 11\n",
    "\n",
    "b in a"
   ]
  },
  {
   "cell_type": "code",
   "execution_count": 458,
   "id": "4fbb1c92",
   "metadata": {},
   "outputs": [
    {
     "data": {
      "text/plain": [
       "True"
      ]
     },
     "execution_count": 458,
     "metadata": {},
     "output_type": "execute_result"
    }
   ],
   "source": [
    "b not in a"
   ]
  },
  {
   "cell_type": "code",
   "execution_count": 466,
   "id": "38e4f472",
   "metadata": {},
   "outputs": [
    {
     "data": {
      "text/plain": [
       "False"
      ]
     },
     "execution_count": 466,
     "metadata": {},
     "output_type": "execute_result"
    }
   ],
   "source": [
    "a = {\"Name\": \"Mahendra\", \"Surname\":\"Dhoni\", \"Sport\":\"Cricket\"}\n",
    "b = \"Cricket\"\n",
    "\n",
    "b in a"
   ]
  },
  {
   "cell_type": "code",
   "execution_count": 461,
   "id": "f85300c7",
   "metadata": {},
   "outputs": [
    {
     "data": {
      "text/plain": [
       "True"
      ]
     },
     "execution_count": 461,
     "metadata": {},
     "output_type": "execute_result"
    }
   ],
   "source": [
    "c = \"Name\"\n",
    "\n",
    "c in a"
   ]
  },
  {
   "cell_type": "code",
   "execution_count": 467,
   "id": "9f689854",
   "metadata": {},
   "outputs": [
    {
     "data": {
      "text/plain": [
       "True"
      ]
     },
     "execution_count": 467,
     "metadata": {},
     "output_type": "execute_result"
    }
   ],
   "source": [
    "b in a.values()"
   ]
  },
  {
   "cell_type": "markdown",
   "id": "ab06e6b8",
   "metadata": {},
   "source": [
    "# Identity Operator"
   ]
  },
  {
   "cell_type": "code",
   "execution_count": null,
   "id": "34b9ac86",
   "metadata": {},
   "outputs": [],
   "source": [
    "is >> Returns True if the left operand identity is same as that of right"
   ]
  },
  {
   "cell_type": "code",
   "execution_count": 469,
   "id": "52bf9eab",
   "metadata": {},
   "outputs": [
    {
     "name": "stdout",
     "output_type": "stream",
     "text": [
      "ID of a : 2688091226640\n",
      "ID of b : 2688091226640\n"
     ]
    }
   ],
   "source": [
    "a = 10\n",
    "b = 10\n",
    "print(\"ID of a :\",id(a))\n",
    "print(\"ID of b :\",id(b))"
   ]
  },
  {
   "cell_type": "code",
   "execution_count": 470,
   "id": "026b2fe3",
   "metadata": {},
   "outputs": [
    {
     "data": {
      "text/plain": [
       "True"
      ]
     },
     "execution_count": 470,
     "metadata": {},
     "output_type": "execute_result"
    }
   ],
   "source": [
    "a is b"
   ]
  },
  {
   "cell_type": "code",
   "execution_count": 471,
   "id": "dce3429f",
   "metadata": {},
   "outputs": [
    {
     "name": "stdout",
     "output_type": "stream",
     "text": [
      "ID of a : 2688091226640\n",
      "ID of b : 2688200653328\n"
     ]
    }
   ],
   "source": [
    "a = 10\n",
    "b = 10.0\n",
    "print(\"ID of a :\",id(a))\n",
    "print(\"ID of b :\",id(b))"
   ]
  },
  {
   "cell_type": "code",
   "execution_count": 472,
   "id": "8a8013cb",
   "metadata": {},
   "outputs": [
    {
     "data": {
      "text/plain": [
       "False"
      ]
     },
     "execution_count": 472,
     "metadata": {},
     "output_type": "execute_result"
    }
   ],
   "source": [
    "a is b"
   ]
  },
  {
   "cell_type": "code",
   "execution_count": 473,
   "id": "fdcb8537",
   "metadata": {},
   "outputs": [
    {
     "name": "stdout",
     "output_type": "stream",
     "text": [
      "ID of a : 2688091226640\n",
      "ID of b : 2688091226384\n"
     ]
    }
   ],
   "source": [
    "a = 10\n",
    "b = 2\n",
    "print(\"ID of a :\",id(a))\n",
    "print(\"ID of b :\",id(b))"
   ]
  },
  {
   "cell_type": "code",
   "execution_count": null,
   "id": "f50a46c7",
   "metadata": {},
   "outputs": [],
   "source": []
  }
 ],
 "metadata": {
  "kernelspec": {
   "display_name": "Python 3 (ipykernel)",
   "language": "python",
   "name": "python3"
  },
  "language_info": {
   "codemirror_mode": {
    "name": "ipython",
    "version": 3
   },
   "file_extension": ".py",
   "mimetype": "text/x-python",
   "name": "python",
   "nbconvert_exporter": "python",
   "pygments_lexer": "ipython3",
   "version": "3.10.5"
  }
 },
 "nbformat": 4,
 "nbformat_minor": 5
}
