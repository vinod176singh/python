{
 "cells": [
  {
   "cell_type": "markdown",
   "id": "1257da13",
   "metadata": {},
   "source": [
    "## Write a function to add two numbers"
   ]
  },
  {
   "cell_type": "code",
   "execution_count": 1,
   "id": "c395ec6f",
   "metadata": {},
   "outputs": [],
   "source": [
    "def add_num(a,b):\n",
    "    c = a + b\n",
    "    print(c)"
   ]
  },
  {
   "cell_type": "code",
   "execution_count": 2,
   "id": "7422a89b",
   "metadata": {},
   "outputs": [
    {
     "name": "stdout",
     "output_type": "stream",
     "text": [
      "32\n"
     ]
    }
   ],
   "source": [
    "add_num(10,22)"
   ]
  },
  {
   "cell_type": "code",
   "execution_count": 3,
   "id": "b3218d07",
   "metadata": {},
   "outputs": [
    {
     "name": "stdout",
     "output_type": "stream",
     "text": [
      "45\n"
     ]
    }
   ],
   "source": [
    "add_num(10,35)"
   ]
  },
  {
   "cell_type": "code",
   "execution_count": 4,
   "id": "4174e761",
   "metadata": {},
   "outputs": [],
   "source": [
    "def add_three_num(a,b,c):\n",
    "    d = a + b + c\n",
    "    print(d)"
   ]
  },
  {
   "cell_type": "code",
   "execution_count": 5,
   "id": "ed78135d",
   "metadata": {},
   "outputs": [
    {
     "name": "stdout",
     "output_type": "stream",
     "text": [
      "39\n"
     ]
    }
   ],
   "source": [
    "add_three_num(12,13,14)"
   ]
  },
  {
   "cell_type": "markdown",
   "id": "b1ab160c",
   "metadata": {},
   "source": [
    "### Function to take sum of numbers in a list:"
   ]
  },
  {
   "cell_type": "code",
   "execution_count": 7,
   "id": "37243053",
   "metadata": {},
   "outputs": [
    {
     "data": {
      "text/plain": [
       "380"
      ]
     },
     "execution_count": 7,
     "metadata": {},
     "output_type": "execute_result"
    }
   ],
   "source": [
    "lst = [1,2,3,3,22,44,64,78,11,99,20,33]\n",
    "\n",
    "sum(lst)"
   ]
  },
  {
   "cell_type": "code",
   "execution_count": 9,
   "id": "9d000786",
   "metadata": {},
   "outputs": [
    {
     "name": "stdout",
     "output_type": "stream",
     "text": [
      "380\n"
     ]
    }
   ],
   "source": [
    "lst = [1,2,3,3,22,44,64,78,11,99,20,33]\n",
    "\n",
    "total = 0\n",
    "\n",
    "for i in lst:\n",
    "    total = total + i\n",
    "\n",
    "print(total)"
   ]
  },
  {
   "cell_type": "code",
   "execution_count": 15,
   "id": "6d52e45d",
   "metadata": {},
   "outputs": [],
   "source": [
    "def list_sum(a):\n",
    "    tot = 0\n",
    "    for i in a:\n",
    "        tot = tot + i\n",
    "    print(tot)"
   ]
  },
  {
   "cell_type": "code",
   "execution_count": null,
   "id": "b9c2ae2d",
   "metadata": {},
   "outputs": [],
   "source": []
  },
  {
   "cell_type": "code",
   "execution_count": 16,
   "id": "9f648127",
   "metadata": {},
   "outputs": [
    {
     "name": "stdout",
     "output_type": "stream",
     "text": [
      "380\n"
     ]
    }
   ],
   "source": [
    "list_sum(lst)"
   ]
  },
  {
   "cell_type": "code",
   "execution_count": 19,
   "id": "fca81bbb",
   "metadata": {},
   "outputs": [],
   "source": [
    "list2 = [1,2,3,4,5,6,7,8,9,11,2,3,1,3,3423,4556]"
   ]
  },
  {
   "cell_type": "code",
   "execution_count": 20,
   "id": "02824961",
   "metadata": {},
   "outputs": [
    {
     "name": "stdout",
     "output_type": "stream",
     "text": [
      "8044\n"
     ]
    }
   ],
   "source": [
    "list_sum(list2)"
   ]
  },
  {
   "cell_type": "markdown",
   "id": "ec87c802",
   "metadata": {},
   "source": [
    "## Function to filter odd numbers in a list:"
   ]
  },
  {
   "cell_type": "code",
   "execution_count": 21,
   "id": "771c391a",
   "metadata": {},
   "outputs": [
    {
     "name": "stdout",
     "output_type": "stream",
     "text": [
      "[2, 4, 6, 8, 2, 4556]\n"
     ]
    }
   ],
   "source": [
    "list2 = [1,2,3,4,5,6,7,8,9,11,2,3,1,3,3423,4556]\n",
    "list3 = []\n",
    "\n",
    "for i in list2:\n",
    "    if i%2!=0:\n",
    "        pass\n",
    "    else:\n",
    "        list3.append(i)\n",
    "print(list3)"
   ]
  },
  {
   "cell_type": "code",
   "execution_count": 22,
   "id": "9d0e295f",
   "metadata": {},
   "outputs": [],
   "source": [
    "def filter_odd(a):\n",
    "    \n",
    "    list1 = []\n",
    "    \n",
    "    for i in a:\n",
    "        if i%2 == 0:\n",
    "            list1.append(i)\n",
    "        else:\n",
    "            pass\n",
    "    print(list1)"
   ]
  },
  {
   "cell_type": "code",
   "execution_count": 23,
   "id": "c0a8fe92",
   "metadata": {},
   "outputs": [
    {
     "name": "stdout",
     "output_type": "stream",
     "text": [
      "[2, 4, 6, 8, 2, 4556]\n"
     ]
    }
   ],
   "source": [
    "list2 = [1,2,3,4,5,6,7,8,9,11,2,3,1,3,3423,4556]\n",
    "\n",
    "filter_odd(list2)"
   ]
  },
  {
   "cell_type": "code",
   "execution_count": 24,
   "id": "1290b3f4",
   "metadata": {},
   "outputs": [
    {
     "name": "stdout",
     "output_type": "stream",
     "text": [
      "[2, 4, 6, 8, 2, 4556, 234, 534, 2, 234, 56, 4]\n"
     ]
    }
   ],
   "source": [
    "list4 = [1,2,3,4,5,6,7,8,9,11,2,3,1,3,3423,4556,234,23,534,2,234,56,33345,4,45]\n",
    "\n",
    "filter_odd(list4)"
   ]
  },
  {
   "cell_type": "code",
   "execution_count": 25,
   "id": "d8b4f83c",
   "metadata": {},
   "outputs": [],
   "source": [
    "def filter_odd_even(a):\n",
    "    even_list = []\n",
    "    odd_list = []\n",
    "    for i in a:\n",
    "        if i % 2 == 0:\n",
    "            even_list.append(i)\n",
    "        else:\n",
    "            odd_list.append(i)\n",
    "    print(f\"List of Even Numbers :{even_list}\")\n",
    "    print(f\"List of Odd Numbers :{odd_list}\")"
   ]
  },
  {
   "cell_type": "code",
   "execution_count": 26,
   "id": "ab7e487a",
   "metadata": {},
   "outputs": [
    {
     "name": "stdout",
     "output_type": "stream",
     "text": [
      "List of Even Numbers :[2, 4, 6, 8, 2, 4556, 234, 534, 2, 234, 56, 4]\n",
      "List of Odd Numbers :[1, 3, 5, 7, 9, 11, 3, 1, 3, 3423, 23, 33345, 45]\n"
     ]
    }
   ],
   "source": [
    "filter_odd_even(list4)"
   ]
  },
  {
   "cell_type": "code",
   "execution_count": 28,
   "id": "0043a6c5",
   "metadata": {},
   "outputs": [],
   "source": [
    "def filter_odd_even_v2(a):\n",
    "    even_list = [i for i in a if i % 2==0]\n",
    "    odd_list = [i for i in a if i % 2!=0]\n",
    "    print(f\"List of Even Numbers :{even_list}\")\n",
    "    print(f\"List of Odd Numbers :{odd_list}\")"
   ]
  },
  {
   "cell_type": "code",
   "execution_count": 29,
   "id": "11852996",
   "metadata": {},
   "outputs": [
    {
     "name": "stdout",
     "output_type": "stream",
     "text": [
      "List of Even Numbers :[2, 4, 6, 8, 2, 4556, 234, 534, 2, 234, 56, 4]\n",
      "List of Odd Numbers :[1, 3, 5, 7, 9, 11, 3, 1, 3, 3423, 23, 33345, 45]\n"
     ]
    }
   ],
   "source": [
    "filter_odd_even_v2(list4)"
   ]
  },
  {
   "cell_type": "markdown",
   "id": "ab0895c2",
   "metadata": {},
   "source": [
    "### Write a function to replace white spaces by underscore and vice versa"
   ]
  },
  {
   "cell_type": "code",
   "execution_count": 40,
   "id": "ab98e0d7",
   "metadata": {},
   "outputs": [],
   "source": [
    "string = \"Write a function to replace_white_spaces_by underscore and vice versa\""
   ]
  },
  {
   "cell_type": "code",
   "execution_count": 31,
   "id": "470ab703",
   "metadata": {},
   "outputs": [
    {
     "data": {
      "text/plain": [
       "'Write_a_function_to_replace_white_spaces_by_underscore_and_vice_versa'"
      ]
     },
     "execution_count": 31,
     "metadata": {},
     "output_type": "execute_result"
    }
   ],
   "source": [
    "string.replace(\" \",\"_\")"
   ]
  },
  {
   "cell_type": "code",
   "execution_count": 32,
   "id": "5d697937",
   "metadata": {},
   "outputs": [
    {
     "data": {
      "text/plain": [
       "'Write a function to replace white spaces by underscore and vice versa'"
      ]
     },
     "execution_count": 32,
     "metadata": {},
     "output_type": "execute_result"
    }
   ],
   "source": [
    "string.replace(\"_\",\" \")"
   ]
  },
  {
   "cell_type": "code",
   "execution_count": 34,
   "id": "24e9ba36",
   "metadata": {},
   "outputs": [],
   "source": [
    "string = \"Write a function to replace_white_spaces_by underscore and vice versa\"\n",
    "\n",
    "string = string.replace(\"_\",\"*\")"
   ]
  },
  {
   "cell_type": "code",
   "execution_count": 35,
   "id": "6d797552",
   "metadata": {},
   "outputs": [
    {
     "data": {
      "text/plain": [
       "'Write a function to replace*white*spaces*by underscore and vice versa'"
      ]
     },
     "execution_count": 35,
     "metadata": {},
     "output_type": "execute_result"
    }
   ],
   "source": [
    "string"
   ]
  },
  {
   "cell_type": "code",
   "execution_count": 36,
   "id": "abe84b79",
   "metadata": {},
   "outputs": [
    {
     "data": {
      "text/plain": [
       "'Write_a_function_to_replace*white*spaces*by_underscore_and_vice_versa'"
      ]
     },
     "execution_count": 36,
     "metadata": {},
     "output_type": "execute_result"
    }
   ],
   "source": [
    "string = string.replace(\" \",\"_\")\n",
    "string"
   ]
  },
  {
   "cell_type": "code",
   "execution_count": 38,
   "id": "7a9109d4",
   "metadata": {},
   "outputs": [
    {
     "data": {
      "text/plain": [
       "'Write_a_function_to_replace white spaces by_underscore_and_vice_versa'"
      ]
     },
     "execution_count": 38,
     "metadata": {},
     "output_type": "execute_result"
    }
   ],
   "source": [
    "string.replace(\"*\",\" \")"
   ]
  },
  {
   "cell_type": "code",
   "execution_count": 39,
   "id": "a11a62fb",
   "metadata": {},
   "outputs": [],
   "source": [
    "def replace_stuff(a):\n",
    "    a = a.replace(\"_\",\"*\")\n",
    "    a = a.replace(\" \",\"_\")\n",
    "    a = a.replace(\"*\",\" \")\n",
    "    print(a)"
   ]
  },
  {
   "cell_type": "code",
   "execution_count": 41,
   "id": "22762126",
   "metadata": {},
   "outputs": [
    {
     "name": "stdout",
     "output_type": "stream",
     "text": [
      "Write_a_function_to_replace white spaces by_underscore_and_vice_versa\n"
     ]
    }
   ],
   "source": [
    "string = \"Write a function to replace_white_spaces_by underscore and vice versa\"\n",
    "replace_stuff(string)"
   ]
  },
  {
   "cell_type": "code",
   "execution_count": null,
   "id": "056a4376",
   "metadata": {},
   "outputs": [],
   "source": [
    "                1\n",
    "               1 1\n",
    "              1 2 1\n",
    "             1 3 3 1\n",
    "            1 4 6 4 1"
   ]
  },
  {
   "cell_type": "code",
   "execution_count": null,
   "id": "b29a62da",
   "metadata": {},
   "outputs": [],
   "source": [
    "        "
   ]
  }
 ],
 "metadata": {
  "kernelspec": {
   "display_name": "Python 3 (ipykernel)",
   "language": "python",
   "name": "python3"
  },
  "language_info": {
   "codemirror_mode": {
    "name": "ipython",
    "version": 3
   },
   "file_extension": ".py",
   "mimetype": "text/x-python",
   "name": "python",
   "nbconvert_exporter": "python",
   "pygments_lexer": "ipython3",
   "version": "3.10.5"
  }
 },
 "nbformat": 4,
 "nbformat_minor": 5
}
