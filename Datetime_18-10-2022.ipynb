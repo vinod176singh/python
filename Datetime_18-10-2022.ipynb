{
 "cells": [
  {
   "cell_type": "markdown",
   "id": "7bc7d2d7",
   "metadata": {},
   "source": [
    "hours | min | sec | day of month | year | month"
   ]
  },
  {
   "cell_type": "code",
   "execution_count": 3,
   "id": "117122d5",
   "metadata": {},
   "outputs": [],
   "source": [
    "import time\n",
    "import datetime"
   ]
  },
  {
   "cell_type": "code",
   "execution_count": 4,
   "id": "ae33f663",
   "metadata": {},
   "outputs": [
    {
     "data": {
      "text/plain": [
       "datetime.datetime(2022, 10, 18, 8, 0, 14, 275819)"
      ]
     },
     "execution_count": 4,
     "metadata": {},
     "output_type": "execute_result"
    }
   ],
   "source": [
    "datetime.datetime.now()"
   ]
  },
  {
   "cell_type": "code",
   "execution_count": null,
   "id": "9e374cdc",
   "metadata": {},
   "outputs": [],
   "source": [
    "## formats\n",
    "\n",
    "date1 = \"18-10-2022\"\n",
    "date2 = \"18 October 2022\"\n",
    "date3 = \"18 Oct 2022\"\n",
    "date4 = \"18/10/2022\"\n",
    "date5 = \"2022/10/18\"\n",
    "date6 = \"2022-10-18\"\n",
    "date7 = \"2022.10.18\""
   ]
  },
  {
   "cell_type": "markdown",
   "id": "792086fb",
   "metadata": {},
   "source": [
    "## 1. time.time()"
   ]
  },
  {
   "cell_type": "code",
   "execution_count": 9,
   "id": "f3dc8c02",
   "metadata": {},
   "outputs": [
    {
     "name": "stdout",
     "output_type": "stream",
     "text": [
      "Time taken to run the script: 14.780844926834106\n"
     ]
    }
   ],
   "source": [
    "start_time = time.time()\n",
    "for i in range(200000000):\n",
    "    pass\n",
    "\n",
    "end_time = time.time()\n",
    "\n",
    "total_time = end_time - start_time\n",
    "print(f\"Time taken to run the script: {total_time}\")"
   ]
  },
  {
   "cell_type": "markdown",
   "id": "45d0331e",
   "metadata": {},
   "source": [
    "## 2. time.sleep()"
   ]
  },
  {
   "cell_type": "code",
   "execution_count": 11,
   "id": "ecb58a1b",
   "metadata": {},
   "outputs": [
    {
     "name": "stdout",
     "output_type": "stream",
     "text": [
      "Hi there!\n",
      "Just Woke up!\n",
      "Feel like I should sleep again!\n"
     ]
    }
   ],
   "source": [
    "print(\"Hi there!\")\n",
    "time.sleep(3)\n",
    "print(\"Just Woke up!\")\n",
    "time.sleep(10)\n",
    "print(\"Feel like I should sleep again!\")"
   ]
  },
  {
   "cell_type": "code",
   "execution_count": null,
   "id": "c0c4bdf0",
   "metadata": {},
   "outputs": [],
   "source": [
    "start_time = time.time()\n",
    "for i in range(200000000):\n",
    "    pass\n",
    "\n",
    "end_time = time.time()\n",
    "\n",
    "total_time = end_time - start_time\n",
    "print(f\"Time taken to run the script: {total_time}\")"
   ]
  },
  {
   "cell_type": "markdown",
   "id": "5ae4a68f",
   "metadata": {},
   "source": [
    "## 2. time.perf_counter()"
   ]
  },
  {
   "cell_type": "code",
   "execution_count": 15,
   "id": "ec02f2bc",
   "metadata": {},
   "outputs": [
    {
     "name": "stdout",
     "output_type": "stream",
     "text": [
      "Running time module test script\n",
      "Running time module test script\n",
      "Time taken to run the script 8.072866600006819\n"
     ]
    }
   ],
   "source": [
    "def test_run():\n",
    "    print(\"Running time module test script\")\n",
    "    for i in range(100000000):\n",
    "        pass\n",
    "\n",
    "start_time = time.perf_counter()\n",
    "\n",
    "test_run()\n",
    "test_run()\n",
    "\n",
    "total_time = time.perf_counter() - start_time\n",
    "\n",
    "print(\"Time taken to run the script\", total_time)"
   ]
  },
  {
   "cell_type": "markdown",
   "id": "3f774acf",
   "metadata": {},
   "source": [
    "# Datetime"
   ]
  },
  {
   "cell_type": "code",
   "execution_count": null,
   "id": "43c04f58",
   "metadata": {},
   "outputs": [],
   "source": []
  }
 ],
 "metadata": {
  "kernelspec": {
   "display_name": "Python 3 (ipykernel)",
   "language": "python",
   "name": "python3"
  },
  "language_info": {
   "codemirror_mode": {
    "name": "ipython",
    "version": 3
   },
   "file_extension": ".py",
   "mimetype": "text/x-python",
   "name": "python",
   "nbconvert_exporter": "python",
   "pygments_lexer": "ipython3",
   "version": "3.10.5"
  }
 },
 "nbformat": 4,
 "nbformat_minor": 5
}
