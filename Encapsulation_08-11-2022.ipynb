{
 "cells": [
  {
   "cell_type": "markdown",
   "id": "24898c52",
   "metadata": {},
   "source": [
    "Generally Class variables can be changed (Manupulated)"
   ]
  },
  {
   "cell_type": "code",
   "execution_count": 1,
   "id": "08c83fc2",
   "metadata": {},
   "outputs": [],
   "source": [
    "class Test_class():\n",
    "    var = \"Python\" ## Public Variable\n",
    "    \n",
    "    def __init__(self):\n",
    "        print(\"INIT is invoked since an instance of class Test_class has been created!\")"
   ]
  },
  {
   "cell_type": "code",
   "execution_count": 2,
   "id": "74ab5ad0",
   "metadata": {},
   "outputs": [
    {
     "name": "stdout",
     "output_type": "stream",
     "text": [
      "INIT is invoked since an instance of class Test_class has been created!\n"
     ]
    }
   ],
   "source": [
    "t1 = Test_class()"
   ]
  },
  {
   "cell_type": "code",
   "execution_count": 3,
   "id": "ef9f55c2",
   "metadata": {},
   "outputs": [
    {
     "data": {
      "text/plain": [
       "'Python'"
      ]
     },
     "execution_count": 3,
     "metadata": {},
     "output_type": "execute_result"
    }
   ],
   "source": [
    "t1.var"
   ]
  },
  {
   "cell_type": "code",
   "execution_count": 4,
   "id": "c6b7350e",
   "metadata": {},
   "outputs": [],
   "source": [
    "t1.var = \"Machine Learning\""
   ]
  },
  {
   "cell_type": "code",
   "execution_count": 5,
   "id": "3ce53f6e",
   "metadata": {},
   "outputs": [
    {
     "data": {
      "text/plain": [
       "'Machine Learning'"
      ]
     },
     "execution_count": 5,
     "metadata": {},
     "output_type": "execute_result"
    }
   ],
   "source": [
    "t1.var"
   ]
  },
  {
   "cell_type": "code",
   "execution_count": 12,
   "id": "6d9361e3",
   "metadata": {},
   "outputs": [],
   "source": [
    "class Test_class():\n",
    "    __var1 = \"Python\"  ## Private Variable\n",
    "    \n",
    "    def __init__(self):\n",
    "        print(\"INIT is invoked since an instance of class Test_class has been created!\")\n",
    "        print(\"The protected Variable is : \", self.__var1)"
   ]
  },
  {
   "cell_type": "code",
   "execution_count": 13,
   "id": "4d04c1a5",
   "metadata": {},
   "outputs": [
    {
     "name": "stdout",
     "output_type": "stream",
     "text": [
      "INIT is invoked since an instance of class Test_class has been created!\n",
      "The protected Variable is :  Python\n"
     ]
    }
   ],
   "source": [
    "t2 = Test_class()"
   ]
  },
  {
   "cell_type": "code",
   "execution_count": 14,
   "id": "8a9ee7d9",
   "metadata": {},
   "outputs": [
    {
     "ename": "AttributeError",
     "evalue": "'Test_class' object has no attribute 'var1'",
     "output_type": "error",
     "traceback": [
      "\u001b[1;31m---------------------------------------------------------------------------\u001b[0m",
      "\u001b[1;31mAttributeError\u001b[0m                            Traceback (most recent call last)",
      "Input \u001b[1;32mIn [14]\u001b[0m, in \u001b[0;36m<cell line: 1>\u001b[1;34m()\u001b[0m\n\u001b[1;32m----> 1\u001b[0m \u001b[43mt2\u001b[49m\u001b[38;5;241;43m.\u001b[39;49m\u001b[43mvar1\u001b[49m\n",
      "\u001b[1;31mAttributeError\u001b[0m: 'Test_class' object has no attribute 'var1'"
     ]
    }
   ],
   "source": [
    "t2.var1"
   ]
  },
  {
   "cell_type": "code",
   "execution_count": 15,
   "id": "e195737f",
   "metadata": {},
   "outputs": [
    {
     "ename": "AttributeError",
     "evalue": "'Test_class' object has no attribute '__var1'",
     "output_type": "error",
     "traceback": [
      "\u001b[1;31m---------------------------------------------------------------------------\u001b[0m",
      "\u001b[1;31mAttributeError\u001b[0m                            Traceback (most recent call last)",
      "Input \u001b[1;32mIn [15]\u001b[0m, in \u001b[0;36m<cell line: 1>\u001b[1;34m()\u001b[0m\n\u001b[1;32m----> 1\u001b[0m \u001b[43mt2\u001b[49m\u001b[38;5;241;43m.\u001b[39;49m\u001b[43m__var1\u001b[49m\n",
      "\u001b[1;31mAttributeError\u001b[0m: 'Test_class' object has no attribute '__var1'"
     ]
    }
   ],
   "source": [
    "t2.__var1"
   ]
  },
  {
   "cell_type": "markdown",
   "id": "b3b6c5df",
   "metadata": {},
   "source": [
    "## Encapsulation"
   ]
  },
  {
   "cell_type": "code",
   "execution_count": null,
   "id": "540389fe",
   "metadata": {},
   "outputs": [],
   "source": [
    "1. Used to restrict an access of methods and variables from outside the class\n",
    "2. This is done so that these methods aor variables are not manupulated accidently "
   ]
  },
  {
   "cell_type": "code",
   "execution_count": 16,
   "id": "ef67fd0f",
   "metadata": {},
   "outputs": [],
   "source": [
    "class Test_class():\n",
    "    var = \"Python\"         ## Public Variable\n",
    "    \n",
    "    def __init__(self):\n",
    "        print(\"INIT is invoked since an instance of class Test_class has been created!\")"
   ]
  },
  {
   "cell_type": "code",
   "execution_count": 17,
   "id": "195ef99b",
   "metadata": {},
   "outputs": [
    {
     "name": "stdout",
     "output_type": "stream",
     "text": [
      "INIT is invoked since an instance of class Test_class has been created!\n"
     ]
    }
   ],
   "source": [
    "test_class = Test_class()"
   ]
  },
  {
   "cell_type": "code",
   "execution_count": 18,
   "id": "d6f0cc17",
   "metadata": {},
   "outputs": [
    {
     "data": {
      "text/plain": [
       "'Python'"
      ]
     },
     "execution_count": 18,
     "metadata": {},
     "output_type": "execute_result"
    }
   ],
   "source": [
    "test_class.var  ## Accessing the variable"
   ]
  },
  {
   "cell_type": "code",
   "execution_count": 19,
   "id": "1ed255fa",
   "metadata": {},
   "outputs": [],
   "source": [
    "test_class.var = \"Machine Learning\"  ## Changing the variable"
   ]
  },
  {
   "cell_type": "code",
   "execution_count": 20,
   "id": "77139fd6",
   "metadata": {},
   "outputs": [
    {
     "name": "stdout",
     "output_type": "stream",
     "text": [
      "Machine Learning\n"
     ]
    }
   ],
   "source": [
    "print(test_class.var)  ## Variable has been changed"
   ]
  },
  {
   "cell_type": "code",
   "execution_count": 21,
   "id": "51119957",
   "metadata": {},
   "outputs": [],
   "source": [
    "### To avoid such changes in variable let's use encapsulation\n",
    "\n",
    "class Test_class():\n",
    "    __var = \"Python\"         ## Private Variable\n",
    "    \n",
    "    def __init__(self):\n",
    "        print(\"INIT is invoked since an instance of class Test_class has been created!\")\n",
    "        print(\"Private Class Variable : \", self.__var)  ## Accessing variable within the class"
   ]
  },
  {
   "cell_type": "code",
   "execution_count": 22,
   "id": "69737f44",
   "metadata": {},
   "outputs": [
    {
     "name": "stdout",
     "output_type": "stream",
     "text": [
      "INIT is invoked since an instance of class Test_class has been created!\n",
      "Private Class Variable :  Python\n"
     ]
    }
   ],
   "source": [
    "test2 = Test_class()"
   ]
  },
  {
   "cell_type": "code",
   "execution_count": 23,
   "id": "7a44b31c",
   "metadata": {},
   "outputs": [
    {
     "ename": "AttributeError",
     "evalue": "'Test_class' object has no attribute '__var'",
     "output_type": "error",
     "traceback": [
      "\u001b[1;31m---------------------------------------------------------------------------\u001b[0m",
      "\u001b[1;31mAttributeError\u001b[0m                            Traceback (most recent call last)",
      "Input \u001b[1;32mIn [23]\u001b[0m, in \u001b[0;36m<cell line: 3>\u001b[1;34m()\u001b[0m\n\u001b[0;32m      1\u001b[0m \u001b[38;5;66;03m## Let's try to access private avriable from outside\u001b[39;00m\n\u001b[1;32m----> 3\u001b[0m \u001b[38;5;28mprint\u001b[39m(\u001b[43mtest2\u001b[49m\u001b[38;5;241;43m.\u001b[39;49m\u001b[43m__var\u001b[49m)\n",
      "\u001b[1;31mAttributeError\u001b[0m: 'Test_class' object has no attribute '__var'"
     ]
    }
   ],
   "source": [
    "## Let's try to access private avriable from outside\n",
    "\n",
    "print(test2.__var)"
   ]
  },
  {
   "cell_type": "markdown",
   "id": "f6d380bf",
   "metadata": {},
   "source": [
    "### Method Encapsulation"
   ]
  },
  {
   "cell_type": "code",
   "execution_count": 24,
   "id": "f14b4a8d",
   "metadata": {},
   "outputs": [],
   "source": [
    "class Employee():\n",
    "    def __init__(self, name, surname, employer, id_):\n",
    "        self.name = name\n",
    "        self.surname = surname\n",
    "        self.employer = employer\n",
    "        self.id_ = id_\n",
    "        \n",
    "    def display_details(self):\n",
    "        print(\"Full Name: \", self.name + \" \" + self.surname)\n",
    "        print(\"Employer: \", self.employer)\n",
    "        print(\"Employee Id: \", self.id_)"
   ]
  },
  {
   "cell_type": "code",
   "execution_count": 25,
   "id": "4cf521d0",
   "metadata": {},
   "outputs": [
    {
     "name": "stdout",
     "output_type": "stream",
     "text": [
      "Full Name:  Rajesh Kale\n",
      "Employer:  TCS\n",
      "Employee Id:  TCS112233\n"
     ]
    }
   ],
   "source": [
    "emp1 = Employee(\"Rajesh\",\"Kale\", \"TCS\",\"TCS112233\")\n",
    "\n",
    "emp1.display_details()"
   ]
  },
  {
   "cell_type": "code",
   "execution_count": 26,
   "id": "f92eeb07",
   "metadata": {},
   "outputs": [],
   "source": [
    "class Employee():\n",
    "    def __init__(self, name, surname, employer, id_):\n",
    "        self.name = name\n",
    "        self.surname = surname\n",
    "        self.employer = employer\n",
    "        self.id_ = id_\n",
    "        \n",
    "    def __display_details(self):\n",
    "        print(\"Full Name: \", self.name + \" \" + self.surname)\n",
    "        print(\"Employer: \", self.employer)\n",
    "        print(\"Employee Id: \", self.id_)"
   ]
  },
  {
   "cell_type": "code",
   "execution_count": 27,
   "id": "a185e32d",
   "metadata": {},
   "outputs": [
    {
     "ename": "AttributeError",
     "evalue": "'Employee' object has no attribute '__display_details'",
     "output_type": "error",
     "traceback": [
      "\u001b[1;31m---------------------------------------------------------------------------\u001b[0m",
      "\u001b[1;31mAttributeError\u001b[0m                            Traceback (most recent call last)",
      "Input \u001b[1;32mIn [27]\u001b[0m, in \u001b[0;36m<cell line: 2>\u001b[1;34m()\u001b[0m\n\u001b[0;32m      1\u001b[0m emp2 \u001b[38;5;241m=\u001b[39m Employee(\u001b[38;5;124m\"\u001b[39m\u001b[38;5;124mAniket\u001b[39m\u001b[38;5;124m\"\u001b[39m,\u001b[38;5;124m\"\u001b[39m\u001b[38;5;124mKale\u001b[39m\u001b[38;5;124m\"\u001b[39m,\u001b[38;5;124m\"\u001b[39m\u001b[38;5;124mCapgemini\u001b[39m\u001b[38;5;124m\"\u001b[39m,\u001b[38;5;124m\"\u001b[39m\u001b[38;5;124mCPGM12345\u001b[39m\u001b[38;5;124m\"\u001b[39m)\n\u001b[1;32m----> 2\u001b[0m \u001b[43memp2\u001b[49m\u001b[38;5;241;43m.\u001b[39;49m\u001b[43m__display_details\u001b[49m()\n",
      "\u001b[1;31mAttributeError\u001b[0m: 'Employee' object has no attribute '__display_details'"
     ]
    }
   ],
   "source": [
    "emp2 = Employee(\"Aniket\",\"Kale\",\"Capgemini\",\"CPGM12345\")\n",
    "emp2.__display_details()"
   ]
  },
  {
   "cell_type": "code",
   "execution_count": 28,
   "id": "e2d226db",
   "metadata": {},
   "outputs": [],
   "source": [
    "class Employee():\n",
    "    def __init__(self, name, surname, employer, id_):\n",
    "        self.name = name\n",
    "        self.surname = surname\n",
    "        self.employer = employer\n",
    "        self.id_ = id_\n",
    "        \n",
    "    def __display_details(self):\n",
    "        print(\"Full Name: \", self.name + \" \" + self.surname)\n",
    "        print(\"Employer: \", self.employer)\n",
    "        print(\"Employee Id: \", self.id_)\n",
    "        \n",
    "    def get_employee_details(self):\n",
    "        self.__display_details()"
   ]
  },
  {
   "cell_type": "code",
   "execution_count": 29,
   "id": "5f05ff0b",
   "metadata": {},
   "outputs": [],
   "source": [
    "emp3 = Employee(\"Pawan\",\"Patil\",\"Congizant\", \"COZ123455\")"
   ]
  },
  {
   "cell_type": "code",
   "execution_count": 30,
   "id": "32e03f2a",
   "metadata": {},
   "outputs": [
    {
     "ename": "AttributeError",
     "evalue": "'Employee' object has no attribute '__display_details'",
     "output_type": "error",
     "traceback": [
      "\u001b[1;31m---------------------------------------------------------------------------\u001b[0m",
      "\u001b[1;31mAttributeError\u001b[0m                            Traceback (most recent call last)",
      "Input \u001b[1;32mIn [30]\u001b[0m, in \u001b[0;36m<cell line: 1>\u001b[1;34m()\u001b[0m\n\u001b[1;32m----> 1\u001b[0m \u001b[43memp3\u001b[49m\u001b[38;5;241;43m.\u001b[39;49m\u001b[43m__display_details\u001b[49m()\n",
      "\u001b[1;31mAttributeError\u001b[0m: 'Employee' object has no attribute '__display_details'"
     ]
    }
   ],
   "source": [
    "emp3.__display_details()"
   ]
  },
  {
   "cell_type": "code",
   "execution_count": 31,
   "id": "f3096739",
   "metadata": {},
   "outputs": [
    {
     "name": "stdout",
     "output_type": "stream",
     "text": [
      "Full Name:  Pawan Patil\n",
      "Employer:  Congizant\n",
      "Employee Id:  COZ123455\n"
     ]
    }
   ],
   "source": [
    "emp3.get_employee_details()"
   ]
  },
  {
   "cell_type": "code",
   "execution_count": null,
   "id": "5ac5b5da",
   "metadata": {},
   "outputs": [],
   "source": []
  }
 ],
 "metadata": {
  "kernelspec": {
   "display_name": "Python 3 (ipykernel)",
   "language": "python",
   "name": "python3"
  },
  "language_info": {
   "codemirror_mode": {
    "name": "ipython",
    "version": 3
   },
   "file_extension": ".py",
   "mimetype": "text/x-python",
   "name": "python",
   "nbconvert_exporter": "python",
   "pygments_lexer": "ipython3",
   "version": "3.10.5"
  }
 },
 "nbformat": 4,
 "nbformat_minor": 5
}
