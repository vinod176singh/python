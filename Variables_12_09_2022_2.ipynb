{
 "cells": [
  {
   "cell_type": "code",
   "execution_count": null,
   "id": "54dd5502",
   "metadata": {},
   "outputs": [],
   "source": [
    "a = 10 # type int\n",
    "a = 10.2 # type Float\n",
    "a = [1,2,3,4] # type List\n",
    "a = {\"Name\":\"Rohit\",\"Surname\":\"Sharma\"} #tyep dict\n",
    "a = (1,2,3,4) # Type tuple\n",
    "a = {1,2,3,4} #type set\n",
    "a = \"Name\" #type string"
   ]
  },
  {
   "cell_type": "markdown",
   "id": "46ab74f1",
   "metadata": {},
   "source": [
    "# Type of Variable"
   ]
  },
  {
   "cell_type": "code",
   "execution_count": null,
   "id": "51ebe4be",
   "metadata": {},
   "outputs": [],
   "source": [
    "1. Global Variable: \n",
    "    1. Variable that are declared outside function\n",
    "    2. We can access global variable from inside or outside of the function\n",
    "2. Local Variable:\n",
    "    1. Variables that are declared inside the function\n",
    "    2. We cannot access variable that are declared inside the function from outside"
   ]
  },
  {
   "cell_type": "code",
   "execution_count": 1,
   "id": "cad3b61a",
   "metadata": {},
   "outputs": [],
   "source": [
    "def add(a,b):\n",
    "    addition = a + b\n",
    "    \n",
    "    return addition\n",
    "\n",
    "e = 11"
   ]
  },
  {
   "cell_type": "code",
   "execution_count": 2,
   "id": "f148da3e",
   "metadata": {},
   "outputs": [],
   "source": [
    "c = 10\n",
    "d = 11\n",
    "e = add(c,d)"
   ]
  },
  {
   "cell_type": "code",
   "execution_count": 3,
   "id": "e483c538",
   "metadata": {},
   "outputs": [
    {
     "name": "stdout",
     "output_type": "stream",
     "text": [
      "21\n"
     ]
    }
   ],
   "source": [
    "print(e)"
   ]
  },
  {
   "cell_type": "code",
   "execution_count": 4,
   "id": "4dd89f7c",
   "metadata": {},
   "outputs": [
    {
     "name": "stdout",
     "output_type": "stream",
     "text": [
      "21\n"
     ]
    }
   ],
   "source": [
    "print(e)"
   ]
  },
  {
   "cell_type": "code",
   "execution_count": 5,
   "id": "129fa81c",
   "metadata": {},
   "outputs": [
    {
     "data": {
      "text/plain": [
       "21"
      ]
     },
     "execution_count": 5,
     "metadata": {},
     "output_type": "execute_result"
    }
   ],
   "source": [
    "add(c,d) # Jupyter Notebook's output"
   ]
  },
  {
   "cell_type": "code",
   "execution_count": 6,
   "id": "d4f7591b",
   "metadata": {},
   "outputs": [],
   "source": [
    "def sub(a,b):\n",
    "    substraction = a - b\n",
    "    return substraction"
   ]
  },
  {
   "cell_type": "code",
   "execution_count": 7,
   "id": "4c59ca21",
   "metadata": {},
   "outputs": [
    {
     "data": {
      "text/plain": [
       "10"
      ]
     },
     "execution_count": 7,
     "metadata": {},
     "output_type": "execute_result"
    }
   ],
   "source": [
    "sub(20,10)"
   ]
  },
  {
   "cell_type": "code",
   "execution_count": 8,
   "id": "52d5c767",
   "metadata": {},
   "outputs": [
    {
     "data": {
      "text/plain": [
       "-44"
      ]
     },
     "execution_count": 8,
     "metadata": {},
     "output_type": "execute_result"
    }
   ],
   "source": [
    "sub(11,55)"
   ]
  },
  {
   "cell_type": "markdown",
   "id": "3b540a4c",
   "metadata": {},
   "source": [
    "### Global Variable"
   ]
  },
  {
   "cell_type": "code",
   "execution_count": 9,
   "id": "cf14dcc8",
   "metadata": {},
   "outputs": [],
   "source": [
    "num_1 = 10\n",
    "num_2 = 20"
   ]
  },
  {
   "cell_type": "code",
   "execution_count": 10,
   "id": "b68fec37",
   "metadata": {},
   "outputs": [],
   "source": [
    "def add_num(a):\n",
    "    add = a + 100\n",
    "    return add"
   ]
  },
  {
   "cell_type": "code",
   "execution_count": 11,
   "id": "0f4c9feb",
   "metadata": {},
   "outputs": [
    {
     "data": {
      "text/plain": [
       "110"
      ]
     },
     "execution_count": 11,
     "metadata": {},
     "output_type": "execute_result"
    }
   ],
   "source": [
    "add_num(num_1)"
   ]
  },
  {
   "cell_type": "code",
   "execution_count": 24,
   "id": "8e19592d",
   "metadata": {},
   "outputs": [],
   "source": [
    "def add_num(a):  # New defination\n",
    "    add = a + num_2 # Accessing num_2 inside the function\n",
    "    return add"
   ]
  },
  {
   "cell_type": "code",
   "execution_count": 13,
   "id": "8c67f3f0",
   "metadata": {},
   "outputs": [
    {
     "data": {
      "text/plain": [
       "30"
      ]
     },
     "execution_count": 13,
     "metadata": {},
     "output_type": "execute_result"
    }
   ],
   "source": [
    "add_num(num_1)"
   ]
  },
  {
   "cell_type": "code",
   "execution_count": 25,
   "id": "fc1164da",
   "metadata": {},
   "outputs": [
    {
     "data": {
      "text/plain": [
       "40"
      ]
     },
     "execution_count": 25,
     "metadata": {},
     "output_type": "execute_result"
    }
   ],
   "source": [
    "add_num(num_2)"
   ]
  },
  {
   "cell_type": "code",
   "execution_count": 14,
   "id": "84b58327",
   "metadata": {},
   "outputs": [
    {
     "data": {
      "text/plain": [
       "20"
      ]
     },
     "execution_count": 14,
     "metadata": {},
     "output_type": "execute_result"
    }
   ],
   "source": [
    "num_2 # Accessing outside the function"
   ]
  },
  {
   "cell_type": "markdown",
   "id": "d1ecdd90",
   "metadata": {},
   "source": [
    "## Local Variable"
   ]
  },
  {
   "cell_type": "code",
   "execution_count": 15,
   "id": "0850137d",
   "metadata": {},
   "outputs": [],
   "source": [
    "num_1 = 10\n",
    "num_2 = 20"
   ]
  },
  {
   "cell_type": "code",
   "execution_count": 23,
   "id": "b63b13d7",
   "metadata": {},
   "outputs": [],
   "source": [
    "def add_num(b):\n",
    "    add = b + 100\n",
    "    return add"
   ]
  },
  {
   "cell_type": "code",
   "execution_count": 17,
   "id": "d499a0c6",
   "metadata": {},
   "outputs": [
    {
     "data": {
      "text/plain": [
       "110"
      ]
     },
     "execution_count": 17,
     "metadata": {},
     "output_type": "execute_result"
    }
   ],
   "source": [
    "add_num(num_1)"
   ]
  },
  {
   "cell_type": "code",
   "execution_count": 18,
   "id": "470e22f2",
   "metadata": {},
   "outputs": [
    {
     "data": {
      "text/plain": [
       "<function __main__.add(a, b)>"
      ]
     },
     "execution_count": 18,
     "metadata": {},
     "output_type": "execute_result"
    }
   ],
   "source": [
    "add"
   ]
  },
  {
   "cell_type": "code",
   "execution_count": 20,
   "id": "d75d1a05",
   "metadata": {},
   "outputs": [],
   "source": [
    "def add_num(a):\n",
    "    add_1 = a + 100\n",
    "    return add_1"
   ]
  },
  {
   "cell_type": "code",
   "execution_count": 21,
   "id": "3fcc651c",
   "metadata": {},
   "outputs": [
    {
     "data": {
      "text/plain": [
       "122"
      ]
     },
     "execution_count": 21,
     "metadata": {},
     "output_type": "execute_result"
    }
   ],
   "source": [
    "add_num(22)"
   ]
  },
  {
   "cell_type": "code",
   "execution_count": 22,
   "id": "6febdbf4",
   "metadata": {},
   "outputs": [
    {
     "ename": "NameError",
     "evalue": "name 'add_1' is not defined",
     "output_type": "error",
     "traceback": [
      "\u001b[1;31m---------------------------------------------------------------------------\u001b[0m",
      "\u001b[1;31mNameError\u001b[0m                                 Traceback (most recent call last)",
      "Input \u001b[1;32mIn [22]\u001b[0m, in \u001b[0;36m<cell line: 1>\u001b[1;34m()\u001b[0m\n\u001b[1;32m----> 1\u001b[0m \u001b[38;5;28mprint\u001b[39m(\u001b[43madd_1\u001b[49m)\n",
      "\u001b[1;31mNameError\u001b[0m: name 'add_1' is not defined"
     ]
    }
   ],
   "source": [
    "print(add_1) ## Accessing add_1 from outside"
   ]
  },
  {
   "cell_type": "code",
   "execution_count": 26,
   "id": "d1eff6ba",
   "metadata": {},
   "outputs": [],
   "source": [
    "def add_num(a):\n",
    "    add_1 = a + 100\n",
    "    add_2 = add_1 + 2  ## Accessing add_1 inside the function\n",
    "    print(\"add_1: \", add_1)\n",
    "    print(\"add_2: \", add_2)\n",
    "    return add_1"
   ]
  },
  {
   "cell_type": "code",
   "execution_count": 27,
   "id": "37f6b634",
   "metadata": {},
   "outputs": [
    {
     "name": "stdout",
     "output_type": "stream",
     "text": [
      "add_1:  133\n",
      "add_2:  135\n"
     ]
    },
    {
     "data": {
      "text/plain": [
       "133"
      ]
     },
     "execution_count": 27,
     "metadata": {},
     "output_type": "execute_result"
    }
   ],
   "source": [
    "add_num(33)"
   ]
  },
  {
   "cell_type": "code",
   "execution_count": 29,
   "id": "42f39a87",
   "metadata": {},
   "outputs": [
    {
     "ename": "NameError",
     "evalue": "name 'add_1' is not defined",
     "output_type": "error",
     "traceback": [
      "\u001b[1;31m---------------------------------------------------------------------------\u001b[0m",
      "\u001b[1;31mNameError\u001b[0m                                 Traceback (most recent call last)",
      "Input \u001b[1;32mIn [29]\u001b[0m, in \u001b[0;36m<cell line: 1>\u001b[1;34m()\u001b[0m\n\u001b[1;32m----> 1\u001b[0m \u001b[38;5;28mprint\u001b[39m(\u001b[38;5;124m\"\u001b[39m\u001b[38;5;124madd_1: \u001b[39m\u001b[38;5;124m\"\u001b[39m, \u001b[43madd_1\u001b[49m)\n",
      "\u001b[1;31mNameError\u001b[0m: name 'add_1' is not defined"
     ]
    }
   ],
   "source": [
    "print(\"add_1: \", add_1) # Local variable can be printed inside the fuction but not outside"
   ]
  },
  {
   "cell_type": "markdown",
   "id": "03ec67b7",
   "metadata": {},
   "source": [
    "# Assigning multiple values to multiple variables"
   ]
  },
  {
   "cell_type": "code",
   "execution_count": 30,
   "id": "8c3506a7",
   "metadata": {},
   "outputs": [],
   "source": [
    "a = 10\n",
    "b = 20\n",
    "c = 30\n",
    "d = 40"
   ]
  },
  {
   "cell_type": "code",
   "execution_count": 31,
   "id": "94f68d1b",
   "metadata": {},
   "outputs": [
    {
     "name": "stdout",
     "output_type": "stream",
     "text": [
      "a =  10\n",
      "b =  20\n",
      "c =  30\n"
     ]
    }
   ],
   "source": [
    "print(\"a = \",a)\n",
    "print(\"b = \",b)\n",
    "print(\"c = \",c)"
   ]
  },
  {
   "cell_type": "code",
   "execution_count": 33,
   "id": "224a2938",
   "metadata": {},
   "outputs": [],
   "source": [
    "a,b,c,d = 11,22,33,44"
   ]
  },
  {
   "cell_type": "code",
   "execution_count": 34,
   "id": "77505b57",
   "metadata": {},
   "outputs": [
    {
     "name": "stdout",
     "output_type": "stream",
     "text": [
      "a =  11\n",
      "b =  22\n",
      "c =  33\n"
     ]
    }
   ],
   "source": [
    "print(\"a = \",a)\n",
    "print(\"b = \",b)\n",
    "print(\"c = \",c)"
   ]
  },
  {
   "cell_type": "code",
   "execution_count": 35,
   "id": "6311712a",
   "metadata": {},
   "outputs": [],
   "source": [
    "a,b,c,d = \"11\",12,\"12.5\",13"
   ]
  },
  {
   "cell_type": "code",
   "execution_count": 36,
   "id": "de33af5f",
   "metadata": {},
   "outputs": [
    {
     "name": "stdout",
     "output_type": "stream",
     "text": [
      "a =  11\n",
      "b =  12\n",
      "c =  12.5\n"
     ]
    }
   ],
   "source": [
    "print(\"a = \",a)\n",
    "print(\"b = \",b)\n",
    "print(\"c = \",c)"
   ]
  },
  {
   "cell_type": "code",
   "execution_count": 37,
   "id": "2e59b935",
   "metadata": {},
   "outputs": [],
   "source": [
    "a,b,c,d,e = \"11\",12,\"12.5\",13,\"Name\""
   ]
  },
  {
   "cell_type": "code",
   "execution_count": 38,
   "id": "01079593",
   "metadata": {},
   "outputs": [
    {
     "name": "stdout",
     "output_type": "stream",
     "text": [
      "a =  11\n",
      "b =  12\n",
      "c =  12.5\n",
      "d =  13\n",
      "e =  Name\n"
     ]
    }
   ],
   "source": [
    "print(\"a = \",a)\n",
    "print(\"b = \",b)\n",
    "print(\"c = \",c)\n",
    "print(\"d = \",d)\n",
    "print(\"e = \",e)"
   ]
  },
  {
   "cell_type": "code",
   "execution_count": 39,
   "id": "1a46ae83",
   "metadata": {},
   "outputs": [
    {
     "ename": "ValueError",
     "evalue": "not enough values to unpack (expected 5, got 4)",
     "output_type": "error",
     "traceback": [
      "\u001b[1;31m---------------------------------------------------------------------------\u001b[0m",
      "\u001b[1;31mValueError\u001b[0m                                Traceback (most recent call last)",
      "Input \u001b[1;32mIn [39]\u001b[0m, in \u001b[0;36m<cell line: 1>\u001b[1;34m()\u001b[0m\n\u001b[1;32m----> 1\u001b[0m a,b,c,d,e \u001b[38;5;241m=\u001b[39m \u001b[38;5;124m\"\u001b[39m\u001b[38;5;124m11\u001b[39m\u001b[38;5;124m\"\u001b[39m,\u001b[38;5;241m12\u001b[39m,\u001b[38;5;124m\"\u001b[39m\u001b[38;5;124m12.5\u001b[39m\u001b[38;5;124m\"\u001b[39m,\u001b[38;5;241m13\u001b[39m\n",
      "\u001b[1;31mValueError\u001b[0m: not enough values to unpack (expected 5, got 4)"
     ]
    }
   ],
   "source": [
    "a,b,c,d,e = \"11\",12,\"12.5\",13  # We  haven't set value for e"
   ]
  },
  {
   "cell_type": "code",
   "execution_count": 40,
   "id": "58812f33",
   "metadata": {},
   "outputs": [
    {
     "ename": "ValueError",
     "evalue": "too many values to unpack (expected 3)",
     "output_type": "error",
     "traceback": [
      "\u001b[1;31m---------------------------------------------------------------------------\u001b[0m",
      "\u001b[1;31mValueError\u001b[0m                                Traceback (most recent call last)",
      "Input \u001b[1;32mIn [40]\u001b[0m, in \u001b[0;36m<cell line: 1>\u001b[1;34m()\u001b[0m\n\u001b[1;32m----> 1\u001b[0m a,b,c, \u001b[38;5;241m=\u001b[39m \u001b[38;5;124m\"\u001b[39m\u001b[38;5;124m11\u001b[39m\u001b[38;5;124m\"\u001b[39m,\u001b[38;5;241m12\u001b[39m,\u001b[38;5;124m\"\u001b[39m\u001b[38;5;124m12.5\u001b[39m\u001b[38;5;124m\"\u001b[39m,\u001b[38;5;241m13\u001b[39m\n",
      "\u001b[1;31mValueError\u001b[0m: too many values to unpack (expected 3)"
     ]
    }
   ],
   "source": [
    "a,b,c, = \"11\",12,\"12.5\",13 # We don't have variable to store value 13"
   ]
  },
  {
   "cell_type": "code",
   "execution_count": 42,
   "id": "c3f48b98",
   "metadata": {},
   "outputs": [],
   "source": [
    "t = 1,2,3,4,5 #This works"
   ]
  },
  {
   "cell_type": "code",
   "execution_count": 43,
   "id": "48e2600d",
   "metadata": {},
   "outputs": [
    {
     "ename": "ValueError",
     "evalue": "too many values to unpack (expected 2)",
     "output_type": "error",
     "traceback": [
      "\u001b[1;31m---------------------------------------------------------------------------\u001b[0m",
      "\u001b[1;31mValueError\u001b[0m                                Traceback (most recent call last)",
      "Input \u001b[1;32mIn [43]\u001b[0m, in \u001b[0;36m<cell line: 1>\u001b[1;34m()\u001b[0m\n\u001b[1;32m----> 1\u001b[0m t,m \u001b[38;5;241m=\u001b[39m \u001b[38;5;241m1\u001b[39m,\u001b[38;5;241m2\u001b[39m,\u001b[38;5;241m3\u001b[39m,\u001b[38;5;241m4\u001b[39m,\u001b[38;5;241m5\u001b[39m\n",
      "\u001b[1;31mValueError\u001b[0m: too many values to unpack (expected 2)"
     ]
    }
   ],
   "source": [
    "t,m = 1,2,3,4,5 # This does not work"
   ]
  },
  {
   "cell_type": "code",
   "execution_count": 44,
   "id": "ff9cec36",
   "metadata": {},
   "outputs": [],
   "source": [
    "t = 1,2,3,4,5 # This works"
   ]
  },
  {
   "cell_type": "code",
   "execution_count": 45,
   "id": "1afbd85e",
   "metadata": {},
   "outputs": [
    {
     "data": {
      "text/plain": [
       "(1, 2, 3, 4, 5)"
      ]
     },
     "execution_count": 45,
     "metadata": {},
     "output_type": "execute_result"
    }
   ],
   "source": [
    "t"
   ]
  },
  {
   "cell_type": "code",
   "execution_count": 46,
   "id": "0604f15a",
   "metadata": {},
   "outputs": [
    {
     "data": {
      "text/plain": [
       "tuple"
      ]
     },
     "execution_count": 46,
     "metadata": {},
     "output_type": "execute_result"
    }
   ],
   "source": [
    "type(t)"
   ]
  },
  {
   "cell_type": "code",
   "execution_count": 47,
   "id": "155b7d37",
   "metadata": {},
   "outputs": [
    {
     "name": "stdout",
     "output_type": "stream",
     "text": [
      "20\n"
     ]
    }
   ],
   "source": [
    "print(num_2)"
   ]
  },
  {
   "cell_type": "code",
   "execution_count": null,
   "id": "efd4646e",
   "metadata": {},
   "outputs": [],
   "source": []
  }
 ],
 "metadata": {
  "kernelspec": {
   "display_name": "Python 3 (ipykernel)",
   "language": "python",
   "name": "python3"
  },
  "language_info": {
   "codemirror_mode": {
    "name": "ipython",
    "version": 3
   },
   "file_extension": ".py",
   "mimetype": "text/x-python",
   "name": "python",
   "nbconvert_exporter": "python",
   "pygments_lexer": "ipython3",
   "version": "3.10.5"
  }
 },
 "nbformat": 4,
 "nbformat_minor": 5
}
