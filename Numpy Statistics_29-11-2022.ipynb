{
 "cells": [
  {
   "cell_type": "markdown",
   "id": "959b6c91",
   "metadata": {},
   "source": [
    "## Numpy Statistics"
   ]
  },
  {
   "cell_type": "code",
   "execution_count": null,
   "id": "fb2e8302",
   "metadata": {},
   "outputs": [],
   "source": [
    "1. np.mean()\n",
    "2. np.median()\n",
    "3. np.var()\n",
    "4. np.std()\n",
    "6. np.max()\n",
    "7. np.min()\n",
    "8. np.sum()\n",
    "9. scipy.stats.mode()"
   ]
  },
  {
   "cell_type": "code",
   "execution_count": 2,
   "id": "caed4286",
   "metadata": {},
   "outputs": [],
   "source": [
    "import numpy as np"
   ]
  },
  {
   "cell_type": "code",
   "execution_count": null,
   "id": "0c17d32e",
   "metadata": {},
   "outputs": [],
   "source": [
    "### Mean median and mode are measure of  central tendancies of the data"
   ]
  },
  {
   "cell_type": "markdown",
   "id": "bc1bd344",
   "metadata": {},
   "source": [
    "### 1. mean()"
   ]
  },
  {
   "cell_type": "code",
   "execution_count": 3,
   "id": "5ef97410",
   "metadata": {},
   "outputs": [
    {
     "data": {
      "text/plain": [
       "5.5"
      ]
     },
     "execution_count": 3,
     "metadata": {},
     "output_type": "execute_result"
    }
   ],
   "source": [
    "list1 = [1,2,3,4,5,6,7,8,9,10]\n",
    "mean_list1 = np.mean(list1)\n",
    "mean_list1"
   ]
  },
  {
   "cell_type": "code",
   "execution_count": null,
   "id": "32d8c585",
   "metadata": {},
   "outputs": [],
   "source": [
    "mean = sum of all elements in the array / length of an array"
   ]
  },
  {
   "cell_type": "code",
   "execution_count": 5,
   "id": "6365cb97",
   "metadata": {},
   "outputs": [
    {
     "name": "stdout",
     "output_type": "stream",
     "text": [
      "[13 58 63 32 41 66 96 34 97 90]\n"
     ]
    }
   ],
   "source": [
    "array1 = np.random.randint(10,99,10)\n",
    "print(array1)"
   ]
  },
  {
   "cell_type": "code",
   "execution_count": 6,
   "id": "5442648e",
   "metadata": {},
   "outputs": [
    {
     "name": "stdout",
     "output_type": "stream",
     "text": [
      "59.0\n"
     ]
    }
   ],
   "source": [
    "mean_of_array1 = np.mean(array1)\n",
    "print(mean_of_array1)"
   ]
  },
  {
   "cell_type": "markdown",
   "id": "a85485e4",
   "metadata": {},
   "source": [
    "### 2. Median"
   ]
  },
  {
   "cell_type": "markdown",
   "id": "3c5987b8",
   "metadata": {},
   "source": [
    "#### Median is defined as the middle value in the given set of numbers (data)"
   ]
  },
  {
   "cell_type": "code",
   "execution_count": null,
   "id": "2c7371f0",
   "metadata": {},
   "outputs": [],
   "source": [
    "[1 2 3 4 5 6 7 8 9]    >> Here the median is 5\n",
    "[1 2 3 4 5 6 7 8 9 10] >> There are two values that fall at the center i.e. 5 and 6 therefor, for such data we take mean of\n",
    "                       >> these two values >> 5+6/2 >> 5.5"
   ]
  },
  {
   "cell_type": "code",
   "execution_count": 8,
   "id": "07001057",
   "metadata": {},
   "outputs": [
    {
     "data": {
      "text/plain": [
       "11"
      ]
     },
     "execution_count": 8,
     "metadata": {},
     "output_type": "execute_result"
    }
   ],
   "source": [
    "list1 = [23,56,23,78,22,67,99,23,57,26,86]\n",
    "len(list1)"
   ]
  },
  {
   "cell_type": "code",
   "execution_count": 10,
   "id": "a5a8947c",
   "metadata": {},
   "outputs": [
    {
     "data": {
      "text/plain": [
       "[22, 23, 23, 23, 26, 56, 57, 67, 78, 86, 99]"
      ]
     },
     "execution_count": 10,
     "metadata": {},
     "output_type": "execute_result"
    }
   ],
   "source": [
    "list1.sort()\n",
    "list1  >> Here in this list by observation we can say 56 is the median"
   ]
  },
  {
   "cell_type": "code",
   "execution_count": 11,
   "id": "151b9e35",
   "metadata": {},
   "outputs": [
    {
     "data": {
      "text/plain": [
       "56.0"
      ]
     },
     "execution_count": 11,
     "metadata": {},
     "output_type": "execute_result"
    }
   ],
   "source": [
    "## Checking median by numpy\n",
    "np.median(list1)"
   ]
  },
  {
   "cell_type": "markdown",
   "id": "2d415222",
   "metadata": {},
   "source": [
    "### 3. Mode"
   ]
  },
  {
   "cell_type": "code",
   "execution_count": null,
   "id": "b7cef6ed",
   "metadata": {},
   "outputs": [],
   "source": [
    "Most frequent value in the given set of data"
   ]
  },
  {
   "cell_type": "code",
   "execution_count": 12,
   "id": "067ffa70",
   "metadata": {},
   "outputs": [
    {
     "data": {
      "text/plain": [
       "11"
      ]
     },
     "execution_count": 12,
     "metadata": {},
     "output_type": "execute_result"
    }
   ],
   "source": [
    "list1 = [23,56,23,78,22,67,99,23,57,26,86]\n",
    "len(list1)"
   ]
  },
  {
   "cell_type": "markdown",
   "id": "f8622939",
   "metadata": {},
   "source": [
    "By obeservation we can say 23 is the mode of list1\n",
    "Let's check the mode with scipy library"
   ]
  },
  {
   "cell_type": "code",
   "execution_count": 13,
   "id": "927f4005",
   "metadata": {},
   "outputs": [],
   "source": [
    "from scipy.stats import mode"
   ]
  },
  {
   "cell_type": "code",
   "execution_count": 14,
   "id": "3ebbfed1",
   "metadata": {},
   "outputs": [],
   "source": [
    "mode_of_list1 = mode(list1)"
   ]
  },
  {
   "cell_type": "code",
   "execution_count": 15,
   "id": "849c1c9a",
   "metadata": {
    "scrolled": true
   },
   "outputs": [
    {
     "name": "stdout",
     "output_type": "stream",
     "text": [
      "ModeResult(mode=array([23]), count=array([3]))\n"
     ]
    }
   ],
   "source": [
    "print(mode_of_list1)"
   ]
  },
  {
   "cell_type": "code",
   "execution_count": 16,
   "id": "173d9616",
   "metadata": {},
   "outputs": [
    {
     "name": "stdout",
     "output_type": "stream",
     "text": [
      "[23]\n"
     ]
    }
   ],
   "source": [
    "print(mode_of_list1[0])"
   ]
  },
  {
   "cell_type": "code",
   "execution_count": 17,
   "id": "229854e5",
   "metadata": {},
   "outputs": [
    {
     "name": "stdout",
     "output_type": "stream",
     "text": [
      "23\n"
     ]
    }
   ],
   "source": [
    "print(mode_of_list1[0][0])"
   ]
  },
  {
   "cell_type": "code",
   "execution_count": null,
   "id": "38d87b73",
   "metadata": {},
   "outputs": [],
   "source": []
  }
 ],
 "metadata": {
  "kernelspec": {
   "display_name": "Python 3 (ipykernel)",
   "language": "python",
   "name": "python3"
  },
  "language_info": {
   "codemirror_mode": {
    "name": "ipython",
    "version": 3
   },
   "file_extension": ".py",
   "mimetype": "text/x-python",
   "name": "python",
   "nbconvert_exporter": "python",
   "pygments_lexer": "ipython3",
   "version": "3.10.5"
  }
 },
 "nbformat": 4,
 "nbformat_minor": 5
}
