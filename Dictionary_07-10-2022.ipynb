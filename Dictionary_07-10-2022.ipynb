{
 "cells": [
  {
   "cell_type": "markdown",
   "id": "7972c71d",
   "metadata": {},
   "source": [
    "### Sorting the dictionary by Keys"
   ]
  },
  {
   "cell_type": "code",
   "execution_count": 4,
   "id": "9eb00551",
   "metadata": {},
   "outputs": [
    {
     "name": "stdout",
     "output_type": "stream",
     "text": [
      "{'Bio': 75}\n",
      "{'Bio': 75, 'Chem': 85}\n",
      "{'Bio': 75, 'Chem': 85, 'Comp': 85}\n",
      "{'Bio': 75, 'Chem': 85, 'Comp': 85, 'Eng': 78}\n",
      "{'Bio': 75, 'Chem': 85, 'Comp': 85, 'Eng': 78, 'Math': 91}\n",
      "{'Bio': 75, 'Chem': 85, 'Comp': 85, 'Eng': 78, 'Math': 91, 'Phy': 75}\n",
      "{'Bio': 75, 'Chem': 85, 'Comp': 85, 'Eng': 78, 'Math': 91, 'Phy': 75, 'Voc': 88}\n"
     ]
    }
   ],
   "source": [
    "sub_marks = {\"Phy\":75,\"Chem\":85,\"Math\":91,\"Bio\":75,\"Eng\":78,\"Comp\":85,\"Voc\":88}\n",
    "\n",
    "sorted_dict = {}\n",
    "\n",
    "for sub in sorted(sub_marks.keys()):\n",
    "    sorted_dict[sub] = sub_marks[sub]\n",
    "    print(sorted_dict)\n",
    "    "
   ]
  },
  {
   "cell_type": "code",
   "execution_count": null,
   "id": "940a6f25",
   "metadata": {},
   "outputs": [],
   "source": []
  },
  {
   "cell_type": "code",
   "execution_count": 3,
   "id": "5d0b1419",
   "metadata": {},
   "outputs": [
    {
     "data": {
      "text/plain": [
       "['Bio', 'Chem', 'Comp', 'Eng', 'Math', 'Phy', 'Voc']"
      ]
     },
     "execution_count": 3,
     "metadata": {},
     "output_type": "execute_result"
    }
   ],
   "source": [
    "sorted(sub_marks.keys())"
   ]
  },
  {
   "cell_type": "code",
   "execution_count": null,
   "id": "a20df705",
   "metadata": {},
   "outputs": [],
   "source": [
    "# 1st iteration >> sub_marks[\"Bio\"] >> 75\n",
    "# 2nd iteration >> sub_marks[\"Chem\"] >> 85\n",
    "# 3rd iteration >> sub_marks[\"Comp\"] >> 85"
   ]
  },
  {
   "cell_type": "code",
   "execution_count": 5,
   "id": "cf0ac72d",
   "metadata": {},
   "outputs": [
    {
     "name": "stdout",
     "output_type": "stream",
     "text": [
      "{'Bio': 75}\n",
      "{'Bio': 75, 'Chem': 85}\n",
      "{'Bio': 75, 'Chem': 85, 'Comp': 85}\n",
      "{'Bio': 75, 'Chem': 85, 'Comp': 85, 'Eng': 78}\n",
      "{'Bio': 75, 'Chem': 85, 'Comp': 85, 'Eng': 78, 'Math': 91}\n",
      "{'Bio': 75, 'Chem': 85, 'Comp': 85, 'Eng': 78, 'Math': 91, 'Phy': 75}\n",
      "{'Bio': 75, 'Chem': 85, 'Comp': 85, 'Eng': 78, 'Math': 91, 'Phy': 75, 'Voc': 88}\n"
     ]
    }
   ],
   "source": [
    "sub_marks = {\"Phy\":75,\"Chem\":85,\"Math\":91,\"Bio\":75,\"Eng\":78,\"Comp\":85,\"Voc\":88}\n",
    "\n",
    "sorted_dict = {}\n",
    "\n",
    "for sub in sorted(sub_marks.keys()):\n",
    "    sorted_dict.update({sub:sub_marks[sub]})\n",
    "    print(sorted_dict)"
   ]
  },
  {
   "cell_type": "markdown",
   "id": "e2b4cade",
   "metadata": {},
   "source": [
    "### 2. Sorting Dictionary by Value"
   ]
  },
  {
   "cell_type": "code",
   "execution_count": 9,
   "id": "96b0f6db",
   "metadata": {},
   "outputs": [
    {
     "data": {
      "text/plain": [
       "[75, 76, 78, 85, 88, 89, 91]"
      ]
     },
     "execution_count": 9,
     "metadata": {},
     "output_type": "execute_result"
    }
   ],
   "source": [
    "sub_marks = {\"Phy\":76,\"Chem\":85,\"Math\":91,\"Bio\":75,\"Eng\":78,\"Comp\":89,\"Voc\":88}\n",
    "\n",
    "sorted_dict = {}\n",
    "\n",
    "# sorted_dict = {\"Bio\":75, \"Phy\":76, \"Eng\":\"78\", \"Chem\":85, \"Voc\":88, \"Comp\":89, \"Math\":91}\n",
    "\n",
    "sorted_marks = sorted(sub_marks.values())\n",
    "sorted_marks"
   ]
  },
  {
   "cell_type": "code",
   "execution_count": 10,
   "id": "5f7e41ae",
   "metadata": {},
   "outputs": [
    {
     "name": "stdout",
     "output_type": "stream",
     "text": [
      "Mark is: 75\n",
      "Subject Is: Phy\n",
      "Subject Is: Chem\n",
      "Subject Is: Math\n",
      "Subject Is: Bio\n",
      "{'Bio': 75}\n",
      "\n",
      "Mark is: 76\n",
      "Subject Is: Phy\n",
      "{'Bio': 75, 'Phy': 76}\n",
      "\n",
      "Mark is: 78\n",
      "Subject Is: Phy\n",
      "Subject Is: Chem\n",
      "Subject Is: Math\n",
      "Subject Is: Bio\n",
      "Subject Is: Eng\n",
      "{'Bio': 75, 'Phy': 76, 'Eng': 78}\n",
      "\n",
      "Mark is: 85\n",
      "Subject Is: Phy\n",
      "Subject Is: Chem\n",
      "{'Bio': 75, 'Phy': 76, 'Eng': 78, 'Chem': 85}\n",
      "\n",
      "Mark is: 88\n",
      "Subject Is: Phy\n",
      "Subject Is: Chem\n",
      "Subject Is: Math\n",
      "Subject Is: Bio\n",
      "Subject Is: Eng\n",
      "Subject Is: Comp\n",
      "Subject Is: Voc\n",
      "{'Bio': 75, 'Phy': 76, 'Eng': 78, 'Chem': 85, 'Voc': 88}\n",
      "\n",
      "Mark is: 89\n",
      "Subject Is: Phy\n",
      "Subject Is: Chem\n",
      "Subject Is: Math\n",
      "Subject Is: Bio\n",
      "Subject Is: Eng\n",
      "Subject Is: Comp\n",
      "{'Bio': 75, 'Phy': 76, 'Eng': 78, 'Chem': 85, 'Voc': 88, 'Comp': 89}\n",
      "\n",
      "Mark is: 91\n",
      "Subject Is: Phy\n",
      "Subject Is: Chem\n",
      "Subject Is: Math\n",
      "{'Bio': 75, 'Phy': 76, 'Eng': 78, 'Chem': 85, 'Voc': 88, 'Comp': 89, 'Math': 91}\n",
      "\n"
     ]
    }
   ],
   "source": [
    "for mark in sorted_marks:\n",
    "    print(f\"Mark is: {mark}\")\n",
    "    for sub in sub_marks.keys():\n",
    "        print(f\"Subject Is: {sub}\")\n",
    "        if mark == sub_marks[sub]:\n",
    "            sorted_dict[sub] = mark\n",
    "            print(sorted_dict)\n",
    "            print()\n",
    "            break"
   ]
  },
  {
   "cell_type": "code",
   "execution_count": 12,
   "id": "c2191580",
   "metadata": {},
   "outputs": [
    {
     "name": "stdout",
     "output_type": "stream",
     "text": [
      "{'Bio': 75, 'Phy': 76, 'Eng': 78, 'Chem': 85, 'Voc': 88, 'Comp': 89, 'Math': 91}\n"
     ]
    }
   ],
   "source": [
    "sub_marks = {\"Phy\":76,\"Chem\":85,\"Math\":91,\"Bio\":75,\"Eng\":78,\"Comp\":89,\"Voc\":88}\n",
    "\n",
    "sorted_dict = {}\n",
    "\n",
    "for mark in sorted(sub_marks.values()):\n",
    "    for sub in sub_marks.keys():\n",
    "        if mark == sub_marks[sub]:\n",
    "            sorted_dict.update({sub:mark})\n",
    "            break\n",
    "print(sorted_dict)"
   ]
  },
  {
   "cell_type": "markdown",
   "id": "150db8b2",
   "metadata": {},
   "source": [
    "### What if two subjects have same marks?"
   ]
  },
  {
   "cell_type": "code",
   "execution_count": 14,
   "id": "7066dfe8",
   "metadata": {},
   "outputs": [
    {
     "name": "stdout",
     "output_type": "stream",
     "text": [
      "{'Phy': 75, 'Bio': 75, 'Eng': 78, 'Chem': 85, 'Voc': 88, 'Comp': 89, 'Math': 91}\n"
     ]
    }
   ],
   "source": [
    "sub_marks = {\"Phy\":75,\"Chem\":85,\"Math\":91,\"Bio\":75,\"Eng\":78,\"Comp\":89,\"Voc\":88}\n",
    "\n",
    "sorted_dict = {}\n",
    "\n",
    "for mark in sorted(sub_marks.values()):\n",
    "    for sub in sub_marks.keys():\n",
    "        if mark == sub_marks[sub]:\n",
    "            sorted_dict.update({sub:mark})\n",
    "\n",
    "print(sorted_dict)"
   ]
  },
  {
   "cell_type": "code",
   "execution_count": 16,
   "id": "6cdde245",
   "metadata": {},
   "outputs": [
    {
     "name": "stdout",
     "output_type": "stream",
     "text": [
      "{'Phy': 75, 'Eng': 78, 'Chem': 85, 'Voc': 88, 'Math': 91}\n"
     ]
    }
   ],
   "source": [
    "sub_marks = {\"Phy\":75,\"Chem\":85,\"Math\":91,\"Bio\":75,\"Eng\":78,\"Comp\":85,\"Voc\":88}\n",
    "\n",
    "sorted_dict = {}\n",
    "\n",
    "for mark in sorted(sub_marks.values()):\n",
    "    for sub in sub_marks.keys():\n",
    "        if mark == sub_marks[sub]:\n",
    "            sorted_dict.update({sub:mark})\n",
    "            break\n",
    "\n",
    "print(sorted_dict)"
   ]
  },
  {
   "cell_type": "code",
   "execution_count": 17,
   "id": "6e8be17c",
   "metadata": {},
   "outputs": [
    {
     "data": {
      "text/plain": [
       "[75, 75, 78, 85, 85, 88, 91]"
      ]
     },
     "execution_count": 17,
     "metadata": {},
     "output_type": "execute_result"
    }
   ],
   "source": [
    "sorted(sub_marks.values())"
   ]
  },
  {
   "cell_type": "code",
   "execution_count": 18,
   "id": "a6880047",
   "metadata": {},
   "outputs": [
    {
     "name": "stdout",
     "output_type": "stream",
     "text": [
      "{'Phy': 75}\n"
     ]
    }
   ],
   "source": [
    "sub_marks = {\"Phy\":75,\"Chem\":75,\"Math\":75,\"Bio\":75,\"Eng\":75,\"Comp\":75,\"Voc\":75}\n",
    "\n",
    "sorted_dict = {}\n",
    "\n",
    "for mark in sorted(sub_marks.values()):\n",
    "    for sub in sub_marks.keys():\n",
    "        if mark == sub_marks[sub]:\n",
    "            sorted_dict.update({sub:mark})\n",
    "            break\n",
    "\n",
    "print(sorted_dict)"
   ]
  },
  {
   "cell_type": "code",
   "execution_count": 19,
   "id": "f4b35a89",
   "metadata": {},
   "outputs": [
    {
     "name": "stdout",
     "output_type": "stream",
     "text": [
      "{'Phy': 75, 'Chem': 75, 'Math': 75, 'Bio': 75, 'Eng': 75, 'Comp': 75, 'Voc': 75}\n"
     ]
    }
   ],
   "source": [
    "sub_marks = {\"Phy\":75,\"Chem\":75,\"Math\":75,\"Bio\":75,\"Eng\":75,\"Comp\":75,\"Voc\":75}\n",
    "\n",
    "sorted_dict = {}\n",
    "\n",
    "for mark in sorted(sub_marks.values()):\n",
    "    for sub in sub_marks.keys():\n",
    "        if mark == sub_marks[sub]:\n",
    "            sorted_dict.update({sub:mark})\n",
    "\n",
    "\n",
    "print(sorted_dict)"
   ]
  },
  {
   "cell_type": "code",
   "execution_count": 20,
   "id": "c2996360",
   "metadata": {},
   "outputs": [
    {
     "name": "stdout",
     "output_type": "stream",
     "text": [
      "{'Bio': 75, 'Chem': 75, 'Comp': 75, 'Eng': 75, 'Math': 75, 'Phy': 75, 'Voc': 75}\n"
     ]
    }
   ],
   "source": [
    "sub_marks = {\"Phy\":75,\"Chem\":75,\"Math\":75,\"Bio\":75,\"Eng\":75,\"Comp\":75,\"Voc\":75}\n",
    "\n",
    "sorted_dict = {}\n",
    "\n",
    "for mark in sorted(sub_marks.values()):\n",
    "    for sub in sorted(sub_marks.keys()):\n",
    "        if mark == sub_marks[sub]:\n",
    "            sorted_dict.update({sub:mark})\n",
    "\n",
    "\n",
    "print(sorted_dict)"
   ]
  },
  {
   "cell_type": "code",
   "execution_count": 21,
   "id": "a0e20f35",
   "metadata": {},
   "outputs": [
    {
     "name": "stdout",
     "output_type": "stream",
     "text": [
      "{'Bio': 75, 'Phy': 75, 'Eng': 78, 'Chem': 85, 'Voc': 88, 'Comp': 89, 'Math': 91}\n"
     ]
    }
   ],
   "source": [
    "######################################################################################\n",
    "sub_marks = {\"Phy\":75,\"Chem\":85,\"Math\":91,\"Bio\":75,\"Eng\":78,\"Comp\":89,\"Voc\":88}     ##\n",
    "                                                                                    ##\n",
    "sorted_dict = {}\n",
    "\n",
    "for mark in sorted(sub_marks.values()):\n",
    "    for sub in sorted(sub_marks.keys()):\n",
    "        if mark == sub_marks[sub]:\n",
    "            sorted_dict.update({sub:mark})\n",
    "\n",
    "print(sorted_dict)"
   ]
  },
  {
   "cell_type": "code",
   "execution_count": 22,
   "id": "eea0ed96",
   "metadata": {},
   "outputs": [
    {
     "data": {
      "text/plain": [
       "[75, 75, 78, 85, 88, 89, 91]"
      ]
     },
     "execution_count": 22,
     "metadata": {},
     "output_type": "execute_result"
    }
   ],
   "source": [
    "sorted(sub_marks.values())"
   ]
  },
  {
   "cell_type": "code",
   "execution_count": null,
   "id": "0130ef80",
   "metadata": {},
   "outputs": [],
   "source": [
    "# 1st iteration >> 75\n",
    "    ## 1st iteration >> Phy,"
   ]
  },
  {
   "cell_type": "code",
   "execution_count": 23,
   "id": "7415fbc6",
   "metadata": {},
   "outputs": [],
   "source": [
    "def sort_dict_by_values(dictionary):\n",
    "    sorted_dict = {}\n",
    "    for mark in sorted(dictionary.values()):\n",
    "        for sub in sorted(dictionary.keys()):\n",
    "            if mark == dictionary[sub]:\n",
    "                sorted_dict.update({sub:mark})\n",
    "                \n",
    "                \n",
    "    return sorted_dict\n",
    "    \n",
    "    "
   ]
  },
  {
   "cell_type": "code",
   "execution_count": 25,
   "id": "ee365a93",
   "metadata": {},
   "outputs": [],
   "source": [
    "sorted_dictionary = sort_dict_by_values({\"Phy\":75,\"Chem\":85,\"Math\":91,\"Bio\":75,\"Eng\":78,\"Comp\":89,\"Voc\":88})"
   ]
  },
  {
   "cell_type": "code",
   "execution_count": 26,
   "id": "49db67b1",
   "metadata": {},
   "outputs": [
    {
     "name": "stdout",
     "output_type": "stream",
     "text": [
      "{'Bio': 75, 'Phy': 75, 'Eng': 78, 'Chem': 85, 'Voc': 88, 'Comp': 89, 'Math': 91}\n"
     ]
    }
   ],
   "source": [
    "print(sorted_dictionary)"
   ]
  },
  {
   "cell_type": "code",
   "execution_count": 27,
   "id": "26f504b0",
   "metadata": {},
   "outputs": [
    {
     "data": {
      "text/plain": [
       "{'Phy': 47,\n",
       " 'Eng': 55,\n",
       " 'Bio': 75,\n",
       " 'Chem': 76,\n",
       " 'Math': 85,\n",
       " 'Voc': 95,\n",
       " 'Comp': 96}"
      ]
     },
     "execution_count": 27,
     "metadata": {},
     "output_type": "execute_result"
    }
   ],
   "source": [
    "dict2 = {\"Phy\":47,\"Chem\":76,\"Math\":85,\"Bio\":75,\"Eng\":55,\"Comp\":96,\"Voc\":95}\n",
    "\n",
    "sort_dict_by_values(dict2)"
   ]
  },
  {
   "cell_type": "code",
   "execution_count": null,
   "id": "81fa969b",
   "metadata": {},
   "outputs": [],
   "source": []
  }
 ],
 "metadata": {
  "kernelspec": {
   "display_name": "Python 3 (ipykernel)",
   "language": "python",
   "name": "python3"
  },
  "language_info": {
   "codemirror_mode": {
    "name": "ipython",
    "version": 3
   },
   "file_extension": ".py",
   "mimetype": "text/x-python",
   "name": "python",
   "nbconvert_exporter": "python",
   "pygments_lexer": "ipython3",
   "version": "3.9.12"
  }
 },
 "nbformat": 4,
 "nbformat_minor": 5
}
