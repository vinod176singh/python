{
 "cells": [
  {
   "cell_type": "code",
   "execution_count": 1,
   "id": "ee652414",
   "metadata": {},
   "outputs": [],
   "source": [
    "class Calculator():\n",
    "    \n",
    "    def add(self, a, b):\n",
    "        total = a + b\n",
    "        return total\n",
    "    \n",
    "    def multiply(self, a, b):\n",
    "        mul = a*b\n",
    "        return mul\n",
    "    \n",
    "    def divide(self, a, b):\n",
    "        return a/b\n",
    "    \n",
    "    def substract(self,a,b):\n",
    "        return a-b"
   ]
  },
  {
   "cell_type": "code",
   "execution_count": 3,
   "id": "711aee60",
   "metadata": {},
   "outputs": [],
   "source": [
    "cal = Calculator()"
   ]
  },
  {
   "cell_type": "code",
   "execution_count": 4,
   "id": "5af60c7a",
   "metadata": {},
   "outputs": [
    {
     "data": {
      "text/plain": [
       "5"
      ]
     },
     "execution_count": 4,
     "metadata": {},
     "output_type": "execute_result"
    }
   ],
   "source": [
    "cal.add(2,3)"
   ]
  },
  {
   "cell_type": "code",
   "execution_count": 5,
   "id": "1dd38bd0",
   "metadata": {},
   "outputs": [
    {
     "data": {
      "text/plain": [
       "2"
      ]
     },
     "execution_count": 5,
     "metadata": {},
     "output_type": "execute_result"
    }
   ],
   "source": [
    "cal.substract(5,3)"
   ]
  },
  {
   "cell_type": "code",
   "execution_count": 6,
   "id": "0c031e56",
   "metadata": {},
   "outputs": [
    {
     "data": {
      "text/plain": [
       "100.0"
      ]
     },
     "execution_count": 6,
     "metadata": {},
     "output_type": "execute_result"
    }
   ],
   "source": [
    "cal.divide(1000,10)"
   ]
  },
  {
   "cell_type": "code",
   "execution_count": 7,
   "id": "0084ecc9",
   "metadata": {},
   "outputs": [
    {
     "data": {
      "text/plain": [
       "60"
      ]
     },
     "execution_count": 7,
     "metadata": {},
     "output_type": "execute_result"
    }
   ],
   "source": [
    "cal.multiply(20,3)"
   ]
  },
  {
   "cell_type": "code",
   "execution_count": 8,
   "id": "6d9d23cf",
   "metadata": {},
   "outputs": [
    {
     "data": {
      "text/plain": [
       "5"
      ]
     },
     "execution_count": 8,
     "metadata": {},
     "output_type": "execute_result"
    }
   ],
   "source": [
    "Calculator().add(2,3)"
   ]
  },
  {
   "cell_type": "code",
   "execution_count": 9,
   "id": "321a3846",
   "metadata": {},
   "outputs": [],
   "source": [
    "class Calculator():\n",
    "    \n",
    "    def __init__(self, a,b):\n",
    "        self.var1 = a\n",
    "        self.var2 = b\n",
    "    \n",
    "    def add(self):\n",
    "        return self.var1 + self.var2\n",
    "    \n",
    "    def multiply(self):\n",
    "        return self.var1*self.var2\n",
    "    \n",
    "    def divide(self):\n",
    "        return self.var1/self.var2\n",
    "    \n",
    "    def substract(self):\n",
    "        return self.var1 - self.var2"
   ]
  },
  {
   "cell_type": "code",
   "execution_count": 12,
   "id": "b94dce16",
   "metadata": {},
   "outputs": [],
   "source": [
    "calculator = Calculator(100,10)"
   ]
  },
  {
   "cell_type": "code",
   "execution_count": 13,
   "id": "f8ef9cd5",
   "metadata": {},
   "outputs": [
    {
     "data": {
      "text/plain": [
       "110"
      ]
     },
     "execution_count": 13,
     "metadata": {},
     "output_type": "execute_result"
    }
   ],
   "source": [
    "calculator.add()"
   ]
  },
  {
   "cell_type": "code",
   "execution_count": 34,
   "id": "0faca079",
   "metadata": {},
   "outputs": [
    {
     "data": {
      "text/plain": [
       "100"
      ]
     },
     "execution_count": 34,
     "metadata": {},
     "output_type": "execute_result"
    }
   ],
   "source": [
    "calculator.var1"
   ]
  },
  {
   "cell_type": "code",
   "execution_count": 35,
   "id": "54bb0203",
   "metadata": {},
   "outputs": [
    {
     "data": {
      "text/plain": [
       "10"
      ]
     },
     "execution_count": 35,
     "metadata": {},
     "output_type": "execute_result"
    }
   ],
   "source": [
    "calculator.var2"
   ]
  },
  {
   "cell_type": "code",
   "execution_count": 14,
   "id": "3a4d31e2",
   "metadata": {},
   "outputs": [
    {
     "data": {
      "text/plain": [
       "90"
      ]
     },
     "execution_count": 14,
     "metadata": {},
     "output_type": "execute_result"
    }
   ],
   "source": [
    "calculator.substract()"
   ]
  },
  {
   "cell_type": "code",
   "execution_count": 15,
   "id": "f5697ad9",
   "metadata": {},
   "outputs": [
    {
     "data": {
      "text/plain": [
       "10.0"
      ]
     },
     "execution_count": 15,
     "metadata": {},
     "output_type": "execute_result"
    }
   ],
   "source": [
    "calculator.divide()"
   ]
  },
  {
   "cell_type": "code",
   "execution_count": 16,
   "id": "2aa3e716",
   "metadata": {},
   "outputs": [
    {
     "data": {
      "text/plain": [
       "1000"
      ]
     },
     "execution_count": 16,
     "metadata": {},
     "output_type": "execute_result"
    }
   ],
   "source": [
    "calculator.multiply()"
   ]
  },
  {
   "cell_type": "code",
   "execution_count": 17,
   "id": "a6e557d1",
   "metadata": {},
   "outputs": [],
   "source": [
    "import math"
   ]
  },
  {
   "cell_type": "code",
   "execution_count": 18,
   "id": "a0fc0319",
   "metadata": {},
   "outputs": [
    {
     "data": {
      "text/plain": [
       "3.0"
      ]
     },
     "execution_count": 18,
     "metadata": {},
     "output_type": "execute_result"
    }
   ],
   "source": [
    "math.sqrt(9)"
   ]
  },
  {
   "cell_type": "code",
   "execution_count": 22,
   "id": "3515b6cc",
   "metadata": {},
   "outputs": [
    {
     "data": {
      "text/plain": [
       "-0.9880316240928618"
      ]
     },
     "execution_count": 22,
     "metadata": {},
     "output_type": "execute_result"
    }
   ],
   "source": [
    "math.sin(30)"
   ]
  },
  {
   "cell_type": "code",
   "execution_count": 38,
   "id": "b1fc9a0c",
   "metadata": {},
   "outputs": [],
   "source": [
    "class Washing_Machine():\n",
    "    def __init__(self,loading_type,rpm,function_type, capacity):\n",
    "        self.loading_type = loading_type\n",
    "        self.rpm = rpm\n",
    "        self.function_type = function_type\n",
    "        self.capacity = capacity\n",
    "        print(\"__init__ is invoked\")\n",
    "        \n",
    "    def load_cloths(self):\n",
    "#         if running:\n",
    "#             stop running\n",
    "#             door unlock\n",
    "#         else:\n",
    "#             door unlock\n",
    "        pass\n",
    "        \n",
    "    def wash(self):\n",
    "        pass\n",
    "    def open_door(self):\n",
    "        pass"
   ]
  },
  {
   "cell_type": "code",
   "execution_count": 39,
   "id": "88c7e63c",
   "metadata": {},
   "outputs": [
    {
     "name": "stdout",
     "output_type": "stream",
     "text": [
      "__init__ is invoked\n"
     ]
    }
   ],
   "source": [
    "lg_washing_machine = Washing_Machine(\"Front Load\",1200,\"Fully Auto\",7)"
   ]
  },
  {
   "cell_type": "code",
   "execution_count": 33,
   "id": "a15d0c4d",
   "metadata": {},
   "outputs": [],
   "source": [
    "# lg_washing_machine = Washing_Machine()"
   ]
  },
  {
   "cell_type": "code",
   "execution_count": null,
   "id": "e346c18f",
   "metadata": {},
   "outputs": [],
   "source": []
  }
 ],
 "metadata": {
  "kernelspec": {
   "display_name": "Python 3 (ipykernel)",
   "language": "python",
   "name": "python3"
  },
  "language_info": {
   "codemirror_mode": {
    "name": "ipython",
    "version": 3
   },
   "file_extension": ".py",
   "mimetype": "text/x-python",
   "name": "python",
   "nbconvert_exporter": "python",
   "pygments_lexer": "ipython3",
   "version": "3.10.5"
  }
 },
 "nbformat": 4,
 "nbformat_minor": 5
}
