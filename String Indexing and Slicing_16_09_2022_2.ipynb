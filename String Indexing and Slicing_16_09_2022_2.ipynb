{
 "cells": [
  {
   "cell_type": "code",
   "execution_count": 1,
   "id": "76b9a538",
   "metadata": {},
   "outputs": [],
   "source": [
    "string = \"This is second day for string slicing and indexing\""
   ]
  },
  {
   "cell_type": "code",
   "execution_count": 5,
   "id": "da6a3f01",
   "metadata": {},
   "outputs": [
    {
     "data": {
      "text/plain": [
       "'nd da'"
      ]
     },
     "execution_count": 5,
     "metadata": {},
     "output_type": "execute_result"
    }
   ],
   "source": [
    "string[12:17]"
   ]
  },
  {
   "cell_type": "code",
   "execution_count": 10,
   "id": "4e7b96eb",
   "metadata": {},
   "outputs": [
    {
     "data": {
      "text/plain": [
       "'second day for string '"
      ]
     },
     "execution_count": 10,
     "metadata": {},
     "output_type": "execute_result"
    }
   ],
   "source": [
    "string[8:30]"
   ]
  },
  {
   "cell_type": "code",
   "execution_count": 11,
   "id": "950d3807",
   "metadata": {},
   "outputs": [
    {
     "data": {
      "text/plain": [
       "'is se'"
      ]
     },
     "execution_count": 11,
     "metadata": {},
     "output_type": "execute_result"
    }
   ],
   "source": [
    "string[5:10]"
   ]
  },
  {
   "cell_type": "code",
   "execution_count": 14,
   "id": "1d5d1912",
   "metadata": {},
   "outputs": [
    {
     "data": {
      "text/plain": [
       "'is second'"
      ]
     },
     "execution_count": 14,
     "metadata": {},
     "output_type": "execute_result"
    }
   ],
   "source": [
    "string[5:14]"
   ]
  },
  {
   "cell_type": "code",
   "execution_count": 15,
   "id": "2b5f6664",
   "metadata": {},
   "outputs": [
    {
     "data": {
      "text/plain": [
       "'This is second day for string slicing and indexing'"
      ]
     },
     "execution_count": 15,
     "metadata": {},
     "output_type": "execute_result"
    }
   ],
   "source": [
    "string[::1]"
   ]
  },
  {
   "cell_type": "code",
   "execution_count": 16,
   "id": "85bbc782",
   "metadata": {},
   "outputs": [
    {
     "data": {
      "text/plain": [
       "'Ti sscn a o tigsiigadidxn'"
      ]
     },
     "execution_count": 16,
     "metadata": {},
     "output_type": "execute_result"
    }
   ],
   "source": [
    "string[::2]"
   ]
  },
  {
   "cell_type": "code",
   "execution_count": 17,
   "id": "ed333430",
   "metadata": {},
   "outputs": [
    {
     "data": {
      "text/plain": [
       "'Tssend rtnscgnien'"
      ]
     },
     "execution_count": 17,
     "metadata": {},
     "output_type": "execute_result"
    }
   ],
   "source": [
    "string[::3]"
   ]
  },
  {
   "cell_type": "code",
   "execution_count": 18,
   "id": "dcc0cfcb",
   "metadata": {},
   "outputs": [
    {
     "data": {
      "text/plain": [
       "'gnixedni dna gnicils gnirts rof yad dnoces si sihT'"
      ]
     },
     "execution_count": 18,
     "metadata": {},
     "output_type": "execute_result"
    }
   ],
   "source": [
    "string[::-1]"
   ]
  },
  {
   "cell_type": "code",
   "execution_count": 54,
   "id": "9886827d",
   "metadata": {},
   "outputs": [
    {
     "data": {
      "text/plain": [
       "'d dnoces'"
      ]
     },
     "execution_count": 54,
     "metadata": {},
     "output_type": "execute_result"
    }
   ],
   "source": [
    "string[15:7:-1]"
   ]
  },
  {
   "cell_type": "code",
   "execution_count": 20,
   "id": "1820d8b7",
   "metadata": {},
   "outputs": [
    {
     "data": {
      "text/plain": [
       "''"
      ]
     },
     "execution_count": 20,
     "metadata": {},
     "output_type": "execute_result"
    }
   ],
   "source": [
    "string[7:15:-1]"
   ]
  },
  {
   "cell_type": "code",
   "execution_count": 21,
   "id": "6031ab67",
   "metadata": {},
   "outputs": [
    {
     "data": {
      "text/plain": [
       "'ddoe'"
      ]
     },
     "execution_count": 21,
     "metadata": {},
     "output_type": "execute_result"
    }
   ],
   "source": [
    "string[15:7:-2]"
   ]
  },
  {
   "cell_type": "markdown",
   "id": "b9336202",
   "metadata": {},
   "source": [
    "## New Stuff"
   ]
  },
  {
   "cell_type": "code",
   "execution_count": 22,
   "id": "4b7e5d6b",
   "metadata": {},
   "outputs": [
    {
     "data": {
      "text/plain": [
       "'ng'"
      ]
     },
     "execution_count": 22,
     "metadata": {},
     "output_type": "execute_result"
    }
   ],
   "source": [
    "string = \"This is second day for string slicing and indexing\"\n",
    "string[-2:]"
   ]
  },
  {
   "cell_type": "code",
   "execution_count": 37,
   "id": "6ae58015",
   "metadata": {},
   "outputs": [
    {
     "data": {
      "text/plain": [
       "''"
      ]
     },
     "execution_count": 37,
     "metadata": {},
     "output_type": "execute_result"
    }
   ],
   "source": [
    "string[-11:12]"
   ]
  },
  {
   "cell_type": "code",
   "execution_count": 24,
   "id": "d16647df",
   "metadata": {},
   "outputs": [
    {
     "data": {
      "text/plain": [
       "''"
      ]
     },
     "execution_count": 24,
     "metadata": {},
     "output_type": "execute_result"
    }
   ],
   "source": [
    "string[-33:12]"
   ]
  },
  {
   "cell_type": "code",
   "execution_count": 25,
   "id": "2c4b5d96",
   "metadata": {},
   "outputs": [
    {
     "data": {
      "text/plain": [
       "'This is seco'"
      ]
     },
     "execution_count": 25,
     "metadata": {},
     "output_type": "execute_result"
    }
   ],
   "source": [
    "string[-55:12]"
   ]
  },
  {
   "cell_type": "code",
   "execution_count": 26,
   "id": "87cf78e3",
   "metadata": {},
   "outputs": [
    {
     "data": {
      "text/plain": [
       "50"
      ]
     },
     "execution_count": 26,
     "metadata": {},
     "output_type": "execute_result"
    }
   ],
   "source": [
    "len(string)"
   ]
  },
  {
   "cell_type": "code",
   "execution_count": 27,
   "id": "b34c91d2",
   "metadata": {},
   "outputs": [
    {
     "data": {
      "text/plain": [
       "'This is seco'"
      ]
     },
     "execution_count": 27,
     "metadata": {},
     "output_type": "execute_result"
    }
   ],
   "source": [
    "string[-50:12]"
   ]
  },
  {
   "cell_type": "code",
   "execution_count": 28,
   "id": "6f435b69",
   "metadata": {},
   "outputs": [
    {
     "data": {
      "text/plain": [
       "'s seco'"
      ]
     },
     "execution_count": 28,
     "metadata": {},
     "output_type": "execute_result"
    }
   ],
   "source": [
    "string[-44:12]"
   ]
  },
  {
   "cell_type": "code",
   "execution_count": 29,
   "id": "c343e9bd",
   "metadata": {},
   "outputs": [
    {
     "data": {
      "text/plain": [
       "'co'"
      ]
     },
     "execution_count": 29,
     "metadata": {},
     "output_type": "execute_result"
    }
   ],
   "source": [
    "string[-40:12]"
   ]
  },
  {
   "cell_type": "code",
   "execution_count": 30,
   "id": "6454f8b8",
   "metadata": {},
   "outputs": [
    {
     "data": {
      "text/plain": [
       "'o'"
      ]
     },
     "execution_count": 30,
     "metadata": {},
     "output_type": "execute_result"
    }
   ],
   "source": [
    "string[-39:12]"
   ]
  },
  {
   "cell_type": "code",
   "execution_count": 31,
   "id": "1c4386ed",
   "metadata": {},
   "outputs": [
    {
     "data": {
      "text/plain": [
       "''"
      ]
     },
     "execution_count": 31,
     "metadata": {},
     "output_type": "execute_result"
    }
   ],
   "source": [
    "string[-38:12]"
   ]
  },
  {
   "cell_type": "code",
   "execution_count": 34,
   "id": "b2898958",
   "metadata": {},
   "outputs": [
    {
     "data": {
      "text/plain": [
       "'d'"
      ]
     },
     "execution_count": 34,
     "metadata": {},
     "output_type": "execute_result"
    }
   ],
   "source": [
    "string[-37:12:-1]"
   ]
  },
  {
   "cell_type": "code",
   "execution_count": 35,
   "id": "ee803634",
   "metadata": {},
   "outputs": [
    {
     "data": {
      "text/plain": [
       "'d d'"
      ]
     },
     "execution_count": 35,
     "metadata": {},
     "output_type": "execute_result"
    }
   ],
   "source": [
    "string[-35:12:-1]"
   ]
  },
  {
   "cell_type": "markdown",
   "id": "9c3cdc81",
   "metadata": {},
   "source": [
    "## Accessing Characters from string using for loop"
   ]
  },
  {
   "cell_type": "code",
   "execution_count": 38,
   "id": "130c46a5",
   "metadata": {},
   "outputs": [],
   "source": [
    "string = \"This string has been taken for introducing for loop used for string\""
   ]
  },
  {
   "cell_type": "code",
   "execution_count": 40,
   "id": "26c22db4",
   "metadata": {},
   "outputs": [
    {
     "name": "stdout",
     "output_type": "stream",
     "text": [
      "T\n",
      "h\n",
      "i\n",
      "s\n",
      " \n",
      "s\n",
      "t\n",
      "r\n",
      "i\n",
      "n\n",
      "g\n",
      " \n",
      "h\n",
      "a\n",
      "s\n",
      " \n",
      "b\n",
      "e\n",
      "e\n",
      "n\n",
      " \n",
      "t\n",
      "a\n",
      "k\n",
      "e\n",
      "n\n",
      " \n",
      "f\n",
      "o\n",
      "r\n",
      " \n",
      "i\n",
      "n\n",
      "t\n",
      "r\n",
      "o\n",
      "d\n",
      "u\n",
      "c\n",
      "i\n",
      "n\n",
      "g\n",
      " \n",
      "f\n",
      "o\n",
      "r\n",
      " \n",
      "l\n",
      "o\n",
      "o\n",
      "p\n",
      " \n",
      "u\n",
      "s\n",
      "e\n",
      "d\n",
      " \n",
      "f\n",
      "o\n",
      "r\n",
      " \n",
      "s\n",
      "t\n",
      "r\n",
      "i\n",
      "n\n",
      "g\n"
     ]
    }
   ],
   "source": [
    "for char in string:\n",
    "    print(char, end = \"\\n\")"
   ]
  },
  {
   "cell_type": "code",
   "execution_count": 41,
   "id": "71428061",
   "metadata": {},
   "outputs": [
    {
     "name": "stdout",
     "output_type": "stream",
     "text": [
      "T h i s   s t r i n g   h a s   b e e n   t a k e n   f o r   i n t r o d u c i n g   f o r   l o o p   u s e d   f o r   s t r i n g "
     ]
    }
   ],
   "source": [
    "for char in string:\n",
    "    print(char, end = \" \")"
   ]
  },
  {
   "cell_type": "code",
   "execution_count": 42,
   "id": "ba51b4de",
   "metadata": {},
   "outputs": [
    {
     "name": "stdout",
     "output_type": "stream",
     "text": [
      "T-h-i-s- -s-t-r-i-n-g- -h-a-s- -b-e-e-n- -t-a-k-e-n- -f-o-r- -i-n-t-r-o-d-u-c-i-n-g- -f-o-r- -l-o-o-p- -u-s-e-d- -f-o-r- -s-t-r-i-n-g-"
     ]
    }
   ],
   "source": [
    "for char in string:\n",
    "    print(char, end = \"-\")"
   ]
  },
  {
   "cell_type": "code",
   "execution_count": 43,
   "id": "9864e994",
   "metadata": {},
   "outputs": [
    {
     "name": "stdout",
     "output_type": "stream",
     "text": [
      "P\n",
      "y\n",
      "t\n",
      "h\n",
      "o\n",
      "n\n"
     ]
    }
   ],
   "source": [
    "str1 = \"Python\"\n",
    "for char in str1:\n",
    "    print(char)"
   ]
  },
  {
   "cell_type": "code",
   "execution_count": 44,
   "id": "9ea99b9c",
   "metadata": {},
   "outputs": [
    {
     "name": "stdout",
     "output_type": "stream",
     "text": [
      "P*y*t*h*o*n*"
     ]
    }
   ],
   "source": [
    "for char in str1:\n",
    "    print(char, end = \"*\")"
   ]
  },
  {
   "cell_type": "code",
   "execution_count": 46,
   "id": "25977564",
   "metadata": {},
   "outputs": [
    {
     "name": "stdout",
     "output_type": "stream",
     "text": [
      "P\n",
      "****\n",
      "y\n",
      "****\n",
      "t\n",
      "****\n",
      "h\n",
      "****\n",
      "o\n",
      "****\n",
      "n\n",
      "****\n"
     ]
    }
   ],
   "source": [
    "for char in str1:\n",
    "    print(char)\n",
    "    print(\"****\")"
   ]
  },
  {
   "cell_type": "code",
   "execution_count": 47,
   "id": "b95e7d0a",
   "metadata": {},
   "outputs": [
    {
     "name": "stdout",
     "output_type": "stream",
     "text": [
      "Charater at index 0 is : P\n",
      "Charater at index 1 is : y\n",
      "Charater at index 2 is : t\n",
      "Charater at index 3 is : h\n",
      "Charater at index 4 is : o\n",
      "Charater at index 5 is : n\n"
     ]
    }
   ],
   "source": [
    "index = 0\n",
    "for char in str1:\n",
    "    print(f\"Charater at index {index} is : {char}\")\n",
    "    index += 1"
   ]
  },
  {
   "cell_type": "code",
   "execution_count": 48,
   "id": "3d5087bf",
   "metadata": {},
   "outputs": [
    {
     "data": {
      "text/plain": [
       "'n'"
      ]
     },
     "execution_count": 48,
     "metadata": {},
     "output_type": "execute_result"
    }
   ],
   "source": [
    "char"
   ]
  },
  {
   "cell_type": "code",
   "execution_count": 49,
   "id": "f282a289",
   "metadata": {},
   "outputs": [
    {
     "data": {
      "text/plain": [
       "'T'"
      ]
     },
     "execution_count": 49,
     "metadata": {},
     "output_type": "execute_result"
    }
   ],
   "source": [
    "string = \"This is second day for string slicing and indexing\"\n",
    "\n",
    "string[0]"
   ]
  },
  {
   "cell_type": "code",
   "execution_count": 50,
   "id": "d150ad50",
   "metadata": {},
   "outputs": [
    {
     "data": {
      "text/plain": [
       "'s'"
      ]
     },
     "execution_count": 50,
     "metadata": {},
     "output_type": "execute_result"
    }
   ],
   "source": [
    "string[3]"
   ]
  },
  {
   "cell_type": "code",
   "execution_count": 51,
   "id": "7939c192",
   "metadata": {},
   "outputs": [
    {
     "data": {
      "text/plain": [
       "'This is second day for string slicing and indexing'"
      ]
     },
     "execution_count": 51,
     "metadata": {},
     "output_type": "execute_result"
    }
   ],
   "source": [
    "string[::]\n"
   ]
  },
  {
   "cell_type": "code",
   "execution_count": 52,
   "id": "978de007",
   "metadata": {},
   "outputs": [
    {
     "data": {
      "text/plain": [
       "'is seco'"
      ]
     },
     "execution_count": 52,
     "metadata": {},
     "output_type": "execute_result"
    }
   ],
   "source": [
    "string[5:12]"
   ]
  },
  {
   "cell_type": "code",
   "execution_count": null,
   "id": "6ed25d19",
   "metadata": {},
   "outputs": [],
   "source": []
  }
 ],
 "metadata": {
  "kernelspec": {
   "display_name": "Python 3 (ipykernel)",
   "language": "python",
   "name": "python3"
  },
  "language_info": {
   "codemirror_mode": {
    "name": "ipython",
    "version": 3
   },
   "file_extension": ".py",
   "mimetype": "text/x-python",
   "name": "python",
   "nbconvert_exporter": "python",
   "pygments_lexer": "ipython3",
   "version": "3.10.5"
  }
 },
 "nbformat": 4,
 "nbformat_minor": 5
}
