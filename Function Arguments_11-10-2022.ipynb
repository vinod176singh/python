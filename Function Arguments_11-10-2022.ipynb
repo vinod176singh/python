{
 "cells": [
  {
   "cell_type": "markdown",
   "id": "c7eee346",
   "metadata": {},
   "source": [
    "# Function Arguments"
   ]
  },
  {
   "cell_type": "code",
   "execution_count": null,
   "id": "195d0b89",
   "metadata": {},
   "outputs": [],
   "source": [
    "1. Postional Argument\n",
    "2. Default Argument (Keyword Argument)\n",
    "3. Arbitary Positional Argument\n",
    "4. Arbitary Keyword Argument"
   ]
  },
  {
   "cell_type": "markdown",
   "id": "e109abdc",
   "metadata": {},
   "source": [
    "### 1. Positional Argument"
   ]
  },
  {
   "cell_type": "code",
   "execution_count": 2,
   "id": "c1dbd099",
   "metadata": {},
   "outputs": [
    {
     "name": "stdout",
     "output_type": "stream",
     "text": [
      "12\n",
      "13\n"
     ]
    }
   ],
   "source": [
    "def function_name(parameter_1,parameter_2):\n",
    "    print(parameter_1)\n",
    "    print(parameter_2)\n",
    "\n",
    "function_name(12,13)"
   ]
  },
  {
   "cell_type": "code",
   "execution_count": 3,
   "id": "e6e07ab8",
   "metadata": {},
   "outputs": [
    {
     "name": "stdout",
     "output_type": "stream",
     "text": [
      "13\n",
      "12\n"
     ]
    }
   ],
   "source": [
    "def my_func(para_1,para_2):\n",
    "    print(para_1)\n",
    "    print(para_2)\n",
    "\n",
    "my_func(13,12)"
   ]
  },
  {
   "cell_type": "code",
   "execution_count": 4,
   "id": "16e3b8b1",
   "metadata": {},
   "outputs": [],
   "source": [
    "def my_func(num_1,num_2):\n",
    "    \n",
    "    print(f\"The first number is {num_1}\")\n",
    "    print(f\"The Second number is {num_2}\")\n",
    "\n"
   ]
  },
  {
   "cell_type": "code",
   "execution_count": 5,
   "id": "e6d9613e",
   "metadata": {},
   "outputs": [
    {
     "name": "stdout",
     "output_type": "stream",
     "text": [
      "The first number is 12\n",
      "The Second number is 13\n"
     ]
    }
   ],
   "source": [
    "my_func(12,13)"
   ]
  },
  {
   "cell_type": "code",
   "execution_count": 6,
   "id": "badcb473",
   "metadata": {},
   "outputs": [
    {
     "name": "stdout",
     "output_type": "stream",
     "text": [
      "The first number is 13\n",
      "The Second number is 11\n"
     ]
    }
   ],
   "source": [
    "my_func(13,11)"
   ]
  },
  {
   "cell_type": "code",
   "execution_count": 7,
   "id": "d4dfa56c",
   "metadata": {},
   "outputs": [],
   "source": [
    "def triangle_area(b,h):\n",
    "    \n",
    "    a = 0.5*b*h\n",
    "    \n",
    "    return a"
   ]
  },
  {
   "cell_type": "code",
   "execution_count": 8,
   "id": "babd551d",
   "metadata": {},
   "outputs": [
    {
     "data": {
      "text/plain": [
       "120.0"
      ]
     },
     "execution_count": 8,
     "metadata": {},
     "output_type": "execute_result"
    }
   ],
   "source": [
    "base = 12\n",
    "height = 20\n",
    "\n",
    "triangle_area(12,20)"
   ]
  },
  {
   "cell_type": "code",
   "execution_count": 9,
   "id": "61ec52ef",
   "metadata": {},
   "outputs": [
    {
     "data": {
      "text/plain": [
       "120.0"
      ]
     },
     "execution_count": 9,
     "metadata": {},
     "output_type": "execute_result"
    }
   ],
   "source": [
    "triangle_area(20,12)"
   ]
  },
  {
   "cell_type": "code",
   "execution_count": 10,
   "id": "351410c0",
   "metadata": {},
   "outputs": [],
   "source": [
    "def calculate(num_1,num_2):\n",
    "    n = num_1**2 + num_2\n",
    "    return n"
   ]
  },
  {
   "cell_type": "code",
   "execution_count": 11,
   "id": "0f26a29e",
   "metadata": {},
   "outputs": [
    {
     "data": {
      "text/plain": [
       "133"
      ]
     },
     "execution_count": 11,
     "metadata": {},
     "output_type": "execute_result"
    }
   ],
   "source": [
    "num_1 = 11\n",
    "num_2 = 12\n",
    "\n",
    "calculate(11,12)"
   ]
  },
  {
   "cell_type": "code",
   "execution_count": 12,
   "id": "8537511b",
   "metadata": {},
   "outputs": [
    {
     "data": {
      "text/plain": [
       "155"
      ]
     },
     "execution_count": 12,
     "metadata": {},
     "output_type": "execute_result"
    }
   ],
   "source": [
    "calculate(12,11)"
   ]
  },
  {
   "cell_type": "markdown",
   "id": "b8d1588f",
   "metadata": {},
   "source": [
    "### Area of Trapezoid"
   ]
  },
  {
   "cell_type": "code",
   "execution_count": 13,
   "id": "46dbc155",
   "metadata": {},
   "outputs": [],
   "source": [
    "def area_trapezoid(a,b,h):\n",
    "    area = ((a+b)/2)*h\n",
    "    return area"
   ]
  },
  {
   "cell_type": "code",
   "execution_count": 14,
   "id": "66523b23",
   "metadata": {},
   "outputs": [
    {
     "data": {
      "text/plain": [
       "400.0"
      ]
     },
     "execution_count": 14,
     "metadata": {},
     "output_type": "execute_result"
    }
   ],
   "source": [
    "a = 12\n",
    "b = 20\n",
    "h = 25\n",
    "\n",
    "area_trapezoid(12,20,25)"
   ]
  },
  {
   "cell_type": "code",
   "execution_count": 15,
   "id": "f62fe387",
   "metadata": {},
   "outputs": [
    {
     "data": {
      "text/plain": [
       "370.0"
      ]
     },
     "execution_count": 15,
     "metadata": {},
     "output_type": "execute_result"
    }
   ],
   "source": [
    "area_trapezoid(12,25,20)"
   ]
  },
  {
   "cell_type": "markdown",
   "id": "3f2aef51",
   "metadata": {},
   "source": [
    "### 2. Default Arguments "
   ]
  },
  {
   "cell_type": "code",
   "execution_count": 22,
   "id": "14aa3c58",
   "metadata": {},
   "outputs": [],
   "source": [
    "def addition(a,b,c):\n",
    "    add = a + b + c\n",
    "    return add"
   ]
  },
  {
   "cell_type": "code",
   "execution_count": 24,
   "id": "cfb2d08b",
   "metadata": {},
   "outputs": [
    {
     "data": {
      "text/plain": [
       "40"
      ]
     },
     "execution_count": 24,
     "metadata": {},
     "output_type": "execute_result"
    }
   ],
   "source": [
    "addition(12,15,13)"
   ]
  },
  {
   "cell_type": "code",
   "execution_count": 25,
   "id": "37b7ef53",
   "metadata": {},
   "outputs": [
    {
     "ename": "TypeError",
     "evalue": "addition() missing 1 required positional argument: 'c'",
     "output_type": "error",
     "traceback": [
      "\u001b[1;31m---------------------------------------------------------------------------\u001b[0m",
      "\u001b[1;31mTypeError\u001b[0m                                 Traceback (most recent call last)",
      "Input \u001b[1;32mIn [25]\u001b[0m, in \u001b[0;36m<cell line: 1>\u001b[1;34m()\u001b[0m\n\u001b[1;32m----> 1\u001b[0m \u001b[43maddition\u001b[49m\u001b[43m(\u001b[49m\u001b[38;5;241;43m12\u001b[39;49m\u001b[43m,\u001b[49m\u001b[38;5;241;43m15\u001b[39;49m\u001b[43m)\u001b[49m\n",
      "\u001b[1;31mTypeError\u001b[0m: addition() missing 1 required positional argument: 'c'"
     ]
    }
   ],
   "source": [
    "addition(12,15)"
   ]
  },
  {
   "cell_type": "code",
   "execution_count": 26,
   "id": "3cab5462",
   "metadata": {},
   "outputs": [],
   "source": [
    "## If the argument is not passed it will take the default value that is given in a function defination\n",
    "def addition_1(a,b,c=12):\n",
    "    add = a + b + c\n",
    "    return add"
   ]
  },
  {
   "cell_type": "code",
   "execution_count": 27,
   "id": "1fc10e5e",
   "metadata": {},
   "outputs": [
    {
     "data": {
      "text/plain": [
       "39"
      ]
     },
     "execution_count": 27,
     "metadata": {},
     "output_type": "execute_result"
    }
   ],
   "source": [
    "addition_1(13,14)"
   ]
  },
  {
   "cell_type": "code",
   "execution_count": 28,
   "id": "95493f5d",
   "metadata": {},
   "outputs": [
    {
     "data": {
      "text/plain": [
       "42"
      ]
     },
     "execution_count": 28,
     "metadata": {},
     "output_type": "execute_result"
    }
   ],
   "source": [
    "addition_1(13,14,15)"
   ]
  },
  {
   "cell_type": "code",
   "execution_count": 29,
   "id": "f69d9b49",
   "metadata": {},
   "outputs": [
    {
     "data": {
      "text/plain": [
       "42"
      ]
     },
     "execution_count": 29,
     "metadata": {},
     "output_type": "execute_result"
    }
   ],
   "source": [
    "addition_1(10,20)"
   ]
  },
  {
   "cell_type": "code",
   "execution_count": 30,
   "id": "698f2bb1",
   "metadata": {},
   "outputs": [
    {
     "data": {
      "text/plain": [
       "60"
      ]
     },
     "execution_count": 30,
     "metadata": {},
     "output_type": "execute_result"
    }
   ],
   "source": [
    "addition_1(10,20,30)"
   ]
  },
  {
   "cell_type": "code",
   "execution_count": null,
   "id": "3214d3ac",
   "metadata": {},
   "outputs": [],
   "source": []
  }
 ],
 "metadata": {
  "kernelspec": {
   "display_name": "Python 3 (ipykernel)",
   "language": "python",
   "name": "python3"
  },
  "language_info": {
   "codemirror_mode": {
    "name": "ipython",
    "version": 3
   },
   "file_extension": ".py",
   "mimetype": "text/x-python",
   "name": "python",
   "nbconvert_exporter": "python",
   "pygments_lexer": "ipython3",
   "version": "3.10.5"
  }
 },
 "nbformat": 4,
 "nbformat_minor": 5
}
