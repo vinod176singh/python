{
 "cells": [
  {
   "cell_type": "markdown",
   "id": "6e54a089",
   "metadata": {},
   "source": [
    "# List Function"
   ]
  },
  {
   "cell_type": "code",
   "execution_count": null,
   "id": "fc691fd8",
   "metadata": {},
   "outputs": [],
   "source": [
    "1. append()\n",
    "2. extend()"
   ]
  },
  {
   "cell_type": "markdown",
   "id": "6b98599e",
   "metadata": {},
   "source": [
    "### 1. append()"
   ]
  },
  {
   "cell_type": "code",
   "execution_count": 1,
   "id": "9e88c740",
   "metadata": {},
   "outputs": [
    {
     "name": "stdout",
     "output_type": "stream",
     "text": [
      "['1', 2, 3, '4', 'Python', 7, 20, 'Data', 'Science']\n"
     ]
    }
   ],
   "source": [
    "list1 = [\"1\",2,3,\"4\",\"Python\",7,20,\"Data\"]\n",
    "\n",
    "list1.append(\"Science\")\n",
    "\n",
    "print(list1)"
   ]
  },
  {
   "cell_type": "code",
   "execution_count": 2,
   "id": "91fe0ec0",
   "metadata": {},
   "outputs": [
    {
     "name": "stdout",
     "output_type": "stream",
     "text": [
      "[1, 2, 3, 4, 5, [6, 7, 8, 9, 10]]\n"
     ]
    }
   ],
   "source": [
    "list1 = [1,2,3,4,5]\n",
    "list2 = [6,7,8,9,10]\n",
    "\n",
    "list1.append(list2)\n",
    "\n",
    "print(list1)"
   ]
  },
  {
   "cell_type": "markdown",
   "id": "a9bd66d3",
   "metadata": {},
   "source": [
    "### 2. extend()"
   ]
  },
  {
   "cell_type": "code",
   "execution_count": 3,
   "id": "664146f1",
   "metadata": {},
   "outputs": [
    {
     "name": "stdout",
     "output_type": "stream",
     "text": [
      "[1, 2, 3, 4, 5, 6, 7, 8, 9, 10]\n"
     ]
    }
   ],
   "source": [
    "# Extends the list by given iterable\n",
    "list1 = [1,2,3,4,5]\n",
    "list2 = [6,7,8,9,10]\n",
    "\n",
    "list1.extend(list2)\n",
    "\n",
    "print(list1)"
   ]
  },
  {
   "cell_type": "code",
   "execution_count": 5,
   "id": "f96142e9",
   "metadata": {},
   "outputs": [
    {
     "name": "stdout",
     "output_type": "stream",
     "text": [
      "['Ramesh', 'Suresh', 'Dinesh', '50', '60', '70']\n"
     ]
    }
   ],
   "source": [
    "list1 = [\"Ramesh\", \"Suresh\", \"Dinesh\"]\n",
    "list2 = [\"50\",\"60\",\"70\"]\n",
    "\n",
    "list1.extend(list2)\n",
    "\n",
    "print(list1)"
   ]
  },
  {
   "cell_type": "code",
   "execution_count": 7,
   "id": "06a4e276",
   "metadata": {},
   "outputs": [
    {
     "name": "stdout",
     "output_type": "stream",
     "text": [
      "['Ramesh', 'Suresh', 'Dinesh', '50', '60', '70']\n"
     ]
    }
   ],
   "source": [
    "list1 = [\"Ramesh\", \"Suresh\", \"Dinesh\"]\n",
    "tuple1 = (\"50\",\"60\",\"70\")\n",
    "\n",
    "list1.extend(tuple1)\n",
    "\n",
    "print(list1)"
   ]
  },
  {
   "cell_type": "code",
   "execution_count": 8,
   "id": "7e702744",
   "metadata": {},
   "outputs": [
    {
     "name": "stdout",
     "output_type": "stream",
     "text": [
      "['Ramesh', 'Suresh', 'Dinesh', 60, 61, 62, 63, 64, 65]\n"
     ]
    }
   ],
   "source": [
    "list1 = [\"Ramesh\", \"Suresh\", \"Dinesh\"]\n",
    "range1 = range(60,66)\n",
    "\n",
    "list1.extend(range1)\n",
    "\n",
    "print(list1)"
   ]
  },
  {
   "cell_type": "markdown",
   "id": "059bb3b7",
   "metadata": {},
   "source": [
    "### 3. insert()"
   ]
  },
  {
   "cell_type": "code",
   "execution_count": null,
   "id": "1304c649",
   "metadata": {},
   "outputs": [],
   "source": [
    "# Inserts the value at given index\n",
    "Syntax >> list1.insert(index,value)"
   ]
  },
  {
   "cell_type": "code",
   "execution_count": 9,
   "id": "067bdc9b",
   "metadata": {},
   "outputs": [
    {
     "name": "stdout",
     "output_type": "stream",
     "text": [
      "['0', '1', 'value', '2', '3', '4', '5', '6']\n"
     ]
    }
   ],
   "source": [
    "list1 = [\"0\",\"1\",\"2\",\"3\",\"4\",\"5\",\"6\"]\n",
    "list1.insert(2,\"value\")\n",
    "\n",
    "print(list1)"
   ]
  },
  {
   "cell_type": "code",
   "execution_count": 11,
   "id": "42f89c8c",
   "metadata": {},
   "outputs": [
    {
     "name": "stdout",
     "output_type": "stream",
     "text": [
      "['Ramesh', 'Suresh', 'Dinesh', 'Delhi', 'Mahesh', 'Ganesh']\n"
     ]
    }
   ],
   "source": [
    "list1 = [\"Ramesh\",\"Suresh\",\"Dinesh\",\"Mahesh\",\"Ganesh\"]\n",
    "\n",
    "list1.insert(3,\"Delhi\")\n",
    "\n",
    "print(list1)"
   ]
  },
  {
   "cell_type": "code",
   "execution_count": 12,
   "id": "ff34b1b0",
   "metadata": {},
   "outputs": [
    {
     "name": "stdout",
     "output_type": "stream",
     "text": [
      "['Ramesh', 'Suresh', 'Dinesh', 'Mahesh', 'Delhi', 'Ganesh']\n"
     ]
    }
   ],
   "source": [
    "list1 = [\"Ramesh\",\"Suresh\",\"Dinesh\",\"Mahesh\",\"Ganesh\"]\n",
    "\n",
    "list1.insert(-1,\"Delhi\")\n",
    "\n",
    "print(list1)"
   ]
  },
  {
   "cell_type": "code",
   "execution_count": 14,
   "id": "b956d241",
   "metadata": {},
   "outputs": [
    {
     "name": "stdout",
     "output_type": "stream",
     "text": [
      "['Ramesh', 'Suresh', 'Dinesh', 'Mahesh', 'Ganesh', 'Delhi']\n"
     ]
    }
   ],
   "source": [
    "list1 = [\"Ramesh\",\"Suresh\",\"Dinesh\",\"Mahesh\",\"Ganesh\"]\n",
    "\n",
    "list1.insert(5,\"Delhi\")\n",
    "\n",
    "print(list1)"
   ]
  },
  {
   "cell_type": "code",
   "execution_count": 15,
   "id": "f21ce7e4",
   "metadata": {},
   "outputs": [
    {
     "name": "stdout",
     "output_type": "stream",
     "text": [
      "['Ramesh', 'Suresh', 'Dinesh', 'Mahesh', 'Ganesh', 'Delhi', 'Mumbai']\n"
     ]
    }
   ],
   "source": [
    "list1 = [\"Ramesh\",\"Suresh\",\"Dinesh\",\"Mahesh\",\"Ganesh\",'Delhi']\n",
    "\n",
    "list1.insert(50,\"Mumbai\")\n",
    "\n",
    "print(list1)"
   ]
  },
  {
   "cell_type": "markdown",
   "id": "814cea81",
   "metadata": {},
   "source": [
    "# Funtions to delete items from the list"
   ]
  },
  {
   "cell_type": "code",
   "execution_count": null,
   "id": "e7dc1d94",
   "metadata": {},
   "outputs": [],
   "source": [
    "1. remove()\n",
    "2. pop()\n",
    "3. clear()\n",
    "4. del # Inbuilt python function"
   ]
  },
  {
   "cell_type": "markdown",
   "id": "e61c44b3",
   "metadata": {},
   "source": [
    "### 1. remove()"
   ]
  },
  {
   "cell_type": "code",
   "execution_count": null,
   "id": "37a35d21",
   "metadata": {},
   "outputs": [],
   "source": [
    "## This function removes the first occurance of the given item from the list\n",
    "\n",
    "Syntax >> list1.remove(item)"
   ]
  },
  {
   "cell_type": "code",
   "execution_count": 48,
   "id": "95abd206",
   "metadata": {},
   "outputs": [
    {
     "name": "stdout",
     "output_type": "stream",
     "text": [
      "['Delhi', 'Chennai', 'Mumbai', 'Kolkata', 'Banglore', 'Delhi', 'Pune']\n",
      "None\n"
     ]
    }
   ],
   "source": [
    "list1 = [\"Mumbai\",\"Delhi\",\"Chennai\",\"Mumbai\",\"Kolkata\",\"Banglore\",\"Delhi\",\"Pune\"]\n",
    "\n",
    "list1.remove(\"Mumbai\")\n",
    "print(list1)\n",
    "print(city)"
   ]
  },
  {
   "cell_type": "code",
   "execution_count": 17,
   "id": "1936df5d",
   "metadata": {},
   "outputs": [
    {
     "data": {
      "text/plain": [
       "['Delhi', 'Chennai', 'Kolkata', 'Banglore', 'Delhi', 'Pune']"
      ]
     },
     "execution_count": 17,
     "metadata": {},
     "output_type": "execute_result"
    }
   ],
   "source": [
    "list1.remove(\"Mumbai\")\n",
    "list1"
   ]
  },
  {
   "cell_type": "code",
   "execution_count": 20,
   "id": "5d71cfe9",
   "metadata": {},
   "outputs": [
    {
     "ename": "ValueError",
     "evalue": "list.remove(x): x not in list",
     "output_type": "error",
     "traceback": [
      "\u001b[1;31m---------------------------------------------------------------------------\u001b[0m",
      "\u001b[1;31mValueError\u001b[0m                                Traceback (most recent call last)",
      "Input \u001b[1;32mIn [20]\u001b[0m, in \u001b[0;36m<cell line: 1>\u001b[1;34m()\u001b[0m\n\u001b[1;32m----> 1\u001b[0m \u001b[43mlist1\u001b[49m\u001b[38;5;241;43m.\u001b[39;49m\u001b[43mremove\u001b[49m\u001b[43m(\u001b[49m\u001b[38;5;124;43m\"\u001b[39;49m\u001b[38;5;124;43mMumbai\u001b[39;49m\u001b[38;5;124;43m\"\u001b[39;49m\u001b[43m)\u001b[49m\n\u001b[0;32m      2\u001b[0m list1\n",
      "\u001b[1;31mValueError\u001b[0m: list.remove(x): x not in list"
     ]
    }
   ],
   "source": [
    "list1.remove(\"Mumbai\")\n",
    "list1"
   ]
  },
  {
   "cell_type": "code",
   "execution_count": 19,
   "id": "80bfb9b9",
   "metadata": {},
   "outputs": [
    {
     "data": {
      "text/plain": [
       "[1, 2, 3, 5, 2, 3, 5, 6, 72, 3, 4, 5, 7, 8, 4, 5, 6, 3, 4]"
      ]
     },
     "execution_count": 19,
     "metadata": {},
     "output_type": "execute_result"
    }
   ],
   "source": [
    "list1 = [1,2,3,4,5,2,3,5,6,72,3,4,5,7,8,4,5,6,3,4]\n",
    "\n",
    "list1.remove(4)\n",
    "list1"
   ]
  },
  {
   "cell_type": "code",
   "execution_count": 21,
   "id": "953b7262",
   "metadata": {},
   "outputs": [],
   "source": [
    "for i in list1:\n",
    "    if 4 in list1:\n",
    "        list1.remove(4)\n",
    "    else:\n",
    "        pass"
   ]
  },
  {
   "cell_type": "code",
   "execution_count": 22,
   "id": "20094333",
   "metadata": {},
   "outputs": [
    {
     "data": {
      "text/plain": [
       "[1, 2, 3, 5, 2, 3, 5, 6, 72, 3, 5, 7, 8, 5, 6, 3]"
      ]
     },
     "execution_count": 22,
     "metadata": {},
     "output_type": "execute_result"
    }
   ],
   "source": [
    "list1"
   ]
  },
  {
   "cell_type": "markdown",
   "id": "2bceb1f0",
   "metadata": {},
   "source": [
    "### 2. pop()"
   ]
  },
  {
   "cell_type": "code",
   "execution_count": null,
   "id": "73e131c2",
   "metadata": {},
   "outputs": [],
   "source": [
    "## It removes the last indexed item when the index is not passed as an argument\n",
    "## If the index is passed it will remove item from that index\n",
    "\n",
    "list1.pop(index) # Default argument is -1"
   ]
  },
  {
   "cell_type": "code",
   "execution_count": 47,
   "id": "6a2fe31a",
   "metadata": {},
   "outputs": [
    {
     "name": "stdout",
     "output_type": "stream",
     "text": [
      "['Mumbai', 'Delhi', 'Chennai', 'Mumbai', 'Kolkata', 'Banglore', 'Delhi']\n",
      "Pune\n"
     ]
    }
   ],
   "source": [
    "list1 = [\"Mumbai\",\"Delhi\",\"Chennai\",\"Mumbai\",\"Kolkata\",\"Banglore\",\"Delhi\",\"Pune\"]\n",
    "\n",
    "city = list1.pop()\n",
    "print(list1)\n",
    "print(city)"
   ]
  },
  {
   "cell_type": "code",
   "execution_count": 24,
   "id": "d1eba6c2",
   "metadata": {},
   "outputs": [
    {
     "name": "stdout",
     "output_type": "stream",
     "text": [
      "['Mumbai', 'Delhi', 'Chennai', 'Mumbai', 'Kolkata', 'Banglore']\n"
     ]
    }
   ],
   "source": [
    "list1.pop()\n",
    "print(list1)"
   ]
  },
  {
   "cell_type": "code",
   "execution_count": 25,
   "id": "d78bac66",
   "metadata": {},
   "outputs": [
    {
     "name": "stdout",
     "output_type": "stream",
     "text": [
      "['Mumbai', 'Delhi', 'Chennai', 'Mumbai', 'Kolkata']\n"
     ]
    }
   ],
   "source": [
    "list1.pop()\n",
    "print(list1)"
   ]
  },
  {
   "cell_type": "code",
   "execution_count": 26,
   "id": "37870a08",
   "metadata": {},
   "outputs": [
    {
     "name": "stdout",
     "output_type": "stream",
     "text": [
      "['Mumbai', 'Delhi', 'Chennai', 'Mumbai']\n"
     ]
    }
   ],
   "source": [
    "list1.pop()\n",
    "print(list1)"
   ]
  },
  {
   "cell_type": "code",
   "execution_count": 27,
   "id": "0315c0c6",
   "metadata": {},
   "outputs": [
    {
     "name": "stdout",
     "output_type": "stream",
     "text": [
      "['Mumbai', 'Delhi', 'Chennai']\n"
     ]
    }
   ],
   "source": [
    "list1.pop()\n",
    "print(list1)"
   ]
  },
  {
   "cell_type": "code",
   "execution_count": 28,
   "id": "b0fa614d",
   "metadata": {},
   "outputs": [
    {
     "name": "stdout",
     "output_type": "stream",
     "text": [
      "['Mumbai', 'Delhi', 'Mumbai', 'Kolkata', 'Banglore', 'Delhi', 'Pune']\n"
     ]
    }
   ],
   "source": [
    "list1 = [\"Mumbai\",\"Delhi\",\"Chennai\",\"Mumbai\",\"Kolkata\",\"Banglore\",\"Delhi\",\"Pune\"]\n",
    "\n",
    "list1.pop(2)\n",
    "print(list1)"
   ]
  },
  {
   "cell_type": "code",
   "execution_count": 29,
   "id": "11df06b8",
   "metadata": {},
   "outputs": [
    {
     "name": "stdout",
     "output_type": "stream",
     "text": [
      "['Mumbai', 'Delhi', 'Kolkata', 'Banglore', 'Delhi', 'Pune']\n"
     ]
    }
   ],
   "source": [
    "list1.pop(2)\n",
    "print(list1)"
   ]
  },
  {
   "cell_type": "code",
   "execution_count": 30,
   "id": "726c9cd8",
   "metadata": {},
   "outputs": [
    {
     "name": "stdout",
     "output_type": "stream",
     "text": [
      "['Mumbai', 'Delhi', 'Kolkata', 'Banglore', 'Pune']\n"
     ]
    }
   ],
   "source": [
    "list1.pop(4)\n",
    "print(list1)"
   ]
  },
  {
   "cell_type": "markdown",
   "id": "6ab88be0",
   "metadata": {},
   "source": [
    "### 3. clear()"
   ]
  },
  {
   "cell_type": "code",
   "execution_count": null,
   "id": "dd12a243",
   "metadata": {},
   "outputs": [],
   "source": [
    "## It removes all the items form the list"
   ]
  },
  {
   "cell_type": "markdown",
   "id": "d51cb3ce",
   "metadata": {},
   "source": [
    "list1.clear()"
   ]
  },
  {
   "cell_type": "code",
   "execution_count": 31,
   "id": "c782da53",
   "metadata": {},
   "outputs": [
    {
     "name": "stdout",
     "output_type": "stream",
     "text": [
      "[]\n"
     ]
    }
   ],
   "source": [
    "list1 = [1,2,3,4,5,6,7]\n",
    "list1.clear()\n",
    "\n",
    "print(list1)"
   ]
  },
  {
   "cell_type": "code",
   "execution_count": 32,
   "id": "71bd27df",
   "metadata": {},
   "outputs": [
    {
     "name": "stdout",
     "output_type": "stream",
     "text": [
      "[122]\n"
     ]
    }
   ],
   "source": [
    "list1.append(122)\n",
    "print(list1)"
   ]
  },
  {
   "cell_type": "code",
   "execution_count": 33,
   "id": "10e3830a",
   "metadata": {},
   "outputs": [
    {
     "name": "stdout",
     "output_type": "stream",
     "text": [
      "[122, 1]\n"
     ]
    }
   ],
   "source": [
    "list1.append(1)\n",
    "print(list1)"
   ]
  },
  {
   "cell_type": "code",
   "execution_count": 34,
   "id": "6ef5fde7",
   "metadata": {},
   "outputs": [
    {
     "name": "stdout",
     "output_type": "stream",
     "text": [
      "[]\n"
     ]
    }
   ],
   "source": [
    "list1.clear()\n",
    "print(list1)"
   ]
  },
  {
   "cell_type": "markdown",
   "id": "92b61859",
   "metadata": {},
   "source": [
    "### 4. del"
   ]
  },
  {
   "cell_type": "code",
   "execution_count": 36,
   "id": "1f3cad58",
   "metadata": {},
   "outputs": [
    {
     "ename": "NameError",
     "evalue": "name 'list1' is not defined",
     "output_type": "error",
     "traceback": [
      "\u001b[1;31m---------------------------------------------------------------------------\u001b[0m",
      "\u001b[1;31mNameError\u001b[0m                                 Traceback (most recent call last)",
      "Input \u001b[1;32mIn [36]\u001b[0m, in \u001b[0;36m<cell line: 5>\u001b[1;34m()\u001b[0m\n\u001b[0;32m      1\u001b[0m list1 \u001b[38;5;241m=\u001b[39m [\u001b[38;5;241m1\u001b[39m,\u001b[38;5;241m2\u001b[39m,\u001b[38;5;241m3\u001b[39m,\u001b[38;5;241m4\u001b[39m,\u001b[38;5;241m5\u001b[39m]\n\u001b[0;32m      3\u001b[0m \u001b[38;5;28;01mdel\u001b[39;00m list1\n\u001b[1;32m----> 5\u001b[0m \u001b[38;5;28mprint\u001b[39m(\u001b[43mlist1\u001b[49m)\n",
      "\u001b[1;31mNameError\u001b[0m: name 'list1' is not defined"
     ]
    }
   ],
   "source": [
    "list1 = [1,2,3,4,5]\n",
    "\n",
    "del list1\n",
    "\n",
    "print(list1)"
   ]
  },
  {
   "cell_type": "code",
   "execution_count": 37,
   "id": "d4b30c02",
   "metadata": {},
   "outputs": [],
   "source": [
    "city_list = [\"Mumbai\",\"Delhi\",\"Chennai\",\"Mumbai\",\"Kolkata\",\"Banglore\",\"Delhi\",\"Pune\"]"
   ]
  },
  {
   "cell_type": "code",
   "execution_count": 38,
   "id": "3411b447",
   "metadata": {},
   "outputs": [],
   "source": [
    "del city_list"
   ]
  },
  {
   "cell_type": "code",
   "execution_count": 39,
   "id": "81365ffe",
   "metadata": {},
   "outputs": [
    {
     "ename": "NameError",
     "evalue": "name 'city_list' is not defined",
     "output_type": "error",
     "traceback": [
      "\u001b[1;31m---------------------------------------------------------------------------\u001b[0m",
      "\u001b[1;31mNameError\u001b[0m                                 Traceback (most recent call last)",
      "Input \u001b[1;32mIn [39]\u001b[0m, in \u001b[0;36m<cell line: 1>\u001b[1;34m()\u001b[0m\n\u001b[1;32m----> 1\u001b[0m \u001b[38;5;28mprint\u001b[39m(\u001b[43mcity_list\u001b[49m)\n",
      "\u001b[1;31mNameError\u001b[0m: name 'city_list' is not defined"
     ]
    }
   ],
   "source": [
    "print(city_list)"
   ]
  },
  {
   "cell_type": "markdown",
   "id": "32b3deca",
   "metadata": {},
   "source": [
    "# Sorting Functions"
   ]
  },
  {
   "cell_type": "markdown",
   "id": "d441210b",
   "metadata": {},
   "source": [
    "### 1. Ascending Order"
   ]
  },
  {
   "cell_type": "code",
   "execution_count": 41,
   "id": "6cafd8c5",
   "metadata": {},
   "outputs": [
    {
     "name": "stdout",
     "output_type": "stream",
     "text": [
      "[1, 1, 2, 2, 2, 3, 3, 4, 4, 5, 5, 6, 7, 59, 73]\n"
     ]
    }
   ],
   "source": [
    "list1 = [1,5,2,1,6,73,4,2,3,4,59,7,5,3,2]\n",
    "\n",
    "list1.sort() # List Function\n",
    "\n",
    "print(list1)"
   ]
  },
  {
   "cell_type": "code",
   "execution_count": 42,
   "id": "e640ad26",
   "metadata": {},
   "outputs": [
    {
     "name": "stdout",
     "output_type": "stream",
     "text": [
      "['Bio', 'Chem', 'Computer', 'Eng', 'Maths', 'Phy']\n"
     ]
    }
   ],
   "source": [
    "subject_list = [\"Phy\",\"Chem\",\"Maths\",\"Bio\",\"Computer\",\"Eng\"]\n",
    "\n",
    "subject_list.sort() # List Function\n",
    "\n",
    "print(subject_list)"
   ]
  },
  {
   "cell_type": "code",
   "execution_count": 43,
   "id": "9a2f9120",
   "metadata": {},
   "outputs": [
    {
     "name": "stdout",
     "output_type": "stream",
     "text": [
      "['Bio', 'Chem', 'Computer', 'Eng', 'Maths', 'Phy', 'bio']\n"
     ]
    }
   ],
   "source": [
    "subject_list = [\"Phy\",\"Chem\",\"Maths\",\"Bio\",\"Computer\",\"Eng\", \"bio\"]\n",
    "\n",
    "subject_list.sort() #List Function\n",
    "\n",
    "print(subject_list)"
   ]
  },
  {
   "cell_type": "markdown",
   "id": "dad9685a",
   "metadata": {},
   "source": [
    "### 2. Descending order"
   ]
  },
  {
   "cell_type": "code",
   "execution_count": 44,
   "id": "e1d5de2d",
   "metadata": {},
   "outputs": [
    {
     "name": "stdout",
     "output_type": "stream",
     "text": [
      "[73, 59, 7, 6, 5, 5, 4, 4, 3, 3, 2, 2, 2, 1, 1]\n"
     ]
    }
   ],
   "source": [
    "list1 = [1,5,2,1,6,73,4,2,3,4,59,7,5,3,2]\n",
    "\n",
    "list1.sort(reverse = True) # List Function\n",
    "\n",
    "print(list1)"
   ]
  },
  {
   "cell_type": "code",
   "execution_count": 45,
   "id": "63e355a9",
   "metadata": {},
   "outputs": [
    {
     "name": "stdout",
     "output_type": "stream",
     "text": [
      "['bio', 'Phy', 'Maths', 'Eng', 'Computer', 'Chem', 'Bio']\n"
     ]
    }
   ],
   "source": [
    "subject_list = [\"Phy\",\"Chem\",\"Maths\",\"Bio\",\"Computer\",\"Eng\", \"bio\"]\n",
    "\n",
    "subject_list.sort(reverse = True) # List Function\n",
    "\n",
    "print(subject_list)"
   ]
  },
  {
   "cell_type": "markdown",
   "id": "dbbe42db",
   "metadata": {},
   "source": [
    "### sort function doesn't return anything"
   ]
  },
  {
   "cell_type": "code",
   "execution_count": 46,
   "id": "f25922e1",
   "metadata": {},
   "outputs": [
    {
     "name": "stdout",
     "output_type": "stream",
     "text": [
      "None\n"
     ]
    }
   ],
   "source": [
    "subject_list = [\"Phy\",\"Chem\",\"Maths\",\"Bio\",\"Computer\",\"Eng\", \"bio\"]\n",
    "\n",
    "subject_list_2 = subject_list.sort()\n",
    "print(subject_list_2)"
   ]
  },
  {
   "cell_type": "markdown",
   "id": "417be2b0",
   "metadata": {},
   "source": [
    "### Buit in Python Function for sorting list"
   ]
  },
  {
   "cell_type": "code",
   "execution_count": 49,
   "id": "9944561c",
   "metadata": {},
   "outputs": [
    {
     "data": {
      "text/plain": [
       "[1, 1, 2, 2, 2, 3, 3, 4, 4, 5, 5, 6, 7, 59, 73]"
      ]
     },
     "execution_count": 49,
     "metadata": {},
     "output_type": "execute_result"
    }
   ],
   "source": [
    "list1 = [1,5,2,1,6,73,4,2,3,4,59,7,5,3,2]\n",
    "\n",
    "sorted(list1)"
   ]
  },
  {
   "cell_type": "code",
   "execution_count": 52,
   "id": "a809df21",
   "metadata": {},
   "outputs": [
    {
     "name": "stdout",
     "output_type": "stream",
     "text": [
      "[1, 5, 2, 1, 6, 73, 4, 2, 3, 4, 59, 7, 5, 3, 2]\n",
      "[1, 1, 2, 2, 2, 3, 3, 4, 4, 5, 5, 6, 7, 59, 73]\n"
     ]
    }
   ],
   "source": [
    "list1 = [1,5,2,1,6,73,4,2,3,4,59,7,5,3,2]\n",
    "\n",
    "list2 = sorted(list1) ## sorted returns the sorted list\n",
    "\n",
    "print(list1)\n",
    "print(list2)"
   ]
  },
  {
   "cell_type": "code",
   "execution_count": 51,
   "id": "98f98517",
   "metadata": {},
   "outputs": [
    {
     "name": "stdout",
     "output_type": "stream",
     "text": [
      "[73, 59, 7, 6, 5, 5, 4, 4, 3, 3, 2, 2, 2, 1, 1]\n"
     ]
    }
   ],
   "source": [
    "list1 = [1,5,2,1,6,73,4,2,3,4,59,7,5,3,2]\n",
    "\n",
    "list2 = sorted(list1, reverse = True) ## sorted returns the sorted list\n",
    "\n",
    "print(list2)"
   ]
  },
  {
   "cell_type": "markdown",
   "id": "54256c89",
   "metadata": {},
   "source": [
    "### Reverse"
   ]
  },
  {
   "cell_type": "code",
   "execution_count": 54,
   "id": "70ce390d",
   "metadata": {},
   "outputs": [
    {
     "name": "stdout",
     "output_type": "stream",
     "text": [
      "['Intelligence', 'Science', 'Learning', 'Artificial', 'Data', 'Machine', 'Python']\n"
     ]
    }
   ],
   "source": [
    "# It reverses the existing list in place and does not return anything\n",
    "list1 = [\"Python\",\"Machine\",\"Data\",\"Artificial\",\"Learning\",\"Science\",\"Intelligence\"]\n",
    "\n",
    "list1.reverse() ## List Function\n",
    "\n",
    "print(list1)"
   ]
  },
  {
   "cell_type": "code",
   "execution_count": 55,
   "id": "6915fe20",
   "metadata": {},
   "outputs": [
    {
     "name": "stdout",
     "output_type": "stream",
     "text": [
      "['Intelligence', 'Science', 'Learning', 'Artificial', 'Data', 'Machine', 'Python']\n",
      "['Python', 'Machine', 'Data', 'Artificial', 'Learning', 'Science', 'Intelligence']\n"
     ]
    }
   ],
   "source": [
    "list1 = [\"Python\",\"Machine\",\"Data\",\"Artificial\",\"Learning\",\"Science\",\"Intelligence\"]\n",
    "\n",
    "# If indexing is used for reversing the list, it does not alter the existing list but returns a reversed copy of it\n",
    "\n",
    "print(list1[::-1])\n",
    "print(list1)"
   ]
  },
  {
   "cell_type": "markdown",
   "id": "e7c72040",
   "metadata": {},
   "source": [
    "### Built in Python Function for Rerversing the list"
   ]
  },
  {
   "cell_type": "markdown",
   "id": "6f591cf6",
   "metadata": {},
   "source": [
    "### reversed"
   ]
  },
  {
   "cell_type": "code",
   "execution_count": 58,
   "id": "b48940e5",
   "metadata": {},
   "outputs": [
    {
     "name": "stdout",
     "output_type": "stream",
     "text": [
      "['Python', 'Machine', 'Data', 'Artificial', 'Learning', 'Science', 'Intelligence']\n",
      "<list_reverseiterator object at 0x0000017581968850>\n",
      "['Intelligence', 'Science', 'Learning', 'Artificial', 'Data', 'Machine', 'Python']\n"
     ]
    }
   ],
   "source": [
    "list1 = [\"Python\",\"Machine\",\"Data\",\"Artificial\",\"Learning\",\"Science\",\"Intelligence\"]\n",
    "\n",
    "list2 = reversed(list1)\n",
    "\n",
    "print(list1)\n",
    "print(list2)\n",
    "print(list(list2))"
   ]
  },
  {
   "cell_type": "markdown",
   "id": "b3f97f58",
   "metadata": {},
   "source": [
    "## Other Built in functions for List"
   ]
  },
  {
   "cell_type": "code",
   "execution_count": null,
   "id": "a5fe5f3b",
   "metadata": {},
   "outputs": [],
   "source": [
    "1. max()\n",
    "2. min()\n",
    "3. sum()\n",
    "4. len()\n",
    "5. id()\n",
    "6. tuple()"
   ]
  },
  {
   "cell_type": "code",
   "execution_count": 60,
   "id": "bc6d3d06",
   "metadata": {},
   "outputs": [
    {
     "name": "stdout",
     "output_type": "stream",
     "text": [
      "73\n"
     ]
    }
   ],
   "source": [
    "num_list = [1,5,2,1,6,73,4,2,3,4,59,7,5,3,2]\n",
    "print(max(num_list))"
   ]
  },
  {
   "cell_type": "code",
   "execution_count": 61,
   "id": "197ea49d",
   "metadata": {},
   "outputs": [
    {
     "name": "stdout",
     "output_type": "stream",
     "text": [
      "1\n"
     ]
    }
   ],
   "source": [
    "print(min(num_list))"
   ]
  },
  {
   "cell_type": "code",
   "execution_count": 66,
   "id": "755d9843",
   "metadata": {},
   "outputs": [
    {
     "name": "stdout",
     "output_type": "stream",
     "text": [
      "1\n"
     ]
    }
   ],
   "source": [
    "min_num = min(num_list)\n",
    "\n",
    "print(min_num)"
   ]
  },
  {
   "cell_type": "code",
   "execution_count": 62,
   "id": "33127b54",
   "metadata": {},
   "outputs": [
    {
     "name": "stdout",
     "output_type": "stream",
     "text": [
      "177\n"
     ]
    }
   ],
   "source": [
    "print(sum(num_list))"
   ]
  },
  {
   "cell_type": "code",
   "execution_count": 63,
   "id": "ed95367c",
   "metadata": {},
   "outputs": [
    {
     "name": "stdout",
     "output_type": "stream",
     "text": [
      "15\n"
     ]
    }
   ],
   "source": [
    "print(len(num_list))"
   ]
  },
  {
   "cell_type": "code",
   "execution_count": 64,
   "id": "6c340771",
   "metadata": {},
   "outputs": [
    {
     "name": "stdout",
     "output_type": "stream",
     "text": [
      "1604191978368\n"
     ]
    }
   ],
   "source": [
    "print(id(num_list))"
   ]
  },
  {
   "cell_type": "code",
   "execution_count": 65,
   "id": "797fd8bc",
   "metadata": {},
   "outputs": [
    {
     "name": "stdout",
     "output_type": "stream",
     "text": [
      "(1, 5, 2, 1, 6, 73, 4, 2, 3, 4, 59, 7, 5, 3, 2)\n"
     ]
    }
   ],
   "source": [
    "tuple1 = tuple(num_list)\n",
    "\n",
    "print(tuple1)"
   ]
  },
  {
   "cell_type": "markdown",
   "id": "7e88b816",
   "metadata": {},
   "source": [
    "### index()"
   ]
  },
  {
   "cell_type": "code",
   "execution_count": null,
   "id": "1855c5f2",
   "metadata": {},
   "outputs": [],
   "source": [
    "### Retruns first occurance of the item in the list"
   ]
  },
  {
   "cell_type": "code",
   "execution_count": 68,
   "id": "67ee9ecd",
   "metadata": {},
   "outputs": [
    {
     "data": {
      "text/plain": [
       "4"
      ]
     },
     "execution_count": 68,
     "metadata": {},
     "output_type": "execute_result"
    }
   ],
   "source": [
    "num_list = [1,5,2,1,6,73,4,2,3,4,59,7,5,3,2]\n",
    "\n",
    "num_list.index(6)"
   ]
  },
  {
   "cell_type": "code",
   "execution_count": 69,
   "id": "f3cdad45",
   "metadata": {},
   "outputs": [
    {
     "data": {
      "text/plain": [
       "2"
      ]
     },
     "execution_count": 69,
     "metadata": {},
     "output_type": "execute_result"
    }
   ],
   "source": [
    "num_list.index(2)"
   ]
  },
  {
   "cell_type": "code",
   "execution_count": 70,
   "id": "de805548",
   "metadata": {},
   "outputs": [
    {
     "data": {
      "text/plain": [
       "8"
      ]
     },
     "execution_count": 70,
     "metadata": {},
     "output_type": "execute_result"
    }
   ],
   "source": [
    "num_list.index(3)"
   ]
  },
  {
   "cell_type": "markdown",
   "id": "75f0747d",
   "metadata": {},
   "source": [
    "### count()"
   ]
  },
  {
   "cell_type": "code",
   "execution_count": 71,
   "id": "1e6020ee",
   "metadata": {},
   "outputs": [
    {
     "data": {
      "text/plain": [
       "3"
      ]
     },
     "execution_count": 71,
     "metadata": {},
     "output_type": "execute_result"
    }
   ],
   "source": [
    "## Returns the count of item in the list\n",
    "num_list = [1,5,2,1,6,73,4,2,3,4,59,7,5,3,2]\n",
    "\n",
    "num_list.count(2)"
   ]
  },
  {
   "cell_type": "code",
   "execution_count": 72,
   "id": "2285b384",
   "metadata": {},
   "outputs": [
    {
     "data": {
      "text/plain": [
       "2"
      ]
     },
     "execution_count": 72,
     "metadata": {},
     "output_type": "execute_result"
    }
   ],
   "source": [
    "num_list.count(3)"
   ]
  },
  {
   "cell_type": "code",
   "execution_count": 73,
   "id": "d8ab15b4",
   "metadata": {},
   "outputs": [
    {
     "data": {
      "text/plain": [
       "1"
      ]
     },
     "execution_count": 73,
     "metadata": {},
     "output_type": "execute_result"
    }
   ],
   "source": [
    "num_list.count(73)"
   ]
  },
  {
   "cell_type": "code",
   "execution_count": 74,
   "id": "c780f532",
   "metadata": {},
   "outputs": [
    {
     "data": {
      "text/plain": [
       "2"
      ]
     },
     "execution_count": 74,
     "metadata": {},
     "output_type": "execute_result"
    }
   ],
   "source": [
    "num_list.count(5)"
   ]
  },
  {
   "cell_type": "code",
   "execution_count": 75,
   "id": "3732218a",
   "metadata": {},
   "outputs": [
    {
     "data": {
      "text/plain": [
       "2"
      ]
     },
     "execution_count": 75,
     "metadata": {},
     "output_type": "execute_result"
    }
   ],
   "source": [
    "city_names = [\"Mumbai\",\"Delhi\",\"Chennai\",\"Mumbai\",\"Kolkata\",\"Banglore\",\"Delhi\",\"Pune\"]\n",
    "\n",
    "city_names.count(\"Delhi\")"
   ]
  },
  {
   "cell_type": "code",
   "execution_count": 76,
   "id": "69a8951e",
   "metadata": {},
   "outputs": [
    {
     "data": {
      "text/plain": [
       "2"
      ]
     },
     "execution_count": 76,
     "metadata": {},
     "output_type": "execute_result"
    }
   ],
   "source": [
    "city_names.count(\"Mumbai\")"
   ]
  },
  {
   "cell_type": "code",
   "execution_count": 77,
   "id": "c23ed1e8",
   "metadata": {},
   "outputs": [
    {
     "data": {
      "text/plain": [
       "1"
      ]
     },
     "execution_count": 77,
     "metadata": {},
     "output_type": "execute_result"
    }
   ],
   "source": [
    "city_names.count(\"Chennai\")"
   ]
  },
  {
   "cell_type": "markdown",
   "id": "1f419e20",
   "metadata": {},
   "source": [
    "# Copy Function"
   ]
  },
  {
   "cell_type": "code",
   "execution_count": 81,
   "id": "93a99bbc",
   "metadata": {},
   "outputs": [
    {
     "name": "stdout",
     "output_type": "stream",
     "text": [
      "[1, 2, 3, 4, 5, 100]\n",
      "[1, 2, 3, 4, 5, 100]\n"
     ]
    }
   ],
   "source": [
    "list1 = [1,2,3,4,5]\n",
    "\n",
    "list2 = list1\n",
    "\n",
    "list1.append(100)\n",
    "\n",
    "print(list1)\n",
    "print(list2)"
   ]
  },
  {
   "cell_type": "code",
   "execution_count": 83,
   "id": "0b17b94e",
   "metadata": {},
   "outputs": [
    {
     "name": "stdout",
     "output_type": "stream",
     "text": [
      "1604191331776\n",
      "1604191331776\n"
     ]
    }
   ],
   "source": [
    "print(id(list1))\n",
    "print(id(list2))"
   ]
  },
  {
   "cell_type": "code",
   "execution_count": 84,
   "id": "c864917e",
   "metadata": {},
   "outputs": [
    {
     "name": "stdout",
     "output_type": "stream",
     "text": [
      "[1, 2, 3, 4, 5, 100]\n",
      "[1, 2, 3, 4, 5]\n"
     ]
    }
   ],
   "source": [
    "list1 = [1,2,3,4,5]\n",
    "\n",
    "list2 = list1.copy()\n",
    "\n",
    "list1.append(100)\n",
    "\n",
    "print(list1)\n",
    "print(list2)"
   ]
  },
  {
   "cell_type": "code",
   "execution_count": 85,
   "id": "3d68665d",
   "metadata": {},
   "outputs": [
    {
     "name": "stdout",
     "output_type": "stream",
     "text": [
      "1604191266240\n",
      "1604192097216\n"
     ]
    }
   ],
   "source": [
    "print(id(list1))\n",
    "print(id(list2))"
   ]
  },
  {
   "cell_type": "markdown",
   "id": "86e5a2a2",
   "metadata": {},
   "source": [
    "## Nested List"
   ]
  },
  {
   "cell_type": "code",
   "execution_count": 86,
   "id": "5c8736b1",
   "metadata": {},
   "outputs": [
    {
     "name": "stdout",
     "output_type": "stream",
     "text": [
      "[1, 2, 3, 4, 5, [6, 7, 8], 9, 10, 100]\n",
      "[1, 2, 3, 4, 5, [6, 7, 8], 9, 10]\n"
     ]
    }
   ],
   "source": [
    "list1 = [1,2,3,4,5,[6,7,8],9,10]\n",
    "\n",
    "list2 = list1.copy()\n",
    "\n",
    "list1.append(100)\n",
    "\n",
    "print(list1)\n",
    "print(list2)"
   ]
  },
  {
   "cell_type": "code",
   "execution_count": 92,
   "id": "c26f5072",
   "metadata": {},
   "outputs": [
    {
     "name": "stdout",
     "output_type": "stream",
     "text": [
      "[1, 2, 3, 4, 5, [6, 100, 8], 9, 10]\n",
      "[1, 2, 3, 4, 5, [6, 100, 8], 9, 10]\n"
     ]
    }
   ],
   "source": [
    "list1 = [1,2,3,4,5,[6,7,8],9,10]\n",
    "\n",
    "list2 = list1.copy() ## Shallow Copy\n",
    "\n",
    "list1[5][1] = 100\n",
    "\n",
    "print(list1)\n",
    "print(list2)"
   ]
  },
  {
   "cell_type": "markdown",
   "id": "98f33aeb",
   "metadata": {},
   "source": [
    "### Deep Copy"
   ]
  },
  {
   "cell_type": "code",
   "execution_count": 95,
   "id": "bd2a1ba5",
   "metadata": {},
   "outputs": [
    {
     "name": "stdout",
     "output_type": "stream",
     "text": [
      "[1, 2, 3, 4, 5, [6, 100, 8], 9, 10]\n",
      "[1, 2, 3, 4, 5, [6, 7, 8], 9, 10]\n"
     ]
    }
   ],
   "source": [
    "import copy\n",
    "\n",
    "list1 = [1,2,3,4,5,[6,7,8],9,10]\n",
    "\n",
    "list2 = copy.deepcopy(list1)\n",
    "\n",
    "list1[5][1] = 100\n",
    "\n",
    "print(list1)\n",
    "print(list2)"
   ]
  },
  {
   "cell_type": "code",
   "execution_count": null,
   "id": "6119941b",
   "metadata": {},
   "outputs": [],
   "source": []
  }
 ],
 "metadata": {
  "kernelspec": {
   "display_name": "Python 3 (ipykernel)",
   "language": "python",
   "name": "python3"
  },
  "language_info": {
   "codemirror_mode": {
    "name": "ipython",
    "version": 3
   },
   "file_extension": ".py",
   "mimetype": "text/x-python",
   "name": "python",
   "nbconvert_exporter": "python",
   "pygments_lexer": "ipython3",
   "version": "3.10.5"
  }
 },
 "nbformat": 4,
 "nbformat_minor": 5
}
