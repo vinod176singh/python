{
 "cells": [
  {
   "cell_type": "markdown",
   "id": "99bb660f",
   "metadata": {},
   "source": [
    "## Inheritance"
   ]
  },
  {
   "cell_type": "code",
   "execution_count": 18,
   "id": "71ba8884",
   "metadata": {},
   "outputs": [],
   "source": [
    "class Vehicle(): ## Parent Class/ Base Class\n",
    "    def __init__(self,no_wheel,colour,cost,seating_capacity,brand,engine_type):\n",
    "        self.no_wheel = no_wheel\n",
    "        self.colour = colour\n",
    "        self.seating_capacity = seating_capacity\n",
    "        self.brand = brand\n",
    "        self.cost = cost\n",
    "        self.engine_type = engine_type\n",
    "        \n",
    "    def display_details(self):\n",
    "        print(\"Number of Wheels: \", self.no_wheel)\n",
    "        print(\"Colour: \", self.colour)\n",
    "        print(\"Seating Capacity: \", self.seating_capacity)\n",
    "        print(\"Brand: \", self.brand)\n",
    "        print(\"Engine Type: \", self.engine_type)\n",
    "        print(\"Cost: \", self.cost)\n",
    "    \n",
    "    def apply_brakes(self):\n",
    "        print(\"Brakes are being applied\")\n",
    "        "
   ]
  },
  {
   "cell_type": "code",
   "execution_count": 52,
   "id": "ef8c6e23",
   "metadata": {},
   "outputs": [],
   "source": [
    "class Electric_Vehicle(Vehicle):  # Child Class / Derived Class\n",
    "    pass"
   ]
  },
  {
   "cell_type": "code",
   "execution_count": 21,
   "id": "c4907441",
   "metadata": {},
   "outputs": [],
   "source": [
    "v1 = Vehicle(4,\"Black\",800000,5,\"Tata\",\"Petrol\")"
   ]
  },
  {
   "cell_type": "code",
   "execution_count": 22,
   "id": "47f8b5c6",
   "metadata": {},
   "outputs": [
    {
     "name": "stdout",
     "output_type": "stream",
     "text": [
      "Number of Wheels:  4\n",
      "Colour:  Black\n",
      "Seating Capacity:  5\n",
      "Brand:  Tata\n",
      "Engine Type:  Petrol\n",
      "Cost:  800000\n"
     ]
    }
   ],
   "source": [
    "v1.display_details()"
   ]
  },
  {
   "cell_type": "code",
   "execution_count": 23,
   "id": "c3453a27",
   "metadata": {},
   "outputs": [],
   "source": [
    "nexon_ev = Electric_Vehicle(4,\"Electric Blue\",1700000,5,\"Tata\",\"Motor\")"
   ]
  },
  {
   "cell_type": "code",
   "execution_count": 24,
   "id": "284b04e8",
   "metadata": {},
   "outputs": [
    {
     "name": "stdout",
     "output_type": "stream",
     "text": [
      "Number of Wheels:  4\n",
      "Colour:  Electric Blue\n",
      "Seating Capacity:  5\n",
      "Brand:  Tata\n",
      "Engine Type:  Motor\n",
      "Cost:  1700000\n"
     ]
    }
   ],
   "source": [
    "nexon_ev.display_details()"
   ]
  },
  {
   "cell_type": "code",
   "execution_count": 25,
   "id": "08e216ff",
   "metadata": {},
   "outputs": [
    {
     "name": "stdout",
     "output_type": "stream",
     "text": [
      "Brakes are being applied\n"
     ]
    }
   ],
   "source": [
    "nexon_ev.apply_brakes()"
   ]
  },
  {
   "cell_type": "code",
   "execution_count": 13,
   "id": "5cc7ecf1",
   "metadata": {},
   "outputs": [],
   "source": [
    "class Electric_Vehicle(Vehicle):\n",
    "    \n",
    "    def set_km_range(self,km_range):\n",
    "        self.km_range = km_range\n",
    "    def show_range(self):\n",
    "        print(\"Range: \", self.km_range,\"KM\")"
   ]
  },
  {
   "cell_type": "code",
   "execution_count": 14,
   "id": "ac503be0",
   "metadata": {},
   "outputs": [],
   "source": [
    "nexon_ev_v2 = Electric_Vehicle(4,\"Electric Black\",1700000,5,\"Tata\",\"Motor\")"
   ]
  },
  {
   "cell_type": "code",
   "execution_count": 15,
   "id": "e79c5e61",
   "metadata": {},
   "outputs": [
    {
     "name": "stdout",
     "output_type": "stream",
     "text": [
      "Number of Wheels:  4\n",
      "Colour:  Electric Black\n",
      "Seating Capacity:  5\n",
      "Brand:  Tata\n",
      "Engine Type:  Motor\n",
      "Cost:  1700000\n"
     ]
    }
   ],
   "source": [
    "nexon_ev_v2.display_details()"
   ]
  },
  {
   "cell_type": "code",
   "execution_count": 16,
   "id": "d4efd9c6",
   "metadata": {},
   "outputs": [],
   "source": [
    "nexon_ev_v2.set_km_range(400)"
   ]
  },
  {
   "cell_type": "code",
   "execution_count": 17,
   "id": "71817f4b",
   "metadata": {},
   "outputs": [
    {
     "name": "stdout",
     "output_type": "stream",
     "text": [
      "Range:  400 KM\n"
     ]
    }
   ],
   "source": [
    "nexon_ev_v2.show_range()"
   ]
  },
  {
   "cell_type": "code",
   "execution_count": 53,
   "id": "1ca7bb20",
   "metadata": {},
   "outputs": [],
   "source": [
    "class Electrical_Vehicle_V2(Vehicle):\n",
    "    def __init__(self,no_wheel,colour,seating_capacity,cost,brand,engine_type,battery_type,gear, km_range):\n",
    "        super().__init__(no_wheel,colour,seating_capacity,cost,brand,engine_type)\n",
    "#         Vehicle.__init__(self,no_wheel,colour,seating_capacity,cost,brand,engine_type)\n",
    "        self.battery_type = battery_type\n",
    "        self.gear = gear\n",
    "        self.km_range = km_range\n",
    "\n",
    "    def display_details_ev(self):\n",
    "        print(\"Battery Type: \", self.battery_type)\n",
    "        print(\"Gear Shift: \", self.gear)\n",
    "        print(\"Range: \", self.km_range)\n",
    "        "
   ]
  },
  {
   "cell_type": "code",
   "execution_count": 54,
   "id": "4042b285",
   "metadata": {},
   "outputs": [],
   "source": [
    "nexon_ev_v3 = Electrical_Vehicle_V2(4,\"Black Bird\",6,2200000,\"Tata\",\"Motor\",\"LiON\",\"Auto\",600)"
   ]
  },
  {
   "cell_type": "code",
   "execution_count": 48,
   "id": "42cec543",
   "metadata": {},
   "outputs": [
    {
     "name": "stdout",
     "output_type": "stream",
     "text": [
      "Number of Wheels:  4\n",
      "Colour:  Black Bird\n",
      "Seating Capacity:  2200000\n",
      "Brand:  Tata\n",
      "Engine Type:  Motor\n",
      "Cost:  6\n",
      "\n",
      "Battery Type:  LiON\n",
      "Gear Shift:  Auto\n",
      "Range:  600\n"
     ]
    }
   ],
   "source": [
    "nexon_ev_v3.display_details()\n",
    "print()\n",
    "nexon_ev_v3.display_details_ev()"
   ]
  },
  {
   "cell_type": "code",
   "execution_count": null,
   "id": "b67dfbba",
   "metadata": {},
   "outputs": [],
   "source": [
    "# class Vehicle(): ## Parent Class/ Base Class no_wheel,colour,cost,seating_capacity,brand,engine_type\n",
    "#     def __init__(self,*args):\n",
    "#         self.no_wheel = args[0]\n",
    "#         self.colour = args[1]\n",
    "#         self.seating_capacity = args[3]\n",
    "#         self.brand = args[4]\n",
    "#         self.cost = args[2]\n",
    "#         self.engine_type = args[-1]\n",
    "        \n",
    "#     def display_details(self):\n",
    "#         print(\"Number of Wheels: \", self.no_wheel)\n",
    "#         print(\"Colour: \", self.colour)\n",
    "#         print(\"Seating Capacity: \", self.seating_capacity)\n",
    "#         print(\"Brand: \", self.brand)\n",
    "#         print(\"Engine Type: \", self.engine_type)\n",
    "#         print(\"Cost: \", self.cost)\n",
    "    \n",
    "#     def apply_brakes(self):\n",
    "#         print(\"Brakes are being applied\")\n",
    "        "
   ]
  },
  {
   "cell_type": "markdown",
   "id": "dbc6f5e4",
   "metadata": {},
   "source": [
    "## Types of Inheritance"
   ]
  },
  {
   "cell_type": "code",
   "execution_count": null,
   "id": "6e238d85",
   "metadata": {},
   "outputs": [],
   "source": [
    "1. Single Inheritance         >>> We have already seen this\n",
    "2. Multilevel inheritance\n",
    "3. Multiple Inheritance\n",
    "4. Hirarchial Inheritance\n",
    "5. Hybrid Inheritance"
   ]
  },
  {
   "cell_type": "markdown",
   "id": "428dae7d",
   "metadata": {},
   "source": [
    "### Multilevel Inheritance"
   ]
  },
  {
   "cell_type": "code",
   "execution_count": null,
   "id": "97dcbb2f",
   "metadata": {},
   "outputs": [],
   "source": [
    "Grand Parent >> Father >> Child"
   ]
  },
  {
   "cell_type": "code",
   "execution_count": null,
   "id": "584a26c3",
   "metadata": {},
   "outputs": [],
   "source": [
    "class GrandFather():\n",
    "    pass\n",
    "\n",
    "class Father(GrandFather):\n",
    "    pass\n",
    "\n",
    "class Child(Father):\n",
    "    pass"
   ]
  },
  {
   "cell_type": "code",
   "execution_count": 65,
   "id": "0113c6fd",
   "metadata": {},
   "outputs": [],
   "source": [
    "class GrandFather():\n",
    "    def __init__(self, movable_asset, immovable_asset):\n",
    "        self.movable_asset = movable_asset\n",
    "        self.immovable_asset = immovable_asset\n",
    "        \n",
    "    def give_poperty_details(self):\n",
    "        print(\"Movable Asset: \", self.movable_asset)\n",
    "        print(\"Immovable Asset: \", self.immovable_asset)\n",
    "        \n",
    "        \n",
    "class Father(GrandFather):\n",
    "    def __init__(self,movable_asset, immovable_asset, education):\n",
    "        super().__init__(movable_asset, immovable_asset)\n",
    "        self.education = education\n",
    "        \n",
    "    def give_education_details(self,education_2):\n",
    "        \n",
    "        print(f\"I have learned upto {education_2} and basic is {self.education}\")\n",
    "        \n",
    "class Child(Father):\n",
    "    def __init__(self,movable_asset, immovable_asset, education, job):\n",
    "        super().__init__(movable_asset, immovable_asset, education)\n",
    "        self.job = job\n",
    "    \n",
    "    def give_job_details(self):\n",
    "        print(f\"I am working as an {self.job}\")"
   ]
  },
  {
   "cell_type": "code",
   "execution_count": 66,
   "id": "5efbfa0b",
   "metadata": {},
   "outputs": [],
   "source": [
    "child1 = Child(\"Maruti 800\",\"1 Acre\", \"12th\", \"IT Engineer\")"
   ]
  },
  {
   "cell_type": "code",
   "execution_count": 67,
   "id": "52ff2e84",
   "metadata": {},
   "outputs": [
    {
     "name": "stdout",
     "output_type": "stream",
     "text": [
      "Movable Asset:  Maruti 800\n",
      "Immovable Asset:  1 Acre\n",
      "\n",
      "I have learned upto BE and basic is 12th\n",
      "\n",
      "I am working as an IT Engineer\n"
     ]
    }
   ],
   "source": [
    "child1.give_poperty_details()\n",
    "print()\n",
    "child1.give_education_details(\"BE\")\n",
    "print()\n",
    "child1.give_job_details()"
   ]
  },
  {
   "cell_type": "code",
   "execution_count": null,
   "id": "697b15f1",
   "metadata": {},
   "outputs": [],
   "source": []
  }
 ],
 "metadata": {
  "kernelspec": {
   "display_name": "Python 3 (ipykernel)",
   "language": "python",
   "name": "python3"
  },
  "language_info": {
   "codemirror_mode": {
    "name": "ipython",
    "version": 3
   },
   "file_extension": ".py",
   "mimetype": "text/x-python",
   "name": "python",
   "nbconvert_exporter": "python",
   "pygments_lexer": "ipython3",
   "version": "3.10.5"
  }
 },
 "nbformat": 4,
 "nbformat_minor": 5
}
