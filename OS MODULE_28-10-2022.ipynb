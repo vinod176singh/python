{
 "cells": [
  {
   "cell_type": "markdown",
   "id": "7f013c7b",
   "metadata": {},
   "source": [
    "## OS MODULE"
   ]
  },
  {
   "cell_type": "code",
   "execution_count": 1,
   "id": "832bba74",
   "metadata": {},
   "outputs": [],
   "source": [
    "import os\n",
    "import shutil\n",
    "import glob"
   ]
  },
  {
   "cell_type": "markdown",
   "id": "94e80748",
   "metadata": {},
   "source": [
    "### OS Functions"
   ]
  },
  {
   "cell_type": "code",
   "execution_count": null,
   "id": "b5318b05",
   "metadata": {},
   "outputs": [],
   "source": [
    "OS Module:\n",
    "    1. os.rename()     >> It will be used for renaming the file or moving the file\n",
    "    2. os.remove()     >> Will be used for removing the file\n",
    "    3. os.path.exists  >> It will be used to check whether given file path exists or not\n",
    "    4. os.mkdir()      >> It will be used to create a folder \n",
    "    5. os.makedirs     >> It will be used to created multiple folders\n",
    "    6. os.rmdir()      >> It will be used for removing the empty folder\n",
    "    7. os.listdir()    >> To show the content of given folder path\n",
    "    8. os.getcwd()     >> To show the current working directory\n",
    "    9. os.path.join    >> To join two paths to create a new one\n",
    "\n",
    "SHUTIL Module:\n",
    "    1. shutil.copy()   >> To copy given file from one to another location\n",
    "    2. shutil.rmtree() >> To remove complete tree of empty folders\n",
    "    \n",
    "GLOB Module:\n",
    "    1. glob.glob(path + \"*.txt\")  >> Will list all the files from the given path with extension .txt\n",
    "    2. glob.glob(path + \"*.jpeg\") >> Will list all the files from the given path with extension .jpeg"
   ]
  },
  {
   "cell_type": "markdown",
   "id": "da670a80",
   "metadata": {},
   "source": [
    "### 1. Rename / Move with OS Module"
   ]
  },
  {
   "cell_type": "code",
   "execution_count": null,
   "id": "3088b3a5",
   "metadata": {},
   "outputs": [],
   "source": [
    "os.rename(source_file_path,destination_file_path)"
   ]
  },
  {
   "cell_type": "code",
   "execution_count": 2,
   "id": "5a9d3abc",
   "metadata": {},
   "outputs": [],
   "source": [
    "with open(\"machine.txt\",'w') as file:\n",
    "    file.write(\"Machine Learning is an emerging filed\")"
   ]
  },
  {
   "cell_type": "code",
   "execution_count": 3,
   "id": "5e5ab7f3",
   "metadata": {},
   "outputs": [],
   "source": [
    "os.rename(\"machine.txt\",\"Machine_Learning.txt\")  ### Renaming the file"
   ]
  },
  {
   "cell_type": "code",
   "execution_count": 4,
   "id": "2e782b5f",
   "metadata": {},
   "outputs": [
    {
     "ename": "FileNotFoundError",
     "evalue": "[WinError 3] The system cannot find the path specified: 'Machine_Learning.txt' -> '\\\\folder_1\\\\Machine_Learning.txt'",
     "output_type": "error",
     "traceback": [
      "\u001b[1;31m---------------------------------------------------------------------------\u001b[0m",
      "\u001b[1;31mFileNotFoundError\u001b[0m                         Traceback (most recent call last)",
      "Input \u001b[1;32mIn [4]\u001b[0m, in \u001b[0;36m<cell line: 1>\u001b[1;34m()\u001b[0m\n\u001b[1;32m----> 1\u001b[0m \u001b[43mos\u001b[49m\u001b[38;5;241;43m.\u001b[39;49m\u001b[43mrename\u001b[49m\u001b[43m(\u001b[49m\u001b[38;5;124;43m\"\u001b[39;49m\u001b[38;5;124;43mMachine_Learning.txt\u001b[39;49m\u001b[38;5;124;43m\"\u001b[39;49m\u001b[43m,\u001b[49m\u001b[38;5;124;43mr\u001b[39;49m\u001b[38;5;124;43m\"\u001b[39;49m\u001b[38;5;124;43m\\\u001b[39;49m\u001b[38;5;124;43mfolder_1\u001b[39;49m\u001b[38;5;124;43m\\\u001b[39;49m\u001b[38;5;124;43mMachine_Learning.txt\u001b[39;49m\u001b[38;5;124;43m\"\u001b[39;49m\u001b[43m)\u001b[49m\n",
      "\u001b[1;31mFileNotFoundError\u001b[0m: [WinError 3] The system cannot find the path specified: 'Machine_Learning.txt' -> '\\\\folder_1\\\\Machine_Learning.txt'"
     ]
    }
   ],
   "source": [
    "os.rename(\"Machine_Learning.txt\",r\"\\folder_1\\Machine_Learning.txt\")"
   ]
  },
  {
   "cell_type": "code",
   "execution_count": 5,
   "id": "ac17c065",
   "metadata": {},
   "outputs": [],
   "source": [
    "os.rename(\"Machine_Learning.txt\",r\"D:\\Teaching Python\\3rd September\\10_28_OS_Module\\folder_1\\Machine_Learning.txt\")\n",
    "## Moving the file with renaming the path"
   ]
  },
  {
   "cell_type": "code",
   "execution_count": 6,
   "id": "a6408f3d",
   "metadata": {},
   "outputs": [],
   "source": [
    "os.rename(r\"D:\\Teaching Python\\3rd September\\10_28_OS_Module\\folder_1\\Machine_Learning.txt\",\n",
    "         r\"D:\\Teaching Python\\3rd September\\10_28_OS_Module\\folder_2\\Machine_Learning.txt\")\n",
    "## Moving the file with renaming the path"
   ]
  },
  {
   "cell_type": "code",
   "execution_count": 7,
   "id": "a8f26027",
   "metadata": {},
   "outputs": [],
   "source": [
    "os.rename(r\"D:\\Teaching Python\\3rd September\\10_28_OS_Module\\folder_2\\Machine_Learning.txt\",\n",
    "         r\"D:\\Teaching Python\\3rd September\\10_28_OS_Module\\folder_1\\Machine_Learning_Dis.txt\")\n",
    "## Moving the file with renaming the path and the name itself"
   ]
  },
  {
   "cell_type": "markdown",
   "id": "0a017622",
   "metadata": {},
   "source": [
    "## 2. Remove Files"
   ]
  },
  {
   "cell_type": "markdown",
   "id": "2b844751",
   "metadata": {},
   "source": [
    "os.remove(file_path)"
   ]
  },
  {
   "cell_type": "code",
   "execution_count": 8,
   "id": "5db19860",
   "metadata": {},
   "outputs": [],
   "source": [
    "path = r\"D:\\Teaching Python\\3rd September\\10_28_OS_Module\\folder_1\\Machine_Learning_Dis.txt\"\n",
    "\n",
    "os.remove(path)"
   ]
  },
  {
   "cell_type": "code",
   "execution_count": 11,
   "id": "f47c5996",
   "metadata": {},
   "outputs": [],
   "source": [
    "with open(\"machine.txt\",'w') as file:\n",
    "    file.write(\"Machine Learning is an emerging filed\")"
   ]
  },
  {
   "cell_type": "code",
   "execution_count": 12,
   "id": "15461a23",
   "metadata": {},
   "outputs": [],
   "source": [
    "os.remove(\"machine.txt\")"
   ]
  },
  {
   "cell_type": "code",
   "execution_count": 13,
   "id": "f21c7cbd",
   "metadata": {},
   "outputs": [
    {
     "ename": "FileNotFoundError",
     "evalue": "[WinError 2] The system cannot find the file specified: 'ai.txt'",
     "output_type": "error",
     "traceback": [
      "\u001b[1;31m---------------------------------------------------------------------------\u001b[0m",
      "\u001b[1;31mFileNotFoundError\u001b[0m                         Traceback (most recent call last)",
      "Input \u001b[1;32mIn [13]\u001b[0m, in \u001b[0;36m<cell line: 1>\u001b[1;34m()\u001b[0m\n\u001b[1;32m----> 1\u001b[0m \u001b[43mos\u001b[49m\u001b[38;5;241;43m.\u001b[39;49m\u001b[43mremove\u001b[49m\u001b[43m(\u001b[49m\u001b[38;5;124;43m\"\u001b[39;49m\u001b[38;5;124;43mai.txt\u001b[39;49m\u001b[38;5;124;43m\"\u001b[39;49m\u001b[43m)\u001b[49m\n",
      "\u001b[1;31mFileNotFoundError\u001b[0m: [WinError 2] The system cannot find the file specified: 'ai.txt'"
     ]
    }
   ],
   "source": [
    "os.remove(\"ai.txt\")"
   ]
  },
  {
   "cell_type": "code",
   "execution_count": 14,
   "id": "70109ebc",
   "metadata": {},
   "outputs": [],
   "source": [
    "os.remove(r\"D:\\Teaching Python\\ai.txt\")"
   ]
  },
  {
   "cell_type": "markdown",
   "id": "39044783",
   "metadata": {},
   "source": [
    "### 3. File Exists?"
   ]
  },
  {
   "cell_type": "code",
   "execution_count": null,
   "id": "2285d961",
   "metadata": {},
   "outputs": [],
   "source": [
    "os.path.exists(file_path)\n",
    "This will return True >> If the file is present at given folder path\n",
    "And will return False >> If the file is not present at given folder path"
   ]
  },
  {
   "cell_type": "code",
   "execution_count": 15,
   "id": "b9164327",
   "metadata": {},
   "outputs": [],
   "source": [
    "with open(\"machine.txt\",'w') as file:\n",
    "    file.write(\"Machine Learning is an emerging filed\")\n",
    "## Creating a file in current working directory"
   ]
  },
  {
   "cell_type": "code",
   "execution_count": 16,
   "id": "8cc0a07e",
   "metadata": {},
   "outputs": [
    {
     "data": {
      "text/plain": [
       "True"
      ]
     },
     "execution_count": 16,
     "metadata": {},
     "output_type": "execute_result"
    }
   ],
   "source": [
    "os.path.exists(\"machine.txt\") ## Since this file is in current working directory we need not to give the complete file path"
   ]
  },
  {
   "cell_type": "code",
   "execution_count": 17,
   "id": "cc36bf4a",
   "metadata": {},
   "outputs": [],
   "source": [
    "os.remove(\"machine.txt\")"
   ]
  },
  {
   "cell_type": "code",
   "execution_count": 18,
   "id": "7ffa12f0",
   "metadata": {},
   "outputs": [
    {
     "data": {
      "text/plain": [
       "False"
      ]
     },
     "execution_count": 18,
     "metadata": {},
     "output_type": "execute_result"
    }
   ],
   "source": [
    "os.path.exists(\"machine.txt\")"
   ]
  },
  {
   "cell_type": "code",
   "execution_count": 19,
   "id": "5799a6cb",
   "metadata": {},
   "outputs": [],
   "source": [
    "with open(\"machine.txt\",'w') as file:\n",
    "    file.write(\"Machine Learning is an emerging filed\")\n",
    "## Creating a file in current working directory"
   ]
  },
  {
   "cell_type": "code",
   "execution_count": 20,
   "id": "66eee8cc",
   "metadata": {},
   "outputs": [],
   "source": [
    "os.rename(\"machine.txt\",r\"D:\\Teaching Python\\3rd September\\10_28_OS_Module\\folder_2\\Machine_Learning.txt\")\n",
    "## Moving and renaming the file "
   ]
  },
  {
   "cell_type": "code",
   "execution_count": 21,
   "id": "774b2c27",
   "metadata": {},
   "outputs": [
    {
     "data": {
      "text/plain": [
       "True"
      ]
     },
     "execution_count": 21,
     "metadata": {},
     "output_type": "execute_result"
    }
   ],
   "source": [
    "file_path = r\"D:\\Teaching Python\\3rd September\\10_28_OS_Module\\folder_2\\Machine_Learning.txt\"\n",
    "\n",
    "os.path.exists(file_path)"
   ]
  },
  {
   "cell_type": "code",
   "execution_count": 22,
   "id": "9dd40324",
   "metadata": {},
   "outputs": [
    {
     "data": {
      "text/plain": [
       "True"
      ]
     },
     "execution_count": 22,
     "metadata": {},
     "output_type": "execute_result"
    }
   ],
   "source": [
    "os.path.exists(r\"D:\\Teaching Python\\3rd September\\10_28_OS_Module\\folder_2\\Machine_Learning.txt\")"
   ]
  },
  {
   "cell_type": "code",
   "execution_count": 23,
   "id": "235ba2d0",
   "metadata": {},
   "outputs": [],
   "source": [
    "os.remove(r\"D:\\Teaching Python\\3rd September\\10_28_OS_Module\\folder_2\\Machine_Learning.txt\")"
   ]
  },
  {
   "cell_type": "code",
   "execution_count": 24,
   "id": "49c3a680",
   "metadata": {},
   "outputs": [
    {
     "data": {
      "text/plain": [
       "False"
      ]
     },
     "execution_count": 24,
     "metadata": {},
     "output_type": "execute_result"
    }
   ],
   "source": [
    "os.path.exists(r\"D:\\Teaching Python\\3rd September\\10_28_OS_Module\\folder_2\\Machine_Learning.txt\")"
   ]
  },
  {
   "cell_type": "code",
   "execution_count": 25,
   "id": "cb4fac46",
   "metadata": {},
   "outputs": [
    {
     "name": "stdout",
     "output_type": "stream",
     "text": [
      "File Not found\n"
     ]
    }
   ],
   "source": [
    "if os.path.exists(file_path):\n",
    "    print(\"The file is present\")\n",
    "else:\n",
    "    print(\"File Not found\")"
   ]
  },
  {
   "cell_type": "code",
   "execution_count": 27,
   "id": "ecd22980",
   "metadata": {},
   "outputs": [],
   "source": [
    "file_name = r\"D:\\Teaching Python\\3rd September\\10_28_OS_Module\\folder_2\\Python.txt\"\n",
    "\n",
    "with open(file_name,'w') as file:\n",
    "    file.write(\"Python is so easy to learn as compered to other Programming languages\")"
   ]
  },
  {
   "cell_type": "code",
   "execution_count": 28,
   "id": "d730e997",
   "metadata": {},
   "outputs": [
    {
     "name": "stdout",
     "output_type": "stream",
     "text": [
      "The file is present\n"
     ]
    }
   ],
   "source": [
    "if os.path.exists(file_name):\n",
    "    print(\"The file is present\")\n",
    "else:\n",
    "    print(\"File Not found\")"
   ]
  },
  {
   "cell_type": "markdown",
   "id": "95fddc87",
   "metadata": {},
   "source": [
    "### 4. Creating Folder"
   ]
  },
  {
   "cell_type": "code",
   "execution_count": null,
   "id": "af4ca151",
   "metadata": {},
   "outputs": [],
   "source": [
    "os.mkdir(folder_path)"
   ]
  },
  {
   "cell_type": "code",
   "execution_count": 29,
   "id": "e42563b8",
   "metadata": {},
   "outputs": [],
   "source": [
    "os.mkdir(\"Data Science\")"
   ]
  },
  {
   "cell_type": "code",
   "execution_count": 30,
   "id": "82541569",
   "metadata": {},
   "outputs": [],
   "source": [
    "folder_path = r\"D:\\Teaching Python\\3rd September\\10_28_OS_Module\\folder_1\\Data Science\"\n",
    "\n",
    "os.mkdir(folder_path)"
   ]
  },
  {
   "cell_type": "code",
   "execution_count": 31,
   "id": "283ced21",
   "metadata": {},
   "outputs": [],
   "source": [
    "os.mkdir(r\"C:\\Users\\kruna\\Downloads\\Images\")"
   ]
  },
  {
   "cell_type": "code",
   "execution_count": 32,
   "id": "5a76ce39",
   "metadata": {},
   "outputs": [],
   "source": [
    "os.mkdir(r\"C:\\Users\\kruna\\Downloads\\Word_Documents\")"
   ]
  },
  {
   "cell_type": "code",
   "execution_count": 33,
   "id": "4ac3e0c4",
   "metadata": {},
   "outputs": [
    {
     "data": {
      "text/plain": [
       "True"
      ]
     },
     "execution_count": 33,
     "metadata": {},
     "output_type": "execute_result"
    }
   ],
   "source": [
    "os.path.exists(r\"C:\\Users\\kruna\\Downloads\\Word_Documents\")"
   ]
  },
  {
   "cell_type": "code",
   "execution_count": 34,
   "id": "e056be43",
   "metadata": {},
   "outputs": [
    {
     "name": "stdout",
     "output_type": "stream",
     "text": [
      "Folder did exist, it is created now!\n"
     ]
    }
   ],
   "source": [
    "movie_file = r\"C:\\Users\\kruna\\Downloads\\Movies\"\n",
    "\n",
    "if os.path.exists(movie_file):\n",
    "    print(\"Folder Exists\")\n",
    "else:\n",
    "    print(\"Folder did exist, it is created now!\")\n",
    "    os.mkdir(r\"C:\\Users\\kruna\\Downloads\\Movies\")"
   ]
  },
  {
   "cell_type": "markdown",
   "id": "5835bb36",
   "metadata": {},
   "source": [
    "### Creating Folder within a Folder"
   ]
  },
  {
   "cell_type": "code",
   "execution_count": 35,
   "id": "c23c85da",
   "metadata": {},
   "outputs": [
    {
     "name": "stdout",
     "output_type": "stream",
     "text": [
      "Folder Exists\n"
     ]
    }
   ],
   "source": [
    "if os.path.exists(movie_file):\n",
    "    print(\"Folder Exists\")\n",
    "else:\n",
    "    print(\"Folder did exist, it is created now!\")\n",
    "    os.mkdir(r\"C:\\Users\\kruna\\Downloads\\Movies\")"
   ]
  },
  {
   "cell_type": "code",
   "execution_count": 36,
   "id": "c5c2e3f4",
   "metadata": {},
   "outputs": [
    {
     "ename": "FileNotFoundError",
     "evalue": "[WinError 3] The system cannot find the path specified: 'C:\\\\Users\\\\kruna\\\\Downloads\\\\Movies\\\\Action\\\\Marathi\\\\Laxmikant_Berde'",
     "output_type": "error",
     "traceback": [
      "\u001b[1;31m---------------------------------------------------------------------------\u001b[0m",
      "\u001b[1;31mFileNotFoundError\u001b[0m                         Traceback (most recent call last)",
      "Input \u001b[1;32mIn [36]\u001b[0m, in \u001b[0;36m<cell line: 3>\u001b[1;34m()\u001b[0m\n\u001b[0;32m      1\u001b[0m action_movie \u001b[38;5;241m=\u001b[39m \u001b[38;5;124mr\u001b[39m\u001b[38;5;124m\"\u001b[39m\u001b[38;5;124mC:\u001b[39m\u001b[38;5;124m\\\u001b[39m\u001b[38;5;124mUsers\u001b[39m\u001b[38;5;124m\\\u001b[39m\u001b[38;5;124mkruna\u001b[39m\u001b[38;5;124m\\\u001b[39m\u001b[38;5;124mDownloads\u001b[39m\u001b[38;5;124m\\\u001b[39m\u001b[38;5;124mMovies\u001b[39m\u001b[38;5;124m\\\u001b[39m\u001b[38;5;124mAction\u001b[39m\u001b[38;5;124m\\\u001b[39m\u001b[38;5;124mMarathi\u001b[39m\u001b[38;5;124m\\\u001b[39m\u001b[38;5;124mLaxmikant_Berde\u001b[39m\u001b[38;5;124m\"\u001b[39m\n\u001b[1;32m----> 3\u001b[0m \u001b[43mos\u001b[49m\u001b[38;5;241;43m.\u001b[39;49m\u001b[43mmkdir\u001b[49m\u001b[43m(\u001b[49m\u001b[43maction_movie\u001b[49m\u001b[43m)\u001b[49m\n",
      "\u001b[1;31mFileNotFoundError\u001b[0m: [WinError 3] The system cannot find the path specified: 'C:\\\\Users\\\\kruna\\\\Downloads\\\\Movies\\\\Action\\\\Marathi\\\\Laxmikant_Berde'"
     ]
    }
   ],
   "source": [
    "action_movie = r\"C:\\Users\\kruna\\Downloads\\Movies\\Action\\Marathi\\Laxmikant_Berde\"\n",
    "\n",
    "os.mkdir(action_movie)"
   ]
  },
  {
   "cell_type": "code",
   "execution_count": 37,
   "id": "95e9ef97",
   "metadata": {},
   "outputs": [],
   "source": [
    "os.makedirs(action_movie)"
   ]
  },
  {
   "cell_type": "markdown",
   "id": "6f1e0521",
   "metadata": {},
   "source": [
    "### 5. Deleting Folders / Directory"
   ]
  },
  {
   "cell_type": "markdown",
   "id": "136aaf5f",
   "metadata": {},
   "source": [
    "os.rmdir(folder_path)"
   ]
  },
  {
   "cell_type": "code",
   "execution_count": 38,
   "id": "1907acb3",
   "metadata": {},
   "outputs": [],
   "source": [
    "os.mkdir(\"Machine_Learning\")"
   ]
  },
  {
   "cell_type": "code",
   "execution_count": 39,
   "id": "77ca0e38",
   "metadata": {},
   "outputs": [],
   "source": [
    "os.rmdir('Machine_Learning')"
   ]
  },
  {
   "cell_type": "code",
   "execution_count": 40,
   "id": "81297616",
   "metadata": {},
   "outputs": [],
   "source": [
    "os.mkdir(\"Machine_Learning\")"
   ]
  },
  {
   "cell_type": "code",
   "execution_count": 41,
   "id": "efd65ffb",
   "metadata": {},
   "outputs": [
    {
     "ename": "OSError",
     "evalue": "[WinError 145] The directory is not empty: 'Machine_Learning'",
     "output_type": "error",
     "traceback": [
      "\u001b[1;31m---------------------------------------------------------------------------\u001b[0m",
      "\u001b[1;31mOSError\u001b[0m                                   Traceback (most recent call last)",
      "Input \u001b[1;32mIn [41]\u001b[0m, in \u001b[0;36m<cell line: 1>\u001b[1;34m()\u001b[0m\n\u001b[1;32m----> 1\u001b[0m \u001b[43mos\u001b[49m\u001b[38;5;241;43m.\u001b[39;49m\u001b[43mrmdir\u001b[49m\u001b[43m(\u001b[49m\u001b[38;5;124;43m'\u001b[39;49m\u001b[38;5;124;43mMachine_Learning\u001b[39;49m\u001b[38;5;124;43m'\u001b[39;49m\u001b[43m)\u001b[49m\n",
      "\u001b[1;31mOSError\u001b[0m: [WinError 145] The directory is not empty: 'Machine_Learning'"
     ]
    }
   ],
   "source": [
    "os.rmdir('Machine_Learning')"
   ]
  },
  {
   "cell_type": "code",
   "execution_count": 42,
   "id": "a5f5b204",
   "metadata": {},
   "outputs": [],
   "source": [
    "os.remove(r\"D:\\Teaching Python\\3rd September\\10_28_OS_Module\\Machine_Learning\\OS Module.ipynb\")"
   ]
  },
  {
   "cell_type": "code",
   "execution_count": 43,
   "id": "e66ebdb8",
   "metadata": {},
   "outputs": [],
   "source": [
    "os.rmdir('Machine_Learning')"
   ]
  },
  {
   "cell_type": "markdown",
   "id": "78fd5fff",
   "metadata": {},
   "source": [
    "### shutil.rmtree()"
   ]
  },
  {
   "cell_type": "code",
   "execution_count": 44,
   "id": "04fc2042",
   "metadata": {},
   "outputs": [],
   "source": [
    "folder_path = r\"C:\\Users\\kruna\\Downloads\\Movies\\Action\\Marathi\\Laxmikant_Berde\"\n",
    "\n",
    "shutil.rmtree(folder_path)"
   ]
  },
  {
   "cell_type": "code",
   "execution_count": 46,
   "id": "90d6638f",
   "metadata": {},
   "outputs": [],
   "source": [
    "folder_path = r\"C:\\Users\\kruna\\Downloads\\Movies\\Action\"\n",
    "shutil.rmtree(folder_path)"
   ]
  },
  {
   "cell_type": "markdown",
   "id": "efd1d06d",
   "metadata": {},
   "source": [
    "### 6. Listing the files in given folder"
   ]
  },
  {
   "cell_type": "code",
   "execution_count": 49,
   "id": "e63f6749",
   "metadata": {},
   "outputs": [
    {
     "data": {
      "text/plain": [
       "['.ipynb_checkpoints', 'Built In Functions.ipynb']"
      ]
     },
     "execution_count": 49,
     "metadata": {},
     "output_type": "execute_result"
    }
   ],
   "source": [
    "folder_path = r\"D:\\Teaching Python\\3rd September\\10_17_Built_In_Function\"\n",
    "\n",
    "os.listdir(folder_path)"
   ]
  },
  {
   "cell_type": "markdown",
   "id": "ffc673b8",
   "metadata": {},
   "source": [
    "### 7. Checking Current Working Directory"
   ]
  },
  {
   "cell_type": "code",
   "execution_count": 50,
   "id": "24c07129",
   "metadata": {},
   "outputs": [
    {
     "data": {
      "text/plain": [
       "'D:\\\\Teaching Python\\\\3rd September\\\\10_28_OS_Module'"
      ]
     },
     "execution_count": 50,
     "metadata": {},
     "output_type": "execute_result"
    }
   ],
   "source": [
    "os.getcwd()"
   ]
  },
  {
   "cell_type": "markdown",
   "id": "10cb7e21",
   "metadata": {},
   "source": [
    "### 8. Join Two Folders Name"
   ]
  },
  {
   "cell_type": "code",
   "execution_count": 57,
   "id": "d180ad96",
   "metadata": {},
   "outputs": [
    {
     "data": {
      "text/plain": [
       "'D:\\\\Teaching Python\\\\3rd September\\\\10_28_OS_Module\\\\Test_Folder\\\\Machine\\\\Machine_Learning'"
      ]
     },
     "execution_count": 57,
     "metadata": {},
     "output_type": "execute_result"
    }
   ],
   "source": [
    "path_1 = os.getcwd()\n",
    "folder_name = \"Test_Folder\\Machine\\Machine_Learning\"\n",
    "\n",
    "new_folder_path = os.path.join(path_1,folder_name)\n",
    "\n",
    "new_folder_path"
   ]
  },
  {
   "cell_type": "markdown",
   "id": "81468ffd",
   "metadata": {},
   "source": [
    "### 9. Copy Files"
   ]
  },
  {
   "cell_type": "code",
   "execution_count": 59,
   "id": "bb63c53e",
   "metadata": {},
   "outputs": [
    {
     "data": {
      "text/plain": [
       "'D:\\\\Teaching Python\\\\3rd September\\\\10_28_OS_Module\\\\folder_1\\\\Machine_Learning.txt'"
      ]
     },
     "execution_count": 59,
     "metadata": {},
     "output_type": "execute_result"
    }
   ],
   "source": [
    "# shutil.copy(source_file_path,destination_file_path)\n",
    "\n",
    "source_file_path = r\"D:\\Teaching Python\\3rd September\\10_28_OS_Module\\folder_2\\Machine_Learning.txt\"\n",
    "destination_file_path = r\"D:\\Teaching Python\\3rd September\\10_28_OS_Module\\folder_1\\Machine_Learning.txt\"\n",
    "\n",
    "shutil.copy(source_file_path,destination_file_path)"
   ]
  },
  {
   "cell_type": "markdown",
   "id": "5902a152",
   "metadata": {},
   "source": [
    "### 10. Glob"
   ]
  },
  {
   "cell_type": "code",
   "execution_count": 60,
   "id": "33a8fd99",
   "metadata": {},
   "outputs": [
    {
     "name": "stdout",
     "output_type": "stream",
     "text": [
      "['C:\\\\Users\\\\kruna\\\\Downloads\\\\01_Assignment_(Variables, String, int, float).pdf', 'C:\\\\Users\\\\kruna\\\\Downloads\\\\02_Assignment_(List,Tuple).pdf', 'C:\\\\Users\\\\kruna\\\\Downloads\\\\03_Assignment_(Patterns).pdf', 'C:\\\\Users\\\\kruna\\\\Downloads\\\\3_Sept_Velocity_Batchwise_seggregation (1).pdf', 'C:\\\\Users\\\\kruna\\\\Downloads\\\\3_Sept_Velocity_Batchwise_seggregation.pdf', 'C:\\\\Users\\\\kruna\\\\Downloads\\\\881057120705963_encrypt_signedFinal.pdf', 'C:\\\\Users\\\\kruna\\\\Downloads\\\\Ankush_Pattern.pdf', 'C:\\\\Users\\\\kruna\\\\Downloads\\\\EAadhaar_2821430440300420220720161845_27082022125217.pdf', 'C:\\\\Users\\\\kruna\\\\Downloads\\\\FINAL RESUME RAJ.pdf', 'C:\\\\Users\\\\kruna\\\\Downloads\\\\Invoice.pdf', 'C:\\\\Users\\\\kruna\\\\Downloads\\\\lac_laptop_1y-15-1000-CLFKWE290922003809 (1).pdf', 'C:\\\\Users\\\\kruna\\\\Downloads\\\\lac_laptop_1y-15-1000-CLFKWE290922003809.pdf', 'C:\\\\Users\\\\kruna\\\\Downloads\\\\OD226096328418033000.pdf', 'C:\\\\Users\\\\kruna\\\\Downloads\\\\Yashavant Kanetkar - Let Us Python.pdf']\n"
     ]
    }
   ],
   "source": [
    "folder_path = \"C:\\\\Users\\\\kruna\\\\Downloads\\\\\"\n",
    "\n",
    "pdf_files_list = glob.glob(folder_path + \"*.pdf\")\n",
    "\n",
    "print(pdf_files_list)"
   ]
  },
  {
   "cell_type": "code",
   "execution_count": 61,
   "id": "dc657ef8",
   "metadata": {},
   "outputs": [
    {
     "name": "stdout",
     "output_type": "stream",
     "text": [
      "['C:\\\\Users\\\\kruna\\\\Downloads\\\\Python_2_July_Morning_ Batch Students Details_VCTC.xlsx - Sheet1.csv']\n"
     ]
    }
   ],
   "source": [
    "folder_path = \"C:\\\\Users\\\\kruna\\\\Downloads\\\\\"\n",
    "\n",
    "pdf_files_list = glob.glob(folder_path + \"*.csv\")\n",
    "\n",
    "print(pdf_files_list)"
   ]
  },
  {
   "cell_type": "code",
   "execution_count": 62,
   "id": "0e7b4eb1",
   "metadata": {},
   "outputs": [
    {
     "name": "stdout",
     "output_type": "stream",
     "text": [
      "['C:\\\\Users\\\\kruna\\\\Downloads\\\\Daily Mock Attendance.xlsx', 'C:\\\\Users\\\\kruna\\\\Downloads\\\\Mock_results_3_Sept.xlsx', 'C:\\\\Users\\\\kruna\\\\Downloads\\\\Python And Data Science 2 July Morning Mock Attendance.xlsx', 'C:\\\\Users\\\\kruna\\\\Downloads\\\\Python_2_July_Morning_ Batch Students Details_VCTC.xlsx']\n"
     ]
    }
   ],
   "source": [
    "folder_path = \"C:\\\\Users\\\\kruna\\\\Downloads\\\\\"\n",
    "\n",
    "pdf_files_list = glob.glob(folder_path + \"*.xlsx\")\n",
    "\n",
    "print(pdf_files_list)"
   ]
  },
  {
   "cell_type": "code",
   "execution_count": 63,
   "id": "34ed6574",
   "metadata": {},
   "outputs": [
    {
     "name": "stdout",
     "output_type": "stream",
     "text": [
      "[]\n"
     ]
    }
   ],
   "source": [
    "folder_path = \"C:\\\\Users\\\\kruna\\\\Downloads\\\\\"\n",
    "\n",
    "pdf_files_list = glob.glob(folder_path + \"*.jpeg\")\n",
    "\n",
    "print(pdf_files_list)"
   ]
  },
  {
   "cell_type": "code",
   "execution_count": null,
   "id": "5f08d1f9",
   "metadata": {},
   "outputs": [],
   "source": []
  }
 ],
 "metadata": {
  "kernelspec": {
   "display_name": "Python 3 (ipykernel)",
   "language": "python",
   "name": "python3"
  },
  "language_info": {
   "codemirror_mode": {
    "name": "ipython",
    "version": 3
   },
   "file_extension": ".py",
   "mimetype": "text/x-python",
   "name": "python",
   "nbconvert_exporter": "python",
   "pygments_lexer": "ipython3",
   "version": "3.10.5"
  }
 },
 "nbformat": 4,
 "nbformat_minor": 5
}
