{
 "cells": [
  {
   "cell_type": "code",
   "execution_count": 4,
   "id": "6b26e837",
   "metadata": {},
   "outputs": [],
   "source": [
    "a = 10"
   ]
  },
  {
   "cell_type": "code",
   "execution_count": 5,
   "id": "38341f87",
   "metadata": {},
   "outputs": [],
   "source": [
    "a = [1,2,3,4,5,6]"
   ]
  },
  {
   "cell_type": "code",
   "execution_count": 6,
   "id": "ac0bca39",
   "metadata": {},
   "outputs": [
    {
     "name": "stdout",
     "output_type": "stream",
     "text": [
      "[1, 2, 3, 4, 5, 6]\n"
     ]
    }
   ],
   "source": [
    "print(a)"
   ]
  },
  {
   "cell_type": "code",
   "execution_count": 7,
   "id": "f62ce419",
   "metadata": {},
   "outputs": [],
   "source": [
    "a = \"Some Name\""
   ]
  },
  {
   "cell_type": "code",
   "execution_count": 8,
   "id": "bcdac4f8",
   "metadata": {},
   "outputs": [
    {
     "name": "stdout",
     "output_type": "stream",
     "text": [
      "Some Name\n"
     ]
    }
   ],
   "source": [
    "print(a)"
   ]
  },
  {
   "cell_type": "code",
   "execution_count": 9,
   "id": "250590d2",
   "metadata": {},
   "outputs": [
    {
     "data": {
      "text/plain": [
       "'Some Name'"
      ]
     },
     "execution_count": 9,
     "metadata": {},
     "output_type": "execute_result"
    }
   ],
   "source": [
    "a"
   ]
  },
  {
   "cell_type": "code",
   "execution_count": 10,
   "id": "4fea76aa",
   "metadata": {},
   "outputs": [],
   "source": [
    "x = 10\n",
    "y = 20\n",
    "z = 11\n"
   ]
  },
  {
   "cell_type": "code",
   "execution_count": 11,
   "id": "6fa18d1f",
   "metadata": {},
   "outputs": [],
   "source": [
    "c = x + y"
   ]
  },
  {
   "cell_type": "code",
   "execution_count": 12,
   "id": "e72a9540",
   "metadata": {},
   "outputs": [
    {
     "name": "stdout",
     "output_type": "stream",
     "text": [
      "30\n"
     ]
    }
   ],
   "source": [
    "print(c)"
   ]
  },
  {
   "cell_type": "code",
   "execution_count": 13,
   "id": "ef068372",
   "metadata": {},
   "outputs": [
    {
     "data": {
      "text/plain": [
       "30"
      ]
     },
     "execution_count": 13,
     "metadata": {},
     "output_type": "execute_result"
    }
   ],
   "source": [
    "c"
   ]
  },
  {
   "cell_type": "code",
   "execution_count": 14,
   "id": "2377c7ae",
   "metadata": {},
   "outputs": [],
   "source": [
    "pramod = 10"
   ]
  },
  {
   "cell_type": "code",
   "execution_count": 15,
   "id": "6da1fad7",
   "metadata": {},
   "outputs": [
    {
     "data": {
      "text/plain": [
       "10"
      ]
     },
     "execution_count": 15,
     "metadata": {},
     "output_type": "execute_result"
    }
   ],
   "source": [
    "pramod"
   ]
  },
  {
   "cell_type": "code",
   "execution_count": 16,
   "id": "831e4abc",
   "metadata": {},
   "outputs": [],
   "source": [
    "def pramod(x,y):\n",
    "    return x + y"
   ]
  },
  {
   "cell_type": "code",
   "execution_count": 17,
   "id": "54ed274e",
   "metadata": {},
   "outputs": [
    {
     "data": {
      "text/plain": [
       "30"
      ]
     },
     "execution_count": 17,
     "metadata": {},
     "output_type": "execute_result"
    }
   ],
   "source": [
    "pramod(10,20)"
   ]
  },
  {
   "cell_type": "code",
   "execution_count": 20,
   "id": "daedd187",
   "metadata": {},
   "outputs": [],
   "source": [
    "class pramod:\n",
    "    def __init__():\n",
    "        pass"
   ]
  },
  {
   "cell_type": "code",
   "execution_count": 22,
   "id": "35d15a56",
   "metadata": {},
   "outputs": [
    {
     "data": {
      "text/plain": [
       "__main__.pramod"
      ]
     },
     "execution_count": 22,
     "metadata": {},
     "output_type": "execute_result"
    }
   ],
   "source": [
    "pramod"
   ]
  },
  {
   "cell_type": "code",
   "execution_count": null,
   "id": "c50237f5",
   "metadata": {},
   "outputs": [],
   "source": [
    "What are indentifiers?"
   ]
  },
  {
   "cell_type": "code",
   "execution_count": null,
   "id": "18e682c9",
   "metadata": {},
   "outputs": [],
   "source": [
    ">> Python identifier is a name used to identify variable, function, class, module or any other object"
   ]
  },
  {
   "cell_type": "markdown",
   "id": "31cb1e96",
   "metadata": {},
   "source": [
    "### Rules for creating Identifier"
   ]
  },
  {
   "cell_type": "code",
   "execution_count": null,
   "id": "1ea6169a",
   "metadata": {},
   "outputs": [],
   "source": [
    ">> Start with alphabet or underscore (_) only ONLY\n",
    ">> This then can be followed by anyother alphabet, underscore (_) or number, special charaters cannot be used \n",
    ">> Keywords cannot be used as an Identifier\n",
    ">> anything that changes colour cannot be used as Identifier"
   ]
  },
  {
   "cell_type": "code",
   "execution_count": null,
   "id": "116d3ee5",
   "metadata": {},
   "outputs": [],
   "source": [
    "list = [1,2,3,4] # Not Valid because the identifier turned green"
   ]
  },
  {
   "cell_type": "code",
   "execution_count": null,
   "id": "fb31e2d0",
   "metadata": {},
   "outputs": [],
   "source": [
    "list1 = [12,12,123,12]"
   ]
  },
  {
   "cell_type": "code",
   "execution_count": 23,
   "id": "fde6de84",
   "metadata": {},
   "outputs": [
    {
     "name": "stdout",
     "output_type": "stream",
     "text": [
      "['False', 'None', 'True', 'and', 'as', 'assert', 'async', 'await', 'break', 'class', 'continue', 'def', 'del', 'elif', 'else', 'except', 'finally', 'for', 'from', 'global', 'if', 'import', 'in', 'is', 'lambda', 'nonlocal', 'not', 'or', 'pass', 'raise', 'return', 'try', 'while', 'with', 'yield']\n"
     ]
    }
   ],
   "source": [
    "import keyword\n",
    "print(keyword.kwlist)"
   ]
  },
  {
   "cell_type": "code",
   "execution_count": null,
   "id": "dce8b191",
   "metadata": {},
   "outputs": [],
   "source": [
    "False, None, True, and "
   ]
  },
  {
   "cell_type": "markdown",
   "id": "263528ba",
   "metadata": {},
   "source": [
    "## Testing creation of Identifier"
   ]
  },
  {
   "cell_type": "code",
   "execution_count": null,
   "id": "5d8b2301",
   "metadata": {},
   "outputs": [],
   "source": [
    "a = 10 # Valid\n",
    "_a = 10 # Valid\n",
    "1_a = 10 # Invalid\n",
    "__a = 10 # Valid\n",
    "a% = 10 # Invalid\n",
    "a__% = 10 # Invalid\n",
    "^__a = 10 # Invalid\n",
    "a_10 = 10 # Valid\n",
    "a10 = 10 # Valid"
   ]
  }
 ],
 "metadata": {
  "kernelspec": {
   "display_name": "Python 3 (ipykernel)",
   "language": "python",
   "name": "python3"
  },
  "language_info": {
   "codemirror_mode": {
    "name": "ipython",
    "version": 3
   },
   "file_extension": ".py",
   "mimetype": "text/x-python",
   "name": "python",
   "nbconvert_exporter": "python",
   "pygments_lexer": "ipython3",
   "version": "3.10.5"
  }
 },
 "nbformat": 4,
 "nbformat_minor": 5
}
