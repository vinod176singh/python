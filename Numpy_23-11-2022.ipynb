{
 "cells": [
  {
   "cell_type": "markdown",
   "id": "4dac3d65",
   "metadata": {},
   "source": [
    "# Numpy"
   ]
  },
  {
   "cell_type": "code",
   "execution_count": null,
   "id": "e972b38d",
   "metadata": {},
   "outputs": [],
   "source": [
    "Numpy >>>>> Numerical Python"
   ]
  },
  {
   "cell_type": "markdown",
   "id": "0a2a6a04",
   "metadata": {},
   "source": [
    "### Applications"
   ]
  },
  {
   "cell_type": "markdown",
   "id": "b3e91430",
   "metadata": {},
   "source": [
    "1. Linear Algebra\n",
    "2. Statistics\n",
    "3. Trignometry\n",
    "4. Matrix Operations\n",
    "5. Image Processing\n",
    "6. Logarithms"
   ]
  },
  {
   "cell_type": "markdown",
   "id": "6cc2e8c6",
   "metadata": {},
   "source": [
    "### Numpy Properties"
   ]
  },
  {
   "cell_type": "code",
   "execution_count": null,
   "id": "162acaf7",
   "metadata": {},
   "outputs": [],
   "source": [
    "1. It is a collection of homogenous datatype\n",
    "2. Numpy is faster as compered to list\n",
    "3. Numpy is written in C and C++ and partially in Python\n",
    "\n",
    "DataType >> numpy.ndarray >> n-DimensionalArrary\n",
    "\n",
    "The datatypes an array can have are:\n",
    "    1. int\n",
    "    2. float\n",
    "    3. complex\n",
    "    4. str"
   ]
  },
  {
   "cell_type": "code",
   "execution_count": 1,
   "id": "cc075260",
   "metadata": {},
   "outputs": [],
   "source": [
    "list1 = [1,2,3,\"Data\",\"Python\", 2+3j]  # >> This is how we initiate a list"
   ]
  },
  {
   "cell_type": "code",
   "execution_count": 2,
   "id": "aefe8e8a",
   "metadata": {},
   "outputs": [
    {
     "name": "stdout",
     "output_type": "stream",
     "text": [
      "[1, 2, 3, 'Data', 'Python', (2+3j)]\n"
     ]
    }
   ],
   "source": [
    "print(list1)"
   ]
  },
  {
   "cell_type": "code",
   "execution_count": 3,
   "id": "9e2ed03c",
   "metadata": {},
   "outputs": [
    {
     "name": "stdout",
     "output_type": "stream",
     "text": [
      "[1 2 3 4]\n"
     ]
    }
   ],
   "source": [
    "# How to initiate numpy array\n",
    "# First of all import numpy library\n",
    "\n",
    "import numpy as np\n",
    "\n",
    "## Write an array\n",
    "\n",
    "array1 = np.array([1,2,3,4])\n",
    "print(array1)"
   ]
  },
  {
   "cell_type": "code",
   "execution_count": 4,
   "id": "8494760b",
   "metadata": {},
   "outputs": [
    {
     "data": {
      "text/plain": [
       "numpy.ndarray"
      ]
     },
     "execution_count": 4,
     "metadata": {},
     "output_type": "execute_result"
    }
   ],
   "source": [
    "type(array1)"
   ]
  },
  {
   "cell_type": "code",
   "execution_count": 5,
   "id": "70070650",
   "metadata": {},
   "outputs": [
    {
     "data": {
      "text/plain": [
       "array([1, 2, 3, 4])"
      ]
     },
     "execution_count": 5,
     "metadata": {},
     "output_type": "execute_result"
    }
   ],
   "source": [
    "array1"
   ]
  },
  {
   "cell_type": "code",
   "execution_count": 6,
   "id": "6799e592",
   "metadata": {},
   "outputs": [
    {
     "name": "stdout",
     "output_type": "stream",
     "text": [
      "[1.  2.  3.  4.5]\n"
     ]
    }
   ],
   "source": [
    "array1 = np.array([1,2,3,4.5]) ## Added float\n",
    "print(array1)"
   ]
  },
  {
   "cell_type": "code",
   "execution_count": 7,
   "id": "13fbf93c",
   "metadata": {},
   "outputs": [
    {
     "data": {
      "text/plain": [
       "array([1. , 2. , 3. , 4.5])"
      ]
     },
     "execution_count": 7,
     "metadata": {},
     "output_type": "execute_result"
    }
   ],
   "source": [
    "array1 ## If there is a single float in a numpy array, it will convert rest of the elemnts to float only, this way\n",
    "       ## Numpy will keep their (element's) datatype homogeneous"
   ]
  },
  {
   "cell_type": "code",
   "execution_count": 10,
   "id": "afc92d99",
   "metadata": {},
   "outputs": [
    {
     "name": "stdout",
     "output_type": "stream",
     "text": [
      "['1' '2' '3.6' '4' '5']\n"
     ]
    }
   ],
   "source": [
    "array2 = np.array([1,2,3.6,4,\"5\"])\n",
    "print(array2) "
   ]
  },
  {
   "cell_type": "code",
   "execution_count": 9,
   "id": "6dcc8982",
   "metadata": {},
   "outputs": [
    {
     "data": {
      "text/plain": [
       "array(['1', '2', '3', '4', '5'], dtype='<U11')"
      ]
     },
     "execution_count": 9,
     "metadata": {},
     "output_type": "execute_result"
    }
   ],
   "source": [
    "array2"
   ]
  },
  {
   "cell_type": "code",
   "execution_count": 14,
   "id": "0c596da8",
   "metadata": {},
   "outputs": [
    {
     "name": "stdout",
     "output_type": "stream",
     "text": [
      "[1.+0.j 2.+0.j 3.+0.j 4.+0.j 6.+9.j]\n"
     ]
    }
   ],
   "source": [
    "array2 = np.array([1,2,3,4,6+9j])\n",
    "print(array2) "
   ]
  },
  {
   "cell_type": "markdown",
   "id": "edb89719",
   "metadata": {},
   "source": [
    "## Data Type Casting In Numpy"
   ]
  },
  {
   "cell_type": "code",
   "execution_count": 15,
   "id": "bb1abb51",
   "metadata": {},
   "outputs": [
    {
     "data": {
      "text/plain": [
       "array([1, 2, 3, 4])"
      ]
     },
     "execution_count": 15,
     "metadata": {},
     "output_type": "execute_result"
    }
   ],
   "source": [
    "array1 = np.array([1,2,3,4], dtype = \"int\")\n",
    "array1"
   ]
  },
  {
   "cell_type": "code",
   "execution_count": 16,
   "id": "a6812b39",
   "metadata": {},
   "outputs": [
    {
     "data": {
      "text/plain": [
       "array([1., 2., 3., 4.])"
      ]
     },
     "execution_count": 16,
     "metadata": {},
     "output_type": "execute_result"
    }
   ],
   "source": [
    "array1 = np.array([1,2,3,4], dtype = \"float\")\n",
    "array1"
   ]
  },
  {
   "cell_type": "code",
   "execution_count": 17,
   "id": "0e4ba0aa",
   "metadata": {},
   "outputs": [
    {
     "data": {
      "text/plain": [
       "array([1., 2., 3., 4.], dtype=float32)"
      ]
     },
     "execution_count": 17,
     "metadata": {},
     "output_type": "execute_result"
    }
   ],
   "source": [
    "array1 = np.array([1,2,3,4], dtype = \"f\")\n",
    "array1"
   ]
  },
  {
   "cell_type": "code",
   "execution_count": 18,
   "id": "9c69190a",
   "metadata": {},
   "outputs": [
    {
     "data": {
      "text/plain": [
       "array([1., 2., 3., 4.])"
      ]
     },
     "execution_count": 18,
     "metadata": {},
     "output_type": "execute_result"
    }
   ],
   "source": [
    "array1 = np.array([1,2,3,4], dtype = float)\n",
    "array1"
   ]
  },
  {
   "cell_type": "code",
   "execution_count": 19,
   "id": "e9df9688",
   "metadata": {},
   "outputs": [
    {
     "data": {
      "text/plain": [
       "array([1, 2, 3, 4])"
      ]
     },
     "execution_count": 19,
     "metadata": {},
     "output_type": "execute_result"
    }
   ],
   "source": [
    "array1 = np.array([1.4,2.556,3.45,4.34543], dtype = \"int\") ## Float to int\n",
    "array1"
   ]
  },
  {
   "cell_type": "code",
   "execution_count": 20,
   "id": "e34588a2",
   "metadata": {},
   "outputs": [
    {
     "data": {
      "text/plain": [
       "array([1, 2, 3, 4], dtype=int32)"
      ]
     },
     "execution_count": 20,
     "metadata": {},
     "output_type": "execute_result"
    }
   ],
   "source": [
    "array1 = np.array([1.4,2.556,3.45,4.34543], dtype = \"i\") ## Float to int\n",
    "array1"
   ]
  },
  {
   "cell_type": "code",
   "execution_count": 36,
   "id": "00195609",
   "metadata": {},
   "outputs": [
    {
     "ename": "OverflowError",
     "evalue": "Python int too large to convert to C long",
     "output_type": "error",
     "traceback": [
      "\u001b[1;31m---------------------------------------------------------------------------\u001b[0m",
      "\u001b[1;31mOverflowError\u001b[0m                             Traceback (most recent call last)",
      "Input \u001b[1;32mIn [36]\u001b[0m, in \u001b[0;36m<cell line: 1>\u001b[1;34m()\u001b[0m\n\u001b[1;32m----> 1\u001b[0m array1 \u001b[38;5;241m=\u001b[39m \u001b[43mnp\u001b[49m\u001b[38;5;241;43m.\u001b[39;49m\u001b[43marray\u001b[49m\u001b[43m(\u001b[49m\u001b[43m[\u001b[49m\u001b[38;5;241;43m1634522342325365\u001b[39;49m\u001b[43m,\u001b[49m\u001b[38;5;241;43m2354325232323423\u001b[39;49m\u001b[43m,\u001b[49m\u001b[38;5;241;43m332234233646342\u001b[39;49m\u001b[43m,\u001b[49m\u001b[38;5;241;43m42323223647334234\u001b[39;49m\u001b[43m]\u001b[49m\u001b[43m,\u001b[49m\u001b[43m \u001b[49m\u001b[43mdtype\u001b[49m\u001b[43m \u001b[49m\u001b[38;5;241;43m=\u001b[39;49m\u001b[43m \u001b[49m\u001b[38;5;124;43m\"\u001b[39;49m\u001b[38;5;124;43mint\u001b[39;49m\u001b[38;5;124;43m\"\u001b[39;49m\u001b[43m)\u001b[49m \n\u001b[0;32m      2\u001b[0m array1\n",
      "\u001b[1;31mOverflowError\u001b[0m: Python int too large to convert to C long"
     ]
    }
   ],
   "source": [
    "array1 = np.array([1634522342325365,2354325232323423,332234233646342,42323223647334234], dtype = \"int\") \n",
    "array1 ## Error becuase large numbers cannot be handled by simple int datatype"
   ]
  },
  {
   "cell_type": "code",
   "execution_count": 37,
   "id": "c5403343",
   "metadata": {},
   "outputs": [
    {
     "data": {
      "text/plain": [
       "array([ 1634522342325365,  2354325232323423,   332234233646342,\n",
       "       42323223647334234], dtype=int64)"
      ]
     },
     "execution_count": 37,
     "metadata": {},
     "output_type": "execute_result"
    }
   ],
   "source": [
    "array1 = np.array([1634522342325365,2354325232323423,332234233646342,42323223647334234], dtype = \"int64\") \n",
    "array1 ## int64 can handle large numbers"
   ]
  },
  {
   "cell_type": "code",
   "execution_count": 41,
   "id": "5fcf0e0d",
   "metadata": {},
   "outputs": [
    {
     "data": {
      "text/plain": [
       "array([12,  2,  3,  4], dtype=int8)"
      ]
     },
     "execution_count": 41,
     "metadata": {},
     "output_type": "execute_result"
    }
   ],
   "source": [
    "array1 = np.array([12,2,3,4], dtype = \"int8\")\n",
    "array1"
   ]
  },
  {
   "cell_type": "code",
   "execution_count": 42,
   "id": "c78c67a9",
   "metadata": {},
   "outputs": [
    {
     "data": {
      "text/plain": [
       "array([12.+0.j,  2.+0.j,  3.+0.j,  4.+0.j])"
      ]
     },
     "execution_count": 42,
     "metadata": {},
     "output_type": "execute_result"
    }
   ],
   "source": [
    "array1 = np.array([12,2,3,4], dtype = \"complex\")\n",
    "array1"
   ]
  },
  {
   "cell_type": "code",
   "execution_count": 43,
   "id": "9bae5c29",
   "metadata": {},
   "outputs": [
    {
     "data": {
      "text/plain": [
       "array([12.+0.j,  2.+0.j,  3.+0.j,  4.+0.j])"
      ]
     },
     "execution_count": 43,
     "metadata": {},
     "output_type": "execute_result"
    }
   ],
   "source": [
    "array1 = np.array([12,2,3,4], dtype = complex)\n",
    "array1"
   ]
  },
  {
   "cell_type": "code",
   "execution_count": 44,
   "id": "cee7a411",
   "metadata": {},
   "outputs": [
    {
     "data": {
      "text/plain": [
       "array(['(12+12j)', '2', '3', '4'], dtype='<U8')"
      ]
     },
     "execution_count": 44,
     "metadata": {},
     "output_type": "execute_result"
    }
   ],
   "source": [
    "array1 = np.array([12+12j,2,3,4], dtype = str)\n",
    "array1"
   ]
  },
  {
   "cell_type": "code",
   "execution_count": 45,
   "id": "978a0af2",
   "metadata": {},
   "outputs": [
    {
     "data": {
      "text/plain": [
       "array([12.+0.j,  2.+0.j,  3.+0.j,  4.+0.j])"
      ]
     },
     "execution_count": 45,
     "metadata": {},
     "output_type": "execute_result"
    }
   ],
   "source": [
    "array1 = np.array([12,2,\"3\",4], dtype = complex)\n",
    "array1"
   ]
  },
  {
   "cell_type": "code",
   "execution_count": 47,
   "id": "de639f21",
   "metadata": {},
   "outputs": [
    {
     "ename": "TypeError",
     "evalue": "float() argument must be a string or a real number, not 'complex'",
     "output_type": "error",
     "traceback": [
      "\u001b[1;31m---------------------------------------------------------------------------\u001b[0m",
      "\u001b[1;31mTypeError\u001b[0m                                 Traceback (most recent call last)",
      "Input \u001b[1;32mIn [47]\u001b[0m, in \u001b[0;36m<cell line: 1>\u001b[1;34m()\u001b[0m\n\u001b[1;32m----> 1\u001b[0m array1 \u001b[38;5;241m=\u001b[39m \u001b[43mnp\u001b[49m\u001b[38;5;241;43m.\u001b[39;49m\u001b[43marray\u001b[49m\u001b[43m(\u001b[49m\u001b[43m[\u001b[49m\u001b[38;5;241;43m12\u001b[39;49m\u001b[43m,\u001b[49m\u001b[38;5;241;43m2\u001b[39;49m\u001b[43m,\u001b[49m\u001b[38;5;241;43m3\u001b[39;49m\u001b[38;5;241;43m+\u001b[39;49m\u001b[38;5;241;43m3\u001b[39;49m\u001b[43mj\u001b[49m\u001b[43m,\u001b[49m\u001b[38;5;241;43m4\u001b[39;49m\u001b[43m]\u001b[49m\u001b[43m,\u001b[49m\u001b[43m \u001b[49m\u001b[43mdtype\u001b[49m\u001b[43m \u001b[49m\u001b[38;5;241;43m=\u001b[39;49m\u001b[43m \u001b[49m\u001b[38;5;28;43mfloat\u001b[39;49m\u001b[43m)\u001b[49m\n\u001b[0;32m      2\u001b[0m array1\n",
      "\u001b[1;31mTypeError\u001b[0m: float() argument must be a string or a real number, not 'complex'"
     ]
    }
   ],
   "source": [
    "array1 = np.array([12,2,3+3j,4], dtype = float)\n",
    "array1"
   ]
  },
  {
   "cell_type": "markdown",
   "id": "105471b2",
   "metadata": {},
   "source": [
    "### Dimensions in Numpy array"
   ]
  },
  {
   "cell_type": "markdown",
   "id": "2918240f",
   "metadata": {},
   "source": [
    "### 1. 0-D Array"
   ]
  },
  {
   "cell_type": "code",
   "execution_count": 48,
   "id": "c4014d19",
   "metadata": {},
   "outputs": [
    {
     "data": {
      "text/plain": [
       "array(30)"
      ]
     },
     "execution_count": 48,
     "metadata": {},
     "output_type": "execute_result"
    }
   ],
   "source": [
    "array1 = np.array(30)\n",
    "array1"
   ]
  },
  {
   "cell_type": "code",
   "execution_count": 49,
   "id": "7bc9047b",
   "metadata": {},
   "outputs": [
    {
     "data": {
      "text/plain": [
       "0"
      ]
     },
     "execution_count": 49,
     "metadata": {},
     "output_type": "execute_result"
    }
   ],
   "source": [
    "array1.ndim"
   ]
  },
  {
   "cell_type": "markdown",
   "id": "db195f6d",
   "metadata": {},
   "source": [
    "### 2. 1-D Array"
   ]
  },
  {
   "cell_type": "code",
   "execution_count": null,
   "id": "c615f3e8",
   "metadata": {},
   "outputs": [],
   "source": [
    "1D array is a collection 0 dimensional elements"
   ]
  },
  {
   "cell_type": "code",
   "execution_count": 51,
   "id": "c4a55928",
   "metadata": {},
   "outputs": [
    {
     "data": {
      "text/plain": [
       "1"
      ]
     },
     "execution_count": 51,
     "metadata": {},
     "output_type": "execute_result"
    }
   ],
   "source": [
    "array1 = np.array([30,11])\n",
    "array1.ndim"
   ]
  },
  {
   "cell_type": "code",
   "execution_count": null,
   "id": "34d90fea",
   "metadata": {},
   "outputs": [],
   "source": []
  },
  {
   "cell_type": "code",
   "execution_count": 52,
   "id": "a5698b94",
   "metadata": {},
   "outputs": [
    {
     "data": {
      "text/plain": [
       "1"
      ]
     },
     "execution_count": 52,
     "metadata": {},
     "output_type": "execute_result"
    }
   ],
   "source": [
    "array1 = np.array([30,11,12,343,1232,454,234,454])\n",
    "array1.ndim"
   ]
  },
  {
   "cell_type": "code",
   "execution_count": 53,
   "id": "7016f54b",
   "metadata": {},
   "outputs": [
    {
     "data": {
      "text/plain": [
       "1"
      ]
     },
     "execution_count": 53,
     "metadata": {},
     "output_type": "execute_result"
    }
   ],
   "source": [
    "array1 = np.array([30])\n",
    "array1.ndim"
   ]
  },
  {
   "cell_type": "code",
   "execution_count": 54,
   "id": "ca46cb10",
   "metadata": {},
   "outputs": [
    {
     "data": {
      "text/plain": [
       "0"
      ]
     },
     "execution_count": 54,
     "metadata": {},
     "output_type": "execute_result"
    }
   ],
   "source": [
    "array1 = np.array(30)\n",
    "array1.ndim"
   ]
  },
  {
   "cell_type": "code",
   "execution_count": 55,
   "id": "abe02796",
   "metadata": {},
   "outputs": [
    {
     "data": {
      "text/plain": [
       "2"
      ]
     },
     "execution_count": 55,
     "metadata": {},
     "output_type": "execute_result"
    }
   ],
   "source": [
    "array1 = np.array([[30]])\n",
    "array1.ndim"
   ]
  },
  {
   "cell_type": "code",
   "execution_count": 56,
   "id": "56dfa125",
   "metadata": {},
   "outputs": [
    {
     "data": {
      "text/plain": [
       "3"
      ]
     },
     "execution_count": 56,
     "metadata": {},
     "output_type": "execute_result"
    }
   ],
   "source": [
    "array1 = np.array([[[30]]])\n",
    "array1.ndim"
   ]
  },
  {
   "cell_type": "code",
   "execution_count": 57,
   "id": "2390f1fc",
   "metadata": {},
   "outputs": [
    {
     "data": {
      "text/plain": [
       "4"
      ]
     },
     "execution_count": 57,
     "metadata": {},
     "output_type": "execute_result"
    }
   ],
   "source": [
    "array1 = np.array([[[[30]]]])\n",
    "array1.ndim"
   ]
  },
  {
   "cell_type": "markdown",
   "id": "9a23e1cb",
   "metadata": {},
   "source": [
    "### 3. 2-D Array"
   ]
  },
  {
   "cell_type": "markdown",
   "id": "d57584b1",
   "metadata": {},
   "source": [
    "It is a collection of multiple 1D array"
   ]
  },
  {
   "cell_type": "code",
   "execution_count": 58,
   "id": "0a8feba8",
   "metadata": {},
   "outputs": [
    {
     "data": {
      "text/plain": [
       "array([[1, 2, 3, 4],\n",
       "       [5, 6, 7, 8]])"
      ]
     },
     "execution_count": 58,
     "metadata": {},
     "output_type": "execute_result"
    }
   ],
   "source": [
    "array1 = np.array([[1,2,3,4],[5,6,7,8]])\n",
    "array1"
   ]
  },
  {
   "cell_type": "code",
   "execution_count": 59,
   "id": "66d231be",
   "metadata": {},
   "outputs": [
    {
     "name": "stdout",
     "output_type": "stream",
     "text": [
      "[[1 2 3 4]\n",
      " [5 6 7 8]]\n"
     ]
    }
   ],
   "source": [
    "print(array1)"
   ]
  },
  {
   "cell_type": "code",
   "execution_count": 60,
   "id": "90de0901",
   "metadata": {},
   "outputs": [
    {
     "data": {
      "text/plain": [
       "2"
      ]
     },
     "execution_count": 60,
     "metadata": {},
     "output_type": "execute_result"
    }
   ],
   "source": [
    "arr1 = np.array([[1,2,3]])\n",
    "arr1.ndim"
   ]
  },
  {
   "cell_type": "code",
   "execution_count": 64,
   "id": "ac254edc",
   "metadata": {},
   "outputs": [
    {
     "name": "stdout",
     "output_type": "stream",
     "text": [
      "[[ 1  2  3  4]\n",
      " [ 5  6  7  8]\n",
      " [10 20 30 60]]\n"
     ]
    }
   ],
   "source": [
    "array1 = np.array([[1,2,3,4],[5,6,7,8],[10,20,30,60]])\n",
    "print(array1) ## This represents 3 X 4 matrics"
   ]
  },
  {
   "cell_type": "code",
   "execution_count": 66,
   "id": "3550712e",
   "metadata": {},
   "outputs": [
    {
     "data": {
      "text/html": [
       "<div>\n",
       "<style scoped>\n",
       "    .dataframe tbody tr th:only-of-type {\n",
       "        vertical-align: middle;\n",
       "    }\n",
       "\n",
       "    .dataframe tbody tr th {\n",
       "        vertical-align: top;\n",
       "    }\n",
       "\n",
       "    .dataframe thead th {\n",
       "        text-align: right;\n",
       "    }\n",
       "</style>\n",
       "<table border=\"1\" class=\"dataframe\">\n",
       "  <thead>\n",
       "    <tr style=\"text-align: right;\">\n",
       "      <th></th>\n",
       "      <th>0</th>\n",
       "      <th>1</th>\n",
       "      <th>2</th>\n",
       "      <th>3</th>\n",
       "    </tr>\n",
       "  </thead>\n",
       "  <tbody>\n",
       "    <tr>\n",
       "      <th>0</th>\n",
       "      <td>1</td>\n",
       "      <td>2</td>\n",
       "      <td>3</td>\n",
       "      <td>4</td>\n",
       "    </tr>\n",
       "    <tr>\n",
       "      <th>1</th>\n",
       "      <td>5</td>\n",
       "      <td>6</td>\n",
       "      <td>7</td>\n",
       "      <td>8</td>\n",
       "    </tr>\n",
       "    <tr>\n",
       "      <th>2</th>\n",
       "      <td>10</td>\n",
       "      <td>20</td>\n",
       "      <td>30</td>\n",
       "      <td>60</td>\n",
       "    </tr>\n",
       "  </tbody>\n",
       "</table>\n",
       "</div>"
      ],
      "text/plain": [
       "    0   1   2   3\n",
       "0   1   2   3   4\n",
       "1   5   6   7   8\n",
       "2  10  20  30  60"
      ]
     },
     "execution_count": 66,
     "metadata": {},
     "output_type": "execute_result"
    }
   ],
   "source": [
    "import pandas as pd\n",
    "df = pd.DataFrame(array1)\n",
    "df"
   ]
  },
  {
   "cell_type": "markdown",
   "id": "e7ff6bfc",
   "metadata": {},
   "source": [
    "### 4. 3D Array"
   ]
  },
  {
   "cell_type": "code",
   "execution_count": null,
   "id": "3d4e0e5f",
   "metadata": {},
   "outputs": [],
   "source": [
    "3D array is a collection if multiple 2D array"
   ]
  },
  {
   "cell_type": "code",
   "execution_count": 63,
   "id": "d714ce21",
   "metadata": {},
   "outputs": [
    {
     "name": "stdout",
     "output_type": "stream",
     "text": [
      "[[[ 1  2  3]\n",
      "  [ 4  5  6]]\n",
      "\n",
      " [[ 7  8  9]\n",
      "  [10 11 12]]]\n"
     ]
    }
   ],
   "source": [
    "array3D = np.array([[[1,2,3],[4,5,6],[7,8,9]],[[10,11,12],[13,14,15]],[[16,17,18],[19,20,21]]])\n",
    "print(array3D)"
   ]
  },
  {
   "cell_type": "markdown",
   "id": "ce9280f3",
   "metadata": {},
   "source": [
    "### 4. 4D Array"
   ]
  },
  {
   "cell_type": "code",
   "execution_count": null,
   "id": "2153b203",
   "metadata": {},
   "outputs": [],
   "source": [
    "4D array is a collection if multiple 3D array"
   ]
  },
  {
   "cell_type": "markdown",
   "id": "12253a8a",
   "metadata": {},
   "source": [
    "### Indexing and Slicing in Numpy Array"
   ]
  },
  {
   "cell_type": "code",
   "execution_count": 67,
   "id": "08ffcb7d",
   "metadata": {},
   "outputs": [
    {
     "data": {
      "text/plain": [
       "3"
      ]
     },
     "execution_count": 67,
     "metadata": {},
     "output_type": "execute_result"
    }
   ],
   "source": [
    "list1 = [1,2,3,4]\n",
    "list1[2]"
   ]
  },
  {
   "cell_type": "code",
   "execution_count": 68,
   "id": "c713fba7",
   "metadata": {},
   "outputs": [
    {
     "data": {
      "text/plain": [
       "7"
      ]
     },
     "execution_count": 68,
     "metadata": {},
     "output_type": "execute_result"
    }
   ],
   "source": [
    "list1 = [[1,2,3,4],[5,6,7,8]]\n",
    "list1[1][2]"
   ]
  },
  {
   "cell_type": "code",
   "execution_count": 69,
   "id": "efee9553",
   "metadata": {},
   "outputs": [],
   "source": [
    "list1 = [[[1,2,3,4],[5,6,7,8]],[[11,22,33,44],[55,66,77,88]]]\n",
    "# from second 2D array I want to fetch second 1 D array"
   ]
  },
  {
   "cell_type": "code",
   "execution_count": 70,
   "id": "0515bb20",
   "metadata": {},
   "outputs": [
    {
     "data": {
      "text/plain": [
       "[55, 66, 77, 88]"
      ]
     },
     "execution_count": 70,
     "metadata": {},
     "output_type": "execute_result"
    }
   ],
   "source": [
    "list1[1][1]"
   ]
  },
  {
   "cell_type": "code",
   "execution_count": 71,
   "id": "51e71578",
   "metadata": {},
   "outputs": [
    {
     "data": {
      "text/plain": [
       "77"
      ]
     },
     "execution_count": 71,
     "metadata": {},
     "output_type": "execute_result"
    }
   ],
   "source": [
    "list1[1][1][2]"
   ]
  },
  {
   "cell_type": "code",
   "execution_count": 72,
   "id": "6a032642",
   "metadata": {},
   "outputs": [
    {
     "data": {
      "text/plain": [
       "4"
      ]
     },
     "execution_count": 72,
     "metadata": {},
     "output_type": "execute_result"
    }
   ],
   "source": [
    "array1D = np.array([1,2,3,4])\n",
    "array1D[3]"
   ]
  },
  {
   "cell_type": "code",
   "execution_count": 73,
   "id": "91ae2956",
   "metadata": {},
   "outputs": [
    {
     "data": {
      "text/plain": [
       "3"
      ]
     },
     "execution_count": 73,
     "metadata": {},
     "output_type": "execute_result"
    }
   ],
   "source": [
    "array1D[2]"
   ]
  },
  {
   "cell_type": "code",
   "execution_count": 74,
   "id": "3e0a39cd",
   "metadata": {},
   "outputs": [
    {
     "data": {
      "text/plain": [
       "array([5, 6, 7, 8])"
      ]
     },
     "execution_count": 74,
     "metadata": {},
     "output_type": "execute_result"
    }
   ],
   "source": [
    "array2D = np.array([[1,2,3,4],[5,6,7,8]])\n",
    "array2D[1]"
   ]
  },
  {
   "cell_type": "code",
   "execution_count": 75,
   "id": "06f84da0",
   "metadata": {},
   "outputs": [
    {
     "data": {
      "text/plain": [
       "8"
      ]
     },
     "execution_count": 75,
     "metadata": {},
     "output_type": "execute_result"
    }
   ],
   "source": [
    "array2D[1][3]"
   ]
  },
  {
   "cell_type": "code",
   "execution_count": 76,
   "id": "013abccf",
   "metadata": {},
   "outputs": [
    {
     "name": "stderr",
     "output_type": "stream",
     "text": [
      "C:\\Users\\kruna\\AppData\\Local\\Temp\\ipykernel_16608\\601655383.py:1: VisibleDeprecationWarning: Creating an ndarray from ragged nested sequences (which is a list-or-tuple of lists-or-tuples-or ndarrays with different lengths or shapes) is deprecated. If you meant to do this, you must specify 'dtype=object' when creating the ndarray.\n",
      "  array3D = np.array([[[1,2,3],[4,5,6],[7,8,9]],[[10,11,12],[13,14,15]],[[16,17,18],[19,20,21]]])\n"
     ]
    },
    {
     "data": {
      "text/plain": [
       "[[10, 11, 12], [13, 14, 15]]"
      ]
     },
     "execution_count": 76,
     "metadata": {},
     "output_type": "execute_result"
    }
   ],
   "source": [
    "array3D = np.array([[[1,2,3],[4,5,6],[7,8,9]],[[10,11,12],[13,14,15]],[[16,17,18],[19,20,21]]])\n",
    "array3D[1]"
   ]
  },
  {
   "cell_type": "code",
   "execution_count": 79,
   "id": "e2681760",
   "metadata": {},
   "outputs": [
    {
     "data": {
      "text/plain": [
       "[[10, 11, 12], [13, 14, 15]]"
      ]
     },
     "execution_count": 79,
     "metadata": {},
     "output_type": "execute_result"
    }
   ],
   "source": [
    "array3D[1]"
   ]
  },
  {
   "cell_type": "code",
   "execution_count": 80,
   "id": "b8ac7df8",
   "metadata": {},
   "outputs": [
    {
     "data": {
      "text/plain": [
       "[13, 14, 15]"
      ]
     },
     "execution_count": 80,
     "metadata": {},
     "output_type": "execute_result"
    }
   ],
   "source": [
    "array3D[1][1]"
   ]
  },
  {
   "cell_type": "code",
   "execution_count": 81,
   "id": "bfcc630c",
   "metadata": {},
   "outputs": [
    {
     "data": {
      "text/plain": [
       "15"
      ]
     },
     "execution_count": 81,
     "metadata": {},
     "output_type": "execute_result"
    }
   ],
   "source": [
    "array3D[1][1][-1]"
   ]
  },
  {
   "cell_type": "code",
   "execution_count": 83,
   "id": "9c059c9d",
   "metadata": {},
   "outputs": [
    {
     "data": {
      "text/plain": [
       "array([1, 2, 3, 4, 5, 6, 7])"
      ]
     },
     "execution_count": 83,
     "metadata": {},
     "output_type": "execute_result"
    }
   ],
   "source": [
    "array1 = np.array((1,2,3,4,5,6,7))\n",
    "array1"
   ]
  },
  {
   "cell_type": "code",
   "execution_count": null,
   "id": "31f805e3",
   "metadata": {},
   "outputs": [],
   "source": []
  },
  {
   "cell_type": "code",
   "execution_count": null,
   "id": "56c0c729",
   "metadata": {},
   "outputs": [],
   "source": []
  }
 ],
 "metadata": {
  "kernelspec": {
   "display_name": "Python 3 (ipykernel)",
   "language": "python",
   "name": "python3"
  },
  "language_info": {
   "codemirror_mode": {
    "name": "ipython",
    "version": 3
   },
   "file_extension": ".py",
   "mimetype": "text/x-python",
   "name": "python",
   "nbconvert_exporter": "python",
   "pygments_lexer": "ipython3",
   "version": "3.10.5"
  }
 },
 "nbformat": 4,
 "nbformat_minor": 5
}
