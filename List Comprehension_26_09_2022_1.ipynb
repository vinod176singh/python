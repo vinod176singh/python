{
 "cells": [
  {
   "cell_type": "code",
   "execution_count": null,
   "id": "add7b0d3",
   "metadata": {},
   "outputs": [],
   "source": [
    "List Functions\n",
    "1. append\n",
    "2. extend\n",
    "3. insert\n",
    "4. remove\n",
    "5. pop\n",
    "6. clear\n",
    "7. copy\n",
    "8. sort\n",
    "9. count\n",
    "10. index\n",
    "9. reverse\n",
    "10. sorted\n",
    "11. reversed\n"
   ]
  },
  {
   "cell_type": "code",
   "execution_count": 5,
   "id": "174444e9",
   "metadata": {},
   "outputs": [
    {
     "name": "stdout",
     "output_type": "stream",
     "text": [
      "Number : 1  ODD/EVEN : odd\n",
      "Number : 2  ODD/EVEN : even\n",
      "Number : 3  ODD/EVEN : odd\n",
      "Number : 4  ODD/EVEN : even\n",
      "Number : 5  ODD/EVEN : odd\n",
      "Number : 6  ODD/EVEN : even\n",
      "Number : 7  ODD/EVEN : odd\n",
      "Number : 8  ODD/EVEN : even\n",
      "Number : 9  ODD/EVEN : odd\n",
      "Number : 10  ODD/EVEN : even\n",
      "Number : 11  ODD/EVEN : odd\n",
      "Number : 12  ODD/EVEN : even\n",
      "Number : 13  ODD/EVEN : odd\n",
      "\n",
      "In the given list there are 6 even numbers and 7 odd numbers\n"
     ]
    }
   ],
   "source": [
    "list1 = [1,2,3,4,5,6,7,8,9,10,11,12,13]\n",
    "\n",
    "even = 0\n",
    "odd = 0\n",
    "\n",
    "for i in list1:\n",
    "    if i % 2 == 0 :\n",
    "        even += 1\n",
    "        print(f\"Number : {i}  ODD/EVEN : even\")\n",
    "    else:\n",
    "        odd += 1\n",
    "        print(f\"Number : {i}  ODD/EVEN : odd\")\n",
    "print(f\"\\nIn the given list there are {even} even numbers and {odd} odd numbers\")"
   ]
  },
  {
   "cell_type": "code",
   "execution_count": 7,
   "id": "053a79eb",
   "metadata": {},
   "outputs": [
    {
     "name": "stdout",
     "output_type": "stream",
     "text": [
      "[1, 4, 9, 16, 25, 36, 49, 64, 81, 100, 121]\n"
     ]
    }
   ],
   "source": [
    "squares = []\n",
    "\n",
    "for i in range(1,12):\n",
    "    squares.append(i**2)\n",
    "\n",
    "print(squares)"
   ]
  },
  {
   "cell_type": "code",
   "execution_count": 8,
   "id": "fd14838c",
   "metadata": {},
   "outputs": [
    {
     "data": {
      "text/plain": [
       "['PHY', 'CHEM', 'BIO', 'MATH', 'ENG', 'MAR', 'HIS', 'GEO']"
      ]
     },
     "execution_count": 8,
     "metadata": {},
     "output_type": "execute_result"
    }
   ],
   "source": [
    "sub_list = [\"Phy\", \"Chem\", \"Bio\", \"Math\", \"Eng\", \"Mar\", \"His\", \"Geo\"]\n",
    "sub_list2 = []\n",
    "\n",
    "for subject in sub_list:\n",
    "    sub_list2.append(subject.upper())\n",
    "\n",
    "sub_list2"
   ]
  },
  {
   "cell_type": "markdown",
   "id": "4b1bf69a",
   "metadata": {},
   "source": [
    "### List Comprehension"
   ]
  },
  {
   "cell_type": "code",
   "execution_count": null,
   "id": "ba0d21ee",
   "metadata": {},
   "outputs": [],
   "source": [
    "Syntax::\n",
    "\n",
    "new_list = [expression for variable in sequence]\n",
    "new_list = [expression for variable in sequence if condition == True]\n",
    "new_list = [short hand if else expression for variable in sequence]"
   ]
  },
  {
   "cell_type": "code",
   "execution_count": 9,
   "id": "0e73fc1b",
   "metadata": {},
   "outputs": [
    {
     "name": "stdout",
     "output_type": "stream",
     "text": [
      "[1, 4, 9, 16, 25, 36, 49, 64, 81, 100, 121, 144]\n"
     ]
    }
   ],
   "source": [
    "## Prepare list of squares for the number from 1 to 12\n",
    "\n",
    "squares = [i**2 for i in range(1,13)]\n",
    "\n",
    "print(squares)"
   ]
  },
  {
   "cell_type": "code",
   "execution_count": 10,
   "id": "422372e9",
   "metadata": {},
   "outputs": [
    {
     "name": "stdout",
     "output_type": "stream",
     "text": [
      "[1000, 1331, 1728, 2197, 2744, 3375, 4096, 4913, 5832, 6859, 8000]\n"
     ]
    }
   ],
   "source": [
    "## Prepape the list of cubes for numbers in range 10 to 20\n",
    "\n",
    "## Usual Method\n",
    "\n",
    "cube = []\n",
    "for i in range(10,21):\n",
    "    cube.append(i**3)\n",
    "\n",
    "print(cube)"
   ]
  },
  {
   "cell_type": "code",
   "execution_count": 11,
   "id": "9e06295c",
   "metadata": {},
   "outputs": [
    {
     "name": "stdout",
     "output_type": "stream",
     "text": [
      "[1000, 1331, 1728, 2197, 2744, 3375, 4096, 4913, 5832, 6859, 8000, 9261]\n"
     ]
    }
   ],
   "source": [
    "## With List Comprehension\n",
    "\n",
    "cube1 = [i**3 for i in range(10,22)]\n",
    "\n",
    "print(cube1)"
   ]
  },
  {
   "cell_type": "code",
   "execution_count": 12,
   "id": "37570bca",
   "metadata": {},
   "outputs": [
    {
     "data": {
      "text/plain": [
       "['PHY', 'CHEM', 'BIO', 'MATH', 'ENG', 'MAR', 'HIS', 'GEO']"
      ]
     },
     "execution_count": 12,
     "metadata": {},
     "output_type": "execute_result"
    }
   ],
   "source": [
    "## Usual Method\n",
    "sub_list = [\"Phy\", \"Chem\", \"Bio\", \"Math\", \"Eng\", \"Mar\", \"His\", \"Geo\"]\n",
    "sub_list2 = []\n",
    "\n",
    "for subject in sub_list:\n",
    "    sub_list2.append(subject.upper())\n",
    "\n",
    "sub_list2"
   ]
  },
  {
   "cell_type": "code",
   "execution_count": 13,
   "id": "9973d9d9",
   "metadata": {},
   "outputs": [
    {
     "name": "stdout",
     "output_type": "stream",
     "text": [
      "['PHY', 'CHEM', 'BIO', 'MATH', 'ENG', 'MAR', 'HIS', 'GEO']\n"
     ]
    }
   ],
   "source": [
    "## List Comprehension\n",
    "\n",
    "sub_list = [\"Phy\", \"Chem\", \"Bio\", \"Math\", \"Eng\", \"Mar\", \"His\", \"Geo\"]\n",
    "sub_list2 = [i.upper() for i in sub_list]\n",
    "\n",
    "print(sub_list2)"
   ]
  },
  {
   "cell_type": "code",
   "execution_count": 15,
   "id": "731bc580",
   "metadata": {},
   "outputs": [
    {
     "name": "stdout",
     "output_type": "stream",
     "text": [
      "[2, 4, 6, 8, 10, 12]\n"
     ]
    }
   ],
   "source": [
    "## Create a new list of even number with the numbers form list1\n",
    "\n",
    "list1 = [1,2,3,4,5,6,7,8,9,10,11,12,13]\n",
    "\n",
    "## Ususal Way\n",
    "even_number = []\n",
    "\n",
    "for i in list1:\n",
    "    \n",
    "    if i % 2 == 0:\n",
    "        even_number.append(i)\n",
    "    \n",
    "    else:\n",
    "        pass\n",
    "    \n",
    "print(even_number)"
   ]
  },
  {
   "cell_type": "code",
   "execution_count": 16,
   "id": "a856e71f",
   "metadata": {},
   "outputs": [
    {
     "data": {
      "text/plain": [
       "[2, 4, 6, 8, 10, 12]"
      ]
     },
     "execution_count": 16,
     "metadata": {},
     "output_type": "execute_result"
    }
   ],
   "source": [
    "## List Comprehension\n",
    "\n",
    "list1 = [1,2,3,4,5,6,7,8,9,10,11,12,13]\n",
    "\n",
    "even_number = [i for i in list1 if i%2 == 0]\n",
    "\n",
    "even_number"
   ]
  },
  {
   "cell_type": "code",
   "execution_count": 17,
   "id": "3f2a7360",
   "metadata": {},
   "outputs": [
    {
     "data": {
      "text/plain": [
       "[1, 3, 5, 7, 9, 11, 13]"
      ]
     },
     "execution_count": 17,
     "metadata": {},
     "output_type": "execute_result"
    }
   ],
   "source": [
    "odd_number = [i for i in list1 if i%2 != 0 ]\n",
    "odd_number"
   ]
  },
  {
   "cell_type": "code",
   "execution_count": 18,
   "id": "1e838be1",
   "metadata": {},
   "outputs": [
    {
     "name": "stdout",
     "output_type": "stream",
     "text": [
      "x is odd\n"
     ]
    }
   ],
   "source": [
    "## Short hand if else:\n",
    "\n",
    "x = 5\n",
    "\n",
    "if x % 2 == 0:\n",
    "    print(\"x is even\")\n",
    "else:\n",
    "    print(\"x is odd\")"
   ]
  },
  {
   "cell_type": "code",
   "execution_count": 19,
   "id": "143d00da",
   "metadata": {},
   "outputs": [
    {
     "name": "stdout",
     "output_type": "stream",
     "text": [
      "x is odd\n"
     ]
    }
   ],
   "source": [
    "print(\"x is even\") if x % 2 == 0 else print(\"x is odd\")"
   ]
  },
  {
   "cell_type": "code",
   "execution_count": 27,
   "id": "1762571f",
   "metadata": {},
   "outputs": [
    {
     "name": "stdout",
     "output_type": "stream",
     "text": [
      "Odd Even Odd Even Odd Even Odd Even Odd Even Odd Even Odd Even Odd Even Odd Even Odd Even Odd "
     ]
    }
   ],
   "source": [
    "for i in range(1,22):\n",
    "    print(\"Even\",end = \" \") if i % 2 == 0 else print(\"Odd\", end = \" \")"
   ]
  },
  {
   "cell_type": "code",
   "execution_count": 34,
   "id": "0b9a69d2",
   "metadata": {},
   "outputs": [
    {
     "name": "stdout",
     "output_type": "stream",
     "text": [
      "['ODD', 'EVEN', 'ODD', 'EVEN', 'ODD', 'EVEN', 'ODD', 'EVEN', 'ODD', 'EVEN', 'ODD', 'EVEN', 'ODD']\n"
     ]
    }
   ],
   "source": [
    "list1 = [1,2,3,4,5,6,7,8,9,10,11,12,13]\n",
    "list2 = [] ## Odd even will be appended for the numbers in list1\n",
    "\n",
    "\n",
    "## AAM JINDAGI\n",
    "for i in list1:\n",
    "    if i % 2 == 0:\n",
    "        list2.append(\"EVEN\")\n",
    "    else:\n",
    "        list2.append(\"ODD\")\n",
    "print(list2)\n",
    "end_time = time.time()"
   ]
  },
  {
   "cell_type": "code",
   "execution_count": 24,
   "id": "e450bef4",
   "metadata": {},
   "outputs": [],
   "source": [
    "## Mentos Waali Jindagi\n",
    "list1 = [1,2,3,4,5,6,7,8,9,10,11,12,13]\n",
    "list2 = [\"EVEN\" if i%2==0 else \"ODD\" for i in list1]"
   ]
  },
  {
   "cell_type": "code",
   "execution_count": 26,
   "id": "59ac722a",
   "metadata": {},
   "outputs": [
    {
     "name": "stdout",
     "output_type": "stream",
     "text": [
      "['ODD', 'EVEN', 'ODD', 'EVEN', 'ODD', 'EVEN', 'ODD', 'EVEN', 'ODD', 'EVEN', 'ODD', 'EVEN', 'ODD']\n"
     ]
    }
   ],
   "source": [
    "print(list2)"
   ]
  },
  {
   "cell_type": "code",
   "execution_count": 31,
   "id": "24d60df1",
   "metadata": {},
   "outputs": [
    {
     "name": "stdout",
     "output_type": "stream",
     "text": [
      "['EVEN', 'ODD', 'ODD', 'ODD', 'EVEN', 'EVEN', 'EVEN', 'ODD', 'EVEN', 'EVEN', 'ODD', 'ODD', 'ODD', 'EVEN', 'ODD', 'ODD']\n"
     ]
    }
   ],
   "source": [
    "list1 = [4,23,55,1,22,12,34,33,26,44,51,67,79,48,91,47]\n",
    "list2 = [\"EVEN\" if i%2==0 else \"ODD\" for i in list1]\n",
    "print(list2)"
   ]
  },
  {
   "cell_type": "code",
   "execution_count": 37,
   "id": "ebb1b0aa",
   "metadata": {},
   "outputs": [
    {
     "data": {
      "text/plain": [
       "[1, 0, 0, 0, 1, 1, 1, 0, 1, 1, 0, 0, 0, 1, 0, 0]"
      ]
     },
     "execution_count": 37,
     "metadata": {},
     "output_type": "execute_result"
    }
   ],
   "source": [
    "list1 = [4,23,55,1,22,12,34,33,26,44,51,67,79,48,91,47]\n",
    "## 1 == even\n",
    "## 0 == odd\n",
    "list2 = [1 if i%2==0 else 0 for i in list1]\n",
    "\n",
    "list2"
   ]
  },
  {
   "cell_type": "code",
   "execution_count": 38,
   "id": "e81af49e",
   "metadata": {},
   "outputs": [
    {
     "data": {
      "text/plain": [
       "7"
      ]
     },
     "execution_count": 38,
     "metadata": {},
     "output_type": "execute_result"
    }
   ],
   "source": [
    "list2.count(1)"
   ]
  },
  {
   "cell_type": "code",
   "execution_count": 39,
   "id": "5ae59fd1",
   "metadata": {},
   "outputs": [
    {
     "data": {
      "text/plain": [
       "9"
      ]
     },
     "execution_count": 39,
     "metadata": {},
     "output_type": "execute_result"
    }
   ],
   "source": [
    "list2.count(0)"
   ]
  },
  {
   "cell_type": "code",
   "execution_count": 41,
   "id": "cf3e7f33",
   "metadata": {},
   "outputs": [
    {
     "name": "stdout",
     "output_type": "stream",
     "text": [
      "[16, 12167, 166375, 1, 484, 144, 1156, 35937, 676, 1936, 132651, 300763, 493039, 2304, 753571, 103823]\n"
     ]
    }
   ],
   "source": [
    "list1 = [4,23,55,1,22,12,34,33,26,44,51,67,79,48,91,47]\n",
    "## 1 == even\n",
    "## 0 == odd\n",
    "list2 = [i**2 if i%2==0 else i**3 for i in list1]\n",
    "\n",
    "print(list2)"
   ]
  },
  {
   "cell_type": "code",
   "execution_count": 43,
   "id": "955dd4d7",
   "metadata": {},
   "outputs": [
    {
     "name": "stdout",
     "output_type": "stream",
     "text": [
      "Same Location\n"
     ]
    }
   ],
   "source": [
    "a = 10\n",
    "b = 10\n",
    "if id(a)==id(b):\n",
    "    print(\"Same Location\")\n",
    "else:\n",
    "    \n",
    "    print(\"Different Location\")"
   ]
  },
  {
   "cell_type": "code",
   "execution_count": 44,
   "id": "2ae487aa",
   "metadata": {},
   "outputs": [
    {
     "name": "stdout",
     "output_type": "stream",
     "text": [
      "Same Location\n"
     ]
    }
   ],
   "source": [
    "a = 11\n",
    "b = 11\n",
    "if id(a)==id(b):\n",
    "    print(\"Same Location\")\n",
    "else:\n",
    "    \n",
    "    print(\"Different Location\")"
   ]
  },
  {
   "cell_type": "code",
   "execution_count": 6,
   "id": "e9a23393",
   "metadata": {},
   "outputs": [
    {
     "name": "stdout",
     "output_type": "stream",
     "text": [
      "Same Location\n"
     ]
    }
   ],
   "source": [
    "a = 256\n",
    "b = 256\n",
    "\n",
    "if id(a)==id(b):\n",
    "    print(\"Same Location\")\n",
    "else:\n",
    "    print(\"Different Location\")"
   ]
  },
  {
   "cell_type": "code",
   "execution_count": 7,
   "id": "8c476c35",
   "metadata": {},
   "outputs": [
    {
     "name": "stdout",
     "output_type": "stream",
     "text": [
      "Different Location\n"
     ]
    }
   ],
   "source": [
    "a = 257\n",
    "b = 257\n",
    "\n",
    "if id(a)==id(b):\n",
    "    print(\"Same Location\")\n",
    "else:\n",
    "    print(\"Different Location\")"
   ]
  },
  {
   "cell_type": "code",
   "execution_count": null,
   "id": "5de7a4c7",
   "metadata": {},
   "outputs": [],
   "source": [
    "string = \"jsdbfhgvshgd`\""
   ]
  }
 ],
 "metadata": {
  "kernelspec": {
   "display_name": "Python 3 (ipykernel)",
   "language": "python",
   "name": "python3"
  },
  "language_info": {
   "codemirror_mode": {
    "name": "ipython",
    "version": 3
   },
   "file_extension": ".py",
   "mimetype": "text/x-python",
   "name": "python",
   "nbconvert_exporter": "python",
   "pygments_lexer": "ipython3",
   "version": "3.10.5"
  }
 },
 "nbformat": 4,
 "nbformat_minor": 5
}
