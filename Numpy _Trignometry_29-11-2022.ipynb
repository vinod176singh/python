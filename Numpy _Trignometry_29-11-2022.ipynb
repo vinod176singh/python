{
 "cells": [
  {
   "cell_type": "code",
   "execution_count": 1,
   "id": "9aeed578",
   "metadata": {},
   "outputs": [],
   "source": [
    "import numpy as np"
   ]
  },
  {
   "cell_type": "markdown",
   "id": "367739d5",
   "metadata": {},
   "source": [
    "## Numpy Trignometry"
   ]
  },
  {
   "cell_type": "code",
   "execution_count": null,
   "id": "bc44da2b",
   "metadata": {},
   "outputs": [],
   "source": [
    "1. np.sin()\n",
    "2. np.cos()\n",
    "3. np.tan()\n",
    "4. np.deg2rad()\n",
    "5. np.rad2deg()\n",
    "6. np.pi()"
   ]
  },
  {
   "cell_type": "code",
   "execution_count": null,
   "id": "02785b0e",
   "metadata": {},
   "outputs": [],
   "source": [
    "sin >> Opp/hyp\n",
    "cos >> Adj/hyp\n",
    "tan >> Opp/Adj\n",
    "\n",
    "cosec >> 1/sin >> Hyp/Opp\n",
    "sec   >> 1/cos >> Hyp/Adj\n",
    "cot   >> 1/tan >> Adj/Opp"
   ]
  },
  {
   "cell_type": "code",
   "execution_count": 2,
   "id": "a65e4077",
   "metadata": {},
   "outputs": [
    {
     "data": {
      "text/plain": [
       "3.141592653589793"
      ]
     },
     "execution_count": 2,
     "metadata": {},
     "output_type": "execute_result"
    }
   ],
   "source": [
    "np.pi ## Same is available in math module as well"
   ]
  },
  {
   "cell_type": "code",
   "execution_count": 3,
   "id": "98fe48e0",
   "metadata": {},
   "outputs": [],
   "source": [
    "import math"
   ]
  },
  {
   "cell_type": "code",
   "execution_count": 4,
   "id": "7d4df681",
   "metadata": {},
   "outputs": [
    {
     "data": {
      "text/plain": [
       "3.141592653589793"
      ]
     },
     "execution_count": 4,
     "metadata": {},
     "output_type": "execute_result"
    }
   ],
   "source": [
    "math.pi"
   ]
  },
  {
   "cell_type": "code",
   "execution_count": 5,
   "id": "127bfbe6",
   "metadata": {},
   "outputs": [
    {
     "name": "stdout",
     "output_type": "stream",
     "text": [
      "1.0471975511965976\n"
     ]
    }
   ],
   "source": [
    "angle1_in_deg = 60 # Degrees\n",
    "angle1_in_rad = np.deg2rad(angle1_in_deg)\n",
    "print(angle1_in_rad)"
   ]
  },
  {
   "cell_type": "code",
   "execution_count": 6,
   "id": "052ccfff",
   "metadata": {},
   "outputs": [
    {
     "name": "stdout",
     "output_type": "stream",
     "text": [
      "0.8660254037844386\n"
     ]
    }
   ],
   "source": [
    "sin_angle1 = np.sin(angle1_in_rad)\n",
    "print(sin_angle1)"
   ]
  },
  {
   "cell_type": "code",
   "execution_count": 7,
   "id": "158ccb7a",
   "metadata": {},
   "outputs": [
    {
     "data": {
      "text/plain": [
       "0.5000000000000001"
      ]
     },
     "execution_count": 7,
     "metadata": {},
     "output_type": "execute_result"
    }
   ],
   "source": [
    "cos_angle1 = np.cos(angle1_in_rad)\n",
    "cos_angle1"
   ]
  },
  {
   "cell_type": "code",
   "execution_count": 8,
   "id": "3a0bcc93",
   "metadata": {},
   "outputs": [
    {
     "data": {
      "text/plain": [
       "1.7320508075688767"
      ]
     },
     "execution_count": 8,
     "metadata": {},
     "output_type": "execute_result"
    }
   ],
   "source": [
    "tan_angle1 = np.tan(angle1_in_rad)\n",
    "tan_angle1"
   ]
  },
  {
   "cell_type": "markdown",
   "id": "5bde2a75",
   "metadata": {},
   "source": [
    "### Degree to Radian and Radians to Degree"
   ]
  },
  {
   "cell_type": "code",
   "execution_count": 10,
   "id": "633ef647",
   "metadata": {},
   "outputs": [
    {
     "name": "stdout",
     "output_type": "stream",
     "text": [
      "Angle Array in Degree:  [30 45 60 90]\n"
     ]
    }
   ],
   "source": [
    "angle_array_deg = np.array([30,45,60,90])\n",
    "print(\"Angle Array in Degree: \", angle_array_deg)"
   ]
  },
  {
   "cell_type": "code",
   "execution_count": 11,
   "id": "8734d3a9",
   "metadata": {},
   "outputs": [
    {
     "name": "stdout",
     "output_type": "stream",
     "text": [
      "Angle array in Radians:  [0.52359878 0.78539816 1.04719755 1.57079633]\n"
     ]
    }
   ],
   "source": [
    "angle_array_rad = np.deg2rad(angle_array_deg)\n",
    "print(\"Angle array in Radians: \", angle_array_rad)"
   ]
  },
  {
   "cell_type": "code",
   "execution_count": 12,
   "id": "eb1078c7",
   "metadata": {},
   "outputs": [
    {
     "name": "stdout",
     "output_type": "stream",
     "text": [
      "Angle array converted from Radians to Degree:\n",
      "[30. 45. 60. 90.]\n"
     ]
    }
   ],
   "source": [
    "angle_array_in_deg_from_rad = np.rad2deg(angle_array_rad)\n",
    "print(\"Angle array converted from Radians to Degree:\")\n",
    "print(angle_array_in_deg_from_rad)"
   ]
  },
  {
   "cell_type": "code",
   "execution_count": null,
   "id": "f36407cb",
   "metadata": {},
   "outputs": [],
   "source": []
  }
 ],
 "metadata": {
  "kernelspec": {
   "display_name": "Python 3 (ipykernel)",
   "language": "python",
   "name": "python3"
  },
  "language_info": {
   "codemirror_mode": {
    "name": "ipython",
    "version": 3
   },
   "file_extension": ".py",
   "mimetype": "text/x-python",
   "name": "python",
   "nbconvert_exporter": "python",
   "pygments_lexer": "ipython3",
   "version": "3.10.5"
  }
 },
 "nbformat": 4,
 "nbformat_minor": 5
}
