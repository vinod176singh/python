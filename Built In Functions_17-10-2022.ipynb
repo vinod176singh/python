{
 "cells": [
  {
   "cell_type": "markdown",
   "id": "99904a7f",
   "metadata": {},
   "source": [
    "## Filter()"
   ]
  },
  {
   "cell_type": "code",
   "execution_count": null,
   "id": "57af4ec4",
   "metadata": {},
   "outputs": [],
   "source": [
    "filter(funtion,iterable)\n",
    "\n",
    "It returns only true values in a filter object\n",
    "\n",
    "has to be converted into tuple or list by type casting"
   ]
  },
  {
   "cell_type": "code",
   "execution_count": 4,
   "id": "db320f59",
   "metadata": {},
   "outputs": [
    {
     "data": {
      "text/plain": [
       "[4, 44, 88, 94]"
      ]
     },
     "execution_count": 4,
     "metadata": {},
     "output_type": "execute_result"
    }
   ],
   "source": [
    "list1 = [4,5,23,44,67,88,87,94,25,63,43]\n",
    "\n",
    "list(filter(lambda x: x%2==0, list1))"
   ]
  },
  {
   "cell_type": "markdown",
   "id": "b9cf6003",
   "metadata": {},
   "source": [
    "### map()"
   ]
  },
  {
   "cell_type": "code",
   "execution_count": null,
   "id": "e812a11c",
   "metadata": {},
   "outputs": [],
   "source": [
    "map(function,iterable)\n",
    "\n",
    "It will retured a mapped function object\n",
    "Has to be convered to list or tuple using type casting"
   ]
  },
  {
   "cell_type": "code",
   "execution_count": 6,
   "id": "517d99fd",
   "metadata": {},
   "outputs": [
    {
     "data": {
      "text/plain": [
       "[16, 25, 529, 1936, 4489, 7744, 7569, 8836, 625, 3969, 1849]"
      ]
     },
     "execution_count": 6,
     "metadata": {},
     "output_type": "execute_result"
    }
   ],
   "source": [
    "list1 = [4,5,23,44,67,88,87,94,25,63,43]\n",
    "\n",
    "list(map(lambda x : x**2,list1))"
   ]
  },
  {
   "cell_type": "code",
   "execution_count": 7,
   "id": "7def815a",
   "metadata": {},
   "outputs": [
    {
     "data": {
      "text/plain": [
       "[6, 7, 25, 46, 69, 90, 89, 96, 27, 65, 45]"
      ]
     },
     "execution_count": 7,
     "metadata": {},
     "output_type": "execute_result"
    }
   ],
   "source": [
    "list(map(lambda x : x + 2, list1))"
   ]
  },
  {
   "cell_type": "code",
   "execution_count": 8,
   "id": "49941eef",
   "metadata": {},
   "outputs": [
    {
     "name": "stdout",
     "output_type": "stream",
     "text": [
      "['t', 'h', 'i', 's', ' ', 'i', 's', ' ', 'a', ' ', 's', 'a', 'm', 'p', 'l', 'e', ' ', 's', 't', 'r', 'i', 'n', 'g']\n"
     ]
    }
   ],
   "source": [
    "string = \"This is a sample string\"\n",
    "\n",
    "lower_string = list(map(lambda x : x.lower(), string))\n",
    "print(lower_string)"
   ]
  },
  {
   "cell_type": "code",
   "execution_count": 9,
   "id": "33069c47",
   "metadata": {},
   "outputs": [
    {
     "name": "stdout",
     "output_type": "stream",
     "text": [
      "['T', 'H', 'I', 'S', ' ', 'I', 'S', ' ', 'A', ' ', 'S', 'A', 'M', 'P', 'L', 'E', ' ', 'S', 'T', 'R', 'I', 'N', 'G']\n"
     ]
    }
   ],
   "source": [
    "string = \"This is a sample string\"\n",
    "\n",
    "lower_string = list(map(lambda x : x.upper(), string))\n",
    "print(lower_string)"
   ]
  },
  {
   "cell_type": "code",
   "execution_count": 10,
   "id": "7e19d70d",
   "metadata": {},
   "outputs": [
    {
     "data": {
      "text/plain": [
       "['T', 'S', 'I', 'A', 'S', 'M', 'L', 'S', 'R', 'I', 'I', 'I', 'N']"
      ]
     },
     "execution_count": 10,
     "metadata": {},
     "output_type": "execute_result"
    }
   ],
   "source": [
    "string = \"ThiS Is A SaMpLe StRIIINg\"\n",
    "\n",
    "filtered_string = list(filter(lambda x : x.isupper(),string))\n",
    "filtered_string"
   ]
  },
  {
   "cell_type": "code",
   "execution_count": 12,
   "id": "e5608796",
   "metadata": {},
   "outputs": [
    {
     "name": "stdout",
     "output_type": "stream",
     "text": [
      "[True, False, False, True, False, True, False, False, True, False, True, False, True, False, True, False, False, True, False, True, True, True, True, True, False]\n"
     ]
    }
   ],
   "source": [
    "mapped_string = list(map(lambda x : x.isupper(),string))\n",
    "print(mapped_string)"
   ]
  },
  {
   "cell_type": "code",
   "execution_count": 13,
   "id": "59fd822d",
   "metadata": {},
   "outputs": [
    {
     "name": "stdout",
     "output_type": "stream",
     "text": [
      "['SUNDAY', 'MONDAY', 'TUESDAY', 'WEDNESDAY', 'THURSDAY', 'FRIDAY', 'SATURDAY']\n"
     ]
    }
   ],
   "source": [
    "weekdays = [\"Sunday\",\"Monday\",\"Tuesday\",\"Wednesday\",\"Thursday\",\"Friday\",\"Saturday\"]\n",
    "\n",
    "mapped_list = list(map(lambda x : x.upper(),weekdays))\n",
    "print(mapped_list)"
   ]
  },
  {
   "cell_type": "code",
   "execution_count": 14,
   "id": "f179b6c4",
   "metadata": {},
   "outputs": [
    {
     "name": "stdout",
     "output_type": "stream",
     "text": [
      "['Sunday', 'Monday', 'Friday']\n"
     ]
    }
   ],
   "source": [
    "weekdays = [\"Sunday\",\"Monday\",\"Tuesday\",\"Wednesday\",\"Thursday\",\"Friday\",\"Saturday\"]\n",
    "\n",
    "filtered_list = list(filter(lambda x: len(x)==6,weekdays))\n",
    "print(filtered_list)"
   ]
  },
  {
   "cell_type": "markdown",
   "id": "0fed3501",
   "metadata": {},
   "source": [
    "### Sending two iterables to map function"
   ]
  },
  {
   "cell_type": "code",
   "execution_count": 15,
   "id": "77ee1531",
   "metadata": {},
   "outputs": [
    {
     "name": "stdout",
     "output_type": "stream",
     "text": [
      "[7, 9, 11, 13, 15]\n"
     ]
    }
   ],
   "source": [
    "list1 = [1,2,3,4,5]\n",
    "tuple1 = (6,7,8,9,10)\n",
    "\n",
    "list2 = []\n",
    "\n",
    "for i,j in zip(list1,tuple1):\n",
    "    \n",
    "    list2.append(i+j)\n",
    "print(list2)   "
   ]
  },
  {
   "cell_type": "code",
   "execution_count": 16,
   "id": "38d74911",
   "metadata": {},
   "outputs": [
    {
     "name": "stdout",
     "output_type": "stream",
     "text": [
      "[7, 9, 11, 13, 15]\n"
     ]
    }
   ],
   "source": [
    "list1 = [1,2,3,4,5]\n",
    "tuple1 = (6,7,8,9,10)\n",
    "\n",
    "list2 = list(map(lambda x,y: x+y, list1,tuple1))\n",
    "\n",
    "print(list2)"
   ]
  },
  {
   "cell_type": "markdown",
   "id": "ad1f1a58",
   "metadata": {},
   "source": [
    "### Remaining Built In function"
   ]
  },
  {
   "cell_type": "code",
   "execution_count": null,
   "id": "3ea89a1c",
   "metadata": {},
   "outputs": [],
   "source": [
    "1. zip()\n",
    "2. filter()\n",
    "3. map()\n",
    "\n",
    "4. all()\n",
    "5. any()\n",
    "\n",
    "6. chr()\n",
    "7. ord()\n",
    "\n",
    "7. bin()\n",
    "9. format()\n",
    "\n",
    "10. eval()\n",
    "11. abs()\n",
    "\n",
    "12. dir()\n",
    "13. round()\n",
    "14. iter()\n",
    "15. next()\n",
    "17. pow()\n",
    "18. divmod()"
   ]
  },
  {
   "cell_type": "markdown",
   "id": "9b4425cf",
   "metadata": {},
   "source": [
    "## all()"
   ]
  },
  {
   "cell_type": "code",
   "execution_count": null,
   "id": "b8fdad22",
   "metadata": {},
   "outputs": [],
   "source": [
    "all(iterable)\n",
    "\n",
    "True >> If all the elements are True (except 0 and False)\n",
    "True >> If the iterable is empty"
   ]
  },
  {
   "cell_type": "code",
   "execution_count": 17,
   "id": "990d9211",
   "metadata": {},
   "outputs": [
    {
     "data": {
      "text/plain": [
       "True"
      ]
     },
     "execution_count": 17,
     "metadata": {},
     "output_type": "execute_result"
    }
   ],
   "source": [
    "list1 = [1,2,3,4,5]\n",
    "\n",
    "all(list1)"
   ]
  },
  {
   "cell_type": "code",
   "execution_count": 18,
   "id": "82a3869c",
   "metadata": {},
   "outputs": [
    {
     "data": {
      "text/plain": [
       "True"
      ]
     },
     "execution_count": 18,
     "metadata": {},
     "output_type": "execute_result"
    }
   ],
   "source": [
    "list1 = [1,2,3,4,5,6,True,1,2]\n",
    "all(list1)"
   ]
  },
  {
   "cell_type": "code",
   "execution_count": 20,
   "id": "397be349",
   "metadata": {},
   "outputs": [
    {
     "data": {
      "text/plain": [
       "False"
      ]
     },
     "execution_count": 20,
     "metadata": {},
     "output_type": "execute_result"
    }
   ],
   "source": [
    "list1 = [1,2,3,4,5,6,True,True,True,False]\n",
    "all(list1)"
   ]
  },
  {
   "cell_type": "code",
   "execution_count": 21,
   "id": "0626ce76",
   "metadata": {},
   "outputs": [
    {
     "data": {
      "text/plain": [
       "False"
      ]
     },
     "execution_count": 21,
     "metadata": {},
     "output_type": "execute_result"
    }
   ],
   "source": [
    "list1 = [1,2,3,4,5,0]\n",
    "all(list1)"
   ]
  },
  {
   "cell_type": "code",
   "execution_count": 22,
   "id": "e20f6c75",
   "metadata": {},
   "outputs": [
    {
     "data": {
      "text/plain": [
       "False"
      ]
     },
     "execution_count": 22,
     "metadata": {},
     "output_type": "execute_result"
    }
   ],
   "source": [
    "list1 = [1,2,3,4,5,False]\n",
    "all(list1)"
   ]
  },
  {
   "cell_type": "code",
   "execution_count": 23,
   "id": "5cc28d7c",
   "metadata": {},
   "outputs": [
    {
     "data": {
      "text/plain": [
       "True"
      ]
     },
     "execution_count": 23,
     "metadata": {},
     "output_type": "execute_result"
    }
   ],
   "source": [
    "list1 = []\n",
    "all(list1)"
   ]
  },
  {
   "cell_type": "markdown",
   "id": "a5849772",
   "metadata": {},
   "source": [
    "## any()"
   ]
  },
  {
   "cell_type": "code",
   "execution_count": null,
   "id": "360feafd",
   "metadata": {},
   "outputs": [],
   "source": [
    "any(iterable)\n",
    "True >> if any one of the element is True\n",
    "True >> if the iterable is not empty (Iterable shall always be having elements in it)"
   ]
  },
  {
   "cell_type": "code",
   "execution_count": 24,
   "id": "50b652a0",
   "metadata": {},
   "outputs": [
    {
     "name": "stdout",
     "output_type": "stream",
     "text": [
      "True\n",
      "True\n"
     ]
    }
   ],
   "source": [
    "list1 = [1,2,3,4,5]\n",
    "print(all(list1))\n",
    "print(any(list1))"
   ]
  },
  {
   "cell_type": "code",
   "execution_count": 25,
   "id": "608acccd",
   "metadata": {},
   "outputs": [
    {
     "name": "stdout",
     "output_type": "stream",
     "text": [
      "False\n",
      "True\n"
     ]
    }
   ],
   "source": [
    "list1 = [1,2,3,4,5,False]\n",
    "print(all(list1))\n",
    "print(any(list1))"
   ]
  },
  {
   "cell_type": "code",
   "execution_count": 26,
   "id": "66e7bda7",
   "metadata": {},
   "outputs": [
    {
     "data": {
      "text/plain": [
       "True"
      ]
     },
     "execution_count": 26,
     "metadata": {},
     "output_type": "execute_result"
    }
   ],
   "source": [
    "list1 = [False,False,False,False,False,False,False,False,False,False,False,False,False,False,False,False,True]\n",
    "\n",
    "any(list1)"
   ]
  },
  {
   "cell_type": "code",
   "execution_count": 27,
   "id": "8071f55b",
   "metadata": {},
   "outputs": [
    {
     "data": {
      "text/plain": [
       "False"
      ]
     },
     "execution_count": 27,
     "metadata": {},
     "output_type": "execute_result"
    }
   ],
   "source": [
    "list1 = []\n",
    "any(list1)"
   ]
  },
  {
   "cell_type": "code",
   "execution_count": 28,
   "id": "a3dc4425",
   "metadata": {},
   "outputs": [
    {
     "name": "stdout",
     "output_type": "stream",
     "text": [
      "False\n",
      "True\n"
     ]
    }
   ],
   "source": [
    "list1 = [1,2,3,4,5,0]\n",
    "print(all(list1))\n",
    "print(any(list1))"
   ]
  },
  {
   "cell_type": "code",
   "execution_count": 29,
   "id": "1e9f5a7d",
   "metadata": {},
   "outputs": [
    {
     "name": "stdout",
     "output_type": "stream",
     "text": [
      "False\n",
      "True\n"
     ]
    }
   ],
   "source": [
    "list1 = [1,2,3,4,5,False]\n",
    "print(all(list1))\n",
    "print(any(list1))"
   ]
  },
  {
   "cell_type": "code",
   "execution_count": 30,
   "id": "58ff6b63",
   "metadata": {},
   "outputs": [
    {
     "name": "stdout",
     "output_type": "stream",
     "text": [
      "True\n",
      "False\n"
     ]
    }
   ],
   "source": [
    "list1 = []\n",
    "print(all(list1))\n",
    "print(any(list1))"
   ]
  },
  {
   "cell_type": "code",
   "execution_count": 31,
   "id": "037c3ad8",
   "metadata": {},
   "outputs": [
    {
     "name": "stdout",
     "output_type": "stream",
     "text": [
      "False\n",
      "False\n"
     ]
    }
   ],
   "source": [
    "list1 = [False,False,False]\n",
    "print(all(list1))\n",
    "print(any(list1))"
   ]
  },
  {
   "cell_type": "code",
   "execution_count": 32,
   "id": "58c65440",
   "metadata": {},
   "outputs": [
    {
     "data": {
      "text/plain": [
       "0"
      ]
     },
     "execution_count": 32,
     "metadata": {},
     "output_type": "execute_result"
    }
   ],
   "source": [
    "int(False)"
   ]
  },
  {
   "cell_type": "code",
   "execution_count": 35,
   "id": "0fe5b349",
   "metadata": {},
   "outputs": [
    {
     "data": {
      "text/plain": [
       "1"
      ]
     },
     "execution_count": 35,
     "metadata": {},
     "output_type": "execute_result"
    }
   ],
   "source": [
    "int(True)"
   ]
  },
  {
   "cell_type": "code",
   "execution_count": null,
   "id": "81181b6a",
   "metadata": {},
   "outputs": [],
   "source": []
  }
 ],
 "metadata": {
  "kernelspec": {
   "display_name": "Python 3 (ipykernel)",
   "language": "python",
   "name": "python3"
  },
  "language_info": {
   "codemirror_mode": {
    "name": "ipython",
    "version": 3
   },
   "file_extension": ".py",
   "mimetype": "text/x-python",
   "name": "python",
   "nbconvert_exporter": "python",
   "pygments_lexer": "ipython3",
   "version": "3.10.5"
  }
 },
 "nbformat": 4,
 "nbformat_minor": 5
}
