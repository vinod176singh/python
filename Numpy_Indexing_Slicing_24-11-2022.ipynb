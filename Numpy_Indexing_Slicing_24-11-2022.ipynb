{
 "cells": [
  {
   "cell_type": "markdown",
   "id": "55db2e7a",
   "metadata": {},
   "source": [
    "## Accessing the items using indexing and slicing"
   ]
  },
  {
   "cell_type": "code",
   "execution_count": 1,
   "id": "3224624d",
   "metadata": {},
   "outputs": [
    {
     "data": {
      "text/plain": [
       "3"
      ]
     },
     "execution_count": 1,
     "metadata": {},
     "output_type": "execute_result"
    }
   ],
   "source": [
    "list1 = [1,2,3,4,5,6]\n",
    "list1[2]"
   ]
  },
  {
   "cell_type": "code",
   "execution_count": 2,
   "id": "f6ef159e",
   "metadata": {},
   "outputs": [
    {
     "data": {
      "text/plain": [
       "[3, 4]"
      ]
     },
     "execution_count": 2,
     "metadata": {},
     "output_type": "execute_result"
    }
   ],
   "source": [
    "list1[2:4]"
   ]
  },
  {
   "cell_type": "code",
   "execution_count": 4,
   "id": "a3e9f7b7",
   "metadata": {},
   "outputs": [
    {
     "data": {
      "text/plain": [
       "[5, 4]"
      ]
     },
     "execution_count": 4,
     "metadata": {},
     "output_type": "execute_result"
    }
   ],
   "source": [
    "list1[4:2:-1]"
   ]
  },
  {
   "cell_type": "code",
   "execution_count": null,
   "id": "77d99080",
   "metadata": {},
   "outputs": [],
   "source": [
    "# pip install numpy\n",
    "# pip install pandas"
   ]
  },
  {
   "cell_type": "code",
   "execution_count": 5,
   "id": "a81b21d0",
   "metadata": {},
   "outputs": [],
   "source": [
    "import numpy as np"
   ]
  },
  {
   "cell_type": "code",
   "execution_count": 7,
   "id": "a22a3be4",
   "metadata": {},
   "outputs": [
    {
     "data": {
      "text/plain": [
       "5"
      ]
     },
     "execution_count": 7,
     "metadata": {},
     "output_type": "execute_result"
    }
   ],
   "source": [
    "array1 = np.array([1,2,3,4,5,6,7,8])\n",
    "\n",
    "array1[4]"
   ]
  },
  {
   "cell_type": "code",
   "execution_count": 8,
   "id": "4adf9a2f",
   "metadata": {},
   "outputs": [
    {
     "data": {
      "text/plain": [
       "array([5, 6, 7, 8])"
      ]
     },
     "execution_count": 8,
     "metadata": {},
     "output_type": "execute_result"
    }
   ],
   "source": [
    "array1[4:]"
   ]
  },
  {
   "cell_type": "code",
   "execution_count": 9,
   "id": "bf86e466",
   "metadata": {},
   "outputs": [
    {
     "data": {
      "text/plain": [
       "array([5, 4, 3])"
      ]
     },
     "execution_count": 9,
     "metadata": {},
     "output_type": "execute_result"
    }
   ],
   "source": [
    "array1[4:1:-1]"
   ]
  },
  {
   "cell_type": "code",
   "execution_count": 10,
   "id": "e2805285",
   "metadata": {},
   "outputs": [
    {
     "data": {
      "text/plain": [
       "array([8, 7, 6, 5, 4, 3, 2, 1])"
      ]
     },
     "execution_count": 10,
     "metadata": {},
     "output_type": "execute_result"
    }
   ],
   "source": [
    "array1[::-1]"
   ]
  },
  {
   "cell_type": "markdown",
   "id": "8834f29c",
   "metadata": {},
   "source": [
    "### 2D Array"
   ]
  },
  {
   "cell_type": "code",
   "execution_count": 11,
   "id": "f5da1e26",
   "metadata": {},
   "outputs": [
    {
     "data": {
      "text/plain": [
       "2"
      ]
     },
     "execution_count": 11,
     "metadata": {},
     "output_type": "execute_result"
    }
   ],
   "source": [
    "array2 = np.array([[1,2,3],[10,20,30],[100,200,300]])\n",
    "array2.ndim"
   ]
  },
  {
   "cell_type": "code",
   "execution_count": 12,
   "id": "9636f193",
   "metadata": {},
   "outputs": [
    {
     "data": {
      "text/plain": [
       "30"
      ]
     },
     "execution_count": 12,
     "metadata": {},
     "output_type": "execute_result"
    }
   ],
   "source": [
    "list2 = [[1,2,3],[10,20,30],[100,200,300]]\n",
    "list2[1][-1]"
   ]
  },
  {
   "cell_type": "code",
   "execution_count": 13,
   "id": "e81b0332",
   "metadata": {},
   "outputs": [
    {
     "data": {
      "text/plain": [
       "30"
      ]
     },
     "execution_count": 13,
     "metadata": {},
     "output_type": "execute_result"
    }
   ],
   "source": [
    "array2[1][-1]"
   ]
  },
  {
   "cell_type": "code",
   "execution_count": 14,
   "id": "3321edd2",
   "metadata": {},
   "outputs": [
    {
     "data": {
      "text/plain": [
       "300"
      ]
     },
     "execution_count": 14,
     "metadata": {},
     "output_type": "execute_result"
    }
   ],
   "source": [
    "array2[2][2]"
   ]
  },
  {
   "cell_type": "code",
   "execution_count": 15,
   "id": "dad6f265",
   "metadata": {},
   "outputs": [
    {
     "name": "stdout",
     "output_type": "stream",
     "text": [
      "[[  1   2   3]\n",
      " [ 10  20  30]\n",
      " [100 200 300]]\n"
     ]
    }
   ],
   "source": [
    "print(array2)"
   ]
  },
  {
   "cell_type": "code",
   "execution_count": 17,
   "id": "15c807dc",
   "metadata": {},
   "outputs": [
    {
     "data": {
      "text/plain": [
       "3"
      ]
     },
     "execution_count": 17,
     "metadata": {},
     "output_type": "execute_result"
    }
   ],
   "source": [
    "array2[0,2]"
   ]
  },
  {
   "cell_type": "code",
   "execution_count": null,
   "id": "b94881cf",
   "metadata": {},
   "outputs": [],
   "source": [
    "#array2[m,n] m indicates mth row element and n indicate nth column element\n",
    "#array2[m:,n:] this will give us all rows starting from mth row and all columns starting from nth column\n",
    "#array2[row,column]"
   ]
  },
  {
   "cell_type": "code",
   "execution_count": 21,
   "id": "ccf10b34",
   "metadata": {},
   "outputs": [
    {
     "data": {
      "text/plain": [
       "30"
      ]
     },
     "execution_count": 21,
     "metadata": {},
     "output_type": "execute_result"
    }
   ],
   "source": [
    "array2[1,2]"
   ]
  },
  {
   "cell_type": "code",
   "execution_count": 22,
   "id": "20a51ef1",
   "metadata": {},
   "outputs": [
    {
     "data": {
      "text/plain": [
       "300"
      ]
     },
     "execution_count": 22,
     "metadata": {},
     "output_type": "execute_result"
    }
   ],
   "source": [
    "array2[2,2]"
   ]
  },
  {
   "cell_type": "code",
   "execution_count": 24,
   "id": "4157ad14",
   "metadata": {},
   "outputs": [
    {
     "data": {
      "text/plain": [
       "200"
      ]
     },
     "execution_count": 24,
     "metadata": {},
     "output_type": "execute_result"
    }
   ],
   "source": [
    "array2[2,1]"
   ]
  },
  {
   "cell_type": "code",
   "execution_count": 25,
   "id": "89faba32",
   "metadata": {},
   "outputs": [
    {
     "data": {
      "text/plain": [
       "1"
      ]
     },
     "execution_count": 25,
     "metadata": {},
     "output_type": "execute_result"
    }
   ],
   "source": [
    "array2[0,0]"
   ]
  },
  {
   "cell_type": "code",
   "execution_count": 27,
   "id": "d2584504",
   "metadata": {},
   "outputs": [
    {
     "name": "stdout",
     "output_type": "stream",
     "text": [
      "[[  1   2   3]\n",
      " [ 10  20  30]\n",
      " [100 200 300]]\n"
     ]
    }
   ],
   "source": [
    "print(array2)"
   ]
  },
  {
   "cell_type": "code",
   "execution_count": 28,
   "id": "f9784752",
   "metadata": {},
   "outputs": [
    {
     "data": {
      "text/plain": [
       "array([ 1, 10])"
      ]
     },
     "execution_count": 28,
     "metadata": {},
     "output_type": "execute_result"
    }
   ],
   "source": [
    "array2[0:2,0]"
   ]
  },
  {
   "cell_type": "code",
   "execution_count": 29,
   "id": "ec1516f7",
   "metadata": {},
   "outputs": [
    {
     "data": {
      "text/plain": [
       "array([  1,  10, 100])"
      ]
     },
     "execution_count": 29,
     "metadata": {},
     "output_type": "execute_result"
    }
   ],
   "source": [
    "array2[0:,0]"
   ]
  },
  {
   "cell_type": "code",
   "execution_count": 30,
   "id": "6d97e027",
   "metadata": {},
   "outputs": [
    {
     "data": {
      "text/plain": [
       "array([  2,  20, 200])"
      ]
     },
     "execution_count": 30,
     "metadata": {},
     "output_type": "execute_result"
    }
   ],
   "source": [
    "array2[0:,1]"
   ]
  },
  {
   "cell_type": "code",
   "execution_count": 31,
   "id": "1a0b6a09",
   "metadata": {},
   "outputs": [
    {
     "data": {
      "text/plain": [
       "array([  3,  30, 300])"
      ]
     },
     "execution_count": 31,
     "metadata": {},
     "output_type": "execute_result"
    }
   ],
   "source": [
    "array2[0:,2]"
   ]
  },
  {
   "cell_type": "code",
   "execution_count": 32,
   "id": "7faf950f",
   "metadata": {},
   "outputs": [
    {
     "data": {
      "text/plain": [
       "2"
      ]
     },
     "execution_count": 32,
     "metadata": {},
     "output_type": "execute_result"
    }
   ],
   "source": [
    "array2[0,1]"
   ]
  },
  {
   "cell_type": "code",
   "execution_count": 34,
   "id": "b253f492",
   "metadata": {},
   "outputs": [
    {
     "data": {
      "text/plain": [
       "array([1, 2, 3])"
      ]
     },
     "execution_count": 34,
     "metadata": {},
     "output_type": "execute_result"
    }
   ],
   "source": [
    "array2[0,0:]"
   ]
  },
  {
   "cell_type": "code",
   "execution_count": 35,
   "id": "bf42305d",
   "metadata": {},
   "outputs": [
    {
     "data": {
      "text/plain": [
       "array([10, 20, 30])"
      ]
     },
     "execution_count": 35,
     "metadata": {},
     "output_type": "execute_result"
    }
   ],
   "source": [
    "array2[1,0:]"
   ]
  },
  {
   "cell_type": "code",
   "execution_count": 36,
   "id": "592eb2aa",
   "metadata": {},
   "outputs": [
    {
     "data": {
      "text/plain": [
       "array([100, 200, 300])"
      ]
     },
     "execution_count": 36,
     "metadata": {},
     "output_type": "execute_result"
    }
   ],
   "source": [
    "array2[2,0:]"
   ]
  },
  {
   "cell_type": "code",
   "execution_count": 37,
   "id": "b82294cb",
   "metadata": {},
   "outputs": [
    {
     "name": "stdout",
     "output_type": "stream",
     "text": [
      "[[  1   2   3]\n",
      " [ 10  20  30]\n",
      " [100 200 300]]\n"
     ]
    }
   ],
   "source": [
    "print(array2)"
   ]
  },
  {
   "cell_type": "code",
   "execution_count": 38,
   "id": "dacc9113",
   "metadata": {},
   "outputs": [
    {
     "data": {
      "text/plain": [
       "array([[ 20,  30],\n",
       "       [200, 300]])"
      ]
     },
     "execution_count": 38,
     "metadata": {},
     "output_type": "execute_result"
    }
   ],
   "source": [
    "array2[1:,1:]"
   ]
  },
  {
   "cell_type": "code",
   "execution_count": 39,
   "id": "252050e1",
   "metadata": {},
   "outputs": [
    {
     "data": {
      "text/plain": [
       "array([[ 1,  2],\n",
       "       [10, 20]])"
      ]
     },
     "execution_count": 39,
     "metadata": {},
     "output_type": "execute_result"
    }
   ],
   "source": [
    "array2[0:2,0:2]"
   ]
  },
  {
   "cell_type": "code",
   "execution_count": 41,
   "id": "18e4cf57",
   "metadata": {},
   "outputs": [
    {
     "data": {
      "text/plain": [
       "array([  3,  30, 300])"
      ]
     },
     "execution_count": 41,
     "metadata": {},
     "output_type": "execute_result"
    }
   ],
   "source": [
    "array2[:,2]"
   ]
  },
  {
   "cell_type": "code",
   "execution_count": 42,
   "id": "6e3310a1",
   "metadata": {},
   "outputs": [
    {
     "data": {
      "text/plain": [
       "array([  1,  10, 100])"
      ]
     },
     "execution_count": 42,
     "metadata": {},
     "output_type": "execute_result"
    }
   ],
   "source": [
    "array2[0:,0]"
   ]
  },
  {
   "cell_type": "code",
   "execution_count": 46,
   "id": "5d618ab3",
   "metadata": {},
   "outputs": [
    {
     "data": {
      "text/plain": [
       "array([10, 20, 30])"
      ]
     },
     "execution_count": 46,
     "metadata": {},
     "output_type": "execute_result"
    }
   ],
   "source": [
    "array2[1,:]"
   ]
  },
  {
   "cell_type": "code",
   "execution_count": 45,
   "id": "767fea5f",
   "metadata": {},
   "outputs": [
    {
     "data": {
      "text/plain": [
       "array([20, 30])"
      ]
     },
     "execution_count": 45,
     "metadata": {},
     "output_type": "execute_result"
    }
   ],
   "source": [
    "array2[1,1:]"
   ]
  },
  {
   "cell_type": "code",
   "execution_count": 44,
   "id": "d7ca3338",
   "metadata": {},
   "outputs": [
    {
     "data": {
      "text/plain": [
       "array([10, 20, 30])"
      ]
     },
     "execution_count": 44,
     "metadata": {},
     "output_type": "execute_result"
    }
   ],
   "source": [
    "array2[1]"
   ]
  },
  {
   "cell_type": "code",
   "execution_count": null,
   "id": "bf760b56",
   "metadata": {},
   "outputs": [],
   "source": []
  }
 ],
 "metadata": {
  "kernelspec": {
   "display_name": "Python 3 (ipykernel)",
   "language": "python",
   "name": "python3"
  },
  "language_info": {
   "codemirror_mode": {
    "name": "ipython",
    "version": 3
   },
   "file_extension": ".py",
   "mimetype": "text/x-python",
   "name": "python",
   "nbconvert_exporter": "python",
   "pygments_lexer": "ipython3",
   "version": "3.10.5"
  }
 },
 "nbformat": 4,
 "nbformat_minor": 5
}
