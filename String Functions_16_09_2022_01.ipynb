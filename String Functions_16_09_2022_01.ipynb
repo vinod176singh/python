{
 "cells": [
  {
   "cell_type": "code",
   "execution_count": null,
   "id": "b18c7062",
   "metadata": {},
   "outputs": [],
   "source": [
    "These are for manupulating string\n",
    "But string are immutable datatype\n",
    "so these function will return a new string without manupulating the original one"
   ]
  },
  {
   "cell_type": "markdown",
   "id": "6b57f412",
   "metadata": {},
   "source": [
    "1. capitalize()\n",
    "2. lower()\n",
    "3. upper()\n",
    "4. title()\n",
    "5. strip()\n",
    "6. lstrip()\n",
    "6. rstrip()\n",
    "8. replace()\n",
    "9. count()\n",
    "10. index()"
   ]
  },
  {
   "cell_type": "markdown",
   "id": "2962c3d0",
   "metadata": {},
   "source": [
    "### 1. capitalize()"
   ]
  },
  {
   "cell_type": "code",
   "execution_count": 1,
   "id": "fc080db7",
   "metadata": {},
   "outputs": [
    {
     "data": {
      "text/plain": [
       "'This is a sample string'"
      ]
     },
     "execution_count": 1,
     "metadata": {},
     "output_type": "execute_result"
    }
   ],
   "source": [
    "string = \"This is a sample string\"\n",
    "\n",
    "string.capitalize()"
   ]
  },
  {
   "cell_type": "code",
   "execution_count": 2,
   "id": "b7f773d4",
   "metadata": {},
   "outputs": [
    {
     "data": {
      "text/plain": [
       "'Python'"
      ]
     },
     "execution_count": 2,
     "metadata": {},
     "output_type": "execute_result"
    }
   ],
   "source": [
    "string = \"python\"\n",
    "\n",
    "string.capitalize() ## Returns a new string with first letter as capital one"
   ]
  },
  {
   "cell_type": "code",
   "execution_count": 3,
   "id": "9edbc2f5",
   "metadata": {},
   "outputs": [
    {
     "data": {
      "text/plain": [
       "'python'"
      ]
     },
     "execution_count": 3,
     "metadata": {},
     "output_type": "execute_result"
    }
   ],
   "source": [
    "string"
   ]
  },
  {
   "cell_type": "code",
   "execution_count": 4,
   "id": "6d6deb90",
   "metadata": {},
   "outputs": [
    {
     "data": {
      "text/plain": [
       "'New day'"
      ]
     },
     "execution_count": 4,
     "metadata": {},
     "output_type": "execute_result"
    }
   ],
   "source": [
    "string2 = \"new day\"\n",
    "string2.capitalize()"
   ]
  },
  {
   "cell_type": "code",
   "execution_count": 5,
   "id": "a4347e6a",
   "metadata": {},
   "outputs": [
    {
     "data": {
      "text/plain": [
       "'new day'"
      ]
     },
     "execution_count": 5,
     "metadata": {},
     "output_type": "execute_result"
    }
   ],
   "source": [
    "string2"
   ]
  },
  {
   "cell_type": "code",
   "execution_count": 7,
   "id": "35afc747",
   "metadata": {},
   "outputs": [
    {
     "name": "stdout",
     "output_type": "stream",
     "text": [
      "new day\n",
      "New day\n"
     ]
    }
   ],
   "source": [
    "## Assigning a new variable to the returned string\n",
    "\n",
    "string2 = \"new day\"\n",
    "string3 = string2.capitalize()\n",
    "\n",
    "print(string2)\n",
    "print(string3)\n"
   ]
  },
  {
   "cell_type": "code",
   "execution_count": 10,
   "id": "4b4a504b",
   "metadata": {},
   "outputs": [
    {
     "data": {
      "text/plain": [
       "'New day'"
      ]
     },
     "execution_count": 10,
     "metadata": {},
     "output_type": "execute_result"
    }
   ],
   "source": [
    "## Assigning same variable to the returned string\n",
    "\n",
    "string2 = \"new day\"\n",
    "string2 = string2.capitalize()\n",
    "\n",
    "string2"
   ]
  },
  {
   "cell_type": "markdown",
   "id": "988a32d1",
   "metadata": {},
   "source": [
    "### 2.lower()"
   ]
  },
  {
   "cell_type": "code",
   "execution_count": 13,
   "id": "d0f45bbe",
   "metadata": {},
   "outputs": [
    {
     "data": {
      "text/plain": [
       "'python'"
      ]
     },
     "execution_count": 13,
     "metadata": {},
     "output_type": "execute_result"
    }
   ],
   "source": [
    "## Returns string in a lower case\n",
    "\n",
    "string = \"PYTHON\"\n",
    "string.lower()"
   ]
  },
  {
   "cell_type": "code",
   "execution_count": 14,
   "id": "78eb7de7",
   "metadata": {},
   "outputs": [
    {
     "data": {
      "text/plain": [
       "'this is a great function'"
      ]
     },
     "execution_count": 14,
     "metadata": {},
     "output_type": "execute_result"
    }
   ],
   "source": [
    "string = \"This Is A Great Function\"\n",
    "\n",
    "string.lower()"
   ]
  },
  {
   "cell_type": "markdown",
   "id": "45088ab9",
   "metadata": {},
   "source": [
    "### 3. upper()"
   ]
  },
  {
   "cell_type": "code",
   "execution_count": 15,
   "id": "f5d78e19",
   "metadata": {},
   "outputs": [
    {
     "data": {
      "text/plain": [
       "'IT IS FUN TO LEARN PYTHON'"
      ]
     },
     "execution_count": 15,
     "metadata": {},
     "output_type": "execute_result"
    }
   ],
   "source": [
    "# Retruns all characters in capital case\n",
    "\n",
    "string = \"It is fun to learn Python\"\n",
    "\n",
    "string.upper()"
   ]
  },
  {
   "cell_type": "code",
   "execution_count": 16,
   "id": "7b8863d9",
   "metadata": {},
   "outputs": [
    {
     "data": {
      "text/plain": [
       "'It is fun to learn Python'"
      ]
     },
     "execution_count": 16,
     "metadata": {},
     "output_type": "execute_result"
    }
   ],
   "source": [
    "string"
   ]
  },
  {
   "cell_type": "code",
   "execution_count": 17,
   "id": "db2fc60f",
   "metadata": {},
   "outputs": [
    {
     "name": "stdout",
     "output_type": "stream",
     "text": [
      "It is fun to learn Python\n",
      "IT IS FUN TO LEARN PYTHON\n"
     ]
    }
   ],
   "source": [
    "string1 = string.upper() # Storing the returned string in a new variable\n",
    "\n",
    "print(string)\n",
    "print(string1)"
   ]
  },
  {
   "cell_type": "code",
   "execution_count": 19,
   "id": "12053755",
   "metadata": {},
   "outputs": [
    {
     "name": "stdout",
     "output_type": "stream",
     "text": [
      "IT IS FUN TO LEARN PYTHON\n"
     ]
    }
   ],
   "source": [
    "string = string.upper() # Storing the returned string in a same variable\n",
    "print(string)"
   ]
  },
  {
   "cell_type": "markdown",
   "id": "62b1b446",
   "metadata": {},
   "source": [
    "### title()"
   ]
  },
  {
   "cell_type": "code",
   "execution_count": 20,
   "id": "c6fc679e",
   "metadata": {},
   "outputs": [
    {
     "data": {
      "text/plain": [
       "'I Love Python'"
      ]
     },
     "execution_count": 20,
     "metadata": {},
     "output_type": "execute_result"
    }
   ],
   "source": [
    "## Retruns a new string having every first letter of a word in a string with capital case \n",
    "string = 'i love python'\n",
    "\n",
    "string.title()"
   ]
  },
  {
   "cell_type": "code",
   "execution_count": 21,
   "id": "77417690",
   "metadata": {},
   "outputs": [
    {
     "data": {
      "text/plain": [
       "'This Is Fun To Keep Working With Thses String Functions'"
      ]
     },
     "execution_count": 21,
     "metadata": {},
     "output_type": "execute_result"
    }
   ],
   "source": [
    "string = \"this is fun to keep working with thses string functions\"\n",
    "\n",
    "string.title()"
   ]
  },
  {
   "cell_type": "code",
   "execution_count": 22,
   "id": "d3e1100d",
   "metadata": {},
   "outputs": [
    {
     "data": {
      "text/plain": [
       "'THIS IS FUN TO KEEP WORKING WITH THSES STRING FUNCTIONS'"
      ]
     },
     "execution_count": 22,
     "metadata": {},
     "output_type": "execute_result"
    }
   ],
   "source": [
    "string.upper()"
   ]
  },
  {
   "cell_type": "code",
   "execution_count": 23,
   "id": "b8f1b9a4",
   "metadata": {},
   "outputs": [
    {
     "data": {
      "text/plain": [
       "'This is fun to keep working with thses string functions'"
      ]
     },
     "execution_count": 23,
     "metadata": {},
     "output_type": "execute_result"
    }
   ],
   "source": [
    "string.capitalize()"
   ]
  },
  {
   "cell_type": "markdown",
   "id": "bcfa55c5",
   "metadata": {},
   "source": [
    "### strip()"
   ]
  },
  {
   "cell_type": "code",
   "execution_count": 24,
   "id": "60a1239b",
   "metadata": {},
   "outputs": [
    {
     "data": {
      "text/plain": [
       "'this string has spaces in the begining and at the end as well'"
      ]
     },
     "execution_count": 24,
     "metadata": {},
     "output_type": "execute_result"
    }
   ],
   "source": [
    "## Retruns new string after removing spaces from end and starting of string\n",
    "\n",
    "string  = \"  this string has spaces in the begining and at the end as well   \"\n",
    "\n",
    "string.strip()"
   ]
  },
  {
   "cell_type": "code",
   "execution_count": 25,
   "id": "55a0c930",
   "metadata": {},
   "outputs": [
    {
     "data": {
      "text/plain": [
       "'This string has white spaces at the end of the string'"
      ]
     },
     "execution_count": 25,
     "metadata": {},
     "output_type": "execute_result"
    }
   ],
   "source": [
    "string = \"This string has white spaces at the end of the string        \"\n",
    "\n",
    "string.strip()"
   ]
  },
  {
   "cell_type": "code",
   "execution_count": 26,
   "id": "175372cf",
   "metadata": {},
   "outputs": [
    {
     "data": {
      "text/plain": [
       "'This string has white spaces at the begining of the string'"
      ]
     },
     "execution_count": 26,
     "metadata": {},
     "output_type": "execute_result"
    }
   ],
   "source": [
    "string = \"      This string has white spaces at the begining of the string\"\n",
    "\n",
    "string.strip()"
   ]
  },
  {
   "cell_type": "markdown",
   "id": "a7ffb9ea",
   "metadata": {},
   "source": [
    "### lstrip()"
   ]
  },
  {
   "cell_type": "code",
   "execution_count": 28,
   "id": "95510986",
   "metadata": {},
   "outputs": [
    {
     "data": {
      "text/plain": [
       "'This string has white spaces at begining and at the end     '"
      ]
     },
     "execution_count": 28,
     "metadata": {},
     "output_type": "execute_result"
    }
   ],
   "source": [
    "## Retruns new string after removing spaces from the begining of the string\n",
    "string = \"    This string has white spaces at begining and at the end     \"\n",
    "\n",
    "string.lstrip()"
   ]
  },
  {
   "cell_type": "code",
   "execution_count": 31,
   "id": "869d3088",
   "metadata": {},
   "outputs": [
    {
     "name": "stdout",
     "output_type": "stream",
     "text": [
      "64\n",
      "60\n"
     ]
    }
   ],
   "source": [
    "print(len(string))\n",
    "print(len(string.lstrip()))"
   ]
  },
  {
   "cell_type": "markdown",
   "id": "6ea03860",
   "metadata": {},
   "source": [
    "### rstrip()"
   ]
  },
  {
   "cell_type": "code",
   "execution_count": 30,
   "id": "74c26bc4",
   "metadata": {},
   "outputs": [
    {
     "data": {
      "text/plain": [
       "'    This string has white spaces at begining and at the end'"
      ]
     },
     "execution_count": 30,
     "metadata": {},
     "output_type": "execute_result"
    }
   ],
   "source": [
    "## Retruns new string after removing spaces from the end of the string\n",
    "string =  \"    This string has white spaces at begining and at the end     \"\n",
    "\n",
    "string.rstrip()"
   ]
  },
  {
   "cell_type": "markdown",
   "id": "e193af98",
   "metadata": {},
   "source": [
    "### replace()"
   ]
  },
  {
   "cell_type": "code",
   "execution_count": null,
   "id": "2c466276",
   "metadata": {},
   "outputs": [],
   "source": [
    "string.replace(old_substring,new_substring)"
   ]
  },
  {
   "cell_type": "code",
   "execution_count": 32,
   "id": "f5fbe3cf",
   "metadata": {},
   "outputs": [
    {
     "data": {
      "text/plain": [
       "'Python is easy to learn'"
      ]
     },
     "execution_count": 32,
     "metadata": {},
     "output_type": "execute_result"
    }
   ],
   "source": [
    "string = \"Assembly Language Programming is easy to learn\"\n",
    "\n",
    "string.replace(\"Assembly Language Programming\",\"Python\") ## Returned a new string"
   ]
  },
  {
   "cell_type": "code",
   "execution_count": 33,
   "id": "c40f9d66",
   "metadata": {},
   "outputs": [
    {
     "data": {
      "text/plain": [
       "'Assembly Language Programming is easy to learn'"
      ]
     },
     "execution_count": 33,
     "metadata": {},
     "output_type": "execute_result"
    }
   ],
   "source": [
    "string # Old string is as it is"
   ]
  },
  {
   "cell_type": "code",
   "execution_count": 34,
   "id": "872c6197",
   "metadata": {},
   "outputs": [
    {
     "data": {
      "text/plain": [
       "'Python is fun to learn'"
      ]
     },
     "execution_count": 34,
     "metadata": {},
     "output_type": "execute_result"
    }
   ],
   "source": [
    "string2 = \"Java is fun to learn\"\n",
    "\n",
    "string2.replace(\"Java\",\"Python\")"
   ]
  },
  {
   "cell_type": "code",
   "execution_count": 35,
   "id": "2c5fa67f",
   "metadata": {},
   "outputs": [
    {
     "data": {
      "text/plain": [
       "'Machine Learning is a part of new syllabus'"
      ]
     },
     "execution_count": 35,
     "metadata": {},
     "output_type": "execute_result"
    }
   ],
   "source": [
    "string = \"Machine Learning is a part of old syllabus\"\n",
    "\n",
    "string.replace(\"old\", \"new\")"
   ]
  },
  {
   "cell_type": "code",
   "execution_count": 36,
   "id": "f9fcfe86",
   "metadata": {},
   "outputs": [
    {
     "data": {
      "text/plain": [
       "'Machine learing with PYTHON is in great demand in industry'"
      ]
     },
     "execution_count": 36,
     "metadata": {},
     "output_type": "execute_result"
    }
   ],
   "source": [
    "string = \"Machine learing with python is in great demand in industry\"\n",
    "\n",
    "string.replace(\"python\",\"PYTHON\")"
   ]
  },
  {
   "cell_type": "code",
   "execution_count": 37,
   "id": "7775e828",
   "metadata": {},
   "outputs": [
    {
     "data": {
      "text/plain": [
       "'Machine learing with PYTHON is in great demand in industry, Python is easy to learn'"
      ]
     },
     "execution_count": 37,
     "metadata": {},
     "output_type": "execute_result"
    }
   ],
   "source": [
    "string = \"Machine learing with python is in great demand in industry, Python is easy to learn\"\n",
    "\n",
    "substring1 = \"python\"\n",
    "substring2 = \"PYTHON\"\n",
    "\n",
    "string.replace(substring1,substring2)"
   ]
  },
  {
   "cell_type": "code",
   "execution_count": 38,
   "id": "f616d5ed",
   "metadata": {},
   "outputs": [
    {
     "data": {
      "text/plain": [
       "False"
      ]
     },
     "execution_count": 38,
     "metadata": {},
     "output_type": "execute_result"
    }
   ],
   "source": [
    "\"python\"==\"Python\""
   ]
  },
  {
   "cell_type": "code",
   "execution_count": 39,
   "id": "01c5a58c",
   "metadata": {},
   "outputs": [
    {
     "data": {
      "text/plain": [
       "True"
      ]
     },
     "execution_count": 39,
     "metadata": {},
     "output_type": "execute_result"
    }
   ],
   "source": [
    "\"Python\"==\"Python\""
   ]
  },
  {
   "cell_type": "code",
   "execution_count": 40,
   "id": "7fafd8ea",
   "metadata": {},
   "outputs": [
    {
     "data": {
      "text/plain": [
       "'Deep learing with python is in great demand in industry, Python is easy to learn'"
      ]
     },
     "execution_count": 40,
     "metadata": {},
     "output_type": "execute_result"
    }
   ],
   "source": [
    "string = \"Machine learing with python is in great demand in industry, Python is easy to learn\"\n",
    "\n",
    "str1 = \"Machine\"\n",
    "str2 = \"Deep\"\n",
    "\n",
    "string.replace(str1,str2)"
   ]
  },
  {
   "cell_type": "code",
   "execution_count": 41,
   "id": "6fe79bee",
   "metadata": {},
   "outputs": [
    {
     "data": {
      "text/plain": [
       "'Pyt on'"
      ]
     },
     "execution_count": 41,
     "metadata": {},
     "output_type": "execute_result"
    }
   ],
   "source": [
    "string = \"Python\"\n",
    "str1 = \"h\"\n",
    "str2 = ' '\n",
    "\n",
    "string.replace(str1,str2)"
   ]
  },
  {
   "cell_type": "code",
   "execution_count": 42,
   "id": "8dfddd28",
   "metadata": {},
   "outputs": [
    {
     "data": {
      "text/plain": [
       "'Pyton'"
      ]
     },
     "execution_count": 42,
     "metadata": {},
     "output_type": "execute_result"
    }
   ],
   "source": [
    "string = \"Python\"\n",
    "str1 = \"h\"\n",
    "str2 = ''\n",
    "\n",
    "string.replace(str1,str2)"
   ]
  },
  {
   "cell_type": "code",
   "execution_count": 45,
   "id": "58f3b919",
   "metadata": {},
   "outputs": [
    {
     "data": {
      "text/plain": [
       "'Deep learing with PYTHON is in great demand in schools, Python is difficult to learn'"
      ]
     },
     "execution_count": 45,
     "metadata": {},
     "output_type": "execute_result"
    }
   ],
   "source": [
    "string = \"Machine learing with python is in great demand in industry, Python is easy to learn\"\n",
    "\n",
    "string.replace(\"Machine\",\"Deep\").replace(\"python\",\"PYTHON\").replace(\"industry\",\"schools\").replace(\"easy\",\"difficult\")"
   ]
  },
  {
   "cell_type": "code",
   "execution_count": 46,
   "id": "c49180ce",
   "metadata": {},
   "outputs": [
    {
     "data": {
      "text/plain": [
       "'Machine learing with python is in great demand in industry, Python is easy to learn'"
      ]
     },
     "execution_count": 46,
     "metadata": {},
     "output_type": "execute_result"
    }
   ],
   "source": [
    "string"
   ]
  },
  {
   "cell_type": "code",
   "execution_count": 47,
   "id": "f726e3a2",
   "metadata": {},
   "outputs": [
    {
     "name": "stdout",
     "output_type": "stream",
     "text": [
      "Deep learing with python is in great demand in industry, Python is easy to learn\n",
      "Deep learing with PYTHON is in great demand in industry, Python is easy to learn\n",
      "Deep learing with PYTHON is in great demand in schools, Python is easy to learn\n",
      "Deep learing with PYTHON is in great demand in schools, Python is difficult to learn\n"
     ]
    }
   ],
   "source": [
    "print(string.replace(\"Machine\",\"Deep\"))\n",
    "print(string.replace(\"Machine\",\"Deep\").replace(\"python\",\"PYTHON\"))\n",
    "print(string.replace(\"Machine\",\"Deep\").replace(\"python\",\"PYTHON\").replace(\"industry\",\"schools\"))\n",
    "print(string.replace(\"Machine\",\"Deep\").replace(\"python\",\"PYTHON\").replace(\"industry\",\"schools\").replace(\"easy\",\"difficult\"))"
   ]
  },
  {
   "cell_type": "markdown",
   "id": "0e2b8597",
   "metadata": {},
   "source": [
    "### count()"
   ]
  },
  {
   "cell_type": "markdown",
   "id": "e667d90f",
   "metadata": {},
   "source": [
    "string.count(substring,start_index,end_index)"
   ]
  },
  {
   "cell_type": "code",
   "execution_count": 52,
   "id": "efd61b56",
   "metadata": {},
   "outputs": [
    {
     "data": {
      "text/plain": [
       "4"
      ]
     },
     "execution_count": 52,
     "metadata": {},
     "output_type": "execute_result"
    }
   ],
   "source": [
    "string = \"This is a sample string\"\n",
    "\n",
    "string.count(\"s\")"
   ]
  },
  {
   "cell_type": "code",
   "execution_count": 50,
   "id": "3fa85d1b",
   "metadata": {},
   "outputs": [
    {
     "data": {
      "text/plain": [
       "1"
      ]
     },
     "execution_count": 50,
     "metadata": {},
     "output_type": "execute_result"
    }
   ],
   "source": [
    "string.count(\"This\")"
   ]
  },
  {
   "cell_type": "code",
   "execution_count": 60,
   "id": "9c38b4a5",
   "metadata": {},
   "outputs": [
    {
     "data": {
      "text/plain": [
       "3"
      ]
     },
     "execution_count": 60,
     "metadata": {},
     "output_type": "execute_result"
    }
   ],
   "source": [
    "string = \"Machine learing with python is in great demand in industry, Python is easy to learn\"\n",
    "\n",
    "string.count(\"i\",12,30)"
   ]
  },
  {
   "cell_type": "code",
   "execution_count": 54,
   "id": "4972fcef",
   "metadata": {},
   "outputs": [
    {
     "data": {
      "text/plain": [
       "8"
      ]
     },
     "execution_count": 54,
     "metadata": {},
     "output_type": "execute_result"
    }
   ],
   "source": [
    "string.count(\"i\")"
   ]
  },
  {
   "cell_type": "code",
   "execution_count": 55,
   "id": "c17b0a64",
   "metadata": {},
   "outputs": [
    {
     "data": {
      "text/plain": [
       "5"
      ]
     },
     "execution_count": 55,
     "metadata": {},
     "output_type": "execute_result"
    }
   ],
   "source": [
    "string.count(\"in\")"
   ]
  },
  {
   "cell_type": "markdown",
   "id": "51ae42d5",
   "metadata": {},
   "source": [
    "### index()"
   ]
  },
  {
   "cell_type": "code",
   "execution_count": 68,
   "id": "25aec2b1",
   "metadata": {},
   "outputs": [
    {
     "data": {
      "text/plain": [
       "4"
      ]
     },
     "execution_count": 68,
     "metadata": {},
     "output_type": "execute_result"
    }
   ],
   "source": [
    "## This function returns index of first occurance of the character\n",
    "\n",
    "string = \"Machine learning with python is in great demand in industry, Python is easy to learn\"\n",
    "\n",
    "string.index(\"i\")"
   ]
  },
  {
   "cell_type": "code",
   "execution_count": 63,
   "id": "eb32b9ee",
   "metadata": {},
   "outputs": [
    {
     "data": {
      "text/plain": [
       "17"
      ]
     },
     "execution_count": 63,
     "metadata": {},
     "output_type": "execute_result"
    }
   ],
   "source": [
    "string.index(\"i\",14,30)"
   ]
  },
  {
   "cell_type": "code",
   "execution_count": 64,
   "id": "60de33f7",
   "metadata": {},
   "outputs": [
    {
     "data": {
      "text/plain": [
       "42"
      ]
     },
     "execution_count": 64,
     "metadata": {},
     "output_type": "execute_result"
    }
   ],
   "source": [
    "string.index(\"m\")"
   ]
  },
  {
   "cell_type": "code",
   "execution_count": 65,
   "id": "6490be1a",
   "metadata": {},
   "outputs": [
    {
     "data": {
      "text/plain": [
       "0"
      ]
     },
     "execution_count": 65,
     "metadata": {},
     "output_type": "execute_result"
    }
   ],
   "source": [
    "string.index(\"M\")"
   ]
  },
  {
   "cell_type": "code",
   "execution_count": 69,
   "id": "23288ea3",
   "metadata": {},
   "outputs": [
    {
     "data": {
      "text/plain": [
       "8"
      ]
     },
     "execution_count": 69,
     "metadata": {},
     "output_type": "execute_result"
    }
   ],
   "source": [
    "string.index(\"learning\")"
   ]
  },
  {
   "cell_type": "code",
   "execution_count": null,
   "id": "ec6b7009",
   "metadata": {},
   "outputs": [],
   "source": []
  }
 ],
 "metadata": {
  "kernelspec": {
   "display_name": "Python 3 (ipykernel)",
   "language": "python",
   "name": "python3"
  },
  "language_info": {
   "codemirror_mode": {
    "name": "ipython",
    "version": 3
   },
   "file_extension": ".py",
   "mimetype": "text/x-python",
   "name": "python",
   "nbconvert_exporter": "python",
   "pygments_lexer": "ipython3",
   "version": "3.10.5"
  }
 },
 "nbformat": 4,
 "nbformat_minor": 5
}
