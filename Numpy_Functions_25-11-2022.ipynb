{
 "cells": [
  {
   "cell_type": "code",
   "execution_count": null,
   "id": "cde1b774",
   "metadata": {},
   "outputs": [],
   "source": [
    "1. shape\n",
    "2. reshape\n",
    "3. nditer"
   ]
  },
  {
   "cell_type": "markdown",
   "id": "95dfd7ee",
   "metadata": {},
   "source": [
    "### 4. ndenumerate"
   ]
  },
  {
   "cell_type": "code",
   "execution_count": 1,
   "id": "0da150d7",
   "metadata": {},
   "outputs": [
    {
     "name": "stdout",
     "output_type": "stream",
     "text": [
      "(0, 1)\n",
      "(1, 2)\n",
      "(2, 3)\n",
      "(3, 4)\n",
      "(4, 5)\n",
      "(5, 6)\n",
      "(6, 7)\n",
      "(7, 8)\n"
     ]
    }
   ],
   "source": [
    "list1 = [1,2,3,4,5,6,7,8]\n",
    "\n",
    "for i in enumerate(list1):\n",
    "    print(i)"
   ]
  },
  {
   "cell_type": "code",
   "execution_count": 2,
   "id": "c50b52a3",
   "metadata": {},
   "outputs": [
    {
     "name": "stdout",
     "output_type": "stream",
     "text": [
      "0 >>> 1\n",
      "1 >>> 2\n",
      "2 >>> 3\n",
      "3 >>> 4\n",
      "4 >>> 5\n",
      "5 >>> 6\n",
      "6 >>> 7\n",
      "7 >>> 8\n"
     ]
    }
   ],
   "source": [
    "for index,value in enumerate(list1):\n",
    "    print(f\"{index} >>> {value}\")"
   ]
  },
  {
   "cell_type": "code",
   "execution_count": 3,
   "id": "fa0a6314",
   "metadata": {},
   "outputs": [
    {
     "name": "stdout",
     "output_type": "stream",
     "text": [
      "1\n",
      "2\n",
      "3\n",
      "4\n",
      "5\n",
      "6\n",
      "7\n",
      "8\n",
      "9\n"
     ]
    }
   ],
   "source": [
    "import numpy as np\n",
    "arr1 = np.array([[1,2,3],[4,5,6],[7,8,9]])\n",
    "\n",
    "for i in np.nditer(arr1):\n",
    "    print(i)"
   ]
  },
  {
   "cell_type": "code",
   "execution_count": 4,
   "id": "ff45b1d7",
   "metadata": {},
   "outputs": [
    {
     "name": "stdout",
     "output_type": "stream",
     "text": [
      "((0, 0), 1)\n",
      "((0, 1), 2)\n",
      "((0, 2), 3)\n",
      "((1, 0), 4)\n",
      "((1, 1), 5)\n",
      "((1, 2), 6)\n",
      "((2, 0), 7)\n",
      "((2, 1), 8)\n",
      "((2, 2), 9)\n"
     ]
    }
   ],
   "source": [
    "arr1 = np.array([[1,2,3],[4,5,6],[7,8,9]])\n",
    "\n",
    "for i in np.ndenumerate(arr1): ## np.ndenumerate returns index and corresponding value \n",
    "    print(i)"
   ]
  },
  {
   "cell_type": "code",
   "execution_count": 5,
   "id": "854845d6",
   "metadata": {},
   "outputs": [
    {
     "name": "stdout",
     "output_type": "stream",
     "text": [
      "(0, 0) >>>>> 1\n",
      "(0, 1) >>>>> 2\n",
      "(0, 2) >>>>> 3\n",
      "(1, 0) >>>>> 4\n",
      "(1, 1) >>>>> 5\n",
      "(1, 2) >>>>> 6\n",
      "(2, 0) >>>>> 7\n",
      "(2, 1) >>>>> 8\n",
      "(2, 2) >>>>> 9\n"
     ]
    }
   ],
   "source": [
    "for index,value in np.ndenumerate(arr1):\n",
    "    print(f\"{index} >>>>> {value}\")"
   ]
  },
  {
   "cell_type": "code",
   "execution_count": 6,
   "id": "b9947c4d",
   "metadata": {},
   "outputs": [
    {
     "name": "stdout",
     "output_type": "stream",
     "text": [
      "(0, 0, 0) >>>>> 1\n",
      "(0, 0, 1) >>>>> 2\n",
      "(0, 0, 2) >>>>> 3\n",
      "(0, 1, 0) >>>>> 4\n",
      "(0, 1, 1) >>>>> 5\n",
      "(0, 1, 2) >>>>> 6\n",
      "(1, 0, 0) >>>>> 7\n",
      "(1, 0, 1) >>>>> 8\n",
      "(1, 0, 2) >>>>> 9\n",
      "(1, 1, 0) >>>>> 10\n",
      "(1, 1, 1) >>>>> 11\n",
      "(1, 1, 2) >>>>> 12\n"
     ]
    }
   ],
   "source": [
    "arr3 = np.array([[[1,2,3],[4,5,6]],[[7,8,9],[10,11,12]]])\n",
    "\n",
    "for index, value in np.ndenumerate(arr3):\n",
    "    print(f\"{index} >>>>> {value}\")"
   ]
  },
  {
   "cell_type": "markdown",
   "id": "1afd1ba1",
   "metadata": {},
   "source": [
    "### 5. flatten"
   ]
  },
  {
   "cell_type": "code",
   "execution_count": 7,
   "id": "1f46c340",
   "metadata": {},
   "outputs": [
    {
     "name": "stdout",
     "output_type": "stream",
     "text": [
      "[[1 2 3]\n",
      " [4 5 6]\n",
      " [7 8 9]]\n"
     ]
    }
   ],
   "source": [
    "arr1 = np.array([[1,2,3],[4,5,6],[7,8,9]])\n",
    "print(arr1)"
   ]
  },
  {
   "cell_type": "code",
   "execution_count": 8,
   "id": "477b7325",
   "metadata": {},
   "outputs": [
    {
     "data": {
      "text/plain": [
       "(3, 3)"
      ]
     },
     "execution_count": 8,
     "metadata": {},
     "output_type": "execute_result"
    }
   ],
   "source": [
    "arr1.shape"
   ]
  },
  {
   "cell_type": "code",
   "execution_count": 10,
   "id": "c3e36cc6",
   "metadata": {},
   "outputs": [],
   "source": [
    "arr2 = arr1.flatten()  ### It return a 1D array of the given array"
   ]
  },
  {
   "cell_type": "code",
   "execution_count": 11,
   "id": "8d09ca11",
   "metadata": {},
   "outputs": [
    {
     "name": "stdout",
     "output_type": "stream",
     "text": [
      "[1 2 3 4 5 6 7 8 9]\n",
      "(9,)\n"
     ]
    }
   ],
   "source": [
    "print(arr2)\n",
    "print(arr2.shape)"
   ]
  },
  {
   "cell_type": "code",
   "execution_count": 13,
   "id": "8dab77ab",
   "metadata": {},
   "outputs": [
    {
     "name": "stdout",
     "output_type": "stream",
     "text": [
      "Original Array: \n",
      "[[[ 1  2  3]\n",
      "  [ 4  5  6]]\n",
      "\n",
      " [[ 7  8  9]\n",
      "  [10 11 12]]]\n",
      "Shape of original Array:  (2, 2, 3)\n",
      "\n",
      "Flattened array: \n",
      "[ 1  2  3  4  5  6  7  8  9 10 11 12]\n",
      "Shape of Flattened array:  (12,)\n"
     ]
    }
   ],
   "source": [
    "arr3 = np.array([[[1,2,3],[4,5,6]],[[7,8,9],[10,11,12]]])\n",
    "\n",
    "arr3_flatten = arr3.flatten()\n",
    "\n",
    "print(\"Original Array: \")\n",
    "print(arr3)\n",
    "print(\"Shape of original Array: \", arr3.shape)\n",
    "print()\n",
    "print(\"Flattened array: \")\n",
    "print(arr3_flatten)\n",
    "print(\"Shape of Flattened array: \", arr3_flatten.shape)"
   ]
  },
  {
   "cell_type": "markdown",
   "id": "11ad987e",
   "metadata": {},
   "source": [
    "### 6. tolist"
   ]
  },
  {
   "cell_type": "code",
   "execution_count": 15,
   "id": "4be33a7c",
   "metadata": {},
   "outputs": [
    {
     "name": "stdout",
     "output_type": "stream",
     "text": [
      "[[1 2 3]\n",
      " [4 5 6]\n",
      " [7 8 9]]\n",
      "\n",
      "(3, 3)\n"
     ]
    }
   ],
   "source": [
    "arr1 = np.array([[1,2,3],[4,5,6],[7,8,9]])\n",
    "print(arr1)\n",
    "print()\n",
    "print(arr1.shape)"
   ]
  },
  {
   "cell_type": "code",
   "execution_count": 22,
   "id": "db717bc1",
   "metadata": {},
   "outputs": [
    {
     "name": "stdout",
     "output_type": "stream",
     "text": [
      "Original Array: \n",
      "[[1 2 3]\n",
      " [4 5 6]\n",
      " [7 8 9]]\n",
      "Shape of Array:  (3, 3)\n",
      "Data Type:  <class 'numpy.ndarray'>\n",
      "\n",
      "Converted to list\n",
      "[[1, 2, 3], [4, 5, 6], [7, 8, 9]]\n",
      "Data Type of list:  <class 'list'>\n"
     ]
    }
   ],
   "source": [
    "list1 = arr1.tolist() ## It will return a list of the given array\n",
    "\n",
    "print(\"Original Array: \")\n",
    "print(arr1)\n",
    "print(\"Shape of Array: \", arr1.shape)\n",
    "print(\"Data Type: \", type(arr1))\n",
    "print()\n",
    "print(\"Converted to list\")\n",
    "print(list1)\n",
    "print(\"Data Type of list: \",type(list1))"
   ]
  },
  {
   "cell_type": "code",
   "execution_count": 24,
   "id": "013e28bb",
   "metadata": {},
   "outputs": [
    {
     "data": {
      "text/plain": [
       "[1, 2, 3, 4, 5, 6, 7, 8, 9]"
      ]
     },
     "execution_count": 24,
     "metadata": {},
     "output_type": "execute_result"
    }
   ],
   "source": [
    "list2 = arr1.flatten().tolist()\n",
    "list2"
   ]
  },
  {
   "cell_type": "markdown",
   "id": "45984557",
   "metadata": {},
   "source": [
    "### 7. ravel"
   ]
  },
  {
   "cell_type": "code",
   "execution_count": null,
   "id": "d8a7f38e",
   "metadata": {},
   "outputs": [],
   "source": [
    "This is used for converting n-dimensional array to 1D array\n",
    "\n",
    "It does not return a new 1D array, but a reference of the ndarray"
   ]
  },
  {
   "cell_type": "code",
   "execution_count": 25,
   "id": "24d706bf",
   "metadata": {},
   "outputs": [
    {
     "name": "stdout",
     "output_type": "stream",
     "text": [
      "[1 2 3 4 5 6 7 8 9]\n"
     ]
    }
   ],
   "source": [
    "arr1 = np.array([[1,2,3],[4,5,6],[7,8,9]])\n",
    "\n",
    "arr1_ravel = arr1.ravel()\n",
    "\n",
    "print(arr1_ravel)"
   ]
  },
  {
   "cell_type": "code",
   "execution_count": 26,
   "id": "c6db8fbc",
   "metadata": {},
   "outputs": [
    {
     "name": "stdout",
     "output_type": "stream",
     "text": [
      "[   1    2    3 1000    5    6    7    8    9]\n"
     ]
    }
   ],
   "source": [
    "arr1_ravel[3] = 1000\n",
    "print(arr1_ravel)"
   ]
  },
  {
   "cell_type": "code",
   "execution_count": 27,
   "id": "2a2c26e0",
   "metadata": {},
   "outputs": [
    {
     "name": "stdout",
     "output_type": "stream",
     "text": [
      "[[   1    2    3]\n",
      " [1000    5    6]\n",
      " [   7    8    9]]\n"
     ]
    }
   ],
   "source": [
    "print(arr1)"
   ]
  },
  {
   "cell_type": "markdown",
   "id": "4275dbcc",
   "metadata": {},
   "source": [
    "### 8. copy"
   ]
  },
  {
   "cell_type": "code",
   "execution_count": 28,
   "id": "cbd67f1c",
   "metadata": {},
   "outputs": [
    {
     "name": "stdout",
     "output_type": "stream",
     "text": [
      "[[1 2 3]\n",
      " [4 5 6]\n",
      " [7 8 9]]\n"
     ]
    }
   ],
   "source": [
    "arr1 = np.array([[1,2,3],[4,5,6],[7,8,9]])\n",
    "print(arr1)"
   ]
  },
  {
   "cell_type": "code",
   "execution_count": 29,
   "id": "09ffdc5e",
   "metadata": {},
   "outputs": [
    {
     "name": "stdout",
     "output_type": "stream",
     "text": [
      "6\n"
     ]
    }
   ],
   "source": [
    "print(arr1[1,2])"
   ]
  },
  {
   "cell_type": "code",
   "execution_count": 30,
   "id": "ed409f3a",
   "metadata": {},
   "outputs": [
    {
     "name": "stdout",
     "output_type": "stream",
     "text": [
      "[[   1    2    3]\n",
      " [   4    5 1000]\n",
      " [   7    8    9]]\n"
     ]
    }
   ],
   "source": [
    "arr1[1,2] = 1000\n",
    "print(arr1)"
   ]
  },
  {
   "cell_type": "code",
   "execution_count": 31,
   "id": "a0255581",
   "metadata": {},
   "outputs": [
    {
     "name": "stdout",
     "output_type": "stream",
     "text": [
      "[[   1    2    3]\n",
      " [   4    5 1000]\n",
      " [   7    8    9]]\n"
     ]
    }
   ],
   "source": [
    "arr2 = arr1\n",
    "print(arr2)"
   ]
  },
  {
   "cell_type": "code",
   "execution_count": 32,
   "id": "1072d054",
   "metadata": {},
   "outputs": [
    {
     "data": {
      "text/plain": [
       "9"
      ]
     },
     "execution_count": 32,
     "metadata": {},
     "output_type": "execute_result"
    }
   ],
   "source": [
    "arr2[2,2]"
   ]
  },
  {
   "cell_type": "code",
   "execution_count": 33,
   "id": "018ff949",
   "metadata": {},
   "outputs": [],
   "source": [
    "arr2[2,2] = 500"
   ]
  },
  {
   "cell_type": "code",
   "execution_count": 36,
   "id": "6b142e35",
   "metadata": {},
   "outputs": [
    {
     "data": {
      "text/plain": [
       "array([[   1,    2,    3],\n",
       "       [   4,    5, 1000],\n",
       "       [   7,    8,  500]])"
      ]
     },
     "execution_count": 36,
     "metadata": {},
     "output_type": "execute_result"
    }
   ],
   "source": [
    "arr2"
   ]
  },
  {
   "cell_type": "code",
   "execution_count": 34,
   "id": "f9f2718d",
   "metadata": {},
   "outputs": [
    {
     "data": {
      "text/plain": [
       "array([[   1,    2,    3],\n",
       "       [   4,    5, 1000],\n",
       "       [   7,    8,  500]])"
      ]
     },
     "execution_count": 34,
     "metadata": {},
     "output_type": "execute_result"
    }
   ],
   "source": [
    "arr1"
   ]
  },
  {
   "cell_type": "code",
   "execution_count": 37,
   "id": "3be23319",
   "metadata": {},
   "outputs": [],
   "source": [
    "arr3 = arr1.copy()"
   ]
  },
  {
   "cell_type": "code",
   "execution_count": 38,
   "id": "c44765e4",
   "metadata": {},
   "outputs": [
    {
     "data": {
      "text/plain": [
       "8"
      ]
     },
     "execution_count": 38,
     "metadata": {},
     "output_type": "execute_result"
    }
   ],
   "source": [
    "arr3[2,1]"
   ]
  },
  {
   "cell_type": "code",
   "execution_count": 39,
   "id": "5a1de33d",
   "metadata": {},
   "outputs": [
    {
     "data": {
      "text/plain": [
       "array([[   1,    2,    3],\n",
       "       [   4,    5, 1000],\n",
       "       [   7,  200,  500]])"
      ]
     },
     "execution_count": 39,
     "metadata": {},
     "output_type": "execute_result"
    }
   ],
   "source": [
    "arr3[2,1] =200\n",
    "arr3"
   ]
  },
  {
   "cell_type": "code",
   "execution_count": 40,
   "id": "7d4db5ac",
   "metadata": {},
   "outputs": [
    {
     "data": {
      "text/plain": [
       "array([[   1,    2,    3],\n",
       "       [   4,    5, 1000],\n",
       "       [   7,    8,  500]])"
      ]
     },
     "execution_count": 40,
     "metadata": {},
     "output_type": "execute_result"
    }
   ],
   "source": [
    "arr1"
   ]
  },
  {
   "cell_type": "markdown",
   "id": "01d6f684",
   "metadata": {},
   "source": [
    "### 9. zeros"
   ]
  },
  {
   "cell_type": "code",
   "execution_count": 41,
   "id": "e391347e",
   "metadata": {},
   "outputs": [
    {
     "data": {
      "text/plain": [
       "array([0., 0., 0., 0., 0., 0., 0., 0., 0., 0.])"
      ]
     },
     "execution_count": 41,
     "metadata": {},
     "output_type": "execute_result"
    }
   ],
   "source": [
    "arr0 = np.zeros(10)\n",
    "arr0"
   ]
  },
  {
   "cell_type": "code",
   "execution_count": 42,
   "id": "e03146e7",
   "metadata": {},
   "outputs": [
    {
     "data": {
      "text/plain": [
       "array([0, 0, 0, 0, 0, 0, 0, 0, 0, 0])"
      ]
     },
     "execution_count": 42,
     "metadata": {},
     "output_type": "execute_result"
    }
   ],
   "source": [
    "arr0 = np.zeros(10,dtype = int)\n",
    "arr0"
   ]
  },
  {
   "cell_type": "code",
   "execution_count": 43,
   "id": "853790de",
   "metadata": {},
   "outputs": [
    {
     "data": {
      "text/plain": [
       "array([[0, 0, 0],\n",
       "       [0, 0, 0],\n",
       "       [0, 0, 0]])"
      ]
     },
     "execution_count": 43,
     "metadata": {},
     "output_type": "execute_result"
    }
   ],
   "source": [
    "arr1 = np.zeros([3,3],dtype = int)\n",
    "arr1"
   ]
  },
  {
   "cell_type": "markdown",
   "id": "ffa11eef",
   "metadata": {},
   "source": [
    "### 10. ones"
   ]
  },
  {
   "cell_type": "code",
   "execution_count": 44,
   "id": "0ad074d4",
   "metadata": {},
   "outputs": [
    {
     "data": {
      "text/plain": [
       "array([1., 1., 1., 1., 1., 1., 1., 1., 1., 1.])"
      ]
     },
     "execution_count": 44,
     "metadata": {},
     "output_type": "execute_result"
    }
   ],
   "source": [
    "arr1 = np.ones(10)\n",
    "arr1"
   ]
  },
  {
   "cell_type": "code",
   "execution_count": 45,
   "id": "2f40e94e",
   "metadata": {},
   "outputs": [
    {
     "data": {
      "text/plain": [
       "array([1, 1, 1, 1, 1, 1, 1, 1, 1, 1])"
      ]
     },
     "execution_count": 45,
     "metadata": {},
     "output_type": "execute_result"
    }
   ],
   "source": [
    "arr1 = np.ones(10, dtype = int)\n",
    "arr1"
   ]
  },
  {
   "cell_type": "code",
   "execution_count": 46,
   "id": "6c0d8862",
   "metadata": {},
   "outputs": [
    {
     "data": {
      "text/plain": [
       "array([[1, 1, 1],\n",
       "       [1, 1, 1],\n",
       "       [1, 1, 1]])"
      ]
     },
     "execution_count": 46,
     "metadata": {},
     "output_type": "execute_result"
    }
   ],
   "source": [
    "arr2d = np.ones([3,3],dtype = int)\n",
    "arr2d"
   ]
  },
  {
   "cell_type": "code",
   "execution_count": 51,
   "id": "e0f74f81",
   "metadata": {},
   "outputs": [
    {
     "data": {
      "text/plain": [
       "array([[[1, 1, 1],\n",
       "        [1, 1, 1],\n",
       "        [1, 1, 1]],\n",
       "\n",
       "       [[1, 1, 1],\n",
       "        [1, 1, 1],\n",
       "        [1, 1, 1]]])"
      ]
     },
     "execution_count": 51,
     "metadata": {},
     "output_type": "execute_result"
    }
   ],
   "source": [
    "arr2d = np.ones([2,3,3],dtype = int)\n",
    "arr2d"
   ]
  },
  {
   "cell_type": "markdown",
   "id": "ee93af52",
   "metadata": {},
   "source": [
    "### 11. np.identity"
   ]
  },
  {
   "cell_type": "code",
   "execution_count": 55,
   "id": "84947a06",
   "metadata": {},
   "outputs": [
    {
     "data": {
      "text/plain": [
       "array([[1, 0],\n",
       "       [0, 1]])"
      ]
     },
     "execution_count": 55,
     "metadata": {},
     "output_type": "execute_result"
    }
   ],
   "source": [
    "arr_identity = np.identity(2,dtype = int)\n",
    "arr_identity"
   ]
  },
  {
   "cell_type": "code",
   "execution_count": 56,
   "id": "666687ca",
   "metadata": {},
   "outputs": [
    {
     "data": {
      "text/plain": [
       "array([[1, 0, 0, 0],\n",
       "       [0, 1, 0, 0],\n",
       "       [0, 0, 1, 0],\n",
       "       [0, 0, 0, 1]])"
      ]
     },
     "execution_count": 56,
     "metadata": {},
     "output_type": "execute_result"
    }
   ],
   "source": [
    "arr_identity = np.identity(4,dtype = int)\n",
    "arr_identity"
   ]
  },
  {
   "cell_type": "markdown",
   "id": "3bd235b3",
   "metadata": {},
   "source": [
    "### 12. np.full"
   ]
  },
  {
   "cell_type": "code",
   "execution_count": 57,
   "id": "91729c89",
   "metadata": {},
   "outputs": [
    {
     "data": {
      "text/plain": [
       "array([5, 5, 5, 5, 5, 5, 5, 5, 5, 5])"
      ]
     },
     "execution_count": 57,
     "metadata": {},
     "output_type": "execute_result"
    }
   ],
   "source": [
    "arr1 = np.full(10,5)\n",
    "arr1"
   ]
  },
  {
   "cell_type": "code",
   "execution_count": 58,
   "id": "7cf8c80d",
   "metadata": {},
   "outputs": [
    {
     "data": {
      "text/plain": [
       "array([[5, 5, 5],\n",
       "       [5, 5, 5],\n",
       "       [5, 5, 5]])"
      ]
     },
     "execution_count": 58,
     "metadata": {},
     "output_type": "execute_result"
    }
   ],
   "source": [
    "arr1 = np.full([3,3],5)\n",
    "arr1"
   ]
  },
  {
   "cell_type": "code",
   "execution_count": 62,
   "id": "136f5e74",
   "metadata": {},
   "outputs": [
    {
     "data": {
      "text/plain": [
       "array([[[100, 100, 100],\n",
       "        [100, 100, 100],\n",
       "        [100, 100, 100]],\n",
       "\n",
       "       [[100, 100, 100],\n",
       "        [100, 100, 100],\n",
       "        [100, 100, 100]]])"
      ]
     },
     "execution_count": 62,
     "metadata": {},
     "output_type": "execute_result"
    }
   ],
   "source": [
    "arr1 = np.full([2,3,3],100)\n",
    "arr1"
   ]
  },
  {
   "cell_type": "markdown",
   "id": "5a316e40",
   "metadata": {},
   "source": [
    "### 13. np.arange()"
   ]
  },
  {
   "cell_type": "code",
   "execution_count": 63,
   "id": "b36ebd37",
   "metadata": {},
   "outputs": [
    {
     "name": "stdout",
     "output_type": "stream",
     "text": [
      "[1, 2, 3, 4, 5, 6, 7, 8, 9, 10]\n"
     ]
    }
   ],
   "source": [
    "list1 = list(range(1,11))\n",
    "print(list1)"
   ]
  },
  {
   "cell_type": "code",
   "execution_count": 64,
   "id": "d5ff7eed",
   "metadata": {},
   "outputs": [
    {
     "data": {
      "text/plain": [
       "array([ 1,  2,  3,  4,  5,  6,  7,  8,  9, 10])"
      ]
     },
     "execution_count": 64,
     "metadata": {},
     "output_type": "execute_result"
    }
   ],
   "source": [
    "arr1 = np.arange(1,11)\n",
    "arr1"
   ]
  },
  {
   "cell_type": "code",
   "execution_count": 65,
   "id": "1df2fe8b",
   "metadata": {},
   "outputs": [
    {
     "data": {
      "text/plain": [
       "array([1, 3, 5, 7, 9])"
      ]
     },
     "execution_count": 65,
     "metadata": {},
     "output_type": "execute_result"
    }
   ],
   "source": [
    "arr1 = np.arange(1,11,2)\n",
    "arr1"
   ]
  },
  {
   "cell_type": "code",
   "execution_count": 66,
   "id": "2a70c379",
   "metadata": {},
   "outputs": [
    {
     "data": {
      "text/plain": [
       "array([-10,  -8,  -6,  -4,  -2,   0,   2,   4,   6,   8,  10])"
      ]
     },
     "execution_count": 66,
     "metadata": {},
     "output_type": "execute_result"
    }
   ],
   "source": [
    "arr1 = np.arange(-10,11,2)\n",
    "arr1"
   ]
  },
  {
   "cell_type": "code",
   "execution_count": 68,
   "id": "272f18d1",
   "metadata": {},
   "outputs": [
    {
     "data": {
      "text/plain": [
       "array([], dtype=int32)"
      ]
     },
     "execution_count": 68,
     "metadata": {},
     "output_type": "execute_result"
    }
   ],
   "source": [
    "arr1 = np.arange(1,11,-1)\n",
    "arr1"
   ]
  },
  {
   "cell_type": "code",
   "execution_count": 71,
   "id": "86a75d16",
   "metadata": {},
   "outputs": [
    {
     "data": {
      "text/plain": [
       "array([11, 10,  9,  8,  7,  6,  5,  4,  3,  2,  1])"
      ]
     },
     "execution_count": 71,
     "metadata": {},
     "output_type": "execute_result"
    }
   ],
   "source": [
    "arr1 = np.arange(11,0,-1)\n",
    "arr1"
   ]
  },
  {
   "cell_type": "markdown",
   "id": "d86c0627",
   "metadata": {},
   "source": [
    "### 14. np.linspace()"
   ]
  },
  {
   "cell_type": "markdown",
   "id": "949f6a61",
   "metadata": {},
   "source": [
    "np.linspace returns evenly spaced values\n",
    "np.linspace(start,end,num)"
   ]
  },
  {
   "cell_type": "code",
   "execution_count": 81,
   "id": "640230b9",
   "metadata": {},
   "outputs": [
    {
     "data": {
      "text/plain": [
       "array([ 1.        ,  1.3877551 ,  1.7755102 ,  2.16326531,  2.55102041,\n",
       "        2.93877551,  3.32653061,  3.71428571,  4.10204082,  4.48979592,\n",
       "        4.87755102,  5.26530612,  5.65306122,  6.04081633,  6.42857143,\n",
       "        6.81632653,  7.20408163,  7.59183673,  7.97959184,  8.36734694,\n",
       "        8.75510204,  9.14285714,  9.53061224,  9.91836735, 10.30612245,\n",
       "       10.69387755, 11.08163265, 11.46938776, 11.85714286, 12.24489796,\n",
       "       12.63265306, 13.02040816, 13.40816327, 13.79591837, 14.18367347,\n",
       "       14.57142857, 14.95918367, 15.34693878, 15.73469388, 16.12244898,\n",
       "       16.51020408, 16.89795918, 17.28571429, 17.67346939, 18.06122449,\n",
       "       18.44897959, 18.83673469, 19.2244898 , 19.6122449 , 20.        ])"
      ]
     },
     "execution_count": 81,
     "metadata": {},
     "output_type": "execute_result"
    }
   ],
   "source": [
    "arr1 = np.linspace(1,20,50)\n",
    "arr1"
   ]
  },
  {
   "cell_type": "markdown",
   "id": "b2a4e488",
   "metadata": {},
   "source": [
    "### 15. np.eye()"
   ]
  },
  {
   "cell_type": "code",
   "execution_count": 84,
   "id": "dcd37843",
   "metadata": {},
   "outputs": [
    {
     "data": {
      "text/plain": [
       "array([[1, 0, 0],\n",
       "       [0, 1, 0],\n",
       "       [0, 0, 1]])"
      ]
     },
     "execution_count": 84,
     "metadata": {},
     "output_type": "execute_result"
    }
   ],
   "source": [
    "arr1 = np.eye(3,dtype = int)\n",
    "arr1"
   ]
  },
  {
   "cell_type": "code",
   "execution_count": 85,
   "id": "0c5c7037",
   "metadata": {},
   "outputs": [
    {
     "data": {
      "text/plain": [
       "array([[1., 0., 0.],\n",
       "       [0., 1., 0.],\n",
       "       [0., 0., 1.]])"
      ]
     },
     "execution_count": 85,
     "metadata": {},
     "output_type": "execute_result"
    }
   ],
   "source": [
    "arr2 = np.identity(3)\n",
    "arr2"
   ]
  },
  {
   "cell_type": "code",
   "execution_count": 88,
   "id": "6d10c644",
   "metadata": {},
   "outputs": [
    {
     "data": {
      "text/plain": [
       "array([[1., 0., 0., 0.],\n",
       "       [0., 1., 0., 0.],\n",
       "       [0., 0., 1., 0.],\n",
       "       [0., 0., 0., 1.]])"
      ]
     },
     "execution_count": 88,
     "metadata": {},
     "output_type": "execute_result"
    }
   ],
   "source": [
    "arr2 = np.identity(4)\n",
    "arr2"
   ]
  },
  {
   "cell_type": "code",
   "execution_count": 90,
   "id": "d4623931",
   "metadata": {},
   "outputs": [
    {
     "data": {
      "text/plain": [
       "array([[1., 0., 0., 0.],\n",
       "       [0., 1., 0., 0.],\n",
       "       [0., 0., 1., 0.],\n",
       "       [0., 0., 0., 1.]])"
      ]
     },
     "execution_count": 90,
     "metadata": {},
     "output_type": "execute_result"
    }
   ],
   "source": [
    "arr3 = np.eye(4)\n",
    "arr3"
   ]
  },
  {
   "cell_type": "code",
   "execution_count": 91,
   "id": "55d66f64",
   "metadata": {},
   "outputs": [
    {
     "data": {
      "text/plain": [
       "array([[1., 0., 0.],\n",
       "       [0., 1., 0.],\n",
       "       [0., 0., 1.],\n",
       "       [0., 0., 0.]])"
      ]
     },
     "execution_count": 91,
     "metadata": {},
     "output_type": "execute_result"
    }
   ],
   "source": [
    "arr3 = np.eye(4,3)\n",
    "arr3"
   ]
  },
  {
   "cell_type": "markdown",
   "id": "ee921ecd",
   "metadata": {},
   "source": [
    "### 16. np.random()"
   ]
  },
  {
   "cell_type": "code",
   "execution_count": null,
   "id": "7d1cd26a",
   "metadata": {},
   "outputs": [],
   "source": [
    "Used to generate random number\n",
    "\n",
    "1. np.random.rand\n",
    "2. np.random.randint\n",
    "3. np.random.randn\n",
    "4. np.random.ranf"
   ]
  },
  {
   "cell_type": "markdown",
   "id": "4462032b",
   "metadata": {},
   "source": [
    "#### 16.1 np.random.rand"
   ]
  },
  {
   "cell_type": "code",
   "execution_count": null,
   "id": "9d05fa19",
   "metadata": {},
   "outputs": [],
   "source": [
    "It returns values between 0 to 1"
   ]
  },
  {
   "cell_type": "code",
   "execution_count": 92,
   "id": "5bd681ec",
   "metadata": {},
   "outputs": [
    {
     "data": {
      "text/plain": [
       "0.8794099831730522"
      ]
     },
     "execution_count": 92,
     "metadata": {},
     "output_type": "execute_result"
    }
   ],
   "source": [
    "arr0 = np.random.rand()\n",
    "arr0"
   ]
  },
  {
   "cell_type": "code",
   "execution_count": 93,
   "id": "aecfac5c",
   "metadata": {},
   "outputs": [
    {
     "data": {
      "text/plain": [
       "array([0.72096814, 0.38458092, 0.23084651, 0.2733623 ])"
      ]
     },
     "execution_count": 93,
     "metadata": {},
     "output_type": "execute_result"
    }
   ],
   "source": [
    "arr1 = np.random.rand(4)\n",
    "arr1"
   ]
  },
  {
   "cell_type": "code",
   "execution_count": 94,
   "id": "9de74890",
   "metadata": {},
   "outputs": [
    {
     "data": {
      "text/plain": [
       "array([[0.81953422, 0.73642643, 0.88177773, 0.94094735, 0.22382964],\n",
       "       [0.76704401, 0.25585935, 0.74354489, 0.98290652, 0.48555927],\n",
       "       [0.94137429, 0.55915158, 0.8650156 , 0.66264503, 0.75293937],\n",
       "       [0.32134775, 0.82491928, 0.84161955, 0.62117283, 0.06864113]])"
      ]
     },
     "execution_count": 94,
     "metadata": {},
     "output_type": "execute_result"
    }
   ],
   "source": [
    "arr2 = np.random.rand(4,5)\n",
    "arr2"
   ]
  },
  {
   "cell_type": "code",
   "execution_count": 95,
   "id": "67d54f5e",
   "metadata": {},
   "outputs": [
    {
     "data": {
      "text/plain": [
       "array([[[0.58176627, 0.97518396],\n",
       "        [0.07403544, 0.29057347]],\n",
       "\n",
       "       [[0.15619186, 0.5260532 ],\n",
       "        [0.43322098, 0.89443463]]])"
      ]
     },
     "execution_count": 95,
     "metadata": {},
     "output_type": "execute_result"
    }
   ],
   "source": [
    "arr2 = np.random.rand(2,2,2)\n",
    "arr2"
   ]
  },
  {
   "cell_type": "markdown",
   "id": "c58c41ff",
   "metadata": {},
   "source": [
    "#### 16.2 np.random.randint"
   ]
  },
  {
   "cell_type": "code",
   "execution_count": null,
   "id": "1ab85960",
   "metadata": {},
   "outputs": [],
   "source": [
    "It generates random integer in the given range\n",
    "\n",
    "np.random.randint(start_number,end_number,size=1)"
   ]
  },
  {
   "cell_type": "code",
   "execution_count": 98,
   "id": "68d21a5f",
   "metadata": {},
   "outputs": [
    {
     "data": {
      "text/plain": [
       "11"
      ]
     },
     "execution_count": 98,
     "metadata": {},
     "output_type": "execute_result"
    }
   ],
   "source": [
    "arr0 = np.random.randint(11,15)\n",
    "arr0"
   ]
  },
  {
   "cell_type": "code",
   "execution_count": 101,
   "id": "d8d94f9e",
   "metadata": {},
   "outputs": [
    {
     "data": {
      "text/plain": [
       "array([14])"
      ]
     },
     "execution_count": 101,
     "metadata": {},
     "output_type": "execute_result"
    }
   ],
   "source": [
    "arr1 = np.random.randint(11,15, size = 1)\n",
    "arr1"
   ]
  },
  {
   "cell_type": "code",
   "execution_count": 105,
   "id": "818e8030",
   "metadata": {},
   "outputs": [
    {
     "data": {
      "text/plain": [
       "array([45, 74, 80, 62])"
      ]
     },
     "execution_count": 105,
     "metadata": {},
     "output_type": "execute_result"
    }
   ],
   "source": [
    "arr1 = np.random.randint(11,100, size = 4)\n",
    "arr1"
   ]
  },
  {
   "cell_type": "code",
   "execution_count": 106,
   "id": "b61ea866",
   "metadata": {},
   "outputs": [
    {
     "data": {
      "text/plain": [
       "array([[54, 67, 43],\n",
       "       [44, 59, 17],\n",
       "       [96, 70, 60]])"
      ]
     },
     "execution_count": 106,
     "metadata": {},
     "output_type": "execute_result"
    }
   ],
   "source": [
    "arr2 = np.random.randint(11,100, size = (3,3))\n",
    "arr2"
   ]
  },
  {
   "cell_type": "code",
   "execution_count": 103,
   "id": "3c878b33",
   "metadata": {},
   "outputs": [
    {
     "data": {
      "text/plain": [
       "array([[37, 64, 75],\n",
       "       [58, 36, 79],\n",
       "       [42, 23, 95]])"
      ]
     },
     "execution_count": 103,
     "metadata": {},
     "output_type": "execute_result"
    }
   ],
   "source": [
    "arr2 = np.random.randint(11,100, size = (3,3))\n",
    "arr2"
   ]
  },
  {
   "cell_type": "code",
   "execution_count": 104,
   "id": "0ccca11a",
   "metadata": {},
   "outputs": [
    {
     "data": {
      "text/plain": [
       "array([[13, 18, 70],\n",
       "       [49, 84, 21],\n",
       "       [75, 38, 20]])"
      ]
     },
     "execution_count": 104,
     "metadata": {},
     "output_type": "execute_result"
    }
   ],
   "source": [
    "arr2 = np.random.randint(11,100, size = (3,3))\n",
    "arr2"
   ]
  },
  {
   "cell_type": "markdown",
   "id": "636adc2c",
   "metadata": {},
   "source": [
    "#### 16.3 np.random.randn"
   ]
  },
  {
   "cell_type": "code",
   "execution_count": null,
   "id": "ecbcd449",
   "metadata": {},
   "outputs": [],
   "source": [
    "It returns sample from normally distributed data"
   ]
  },
  {
   "cell_type": "code",
   "execution_count": 107,
   "id": "491e8e8d",
   "metadata": {},
   "outputs": [
    {
     "data": {
      "text/plain": [
       "array([ 0.21332134, -1.072878  ,  0.76713699, -0.15779802,  0.63664112,\n",
       "        0.57271785,  0.54305566, -0.66943539,  0.31638192,  1.436136  ])"
      ]
     },
     "execution_count": 107,
     "metadata": {},
     "output_type": "execute_result"
    }
   ],
   "source": [
    "arr1 = np.random.randn(10)\n",
    "arr1"
   ]
  },
  {
   "cell_type": "code",
   "execution_count": 108,
   "id": "35f96afd",
   "metadata": {},
   "outputs": [],
   "source": [
    "import seaborn as sns"
   ]
  },
  {
   "cell_type": "code",
   "execution_count": 109,
   "id": "0c79db6d",
   "metadata": {},
   "outputs": [
    {
     "data": {
      "text/plain": [
       "<AxesSubplot:ylabel='Density'>"
      ]
     },
     "execution_count": 109,
     "metadata": {},
     "output_type": "execute_result"
    },
    {
     "data": {
      "image/png": "[encoded data removed]",
      "text/plain": [
       "<Figure size 432x288 with 1 Axes>"
      ]
     },
     "metadata": {
      "needs_background": "light"
     },
     "output_type": "display_data"
    }
   ],
   "source": [
    "array = np.random.randn(100)\n",
    "sns.kdeplot(array)"
   ]
  },
  {
   "cell_type": "code",
   "execution_count": 112,
   "id": "00050205",
   "metadata": {},
   "outputs": [
    {
     "data": {
      "text/plain": [
       "<AxesSubplot:ylabel='Density'>"
      ]
     },
     "execution_count": 112,
     "metadata": {},
     "output_type": "execute_result"
    },
    {
     "data": {
      "image/png": "[encoded data removed]",
      "text/plain": [
       "<Figure size 432x288 with 1 Axes>"
      ]
     },
     "metadata": {
      "needs_background": "light"
     },
     "output_type": "display_data"
    }
   ],
   "source": [
    "array = np.random.randn(100000)\n",
    "sns.kdeplot(array)"
   ]
  },
  {
   "cell_type": "markdown",
   "id": "621354c3",
   "metadata": {},
   "source": [
    "#### 16.4 np.random.ranf"
   ]
  },
  {
   "cell_type": "markdown",
   "id": "79265b5e",
   "metadata": {},
   "source": [
    "It will return values between 0 to 1 range"
   ]
  },
  {
   "cell_type": "code",
   "execution_count": 118,
   "id": "73a4e886",
   "metadata": {},
   "outputs": [
    {
     "data": {
      "text/plain": [
       "0.6797445337229748"
      ]
     },
     "execution_count": 118,
     "metadata": {},
     "output_type": "execute_result"
    }
   ],
   "source": [
    "arr0 = np.random.ranf()\n",
    "arr0"
   ]
  },
  {
   "cell_type": "code",
   "execution_count": 119,
   "id": "875fc13f",
   "metadata": {},
   "outputs": [
    {
     "data": {
      "text/plain": [
       "array([0.85260998, 0.10082262, 0.83987997, 0.02137548, 0.87030074])"
      ]
     },
     "execution_count": 119,
     "metadata": {},
     "output_type": "execute_result"
    }
   ],
   "source": [
    "arr1 = np.random.ranf(5)\n",
    "arr1"
   ]
  },
  {
   "cell_type": "code",
   "execution_count": 121,
   "id": "c7896534",
   "metadata": {},
   "outputs": [
    {
     "data": {
      "text/plain": [
       "array([[0.37592562, 0.06700648, 0.18665322],\n",
       "       [0.32940659, 0.80626684, 0.45856843],\n",
       "       [0.33152158, 0.78003696, 0.51836604],\n",
       "       [0.50464447, 0.43949282, 0.64130194],\n",
       "       [0.31487637, 0.24367473, 0.35716725]])"
      ]
     },
     "execution_count": 121,
     "metadata": {},
     "output_type": "execute_result"
    }
   ],
   "source": [
    "arr1 = np.random.ranf((5,3))\n",
    "arr1"
   ]
  },
  {
   "cell_type": "code",
   "execution_count": null,
   "id": "955672ed",
   "metadata": {},
   "outputs": [],
   "source": []
  }
 ],
 "metadata": {
  "kernelspec": {
   "display_name": "Python 3 (ipykernel)",
   "language": "python",
   "name": "python3"
  },
  "language_info": {
   "codemirror_mode": {
    "name": "ipython",
    "version": 3
   },
   "file_extension": ".py",
   "mimetype": "text/x-python",
   "name": "python",
   "nbconvert_exporter": "python",
   "pygments_lexer": "ipython3",
   "version": "3.10.5"
  }
 },
 "nbformat": 4,
 "nbformat_minor": 5
}
