{
 "cells": [
  {
   "cell_type": "code",
   "execution_count": null,
   "id": "ba544ff1",
   "metadata": {},
   "outputs": [],
   "source": [
    "Text\n",
    "JSON\n",
    "ML Model (Pickle File)\n",
    "\n",
    "DL (.h5)"
   ]
  },
  {
   "cell_type": "markdown",
   "id": "f3851fb3",
   "metadata": {},
   "source": [
    "### File Operations"
   ]
  },
  {
   "cell_type": "markdown",
   "id": "47de6507",
   "metadata": {},
   "source": [
    "1. write\n",
    "2. read\n",
    "3. append"
   ]
  },
  {
   "cell_type": "code",
   "execution_count": null,
   "id": "85953e4c",
   "metadata": {},
   "outputs": [],
   "source": [
    "file_object = open(file_name,mode = \"w\")\n",
    "file_object = open(file_name, mode = \"r\")\n",
    "file_object = open(file_name,)\n",
    "file_obejct = open(file_name,mode = \"a\")\n",
    "\n",
    "Mode:\n",
    "    1. read mode   >> \"r\"\n",
    "    2. write mode  >> \"w\"\n",
    "    3. append mode >> \"a\"\n",
    "    5. write bytes >> \"wb\"\n",
    "    6. read bytes  >> \"rb\"\n",
    "    \n",
    "    7. write mode  >> \"x\""
   ]
  },
  {
   "cell_type": "markdown",
   "id": "bd7a63f3",
   "metadata": {},
   "source": [
    "### Write Mode"
   ]
  },
  {
   "cell_type": "code",
   "execution_count": null,
   "id": "cb8c9461",
   "metadata": {},
   "outputs": [],
   "source": [
    "It will create a new file if it does not exist\n",
    "If the file exists, it will overwrite the file"
   ]
  },
  {
   "cell_type": "code",
   "execution_count": 1,
   "id": "e309873c",
   "metadata": {},
   "outputs": [],
   "source": [
    "f = open(\"sample_file.txt\",'w')\n",
    "f.write(\"We are testing file writting\")\n",
    "f.close()"
   ]
  },
  {
   "cell_type": "code",
   "execution_count": 2,
   "id": "627e92cf",
   "metadata": {},
   "outputs": [],
   "source": [
    "f = open(\"sample_file.txt\",\"w\")\n",
    "f.write(\"We are testing file for second time\")\n",
    "f.close()"
   ]
  },
  {
   "cell_type": "code",
   "execution_count": 3,
   "id": "63001e5c",
   "metadata": {},
   "outputs": [],
   "source": [
    "text = \"\"\"Data science is the field of study that combines domain expertise, programming skills, and knowledge of \n",
    "mathematics and statistics to extract meaningful insights from data. Data science practitioners apply machine learning \n",
    "algorithms to numbers, text, images, video, audio, and more to produce artificial intelligence (AI) systems to perform tasks \n",
    "that ordinarily require human intelligence. In turn, these systems generate insights which analysts and business users can \n",
    "translate into tangible business value.\"\"\""
   ]
  },
  {
   "cell_type": "code",
   "execution_count": 4,
   "id": "c2b11907",
   "metadata": {},
   "outputs": [],
   "source": [
    "k = open(\"new_file.txt\",\"w\")\n",
    "k.write(text)\n",
    "k.close()"
   ]
  },
  {
   "cell_type": "code",
   "execution_count": 5,
   "id": "c672b912",
   "metadata": {},
   "outputs": [],
   "source": [
    "text = \"\"\"Data science is the field of study that combines domain expertise, programming skills, and knowledge of \n",
    "\n",
    "mathematics and statistics to extract meaningful insights from data. Data science practitioners apply machine learning \n",
    "\n",
    "algorithms to numbers, text, images, video, audio, and more to produce artificial intelligence (AI) systems to perform tasks\n",
    "\n",
    "that ordinarily require human intelligence. In turn, these systems generate insights which analysts and business users can \n",
    "\n",
    "translate into tangible business value.\"\"\""
   ]
  },
  {
   "cell_type": "code",
   "execution_count": 6,
   "id": "1723bf8b",
   "metadata": {},
   "outputs": [],
   "source": [
    "file = open(\"new_file_2.txt\",\"w\")\n",
    "file.write(text)\n",
    "file.close()"
   ]
  },
  {
   "cell_type": "markdown",
   "id": "f7ab016d",
   "metadata": {},
   "source": [
    "### 2. append"
   ]
  },
  {
   "cell_type": "code",
   "execution_count": null,
   "id": "a31bce9a",
   "metadata": {},
   "outputs": [],
   "source": [
    "It will create a new file if it does not exists\n",
    "\n",
    "It will add text to the file if it already exists"
   ]
  },
  {
   "cell_type": "code",
   "execution_count": 7,
   "id": "968b2344",
   "metadata": {},
   "outputs": [],
   "source": [
    "text = \"This is a sample text to be written on file\"\n",
    "\n",
    "file = open(\"new_file_3.txt\",\"a\")\n",
    "file.write(text)\n",
    "file.close()"
   ]
  },
  {
   "cell_type": "code",
   "execution_count": 8,
   "id": "66772aa7",
   "metadata": {},
   "outputs": [],
   "source": [
    "text2 = \"This is a new text to be appened to the file that we just have written\"\n",
    "\n",
    "file = open(\"new_file_3.txt\",\"a\")\n",
    "file.write(text2)\n",
    "file.close()"
   ]
  },
  {
   "cell_type": "code",
   "execution_count": 9,
   "id": "358ff9d5",
   "metadata": {},
   "outputs": [],
   "source": [
    "text2 = \"\\nThis is a new text to be appened to the file that we just have written\"\n",
    "\n",
    "file = open(\"new_file_3.txt\",\"a\")\n",
    "file.write(text2)\n",
    "file.close()"
   ]
  },
  {
   "cell_type": "markdown",
   "id": "87d13c51",
   "metadata": {},
   "source": [
    "### 3. read mode"
   ]
  },
  {
   "cell_type": "code",
   "execution_count": 10,
   "id": "af691749",
   "metadata": {},
   "outputs": [],
   "source": [
    "machine_learning = \"\"\"Machine learning (ML) is a field of inquiry devoted to understanding and building methods that 'learn', \n",
    "that is, methods that leverage data to improve performance on some set of tasks.[1] It is seen as a part of artificial \n",
    "intelligence. Machine learning algorithms build a model based on sample data, known as training data, in order to make \n",
    "predictions or decisions without being explicitly programmed to do so.[2] Machine learning algorithms are used in a wide \n",
    "variety of applications, such as in medicine, email filtering, speech recognition, and computer vision, where it is difficult \n",
    "or unfeasible to develop conventional algorithms to perform the needed tasks.[3]\n",
    "\n",
    "A subset of machine learning is closely related to computational statistics, which focuses on making predictions using \n",
    "computers, but not all machine learning is statistical learning. The study of mathematical optimization delivers methods, \n",
    "theory and application domains to the field of machine learning. Data mining is a related field of study, focusing on \n",
    "exploratory data analysis through unsupervised learning.[5][6] Some implementations of machine learning use data and neural \n",
    "networks in a way that mimics the working of a biological brain.[7][8] In its application across business problems, machine \n",
    "learning is also referred to as predictive analytics.\"\"\""
   ]
  },
  {
   "cell_type": "code",
   "execution_count": 11,
   "id": "19b962d5",
   "metadata": {},
   "outputs": [],
   "source": [
    "file = open(\"machine_learning.txt\",\"w\")\n",
    "file.write(machine_learning)\n",
    "file.close()"
   ]
  },
  {
   "cell_type": "code",
   "execution_count": 12,
   "id": "ceb2f87a",
   "metadata": {},
   "outputs": [],
   "source": [
    "file = open(\"machine_learning.txt\",'r')\n",
    "\n",
    "text = file.read()\n",
    "\n",
    "file.close()"
   ]
  },
  {
   "cell_type": "code",
   "execution_count": 13,
   "id": "6eb82fea",
   "metadata": {},
   "outputs": [
    {
     "name": "stdout",
     "output_type": "stream",
     "text": [
      "Machine learning (ML) is a field of inquiry devoted to understanding and building methods that 'learn', \n",
      "that is, methods that leverage data to improve performance on some set of tasks.[1] It is seen as a part of artificial \n",
      "intelligence. Machine learning algorithms build a model based on sample data, known as training data, in order to make \n",
      "predictions or decisions without being explicitly programmed to do so.[2] Machine learning algorithms are used in a wide \n",
      "variety of applications, such as in medicine, email filtering, speech recognition, and computer vision, where it is difficult \n",
      "or unfeasible to develop conventional algorithms to perform the needed tasks.[3]\n",
      "\n",
      "A subset of machine learning is closely related to computational statistics, which focuses on making predictions using \n",
      "computers, but not all machine learning is statistical learning. The study of mathematical optimization delivers methods, \n",
      "theory and application domains to the field of machine learning. Data mining is a related field of study, focusing on \n",
      "exploratory data analysis through unsupervised learning.[5][6] Some implementations of machine learning use data and neural \n",
      "networks in a way that mimics the working of a biological brain.[7][8] In its application across business problems, machine \n",
      "learning is also referred to as predictive analytics.\n"
     ]
    }
   ],
   "source": [
    "print(text)"
   ]
  },
  {
   "cell_type": "code",
   "execution_count": 14,
   "id": "f96435c9",
   "metadata": {},
   "outputs": [
    {
     "name": "stdout",
     "output_type": "stream",
     "text": [
      "Data science is the field of study that combines domain expertise, programming skills, and knowledge of \n",
      "mathematics and statistics to extract meaningful insights from data. Data science practitioners apply machine learning \n",
      "algorithms to numbers, text, images, video, audio, and more to produce artificial intelligence (AI) systems to perform tasks \n",
      "that ordinarily require human intelligence. In turn, these systems generate insights which analysts and business users can \n",
      "translate into tangible business value.\n"
     ]
    }
   ],
   "source": [
    "file = open(\"new_file.txt\",\"r\")\n",
    "text = file.read()\n",
    "file.close()\n",
    "print(text)"
   ]
  },
  {
   "cell_type": "code",
   "execution_count": 15,
   "id": "9255a13d",
   "metadata": {},
   "outputs": [],
   "source": [
    "### Create a file and paste it to new location\n",
    "\n",
    "ai = \"\"\"Artificial intelligence (AI) is intelligence demonstrated by machines, as opposed to the natural intelligence displayed \n",
    "by animals and humans. AI research has been defined as the field of study of intelligent agents, which refers to any system \n",
    "that perceives its environment and takes actions that maximize its chance of achieving its goals.[a]\n",
    "\n",
    "The term \"artificial intelligence\" had previously been used to describe machines that mimic and display \"human\" cognitive \n",
    "skills that are associated with the human mind, such as \"learning\" and \"problem-solving\". This definition has since been\n",
    "rejected by major AI researchers who now describe AI in terms of rationality and acting rationally, which does not limit \n",
    "how intelligence can be articulated.[b]\n",
    "\n",
    "AI applications include advanced web search engines (e.g., Google), recommendation systems (used by YouTube, Amazon and \n",
    "Netflix), understanding human speech (such as Siri and Alexa), self-driving cars (e.g., Tesla), automated decision-making \n",
    "and competing at the highest level in strategic game systems (such as chess and Go).[2] As machines become increasingly \n",
    "capable, tasks considered to require \"intelligence\" are often removed from the definition of AI, a phenomenon known as the \n",
    "AI effect.[3] For instance, optical character recognition is frequently excluded from things considered to be AI,[4] having \n",
    "become a routine technology.[5]\n",
    "\n",
    "Artificial intelligence was founded as an academic discipline in 1956, and in the years since has experienced several waves \n",
    "of optimism,[6][7] followed by disappointment and the loss of funding (known as an \"AI winter\"),[8][9] followed by new \n",
    "approaches, success and renewed funding.[7][10] AI research has tried and discarded many different approaches since its \n",
    "founding, including simulating the brain, modeling human problem solving, formal logic, large databases of knowledge and \n",
    "imitating animal behavior. In the first decades of the 21st century, highly mathematical-statistical machine learning has \n",
    "dominated the field, and this technique has proved highly successful, helping to solve many challenging problems throughout \n",
    "industry and academia.[10][11]\"\"\"\n",
    "\n",
    "file = open(\"ai.txt\",\"w\")\n",
    "file.write(ai)\n",
    "file.close()"
   ]
  },
  {
   "cell_type": "code",
   "execution_count": 16,
   "id": "c936f507",
   "metadata": {},
   "outputs": [
    {
     "name": "stdout",
     "output_type": "stream",
     "text": [
      "Artificial intelligence (AI) is intelligence demonstrated by machines, as opposed to the natural intelligence displayed \n",
      "by animals and humans. AI research has been defined as the field of study of intelligent agents, which refers to any system \n",
      "that perceives its environment and takes actions that maximize its chance of achieving its goals.[a]\n",
      "\n",
      "The term \"artificial intelligence\" had previously been used to describe machines that mimic and display \"human\" cognitive \n",
      "skills that are associated with the human mind, such as \"learning\" and \"problem-solving\". This definition has since been\n",
      "rejected by major AI researchers who now describe AI in terms of rationality and acting rationally, which does not limit \n",
      "how intelligence can be articulated.[b]\n",
      "\n",
      "AI applications include advanced web search engines (e.g., Google), recommendation systems (used by YouTube, Amazon and \n",
      "Netflix), understanding human speech (such as Siri and Alexa), self-driving cars (e.g., Tesla), automated decision-making \n",
      "and competing at the highest level in strategic game systems (such as chess and Go).[2] As machines become increasingly \n",
      "capable, tasks considered to require \"intelligence\" are often removed from the definition of AI, a phenomenon known as the \n",
      "AI effect.[3] For instance, optical character recognition is frequently excluded from things considered to be AI,[4] having \n",
      "become a routine technology.[5]\n",
      "\n",
      "Artificial intelligence was founded as an academic discipline in 1956, and in the years since has experienced several waves \n",
      "of optimism,[6][7] followed by disappointment and the loss of funding (known as an \"AI winter\"),[8][9] followed by new \n",
      "approaches, success and renewed funding.[7][10] AI research has tried and discarded many different approaches since its \n",
      "founding, including simulating the brain, modeling human problem solving, formal logic, large databases of knowledge and \n",
      "imitating animal behavior. In the first decades of the 21st century, highly mathematical-statistical machine learning has \n",
      "dominated the field, and this technique has proved highly successful, helping to solve many challenging problems throughout \n",
      "industry and academia.[10][11]\n"
     ]
    }
   ],
   "source": [
    "path = \"D:\\\\Teaching Python\\\\ai.txt\"\n",
    "\n",
    "file = open(path,\"r\")\n",
    "text = file.read()\n",
    "file.close()\n",
    "print(text)"
   ]
  },
  {
   "cell_type": "code",
   "execution_count": 17,
   "id": "3b6706dc",
   "metadata": {},
   "outputs": [
    {
     "ename": "OSError",
     "evalue": "[Errno 22] Invalid argument: 'D:\\\\Teaching Python\\x07i.txt'",
     "output_type": "error",
     "traceback": [
      "\u001b[1;31m---------------------------------------------------------------------------\u001b[0m",
      "\u001b[1;31mOSError\u001b[0m                                   Traceback (most recent call last)",
      "Input \u001b[1;32mIn [17]\u001b[0m, in \u001b[0;36m<cell line: 3>\u001b[1;34m()\u001b[0m\n\u001b[0;32m      1\u001b[0m path \u001b[38;5;241m=\u001b[39m \u001b[38;5;124m\"\u001b[39m\u001b[38;5;124mD:\u001b[39m\u001b[38;5;124m\\\u001b[39m\u001b[38;5;124mTeaching Python\u001b[39m\u001b[38;5;130;01m\\a\u001b[39;00m\u001b[38;5;124mi.txt\u001b[39m\u001b[38;5;124m\"\u001b[39m\n\u001b[1;32m----> 3\u001b[0m file \u001b[38;5;241m=\u001b[39m \u001b[38;5;28;43mopen\u001b[39;49m\u001b[43m(\u001b[49m\u001b[43mpath\u001b[49m\u001b[43m,\u001b[49m\u001b[38;5;124;43m\"\u001b[39;49m\u001b[38;5;124;43mr\u001b[39;49m\u001b[38;5;124;43m\"\u001b[39;49m\u001b[43m)\u001b[49m\n\u001b[0;32m      4\u001b[0m text \u001b[38;5;241m=\u001b[39m file\u001b[38;5;241m.\u001b[39mread()\n\u001b[0;32m      5\u001b[0m file\u001b[38;5;241m.\u001b[39mclose()\n",
      "\u001b[1;31mOSError\u001b[0m: [Errno 22] Invalid argument: 'D:\\\\Teaching Python\\x07i.txt'"
     ]
    }
   ],
   "source": [
    "path = \"D:\\Teaching Python\\ai.txt\"\n",
    "\n",
    "file = open(path,\"r\")\n",
    "text = file.read()\n",
    "file.close()\n",
    "print(text)"
   ]
  },
  {
   "cell_type": "code",
   "execution_count": 18,
   "id": "3b107194",
   "metadata": {},
   "outputs": [
    {
     "name": "stdout",
     "output_type": "stream",
     "text": [
      "Artificial intelligence (AI) is intelligence demonstrated by machines, as opposed to the natural intelligence displayed \n",
      "by animals and humans. AI research has been defined as the field of study of intelligent agents, which refers to any system \n",
      "that perceives its environment and takes actions that maximize its chance of achieving its goals.[a]\n",
      "\n",
      "The term \"artificial intelligence\" had previously been used to describe machines that mimic and display \"human\" cognitive \n",
      "skills that are associated with the human mind, such as \"learning\" and \"problem-solving\". This definition has since been\n",
      "rejected by major AI researchers who now describe AI in terms of rationality and acting rationally, which does not limit \n",
      "how intelligence can be articulated.[b]\n",
      "\n",
      "AI applications include advanced web search engines (e.g., Google), recommendation systems (used by YouTube, Amazon and \n",
      "Netflix), understanding human speech (such as Siri and Alexa), self-driving cars (e.g., Tesla), automated decision-making \n",
      "and competing at the highest level in strategic game systems (such as chess and Go).[2] As machines become increasingly \n",
      "capable, tasks considered to require \"intelligence\" are often removed from the definition of AI, a phenomenon known as the \n",
      "AI effect.[3] For instance, optical character recognition is frequently excluded from things considered to be AI,[4] having \n",
      "become a routine technology.[5]\n",
      "\n",
      "Artificial intelligence was founded as an academic discipline in 1956, and in the years since has experienced several waves \n",
      "of optimism,[6][7] followed by disappointment and the loss of funding (known as an \"AI winter\"),[8][9] followed by new \n",
      "approaches, success and renewed funding.[7][10] AI research has tried and discarded many different approaches since its \n",
      "founding, including simulating the brain, modeling human problem solving, formal logic, large databases of knowledge and \n",
      "imitating animal behavior. In the first decades of the 21st century, highly mathematical-statistical machine learning has \n",
      "dominated the field, and this technique has proved highly successful, helping to solve many challenging problems throughout \n",
      "industry and academia.[10][11]\n"
     ]
    }
   ],
   "source": [
    "path = r\"D:\\Teaching Python\\ai.txt\"\n",
    "\n",
    "file = open(path,\"r\")\n",
    "text = file.read()\n",
    "file.close()\n",
    "print(text)"
   ]
  },
  {
   "cell_type": "code",
   "execution_count": 19,
   "id": "f6ce5c4e",
   "metadata": {},
   "outputs": [
    {
     "name": "stdout",
     "output_type": "stream",
     "text": [
      "Artificial intelligence (AI) is intelligence demonstrated by machines, as opposed to the natural intelligence displayed \n",
      "by animals and humans. AI research has been defined as the field of study of intelligent agents, which refers to any system \n",
      "that perceives its environment and takes actions that maximize its chance of achieving its goals.[a]\n",
      "\n",
      "The term \"artificial intelligence\" had previously been used to describe machines that mimic and display \"human\" cognitive \n",
      "skills that are associated with the human mind, such as \"learning\" and \"problem-solving\". This definition has since been\n",
      "rejected by major AI researchers who now describe AI in terms of rationality and acting rationally, which does not limit \n",
      "how intelligence can be articulated.[b]\n",
      "\n",
      "AI applications include advanced web search engines (e.g., Google), recommendation systems (used by YouTube, Amazon and \n",
      "Netflix), understanding human speech (such as Siri and Alexa), self-driving cars (e.g., Tesla), automated decision-making \n",
      "and competing at the highest level in strategic game systems (such as chess and Go).[2] As machines become increasingly \n",
      "capable, tasks considered to require \"intelligence\" are often removed from the definition of AI, a phenomenon known as the \n",
      "AI effect.[3] For instance, optical character recognition is frequently excluded from things considered to be AI,[4] having \n",
      "become a routine technology.[5]\n",
      "\n",
      "Artificial intelligence was founded as an academic discipline in 1956, and in the years since has experienced several waves \n",
      "of optimism,[6][7] followed by disappointment and the loss of funding (known as an \"AI winter\"),[8][9] followed by new \n",
      "approaches, success and renewed funding.[7][10] AI research has tried and discarded many different approaches since its \n",
      "founding, including simulating the brain, modeling human problem solving, formal logic, large databases of knowledge and \n",
      "imitating animal behavior. In the first decades of the 21st century, highly mathematical-statistical machine learning has \n",
      "dominated the field, and this technique has proved highly successful, helping to solve many challenging problems throughout \n",
      "industry and academia.[10][11]\n"
     ]
    }
   ],
   "source": [
    "file = open(r\"D:\\Teaching Python\\ai.txt\",\"r\")\n",
    "text = file.read()\n",
    "file.close()\n",
    "print(text)"
   ]
  },
  {
   "cell_type": "code",
   "execution_count": 20,
   "id": "bde5c641",
   "metadata": {},
   "outputs": [],
   "source": [
    "text = \"\"\"Python is a high-level, general-purpose programming language. Its design philosophy emphasizes code readability with \n",
    "the use of significant indentation.[32]\n",
    "Python is dynamically-typed and garbage-collected. It supports multiple programming paradigms, including structured \n",
    "(particularly procedural), object-oriented and functional programming. It is often described as a \"batteries included\" \n",
    "language due to its comprehensive standard library.[33][34]\n",
    "\n",
    "Guido van Rossum began working on Python in the late 1980s as a successor to the ABC programming language and first released \n",
    "it in 1991 as Python 0.9.0.[35] Python 2.0 was released in 2000 and introduced new features such as list comprehensions, \n",
    "cycle-detecting garbage collection, reference counting, and Unicode support. Python 3.0, released in 2008, was a major \n",
    "revision that is not completely backward-compatible with earlier versions. Python 2 was discontinued with version 2.7.18 \n",
    "in 2020.[36]\"\"\""
   ]
  },
  {
   "cell_type": "code",
   "execution_count": 21,
   "id": "3a5cd61c",
   "metadata": {},
   "outputs": [],
   "source": [
    "path = r\"D:\\Teaching Python\\python_wiki.txt\"\n",
    "\n",
    "file = open(path,\"w\")\n",
    "file.write(text)\n",
    "file.close()"
   ]
  },
  {
   "cell_type": "markdown",
   "id": "24531409",
   "metadata": {},
   "source": [
    "### 4. readlines"
   ]
  },
  {
   "cell_type": "code",
   "execution_count": null,
   "id": "ea65a9b0",
   "metadata": {},
   "outputs": [],
   "source": [
    "It returns list of the text lines in the file"
   ]
  },
  {
   "cell_type": "code",
   "execution_count": 22,
   "id": "09ef7112",
   "metadata": {},
   "outputs": [],
   "source": [
    "text = \"\"\"Python is a high-level, general-purpose programming language. Its design philosophy emphasizes code readability with \n",
    "the use of significant indentation.[32]\n",
    "Python is dynamically-typed and garbage-collected. It supports multiple programming paradigms, including structured \n",
    "(particularly procedural), object-oriented and functional programming. It is often described as a \"batteries included\" \n",
    "language due to its comprehensive standard library.[33][34]\n",
    "\n",
    "Guido van Rossum began working on Python in the late 1980s as a successor to the ABC programming language and first released \n",
    "it in 1991 as Python 0.9.0.[35] Python 2.0 was released in 2000 and introduced new features such as list comprehensions, \n",
    "cycle-detecting garbage collection, reference counting, and Unicode support. Python 3.0, released in 2008, was a major \n",
    "revision that is not completely backward-compatible with earlier versions. Python 2 was discontinued with version 2.7.18 \n",
    "in 2020.[36]\"\"\""
   ]
  },
  {
   "cell_type": "code",
   "execution_count": 23,
   "id": "843d1240",
   "metadata": {},
   "outputs": [],
   "source": [
    "file = open(\"python_wiki.txt\", \"w\")\n",
    "file.write(text)\n",
    "file.close()"
   ]
  },
  {
   "cell_type": "code",
   "execution_count": 24,
   "id": "6a6a10cb",
   "metadata": {},
   "outputs": [
    {
     "name": "stdout",
     "output_type": "stream",
     "text": [
      "Python is a high-level, general-purpose programming language. Its design philosophy emphasizes code readability with \n",
      "the use of significant indentation.[32]\n",
      "Python is dynamically-typed and garbage-collected. It supports multiple programming paradigms, including structured \n",
      "(particularly procedural), object-oriented and functional programming. It is often described as a \"batteries included\" \n",
      "language due to its comprehensive standard library.[33][34]\n",
      "\n",
      "Guido van Rossum began working on Python in the late 1980s as a successor to the ABC programming language and first released \n",
      "it in 1991 as Python 0.9.0.[35] Python 2.0 was released in 2000 and introduced new features such as list comprehensions, \n",
      "cycle-detecting garbage collection, reference counting, and Unicode support. Python 3.0, released in 2008, was a major \n",
      "revision that is not completely backward-compatible with earlier versions. Python 2 was discontinued with version 2.7.18 \n",
      "in 2020.[36]\n"
     ]
    }
   ],
   "source": [
    "file = open(\"python_wiki.txt\",\"r\")\n",
    "text_1 = file.read()   ## Usual read function\n",
    "file.close()\n",
    "print(text_1)"
   ]
  },
  {
   "cell_type": "code",
   "execution_count": 25,
   "id": "6189e54c",
   "metadata": {},
   "outputs": [
    {
     "name": "stdout",
     "output_type": "stream",
     "text": [
      "['Python is a high-level, general-purpose programming language. Its design philosophy emphasizes code readability with \\n', 'the use of significant indentation.[32]\\n', 'Python is dynamically-typed and garbage-collected. It supports multiple programming paradigms, including structured \\n', '(particularly procedural), object-oriented and functional programming. It is often described as a \"batteries included\" \\n', 'language due to its comprehensive standard library.[33][34]\\n', '\\n', 'Guido van Rossum began working on Python in the late 1980s as a successor to the ABC programming language and first released \\n', 'it in 1991 as Python 0.9.0.[35] Python 2.0 was released in 2000 and introduced new features such as list comprehensions, \\n', 'cycle-detecting garbage collection, reference counting, and Unicode support. Python 3.0, released in 2008, was a major \\n', 'revision that is not completely backward-compatible with earlier versions. Python 2 was discontinued with version 2.7.18 \\n', 'in 2020.[36]']\n"
     ]
    }
   ],
   "source": [
    "file = open(\"python_wiki.txt\",\"r\")\n",
    "text_list = file.readlines()   ## Readlines function\n",
    "file.close()\n",
    "print(text_list)"
   ]
  },
  {
   "cell_type": "markdown",
   "id": "46a9431f",
   "metadata": {},
   "source": [
    "### 5. readline"
   ]
  },
  {
   "cell_type": "code",
   "execution_count": 26,
   "id": "e9d966c9",
   "metadata": {},
   "outputs": [
    {
     "name": "stdout",
     "output_type": "stream",
     "text": [
      "Python is a high-level, general-purpose programming language. Its design philosophy emphasizes code readability with \n",
      "\n",
      "the use of significant indentation.[32]\n",
      "\n",
      "Python is dynamically-typed and garbage-collected. It supports multiple programming paradigms, including structured \n",
      "\n"
     ]
    }
   ],
   "source": [
    "file = open(\"python_wiki.txt\",\"r\")\n",
    "text_1 = file.readline() ## Returns first line\n",
    "text_2 = file.readline() ## Returns second line\n",
    "text_3 = file.readline() ## Returns third line\n",
    "file.close()\n",
    "print(text_1)\n",
    "print(text_2)\n",
    "print(text_3)"
   ]
  },
  {
   "cell_type": "markdown",
   "id": "5746f820",
   "metadata": {},
   "source": [
    "### Write mode \"x\""
   ]
  },
  {
   "cell_type": "code",
   "execution_count": null,
   "id": "6d97b79f",
   "metadata": {},
   "outputs": [],
   "source": [
    "It will check if the file exist...\n",
    "If the file does not exists... it will write the file\n",
    "If the file exist... it will throw an error"
   ]
  },
  {
   "cell_type": "code",
   "execution_count": 30,
   "id": "af87e74b",
   "metadata": {},
   "outputs": [],
   "source": [
    "f = open(\"test_file.txt\",\"x\")\n",
    "f.write(\"We are testing X write mode\")\n",
    "f.close()"
   ]
  },
  {
   "cell_type": "code",
   "execution_count": 31,
   "id": "b34ad9a3",
   "metadata": {},
   "outputs": [
    {
     "ename": "FileExistsError",
     "evalue": "[Errno 17] File exists: 'test_file.txt'",
     "output_type": "error",
     "traceback": [
      "\u001b[1;31m---------------------------------------------------------------------------\u001b[0m",
      "\u001b[1;31mFileExistsError\u001b[0m                           Traceback (most recent call last)",
      "Input \u001b[1;32mIn [31]\u001b[0m, in \u001b[0;36m<cell line: 1>\u001b[1;34m()\u001b[0m\n\u001b[1;32m----> 1\u001b[0m f \u001b[38;5;241m=\u001b[39m \u001b[38;5;28;43mopen\u001b[39;49m\u001b[43m(\u001b[49m\u001b[38;5;124;43m\"\u001b[39;49m\u001b[38;5;124;43mtest_file.txt\u001b[39;49m\u001b[38;5;124;43m\"\u001b[39;49m\u001b[43m,\u001b[49m\u001b[38;5;124;43m\"\u001b[39;49m\u001b[38;5;124;43mx\u001b[39;49m\u001b[38;5;124;43m\"\u001b[39;49m\u001b[43m)\u001b[49m\n\u001b[0;32m      2\u001b[0m f\u001b[38;5;241m.\u001b[39mwrite(\u001b[38;5;124m\"\u001b[39m\u001b[38;5;124mPlease write this\u001b[39m\u001b[38;5;124m\"\u001b[39m)\n\u001b[0;32m      3\u001b[0m f\u001b[38;5;241m.\u001b[39mclose()\n",
      "\u001b[1;31mFileExistsError\u001b[0m: [Errno 17] File exists: 'test_file.txt'"
     ]
    }
   ],
   "source": [
    "f = open(\"test_file.txt\",\"x\")\n",
    "f.write(\"Please write this\")\n",
    "f.close()"
   ]
  },
  {
   "cell_type": "markdown",
   "id": "8cfa2514",
   "metadata": {},
   "source": [
    "##  With Statement"
   ]
  },
  {
   "cell_type": "code",
   "execution_count": null,
   "id": "061d1d93",
   "metadata": {},
   "outputs": [],
   "source": [
    "We don't have to use close function with \"With statement\""
   ]
  },
  {
   "cell_type": "code",
   "execution_count": 32,
   "id": "d0579f67",
   "metadata": {},
   "outputs": [],
   "source": [
    "with open(\"data.txt\",\"w\") as file:\n",
    "    file.write(\"Thank god this with statement is there, otherwise we were sick of using close function\")"
   ]
  },
  {
   "cell_type": "code",
   "execution_count": 33,
   "id": "422470f6",
   "metadata": {},
   "outputs": [
    {
     "name": "stdout",
     "output_type": "stream",
     "text": [
      "Thank god this with statement is there, otherwise we were sick of using close function\n"
     ]
    }
   ],
   "source": [
    "with open(\"data.txt\", \"r\") as file:\n",
    "    text = file.read()\n",
    "print(text)  "
   ]
  },
  {
   "cell_type": "code",
   "execution_count": 34,
   "id": "0d9a480e",
   "metadata": {},
   "outputs": [],
   "source": [
    "with open(\"data.txt\",\"a\") as file:\n",
    "    file.write(\"\\nIt is fun to learn python this way!!\")\n"
   ]
  },
  {
   "cell_type": "code",
   "execution_count": 35,
   "id": "582c2c95",
   "metadata": {},
   "outputs": [
    {
     "name": "stdout",
     "output_type": "stream",
     "text": [
      "Thank god this with statement is there, otherwise we were sick of using close function\n",
      "It is fun to learn python this way!!\n"
     ]
    }
   ],
   "source": [
    "with open(\"data.txt\", \"r\") as file:\n",
    "    text = file.read()\n",
    "print(text) "
   ]
  },
  {
   "cell_type": "markdown",
   "id": "33b0b4d1",
   "metadata": {},
   "source": [
    "# JSON Format"
   ]
  },
  {
   "cell_type": "code",
   "execution_count": 37,
   "id": "e32ce8fc",
   "metadata": {},
   "outputs": [],
   "source": [
    "dict1 = {\"Name\":\"Virat\", \"Surname\":\"Kohli\",\"Sport\":\"Cricket\",\n",
    "         \"Format\":\"20-20\",\"50s\":34,\"100s\":1, \"Strike Rate\":138,\"Highest\":123}\n",
    "\n",
    "str1 = str(dict1)"
   ]
  },
  {
   "cell_type": "code",
   "execution_count": 38,
   "id": "4a28d93d",
   "metadata": {},
   "outputs": [
    {
     "data": {
      "text/plain": [
       "\"{'Name': 'Virat', 'Surname': 'Kohli', 'Sport': 'Cricket', 'Format': '20-20', '50s': 34, '100s': 1, 'Strike Rate': 138, 'Highest': 123}\""
      ]
     },
     "execution_count": 38,
     "metadata": {},
     "output_type": "execute_result"
    }
   ],
   "source": [
    "str1"
   ]
  },
  {
   "cell_type": "code",
   "execution_count": 40,
   "id": "e318b5f3",
   "metadata": {},
   "outputs": [],
   "source": [
    "with open(\"virat_kohli.json\",\"w\") as file:\n",
    "    file.write(str1)"
   ]
  },
  {
   "cell_type": "markdown",
   "id": "182a1b0f",
   "metadata": {},
   "source": [
    "#### Create Json"
   ]
  },
  {
   "cell_type": "code",
   "execution_count": 41,
   "id": "2b19fe5c",
   "metadata": {},
   "outputs": [],
   "source": [
    "import json\n",
    "\n",
    "dict1 = {\"Name\":\"Virat\", \"Surname\":\"Kohli\",\"Sport\":\"Cricket\",\n",
    "         \"Format\":\"20-20\",\"50s\":34,\"100s\":1, \"Strike Rate\":138,\"Highest\":123}\n",
    "\n",
    "with open(\"json_file.json\",\"w\") as file:\n",
    "    json.dump(dict1,file)"
   ]
  },
  {
   "cell_type": "code",
   "execution_count": 43,
   "id": "0a47f667",
   "metadata": {},
   "outputs": [
    {
     "name": "stdout",
     "output_type": "stream",
     "text": [
      "{'Name': 'Virat', 'Surname': 'Kohli', 'Sport': 'Cricket', 'Format': '20-20', '50s': 34, '100s': 1, 'Strike Rate': 138, 'Highest': 123}\n"
     ]
    }
   ],
   "source": [
    "import json\n",
    "\n",
    "with open(\"json_file.json\",\"r\") as file:\n",
    "    data = json.load(file)\n",
    "\n",
    "print(data)"
   ]
  },
  {
   "cell_type": "code",
   "execution_count": null,
   "id": "45c9fc5d",
   "metadata": {},
   "outputs": [],
   "source": []
  }
 ],
 "metadata": {
  "kernelspec": {
   "display_name": "Python 3 (ipykernel)",
   "language": "python",
   "name": "python3"
  },
  "language_info": {
   "codemirror_mode": {
    "name": "ipython",
    "version": 3
   },
   "file_extension": ".py",
   "mimetype": "text/x-python",
   "name": "python",
   "nbconvert_exporter": "python",
   "pygments_lexer": "ipython3",
   "version": "3.10.5"
  }
 },
 "nbformat": 4,
 "nbformat_minor": 5
}
