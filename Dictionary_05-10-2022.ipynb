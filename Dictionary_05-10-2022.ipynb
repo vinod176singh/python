{
 "cells": [
  {
   "cell_type": "markdown",
   "id": "210175aa",
   "metadata": {},
   "source": [
    "\n",
    "### Examples of Dictionary"
   ]
  },
  {
   "cell_type": "code",
   "execution_count": 1,
   "id": "1eba6b49",
   "metadata": {},
   "outputs": [
    {
     "name": "stdout",
     "output_type": "stream",
     "text": [
      "{'A': 67, 'B': 78}\n"
     ]
    }
   ],
   "source": [
    "dict1 = {\"A\":67,\"B\":78}  #String as a key\n",
    "print(dict1)"
   ]
  },
  {
   "cell_type": "code",
   "execution_count": 2,
   "id": "1237ad1a",
   "metadata": {},
   "outputs": [
    {
     "name": "stdout",
     "output_type": "stream",
     "text": [
      "{11: [12, 123, 1223], 12: [1453, 12, 3], 'Python': 'Data Science'}\n"
     ]
    }
   ],
   "source": [
    "dict1 = {11:[12,123,1223],12:[1453,12,3],\"Python\":\"Data Science\"} ## Integer as key\n",
    "\n",
    "print(dict1)"
   ]
  },
  {
   "cell_type": "code",
   "execution_count": 3,
   "id": "a9f898f8",
   "metadata": {},
   "outputs": [
    {
     "name": "stdout",
     "output_type": "stream",
     "text": [
      "{10.5: 10.7, 11.5: 11.7, 12.5: 12.7, 'Artificial': 'Intelligence', 'Key': 'Value'}\n"
     ]
    }
   ],
   "source": [
    "dict1 = {10.5:10.7, 11.5:11.7, 12.5: 12.7, \"Artificial\":\"Intelligence\",\"Key\":\"Value\"} ## Float as a key\n",
    "\n",
    "print(dict1)"
   ]
  },
  {
   "cell_type": "code",
   "execution_count": 4,
   "id": "8e9c46e6",
   "metadata": {},
   "outputs": [
    {
     "name": "stdout",
     "output_type": "stream",
     "text": [
      "{(3+5j): 5j, (9+7j): 7j, (10+9j): 9j, 'Algorithm': 'Linear Regression'}\n"
     ]
    }
   ],
   "source": [
    "dict1 = {3 + 5j: 5j, 9 + 7j: 7j, 10 + 9j:9j, \"Algorithm\":\"Linear Regression\"} ## Complex as key\n",
    "\n",
    "print(dict1)"
   ]
  },
  {
   "cell_type": "code",
   "execution_count": 5,
   "id": "f0b165e6",
   "metadata": {},
   "outputs": [
    {
     "ename": "TypeError",
     "evalue": "unhashable type: 'list'",
     "output_type": "error",
     "traceback": [
      "\u001b[1;31m---------------------------------------------------------------------------\u001b[0m",
      "\u001b[1;31mTypeError\u001b[0m                                 Traceback (most recent call last)",
      "Input \u001b[1;32mIn [5]\u001b[0m, in \u001b[0;36m<cell line: 1>\u001b[1;34m()\u001b[0m\n\u001b[1;32m----> 1\u001b[0m dict1 \u001b[38;5;241m=\u001b[39m {[\u001b[38;5;241m1\u001b[39m,\u001b[38;5;241m2\u001b[39m,\u001b[38;5;241m3\u001b[39m]:\u001b[38;5;241m6\u001b[39m,[\u001b[38;5;241m7\u001b[39m,\u001b[38;5;241m8\u001b[39m,\u001b[38;5;241m9\u001b[39m]:\u001b[38;5;241m24\u001b[39m, \u001b[38;5;124m\"\u001b[39m\u001b[38;5;124mList\u001b[39m\u001b[38;5;124m\"\u001b[39m:\u001b[38;5;124m\"\u001b[39m\u001b[38;5;124mAddition as value\u001b[39m\u001b[38;5;124m\"\u001b[39m} \u001b[38;5;66;03m## List as a key, \u001b[39;00m\n\u001b[0;32m      2\u001b[0m \u001b[38;5;28mprint\u001b[39m(dict1)\n",
      "\u001b[1;31mTypeError\u001b[0m: unhashable type: 'list'"
     ]
    }
   ],
   "source": [
    "dict1 = {[1,2,3]:6,[7,8,9]:24, \"List\":\"Addition as value\"} ## List as a key, \n",
    "print(dict1)                                               ## since list is mutable it will not be accepted as key"
   ]
  },
  {
   "cell_type": "code",
   "execution_count": 6,
   "id": "c85b3180",
   "metadata": {},
   "outputs": [
    {
     "name": "stdout",
     "output_type": "stream",
     "text": [
      "{(1, 2, 3): 6, (7, 8, 9): 24, 'Tuple': 'Addition'}\n"
     ]
    }
   ],
   "source": [
    "dict1 = {(1,2,3):6, (7,8,9):24, \"Tuple\":\"Addition\"} ## Tuple as a key\n",
    "\n",
    "print(dict1)"
   ]
  },
  {
   "cell_type": "code",
   "execution_count": 7,
   "id": "ee7f3549",
   "metadata": {},
   "outputs": [
    {
     "ename": "TypeError",
     "evalue": "unhashable type: 'set'",
     "output_type": "error",
     "traceback": [
      "\u001b[1;31m---------------------------------------------------------------------------\u001b[0m",
      "\u001b[1;31mTypeError\u001b[0m                                 Traceback (most recent call last)",
      "Input \u001b[1;32mIn [7]\u001b[0m, in \u001b[0;36m<cell line: 1>\u001b[1;34m()\u001b[0m\n\u001b[1;32m----> 1\u001b[0m dict1 \u001b[38;5;241m=\u001b[39m {{\u001b[38;5;241m1\u001b[39m,\u001b[38;5;241m2\u001b[39m,\u001b[38;5;241m3\u001b[39m}:\u001b[38;5;241m6\u001b[39m,{\u001b[38;5;241m7\u001b[39m,\u001b[38;5;241m8\u001b[39m,\u001b[38;5;241m9\u001b[39m}:\u001b[38;5;241m24\u001b[39m, \u001b[38;5;124m\"\u001b[39m\u001b[38;5;124mSet\u001b[39m\u001b[38;5;124m\"\u001b[39m:\u001b[38;5;124m\"\u001b[39m\u001b[38;5;124mAddition\u001b[39m\u001b[38;5;124m\"\u001b[39m} \u001b[38;5;66;03m## Set as a key\u001b[39;00m\n\u001b[0;32m      2\u001b[0m \u001b[38;5;28mprint\u001b[39m(dict1)\n",
      "\u001b[1;31mTypeError\u001b[0m: unhashable type: 'set'"
     ]
    }
   ],
   "source": [
    "dict1 = {{1,2,3}:6,{7,8,9}:24, \"Set\":\"Addition\"} ## Set as a key\n",
    "print(dict1)"
   ]
  },
  {
   "cell_type": "code",
   "execution_count": 8,
   "id": "84894001",
   "metadata": {},
   "outputs": [
    {
     "name": "stdout",
     "output_type": "stream",
     "text": [
      "{frozenset({1, 2, 3}): 6, frozenset({8, 9, 7}): 24, 'Set': 'Addition'}\n"
     ]
    }
   ],
   "source": [
    "dict1 = {frozenset({1,2,3}):6,frozenset({7,8,9}):24, \"Set\":\"Addition\"} ## Frozenset as a key\n",
    "print(dict1)"
   ]
  },
  {
   "cell_type": "markdown",
   "id": "b0e0ef5e",
   "metadata": {},
   "source": [
    "### Dictionary Functions to access items "
   ]
  },
  {
   "cell_type": "code",
   "execution_count": 9,
   "id": "58200569",
   "metadata": {},
   "outputs": [
    {
     "ename": "KeyError",
     "evalue": "0",
     "output_type": "error",
     "traceback": [
      "\u001b[1;31m---------------------------------------------------------------------------\u001b[0m",
      "\u001b[1;31mKeyError\u001b[0m                                  Traceback (most recent call last)",
      "Input \u001b[1;32mIn [9]\u001b[0m, in \u001b[0;36m<cell line: 3>\u001b[1;34m()\u001b[0m\n\u001b[0;32m      1\u001b[0m dict1 \u001b[38;5;241m=\u001b[39m {\u001b[38;5;124m\"\u001b[39m\u001b[38;5;124mA\u001b[39m\u001b[38;5;124m\"\u001b[39m:\u001b[38;5;241m100\u001b[39m,\u001b[38;5;124m\"\u001b[39m\u001b[38;5;124mB\u001b[39m\u001b[38;5;124m\"\u001b[39m:\u001b[38;5;241m200\u001b[39m,\u001b[38;5;124m\"\u001b[39m\u001b[38;5;124mC\u001b[39m\u001b[38;5;124m\"\u001b[39m:\u001b[38;5;241m300\u001b[39m,\u001b[38;5;124m\"\u001b[39m\u001b[38;5;124mD\u001b[39m\u001b[38;5;124m\"\u001b[39m:\u001b[38;5;241m400\u001b[39m}\n\u001b[1;32m----> 3\u001b[0m \u001b[43mdict1\u001b[49m\u001b[43m[\u001b[49m\u001b[38;5;241;43m0\u001b[39;49m\u001b[43m]\u001b[49m\n",
      "\u001b[1;31mKeyError\u001b[0m: 0"
     ]
    }
   ],
   "source": [
    "dict1 = {\"A\":100,\"B\":200,\"C\":300,\"D\":400}\n",
    "\n",
    "dict1[0]"
   ]
  },
  {
   "cell_type": "markdown",
   "id": "94f59920",
   "metadata": {},
   "source": [
    "Value can be accessed using key"
   ]
  },
  {
   "cell_type": "code",
   "execution_count": 10,
   "id": "ea356d36",
   "metadata": {},
   "outputs": [
    {
     "data": {
      "text/plain": [
       "100"
      ]
     },
     "execution_count": 10,
     "metadata": {},
     "output_type": "execute_result"
    }
   ],
   "source": [
    "dict1[\"A\"]"
   ]
  },
  {
   "cell_type": "code",
   "execution_count": 11,
   "id": "9eef29ba",
   "metadata": {},
   "outputs": [
    {
     "data": {
      "text/plain": [
       "400"
      ]
     },
     "execution_count": 11,
     "metadata": {},
     "output_type": "execute_result"
    }
   ],
   "source": [
    "dict1[\"D\"]"
   ]
  },
  {
   "cell_type": "markdown",
   "id": "e87bc03e",
   "metadata": {},
   "source": [
    "### 1. get()"
   ]
  },
  {
   "cell_type": "code",
   "execution_count": 12,
   "id": "28a97000",
   "metadata": {},
   "outputs": [
    {
     "data": {
      "text/plain": [
       "200"
      ]
     },
     "execution_count": 12,
     "metadata": {},
     "output_type": "execute_result"
    }
   ],
   "source": [
    "dict1 = {\"A\":100,\"B\":200,\"C\":300,\"D\":400,\"E\":350,\"F\":450}\n",
    "\n",
    "dict1.get(\"B\")"
   ]
  },
  {
   "cell_type": "code",
   "execution_count": 13,
   "id": "b3466f6b",
   "metadata": {},
   "outputs": [
    {
     "data": {
      "text/plain": [
       "450"
      ]
     },
     "execution_count": 13,
     "metadata": {},
     "output_type": "execute_result"
    }
   ],
   "source": [
    "dict1.get(\"F\")"
   ]
  },
  {
   "cell_type": "markdown",
   "id": "abab2ea3",
   "metadata": {},
   "source": [
    "### 2. keys()"
   ]
  },
  {
   "cell_type": "code",
   "execution_count": 14,
   "id": "70b26d23",
   "metadata": {},
   "outputs": [
    {
     "name": "stdout",
     "output_type": "stream",
     "text": [
      "{'A': 100, 'B': 200, 'C': 300, 'D': 400, 'E': 350, 'F': 450}\n"
     ]
    }
   ],
   "source": [
    "dict1 = {\"A\":100,\"B\":200,\"C\":300,\"D\":400,\"E\":350,\"F\":450}\n",
    "print(dict1)"
   ]
  },
  {
   "cell_type": "code",
   "execution_count": 15,
   "id": "2f526788",
   "metadata": {},
   "outputs": [
    {
     "data": {
      "text/plain": [
       "dict_keys(['A', 'B', 'C', 'D', 'E', 'F'])"
      ]
     },
     "execution_count": 15,
     "metadata": {},
     "output_type": "execute_result"
    }
   ],
   "source": [
    "dict1.keys()  ## This method will fetch a list all dictinary keys that are present in the given dict"
   ]
  },
  {
   "cell_type": "code",
   "execution_count": 16,
   "id": "b05a423b",
   "metadata": {},
   "outputs": [
    {
     "name": "stdout",
     "output_type": "stream",
     "text": [
      "dict_keys(['A', 'B', 'C', 'D', 'E', 'F'])\n"
     ]
    }
   ],
   "source": [
    "print(dict1.keys())"
   ]
  },
  {
   "cell_type": "code",
   "execution_count": 17,
   "id": "16add825",
   "metadata": {},
   "outputs": [
    {
     "data": {
      "text/plain": [
       "dict_keys(['Netflix', 'Hotstar', 'Prime', 'Zee', 'Sony'])"
      ]
     },
     "execution_count": 17,
     "metadata": {},
     "output_type": "execute_result"
    }
   ],
   "source": [
    "dict1 = {\"Netflix\":\"Stranger Things\", \"Hotstar\":\"House of Dragon\", \"Prime\":\"Rings of Power\",\"Zee\":\"1992\",\"Sony\":\"Scam 1992\"}\n",
    "\n",
    "dict1.keys()"
   ]
  },
  {
   "cell_type": "code",
   "execution_count": 18,
   "id": "f0502790",
   "metadata": {},
   "outputs": [
    {
     "name": "stdout",
     "output_type": "stream",
     "text": [
      "OTT is Netflix\n",
      "OTT is Hotstar\n",
      "OTT is Prime\n",
      "OTT is Zee\n",
      "OTT is Sony\n"
     ]
    }
   ],
   "source": [
    "for OTT in dict1.keys():\n",
    "    print(f\"OTT is {OTT}\")"
   ]
  },
  {
   "cell_type": "markdown",
   "id": "13d6ee82",
   "metadata": {},
   "source": [
    "### 3. Value()"
   ]
  },
  {
   "cell_type": "code",
   "execution_count": null,
   "id": "3397266b",
   "metadata": {},
   "outputs": [],
   "source": [
    "## This will fetch list of all the values in a given dictionary"
   ]
  },
  {
   "cell_type": "code",
   "execution_count": 21,
   "id": "cdace368",
   "metadata": {},
   "outputs": [
    {
     "data": {
      "text/plain": [
       "dict_values(['Stranger Things', 'House of Dragon', 'Rings of Power', '1992', 'Scam 1992'])"
      ]
     },
     "execution_count": 21,
     "metadata": {},
     "output_type": "execute_result"
    }
   ],
   "source": [
    "dict1 = {\"Netflix\":\"Stranger Things\", \"Hotstar\":\"House of Dragon\", \"Prime\":\"Rings of Power\",\"Zee\":\"1992\",\"Sony\":\"Scam 1992\"}\n",
    "\n",
    "dict1.values()\n",
    "\n"
   ]
  },
  {
   "cell_type": "code",
   "execution_count": 22,
   "id": "58ca69d2",
   "metadata": {},
   "outputs": [
    {
     "name": "stdout",
     "output_type": "stream",
     "text": [
      "The series is Stranger Things\n",
      "The series is House of Dragon\n",
      "The series is Rings of Power\n",
      "The series is 1992\n",
      "The series is Scam 1992\n"
     ]
    }
   ],
   "source": [
    "for series in dict1.values():\n",
    "    print(f\"The series is {series}\")"
   ]
  },
  {
   "cell_type": "markdown",
   "id": "df20154c",
   "metadata": {},
   "source": [
    "### 4. items()"
   ]
  },
  {
   "cell_type": "code",
   "execution_count": 23,
   "id": "05945b98",
   "metadata": {},
   "outputs": [
    {
     "data": {
      "text/plain": [
       "dict_items([('Netflix', 'Stranger Things'), ('Hotstar', 'House of Dragon'), ('Prime', 'Rings of Power'), ('Zee', '1992'), ('Sony', 'Scam 1992')])"
      ]
     },
     "execution_count": 23,
     "metadata": {},
     "output_type": "execute_result"
    }
   ],
   "source": [
    "dict1 = {\"Netflix\":\"Stranger Things\", \"Hotstar\":\"House of Dragon\", \"Prime\":\"Rings of Power\",\"Zee\":\"1992\",\"Sony\":\"Scam 1992\"}\n",
    "\n",
    "dict1.items()"
   ]
  },
  {
   "cell_type": "code",
   "execution_count": null,
   "id": "e3fe3b30",
   "metadata": {},
   "outputs": [],
   "source": [
    "## This returns an object dict_items which has a list of tuples containing keys and values"
   ]
  },
  {
   "cell_type": "code",
   "execution_count": 24,
   "id": "218c5210",
   "metadata": {},
   "outputs": [
    {
     "name": "stdout",
     "output_type": "stream",
     "text": [
      "Item is : ('Netflix', 'Stranger Things')\n",
      "Item is : ('Hotstar', 'House of Dragon')\n",
      "Item is : ('Prime', 'Rings of Power')\n",
      "Item is : ('Zee', '1992')\n",
      "Item is : ('Sony', 'Scam 1992')\n"
     ]
    }
   ],
   "source": [
    "for item in dict1.items():\n",
    "    print(f\"Item is : {item}\")"
   ]
  },
  {
   "cell_type": "code",
   "execution_count": 26,
   "id": "5b406424",
   "metadata": {},
   "outputs": [
    {
     "name": "stdout",
     "output_type": "stream",
     "text": [
      "The OTT platform is : Netflix and the best Series is: Stranger Things\n",
      "The OTT platform is : Hotstar and the best Series is: House of Dragon\n",
      "The OTT platform is : Prime and the best Series is: Rings of Power\n",
      "The OTT platform is : Zee and the best Series is: 1992\n",
      "The OTT platform is : Sony and the best Series is: Scam 1992\n"
     ]
    }
   ],
   "source": [
    "for OTT, series in dict1.items():\n",
    "    print(f\"The OTT platform is : {OTT} and the best Series is: {series}\")"
   ]
  },
  {
   "cell_type": "code",
   "execution_count": 27,
   "id": "4d0f7876",
   "metadata": {},
   "outputs": [
    {
     "name": "stdout",
     "output_type": "stream",
     "text": [
      "Key : Netflix    Value:Stranger Things\n",
      "Key : Hotstar    Value:House of Dragon\n",
      "Key : Prime    Value:Rings of Power\n",
      "Key : Zee    Value:1992\n",
      "Key : Sony    Value:Scam 1992\n"
     ]
    }
   ],
   "source": [
    "for key, value in dict1.items():\n",
    "    print(f\"Key : {key}    Value: {value}\")"
   ]
  },
  {
   "cell_type": "markdown",
   "id": "9004cf38",
   "metadata": {},
   "source": [
    "### Adding Items to Dictinary"
   ]
  },
  {
   "cell_type": "code",
   "execution_count": 28,
   "id": "4c32c539",
   "metadata": {},
   "outputs": [
    {
     "name": "stdout",
     "output_type": "stream",
     "text": [
      "{'Netflix': 'Stranger Things', 'Hotstar': 'House of Dragon', 'Prime': 'Rings of Power', 'Zee': '1992', 'Sony': 'Scam 1992'}\n"
     ]
    }
   ],
   "source": [
    "dict1 = {\"Netflix\":\"Stranger Things\", \"Hotstar\":\"House of Dragon\", \"Prime\":\"Rings of Power\",\"Zee\":\"1992\",\"Sony\":\"Scam 1992\"}\n",
    "\n",
    "print(dict1)"
   ]
  },
  {
   "cell_type": "code",
   "execution_count": 29,
   "id": "35ac334a",
   "metadata": {},
   "outputs": [
    {
     "name": "stdout",
     "output_type": "stream",
     "text": [
      "{'Netflix': 'Stranger Things', 'Hotstar': 'House of Dragon', 'Prime': 'Rings of Power', 'Zee': '1992', 'Sony': 'Scam 1992', 'Voot': None}\n"
     ]
    }
   ],
   "source": [
    "## Adding a single key to the dictionary\n",
    "dict1[\"Voot\"] = None\n",
    "\n",
    "print(dict1)"
   ]
  },
  {
   "cell_type": "code",
   "execution_count": 30,
   "id": "20a09bc5",
   "metadata": {},
   "outputs": [
    {
     "name": "stdout",
     "output_type": "stream",
     "text": [
      "{'Netflix': 'Stranger Things', 'Hotstar': 'House of Dragon', 'Prime': 'Rings of Power', 'Zee': '1992', 'Sony': 'Scam 1992', 'Voot': 'Asur'}\n"
     ]
    }
   ],
   "source": [
    "## Change the value of the key\n",
    "\n",
    "dict1[\"Voot\"] = \"Asur\"\n",
    "print(dict1)"
   ]
  },
  {
   "cell_type": "markdown",
   "id": "a281a39c",
   "metadata": {},
   "source": [
    "### Extending the dictionary"
   ]
  },
  {
   "cell_type": "code",
   "execution_count": 31,
   "id": "a3e78760",
   "metadata": {},
   "outputs": [
    {
     "name": "stdout",
     "output_type": "stream",
     "text": [
      "{1: 1, 2: 4, 3: 9, 4: 16, 5: 25, 6: 36}\n",
      "{4: 16, 5: 25, 6: 36}\n"
     ]
    }
   ],
   "source": [
    "d1 = {1:1,2:4,3:9}\n",
    "d2 = {4:16,5:25,6:36}\n",
    "\n",
    "d1.update(d2)\n",
    "\n",
    "print(d1)\n",
    "print(d2)"
   ]
  },
  {
   "cell_type": "code",
   "execution_count": 32,
   "id": "32ea1ce9",
   "metadata": {},
   "outputs": [
    {
     "name": "stdout",
     "output_type": "stream",
     "text": [
      "{1: 1, 2: 4, 3: 9, 4: 16}\n"
     ]
    }
   ],
   "source": [
    "d1 = {1:1,2:4,3:9}\n",
    "d2 = {4:16}\n",
    "\n",
    "d1.update(d2)\n",
    "print(d1)"
   ]
  },
  {
   "cell_type": "code",
   "execution_count": 33,
   "id": "94dab389",
   "metadata": {},
   "outputs": [
    {
     "name": "stdout",
     "output_type": "stream",
     "text": [
      "{1: 1, 2: 4, 3: 9}\n",
      "{4: 16, 1: 1, 2: 4, 3: 9}\n"
     ]
    }
   ],
   "source": [
    "d1 = {1:1,2:4,3:9}\n",
    "d2 = {4:16}\n",
    "\n",
    "d2.update(d1)\n",
    "print(d1)\n",
    "print(d2)"
   ]
  },
  {
   "cell_type": "markdown",
   "id": "3bfc23f6",
   "metadata": {},
   "source": [
    "## Creating a dictionary with list and enumerate"
   ]
  },
  {
   "cell_type": "code",
   "execution_count": 40,
   "id": "228112bb",
   "metadata": {},
   "outputs": [
    {
     "name": "stdout",
     "output_type": "stream",
     "text": [
      "{'Sachin': 45}\n",
      "{'Sachin': 45, 'Virendra': 40}\n",
      "{'Sachin': 45, 'Virendra': 40, 'Saurav': 53}\n",
      "{'Sachin': 45, 'Virendra': 40, 'Saurav': 53, 'Ajay': 57}\n",
      "{'Sachin': 45, 'Virendra': 40, 'Saurav': 53, 'Ajay': 57, 'Robin': 60}\n"
     ]
    }
   ],
   "source": [
    "names = [\"Sachin\",\"Virendra\",\"Saurav\",\"Ajay\",\"Robin\"]\n",
    "age = [45,40,53,57,60]\n",
    "\n",
    "name_age = {}\n",
    "\n",
    "for i,name in enumerate(names):\n",
    "    name_age.update({name:age[i]})\n",
    "    print(name_age)"
   ]
  },
  {
   "cell_type": "code",
   "execution_count": 39,
   "id": "fcfd2dbe",
   "metadata": {},
   "outputs": [
    {
     "name": "stdout",
     "output_type": "stream",
     "text": [
      "{'Sachin': 45}\n",
      "{'Sachin': 45, 'Virendra': 40}\n",
      "{'Sachin': 45, 'Virendra': 40, 'Saurav': 53}\n",
      "{'Sachin': 45, 'Virendra': 40, 'Saurav': 53, 'Ajay': 57}\n",
      "{'Sachin': 45, 'Virendra': 40, 'Saurav': 53, 'Ajay': 57, 'Robin': 60}\n"
     ]
    }
   ],
   "source": [
    "names = [\"Sachin\",\"Virendra\",\"Saurav\",\"Ajay\",\"Robin\"]\n",
    "age = [45,40,53,57,60]\n",
    "\n",
    "name_age = {}\n",
    "\n",
    "for i,name in enumerate(names):  \n",
    "    name_age[name] = age[i]\n",
    "    print(name_age)"
   ]
  },
  {
   "cell_type": "code",
   "execution_count": null,
   "id": "91eabd68",
   "metadata": {},
   "outputs": [],
   "source": [
    "Iteration    index       names\n",
    "1              0         Sachin\n",
    "2              1        Virendra\n",
    "3              2         Saurav"
   ]
  },
  {
   "cell_type": "markdown",
   "id": "3bb06ae8",
   "metadata": {},
   "source": [
    "### Dictionary Function"
   ]
  },
  {
   "cell_type": "code",
   "execution_count": null,
   "id": "579f0bd9",
   "metadata": {},
   "outputs": [],
   "source": [
    "1. get()\n",
    "2. keys()\n",
    "3. values()\n",
    "4. items()\n",
    "5. update()\n",
    "\n",
    "6. pop()\n",
    "7. popitem()\n",
    "8. clear()\n",
    "9. fromkeys()\n",
    "10. setdefault()\n",
    "11. copy()"
   ]
  },
  {
   "cell_type": "markdown",
   "id": "d6660067",
   "metadata": {},
   "source": [
    "### 6. pop()"
   ]
  },
  {
   "cell_type": "code",
   "execution_count": 41,
   "id": "b80e99b0",
   "metadata": {},
   "outputs": [
    {
     "name": "stdout",
     "output_type": "stream",
     "text": [
      "{'Name': 'Rajendra', 'Age': 47, 'Salary': 50000, 'Designation': 'Machine Learning Engineer', 'Company': 'TCS'}\n"
     ]
    }
   ],
   "source": [
    "dict1 = {\"Name\":\"Rajendra\",\n",
    "        \"Age\":47,\n",
    "        \"Salary\":50000,\n",
    "        \"Designation\":\"Machine Learning Engineer\",\n",
    "        \"Company\": \"TCS\"}\n",
    "print(dict1)"
   ]
  },
  {
   "cell_type": "code",
   "execution_count": 42,
   "id": "8f766979",
   "metadata": {},
   "outputs": [
    {
     "ename": "TypeError",
     "evalue": "pop expected at least 1 argument, got 0",
     "output_type": "error",
     "traceback": [
      "\u001b[1;31m---------------------------------------------------------------------------\u001b[0m",
      "\u001b[1;31mTypeError\u001b[0m                                 Traceback (most recent call last)",
      "Input \u001b[1;32mIn [42]\u001b[0m, in \u001b[0;36m<cell line: 1>\u001b[1;34m()\u001b[0m\n\u001b[1;32m----> 1\u001b[0m \u001b[43mdict1\u001b[49m\u001b[38;5;241;43m.\u001b[39;49m\u001b[43mpop\u001b[49m\u001b[43m(\u001b[49m\u001b[43m)\u001b[49m\n",
      "\u001b[1;31mTypeError\u001b[0m: pop expected at least 1 argument, got 0"
     ]
    }
   ],
   "source": [
    "dict1.pop()"
   ]
  },
  {
   "cell_type": "code",
   "execution_count": 43,
   "id": "bb0e4193",
   "metadata": {},
   "outputs": [
    {
     "data": {
      "text/plain": [
       "'Machine Learning Engineer'"
      ]
     },
     "execution_count": 43,
     "metadata": {},
     "output_type": "execute_result"
    }
   ],
   "source": [
    "dict1.pop(\"Designation\")"
   ]
  },
  {
   "cell_type": "code",
   "execution_count": 44,
   "id": "4a1155b3",
   "metadata": {},
   "outputs": [
    {
     "name": "stdout",
     "output_type": "stream",
     "text": [
      "{'Name': 'Rajendra', 'Age': 47, 'Salary': 50000, 'Company': 'TCS'}\n"
     ]
    }
   ],
   "source": [
    "print(dict1)"
   ]
  },
  {
   "cell_type": "code",
   "execution_count": 45,
   "id": "0b6856d0",
   "metadata": {},
   "outputs": [
    {
     "name": "stdout",
     "output_type": "stream",
     "text": [
      "{'Name': 'Rajendra', 'Age': 47, 'Salary': 50000, 'Designation': 'Machine Learning Engineer', 'Company': 'TCS'}\n",
      "\n",
      "Dictionry after popping Designation\n",
      "{'Name': 'Rajendra', 'Age': 47, 'Salary': 50000, 'Company': 'TCS'}\n",
      "\n",
      "Value Popped: Machine Learning Engineer\n"
     ]
    }
   ],
   "source": [
    "dict1 = {\"Name\":\"Rajendra\",\n",
    "        \"Age\":47,\n",
    "        \"Salary\":50000,\n",
    "        \"Designation\":\"Machine Learning Engineer\",\n",
    "        \"Company\": \"TCS\"}\n",
    "print(dict1)\n",
    "des = dict1.pop(\"Designation\")\n",
    "print()\n",
    "print(\"Dictionry after popping Designation\")\n",
    "print(dict1)\n",
    "print()\n",
    "print(f\"Value Popped: {des}\")"
   ]
  },
  {
   "cell_type": "code",
   "execution_count": 46,
   "id": "ea544c4e",
   "metadata": {},
   "outputs": [
    {
     "data": {
      "text/plain": [
       "47"
      ]
     },
     "execution_count": 46,
     "metadata": {},
     "output_type": "execute_result"
    }
   ],
   "source": [
    "dict1.pop(\"Age\")"
   ]
  },
  {
   "cell_type": "markdown",
   "id": "0a590a25",
   "metadata": {},
   "source": [
    "### 7.popitem()"
   ]
  },
  {
   "cell_type": "code",
   "execution_count": null,
   "id": "964dfcba",
   "metadata": {},
   "outputs": [],
   "source": [
    "## It will pop the last item in a dictionary"
   ]
  },
  {
   "cell_type": "code",
   "execution_count": 47,
   "id": "7548df8c",
   "metadata": {},
   "outputs": [
    {
     "data": {
      "text/plain": [
       "('Company', 'TCS')"
      ]
     },
     "execution_count": 47,
     "metadata": {},
     "output_type": "execute_result"
    }
   ],
   "source": [
    "dict1 = {\"Name\":\"Rajendra\",\n",
    "        \"Age\":47,\n",
    "        \"Salary\":50000,\n",
    "        \"Designation\":\"Machine Learning Engineer\",\n",
    "        \"Company\": \"TCS\"}\n",
    "dict1.popitem()"
   ]
  },
  {
   "cell_type": "code",
   "execution_count": 49,
   "id": "52c5a64c",
   "metadata": {},
   "outputs": [
    {
     "name": "stdout",
     "output_type": "stream",
     "text": [
      "Key popped: Company\n",
      "Value popped : TCS\n"
     ]
    }
   ],
   "source": [
    "dict1 = {\"Name\":\"Rajendra\",\n",
    "        \"Age\":47,\n",
    "        \"Salary\":50000,\n",
    "        \"Designation\":\"Machine Learning Engineer\",\n",
    "        \"Company\": \"TCS\"}\n",
    "\n",
    "key,value = dict1.popitem()\n",
    "\n",
    "print(f\"Key popped: {key}\")\n",
    "print(f\"Value popped : {value}\")"
   ]
  },
  {
   "cell_type": "code",
   "execution_count": 50,
   "id": "1eaaeac0",
   "metadata": {},
   "outputs": [
    {
     "name": "stdout",
     "output_type": "stream",
     "text": [
      "Key popped: Designation\n",
      "Value popped : Machine Learning Engineer\n"
     ]
    }
   ],
   "source": [
    "key,value = dict1.popitem()\n",
    "\n",
    "print(f\"Key popped: {key}\")\n",
    "print(f\"Value popped : {value}\")"
   ]
  },
  {
   "cell_type": "code",
   "execution_count": 51,
   "id": "7a8a6779",
   "metadata": {},
   "outputs": [
    {
     "name": "stdout",
     "output_type": "stream",
     "text": [
      "Key popped: Salary\n",
      "Value popped : 50000\n"
     ]
    }
   ],
   "source": [
    "key,value = dict1.popitem()\n",
    "\n",
    "print(f\"Key popped: {key}\")\n",
    "print(f\"Value popped : {value}\")"
   ]
  },
  {
   "cell_type": "markdown",
   "id": "1ab1c9da",
   "metadata": {},
   "source": [
    "### 8. clear()"
   ]
  },
  {
   "cell_type": "code",
   "execution_count": 52,
   "id": "2d1b08b9",
   "metadata": {},
   "outputs": [
    {
     "name": "stdout",
     "output_type": "stream",
     "text": [
      "{}\n"
     ]
    }
   ],
   "source": [
    "dict1 = {\"Name\":\"Rajendra\",\n",
    "        \"Age\":47,\n",
    "        \"Salary\":50000,\n",
    "        \"Designation\":\"Machine Learning Engineer\",\n",
    "        \"Company\": \"TCS\"}\n",
    "\n",
    "dict1.clear()\n",
    "print(dict1)"
   ]
  },
  {
   "cell_type": "markdown",
   "id": "feb1bcf6",
   "metadata": {},
   "source": [
    "### 9. del keyword"
   ]
  },
  {
   "cell_type": "code",
   "execution_count": 54,
   "id": "a12920bc",
   "metadata": {},
   "outputs": [
    {
     "name": "stdout",
     "output_type": "stream",
     "text": [
      "{'Name': 'Rajendra', 'Age': 47, 'Salary': 50000, 'Designation': 'Machine Learning Engineer', 'Company': 'TCS'}\n"
     ]
    }
   ],
   "source": [
    "dict1 = {\"Name\":\"Rajendra\",\n",
    "        \"Age\":47,\n",
    "        \"Salary\":50000,\n",
    "        \"Designation\":\"Machine Learning Engineer\",\n",
    "        \"Company\": \"TCS\"}\n",
    "print(dict1)"
   ]
  },
  {
   "cell_type": "code",
   "execution_count": 55,
   "id": "1134e0ea",
   "metadata": {},
   "outputs": [],
   "source": [
    "del dict1"
   ]
  },
  {
   "cell_type": "code",
   "execution_count": 56,
   "id": "cb5ec694",
   "metadata": {},
   "outputs": [
    {
     "ename": "NameError",
     "evalue": "name 'dict1' is not defined",
     "output_type": "error",
     "traceback": [
      "\u001b[1;31m---------------------------------------------------------------------------\u001b[0m",
      "\u001b[1;31mNameError\u001b[0m                                 Traceback (most recent call last)",
      "Input \u001b[1;32mIn [56]\u001b[0m, in \u001b[0;36m<cell line: 1>\u001b[1;34m()\u001b[0m\n\u001b[1;32m----> 1\u001b[0m \u001b[38;5;28mprint\u001b[39m(\u001b[43mdict1\u001b[49m)\n",
      "\u001b[1;31mNameError\u001b[0m: name 'dict1' is not defined"
     ]
    }
   ],
   "source": [
    "print(dict1)"
   ]
  },
  {
   "cell_type": "markdown",
   "id": "3caf8976",
   "metadata": {},
   "source": [
    "### 10. copy()"
   ]
  },
  {
   "cell_type": "code",
   "execution_count": 57,
   "id": "f5f904cb",
   "metadata": {},
   "outputs": [
    {
     "name": "stdout",
     "output_type": "stream",
     "text": [
      "{'Name': 'Rajendra', 'Age': 47, 'Salary': 50000, 'Designation': 'Machine Learning Engineer', 'Company': 'TCS', 'Hike': 10000}\n"
     ]
    }
   ],
   "source": [
    "dict1 = {\"Name\":\"Rajendra\",\n",
    "        \"Age\":47,\n",
    "        \"Salary\":50000,\n",
    "        \"Designation\":\"Machine Learning Engineer\",\n",
    "        \"Company\": \"TCS\"}\n",
    "\n",
    "dict2 = dict1\n",
    "\n",
    "dict1[\"Hike\"] = 10000\n",
    "\n",
    "print(dict1)"
   ]
  },
  {
   "cell_type": "code",
   "execution_count": 58,
   "id": "d8df9f0a",
   "metadata": {},
   "outputs": [
    {
     "data": {
      "text/plain": [
       "{'Name': 'Rajendra',\n",
       " 'Age': 47,\n",
       " 'Salary': 50000,\n",
       " 'Designation': 'Machine Learning Engineer',\n",
       " 'Company': 'TCS',\n",
       " 'Hike': 10000}"
      ]
     },
     "execution_count": 58,
     "metadata": {},
     "output_type": "execute_result"
    }
   ],
   "source": [
    "dict2"
   ]
  },
  {
   "cell_type": "code",
   "execution_count": 59,
   "id": "16af77f3",
   "metadata": {},
   "outputs": [
    {
     "name": "stdout",
     "output_type": "stream",
     "text": [
      "ID dict1: 2182909836416\n",
      "ID dict2: 2182909836416\n"
     ]
    }
   ],
   "source": [
    "print(f\"ID dict1: {id(dict1)}\")\n",
    "print(f\"ID dict2: {id(dict2)}\")"
   ]
  },
  {
   "cell_type": "code",
   "execution_count": 60,
   "id": "f76f0699",
   "metadata": {},
   "outputs": [
    {
     "name": "stdout",
     "output_type": "stream",
     "text": [
      "{'Name': 'Rajendra', 'Age': 47, 'Salary': 50000, 'Designation': 'Machine Learning Engineer', 'Company': 'TCS', 'Hike': 10000}\n",
      "{'Name': 'Rajendra', 'Age': 47, 'Salary': 50000, 'Designation': 'Machine Learning Engineer', 'Company': 'TCS'}\n"
     ]
    }
   ],
   "source": [
    "## With copy\n",
    "\n",
    "dict1 = {\"Name\":\"Rajendra\",\n",
    "        \"Age\":47,\n",
    "        \"Salary\":50000,\n",
    "        \"Designation\":\"Machine Learning Engineer\",\n",
    "        \"Company\": \"TCS\"}\n",
    "\n",
    "dict2 = dict1.copy()\n",
    "\n",
    "dict1[\"Hike\"] = 10000\n",
    "\n",
    "print(dict1)\n",
    "print(dict2)"
   ]
  },
  {
   "cell_type": "code",
   "execution_count": 61,
   "id": "c356db48",
   "metadata": {},
   "outputs": [
    {
     "name": "stdout",
     "output_type": "stream",
     "text": [
      "ID dict1: 2182909998208\n",
      "ID dict2: 2182881012928\n"
     ]
    }
   ],
   "source": [
    "print(f\"ID dict1: {id(dict1)}\")\n",
    "print(f\"ID dict2: {id(dict2)}\")"
   ]
  },
  {
   "cell_type": "code",
   "execution_count": 64,
   "id": "e312172d",
   "metadata": {},
   "outputs": [
    {
     "name": "stdout",
     "output_type": "stream",
     "text": [
      "{'Name': 'Rajendra', 'Age': 47, 'Year': [1, 2, 3], 'Salary': [40000, 60000, 70000], 'Designation': 'Machine Learning Engineer', 'Company': 'TCS'}\n"
     ]
    }
   ],
   "source": [
    "dict1 = {\"Name\":\"Rajendra\",\n",
    "        \"Age\":47,\n",
    "         \"Year\":[1,2,3],\n",
    "        \"Salary\":[50000,60000,70000],\n",
    "        \"Designation\":\"Machine Learning Engineer\",\n",
    "        \"Company\": \"TCS\"}\n",
    "\n",
    "dict2 = dict1.copy()\n",
    "\n",
    "dict1[\"Salary\"][0] = 40000\n",
    "\n",
    "print(dict1)"
   ]
  },
  {
   "cell_type": "code",
   "execution_count": 65,
   "id": "7a7f7555",
   "metadata": {},
   "outputs": [
    {
     "data": {
      "text/plain": [
       "{'Name': 'Rajendra',\n",
       " 'Age': 47,\n",
       " 'Year': [1, 2, 3],\n",
       " 'Salary': [40000, 60000, 70000],\n",
       " 'Designation': 'Machine Learning Engineer',\n",
       " 'Company': 'TCS'}"
      ]
     },
     "execution_count": 65,
     "metadata": {},
     "output_type": "execute_result"
    }
   ],
   "source": [
    "dict2"
   ]
  },
  {
   "cell_type": "markdown",
   "id": "9b9aab6b",
   "metadata": {},
   "source": [
    "### Deepcopy"
   ]
  },
  {
   "cell_type": "code",
   "execution_count": 67,
   "id": "58fd3595",
   "metadata": {},
   "outputs": [
    {
     "name": "stdout",
     "output_type": "stream",
     "text": [
      "{'Name': 'Rajendra', 'Age': 47, 'Year': [1, 2, 3], 'Salary': [40000, 60000, 70000], 'Designation': 'Machine Learning Engineer', 'Company': 'TCS'}\n"
     ]
    }
   ],
   "source": [
    "import copy\n",
    "dict1 = {\"Name\":\"Rajendra\",\n",
    "        \"Age\":47,\n",
    "         \"Year\":[1,2,3],\n",
    "        \"Salary\":[50000,60000,70000],\n",
    "        \"Designation\":\"Machine Learning Engineer\",\n",
    "        \"Company\": \"TCS\"}\n",
    "\n",
    "dict2 = copy.deepcopy(dict1)\n",
    "\n",
    "dict1[\"Salary\"][0] = 40000\n",
    "\n",
    "print(dict1)\n",
    "\n"
   ]
  },
  {
   "cell_type": "code",
   "execution_count": 68,
   "id": "6c3d3909",
   "metadata": {},
   "outputs": [
    {
     "data": {
      "text/plain": [
       "{'Name': 'Rajendra',\n",
       " 'Age': 47,\n",
       " 'Year': [1, 2, 3],\n",
       " 'Salary': [50000, 60000, 70000],\n",
       " 'Designation': 'Machine Learning Engineer',\n",
       " 'Company': 'TCS'}"
      ]
     },
     "execution_count": 68,
     "metadata": {},
     "output_type": "execute_result"
    }
   ],
   "source": [
    "dict2"
   ]
  },
  {
   "cell_type": "markdown",
   "id": "5d77651e",
   "metadata": {},
   "source": [
    "## 11. fromkeys()"
   ]
  },
  {
   "cell_type": "code",
   "execution_count": null,
   "id": "d1d74136",
   "metadata": {},
   "outputs": [],
   "source": [
    "dict.fromkeys(sequence,[val])"
   ]
  },
  {
   "cell_type": "code",
   "execution_count": null,
   "id": "97713637",
   "metadata": {},
   "outputs": [],
   "source": [
    "## fromkeys is used for creating a dictionary"
   ]
  },
  {
   "cell_type": "code",
   "execution_count": 69,
   "id": "4f6aedbf",
   "metadata": {},
   "outputs": [
    {
     "name": "stdout",
     "output_type": "stream",
     "text": [
      "{'Phy': None, 'Chem': None, 'Math': None, 'Bio': None, 'Comp': None, 'Eng': None, 'Voc': None}\n"
     ]
    }
   ],
   "source": [
    "sub_list = [\"Phy\",\"Chem\",\"Math\",\"Bio\",\"Comp\",\"Eng\",\"Voc\"]\n",
    "\n",
    "sub_mark_dict = dict.fromkeys(sub_list)\n",
    "\n",
    "print(sub_mark_dict)"
   ]
  },
  {
   "cell_type": "code",
   "execution_count": 70,
   "id": "b05580c0",
   "metadata": {},
   "outputs": [
    {
     "name": "stdout",
     "output_type": "stream",
     "text": [
      "{'Phy': 90, 'Chem': 90, 'Math': 90, 'Bio': 90, 'Comp': 90, 'Eng': 90, 'Voc': 90}\n"
     ]
    }
   ],
   "source": [
    "### With value\n",
    "\n",
    "sub_list = [\"Phy\",\"Chem\",\"Math\",\"Bio\",\"Comp\",\"Eng\",\"Voc\"]\n",
    "\n",
    "sub_mark_dict = dict.fromkeys(sub_list,90)\n",
    "\n",
    "print(sub_mark_dict)"
   ]
  },
  {
   "cell_type": "code",
   "execution_count": 71,
   "id": "cc0b893f",
   "metadata": {},
   "outputs": [
    {
     "name": "stdout",
     "output_type": "stream",
     "text": [
      "{'Phy': [90, 89, 99, 75, 86, 87, 85], 'Chem': [90, 89, 99, 75, 86, 87, 85], 'Math': [90, 89, 99, 75, 86, 87, 85], 'Bio': [90, 89, 99, 75, 86, 87, 85], 'Comp': [90, 89, 99, 75, 86, 87, 85], 'Eng': [90, 89, 99, 75, 86, 87, 85], 'Voc': [90, 89, 99, 75, 86, 87, 85]}\n"
     ]
    }
   ],
   "source": [
    "### With values\n",
    "\n",
    "sub_list = [\"Phy\",\"Chem\",\"Math\",\"Bio\",\"Comp\",\"Eng\",\"Voc\"]\n",
    "marks = [90,89,99,75,86,87,85]\n",
    "\n",
    "sub_mark_dict = dict.fromkeys(sub_list,marks)\n",
    "\n",
    "print(sub_mark_dict)\n"
   ]
  },
  {
   "cell_type": "markdown",
   "id": "7db045cb",
   "metadata": {},
   "source": [
    "### with zip"
   ]
  },
  {
   "cell_type": "code",
   "execution_count": 72,
   "id": "d2fbd0ca",
   "metadata": {},
   "outputs": [
    {
     "data": {
      "text/plain": [
       "<zip at 0x1fc40602400>"
      ]
     },
     "execution_count": 72,
     "metadata": {},
     "output_type": "execute_result"
    }
   ],
   "source": [
    "sub_list = [\"Phy\",\"Chem\",\"Math\",\"Bio\",\"Comp\",\"Eng\",\"Voc\"]\n",
    "marks = [90,89,99,75,86,87,85]\n",
    "\n",
    "zip(sub_list,marks)"
   ]
  },
  {
   "cell_type": "code",
   "execution_count": 73,
   "id": "d1b289c0",
   "metadata": {},
   "outputs": [
    {
     "name": "stdout",
     "output_type": "stream",
     "text": [
      "('Phy', 90)\n",
      "('Chem', 89)\n",
      "('Math', 99)\n",
      "('Bio', 75)\n",
      "('Comp', 86)\n",
      "('Eng', 87)\n",
      "('Voc', 85)\n"
     ]
    }
   ],
   "source": [
    "for item in zip(sub_list,marks):\n",
    "    print(item)"
   ]
  },
  {
   "cell_type": "code",
   "execution_count": 74,
   "id": "8cf874c5",
   "metadata": {},
   "outputs": [
    {
     "data": {
      "text/plain": [
       "{'Phy': 90,\n",
       " 'Chem': 89,\n",
       " 'Math': 99,\n",
       " 'Bio': 75,\n",
       " 'Comp': 86,\n",
       " 'Eng': 87,\n",
       " 'Voc': 85}"
      ]
     },
     "execution_count": 74,
     "metadata": {},
     "output_type": "execute_result"
    }
   ],
   "source": [
    "dict(zip(sub_list,marks))"
   ]
  },
  {
   "cell_type": "code",
   "execution_count": null,
   "id": "d1cd84a0",
   "metadata": {},
   "outputs": [],
   "source": []
  }
 ],
 "metadata": {
  "kernelspec": {
   "display_name": "Python 3 (ipykernel)",
   "language": "python",
   "name": "python3"
  },
  "language_info": {
   "codemirror_mode": {
    "name": "ipython",
    "version": 3
   },
   "file_extension": ".py",
   "mimetype": "text/x-python",
   "name": "python",
   "nbconvert_exporter": "python",
   "pygments_lexer": "ipython3",
   "version": "3.9.12"
  }
 },
 "nbformat": 4,
 "nbformat_minor": 5
}
