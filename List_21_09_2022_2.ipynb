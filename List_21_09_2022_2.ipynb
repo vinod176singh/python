{
 "cells": [
  {
   "cell_type": "markdown",
   "id": "8eb7c658",
   "metadata": {},
   "source": [
    "# LIST"
   ]
  },
  {
   "cell_type": "markdown",
   "id": "2b0489b3",
   "metadata": {},
   "source": [
    "List is a collection of items\n",
    "We can add any datatype to it\n",
    "Data Type >> int, float, complex, bool, str, byte, dict, tuple, set, frozenset, bytearray, None, numpy array, pandas dataframe, \n",
    "          >> list, pandas series"
   ]
  },
  {
   "cell_type": "markdown",
   "id": "75050e08",
   "metadata": {},
   "source": [
    "### Properties of List"
   ]
  },
  {
   "cell_type": "code",
   "execution_count": null,
   "id": "97a877f5",
   "metadata": {},
   "outputs": [],
   "source": [
    "1. Mutable Datatype >> we can alter the content of the list\n",
    "2. It is the ordered datatype >> It has indexing\n",
    "3. Duplicate items are allowed\n",
    "4. List is enclosed by [ ]\n",
    "5. Items are comma seperated"
   ]
  },
  {
   "cell_type": "code",
   "execution_count": null,
   "id": "0dbb867c",
   "metadata": {},
   "outputs": [],
   "source": [
    "# Example of list\n",
    "list1 = [1,2,3,4,5,\"Python\",\"Data Science\",(1,2,3,4), {12,,13,14}]"
   ]
  },
  {
   "cell_type": "markdown",
   "id": "ea526206",
   "metadata": {},
   "source": [
    "#### How to intiate a list?"
   ]
  },
  {
   "cell_type": "code",
   "execution_count": 1,
   "id": "f0251fee",
   "metadata": {},
   "outputs": [],
   "source": [
    "list1 = []"
   ]
  },
  {
   "cell_type": "code",
   "execution_count": 2,
   "id": "821a7b96",
   "metadata": {},
   "outputs": [
    {
     "data": {
      "text/plain": [
       "list"
      ]
     },
     "execution_count": 2,
     "metadata": {},
     "output_type": "execute_result"
    }
   ],
   "source": [
    "type(list1)"
   ]
  },
  {
   "cell_type": "code",
   "execution_count": 6,
   "id": "51e874cf",
   "metadata": {},
   "outputs": [
    {
     "data": {
      "text/plain": [
       "list"
      ]
     },
     "execution_count": 6,
     "metadata": {},
     "output_type": "execute_result"
    }
   ],
   "source": [
    "list2 = list()\n",
    "type(list2)"
   ]
  },
  {
   "cell_type": "code",
   "execution_count": null,
   "id": "a86e1394",
   "metadata": {},
   "outputs": [],
   "source": []
  }
 ],
 "metadata": {
  "kernelspec": {
   "display_name": "Python 3 (ipykernel)",
   "language": "python",
   "name": "python3"
  },
  "language_info": {
   "codemirror_mode": {
    "name": "ipython",
    "version": 3
   },
   "file_extension": ".py",
   "mimetype": "text/x-python",
   "name": "python",
   "nbconvert_exporter": "python",
   "pygments_lexer": "ipython3",
   "version": "3.9.12"
  }
 },
 "nbformat": 4,
 "nbformat_minor": 5
}
