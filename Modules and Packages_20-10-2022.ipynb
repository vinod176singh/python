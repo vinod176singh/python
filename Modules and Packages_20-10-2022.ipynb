{
 "cells": [
  {
   "cell_type": "code",
   "execution_count": 1,
   "id": "90f277f8",
   "metadata": {},
   "outputs": [],
   "source": [
    "import pandas as pd "
   ]
  },
  {
   "cell_type": "code",
   "execution_count": 2,
   "id": "58e02141",
   "metadata": {},
   "outputs": [],
   "source": [
    "import math # Built in"
   ]
  },
  {
   "cell_type": "code",
   "execution_count": null,
   "id": "8fdd5765",
   "metadata": {},
   "outputs": [],
   "source": [
    "pip install pandas"
   ]
  },
  {
   "cell_type": "code",
   "execution_count": 3,
   "id": "c757c4e6",
   "metadata": {},
   "outputs": [
    {
     "data": {
      "text/plain": [
       "3628800"
      ]
     },
     "execution_count": 3,
     "metadata": {},
     "output_type": "execute_result"
    }
   ],
   "source": [
    "math.factorial(10)"
   ]
  },
  {
   "cell_type": "code",
   "execution_count": 3,
   "id": "19339ce1",
   "metadata": {},
   "outputs": [],
   "source": [
    "from test_package.test import hello"
   ]
  },
  {
   "cell_type": "code",
   "execution_count": 4,
   "id": "69df40ad",
   "metadata": {},
   "outputs": [
    {
     "name": "stdout",
     "output_type": "stream",
     "text": [
      "Hi There! We are testing modules and packages\n"
     ]
    }
   ],
   "source": [
    "hello()"
   ]
  },
  {
   "cell_type": "code",
   "execution_count": 5,
   "id": "de6ca057",
   "metadata": {},
   "outputs": [],
   "source": [
    "from test_package import test"
   ]
  },
  {
   "cell_type": "code",
   "execution_count": 6,
   "id": "8cf1aa93",
   "metadata": {},
   "outputs": [
    {
     "name": "stdout",
     "output_type": "stream",
     "text": [
      "Hi There! We are testing modules and packages\n"
     ]
    }
   ],
   "source": [
    "test.hello()"
   ]
  },
  {
   "cell_type": "code",
   "execution_count": 7,
   "id": "b30a840e",
   "metadata": {},
   "outputs": [
    {
     "name": "stdout",
     "output_type": "stream",
     "text": [
      "Hello World! Happy Diwali\n"
     ]
    }
   ],
   "source": [
    "test.hello_world()"
   ]
  },
  {
   "cell_type": "code",
   "execution_count": 8,
   "id": "a1f39e14",
   "metadata": {},
   "outputs": [
    {
     "data": {
      "text/plain": [
       "<function test_package.test.velocity()>"
      ]
     },
     "execution_count": 8,
     "metadata": {},
     "output_type": "execute_result"
    }
   ],
   "source": [
    "test.velocity"
   ]
  },
  {
   "cell_type": "code",
   "execution_count": 9,
   "id": "228135b4",
   "metadata": {},
   "outputs": [
    {
     "name": "stdout",
     "output_type": "stream",
     "text": [
      "Hi there! you are at Velocity!\n"
     ]
    }
   ],
   "source": [
    "test.velocity()"
   ]
  },
  {
   "cell_type": "code",
   "execution_count": 10,
   "id": "f3b9c595",
   "metadata": {},
   "outputs": [],
   "source": [
    "from test_package import calculate"
   ]
  },
  {
   "cell_type": "code",
   "execution_count": 13,
   "id": "12d657a4",
   "metadata": {},
   "outputs": [
    {
     "name": "stdout",
     "output_type": "stream",
     "text": [
      "29\n"
     ]
    }
   ],
   "source": [
    "m = calculate.add(12,17)\n",
    "\n",
    "print(m)"
   ]
  },
  {
   "cell_type": "code",
   "execution_count": 14,
   "id": "565838a6",
   "metadata": {},
   "outputs": [
    {
     "data": {
      "text/plain": [
       "-5"
      ]
     },
     "execution_count": 14,
     "metadata": {},
     "output_type": "execute_result"
    }
   ],
   "source": [
    "calculate.substract(12,17)"
   ]
  },
  {
   "cell_type": "code",
   "execution_count": 15,
   "id": "8797239f",
   "metadata": {},
   "outputs": [
    {
     "data": {
      "text/plain": [
       "0.7058823529411765"
      ]
     },
     "execution_count": 15,
     "metadata": {},
     "output_type": "execute_result"
    }
   ],
   "source": [
    "calculate.divide(12,17)"
   ]
  },
  {
   "cell_type": "code",
   "execution_count": 1,
   "id": "1fc3bcdd",
   "metadata": {},
   "outputs": [],
   "source": [
    "import test_package"
   ]
  },
  {
   "cell_type": "code",
   "execution_count": 3,
   "id": "fa3c077c",
   "metadata": {},
   "outputs": [
    {
     "ename": "AttributeError",
     "evalue": "module 'test_package' has no attribute 'test'",
     "output_type": "error",
     "traceback": [
      "\u001b[1;31m---------------------------------------------------------------------------\u001b[0m",
      "\u001b[1;31mAttributeError\u001b[0m                            Traceback (most recent call last)",
      "Input \u001b[1;32mIn [3]\u001b[0m, in \u001b[0;36m<cell line: 1>\u001b[1;34m()\u001b[0m\n\u001b[1;32m----> 1\u001b[0m \u001b[43mtest_package\u001b[49m\u001b[38;5;241;43m.\u001b[39;49m\u001b[43mtest\u001b[49m\u001b[38;5;241m.\u001b[39mhello()\n",
      "\u001b[1;31mAttributeError\u001b[0m: module 'test_package' has no attribute 'test'"
     ]
    }
   ],
   "source": [
    "test_package.test.hello()"
   ]
  },
  {
   "cell_type": "code",
   "execution_count": 4,
   "id": "e892b516",
   "metadata": {},
   "outputs": [],
   "source": [
    "import test_package.test"
   ]
  },
  {
   "cell_type": "code",
   "execution_count": 5,
   "id": "fc54f042",
   "metadata": {},
   "outputs": [
    {
     "name": "stdout",
     "output_type": "stream",
     "text": [
      "Hi There! We are testing modules and packages\n"
     ]
    }
   ],
   "source": [
    "test_package.test.hello()"
   ]
  },
  {
   "cell_type": "code",
   "execution_count": 6,
   "id": "8393fd98",
   "metadata": {},
   "outputs": [
    {
     "ename": "NameError",
     "evalue": "name 'test' is not defined",
     "output_type": "error",
     "traceback": [
      "\u001b[1;31m---------------------------------------------------------------------------\u001b[0m",
      "\u001b[1;31mNameError\u001b[0m                                 Traceback (most recent call last)",
      "Input \u001b[1;32mIn [6]\u001b[0m, in \u001b[0;36m<cell line: 1>\u001b[1;34m()\u001b[0m\n\u001b[1;32m----> 1\u001b[0m \u001b[43mtest\u001b[49m\u001b[38;5;241m.\u001b[39mhello()\n",
      "\u001b[1;31mNameError\u001b[0m: name 'test' is not defined"
     ]
    }
   ],
   "source": [
    "test.hello()"
   ]
  },
  {
   "cell_type": "code",
   "execution_count": 7,
   "id": "de7d30ed",
   "metadata": {},
   "outputs": [
    {
     "name": "stdout",
     "output_type": "stream",
     "text": [
      "Hello World! Happy Diwali\n"
     ]
    }
   ],
   "source": [
    "test_package.test.hello_world()"
   ]
  },
  {
   "cell_type": "markdown",
   "id": "86553c50",
   "metadata": {},
   "source": [
    "## Modules"
   ]
  },
  {
   "cell_type": "markdown",
   "id": "0fc6bd14",
   "metadata": {},
   "source": [
    "A simple file with .py extension"
   ]
  },
  {
   "cell_type": "code",
   "execution_count": null,
   "id": "6c43c3a5",
   "metadata": {},
   "outputs": [],
   "source": [
    "import pandas \n",
    "import numpy\n",
    "import matplotlib\n",
    "import seaborn\n",
    "import scipy"
   ]
  },
  {
   "cell_type": "code",
   "execution_count": null,
   "id": "82dc56c7",
   "metadata": {},
   "outputs": [],
   "source": [
    "Modules contains following component\n",
    "\n",
    "1. variables\n",
    "2. Functions\n",
    "3. classes"
   ]
  },
  {
   "cell_type": "code",
   "execution_count": null,
   "id": "c16439b2",
   "metadata": {},
   "outputs": [],
   "source": [
    "Importing a module\n",
    "\n",
    "1. import >> Used for importing modules, libraries and packages\n",
    "2. as     >> this \"as\" is used when we have to rename modules, libraries and packages while they are imported\n",
    "3. from   >> this will import a module from certain package,library"
   ]
  },
  {
   "cell_type": "code",
   "execution_count": 1,
   "id": "ce28f5c4",
   "metadata": {},
   "outputs": [],
   "source": [
    "from test_package import test as t"
   ]
  },
  {
   "cell_type": "code",
   "execution_count": 2,
   "id": "d514cc1a",
   "metadata": {},
   "outputs": [
    {
     "name": "stdout",
     "output_type": "stream",
     "text": [
      "Hi There! We are testing modules and packages\n"
     ]
    }
   ],
   "source": [
    "t.hello()"
   ]
  },
  {
   "cell_type": "code",
   "execution_count": 3,
   "id": "bf158cf8",
   "metadata": {},
   "outputs": [
    {
     "name": "stdout",
     "output_type": "stream",
     "text": [
      "Hello World! Happy Diwali\n"
     ]
    }
   ],
   "source": [
    "t.hello_world()"
   ]
  },
  {
   "cell_type": "code",
   "execution_count": 4,
   "id": "2cfa4e57",
   "metadata": {},
   "outputs": [
    {
     "name": "stdout",
     "output_type": "stream",
     "text": [
      "Hi there! you are at Velocity!\n"
     ]
    }
   ],
   "source": [
    "t.velocity()"
   ]
  },
  {
   "cell_type": "code",
   "execution_count": null,
   "id": "edd3a6b4",
   "metadata": {},
   "outputs": [],
   "source": []
  }
 ],
 "metadata": {
  "kernelspec": {
   "display_name": "Python 3 (ipykernel)",
   "language": "python",
   "name": "python3"
  },
  "language_info": {
   "codemirror_mode": {
    "name": "ipython",
    "version": 3
   },
   "file_extension": ".py",
   "mimetype": "text/x-python",
   "name": "python",
   "nbconvert_exporter": "python",
   "pygments_lexer": "ipython3",
   "version": "3.10.5"
  }
 },
 "nbformat": 4,
 "nbformat_minor": 5
}
