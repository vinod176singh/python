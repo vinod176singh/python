{
 "cells": [
  {
   "cell_type": "markdown",
   "id": "33288840",
   "metadata": {},
   "source": [
    "### Dictionary Functions"
   ]
  },
  {
   "cell_type": "markdown",
   "id": "b51a2acb",
   "metadata": {},
   "source": [
    "### 12. setdeafualt()"
   ]
  },
  {
   "cell_type": "code",
   "execution_count": 20,
   "id": "861e7764",
   "metadata": {},
   "outputs": [
    {
     "data": {
      "text/plain": [
       "50000"
      ]
     },
     "execution_count": 20,
     "metadata": {},
     "output_type": "execute_result"
    }
   ],
   "source": [
    "emp_details = {\"Name\":\"Rajendra\",\n",
    "              \"Surname\":\"Patil\",\n",
    "              \"Age\":45,\n",
    "              \"Salary\":50000,\n",
    "              \"Designation\":\"Machine Learning Engineer\",\n",
    "              \"Company\":\"TCS\"}\n",
    "\n",
    "emp_details.get(\"Salary\")"
   ]
  },
  {
   "cell_type": "code",
   "execution_count": 21,
   "id": "14102017",
   "metadata": {},
   "outputs": [
    {
     "data": {
      "text/plain": [
       "50000"
      ]
     },
     "execution_count": 21,
     "metadata": {},
     "output_type": "execute_result"
    }
   ],
   "source": [
    "emp_details.setdefault(\"Salary\")  ## If the field exist, it will fetch the value for the field"
   ]
  },
  {
   "cell_type": "code",
   "execution_count": 22,
   "id": "35b9ecf7",
   "metadata": {},
   "outputs": [
    {
     "name": "stdout",
     "output_type": "stream",
     "text": [
      "None\n",
      "{'Name': 'Rajendra', 'Surname': 'Patil', 'Age': 45, 'Salary': 50000, 'Designation': 'Machine Learning Engineer', 'Company': 'TCS'}\n"
     ]
    }
   ],
   "source": [
    "print(emp_details.get(\"Hike\"))  \n",
    "\n",
    "print(emp_details)"
   ]
  },
  {
   "cell_type": "code",
   "execution_count": 23,
   "id": "365ab9ac",
   "metadata": {},
   "outputs": [
    {
     "name": "stdout",
     "output_type": "stream",
     "text": [
      "{'Name': 'Rajendra', 'Surname': 'Patil', 'Age': 45, 'Salary': 50000, 'Designation': 'Machine Learning Engineer', 'Company': 'TCS', 'Hike': None}\n"
     ]
    }
   ],
   "source": [
    "emp_details.setdefault(\"Hike\")   ## If the field does not exist with will create passed field with defalut value None\n",
    "\n",
    "print(emp_details)"
   ]
  },
  {
   "cell_type": "code",
   "execution_count": 31,
   "id": "962a3e85",
   "metadata": {},
   "outputs": [
    {
     "name": "stdout",
     "output_type": "stream",
     "text": [
      "{'Name': 'Rajendra', 'Surname': 'Patil', 'Age': 45, 'Salary': 50000, 'Designation': 'Machine Learning Engineer', 'Company': 'TCS', 'Hike': None}\n"
     ]
    }
   ],
   "source": [
    "emp_details.setdefault(\"Hike\", 30000)  ## It does  not alter the existing field, since Hike is already there it won't alter it\n",
    "\n",
    "print(emp_details)"
   ]
  },
  {
   "cell_type": "code",
   "execution_count": 33,
   "id": "1e98d3bf",
   "metadata": {},
   "outputs": [
    {
     "data": {
      "text/plain": [
       "'TCS'"
      ]
     },
     "execution_count": 33,
     "metadata": {},
     "output_type": "execute_result"
    }
   ],
   "source": [
    "emp_details.get(\"Company\")"
   ]
  },
  {
   "cell_type": "code",
   "execution_count": 34,
   "id": "a6ee8922",
   "metadata": {},
   "outputs": [
    {
     "data": {
      "text/plain": [
       "'TCS'"
      ]
     },
     "execution_count": 34,
     "metadata": {},
     "output_type": "execute_result"
    }
   ],
   "source": [
    "emp_details.setdefault(\"Company\")  ## Set default will fetch the value of the field it it exists"
   ]
  },
  {
   "cell_type": "code",
   "execution_count": 36,
   "id": "9134fc25",
   "metadata": {},
   "outputs": [
    {
     "name": "stdout",
     "output_type": "stream",
     "text": [
      "{'Name': 'Rajendra', 'Surname': 'Patil', 'Age': 45, 'Salary': 50000, 'Designation': 'Machine Learning Engineer', 'Company': 'TCS', 'Hike': None}\n"
     ]
    }
   ],
   "source": [
    "emp_details.setdefault(\"Company\",\"Wipro\") ## It does  not alter the existing field\n",
    "                                          ## since Company is already there it won't alter it\n",
    "print(emp_details)"
   ]
  },
  {
   "cell_type": "code",
   "execution_count": 38,
   "id": "459e657f",
   "metadata": {},
   "outputs": [
    {
     "name": "stdout",
     "output_type": "stream",
     "text": [
      "{'Name': 'Rajendra', 'Surname': 'Patil', 'Age': 45, 'Salary': 50000, 'Designation': 'Machine Learning Engineer', 'Company': 'TCS', 'Hike': None, 'Location': 'Pune'}\n"
     ]
    }
   ],
   "source": [
    "emp_details.setdefault(\"Location\",\"Pune\")\n",
    "\n",
    "print(emp_details)"
   ]
  },
  {
   "cell_type": "code",
   "execution_count": 40,
   "id": "4bf3def7",
   "metadata": {},
   "outputs": [
    {
     "name": "stdout",
     "output_type": "stream",
     "text": [
      "{'Name': 'Rajendra', 'Surname': 'Patil', 'Age': 45, 'Salary': 50000, 'Designation': 'Machine Learning Engineer', 'Company': 'TCS', 'Hike': None, 'Location': 'Pune'}\n"
     ]
    }
   ],
   "source": [
    "emp_details.setdefault(\"Location\",\"Banglore\")\n",
    "print(emp_details)"
   ]
  },
  {
   "cell_type": "code",
   "execution_count": 41,
   "id": "ae878086",
   "metadata": {},
   "outputs": [],
   "source": [
    "emp_details.get(\"Department\")"
   ]
  },
  {
   "cell_type": "markdown",
   "id": "9ace2278",
   "metadata": {},
   "source": [
    "## Nested Dictionary"
   ]
  },
  {
   "cell_type": "code",
   "execution_count": null,
   "id": "f870a6dd",
   "metadata": {},
   "outputs": [],
   "source": [
    "This is also called JSON File format >> JSON >> Java Script Object Notation"
   ]
  },
  {
   "cell_type": "code",
   "execution_count": 42,
   "id": "6ff77240",
   "metadata": {},
   "outputs": [],
   "source": [
    "emp_details = {\"Name\":\"Rajendra\",\n",
    "              \"Surname\":\"Patil\",\n",
    "              \"Age\":45,\n",
    "              \"Salary\":50000,\n",
    "              \"Designation\":\"Machine Learning Engineer\",\n",
    "              \"Company\":\"TCS\"}"
   ]
  },
  {
   "cell_type": "code",
   "execution_count": 43,
   "id": "01f94711",
   "metadata": {},
   "outputs": [
    {
     "data": {
      "text/plain": [
       "'Rajendra'"
      ]
     },
     "execution_count": 43,
     "metadata": {},
     "output_type": "execute_result"
    }
   ],
   "source": [
    "emp_details[\"Name\"]"
   ]
  },
  {
   "cell_type": "code",
   "execution_count": 44,
   "id": "bbd9cddd",
   "metadata": {},
   "outputs": [
    {
     "name": "stdout",
     "output_type": "stream",
     "text": [
      "Rajendra\n"
     ]
    }
   ],
   "source": [
    "name = emp_details[\"Name\"]\n",
    "\n",
    "print(name)"
   ]
  },
  {
   "cell_type": "code",
   "execution_count": 45,
   "id": "89f4ebfb",
   "metadata": {},
   "outputs": [
    {
     "name": "stdout",
     "output_type": "stream",
     "text": [
      "Patil\n"
     ]
    }
   ],
   "source": [
    "surname = emp_details[\"Surname\"]\n",
    "\n",
    "print(surname)"
   ]
  },
  {
   "cell_type": "code",
   "execution_count": 46,
   "id": "5449c64b",
   "metadata": {},
   "outputs": [
    {
     "name": "stdout",
     "output_type": "stream",
     "text": [
      "Rajendra Patil\n"
     ]
    }
   ],
   "source": [
    "full_name = name + \" \" + surname\n",
    "\n",
    "print(full_name)"
   ]
  },
  {
   "cell_type": "code",
   "execution_count": 47,
   "id": "45ae0da8",
   "metadata": {},
   "outputs": [],
   "source": [
    "emp_details = {\"TCS1001\":{\"Name\":\"Rajendra\",\n",
    "                         \"Surname\":\"Patil\",\n",
    "                         \"Department\":\"Delivery\",\n",
    "                         \"Salary\":40000},\n",
    "              \"TCS1002\":{\"Name\":\"Rajesh\",\n",
    "                        \"Surname\":\"Vaidya\",\n",
    "                        \"Department\":\"Analytics\",\n",
    "                        \"Salary\":50000},\n",
    "              \"TCS1003\":{\"Name\":\"Aniket\",\n",
    "                        \"Surname\":\"Kale\",\n",
    "                        \"Department\":\"Analytics\",\n",
    "                        \"Salary\":30000}}"
   ]
  },
  {
   "cell_type": "code",
   "execution_count": 48,
   "id": "8ad3588b",
   "metadata": {},
   "outputs": [
    {
     "data": {
      "text/plain": [
       "{'Name': 'Rajendra',\n",
       " 'Surname': 'Patil',\n",
       " 'Department': 'Delivery',\n",
       " 'Salary': 40000}"
      ]
     },
     "execution_count": 48,
     "metadata": {},
     "output_type": "execute_result"
    }
   ],
   "source": [
    "emp_details[\"TCS1001\"]"
   ]
  },
  {
   "cell_type": "code",
   "execution_count": 49,
   "id": "eab4b4af",
   "metadata": {},
   "outputs": [
    {
     "data": {
      "text/plain": [
       "'Delivery'"
      ]
     },
     "execution_count": 49,
     "metadata": {},
     "output_type": "execute_result"
    }
   ],
   "source": [
    "emp_details[\"TCS1001\"][\"Department\"]"
   ]
  },
  {
   "cell_type": "code",
   "execution_count": 53,
   "id": "2c39e0f8",
   "metadata": {},
   "outputs": [],
   "source": [
    "emp_details = {\"TCS1001\":{\"Name\":\"Rajendra\",\n",
    "                         \"Surname\":\"Patil\",\n",
    "                         \"Department\":\"Delivery\",\n",
    "                         \"Salary\":40000,\n",
    "                         \"Skills\":{\"Programming Language\":\"Python\",\n",
    "                                  \"Languages Known\":{\"L1\":\"Hindi\",\n",
    "                                                    \"L2\":\"Marathi\",\n",
    "                                                    \"L3\":\"English\"},\n",
    "                                  \"Softwares\":{\"Office\":\"Microsoft office\",\n",
    "                                              \"Anlytics\":\"PowerBI\",\n",
    "                                              \"CAD\":\"CATIA\"}}},\n",
    "              \"TCS1002\":{\"Name\":\"Rajesh\",\n",
    "                        \"Surname\":\"Vaidya\",\n",
    "                        \"Department\":\"Analytics\",\n",
    "                        \"Salary\":50000},\n",
    "              \"TCS1003\":{\"Name\":\"Aniket\",\n",
    "                        \"Surname\":\"Kale\",\n",
    "                        \"Department\":\"Analytics\",\n",
    "                        \"Salary\":30000}}"
   ]
  },
  {
   "cell_type": "code",
   "execution_count": 54,
   "id": "e298d4ad",
   "metadata": {},
   "outputs": [
    {
     "data": {
      "text/plain": [
       "{'Programming Language': 'Python',\n",
       " 'Languages Known': {'L1': 'Hindi', 'L2': 'Marathi', 'L3': 'English'},\n",
       " 'Softwares': {'Office': 'Microsoft office',\n",
       "  'Anlytics': 'PowerBI',\n",
       "  'CAD': 'CATIA'}}"
      ]
     },
     "execution_count": 54,
     "metadata": {},
     "output_type": "execute_result"
    }
   ],
   "source": [
    "emp_details[\"TCS1001\"][\"Skills\"]"
   ]
  },
  {
   "cell_type": "code",
   "execution_count": 55,
   "id": "2e35115a",
   "metadata": {},
   "outputs": [
    {
     "data": {
      "text/plain": [
       "{'L1': 'Hindi', 'L2': 'Marathi', 'L3': 'English'}"
      ]
     },
     "execution_count": 55,
     "metadata": {},
     "output_type": "execute_result"
    }
   ],
   "source": [
    "emp_details[\"TCS1001\"][\"Skills\"][\"Languages Known\"]"
   ]
  },
  {
   "cell_type": "code",
   "execution_count": 56,
   "id": "02581e66",
   "metadata": {},
   "outputs": [
    {
     "data": {
      "text/plain": [
       "'Hindi'"
      ]
     },
     "execution_count": 56,
     "metadata": {},
     "output_type": "execute_result"
    }
   ],
   "source": [
    "emp_details[\"TCS1001\"][\"Skills\"][\"Languages Known\"][\"L1\"]"
   ]
  },
  {
   "cell_type": "code",
   "execution_count": 59,
   "id": "1102ec9c",
   "metadata": {},
   "outputs": [
    {
     "data": {
      "text/plain": [
       "{'Office': 'Microsoft office', 'Anlytics': 'PowerBI', 'CAD': 'CATIA'}"
      ]
     },
     "execution_count": 59,
     "metadata": {},
     "output_type": "execute_result"
    }
   ],
   "source": [
    "emp_details[\"TCS1001\"][\"Skills\"][\"Softwares\"]"
   ]
  },
  {
   "cell_type": "code",
   "execution_count": 60,
   "id": "fdfcf53e",
   "metadata": {},
   "outputs": [
    {
     "data": {
      "text/plain": [
       "'Microsoft office'"
      ]
     },
     "execution_count": 60,
     "metadata": {},
     "output_type": "execute_result"
    }
   ],
   "source": [
    "emp_details[\"TCS1001\"][\"Skills\"][\"Softwares\"][\"Office\"]"
   ]
  },
  {
   "cell_type": "code",
   "execution_count": 61,
   "id": "dfe87bc2",
   "metadata": {},
   "outputs": [],
   "source": [
    "emp_details[\"TCS1001\"][\"Skills\"][\"Softwares\"][\"Office\"] = \"Google Workspace\""
   ]
  },
  {
   "cell_type": "code",
   "execution_count": 62,
   "id": "ea799e2f",
   "metadata": {},
   "outputs": [
    {
     "name": "stdout",
     "output_type": "stream",
     "text": [
      "{'Office': 'Google Workspace', 'Anlytics': 'PowerBI', 'CAD': 'CATIA'}\n"
     ]
    }
   ],
   "source": [
    "print(emp_details[\"TCS1001\"][\"Skills\"][\"Softwares\"])"
   ]
  },
  {
   "cell_type": "code",
   "execution_count": 64,
   "id": "abbcb523",
   "metadata": {},
   "outputs": [],
   "source": [
    "emp_details[\"TCS1001\"][\"Skills\"][\"Softwares\"][\"Office\"] = {\"Microsoft\":[\"Excel\",\"Powerpoint\",\"Publisher\",\"Word\"],\n",
    "                                                          \"Libre Office\":\"All\",\n",
    "                                                          \"Google Workspace\":[\"Sheet\",\"Slides\",\"Documents\"]}"
   ]
  },
  {
   "cell_type": "code",
   "execution_count": 65,
   "id": "700ff4e4",
   "metadata": {},
   "outputs": [
    {
     "data": {
      "text/plain": [
       "{'Microsoft': ['Excel', 'Powerpoint', 'Publisher', 'Word'],\n",
       " 'Libre Office': 'All',\n",
       " 'Google Workspace': ['Sheet', 'Slides', 'Documents']}"
      ]
     },
     "execution_count": 65,
     "metadata": {},
     "output_type": "execute_result"
    }
   ],
   "source": [
    "emp_details[\"TCS1001\"][\"Skills\"][\"Softwares\"][\"Office\"]"
   ]
  },
  {
   "cell_type": "code",
   "execution_count": 66,
   "id": "80e570f1",
   "metadata": {},
   "outputs": [
    {
     "data": {
      "text/plain": [
       "{'Office': {'Microsoft': ['Excel', 'Powerpoint', 'Publisher', 'Word'],\n",
       "  'Libre Office': 'All',\n",
       "  'Google Workspace': ['Sheet', 'Slides', 'Documents']},\n",
       " 'Anlytics': 'PowerBI',\n",
       " 'CAD': 'CATIA'}"
      ]
     },
     "execution_count": 66,
     "metadata": {},
     "output_type": "execute_result"
    }
   ],
   "source": [
    "emp_details[\"TCS1001\"][\"Skills\"][\"Softwares\"]"
   ]
  },
  {
   "cell_type": "code",
   "execution_count": 67,
   "id": "9568c4e9",
   "metadata": {},
   "outputs": [
    {
     "data": {
      "text/plain": [
       "['Excel', 'Powerpoint', 'Publisher', 'Word']"
      ]
     },
     "execution_count": 67,
     "metadata": {},
     "output_type": "execute_result"
    }
   ],
   "source": [
    "emp_details[\"TCS1001\"][\"Skills\"][\"Softwares\"][\"Office\"][\"Microsoft\"]"
   ]
  },
  {
   "cell_type": "markdown",
   "id": "fc5569aa",
   "metadata": {},
   "source": [
    "## Creating a dictionary of ASCII values and corresponding Letter"
   ]
  },
  {
   "cell_type": "code",
   "execution_count": null,
   "id": "539d0634",
   "metadata": {},
   "outputs": [],
   "source": [
    "ascii_dict = {\"A\":65,\"B\":66,\"C\":68....,\"Z\":90}"
   ]
  },
  {
   "cell_type": "code",
   "execution_count": 69,
   "id": "2d3ae045",
   "metadata": {},
   "outputs": [
    {
     "name": "stdout",
     "output_type": "stream",
     "text": [
      "{'A': 65, 'B': 66, 'C': 67, 'D': 68, 'E': 69, 'F': 70, 'G': 71, 'H': 72, 'I': 73, 'J': 74, 'K': 75, 'L': 76, 'M': 77, 'N': 78, 'O': 79, 'P': 80, 'Q': 81, 'R': 82, 'S': 83, 'T': 84, 'U': 85, 'V': 86, 'W': 87, 'X': 88, 'Y': 89, 'Z': 90}\n"
     ]
    }
   ],
   "source": [
    "ascii_dict = {}\n",
    "\n",
    "for i in range(65,91):\n",
    "    ascii_dict[chr(i)] = i\n",
    "\n",
    "print(ascii_dict)"
   ]
  },
  {
   "cell_type": "code",
   "execution_count": 73,
   "id": "5c191730",
   "metadata": {},
   "outputs": [
    {
     "name": "stdout",
     "output_type": "stream",
     "text": [
      "{'A': 65, 'B': 66, 'C': 67, 'D': 68, 'E': 69, 'F': 70, 'G': 71, 'H': 72, 'I': 73, 'J': 74, 'K': 75, 'L': 76, 'M': 77, 'N': 78, 'O': 79, 'P': 80, 'Q': 81, 'R': 82, 'S': 83, 'T': 84, 'U': 85, 'V': 86, 'W': 87, 'X': 88, 'Y': 89, 'Z': 90}\n"
     ]
    }
   ],
   "source": [
    "ascii_dict = {}\n",
    "\n",
    "for i in range(65,91):\n",
    "    ascii_dict.update({chr(i) : i})\n",
    "#     print(ascii_dict)\n",
    "\n",
    "print(ascii_dict)"
   ]
  },
  {
   "cell_type": "markdown",
   "id": "d61f61df",
   "metadata": {},
   "source": [
    "## Creating dictionary of Cubes"
   ]
  },
  {
   "cell_type": "markdown",
   "id": "af4df4d8",
   "metadata": {},
   "source": [
    "cubes = {1:1,2:8,3:27....10:1000}"
   ]
  },
  {
   "cell_type": "code",
   "execution_count": 74,
   "id": "c4b9dec9",
   "metadata": {},
   "outputs": [
    {
     "name": "stdout",
     "output_type": "stream",
     "text": [
      "{1: 1, 2: 8, 3: 27, 4: 64, 5: 125, 6: 216, 7: 343, 8: 512, 9: 729, 10: 1000}\n"
     ]
    }
   ],
   "source": [
    "cubes = {}\n",
    "\n",
    "for i in range(1,11):\n",
    "    cubes[i] = i**3\n",
    "\n",
    "print(cubes)"
   ]
  },
  {
   "cell_type": "code",
   "execution_count": 75,
   "id": "9503df5a",
   "metadata": {},
   "outputs": [
    {
     "name": "stdout",
     "output_type": "stream",
     "text": [
      "{11: 1331, 12: 1728, 13: 2197, 14: 2744, 15: 3375, 16: 4096, 17: 4913, 18: 5832, 19: 6859, 20: 8000}\n"
     ]
    }
   ],
   "source": [
    "cubes = {}\n",
    "\n",
    "for i in range(11,21):\n",
    "    cubes.update({i:i**3})\n",
    "    \n",
    "print(cubes)"
   ]
  },
  {
   "cell_type": "markdown",
   "id": "887c3832",
   "metadata": {},
   "source": [
    "### Creating a dictionary of words in a statements and it's occurance"
   ]
  },
  {
   "cell_type": "code",
   "execution_count": 83,
   "id": "c1109ddd",
   "metadata": {},
   "outputs": [
    {
     "name": "stdout",
     "output_type": "stream",
     "text": [
      "['Machine', 'Learning', 'is', 'the', 'field', 'of', 'study', 'that', 'gives', 'computers', 'the', 'capability', 'to', 'learn', 'without', 'being', 'explicitly', 'programmed.', 'ML', 'is', 'one', 'of', 'the', 'most', 'exciting', 'technologies', 'that', 'one', 'would', 'have', 'ever', 'come', 'across.', 'As', 'it', 'is', 'evident', 'from', 'the', 'name,', 'it', 'gives', 'the', 'computer', 'that', 'makes', 'it', 'more', 'similar', 'to', 'humans:', 'The', 'ability', 'to', 'learn.', 'Machine', 'learning', 'is', 'actively', 'being', 'used', 'today,', 'perhaps', 'in', 'many', 'more', 'places', 'than', 'one', 'would', 'expect.']\n"
     ]
    }
   ],
   "source": [
    "string = \"\"\"Machine Learning is the field of study that gives computers the capability to learn without being \n",
    "explicitly programmed. ML is one of the most exciting technologies that one would have ever come across. \n",
    "As it is evident from the name, it gives the computer that makes it more similar to humans: The ability to learn.\n",
    "Machine learning is actively being used today, perhaps in many more places than one would expect.\"\"\"\n",
    "\n",
    "# dict1 = {\"Machine\":2,\"Learning\":3,\"is\":5....\"expect\":1}\n",
    "\n",
    "list1 = string.split()\n",
    "\n",
    "print(list1)"
   ]
  },
  {
   "cell_type": "code",
   "execution_count": 80,
   "id": "1a33ea91",
   "metadata": {},
   "outputs": [
    {
     "data": {
      "text/plain": [
       "'Machine Learning is the field of study that gives computers the capability to learn without being explicitly programmed. ML is one of the most exciting technologies that one would have ever come across. As it is evident from the name, it gives the computer that makes it more similar to humans: The ability to learn. Machine learning is actively being used today, perhaps in many more places than one would expect.'"
      ]
     },
     "execution_count": 80,
     "metadata": {},
     "output_type": "execute_result"
    }
   ],
   "source": [
    "\" \".join(list1)"
   ]
  },
  {
   "cell_type": "code",
   "execution_count": 78,
   "id": "420e02b9",
   "metadata": {},
   "outputs": [
    {
     "data": {
      "text/plain": [
       "2"
      ]
     },
     "execution_count": 78,
     "metadata": {},
     "output_type": "execute_result"
    }
   ],
   "source": [
    "list1.count(\"Machine\")"
   ]
  },
  {
   "cell_type": "code",
   "execution_count": 84,
   "id": "77b84c4a",
   "metadata": {},
   "outputs": [
    {
     "name": "stdout",
     "output_type": "stream",
     "text": [
      "{'Machine': 2, 'Learning': 1, 'is': 4, 'the': 5, 'field': 1, 'of': 2, 'study': 1, 'that': 3, 'gives': 2, 'computers': 1, 'capability': 1, 'to': 3, 'learn': 1, 'without': 1, 'being': 2, 'explicitly': 1, 'programmed.': 1, 'ML': 1, 'one': 3, 'most': 1, 'exciting': 1, 'technologies': 1, 'would': 2, 'have': 1, 'ever': 1, 'come': 1, 'across.': 1, 'As': 1, 'it': 3, 'evident': 1, 'from': 1, 'name,': 1, 'computer': 1, 'makes': 1, 'more': 2, 'similar': 1, 'humans:': 1, 'The': 1, 'ability': 1, 'learn.': 1, 'learning': 1, 'actively': 1, 'used': 1, 'today,': 1, 'perhaps': 1, 'in': 1, 'many': 1, 'places': 1, 'than': 1, 'expect.': 1}\n"
     ]
    }
   ],
   "source": [
    "dict1 = {}\n",
    "\n",
    "for word in list1:\n",
    "    dict1[word] = list1.count(word)\n",
    "\n",
    "print(dict1)"
   ]
  },
  {
   "cell_type": "code",
   "execution_count": 85,
   "id": "7b27bf74",
   "metadata": {},
   "outputs": [
    {
     "name": "stdout",
     "output_type": "stream",
     "text": [
      "{'Machine': 2, 'Learning': 1, 'is': 4, 'the': 5, 'field': 1, 'of': 2, 'study': 1, 'that': 3, 'gives': 2, 'computers': 1, 'capability': 1, 'to': 3, 'learn': 1, 'without': 1, 'being': 2, 'explicitly': 1, 'programmed.': 1, 'ML': 1, 'one': 3, 'most': 1, 'exciting': 1, 'technologies': 1, 'would': 2, 'have': 1, 'ever': 1, 'come': 1, 'across.': 1, 'As': 1, 'it': 3, 'evident': 1, 'from': 1, 'name,': 1, 'computer': 1, 'makes': 1, 'more': 2, 'similar': 1, 'humans:': 1, 'The': 1, 'ability': 1, 'learn.': 1, 'learning': 1, 'actively': 1, 'used': 1, 'today,': 1, 'perhaps': 1, 'in': 1, 'many': 1, 'places': 1, 'than': 1, 'expect.': 1}\n"
     ]
    }
   ],
   "source": [
    "dict1 = {}\n",
    "\n",
    "for word in list1:\n",
    "    dict1.update({word:list1.count(word)})\n",
    "\n",
    "print(dict1)"
   ]
  },
  {
   "cell_type": "markdown",
   "id": "98c39d25",
   "metadata": {},
   "source": [
    "## Sorting a dictionary"
   ]
  },
  {
   "cell_type": "markdown",
   "id": "f5900684",
   "metadata": {},
   "source": [
    "### 1. sorting dictionary with key"
   ]
  },
  {
   "cell_type": "code",
   "execution_count": 86,
   "id": "d180300e",
   "metadata": {},
   "outputs": [
    {
     "name": "stdout",
     "output_type": "stream",
     "text": [
      "['Bio', 'Chem', 'Comp', 'Eng', 'Math', 'Phy', 'Voc']\n"
     ]
    }
   ],
   "source": [
    "sub_marks = {\"Phy\":80,\"Chem\":85,\"Math\":92,\"Bio\":75,\"Eng\":75,\"Comp\":94,\"Voc\":93}\n",
    "\n",
    "print(sorted(sub_marks))"
   ]
  },
  {
   "cell_type": "code",
   "execution_count": 88,
   "id": "6724e595",
   "metadata": {},
   "outputs": [
    {
     "data": {
      "text/plain": [
       "75"
      ]
     },
     "execution_count": 88,
     "metadata": {},
     "output_type": "execute_result"
    }
   ],
   "source": [
    "sub_marks[\"Bio\"]"
   ]
  },
  {
   "cell_type": "code",
   "execution_count": 87,
   "id": "8a741c59",
   "metadata": {},
   "outputs": [
    {
     "data": {
      "text/plain": [
       "['Bio', 'Chem', 'Comp', 'Eng', 'Math', 'Phy', 'Voc']"
      ]
     },
     "execution_count": 87,
     "metadata": {},
     "output_type": "execute_result"
    }
   ],
   "source": [
    "sorted(sub_marks.keys())"
   ]
  },
  {
   "cell_type": "code",
   "execution_count": 89,
   "id": "22ac4e90",
   "metadata": {},
   "outputs": [
    {
     "name": "stdout",
     "output_type": "stream",
     "text": [
      "{'Bio': 75, 'Chem': 85, 'Comp': 94, 'Eng': 75, 'Math': 92, 'Phy': 80, 'Voc': 93}\n"
     ]
    }
   ],
   "source": [
    "sorted_dict = {}\n",
    "\n",
    "for key in sorted(sub_marks.keys()):\n",
    "    \n",
    "    sorted_dict[key] = sub_marks[key]\n",
    "\n",
    "print(sorted_dict)"
   ]
  },
  {
   "cell_type": "code",
   "execution_count": null,
   "id": "1f2b13b4",
   "metadata": {},
   "outputs": [],
   "source": []
  },
  {
   "cell_type": "code",
   "execution_count": null,
   "id": "7a976c13",
   "metadata": {},
   "outputs": [],
   "source": []
  }
 ],
 "metadata": {
  "kernelspec": {
   "display_name": "Python 3 (ipykernel)",
   "language": "python",
   "name": "python3"
  },
  "language_info": {
   "codemirror_mode": {
    "name": "ipython",
    "version": 3
   },
   "file_extension": ".py",
   "mimetype": "text/x-python",
   "name": "python",
   "nbconvert_exporter": "python",
   "pygments_lexer": "ipython3",
   "version": "3.10.5"
  }
 },
 "nbformat": 4,
 "nbformat_minor": 5
}
