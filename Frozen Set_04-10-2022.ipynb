{
 "cells": [
  {
   "cell_type": "markdown",
   "id": "635c53fc",
   "metadata": {},
   "source": [
    "# Set"
   ]
  },
  {
   "cell_type": "code",
   "execution_count": null,
   "id": "3e86c9a8",
   "metadata": {},
   "outputs": [],
   "source": [
    "1. Mutable\n",
    "2. Unordered\n",
    "3. Duplicates are not allowed\n",
    "4. indexing not allowed"
   ]
  },
  {
   "cell_type": "markdown",
   "id": "43abd231",
   "metadata": {},
   "source": [
    "### Set Functions"
   ]
  },
  {
   "cell_type": "code",
   "execution_count": null,
   "id": "dd8d8900",
   "metadata": {},
   "outputs": [],
   "source": [
    "01. add()\n",
    "02. update()\n",
    "03. union()\n",
    "\n",
    "04. remove()\n",
    "05. discard()\n",
    "06. pop()\n",
    "07. clear()\n",
    "08. del (Keyword)\n",
    "\n",
    "09. intersection()\n",
    "10. intersection_update()\n",
    "11. difference()\n",
    "12. difference_update()\n",
    "13. symmetric_difference()\n",
    "14. symmetric_difference_update()\n",
    "\n",
    "15. issuperset()\n",
    "16. issubset()\n",
    "17. isdisjoint()\n",
    "18. copy()"
   ]
  },
  {
   "cell_type": "markdown",
   "id": "e6884087",
   "metadata": {},
   "source": [
    "# Frozen Set"
   ]
  },
  {
   "cell_type": "code",
   "execution_count": null,
   "id": "77fd8f31",
   "metadata": {},
   "outputs": [],
   "source": [
    "1. Immutable\n",
    "2. Unordered\n",
    "3. Duplicates are not allowed\n",
    "4. Indexing not allowed"
   ]
  },
  {
   "cell_type": "markdown",
   "id": "844b5fc3",
   "metadata": {},
   "source": [
    "### Frozen Set Functions"
   ]
  },
  {
   "cell_type": "code",
   "execution_count": null,
   "id": "3d764957",
   "metadata": {},
   "outputs": [],
   "source": [
    "1. union()\n",
    "2. intersection()\n",
    "3. difference()\n",
    "4. symmetric_difference()\n",
    "\n",
    "5. issuperset()\n",
    "6. issubset()\n",
    "7. isdisjoint()"
   ]
  },
  {
   "cell_type": "markdown",
   "id": "2c6c0a09",
   "metadata": {},
   "source": [
    "## Initiating a Frozenset"
   ]
  },
  {
   "cell_type": "code",
   "execution_count": 1,
   "id": "7a1fb491",
   "metadata": {},
   "outputs": [
    {
     "data": {
      "text/plain": [
       "frozenset"
      ]
     },
     "execution_count": 1,
     "metadata": {},
     "output_type": "execute_result"
    }
   ],
   "source": [
    "f_set = frozenset()\n",
    "\n",
    "type(f_set)"
   ]
  },
  {
   "cell_type": "code",
   "execution_count": 2,
   "id": "61df0ba7",
   "metadata": {},
   "outputs": [
    {
     "ename": "AttributeError",
     "evalue": "'frozenset' object has no attribute 'add'",
     "output_type": "error",
     "traceback": [
      "\u001b[1;31m---------------------------------------------------------------------------\u001b[0m",
      "\u001b[1;31mAttributeError\u001b[0m                            Traceback (most recent call last)",
      "Input \u001b[1;32mIn [2]\u001b[0m, in \u001b[0;36m<cell line: 1>\u001b[1;34m()\u001b[0m\n\u001b[1;32m----> 1\u001b[0m \u001b[43mf_set\u001b[49m\u001b[38;5;241;43m.\u001b[39;49m\u001b[43madd\u001b[49m(\u001b[38;5;241m100\u001b[39m)\n",
      "\u001b[1;31mAttributeError\u001b[0m: 'frozenset' object has no attribute 'add'"
     ]
    }
   ],
   "source": [
    "f_set.add(100)"
   ]
  },
  {
   "cell_type": "code",
   "execution_count": 3,
   "id": "c0392530",
   "metadata": {},
   "outputs": [
    {
     "data": {
      "text/plain": [
       "frozenset({1, 2, 3, 4, 5, 6, 7, 46, 84})"
      ]
     },
     "execution_count": 3,
     "metadata": {},
     "output_type": "execute_result"
    }
   ],
   "source": [
    "list1 = [1,2,3,4,2,3,5,6,2,3,46,7,84,3,6,1,2]\n",
    "\n",
    "f_set1 = frozenset(list1)\n",
    "\n",
    "f_set1"
   ]
  },
  {
   "cell_type": "code",
   "execution_count": 6,
   "id": "d5a53baf",
   "metadata": {},
   "outputs": [
    {
     "data": {
      "text/plain": [
       "frozenset({1, 2, 3, 4, 5, 6, 7, 44, 46, 84, 1000})"
      ]
     },
     "execution_count": 6,
     "metadata": {},
     "output_type": "execute_result"
    }
   ],
   "source": [
    "tuple1 = (1000,1,2,3,44,4,2,3,5,6,2,3,46,7,84,3,6,1,2)\n",
    "\n",
    "f_set2 = frozenset(tuple1)\n",
    "\n",
    "f_set2"
   ]
  },
  {
   "cell_type": "code",
   "execution_count": 7,
   "id": "343ad9f0",
   "metadata": {},
   "outputs": [
    {
     "data": {
      "text/plain": [
       "frozenset({1, 2, 3, 4, 5, 6, 7, 44, 46, 84, 1000})"
      ]
     },
     "execution_count": 7,
     "metadata": {},
     "output_type": "execute_result"
    }
   ],
   "source": [
    "set1 = {1000,1,2,3,44,4,2,3,5,6,2,3,46,7,84,3,6,1,2}\n",
    "\n",
    "f_set3 = frozenset(set1)\n",
    "\n",
    "f_set3"
   ]
  },
  {
   "cell_type": "markdown",
   "id": "7273b519",
   "metadata": {},
   "source": [
    "## Python Type Casting"
   ]
  },
  {
   "cell_type": "code",
   "execution_count": null,
   "id": "9244ec79",
   "metadata": {},
   "outputs": [],
   "source": [
    "list  >>> tuple\n",
    "list  >>> set\n",
    "list  >>> frozenset\n",
    "\n",
    "tuple >>> list\n",
    "tuple >>> set\n",
    "tuple >>> frozenset\n",
    "\n",
    "set   >>> tuple\n",
    "set   >>> list\n",
    "set   >>> frozenset\n",
    "\n",
    "frozenset >>> list\n",
    "frozenset >>> tuple\n",
    "frozenset >>> set"
   ]
  },
  {
   "cell_type": "markdown",
   "id": "ec35293c",
   "metadata": {},
   "source": [
    "## Frozenset Functions"
   ]
  },
  {
   "cell_type": "markdown",
   "id": "da2bd9cb",
   "metadata": {},
   "source": [
    "### 1. intersection()"
   ]
  },
  {
   "cell_type": "code",
   "execution_count": 12,
   "id": "85e2c908",
   "metadata": {},
   "outputs": [
    {
     "name": "stdout",
     "output_type": "stream",
     "text": [
      "frozenset({2, 3, 5, 7})\n",
      "<class 'frozenset'>\n"
     ]
    }
   ],
   "source": [
    "f_set1 = frozenset((1,2,3,4,5,6,7))\n",
    "f_set2 = frozenset([2,3,5,7,8,9,10])\n",
    "\n",
    "set3 = f_set1.intersection(f_set2)\n",
    "\n",
    "print(set3)\n",
    "print(type(set3))"
   ]
  },
  {
   "cell_type": "code",
   "execution_count": 14,
   "id": "d21fe675",
   "metadata": {},
   "outputs": [
    {
     "data": {
      "text/plain": [
       "frozenset({2, 3, 5, 7, 8, 9, 10})"
      ]
     },
     "execution_count": 14,
     "metadata": {},
     "output_type": "execute_result"
    }
   ],
   "source": [
    "f_set2 = frozenset({2,3,5,7,8,9,10})\n",
    "f_set2"
   ]
  },
  {
   "cell_type": "markdown",
   "id": "26a43724",
   "metadata": {},
   "source": [
    "### 2. union() "
   ]
  },
  {
   "cell_type": "code",
   "execution_count": 15,
   "id": "2b16f9d0",
   "metadata": {},
   "outputs": [
    {
     "name": "stdout",
     "output_type": "stream",
     "text": [
      "frozenset({1, 2, 3, 4, 5, 6, 7, 8, 9, 10})\n"
     ]
    }
   ],
   "source": [
    "f_set1 = frozenset({1,2,3,4,5,6,7})\n",
    "f_set2 = frozenset({2,3,5,7,8,9,10})\n",
    "\n",
    "f_set3 = f_set1.union(f_set2)\n",
    "\n",
    "print(f_set3)"
   ]
  },
  {
   "cell_type": "markdown",
   "id": "cb7dc2c8",
   "metadata": {},
   "source": [
    "### 3. difference()"
   ]
  },
  {
   "cell_type": "code",
   "execution_count": 16,
   "id": "cfb34aea",
   "metadata": {},
   "outputs": [
    {
     "name": "stdout",
     "output_type": "stream",
     "text": [
      "frozenset({1, 2, 3, 4, 200.3})\n"
     ]
    }
   ],
   "source": [
    "f_set1 = frozenset({1,2,3,4,100,200.300})\n",
    "f_set2 = frozenset({5,6,7,8,100,200,300,1000})\n",
    "\n",
    "f_set3 = f_set1.difference(f_set2)\n",
    "\n",
    "print(f_set3)"
   ]
  },
  {
   "cell_type": "code",
   "execution_count": 17,
   "id": "421a6b28",
   "metadata": {},
   "outputs": [
    {
     "name": "stdout",
     "output_type": "stream",
     "text": [
      "frozenset({5, 6, 7, 8, 200, 1000, 300})\n"
     ]
    }
   ],
   "source": [
    "f_set4 = f_set2.difference(f_set1)\n",
    "print(f_set4)"
   ]
  },
  {
   "cell_type": "markdown",
   "id": "6d0f4a58",
   "metadata": {},
   "source": [
    "### 4. symmetric_difference"
   ]
  },
  {
   "cell_type": "code",
   "execution_count": 18,
   "id": "68a7f027",
   "metadata": {},
   "outputs": [
    {
     "data": {
      "text/plain": [
       "frozenset({1, 2, 3, 4, 5, 6, 7, 8, 200, 200.3, 300, 1000})"
      ]
     },
     "execution_count": 18,
     "metadata": {},
     "output_type": "execute_result"
    }
   ],
   "source": [
    "f_set1 = frozenset({1,2,3,4,100,200.300})\n",
    "f_set2 = frozenset({5,6,7,8,100,200,300,1000})\n",
    "\n",
    "f_set3 = f_set1.symmetric_difference(f_set2)\n",
    "\n",
    "f_set3"
   ]
  },
  {
   "cell_type": "code",
   "execution_count": 20,
   "id": "6b80ed71",
   "metadata": {},
   "outputs": [
    {
     "name": "stdout",
     "output_type": "stream",
     "text": [
      "frozenset({1, 2, 3, 4, 5, 6, 7, 200.3, 8, 200, 1000, 300})\n"
     ]
    }
   ],
   "source": [
    "f_set4 = f_set2.symmetric_difference(f_set1)\n",
    "print(f_set4)"
   ]
  },
  {
   "cell_type": "markdown",
   "id": "9a5e97df",
   "metadata": {},
   "source": [
    "### 5. issuperset()"
   ]
  },
  {
   "cell_type": "code",
   "execution_count": 23,
   "id": "f8bc0244",
   "metadata": {},
   "outputs": [
    {
     "data": {
      "text/plain": [
       "False"
      ]
     },
     "execution_count": 23,
     "metadata": {},
     "output_type": "execute_result"
    }
   ],
   "source": [
    "f_set1 = frozenset({1,2,3,4,100,200.300})\n",
    "f_set2 = frozenset({1,5,6,7,8,100,200,300,1000,2000})\n",
    "\n",
    "f_set1.issuperset(f_set2)"
   ]
  },
  {
   "cell_type": "code",
   "execution_count": 24,
   "id": "7e8b5cb2",
   "metadata": {},
   "outputs": [
    {
     "data": {
      "text/plain": [
       "False"
      ]
     },
     "execution_count": 24,
     "metadata": {},
     "output_type": "execute_result"
    }
   ],
   "source": [
    "f_set2.issuperset(f_set1)  ## All elements of right set shall be present in left set then only output will be True"
   ]
  },
  {
   "cell_type": "code",
   "execution_count": 25,
   "id": "52ede7f3",
   "metadata": {},
   "outputs": [
    {
     "data": {
      "text/plain": [
       "False"
      ]
     },
     "execution_count": 25,
     "metadata": {},
     "output_type": "execute_result"
    }
   ],
   "source": [
    "f_set1 = frozenset({1,2,3,4,5,100})\n",
    "f_set2 = frozenset({100,200,300,1,2,3,4,5})\n",
    "\n",
    "f_set1.issuperset(f_set2)"
   ]
  },
  {
   "cell_type": "code",
   "execution_count": 26,
   "id": "3df81b49",
   "metadata": {},
   "outputs": [
    {
     "data": {
      "text/plain": [
       "True"
      ]
     },
     "execution_count": 26,
     "metadata": {},
     "output_type": "execute_result"
    }
   ],
   "source": [
    "f_set2.issuperset(f_set1)"
   ]
  },
  {
   "cell_type": "markdown",
   "id": "1c272e21",
   "metadata": {},
   "source": [
    "### 6. issubset()"
   ]
  },
  {
   "cell_type": "code",
   "execution_count": 27,
   "id": "03e8ea9b",
   "metadata": {},
   "outputs": [
    {
     "data": {
      "text/plain": [
       "False"
      ]
     },
     "execution_count": 27,
     "metadata": {},
     "output_type": "execute_result"
    }
   ],
   "source": [
    "f_set1 = frozenset({1,2,3,4,100,200.300})\n",
    "f_set2 = frozenset({1,5,6,7,8,100,200,300,1000,2000})\n",
    "\n",
    "f_set1.issubset(f_set2)"
   ]
  },
  {
   "cell_type": "code",
   "execution_count": 31,
   "id": "4851cf91",
   "metadata": {},
   "outputs": [
    {
     "data": {
      "text/plain": [
       "True"
      ]
     },
     "execution_count": 31,
     "metadata": {},
     "output_type": "execute_result"
    }
   ],
   "source": [
    "f_set1 = frozenset({1,2,3,4,100,200})\n",
    "f_set2 = frozenset({1,2,3,4,5,6,7,8,100,200,300,1000,2000})\n",
    "\n",
    "f_set1.issubset(f_set2)  ## If the set on left (the smaller one) has its all elements present in right set (larger one)\n",
    "                         ## then only the output will be true"
   ]
  },
  {
   "cell_type": "markdown",
   "id": "ea8110bd",
   "metadata": {},
   "source": [
    "### 7. isdisjoint()"
   ]
  },
  {
   "cell_type": "code",
   "execution_count": 32,
   "id": "290771b7",
   "metadata": {},
   "outputs": [
    {
     "data": {
      "text/plain": [
       "True"
      ]
     },
     "execution_count": 32,
     "metadata": {},
     "output_type": "execute_result"
    }
   ],
   "source": [
    "f_set1 = frozenset({1,2,3,4,200.300})\n",
    "f_set2 = frozenset({5,6,7,8,100,200,300,1000,2000})\n",
    "\n",
    "f_set1.isdisjoint(f_set2) ## If none of the elements from lef and right set are comman \n",
    "                          ## the output will be True else it will be false"
   ]
  },
  {
   "cell_type": "code",
   "execution_count": 33,
   "id": "1e81c593",
   "metadata": {},
   "outputs": [
    {
     "data": {
      "text/plain": [
       "False"
      ]
     },
     "execution_count": 33,
     "metadata": {},
     "output_type": "execute_result"
    }
   ],
   "source": [
    "f_set1 = frozenset({1,2,3,4,200.300})\n",
    "f_set2 = frozenset({1,5,6,7,8,100,200,300,1000,2000})\n",
    "\n",
    "f_set1.isdisjoint(f_set2)"
   ]
  },
  {
   "cell_type": "code",
   "execution_count": null,
   "id": "d8d9f7b9",
   "metadata": {},
   "outputs": [],
   "source": []
  }
 ],
 "metadata": {
  "kernelspec": {
   "display_name": "Python 3 (ipykernel)",
   "language": "python",
   "name": "python3"
  },
  "language_info": {
   "codemirror_mode": {
    "name": "ipython",
    "version": 3
   },
   "file_extension": ".py",
   "mimetype": "text/x-python",
   "name": "python",
   "nbconvert_exporter": "python",
   "pygments_lexer": "ipython3",
   "version": "3.10.5"
  }
 },
 "nbformat": 4,
 "nbformat_minor": 5
}
