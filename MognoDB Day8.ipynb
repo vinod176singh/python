{
 "cells": [
  {
   "cell_type": "code",
   "execution_count": null,
   "id": "5ef6a387",
   "metadata": {},
   "outputs": [],
   "source": [
    "mysql:\n",
    "\n",
    "workbench/jupyter notebook\n",
    "relational database\n",
    "structured data\n",
    "tables/relations"
   ]
  },
  {
   "cell_type": "code",
   "execution_count": null,
   "id": "5841a940",
   "metadata": {},
   "outputs": [],
   "source": [
    "MongoDB:\n",
    "\n",
    "compass/jupyter notebook\n",
    "non relational database\n",
    "unstructured data\n",
    "json files >> dictonary >> keys:value"
   ]
  },
  {
   "cell_type": "code",
   "execution_count": null,
   "id": "2bdefcad",
   "metadata": {},
   "outputs": [],
   "source": [
    "emp:\n",
    "    empid,empname, salary, loc  contact\n",
    "    1001   rohit.  8000.  pune  null\n",
    "    1002.  snehal. 7000.  pune  9405067710\n",
    "    1003.  dhiraj. 5000\n",
    "    1004.  akash.  '9000'\n",
    "    1005.  ashish. 5000.  pune. mob_no/email"
   ]
  },
  {
   "cell_type": "code",
   "execution_count": null,
   "id": "d6f0112a",
   "metadata": {},
   "outputs": [],
   "source": [
    "{contact:{'mobno':value,'email':value}}"
   ]
  },
  {
   "cell_type": "code",
   "execution_count": null,
   "id": "0060b7bb",
   "metadata": {},
   "outputs": [],
   "source": [
    "mysql    == mongoDB\n",
    "database == database\n",
    "tables   == collections\n",
    "rows     == document\n",
    "columns  == keys"
   ]
  },
  {
   "cell_type": "code",
   "execution_count": null,
   "id": "f53fa335",
   "metadata": {},
   "outputs": [],
   "source": [
    "databases >> database >> collections >> documents >> key:value"
   ]
  },
  {
   "cell_type": "markdown",
   "id": "3193f3c7",
   "metadata": {},
   "source": [
    "### libraries required"
   ]
  },
  {
   "cell_type": "code",
   "execution_count": 1,
   "id": "25027dcd",
   "metadata": {},
   "outputs": [],
   "source": [
    "import pymongo\n",
    "import pandas as pd"
   ]
  },
  {
   "cell_type": "markdown",
   "id": "60068d3f",
   "metadata": {},
   "source": [
    "### create connection"
   ]
  },
  {
   "cell_type": "code",
   "execution_count": 2,
   "id": "cce1a15e",
   "metadata": {},
   "outputs": [
    {
     "data": {
      "text/plain": [
       "MongoClient(host=['localhost:27017'], document_class=dict, tz_aware=False, connect=True)"
      ]
     },
     "execution_count": 2,
     "metadata": {},
     "output_type": "execute_result"
    }
   ],
   "source": [
    "client=pymongo.MongoClient('mongodb://localhost:27017')\n",
    "client"
   ]
  },
  {
   "cell_type": "markdown",
   "id": "31bef2ab",
   "metadata": {},
   "source": [
    "### operations"
   ]
  },
  {
   "cell_type": "code",
   "execution_count": null,
   "id": "4c5d3c2c",
   "metadata": {},
   "outputs": [],
   "source": [
    "1. create database\n",
    "2. create collections\n",
    "3. insert documents\n",
    "4. read data\n",
    "5. update data\n",
    "6. delete data"
   ]
  },
  {
   "cell_type": "markdown",
   "id": "0f2f2572",
   "metadata": {},
   "source": [
    "### 1.create database/use database"
   ]
  },
  {
   "cell_type": "code",
   "execution_count": 3,
   "id": "76260f9f",
   "metadata": {},
   "outputs": [
    {
     "data": {
      "text/plain": [
       "Database(MongoClient(host=['localhost:27017'], document_class=dict, tz_aware=False, connect=True), 'db_test')"
      ]
     },
     "execution_count": 3,
     "metadata": {},
     "output_type": "execute_result"
    }
   ],
   "source": [
    "db=client['db_test']\n",
    "db"
   ]
  },
  {
   "cell_type": "code",
   "execution_count": 4,
   "id": "51fe2dc8",
   "metadata": {},
   "outputs": [
    {
     "data": {
      "text/plain": [
       "['ML', 'admin', 'config', 'local']"
      ]
     },
     "execution_count": 4,
     "metadata": {},
     "output_type": "execute_result"
    }
   ],
   "source": [
    "client.list_database_names()"
   ]
  },
  {
   "cell_type": "markdown",
   "id": "51f3570b",
   "metadata": {},
   "source": [
    "### 2. create collection"
   ]
  },
  {
   "cell_type": "code",
   "execution_count": 5,
   "id": "06c21ade",
   "metadata": {},
   "outputs": [
    {
     "data": {
      "text/plain": [
       "Collection(Database(MongoClient(host=['localhost:27017'], document_class=dict, tz_aware=False, connect=True), 'db_test'), 'student')"
      ]
     },
     "execution_count": 5,
     "metadata": {},
     "output_type": "execute_result"
    }
   ],
   "source": [
    "coll=db['student']\n",
    "coll"
   ]
  },
  {
   "cell_type": "code",
   "execution_count": 6,
   "id": "1f72eb3c",
   "metadata": {},
   "outputs": [
    {
     "data": {
      "text/plain": [
       "[]"
      ]
     },
     "execution_count": 6,
     "metadata": {},
     "output_type": "execute_result"
    }
   ],
   "source": [
    "db.list_collection_names()"
   ]
  },
  {
   "cell_type": "markdown",
   "id": "6ad0ba7b",
   "metadata": {},
   "source": [
    "### 3. insert documents"
   ]
  },
  {
   "cell_type": "code",
   "execution_count": null,
   "id": "ff03b618",
   "metadata": {},
   "outputs": [],
   "source": [
    "insert_one() : used to insert single document\n",
    "insert_many(): used to insert multiple documents"
   ]
  },
  {
   "cell_type": "markdown",
   "id": "a0468d03",
   "metadata": {},
   "source": [
    "#### 1. insert_one()"
   ]
  },
  {
   "cell_type": "code",
   "execution_count": null,
   "id": "d4b140bc",
   "metadata": {},
   "outputs": [],
   "source": [
    "collection_name.insert_one({key:value})"
   ]
  },
  {
   "cell_type": "code",
   "execution_count": 7,
   "id": "7815ed12",
   "metadata": {},
   "outputs": [
    {
     "data": {
      "text/plain": [
       "<pymongo.results.InsertOneResult at 0x10378e1a0>"
      ]
     },
     "execution_count": 7,
     "metadata": {},
     "output_type": "execute_result"
    }
   ],
   "source": [
    "coll.insert_one({'rollno':101,'stud_name':'rahul','cgpa':9,'loc':'pune'})"
   ]
  },
  {
   "cell_type": "code",
   "execution_count": 8,
   "id": "833f3931",
   "metadata": {},
   "outputs": [
    {
     "data": {
      "text/plain": [
       "['ML', 'admin', 'config', 'db_test', 'local']"
      ]
     },
     "execution_count": 8,
     "metadata": {},
     "output_type": "execute_result"
    }
   ],
   "source": [
    "client.list_database_names()"
   ]
  },
  {
   "cell_type": "code",
   "execution_count": 9,
   "id": "b622085f",
   "metadata": {},
   "outputs": [
    {
     "data": {
      "text/plain": [
       "['student']"
      ]
     },
     "execution_count": 9,
     "metadata": {},
     "output_type": "execute_result"
    }
   ],
   "source": [
    "db.list_collection_names()"
   ]
  },
  {
   "cell_type": "code",
   "execution_count": 10,
   "id": "bc44d4df",
   "metadata": {},
   "outputs": [
    {
     "data": {
      "text/plain": [
       "<pymongo.results.InsertOneResult at 0x103757340>"
      ]
     },
     "execution_count": 10,
     "metadata": {},
     "output_type": "execute_result"
    }
   ],
   "source": [
    "coll.insert_one({'rollno':102,'stud_name':'rahul',\n",
    "                 'cgpa':8,'loc':'mumbai','contact':8983720070})"
   ]
  },
  {
   "cell_type": "code",
   "execution_count": 11,
   "id": "dc91198a",
   "metadata": {},
   "outputs": [
    {
     "data": {
      "text/plain": [
       "<pymongo.results.InsertOneResult at 0x10378e080>"
      ]
     },
     "execution_count": 11,
     "metadata": {},
     "output_type": "execute_result"
    }
   ],
   "source": [
    "coll.insert_one({'rollno':103,'stud_name':'snehal',\n",
    "                 'cgpa':'6','loc':'pune','contact':8983720072})"
   ]
  },
  {
   "cell_type": "code",
   "execution_count": 13,
   "id": "a05605e3",
   "metadata": {},
   "outputs": [
    {
     "data": {
      "text/plain": [
       "<pymongo.results.InsertOneResult at 0x10de72c80>"
      ]
     },
     "execution_count": 13,
     "metadata": {},
     "output_type": "execute_result"
    }
   ],
   "source": [
    "coll.insert_one({'rollno':104,'stud_name':'dhiraj',\n",
    "                 'cgpa':7,'loc':'pune',\n",
    "                 'contact':{'mob':8983720072,'email':'dhiraj@gmail.com'}})"
   ]
  },
  {
   "cell_type": "markdown",
   "id": "682dbb8c",
   "metadata": {},
   "source": [
    "#### 2.insert_many()"
   ]
  },
  {
   "cell_type": "code",
   "execution_count": null,
   "id": "dd9178d4",
   "metadata": {},
   "outputs": [],
   "source": [
    "collection_name.insert_many([{},{},{}])"
   ]
  },
  {
   "cell_type": "code",
   "execution_count": 23,
   "id": "36945e33",
   "metadata": {},
   "outputs": [
    {
     "data": {
      "text/plain": [
       "<pymongo.results.InsertManyResult at 0x10378e290>"
      ]
     },
     "execution_count": 23,
     "metadata": {},
     "output_type": "execute_result"
    }
   ],
   "source": [
    "coll.insert_many([{'rollno':105,'stud_name':'akash'},\n",
    "                {'rollno':106,'stud_name':'ashish','loc':'pune'}])"
   ]
  },
  {
   "cell_type": "markdown",
   "id": "cada0367",
   "metadata": {},
   "source": [
    "### read data"
   ]
  },
  {
   "cell_type": "code",
   "execution_count": null,
   "id": "bf0919e5",
   "metadata": {},
   "outputs": [],
   "source": [
    "find_one(): return a single document\n",
    "find()    : return multiple documents"
   ]
  },
  {
   "cell_type": "markdown",
   "id": "59adc3cf",
   "metadata": {},
   "source": [
    "### 1. find_one()"
   ]
  },
  {
   "cell_type": "code",
   "execution_count": null,
   "id": "abb444ac",
   "metadata": {},
   "outputs": [],
   "source": [
    "collection_name.find_one({filter condition},{select})\n",
    "without filter condition : return the first document of collection\n",
    "with filter condition.   : return the first matched document"
   ]
  },
  {
   "cell_type": "code",
   "execution_count": 15,
   "id": "45752c07",
   "metadata": {},
   "outputs": [
    {
     "data": {
      "text/plain": [
       "{'_id': ObjectId('63acf4ae1214815db18795bf'),\n",
       " 'rollno': 101,\n",
       " 'stud_name': 'rahul',\n",
       " 'cgpa': 9,\n",
       " 'loc': 'pune'}"
      ]
     },
     "execution_count": 15,
     "metadata": {},
     "output_type": "execute_result"
    }
   ],
   "source": [
    "coll.find_one({})"
   ]
  },
  {
   "cell_type": "code",
   "execution_count": 16,
   "id": "7e2942c0",
   "metadata": {},
   "outputs": [
    {
     "data": {
      "text/plain": [
       "{'rollno': 101, 'stud_name': 'rahul', 'cgpa': 9, 'loc': 'pune'}"
      ]
     },
     "execution_count": 16,
     "metadata": {},
     "output_type": "execute_result"
    }
   ],
   "source": [
    "coll.find_one({},{'_id':0})"
   ]
  },
  {
   "cell_type": "code",
   "execution_count": 17,
   "id": "d36870cc",
   "metadata": {},
   "outputs": [
    {
     "data": {
      "text/plain": [
       "{'rollno': 101, 'stud_name': 'rahul', 'cgpa': 9}"
      ]
     },
     "execution_count": 17,
     "metadata": {},
     "output_type": "execute_result"
    }
   ],
   "source": [
    "coll.find_one({},{'_id':0,'loc':0})"
   ]
  },
  {
   "cell_type": "code",
   "execution_count": 18,
   "id": "eedeb1cb",
   "metadata": {},
   "outputs": [
    {
     "data": {
      "text/plain": [
       "{'loc': 'pune'}"
      ]
     },
     "execution_count": 18,
     "metadata": {},
     "output_type": "execute_result"
    }
   ],
   "source": [
    "coll.find_one({},{'_id':0,'loc':1})"
   ]
  },
  {
   "cell_type": "code",
   "execution_count": 19,
   "id": "36509f70",
   "metadata": {},
   "outputs": [
    {
     "data": {
      "text/plain": [
       "{'_id': ObjectId('63acf4ae1214815db18795bf'), 'loc': 'pune'}"
      ]
     },
     "execution_count": 19,
     "metadata": {},
     "output_type": "execute_result"
    }
   ],
   "source": [
    "coll.find_one({},{'loc':1})"
   ]
  },
  {
   "cell_type": "code",
   "execution_count": 21,
   "id": "73e3553a",
   "metadata": {},
   "outputs": [
    {
     "data": {
      "text/plain": [
       "{'rollno': 101, 'stud_name': 'rahul'}"
      ]
     },
     "execution_count": 21,
     "metadata": {},
     "output_type": "execute_result"
    }
   ],
   "source": [
    "coll.find_one({},{'_id':0,'rollno':1,'stud_name':1})"
   ]
  },
  {
   "cell_type": "code",
   "execution_count": 22,
   "id": "82680899",
   "metadata": {},
   "outputs": [
    {
     "ename": "OperationFailure",
     "evalue": "Cannot do exclusion on field stud_name in inclusion projection, full error: {'ok': 0.0, 'errmsg': 'Cannot do exclusion on field stud_name in inclusion projection', 'code': 31254, 'codeName': 'Location31254'}",
     "output_type": "error",
     "traceback": [
      "\u001b[0;31m---------------------------------------------------------------------------\u001b[0m",
      "\u001b[0;31mOperationFailure\u001b[0m                          Traceback (most recent call last)",
      "Input \u001b[0;32mIn [22]\u001b[0m, in \u001b[0;36m<cell line: 1>\u001b[0;34m()\u001b[0m\n\u001b[0;32m----> 1\u001b[0m \u001b[43mcoll\u001b[49m\u001b[38;5;241;43m.\u001b[39;49m\u001b[43mfind_one\u001b[49m\u001b[43m(\u001b[49m\u001b[43m{\u001b[49m\u001b[43m}\u001b[49m\u001b[43m,\u001b[49m\u001b[43m{\u001b[49m\u001b[38;5;124;43m'\u001b[39;49m\u001b[38;5;124;43m_id\u001b[39;49m\u001b[38;5;124;43m'\u001b[39;49m\u001b[43m:\u001b[49m\u001b[38;5;241;43m0\u001b[39;49m\u001b[43m,\u001b[49m\u001b[38;5;124;43m'\u001b[39;49m\u001b[38;5;124;43mrollno\u001b[39;49m\u001b[38;5;124;43m'\u001b[39;49m\u001b[43m:\u001b[49m\u001b[38;5;241;43m1\u001b[39;49m\u001b[43m,\u001b[49m\u001b[38;5;124;43m'\u001b[39;49m\u001b[38;5;124;43mstud_name\u001b[39;49m\u001b[38;5;124;43m'\u001b[39;49m\u001b[43m:\u001b[49m\u001b[38;5;241;43m0\u001b[39;49m\u001b[43m}\u001b[49m\u001b[43m)\u001b[49m\n",
      "File \u001b[0;32m/Library/Frameworks/Python.framework/Versions/3.10/lib/python3.10/site-packages/pymongo/collection.py:1419\u001b[0m, in \u001b[0;36mCollection.find_one\u001b[0;34m(self, filter, *args, **kwargs)\u001b[0m\n\u001b[1;32m   1417\u001b[0m     \u001b[38;5;28mfilter\u001b[39m \u001b[38;5;241m=\u001b[39m {\u001b[38;5;124m\"\u001b[39m\u001b[38;5;124m_id\u001b[39m\u001b[38;5;124m\"\u001b[39m: \u001b[38;5;28mfilter\u001b[39m}\n\u001b[1;32m   1418\u001b[0m cursor \u001b[38;5;241m=\u001b[39m \u001b[38;5;28mself\u001b[39m\u001b[38;5;241m.\u001b[39mfind(\u001b[38;5;28mfilter\u001b[39m, \u001b[38;5;241m*\u001b[39margs, \u001b[38;5;241m*\u001b[39m\u001b[38;5;241m*\u001b[39mkwargs)\n\u001b[0;32m-> 1419\u001b[0m \u001b[38;5;28;01mfor\u001b[39;00m result \u001b[38;5;129;01min\u001b[39;00m cursor\u001b[38;5;241m.\u001b[39mlimit(\u001b[38;5;241m-\u001b[39m\u001b[38;5;241m1\u001b[39m):\n\u001b[1;32m   1420\u001b[0m     \u001b[38;5;28;01mreturn\u001b[39;00m result\n\u001b[1;32m   1421\u001b[0m \u001b[38;5;28;01mreturn\u001b[39;00m \u001b[38;5;28;01mNone\u001b[39;00m\n",
      "File \u001b[0;32m/Library/Frameworks/Python.framework/Versions/3.10/lib/python3.10/site-packages/pymongo/cursor.py:1248\u001b[0m, in \u001b[0;36mCursor.next\u001b[0;34m(self)\u001b[0m\n\u001b[1;32m   1246\u001b[0m \u001b[38;5;28;01mif\u001b[39;00m \u001b[38;5;28mself\u001b[39m\u001b[38;5;241m.\u001b[39m__empty:\n\u001b[1;32m   1247\u001b[0m     \u001b[38;5;28;01mraise\u001b[39;00m \u001b[38;5;167;01mStopIteration\u001b[39;00m\n\u001b[0;32m-> 1248\u001b[0m \u001b[38;5;28;01mif\u001b[39;00m \u001b[38;5;28mlen\u001b[39m(\u001b[38;5;28mself\u001b[39m\u001b[38;5;241m.\u001b[39m__data) \u001b[38;5;129;01mor\u001b[39;00m \u001b[38;5;28;43mself\u001b[39;49m\u001b[38;5;241;43m.\u001b[39;49m\u001b[43m_refresh\u001b[49m\u001b[43m(\u001b[49m\u001b[43m)\u001b[49m:\n\u001b[1;32m   1249\u001b[0m     \u001b[38;5;28;01mreturn\u001b[39;00m \u001b[38;5;28mself\u001b[39m\u001b[38;5;241m.\u001b[39m__data\u001b[38;5;241m.\u001b[39mpopleft()\n\u001b[1;32m   1250\u001b[0m \u001b[38;5;28;01melse\u001b[39;00m:\n",
      "File \u001b[0;32m/Library/Frameworks/Python.framework/Versions/3.10/lib/python3.10/site-packages/pymongo/cursor.py:1165\u001b[0m, in \u001b[0;36mCursor._refresh\u001b[0;34m(self)\u001b[0m\n\u001b[1;32m   1143\u001b[0m         \u001b[38;5;28;01mraise\u001b[39;00m InvalidOperation(\n\u001b[1;32m   1144\u001b[0m             \u001b[38;5;124m\"\u001b[39m\u001b[38;5;124mPassing a \u001b[39m\u001b[38;5;124m'\u001b[39m\u001b[38;5;124mhint\u001b[39m\u001b[38;5;124m'\u001b[39m\u001b[38;5;124m is required when using the min/max query\u001b[39m\u001b[38;5;124m\"\u001b[39m\n\u001b[1;32m   1145\u001b[0m             \u001b[38;5;124m\"\u001b[39m\u001b[38;5;124m option to ensure the query utilizes the correct index\u001b[39m\u001b[38;5;124m\"\u001b[39m\n\u001b[1;32m   1146\u001b[0m         )\n\u001b[1;32m   1147\u001b[0m     q \u001b[38;5;241m=\u001b[39m \u001b[38;5;28mself\u001b[39m\u001b[38;5;241m.\u001b[39m_query_class(\n\u001b[1;32m   1148\u001b[0m         \u001b[38;5;28mself\u001b[39m\u001b[38;5;241m.\u001b[39m__query_flags,\n\u001b[1;32m   1149\u001b[0m         \u001b[38;5;28mself\u001b[39m\u001b[38;5;241m.\u001b[39m__collection\u001b[38;5;241m.\u001b[39mdatabase\u001b[38;5;241m.\u001b[39mname,\n\u001b[0;32m   (...)\u001b[0m\n\u001b[1;32m   1163\u001b[0m         \u001b[38;5;28mself\u001b[39m\u001b[38;5;241m.\u001b[39m__exhaust,\n\u001b[1;32m   1164\u001b[0m     )\n\u001b[0;32m-> 1165\u001b[0m     \u001b[38;5;28;43mself\u001b[39;49m\u001b[38;5;241;43m.\u001b[39;49m\u001b[43m__send_message\u001b[49m\u001b[43m(\u001b[49m\u001b[43mq\u001b[49m\u001b[43m)\u001b[49m\n\u001b[1;32m   1166\u001b[0m \u001b[38;5;28;01melif\u001b[39;00m \u001b[38;5;28mself\u001b[39m\u001b[38;5;241m.\u001b[39m__id:  \u001b[38;5;66;03m# Get More\u001b[39;00m\n\u001b[1;32m   1167\u001b[0m     \u001b[38;5;28;01mif\u001b[39;00m \u001b[38;5;28mself\u001b[39m\u001b[38;5;241m.\u001b[39m__limit:\n",
      "File \u001b[0;32m/Library/Frameworks/Python.framework/Versions/3.10/lib/python3.10/site-packages/pymongo/cursor.py:1052\u001b[0m, in \u001b[0;36mCursor.__send_message\u001b[0;34m(self, operation)\u001b[0m\n\u001b[1;32m   1049\u001b[0m     \u001b[38;5;28;01mraise\u001b[39;00m InvalidOperation(\u001b[38;5;124m\"\u001b[39m\u001b[38;5;124mexhaust cursors do not support auto encryption\u001b[39m\u001b[38;5;124m\"\u001b[39m)\n\u001b[1;32m   1051\u001b[0m \u001b[38;5;28;01mtry\u001b[39;00m:\n\u001b[0;32m-> 1052\u001b[0m     response \u001b[38;5;241m=\u001b[39m \u001b[43mclient\u001b[49m\u001b[38;5;241;43m.\u001b[39;49m\u001b[43m_run_operation\u001b[49m\u001b[43m(\u001b[49m\n\u001b[1;32m   1053\u001b[0m \u001b[43m        \u001b[49m\u001b[43moperation\u001b[49m\u001b[43m,\u001b[49m\u001b[43m \u001b[49m\u001b[38;5;28;43mself\u001b[39;49m\u001b[38;5;241;43m.\u001b[39;49m\u001b[43m_unpack_response\u001b[49m\u001b[43m,\u001b[49m\u001b[43m \u001b[49m\u001b[43maddress\u001b[49m\u001b[38;5;241;43m=\u001b[39;49m\u001b[38;5;28;43mself\u001b[39;49m\u001b[38;5;241;43m.\u001b[39;49m\u001b[43m__address\u001b[49m\n\u001b[1;32m   1054\u001b[0m \u001b[43m    \u001b[49m\u001b[43m)\u001b[49m\n\u001b[1;32m   1055\u001b[0m \u001b[38;5;28;01mexcept\u001b[39;00m OperationFailure \u001b[38;5;28;01mas\u001b[39;00m exc:\n\u001b[1;32m   1056\u001b[0m     \u001b[38;5;28;01mif\u001b[39;00m exc\u001b[38;5;241m.\u001b[39mcode \u001b[38;5;129;01min\u001b[39;00m _CURSOR_CLOSED_ERRORS \u001b[38;5;129;01mor\u001b[39;00m \u001b[38;5;28mself\u001b[39m\u001b[38;5;241m.\u001b[39m__exhaust:\n\u001b[1;32m   1057\u001b[0m         \u001b[38;5;66;03m# Don't send killCursors because the cursor is already closed.\u001b[39;00m\n",
      "File \u001b[0;32m/Library/Frameworks/Python.framework/Versions/3.10/lib/python3.10/site-packages/pymongo/mongo_client.py:1267\u001b[0m, in \u001b[0;36mMongoClient._run_operation\u001b[0;34m(self, operation, unpack_res, address)\u001b[0m\n\u001b[1;32m   1262\u001b[0m \u001b[38;5;28;01mdef\u001b[39;00m \u001b[38;5;21m_cmd\u001b[39m(session, server, sock_info, read_preference):\n\u001b[1;32m   1263\u001b[0m     \u001b[38;5;28;01mreturn\u001b[39;00m server\u001b[38;5;241m.\u001b[39mrun_operation(\n\u001b[1;32m   1264\u001b[0m         sock_info, operation, read_preference, \u001b[38;5;28mself\u001b[39m\u001b[38;5;241m.\u001b[39m_event_listeners, unpack_res\n\u001b[1;32m   1265\u001b[0m     )\n\u001b[0;32m-> 1267\u001b[0m \u001b[38;5;28;01mreturn\u001b[39;00m \u001b[38;5;28;43mself\u001b[39;49m\u001b[38;5;241;43m.\u001b[39;49m\u001b[43m_retryable_read\u001b[49m\u001b[43m(\u001b[49m\n\u001b[1;32m   1268\u001b[0m \u001b[43m    \u001b[49m\u001b[43m_cmd\u001b[49m\u001b[43m,\u001b[49m\n\u001b[1;32m   1269\u001b[0m \u001b[43m    \u001b[49m\u001b[43moperation\u001b[49m\u001b[38;5;241;43m.\u001b[39;49m\u001b[43mread_preference\u001b[49m\u001b[43m,\u001b[49m\n\u001b[1;32m   1270\u001b[0m \u001b[43m    \u001b[49m\u001b[43moperation\u001b[49m\u001b[38;5;241;43m.\u001b[39;49m\u001b[43msession\u001b[49m\u001b[43m,\u001b[49m\n\u001b[1;32m   1271\u001b[0m \u001b[43m    \u001b[49m\u001b[43maddress\u001b[49m\u001b[38;5;241;43m=\u001b[39;49m\u001b[43maddress\u001b[49m\u001b[43m,\u001b[49m\n\u001b[1;32m   1272\u001b[0m \u001b[43m    \u001b[49m\u001b[43mretryable\u001b[49m\u001b[38;5;241;43m=\u001b[39;49m\u001b[38;5;28;43misinstance\u001b[39;49m\u001b[43m(\u001b[49m\u001b[43moperation\u001b[49m\u001b[43m,\u001b[49m\u001b[43m \u001b[49m\u001b[43mmessage\u001b[49m\u001b[38;5;241;43m.\u001b[39;49m\u001b[43m_Query\u001b[49m\u001b[43m)\u001b[49m\u001b[43m,\u001b[49m\n\u001b[1;32m   1273\u001b[0m \u001b[43m\u001b[49m\u001b[43m)\u001b[49m\n",
      "File \u001b[0;32m/Library/Frameworks/Python.framework/Versions/3.10/lib/python3.10/site-packages/pymongo/mongo_client.py:1371\u001b[0m, in \u001b[0;36mMongoClient._retryable_read\u001b[0;34m(self, func, read_pref, session, address, retryable)\u001b[0m\n\u001b[1;32m   1369\u001b[0m             \u001b[38;5;28;01massert\u001b[39;00m last_error \u001b[38;5;129;01mis\u001b[39;00m \u001b[38;5;129;01mnot\u001b[39;00m \u001b[38;5;28;01mNone\u001b[39;00m\n\u001b[1;32m   1370\u001b[0m             \u001b[38;5;28;01mraise\u001b[39;00m last_error\n\u001b[0;32m-> 1371\u001b[0m         \u001b[38;5;28;01mreturn\u001b[39;00m \u001b[43mfunc\u001b[49m\u001b[43m(\u001b[49m\u001b[43msession\u001b[49m\u001b[43m,\u001b[49m\u001b[43m \u001b[49m\u001b[43mserver\u001b[49m\u001b[43m,\u001b[49m\u001b[43m \u001b[49m\u001b[43msock_info\u001b[49m\u001b[43m,\u001b[49m\u001b[43m \u001b[49m\u001b[43mread_pref\u001b[49m\u001b[43m)\u001b[49m\n\u001b[1;32m   1372\u001b[0m \u001b[38;5;28;01mexcept\u001b[39;00m ServerSelectionTimeoutError:\n\u001b[1;32m   1373\u001b[0m     \u001b[38;5;28;01mif\u001b[39;00m retrying:\n\u001b[1;32m   1374\u001b[0m         \u001b[38;5;66;03m# The application may think the write was never attempted\u001b[39;00m\n\u001b[1;32m   1375\u001b[0m         \u001b[38;5;66;03m# if we raise ServerSelectionTimeoutError on the retry\u001b[39;00m\n\u001b[1;32m   1376\u001b[0m         \u001b[38;5;66;03m# attempt. Raise the original exception instead.\u001b[39;00m\n",
      "File \u001b[0;32m/Library/Frameworks/Python.framework/Versions/3.10/lib/python3.10/site-packages/pymongo/mongo_client.py:1263\u001b[0m, in \u001b[0;36mMongoClient._run_operation.<locals>._cmd\u001b[0;34m(session, server, sock_info, read_preference)\u001b[0m\n\u001b[1;32m   1262\u001b[0m \u001b[38;5;28;01mdef\u001b[39;00m \u001b[38;5;21m_cmd\u001b[39m(session, server, sock_info, read_preference):\n\u001b[0;32m-> 1263\u001b[0m     \u001b[38;5;28;01mreturn\u001b[39;00m \u001b[43mserver\u001b[49m\u001b[38;5;241;43m.\u001b[39;49m\u001b[43mrun_operation\u001b[49m\u001b[43m(\u001b[49m\n\u001b[1;32m   1264\u001b[0m \u001b[43m        \u001b[49m\u001b[43msock_info\u001b[49m\u001b[43m,\u001b[49m\u001b[43m \u001b[49m\u001b[43moperation\u001b[49m\u001b[43m,\u001b[49m\u001b[43m \u001b[49m\u001b[43mread_preference\u001b[49m\u001b[43m,\u001b[49m\u001b[43m \u001b[49m\u001b[38;5;28;43mself\u001b[39;49m\u001b[38;5;241;43m.\u001b[39;49m\u001b[43m_event_listeners\u001b[49m\u001b[43m,\u001b[49m\u001b[43m \u001b[49m\u001b[43munpack_res\u001b[49m\n\u001b[1;32m   1265\u001b[0m \u001b[43m    \u001b[49m\u001b[43m)\u001b[49m\n",
      "File \u001b[0;32m/Library/Frameworks/Python.framework/Versions/3.10/lib/python3.10/site-packages/pymongo/server.py:134\u001b[0m, in \u001b[0;36mServer.run_operation\u001b[0;34m(self, sock_info, operation, read_preference, listeners, unpack_res)\u001b[0m\n\u001b[1;32m    132\u001b[0m         first \u001b[38;5;241m=\u001b[39m docs[\u001b[38;5;241m0\u001b[39m]\n\u001b[1;32m    133\u001b[0m         operation\u001b[38;5;241m.\u001b[39mclient\u001b[38;5;241m.\u001b[39m_process_response(first, operation\u001b[38;5;241m.\u001b[39msession)\n\u001b[0;32m--> 134\u001b[0m         \u001b[43m_check_command_response\u001b[49m\u001b[43m(\u001b[49m\u001b[43mfirst\u001b[49m\u001b[43m,\u001b[49m\u001b[43m \u001b[49m\u001b[43msock_info\u001b[49m\u001b[38;5;241;43m.\u001b[39;49m\u001b[43mmax_wire_version\u001b[49m\u001b[43m)\u001b[49m\n\u001b[1;32m    135\u001b[0m \u001b[38;5;28;01mexcept\u001b[39;00m \u001b[38;5;167;01mException\u001b[39;00m \u001b[38;5;28;01mas\u001b[39;00m exc:\n\u001b[1;32m    136\u001b[0m     \u001b[38;5;28;01mif\u001b[39;00m publish:\n",
      "File \u001b[0;32m/Library/Frameworks/Python.framework/Versions/3.10/lib/python3.10/site-packages/pymongo/helpers.py:180\u001b[0m, in \u001b[0;36m_check_command_response\u001b[0;34m(response, max_wire_version, allowable_errors, parse_write_concern_error)\u001b[0m\n\u001b[1;32m    177\u001b[0m \u001b[38;5;28;01melif\u001b[39;00m code \u001b[38;5;241m==\u001b[39m \u001b[38;5;241m43\u001b[39m:\n\u001b[1;32m    178\u001b[0m     \u001b[38;5;28;01mraise\u001b[39;00m CursorNotFound(errmsg, code, response, max_wire_version)\n\u001b[0;32m--> 180\u001b[0m \u001b[38;5;28;01mraise\u001b[39;00m OperationFailure(errmsg, code, response, max_wire_version)\n",
      "\u001b[0;31mOperationFailure\u001b[0m: Cannot do exclusion on field stud_name in inclusion projection, full error: {'ok': 0.0, 'errmsg': 'Cannot do exclusion on field stud_name in inclusion projection', 'code': 31254, 'codeName': 'Location31254'}"
     ]
    }
   ],
   "source": [
    "coll.find_one({},{'_id':0,'rollno':1,'stud_name':0})"
   ]
  },
  {
   "cell_type": "code",
   "execution_count": null,
   "id": "86adaa9b",
   "metadata": {},
   "outputs": [],
   "source": [
    "20 keys : read 4 keys : specify 1 for these 4 keys\n",
    "20 keys : skip 4 keys : specify 0 for these 4 keys"
   ]
  },
  {
   "cell_type": "code",
   "execution_count": 25,
   "id": "532bea81",
   "metadata": {},
   "outputs": [
    {
     "data": {
      "text/plain": [
       "{'rollno': 105, 'stud_name': 'akash'}"
      ]
     },
     "execution_count": 25,
     "metadata": {},
     "output_type": "execute_result"
    }
   ],
   "source": [
    "coll.find_one({'rollno':105},{'_id':0})"
   ]
  },
  {
   "cell_type": "code",
   "execution_count": 27,
   "id": "dfbc5d9d",
   "metadata": {},
   "outputs": [
    {
     "data": {
      "text/plain": [
       "{'rollno': 102,\n",
       " 'stud_name': 'rahul',\n",
       " 'cgpa': 8,\n",
       " 'loc': 'mumbai',\n",
       " 'contact': 8983720070}"
      ]
     },
     "execution_count": 27,
     "metadata": {},
     "output_type": "execute_result"
    }
   ],
   "source": [
    "coll.find_one({'loc':'mumbai'},{'_id':0})"
   ]
  },
  {
   "cell_type": "code",
   "execution_count": 28,
   "id": "30589bb8",
   "metadata": {},
   "outputs": [
    {
     "data": {
      "text/plain": [
       "{'_id': ObjectId('63acf4ae1214815db18795bf'),\n",
       " 'rollno': 101,\n",
       " 'stud_name': 'rahul',\n",
       " 'cgpa': 9,\n",
       " 'loc': 'pune'}"
      ]
     },
     "execution_count": 28,
     "metadata": {},
     "output_type": "execute_result"
    }
   ],
   "source": [
    "coll.find_one({'cgpa':{'$gt':7}}) ## cgpa>7"
   ]
  },
  {
   "cell_type": "code",
   "execution_count": 30,
   "id": "6ef0715e",
   "metadata": {},
   "outputs": [
    {
     "data": {
      "text/plain": [
       "{'_id': ObjectId('63acf5e21214815db18795c2'),\n",
       " 'rollno': 104,\n",
       " 'stud_name': 'dhiraj',\n",
       " 'cgpa': 7,\n",
       " 'loc': 'pune',\n",
       " 'contact': {'mob': 8983720072, 'email': 'dhiraj@gmail.com'}}"
      ]
     },
     "execution_count": 30,
     "metadata": {},
     "output_type": "execute_result"
    }
   ],
   "source": [
    "coll.find_one({'cgpa':{'$lt':8}})"
   ]
  },
  {
   "cell_type": "code",
   "execution_count": null,
   "id": "7ac356ad",
   "metadata": {},
   "outputs": [],
   "source": [
    "$gt : greater than\n",
    "$lt : less than\n",
    "$gte: greater than equal to\n",
    "$lte: less than equal to\n",
    "$ne : not equals to\n",
    "$in : to specify multiple values"
   ]
  },
  {
   "cell_type": "code",
   "execution_count": 31,
   "id": "d7463585",
   "metadata": {},
   "outputs": [
    {
     "data": {
      "text/plain": [
       "{'rollno': 102,\n",
       " 'stud_name': 'rahul',\n",
       " 'cgpa': 8,\n",
       " 'loc': 'mumbai',\n",
       " 'contact': 8983720070}"
      ]
     },
     "execution_count": 31,
     "metadata": {},
     "output_type": "execute_result"
    }
   ],
   "source": [
    "coll.find_one({'cgpa':8},{'_id':0})"
   ]
  },
  {
   "cell_type": "code",
   "execution_count": 32,
   "id": "77904218",
   "metadata": {},
   "outputs": [
    {
     "data": {
      "text/plain": [
       "{'rollno': 102,\n",
       " 'stud_name': 'rahul',\n",
       " 'cgpa': 8,\n",
       " 'loc': 'mumbai',\n",
       " 'contact': 8983720070}"
      ]
     },
     "execution_count": 32,
     "metadata": {},
     "output_type": "execute_result"
    }
   ],
   "source": [
    "coll.find_one({'cgpa':8,'loc':'mumbai'},{'_id':0})"
   ]
  },
  {
   "cell_type": "code",
   "execution_count": 33,
   "id": "3ca9168f",
   "metadata": {},
   "outputs": [],
   "source": [
    "coll.find_one({'cgpa':8,'loc':'pune'},{'_id':0})"
   ]
  },
  {
   "cell_type": "code",
   "execution_count": 34,
   "id": "2395147e",
   "metadata": {},
   "outputs": [
    {
     "data": {
      "text/plain": [
       "{'_id': ObjectId('63acf4ae1214815db18795bf'),\n",
       " 'rollno': 101,\n",
       " 'stud_name': 'rahul',\n",
       " 'cgpa': 9,\n",
       " 'loc': 'pune'}"
      ]
     },
     "execution_count": 34,
     "metadata": {},
     "output_type": "execute_result"
    }
   ],
   "source": [
    "coll.find_one({'$or':[{'stud_name':'rahul'},{'cgpa':7}]})"
   ]
  },
  {
   "cell_type": "code",
   "execution_count": 35,
   "id": "6ca7daa8",
   "metadata": {},
   "outputs": [
    {
     "data": {
      "text/plain": [
       "{'_id': ObjectId('63acf4ae1214815db18795bf'),\n",
       " 'rollno': 101,\n",
       " 'stud_name': 'rahul',\n",
       " 'cgpa': 9,\n",
       " 'loc': 'pune'}"
      ]
     },
     "execution_count": 35,
     "metadata": {},
     "output_type": "execute_result"
    }
   ],
   "source": [
    "coll.find_one({'$or':[{'rollno':105},{'loc':'pune'}]})"
   ]
  },
  {
   "cell_type": "markdown",
   "id": "840d35a0",
   "metadata": {},
   "source": [
    "#### 2.find()"
   ]
  },
  {
   "cell_type": "code",
   "execution_count": null,
   "id": "6d5385de",
   "metadata": {},
   "outputs": [],
   "source": [
    "collection_name.find({filter condition},{select})\n",
    "without filter condition : return the all documents of collection \n",
    "   ## select * from table_name;\n",
    "with filter condition    : return the all matched document\n",
    "  ## select * from table_name where condition;"
   ]
  },
  {
   "cell_type": "code",
   "execution_count": 37,
   "id": "1380d6dd",
   "metadata": {},
   "outputs": [
    {
     "data": {
      "text/plain": [
       "[{'rollno': 101, 'stud_name': 'rahul', 'cgpa': 9, 'loc': 'pune'},\n",
       " {'rollno': 102,\n",
       "  'stud_name': 'rahul',\n",
       "  'cgpa': 8,\n",
       "  'loc': 'mumbai',\n",
       "  'contact': 8983720070},\n",
       " {'rollno': 103,\n",
       "  'stud_name': 'snehal',\n",
       "  'cgpa': '6',\n",
       "  'loc': 'pune',\n",
       "  'contact': 8983720072},\n",
       " {'rollno': 104,\n",
       "  'stud_name': 'dhiraj',\n",
       "  'cgpa': 7,\n",
       "  'loc': 'pune',\n",
       "  'contact': {'mob': 8983720072, 'email': 'dhiraj@gmail.com'}},\n",
       " {'rollno': 105, 'stud_name': 'akash'},\n",
       " {'rollno': 106, 'stud_name': 'ashish', 'loc': 'pune'},\n",
       " {'rollno': 105, 'stud_name': 'akash'},\n",
       " {'rollno': 106, 'stud_name': 'ashish', 'loc': 'pune'}]"
      ]
     },
     "execution_count": 37,
     "metadata": {},
     "output_type": "execute_result"
    }
   ],
   "source": [
    "data=coll.find({},{'_id':0})\n",
    "list(data)"
   ]
  },
  {
   "cell_type": "code",
   "execution_count": 38,
   "id": "8ee89e83",
   "metadata": {},
   "outputs": [
    {
     "data": {
      "text/plain": [
       "[{'rollno': 101, 'stud_name': 'rahul', 'cgpa': 9, 'loc': 'pune'},\n",
       " {'rollno': 103,\n",
       "  'stud_name': 'snehal',\n",
       "  'cgpa': '6',\n",
       "  'loc': 'pune',\n",
       "  'contact': 8983720072},\n",
       " {'rollno': 104,\n",
       "  'stud_name': 'dhiraj',\n",
       "  'cgpa': 7,\n",
       "  'loc': 'pune',\n",
       "  'contact': {'mob': 8983720072, 'email': 'dhiraj@gmail.com'}},\n",
       " {'rollno': 106, 'stud_name': 'ashish', 'loc': 'pune'},\n",
       " {'rollno': 106, 'stud_name': 'ashish', 'loc': 'pune'}]"
      ]
     },
     "execution_count": 38,
     "metadata": {},
     "output_type": "execute_result"
    }
   ],
   "source": [
    "data=coll.find({'loc':'pune'},{'_id':0})\n",
    "list(data)"
   ]
  },
  {
   "cell_type": "code",
   "execution_count": 39,
   "id": "8523d5bc",
   "metadata": {},
   "outputs": [
    {
     "data": {
      "text/plain": [
       "[{'rollno': 104,\n",
       "  'stud_name': 'dhiraj',\n",
       "  'cgpa': 7,\n",
       "  'loc': 'pune',\n",
       "  'contact': {'mob': 8983720072, 'email': 'dhiraj@gmail.com'}}]"
      ]
     },
     "execution_count": 39,
     "metadata": {},
     "output_type": "execute_result"
    }
   ],
   "source": [
    "data=coll.find({'stud_name':'dhiraj'},{'_id':0})\n",
    "list(data)"
   ]
  },
  {
   "cell_type": "code",
   "execution_count": 40,
   "id": "f05c2646",
   "metadata": {},
   "outputs": [
    {
     "data": {
      "text/plain": [
       "[{'rollno': 102,\n",
       "  'stud_name': 'rahul',\n",
       "  'cgpa': 8,\n",
       "  'loc': 'mumbai',\n",
       "  'contact': 8983720070},\n",
       " {'rollno': 104,\n",
       "  'stud_name': 'dhiraj',\n",
       "  'cgpa': 7,\n",
       "  'loc': 'pune',\n",
       "  'contact': {'mob': 8983720072, 'email': 'dhiraj@gmail.com'}},\n",
       " {'rollno': 105, 'stud_name': 'akash'},\n",
       " {'rollno': 105, 'stud_name': 'akash'}]"
      ]
     },
     "execution_count": 40,
     "metadata": {},
     "output_type": "execute_result"
    }
   ],
   "source": [
    "data=coll.find({'rollno':{'$in':[102,104,105]}},{'_id':0})\n",
    "list(data)"
   ]
  },
  {
   "cell_type": "code",
   "execution_count": 41,
   "id": "eda40e8f",
   "metadata": {},
   "outputs": [
    {
     "data": {
      "text/plain": [
       "[{'rollno': 102,\n",
       "  'stud_name': 'rahul',\n",
       "  'cgpa': 8,\n",
       "  'loc': 'mumbai',\n",
       "  'contact': 8983720070},\n",
       " {'rollno': 104,\n",
       "  'stud_name': 'dhiraj',\n",
       "  'cgpa': 7,\n",
       "  'loc': 'pune',\n",
       "  'contact': {'mob': 8983720072, 'email': 'dhiraj@gmail.com'}}]"
      ]
     },
     "execution_count": 41,
     "metadata": {},
     "output_type": "execute_result"
    }
   ],
   "source": [
    "data=coll.find({'rollno':{'$in':[102,104,108]}},{'_id':0})\n",
    "list(data)"
   ]
  },
  {
   "cell_type": "code",
   "execution_count": 44,
   "id": "b5966eab",
   "metadata": {},
   "outputs": [],
   "source": [
    "import bson\n",
    "from bson.objectid import ObjectId"
   ]
  },
  {
   "cell_type": "code",
   "execution_count": 45,
   "id": "d01f07d6",
   "metadata": {},
   "outputs": [
    {
     "data": {
      "text/plain": [
       "[{'_id': ObjectId('63acf5801214815db18795c1'),\n",
       "  'rollno': 103,\n",
       "  'stud_name': 'snehal',\n",
       "  'cgpa': 6,\n",
       "  'loc': 'pune',\n",
       "  'contact': 8983720072}]"
      ]
     },
     "execution_count": 45,
     "metadata": {},
     "output_type": "execute_result"
    }
   ],
   "source": [
    "data=coll.find({\"_id\":ObjectId('63acf5801214815db18795c1')})\n",
    "list(data)"
   ]
  },
  {
   "cell_type": "code",
   "execution_count": 48,
   "id": "c106e18a",
   "metadata": {},
   "outputs": [
    {
     "data": {
      "text/plain": [
       "{'_id': ObjectId('63acf5e21214815db18795c2'),\n",
       " 'rollno': 104,\n",
       " 'stud_name': 'dhiraj',\n",
       " 'cgpa': 7,\n",
       " 'loc': 'pune',\n",
       " 'contact': {'mob': 8983720072, 'email': 'dhiraj@gmail.com'}}"
      ]
     },
     "execution_count": 48,
     "metadata": {},
     "output_type": "execute_result"
    }
   ],
   "source": [
    "coll.find_one({'contact.mob':8983720072})"
   ]
  },
  {
   "cell_type": "code",
   "execution_count": 49,
   "id": "1e074211",
   "metadata": {},
   "outputs": [
    {
     "data": {
      "text/plain": [
       "{'_id': ObjectId('63acf5e21214815db18795c2'),\n",
       " 'rollno': 104,\n",
       " 'stud_name': 'dhiraj',\n",
       " 'cgpa': 7,\n",
       " 'loc': 'pune',\n",
       " 'contact': {'mob': 8983720072, 'email': 'dhiraj@gmail.com'}}"
      ]
     },
     "execution_count": 49,
     "metadata": {},
     "output_type": "execute_result"
    }
   ],
   "source": [
    "coll.find_one({'contact.email':'dhiraj@gmail.com'})"
   ]
  },
  {
   "cell_type": "markdown",
   "id": "ea789184",
   "metadata": {},
   "source": [
    "### update data"
   ]
  },
  {
   "cell_type": "code",
   "execution_count": null,
   "id": "41c2f828",
   "metadata": {},
   "outputs": [],
   "source": [
    "update_one(): update a single document\n",
    "update_many(): update multiple documents"
   ]
  },
  {
   "cell_type": "markdown",
   "id": "44a9a72c",
   "metadata": {},
   "source": [
    "#### 1. update_one()"
   ]
  },
  {
   "cell_type": "code",
   "execution_count": null,
   "id": "afab02fe",
   "metadata": {},
   "outputs": [],
   "source": [
    "collection_name.update_one({filter condition},{'$set':{'key':value}})\n",
    "without filter condition : update the first document of collection\n",
    "with filter condition.   : update the first matched document"
   ]
  },
  {
   "cell_type": "code",
   "execution_count": 42,
   "id": "e5a43062",
   "metadata": {},
   "outputs": [
    {
     "data": {
      "text/plain": [
       "<pymongo.results.UpdateResult at 0x12cacfd90>"
      ]
     },
     "execution_count": 42,
     "metadata": {},
     "output_type": "execute_result"
    }
   ],
   "source": [
    "coll.update_one({},{'$set':{'loc':'chennai'}})"
   ]
  },
  {
   "cell_type": "code",
   "execution_count": 46,
   "id": "f2ccc3fb",
   "metadata": {},
   "outputs": [
    {
     "data": {
      "text/plain": [
       "<pymongo.results.UpdateResult at 0x12cb05000>"
      ]
     },
     "execution_count": 46,
     "metadata": {},
     "output_type": "execute_result"
    }
   ],
   "source": [
    "coll.update_one({},{'$set':{'contact':9028299590}})"
   ]
  },
  {
   "cell_type": "code",
   "execution_count": 43,
   "id": "99d71aca",
   "metadata": {},
   "outputs": [
    {
     "data": {
      "text/plain": [
       "<pymongo.results.UpdateResult at 0x12cacfd60>"
      ]
     },
     "execution_count": 43,
     "metadata": {},
     "output_type": "execute_result"
    }
   ],
   "source": [
    "coll.update_one({'rollno':103},{'$set':{'cgpa':6}})"
   ]
  },
  {
   "cell_type": "code",
   "execution_count": 47,
   "id": "e4b51ba1",
   "metadata": {},
   "outputs": [
    {
     "data": {
      "text/plain": [
       "<pymongo.results.UpdateResult at 0x12cb05660>"
      ]
     },
     "execution_count": 47,
     "metadata": {},
     "output_type": "execute_result"
    }
   ],
   "source": [
    "coll.update_one({'rollno':105},{'$set':{'cgpa':7}})"
   ]
  },
  {
   "cell_type": "code",
   "execution_count": 52,
   "id": "70d5dbdb",
   "metadata": {},
   "outputs": [
    {
     "data": {
      "text/plain": [
       "<pymongo.results.UpdateResult at 0x10dff8ac0>"
      ]
     },
     "execution_count": 52,
     "metadata": {},
     "output_type": "execute_result"
    }
   ],
   "source": [
    "coll.update_one({'contact.email':'dhiraj@gmail.com'},\n",
    "                {'$set':{'loc':'chennai'}})"
   ]
  },
  {
   "cell_type": "markdown",
   "id": "89d32f8a",
   "metadata": {},
   "source": [
    "#### 2. update_many()"
   ]
  },
  {
   "cell_type": "code",
   "execution_count": null,
   "id": "02f1ca33",
   "metadata": {},
   "outputs": [],
   "source": [
    "collection_name.update_many({filter condition},{'$set':{'key':value}})\n",
    "without filter condition : update the all documents of collection \n",
    "   ## update table_name set column=value;\n",
    "with filter condition    : update the all matched document\n",
    "   ## update table_name set column=value where condition;"
   ]
  },
  {
   "cell_type": "code",
   "execution_count": 50,
   "id": "58a4e957",
   "metadata": {},
   "outputs": [
    {
     "data": {
      "text/plain": [
       "<pymongo.results.UpdateResult at 0x1037571c0>"
      ]
     },
     "execution_count": 50,
     "metadata": {},
     "output_type": "execute_result"
    }
   ],
   "source": [
    "coll.update_many({},{'$set':{'branch':'comp'}})"
   ]
  },
  {
   "cell_type": "code",
   "execution_count": 51,
   "id": "40f72958",
   "metadata": {},
   "outputs": [
    {
     "data": {
      "text/plain": [
       "<pymongo.results.UpdateResult at 0x12ca88250>"
      ]
     },
     "execution_count": 51,
     "metadata": {},
     "output_type": "execute_result"
    }
   ],
   "source": [
    "coll.update_many({'rollno':{'$in':[103,104,105]}},\n",
    "                 {'$set':{'branch':'civil'}})"
   ]
  },
  {
   "cell_type": "markdown",
   "id": "5a7cf6ed",
   "metadata": {},
   "source": [
    "### delete data"
   ]
  },
  {
   "cell_type": "code",
   "execution_count": null,
   "id": "5dd33b61",
   "metadata": {},
   "outputs": [],
   "source": [
    "delete_one(): delete single document\n",
    "delete_many():delete multiple documents"
   ]
  },
  {
   "cell_type": "markdown",
   "id": "be03f2e5",
   "metadata": {},
   "source": [
    "#### 1. delete_one()"
   ]
  },
  {
   "cell_type": "code",
   "execution_count": null,
   "id": "a972074a",
   "metadata": {},
   "outputs": [],
   "source": [
    "collection_name,delete_one({filter condition})\n",
    "without filter condition : delete the first document of collection\n",
    "with filter condition.   : delete the first matched document"
   ]
  },
  {
   "cell_type": "code",
   "execution_count": 53,
   "id": "cee9e39f",
   "metadata": {},
   "outputs": [
    {
     "data": {
      "text/plain": [
       "<pymongo.results.DeleteResult at 0x10dff8940>"
      ]
     },
     "execution_count": 53,
     "metadata": {},
     "output_type": "execute_result"
    }
   ],
   "source": [
    "coll.delete_one({})"
   ]
  },
  {
   "cell_type": "code",
   "execution_count": 54,
   "id": "02a14847",
   "metadata": {},
   "outputs": [
    {
     "data": {
      "text/plain": [
       "<pymongo.results.DeleteResult at 0x10dff9150>"
      ]
     },
     "execution_count": 54,
     "metadata": {},
     "output_type": "execute_result"
    }
   ],
   "source": [
    "coll.delete_one({'cgpa':7})"
   ]
  },
  {
   "cell_type": "markdown",
   "id": "bf11b624",
   "metadata": {},
   "source": [
    "#### 2. delete_many()"
   ]
  },
  {
   "cell_type": "code",
   "execution_count": null,
   "id": "b96758da",
   "metadata": {},
   "outputs": [],
   "source": [
    "collection_name.delete_many({filter condition})\n",
    "without filter condition : delete the all documents of collection \n",
    "   ## delete from table_name;\n",
    "with filter condition    : delete the all matched document\n",
    "   ## delete from table_name where condition;"
   ]
  },
  {
   "cell_type": "code",
   "execution_count": 55,
   "id": "c681a812",
   "metadata": {},
   "outputs": [
    {
     "data": {
      "text/plain": [
       "<pymongo.results.DeleteResult at 0x12cb04eb0>"
      ]
     },
     "execution_count": 55,
     "metadata": {},
     "output_type": "execute_result"
    }
   ],
   "source": [
    "coll.delete_many({'branch':'civil'})"
   ]
  },
  {
   "cell_type": "code",
   "execution_count": 56,
   "id": "64097cb4",
   "metadata": {},
   "outputs": [
    {
     "data": {
      "text/plain": [
       "<pymongo.results.DeleteResult at 0x10dff8520>"
      ]
     },
     "execution_count": 56,
     "metadata": {},
     "output_type": "execute_result"
    }
   ],
   "source": [
    "coll.delete_many({})"
   ]
  },
  {
   "cell_type": "markdown",
   "id": "bb7610ce",
   "metadata": {},
   "source": [
    "#### drop collection"
   ]
  },
  {
   "cell_type": "code",
   "execution_count": null,
   "id": "45137903",
   "metadata": {},
   "outputs": [],
   "source": [
    "collection_name.drop()"
   ]
  },
  {
   "cell_type": "code",
   "execution_count": 57,
   "id": "4a1b59cf",
   "metadata": {},
   "outputs": [],
   "source": [
    "coll.drop()"
   ]
  },
  {
   "cell_type": "markdown",
   "id": "e0a7af23",
   "metadata": {},
   "source": [
    "#### drop database"
   ]
  },
  {
   "cell_type": "code",
   "execution_count": 58,
   "id": "2db44b41",
   "metadata": {},
   "outputs": [],
   "source": [
    "client.drop_database('ML')"
   ]
  },
  {
   "cell_type": "markdown",
   "id": "d8309a51",
   "metadata": {},
   "source": [
    "### import a csv file into mongodb collection"
   ]
  },
  {
   "cell_type": "code",
   "execution_count": 61,
   "id": "2e5c3842",
   "metadata": {},
   "outputs": [
    {
     "data": {
      "text/plain": [
       "<pymongo.results.InsertManyResult at 0x10dff89d0>"
      ]
     },
     "execution_count": 61,
     "metadata": {},
     "output_type": "execute_result"
    }
   ],
   "source": [
    "df=pd.read_csv('emp.csv')\n",
    "data=df.to_dict(orient='records')\n",
    "db=client['company']\n",
    "db.emp.insert_many(data)"
   ]
  },
  {
   "cell_type": "markdown",
   "id": "28b218ef",
   "metadata": {},
   "source": [
    "### import json file into mongo collection"
   ]
  },
  {
   "cell_type": "code",
   "execution_count": 62,
   "id": "1fd0899e",
   "metadata": {},
   "outputs": [],
   "source": [
    "import json"
   ]
  },
  {
   "cell_type": "code",
   "execution_count": 64,
   "id": "47e91b8c",
   "metadata": {},
   "outputs": [
    {
     "data": {
      "text/plain": [
       "<pymongo.results.InsertManyResult at 0x12cb5d0f0>"
      ]
     },
     "execution_count": 64,
     "metadata": {},
     "output_type": "execute_result"
    }
   ],
   "source": [
    "f=open('iris.json')\n",
    "data=json.load(f)\n",
    "db.iris.insert_many(data)"
   ]
  },
  {
   "cell_type": "code",
   "execution_count": null,
   "id": "44e73d62",
   "metadata": {},
   "outputs": [],
   "source": []
  }
 ],
 "metadata": {
  "kernelspec": {
   "display_name": "Python 3 (ipykernel)",
   "language": "python",
   "name": "python3"
  },
  "language_info": {
   "codemirror_mode": {
    "name": "ipython",
    "version": 3
   },
   "file_extension": ".py",
   "mimetype": "text/x-python",
   "name": "python",
   "nbconvert_exporter": "python",
   "pygments_lexer": "ipython3",
   "version": "3.10.2"
  }
 },
 "nbformat": 4,
 "nbformat_minor": 5
}
