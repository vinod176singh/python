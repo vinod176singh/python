{
 "cells": [
  {
   "cell_type": "markdown",
   "id": "6cd43ba7",
   "metadata": {},
   "source": [
    "### 1. shape"
   ]
  },
  {
   "cell_type": "code",
   "execution_count": 2,
   "id": "f154087f",
   "metadata": {},
   "outputs": [
    {
     "data": {
      "text/plain": [
       "1"
      ]
     },
     "execution_count": 2,
     "metadata": {},
     "output_type": "execute_result"
    }
   ],
   "source": [
    "import numpy as np\n",
    "array1 = np.array([1,2,3,4,5,6])\n",
    "array1.ndim"
   ]
  },
  {
   "cell_type": "code",
   "execution_count": 3,
   "id": "3f513b4f",
   "metadata": {},
   "outputs": [
    {
     "data": {
      "text/plain": [
       "2"
      ]
     },
     "execution_count": 3,
     "metadata": {},
     "output_type": "execute_result"
    }
   ],
   "source": [
    "array2 =np.array([[1,2,3],[4,5,6],[7,8,9]])\n",
    "array2.ndim"
   ]
  },
  {
   "cell_type": "code",
   "execution_count": 4,
   "id": "3b819791",
   "metadata": {},
   "outputs": [
    {
     "data": {
      "text/plain": [
       "(3, 3)"
      ]
     },
     "execution_count": 4,
     "metadata": {},
     "output_type": "execute_result"
    }
   ],
   "source": [
    "array2.shape # (row,column)"
   ]
  },
  {
   "cell_type": "code",
   "execution_count": 5,
   "id": "1d4bbd45",
   "metadata": {},
   "outputs": [
    {
     "data": {
      "text/plain": [
       "(6,)"
      ]
     },
     "execution_count": 5,
     "metadata": {},
     "output_type": "execute_result"
    }
   ],
   "source": [
    "array1.shape"
   ]
  },
  {
   "cell_type": "code",
   "execution_count": 6,
   "id": "65c8576c",
   "metadata": {},
   "outputs": [
    {
     "data": {
      "text/plain": [
       "(1, 6)"
      ]
     },
     "execution_count": 6,
     "metadata": {},
     "output_type": "execute_result"
    }
   ],
   "source": [
    "array1 = np.array([[1,2,3,4,5,6]])\n",
    "array1.shape"
   ]
  },
  {
   "cell_type": "code",
   "execution_count": 8,
   "id": "f2deb6fd",
   "metadata": {},
   "outputs": [
    {
     "data": {
      "text/plain": [
       "(6, 1)"
      ]
     },
     "execution_count": 8,
     "metadata": {},
     "output_type": "execute_result"
    }
   ],
   "source": [
    "array1.T.shape"
   ]
  },
  {
   "cell_type": "code",
   "execution_count": 9,
   "id": "282035cb",
   "metadata": {},
   "outputs": [
    {
     "data": {
      "text/plain": [
       "array([[1],\n",
       "       [2],\n",
       "       [3],\n",
       "       [4],\n",
       "       [5],\n",
       "       [6]])"
      ]
     },
     "execution_count": 9,
     "metadata": {},
     "output_type": "execute_result"
    }
   ],
   "source": [
    "array1.T"
   ]
  },
  {
   "cell_type": "code",
   "execution_count": 10,
   "id": "b90ec364",
   "metadata": {},
   "outputs": [
    {
     "data": {
      "text/plain": [
       "(2, 6)"
      ]
     },
     "execution_count": 10,
     "metadata": {},
     "output_type": "execute_result"
    }
   ],
   "source": [
    "array1 = np.array([[1,2,3,4,5,6],[7,8,9,10,11,12]])\n",
    "array1.shape"
   ]
  },
  {
   "cell_type": "code",
   "execution_count": 11,
   "id": "b172306c",
   "metadata": {},
   "outputs": [
    {
     "data": {
      "text/plain": [
       "array([1, 2, 3, 4])"
      ]
     },
     "execution_count": 11,
     "metadata": {},
     "output_type": "execute_result"
    }
   ],
   "source": [
    "array1D = np.array([1,2,3,4])\n",
    "array1D.T"
   ]
  },
  {
   "cell_type": "code",
   "execution_count": 13,
   "id": "2e6c3619",
   "metadata": {},
   "outputs": [
    {
     "data": {
      "text/plain": [
       "(3, 2, 3)"
      ]
     },
     "execution_count": 13,
     "metadata": {},
     "output_type": "execute_result"
    }
   ],
   "source": [
    "array3 = np.array([[[1,2,3],[4,5,6]],[[7,8,9],[10,11,12]],[[12,13,34],[1233,3,4]]])\n",
    "array3.shape"
   ]
  },
  {
   "cell_type": "code",
   "execution_count": 14,
   "id": "d554ba97",
   "metadata": {},
   "outputs": [
    {
     "data": {
      "text/plain": [
       "(3, 2, 2)"
      ]
     },
     "execution_count": 14,
     "metadata": {},
     "output_type": "execute_result"
    }
   ],
   "source": [
    "array3 = np.array([[[1,2],[4,5]],[[7,8],[10,11]],[[12,13],[1233,3]]])\n",
    "array3.shape # here the shape is (3,2,2), 3 indicates that there are three two dimensional array in  the given 3d array\n",
    "             # and other two dimensions i.e. 2,2 shows that the 2D arrays have two rows and two columns"
   ]
  },
  {
   "cell_type": "code",
   "execution_count": 15,
   "id": "171cc7c3",
   "metadata": {},
   "outputs": [
    {
     "name": "stdout",
     "output_type": "stream",
     "text": [
      "[[[   1    2]\n",
      "  [   4    5]]\n",
      "\n",
      " [[   7    8]\n",
      "  [  10   11]]\n",
      "\n",
      " [[  12   13]\n",
      "  [1233    3]]]\n"
     ]
    }
   ],
   "source": [
    "print(array3) "
   ]
  },
  {
   "cell_type": "markdown",
   "id": "b1381fd3",
   "metadata": {},
   "source": [
    "### 2. reshape"
   ]
  },
  {
   "cell_type": "code",
   "execution_count": null,
   "id": "5b0d2286",
   "metadata": {},
   "outputs": [],
   "source": [
    "Used to convert the shape of the array"
   ]
  },
  {
   "cell_type": "code",
   "execution_count": 16,
   "id": "bb3b9e46",
   "metadata": {},
   "outputs": [
    {
     "name": "stdout",
     "output_type": "stream",
     "text": [
      "The dimension of the given array is:  1\n",
      "The shape of the given array is:  (9,)\n"
     ]
    }
   ],
   "source": [
    "array1 = np.array([1,2,3,4,5,6,7,8,9])\n",
    "print(\"The dimension of the given array is: \", array1.ndim)\n",
    "print(\"The shape of the given array is: \", array1.shape)"
   ]
  },
  {
   "cell_type": "code",
   "execution_count": null,
   "id": "46d1e779",
   "metadata": {},
   "outputs": [],
   "source": [
    "rows > 9\n",
    "columns > 1\n",
    "\n",
    "columns > 9\n",
    "row > 1\n",
    "\n",
    "rows > 3\n",
    "columns > 3"
   ]
  },
  {
   "cell_type": "code",
   "execution_count": 17,
   "id": "068039de",
   "metadata": {},
   "outputs": [
    {
     "data": {
      "text/plain": [
       "array([[1],\n",
       "       [2],\n",
       "       [3],\n",
       "       [4],\n",
       "       [5],\n",
       "       [6],\n",
       "       [7],\n",
       "       [8],\n",
       "       [9]])"
      ]
     },
     "execution_count": 17,
     "metadata": {},
     "output_type": "execute_result"
    }
   ],
   "source": [
    "array1.reshape(9,1) # It wont change the actual array but would return a new array with the given dimensions"
   ]
  },
  {
   "cell_type": "code",
   "execution_count": 18,
   "id": "dbfaaa54",
   "metadata": {},
   "outputs": [
    {
     "data": {
      "text/plain": [
       "array([1, 2, 3, 4, 5, 6, 7, 8, 9])"
      ]
     },
     "execution_count": 18,
     "metadata": {},
     "output_type": "execute_result"
    }
   ],
   "source": [
    "array1"
   ]
  },
  {
   "cell_type": "code",
   "execution_count": 19,
   "id": "0f704fc8",
   "metadata": {},
   "outputs": [
    {
     "data": {
      "text/plain": [
       "array([[1],\n",
       "       [2],\n",
       "       [3],\n",
       "       [4],\n",
       "       [5],\n",
       "       [6],\n",
       "       [7],\n",
       "       [8],\n",
       "       [9]])"
      ]
     },
     "execution_count": 19,
     "metadata": {},
     "output_type": "execute_result"
    }
   ],
   "source": [
    "array1_1 = array1.reshape(9,1)\n",
    "array1_1"
   ]
  },
  {
   "cell_type": "code",
   "execution_count": 20,
   "id": "da702b6e",
   "metadata": {},
   "outputs": [
    {
     "data": {
      "text/plain": [
       "array([1, 2, 3, 4, 5, 6, 7, 8, 9])"
      ]
     },
     "execution_count": 20,
     "metadata": {},
     "output_type": "execute_result"
    }
   ],
   "source": [
    "array1"
   ]
  },
  {
   "cell_type": "code",
   "execution_count": 21,
   "id": "ef4c2b92",
   "metadata": {},
   "outputs": [
    {
     "data": {
      "text/plain": [
       "array([[1, 2, 3, 4, 5, 6, 7, 8, 9]])"
      ]
     },
     "execution_count": 21,
     "metadata": {},
     "output_type": "execute_result"
    }
   ],
   "source": [
    "array1_2 = array1.reshape(1,9)\n",
    "array1_2"
   ]
  },
  {
   "cell_type": "code",
   "execution_count": 22,
   "id": "fba33719",
   "metadata": {},
   "outputs": [
    {
     "data": {
      "text/plain": [
       "(1, 9)"
      ]
     },
     "execution_count": 22,
     "metadata": {},
     "output_type": "execute_result"
    }
   ],
   "source": [
    "array1_2.shape"
   ]
  },
  {
   "cell_type": "code",
   "execution_count": 23,
   "id": "2f6687d8",
   "metadata": {},
   "outputs": [
    {
     "data": {
      "text/plain": [
       "array([[1, 2, 3],\n",
       "       [4, 5, 6],\n",
       "       [7, 8, 9]])"
      ]
     },
     "execution_count": 23,
     "metadata": {},
     "output_type": "execute_result"
    }
   ],
   "source": [
    "array1_3 = array1.reshape(3,3)\n",
    "array1_3"
   ]
  },
  {
   "cell_type": "code",
   "execution_count": 24,
   "id": "f8d76533",
   "metadata": {},
   "outputs": [],
   "source": [
    "array2 = np.array([1,2,3,4,5,6,7,8,9,10,11,12])"
   ]
  },
  {
   "cell_type": "code",
   "execution_count": null,
   "id": "cfb83e92",
   "metadata": {},
   "outputs": [],
   "source": [
    "1*12 >> 12\n",
    "12*1 >> 12\n",
    "2*6  >> 12\n",
    "6*2  >> 12\n",
    "3*4  >> 12\n",
    "4*3  >> 12\n",
    "\n",
    "2*2*3 >> 12"
   ]
  },
  {
   "cell_type": "code",
   "execution_count": 25,
   "id": "6f5c0cde",
   "metadata": {},
   "outputs": [
    {
     "name": "stdout",
     "output_type": "stream",
     "text": [
      "[[ 1  2  3  4  5  6]\n",
      " [ 7  8  9 10 11 12]]\n"
     ]
    }
   ],
   "source": [
    "array2_1 = array2.reshape(2,6)\n",
    "print(array2_1)"
   ]
  },
  {
   "cell_type": "code",
   "execution_count": 26,
   "id": "9a1cbed2",
   "metadata": {},
   "outputs": [
    {
     "name": "stdout",
     "output_type": "stream",
     "text": [
      "[[ 1  2  3]\n",
      " [ 4  5  6]\n",
      " [ 7  8  9]\n",
      " [10 11 12]]\n"
     ]
    }
   ],
   "source": [
    "array2_2 = array2.reshape(4,3)\n",
    "print(array2_2)"
   ]
  },
  {
   "cell_type": "code",
   "execution_count": 27,
   "id": "61f96991",
   "metadata": {},
   "outputs": [
    {
     "name": "stdout",
     "output_type": "stream",
     "text": [
      "[[[ 1  2  3]\n",
      "  [ 4  5  6]]\n",
      "\n",
      " [[ 7  8  9]\n",
      "  [10 11 12]]]\n"
     ]
    }
   ],
   "source": [
    "array2_3 = array2.reshape(2,2,3)\n",
    "print(array2_3)"
   ]
  },
  {
   "cell_type": "markdown",
   "id": "edc82964",
   "metadata": {},
   "source": [
    "### 3D to 2D"
   ]
  },
  {
   "cell_type": "code",
   "execution_count": 28,
   "id": "05f632b9",
   "metadata": {},
   "outputs": [
    {
     "data": {
      "text/plain": [
       "(5, 2, 2)"
      ]
     },
     "execution_count": 28,
     "metadata": {},
     "output_type": "execute_result"
    }
   ],
   "source": [
    "array3 = np.array([[[12,13],[44,23]],[[11,44],[33,66]],[[22,55],[77,44]],[[22,77],[55,88]],[[77,88],[99,22]]])\n",
    "\n",
    "array3.shape"
   ]
  },
  {
   "cell_type": "code",
   "execution_count": null,
   "id": "49d15160",
   "metadata": {},
   "outputs": [],
   "source": [
    "5*2*2  >> 20\n",
    "1*20   >> 20\n",
    "2*10   >> 20\n",
    "4*5    >> 20\n",
    "5*4    >> 20\n",
    "10*2   >> 20\n",
    "20*1   >> 20"
   ]
  },
  {
   "cell_type": "code",
   "execution_count": 29,
   "id": "047cd8fc",
   "metadata": {},
   "outputs": [
    {
     "data": {
      "text/plain": [
       "array([[12, 13, 44, 23, 11],\n",
       "       [44, 33, 66, 22, 55],\n",
       "       [77, 44, 22, 77, 55],\n",
       "       [88, 77, 88, 99, 22]])"
      ]
     },
     "execution_count": 29,
     "metadata": {},
     "output_type": "execute_result"
    }
   ],
   "source": [
    "array3.reshape(4,5)"
   ]
  },
  {
   "cell_type": "code",
   "execution_count": 31,
   "id": "38fc323e",
   "metadata": {},
   "outputs": [
    {
     "data": {
      "text/plain": [
       "array([12, 13, 44, 23, 11, 44, 33, 66, 22, 55, 77, 44, 22, 77, 55, 88, 77,\n",
       "       88, 99, 22])"
      ]
     },
     "execution_count": 31,
     "metadata": {},
     "output_type": "execute_result"
    }
   ],
   "source": [
    "array3.reshape(20)"
   ]
  },
  {
   "cell_type": "markdown",
   "id": "605222cd",
   "metadata": {},
   "source": [
    "### 3 nditer"
   ]
  },
  {
   "cell_type": "code",
   "execution_count": 33,
   "id": "9bdc2738",
   "metadata": {},
   "outputs": [
    {
     "name": "stdout",
     "output_type": "stream",
     "text": [
      "1 2 3 4 5 6 7 8 9 10 11 12 "
     ]
    }
   ],
   "source": [
    "array1 = np.array([1,2,3,4,5,6,7,8,9,10,11,12])\n",
    "\n",
    "for i in array1:\n",
    "    print(i, end = \" \")"
   ]
  },
  {
   "cell_type": "code",
   "execution_count": 38,
   "id": "f9a8607b",
   "metadata": {},
   "outputs": [
    {
     "data": {
      "text/plain": [
       "array([[ 1,  2,  3],\n",
       "       [ 4,  5,  6],\n",
       "       [ 7,  8,  9],\n",
       "       [10, 11, 12]])"
      ]
     },
     "execution_count": 38,
     "metadata": {},
     "output_type": "execute_result"
    }
   ],
   "source": [
    "array2 = array1.reshape(4,3)\n",
    "array2"
   ]
  },
  {
   "cell_type": "code",
   "execution_count": 39,
   "id": "1ff80732",
   "metadata": {},
   "outputs": [
    {
     "name": "stdout",
     "output_type": "stream",
     "text": [
      "[1 2 3]\n",
      "[4 5 6]\n",
      "[7 8 9]\n",
      "[10 11 12]\n"
     ]
    }
   ],
   "source": [
    "for i in array2:\n",
    "    print(i)"
   ]
  },
  {
   "cell_type": "code",
   "execution_count": 41,
   "id": "e2402508",
   "metadata": {},
   "outputs": [
    {
     "data": {
      "text/plain": [
       "array([[[ 1,  2,  3],\n",
       "        [ 4,  5,  6]],\n",
       "\n",
       "       [[ 7,  8,  9],\n",
       "        [10, 11, 12]]])"
      ]
     },
     "execution_count": 41,
     "metadata": {},
     "output_type": "execute_result"
    }
   ],
   "source": [
    "array3 = array1.reshape(2,2,3)\n",
    "array3"
   ]
  },
  {
   "cell_type": "code",
   "execution_count": 42,
   "id": "686d6e59",
   "metadata": {},
   "outputs": [
    {
     "name": "stdout",
     "output_type": "stream",
     "text": [
      "[[1 2 3]\n",
      " [4 5 6]]\n",
      "\n",
      "[[ 7  8  9]\n",
      " [10 11 12]]\n",
      "\n"
     ]
    }
   ],
   "source": [
    "for i in array3:\n",
    "    print(i)\n",
    "    print()"
   ]
  },
  {
   "cell_type": "code",
   "execution_count": 43,
   "id": "a4f44afd",
   "metadata": {},
   "outputs": [
    {
     "data": {
      "text/plain": [
       "array([[ 1,  2,  3],\n",
       "       [ 4,  5,  6],\n",
       "       [ 7,  8,  9],\n",
       "       [10, 11, 12]])"
      ]
     },
     "execution_count": 43,
     "metadata": {},
     "output_type": "execute_result"
    }
   ],
   "source": [
    "array2"
   ]
  },
  {
   "cell_type": "code",
   "execution_count": 44,
   "id": "10397fb1",
   "metadata": {},
   "outputs": [
    {
     "name": "stdout",
     "output_type": "stream",
     "text": [
      "1 2 3 4 5 6 7 8 9 10 11 12 "
     ]
    }
   ],
   "source": [
    "for i in array2:\n",
    "    for j in i:\n",
    "        print(j, end = \" \")"
   ]
  },
  {
   "cell_type": "code",
   "execution_count": 45,
   "id": "d247dc43",
   "metadata": {},
   "outputs": [
    {
     "data": {
      "text/plain": [
       "array([[[ 1,  2,  3],\n",
       "        [ 4,  5,  6]],\n",
       "\n",
       "       [[ 7,  8,  9],\n",
       "        [10, 11, 12]]])"
      ]
     },
     "execution_count": 45,
     "metadata": {},
     "output_type": "execute_result"
    }
   ],
   "source": [
    "array3"
   ]
  },
  {
   "cell_type": "code",
   "execution_count": 46,
   "id": "2f4ae020",
   "metadata": {},
   "outputs": [
    {
     "name": "stdout",
     "output_type": "stream",
     "text": [
      "1 2 3 4 5 6 7 8 9 10 11 12 "
     ]
    }
   ],
   "source": [
    "for i in array3:\n",
    "    for j in i:\n",
    "        for k in j:\n",
    "            print(k, end = \" \")"
   ]
  },
  {
   "cell_type": "code",
   "execution_count": 47,
   "id": "bc39833b",
   "metadata": {},
   "outputs": [
    {
     "data": {
      "text/plain": [
       "array([[[ 1,  2,  3],\n",
       "        [ 4,  5,  6]],\n",
       "\n",
       "       [[ 7,  8,  9],\n",
       "        [10, 11, 12]]])"
      ]
     },
     "execution_count": 47,
     "metadata": {},
     "output_type": "execute_result"
    }
   ],
   "source": [
    "array3"
   ]
  },
  {
   "cell_type": "code",
   "execution_count": 48,
   "id": "65f49425",
   "metadata": {},
   "outputs": [
    {
     "name": "stdout",
     "output_type": "stream",
     "text": [
      "1 2 3 4 5 6 7 8 9 10 11 12 "
     ]
    }
   ],
   "source": [
    "for i in np.nditer(array3): ## np.nditer picks up individual element while running for loop over it\n",
    "    print(i, end = \" \")"
   ]
  },
  {
   "cell_type": "code",
   "execution_count": 49,
   "id": "2a9379a2",
   "metadata": {},
   "outputs": [
    {
     "data": {
      "text/plain": [
       "<numpy.nditer at 0x29e34881430>"
      ]
     },
     "execution_count": 49,
     "metadata": {},
     "output_type": "execute_result"
    }
   ],
   "source": [
    "np.nditer(array3)"
   ]
  },
  {
   "cell_type": "code",
   "execution_count": null,
   "id": "f161a658",
   "metadata": {},
   "outputs": [],
   "source": []
  }
 ],
 "metadata": {
  "kernelspec": {
   "display_name": "Python 3 (ipykernel)",
   "language": "python",
   "name": "python3"
  },
  "language_info": {
   "codemirror_mode": {
    "name": "ipython",
    "version": 3
   },
   "file_extension": ".py",
   "mimetype": "text/x-python",
   "name": "python",
   "nbconvert_exporter": "python",
   "pygments_lexer": "ipython3",
   "version": "3.10.5"
  }
 },
 "nbformat": 4,
 "nbformat_minor": 5
}
