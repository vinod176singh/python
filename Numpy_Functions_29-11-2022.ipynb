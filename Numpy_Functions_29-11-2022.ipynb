{
 "cells": [
  {
   "cell_type": "markdown",
   "id": "ae36ca2e",
   "metadata": {},
   "source": [
    "# Mathematical Operations"
   ]
  },
  {
   "cell_type": "markdown",
   "id": "5f1a2429",
   "metadata": {},
   "source": [
    "### np.floor()"
   ]
  },
  {
   "cell_type": "code",
   "execution_count": 1,
   "id": "b145aafc",
   "metadata": {},
   "outputs": [],
   "source": [
    "import numpy as np"
   ]
  },
  {
   "cell_type": "code",
   "execution_count": 2,
   "id": "f73d5d9f",
   "metadata": {},
   "outputs": [
    {
     "name": "stdout",
     "output_type": "stream",
     "text": [
      "The original Array:  [2.3445 5.6745 9.454  8.343  4.3432]\n",
      "The array with floored value:  [2. 5. 9. 8. 4.]\n"
     ]
    }
   ],
   "source": [
    "array1 = np.array([2.3445,5.6745,9.454,8.343,4.3432])\n",
    "\n",
    "print(\"The original Array: \", array1)\n",
    "\n",
    "array2 = np.floor(array1)\n",
    "\n",
    "print(\"The array with floored value: \", array2)"
   ]
  },
  {
   "cell_type": "code",
   "execution_count": 3,
   "id": "783a866a",
   "metadata": {},
   "outputs": [
    {
     "name": "stdout",
     "output_type": "stream",
     "text": [
      "The original Array:  [-1.7 -1.5 -0.2  0.2  1.5  1.7  2. ]\n",
      "The array with floored value:  [-2. -2. -1.  0.  1.  1.  2.]\n"
     ]
    }
   ],
   "source": [
    "array1 = np.array([-1.7, -1.5, -0.2, 0.2, 1.5, 1.7, 2.0])\n",
    "\n",
    "print(\"The original Array: \", array1)\n",
    "\n",
    "array2 = np.floor(array1)\n",
    "\n",
    "print(\"The array with floored value: \", array2)"
   ]
  },
  {
   "cell_type": "markdown",
   "id": "b1d96ba9",
   "metadata": {},
   "source": [
    "### np.ceil"
   ]
  },
  {
   "cell_type": "code",
   "execution_count": 4,
   "id": "d3c2d648",
   "metadata": {},
   "outputs": [
    {
     "name": "stdout",
     "output_type": "stream",
     "text": [
      "The original Array:  [2.3445 5.6745 9.454  8.343  4.3432]\n",
      "The array with floored value:  [ 3.  6. 10.  9.  5.]\n"
     ]
    }
   ],
   "source": [
    "array1 = np.array([2.3445,5.6745,9.454,8.343,4.3432])\n",
    "\n",
    "print(\"The original Array: \", array1)\n",
    "\n",
    "array2 = np.ceil(array1)\n",
    "\n",
    "print(\"The array with ceiled value: \", array2)"
   ]
  },
  {
   "cell_type": "code",
   "execution_count": 6,
   "id": "79f6956a",
   "metadata": {},
   "outputs": [
    {
     "name": "stdout",
     "output_type": "stream",
     "text": [
      "The original Array:  [-1.7 -1.5 -0.2  0.2  1.5  1.7  2. ]\n",
      "The array with floored value:  [-1. -1. -0.  1.  2.  2.  2.]\n"
     ]
    }
   ],
   "source": [
    "array1 = np.array([-1.7, -1.5, -0.2, 0.2, 1.5, 1.7, 2.0])\n",
    "\n",
    "print(\"The original Array: \", array1)\n",
    "\n",
    "array2 = np.ceil(array1)\n",
    "\n",
    "print(\"The array with ceiled value: \", array2)"
   ]
  },
  {
   "cell_type": "markdown",
   "id": "698a19cf",
   "metadata": {},
   "source": [
    "### np.around()"
   ]
  },
  {
   "cell_type": "code",
   "execution_count": 7,
   "id": "b1100c13",
   "metadata": {},
   "outputs": [
    {
     "name": "stdout",
     "output_type": "stream",
     "text": [
      "The original Array:  [2.3445 5.6745 9.454  8.343  4.3432]\n",
      "The array with floored value:  [2. 6. 9. 8. 4.]\n"
     ]
    }
   ],
   "source": [
    "array1 = np.array([2.3445,5.6745,9.454,8.343,4.3432])\n",
    "\n",
    "print(\"The original Array: \", array1)\n",
    "\n",
    "array2 = np.around(array1)  ## Will return an array with closest full value\n",
    "\n",
    "print(\"The array with roundoff value: \", array2)"
   ]
  },
  {
   "cell_type": "code",
   "execution_count": 9,
   "id": "bdfdc16a",
   "metadata": {},
   "outputs": [
    {
     "name": "stdout",
     "output_type": "stream",
     "text": [
      "The original Array:  [2.3445 5.6766 9.4548 8.3479 4.3482]\n",
      "The array with floored value:  [2.34 5.68 9.45 8.35 4.35]\n"
     ]
    }
   ],
   "source": [
    "array1 = np.array([2.3445,5.6766,9.4548,8.3479,4.3482])\n",
    "\n",
    "print(\"The original Array: \", array1)\n",
    "\n",
    "array2 = np.around(array1,2)  ## Will return an array with closest full value\n",
    "\n",
    "print(\"The array with aroundoff value: \", array2)"
   ]
  },
  {
   "cell_type": "markdown",
   "id": "18d827cf",
   "metadata": {},
   "source": [
    "### np.sqrt"
   ]
  },
  {
   "cell_type": "code",
   "execution_count": 15,
   "id": "c7bfe3d7",
   "metadata": {},
   "outputs": [
    {
     "name": "stdout",
     "output_type": "stream",
     "text": [
      "The original Array:  [23 41 46 45 22 22 36 31 25 43]\n",
      "\n",
      "The array with Square Root Value:  [4.79583152 6.40312424 6.78232998 6.70820393 4.69041576 4.69041576\n",
      " 6.         5.56776436 5.         6.55743852]\n",
      "\n",
      "The array with rounded off squareroot values: [4.7958 6.4031 6.7823 6.7082 4.6904 4.6904 6.     5.5678 5.     6.5574]\n"
     ]
    }
   ],
   "source": [
    "array1 = np.random.randint(10,50,size = 10)\n",
    "\n",
    "print(\"The original Array: \", array1)\n",
    "\n",
    "array2 = np.sqrt(array1)  \n",
    "print()\n",
    "print(\"The array with Square Root Value: \", array2)\n",
    "\n",
    "array3 = np.around(array2,4)\n",
    "print()\n",
    "print(\"The array with rounded off squareroot values:\", array3)"
   ]
  },
  {
   "cell_type": "code",
   "execution_count": 16,
   "id": "064fac11",
   "metadata": {},
   "outputs": [
    {
     "name": "stdout",
     "output_type": "stream",
     "text": [
      "The original Array: \n",
      " [[47 41 38]\n",
      " [24 48 28]\n",
      " [40 15 31]]\n",
      "\n",
      "The array with Square Root Value: \n",
      " [[6.8556546  6.40312424 6.164414  ]\n",
      " [4.89897949 6.92820323 5.29150262]\n",
      " [6.32455532 3.87298335 5.56776436]]\n",
      "\n",
      "The array with rounded off squareroot values: \n",
      " [[6.8557 6.4031 6.1644]\n",
      " [4.899  6.9282 5.2915]\n",
      " [6.3246 3.873  5.5678]]\n"
     ]
    }
   ],
   "source": [
    "array1 = np.random.randint(10,50,size = (3,3))\n",
    "\n",
    "print(\"The original Array: \\n\",array1)\n",
    "array2 = np.sqrt(array1)  \n",
    "print()\n",
    "print(\"The array with Square Root Value: \\n\", array2)\n",
    "\n",
    "array3 = np.around(array2,4)\n",
    "print()\n",
    "print(\"The array with rounded off squareroot values: \\n\", array3)"
   ]
  },
  {
   "cell_type": "markdown",
   "id": "6ff15561",
   "metadata": {},
   "source": [
    "### np.cbrt"
   ]
  },
  {
   "cell_type": "code",
   "execution_count": 18,
   "id": "c6f70261",
   "metadata": {},
   "outputs": [
    {
     "name": "stdout",
     "output_type": "stream",
     "text": [
      "The original Array: \n",
      " [[31 41 26]\n",
      " [47 19 27]\n",
      " [23 26 18]]\n",
      "\n",
      "The array with Square Root Value: \n",
      " [[3.14138065 3.44821724 2.96249607]\n",
      " [3.60882608 2.66840165 3.        ]\n",
      " [2.84386698 2.96249607 2.62074139]]\n",
      "\n",
      "The array with rounded off cube root values: \n",
      " [[3.1414 3.4482 2.9625]\n",
      " [3.6088 2.6684 3.    ]\n",
      " [2.8439 2.9625 2.6207]]\n"
     ]
    }
   ],
   "source": [
    "array1 = np.random.randint(10,50,size = (3,3))\n",
    "\n",
    "print(\"The original Array: \\n\",array1)\n",
    "array2 = np.cbrt(array1)  \n",
    "print()\n",
    "print(\"The array with Square Root Value: \\n\", array2)\n",
    "\n",
    "array3 = np.around(array2,4)\n",
    "print()\n",
    "print(\"The array with rounded off cube root values: \\n\", array3)"
   ]
  },
  {
   "cell_type": "markdown",
   "id": "6fa6b538",
   "metadata": {},
   "source": [
    "### np.where()"
   ]
  },
  {
   "cell_type": "code",
   "execution_count": 19,
   "id": "d9adb7b3",
   "metadata": {},
   "outputs": [
    {
     "name": "stdout",
     "output_type": "stream",
     "text": [
      "The generated list: \n",
      " [40, 21, 29, 29, 43, 40, 23, 45, 31, 14]\n"
     ]
    }
   ],
   "source": [
    "list1 = list(np.random.randint(10,50,10))\n",
    "print(\"The generated list: \\n\",list1)"
   ]
  },
  {
   "cell_type": "code",
   "execution_count": 21,
   "id": "d79af1ab",
   "metadata": {},
   "outputs": [
    {
     "data": {
      "text/plain": [
       "2"
      ]
     },
     "execution_count": 21,
     "metadata": {},
     "output_type": "execute_result"
    }
   ],
   "source": [
    "list1.index(29)"
   ]
  },
  {
   "cell_type": "code",
   "execution_count": 22,
   "id": "36e94aee",
   "metadata": {},
   "outputs": [
    {
     "data": {
      "text/plain": [
       "[2, 3]"
      ]
     },
     "execution_count": 22,
     "metadata": {},
     "output_type": "execute_result"
    }
   ],
   "source": [
    "list2 = [index for index, value in enumerate(list1) if value==29]\n",
    "list2"
   ]
  },
  {
   "cell_type": "code",
   "execution_count": 23,
   "id": "3ad4dd15",
   "metadata": {},
   "outputs": [
    {
     "data": {
      "text/plain": [
       "array([40, 21, 29, 29, 43, 40, 23, 45, 31, 14])"
      ]
     },
     "execution_count": 23,
     "metadata": {},
     "output_type": "execute_result"
    }
   ],
   "source": [
    "array1 = np.array(list1)\n",
    "array1"
   ]
  },
  {
   "cell_type": "code",
   "execution_count": 24,
   "id": "24f04312",
   "metadata": {},
   "outputs": [
    {
     "data": {
      "text/plain": [
       "(array([2, 3], dtype=int64),)"
      ]
     },
     "execution_count": 24,
     "metadata": {},
     "output_type": "execute_result"
    }
   ],
   "source": [
    "array2 = np.where(array1==29) ## Return a tuple containing an array with the position/index of given number\n",
    "array2"
   ]
  },
  {
   "cell_type": "code",
   "execution_count": 25,
   "id": "7d65ae92",
   "metadata": {},
   "outputs": [
    {
     "data": {
      "text/plain": [
       "array([2, 3], dtype=int64)"
      ]
     },
     "execution_count": 25,
     "metadata": {},
     "output_type": "execute_result"
    }
   ],
   "source": [
    "array2[0]"
   ]
  },
  {
   "cell_type": "code",
   "execution_count": 26,
   "id": "70d1e1a1",
   "metadata": {},
   "outputs": [
    {
     "data": {
      "text/plain": [
       "(array([4, 7], dtype=int64),)"
      ]
     },
     "execution_count": 26,
     "metadata": {},
     "output_type": "execute_result"
    }
   ],
   "source": [
    "array2 = np.where(array1 > 40)\n",
    "array2"
   ]
  },
  {
   "cell_type": "code",
   "execution_count": 27,
   "id": "988bd7a2",
   "metadata": {},
   "outputs": [
    {
     "data": {
      "text/plain": [
       "(array([0, 4, 5, 7], dtype=int64),)"
      ]
     },
     "execution_count": 27,
     "metadata": {},
     "output_type": "execute_result"
    }
   ],
   "source": [
    "array2 = np.where(array1 >= 40)\n",
    "array2"
   ]
  },
  {
   "cell_type": "code",
   "execution_count": null,
   "id": "073601de",
   "metadata": {},
   "outputs": [],
   "source": []
  }
 ],
 "metadata": {
  "kernelspec": {
   "display_name": "Python 3 (ipykernel)",
   "language": "python",
   "name": "python3"
  },
  "language_info": {
   "codemirror_mode": {
    "name": "ipython",
    "version": 3
   },
   "file_extension": ".py",
   "mimetype": "text/x-python",
   "name": "python",
   "nbconvert_exporter": "python",
   "pygments_lexer": "ipython3",
   "version": "3.10.5"
  }
 },
 "nbformat": 4,
 "nbformat_minor": 5
}
