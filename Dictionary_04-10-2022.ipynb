{
 "cells": [
  {
   "cell_type": "code",
   "execution_count": null,
   "id": "35efd1af",
   "metadata": {},
   "outputs": [],
   "source": [
    "str          : Immutable          Ordered               Duplicates are allowed\n",
    "list         : Mutable            Ordered               Duplicates are allowed\n",
    "tuple        : Immutable          Ordered               Duplicates are allowed\n",
    "set          : Mutable            Unordered             Duplicates are not allowed\n",
    "frozenset    : Immutable          Unordered             Duplicates are not allowed\n",
    "dict         : Mutable            Key-Value-Pair        Duplicates values are allowed/ Duplicate Keys are not allowed"
   ]
  },
  {
   "cell_type": "markdown",
   "id": "1d748e92",
   "metadata": {},
   "source": [
    "## Dictionary"
   ]
  },
  {
   "cell_type": "code",
   "execution_count": 12,
   "id": "65cea9f3",
   "metadata": {},
   "outputs": [
    {
     "ename": "SyntaxError",
     "evalue": "invalid syntax (1200222412.py, line 1)",
     "output_type": "error",
     "traceback": [
      "\u001b[1;36m  Input \u001b[1;32mIn [12]\u001b[1;36m\u001b[0m\n\u001b[1;33m    1. Mutable\u001b[0m\n\u001b[1;37m       ^\u001b[0m\n\u001b[1;31mSyntaxError\u001b[0m\u001b[1;31m:\u001b[0m invalid syntax\n"
     ]
    }
   ],
   "source": [
    "1. Mutable\n",
    "2. It has Key Value Pairs\n",
    "3. Indexing cannot be used\n",
    "4. Duplicates keys are not allowed but duplicate values are allowed\n",
    "5. Dictionaries are enclosed by { }\n",
    "6. Keys has to be an immutable datatype only\n",
    "7. Values could be any datatype (Mutable or Immutable)\n",
    "\n",
    "Keys   >> int, float, str, tuple, frozenset, complex\n",
    "Values >> int, float, str, tuple, frozenset, complex, list, set, dict (Any Datatype)"
   ]
  },
  {
   "cell_type": "code",
   "execution_count": 13,
   "id": "88e94338",
   "metadata": {},
   "outputs": [
    {
     "name": "stdout",
     "output_type": "stream",
     "text": [
      "{'Name': 'Mahendra', 'Surname': 'Dhoni', 'Strike Rate': 90, 'Best International Score': 183, 'Wickets': 1, 50: 230, 100: 123}\n"
     ]
    }
   ],
   "source": [
    "dict1 = {\"Name\": \"Mahendra\", \"Surname\": \"Dhoni\", \"Strike Rate\": 90, \"Best International Score\": 183, \"Wickets\": 1,\n",
    "        50:230, 100: 123}\n",
    "\n",
    "print(dict1)"
   ]
  },
  {
   "cell_type": "code",
   "execution_count": 14,
   "id": "66468364",
   "metadata": {},
   "outputs": [
    {
     "name": "stdout",
     "output_type": "stream",
     "text": [
      "{'Name': 'Mahendra', 'Surname': 'Dhoni', 'Strike Rate': 90, 'Best International Score': 183, 'Wicket': 1, 50: 230, 100: 123}\n"
     ]
    }
   ],
   "source": [
    "dict1 = {\"Name\": \"Mahendra\", \"Surname\": \"Dhoni\", \"Strike Rate\": 90, \"Best International Score\": 183, \"Wicket\": 1,\n",
    "        50:230, 100: 123}\n",
    "\n",
    "print(dict1)"
   ]
  },
  {
   "cell_type": "markdown",
   "id": "baf292e8",
   "metadata": {},
   "source": [
    "Examples of Dictionary"
   ]
  },
  {
   "cell_type": "code",
   "execution_count": 15,
   "id": "c83e20be",
   "metadata": {},
   "outputs": [
    {
     "name": "stdout",
     "output_type": "stream",
     "text": [
      "{'Name': 'Mahendra', 'Surname': 'Dhoni', 'Strike Rate': 90, 'Best International Score': 183, 'Wickets': 1, 50: 230, 100: 123}\n"
     ]
    }
   ],
   "source": [
    "dict1 = {\"Name\": \"Mahendra\", \"Surname\": \"Dhoni\", \"Strike Rate\": 90, \"Best International Score\": 183, \"Wickets\": 1,\n",
    "        50:230, 100: 123}\n",
    "print(dict1)"
   ]
  },
  {
   "cell_type": "code",
   "execution_count": 16,
   "id": "02cb40ba",
   "metadata": {},
   "outputs": [
    {
     "name": "stdout",
     "output_type": "stream",
     "text": [
      "{'Name': 'Virat', 'Surname': 'Kohli', 'Strike Rate': 93, 'Best International Score': 183, 'Wickets': '', 50: 143, 100: 71}\n"
     ]
    }
   ],
   "source": [
    "dict2 = {\"Name\": \"Virat\", \"Surname\": \"Kohli\", \"Strike Rate\": 93, \"Best International Score\": 183, \"Wickets\":\"\",\n",
    "        50:143, 100: 71}\n",
    "print(dict2)"
   ]
  },
  {
   "cell_type": "code",
   "execution_count": 20,
   "id": "750313b4",
   "metadata": {},
   "outputs": [
    {
     "name": "stdout",
     "output_type": "stream",
     "text": [
      "{'Name': ['Mahendra', 'Virat'], 'Surname': ['Dhoni', 'Kohli'], 'Strike Rate': [90, 93], 'Best International Score': [183, 183], 'Wickets': [1, nan], 50: [230, 143], 100: [123, 71]}\n"
     ]
    }
   ],
   "source": [
    "dict3 = {\"Name\":[\"Mahendra\",\"Virat\"], \"Surname\":[\"Dhoni\",\"Kohli\"], \"Strike Rate\":[90,93], \"Best International Score\":[183,183],\n",
    "        \"Wickets\":[1,np.nan], 50:[230,143], 100:[123,71]}\n",
    "print(dict3)"
   ]
  },
  {
   "cell_type": "code",
   "execution_count": 21,
   "id": "17ddf944",
   "metadata": {},
   "outputs": [],
   "source": [
    "import pandas as pd\n",
    "import numpy as np"
   ]
  },
  {
   "cell_type": "code",
   "execution_count": 22,
   "id": "842dcc3a",
   "metadata": {},
   "outputs": [
    {
     "data": {
      "text/html": [
       "<div>\n",
       "<style scoped>\n",
       "    .dataframe tbody tr th:only-of-type {\n",
       "        vertical-align: middle;\n",
       "    }\n",
       "\n",
       "    .dataframe tbody tr th {\n",
       "        vertical-align: top;\n",
       "    }\n",
       "\n",
       "    .dataframe thead th {\n",
       "        text-align: right;\n",
       "    }\n",
       "</style>\n",
       "<table border=\"1\" class=\"dataframe\">\n",
       "  <thead>\n",
       "    <tr style=\"text-align: right;\">\n",
       "      <th></th>\n",
       "      <th>Name</th>\n",
       "      <th>Surname</th>\n",
       "      <th>Strike Rate</th>\n",
       "      <th>Best International Score</th>\n",
       "      <th>Wickets</th>\n",
       "      <th>50</th>\n",
       "      <th>100</th>\n",
       "    </tr>\n",
       "  </thead>\n",
       "  <tbody>\n",
       "    <tr>\n",
       "      <th>0</th>\n",
       "      <td>Mahendra</td>\n",
       "      <td>Dhoni</td>\n",
       "      <td>90</td>\n",
       "      <td>183</td>\n",
       "      <td>1.0</td>\n",
       "      <td>230</td>\n",
       "      <td>123</td>\n",
       "    </tr>\n",
       "    <tr>\n",
       "      <th>1</th>\n",
       "      <td>Virat</td>\n",
       "      <td>Kohli</td>\n",
       "      <td>93</td>\n",
       "      <td>183</td>\n",
       "      <td>NaN</td>\n",
       "      <td>143</td>\n",
       "      <td>71</td>\n",
       "    </tr>\n",
       "  </tbody>\n",
       "</table>\n",
       "</div>"
      ],
      "text/plain": [
       "       Name Surname  Strike Rate  Best International Score  Wickets   50  100\n",
       "0  Mahendra   Dhoni           90                       183      1.0  230  123\n",
       "1     Virat   Kohli           93                       183      NaN  143   71"
      ]
     },
     "execution_count": 22,
     "metadata": {},
     "output_type": "execute_result"
    }
   ],
   "source": [
    "df_cricket = pd.DataFrame(dict3)\n",
    "df_cricket"
   ]
  },
  {
   "cell_type": "code",
   "execution_count": 23,
   "id": "5a7cb135",
   "metadata": {},
   "outputs": [
    {
     "name": "stdout",
     "output_type": "stream",
     "text": [
      "       Name Surname  Strike Rate  Best International Score  Wickets   50  100\n",
      "0  Mahendra   Dhoni           90                       183      1.0  230  123\n",
      "1     Virat   Kohli           93                       183      NaN  143   71\n"
     ]
    }
   ],
   "source": [
    "print(df_cricket)"
   ]
  },
  {
   "cell_type": "code",
   "execution_count": 24,
   "id": "e4031204",
   "metadata": {},
   "outputs": [
    {
     "name": "stdout",
     "output_type": "stream",
     "text": [
      "       Name Surname  Strike Rate  Best International Score  Wickets   50  100\n",
      "0  Mahendra   Dhoni           90                       183      1.0  230  123\n",
      "1     Virat   Kohli           93                       183      NaN  143   71\n"
     ]
    }
   ],
   "source": [
    "print(df_cricket)"
   ]
  },
  {
   "cell_type": "markdown",
   "id": "4e54ce8e",
   "metadata": {},
   "source": [
    "### Initiating Dictionary"
   ]
  },
  {
   "cell_type": "code",
   "execution_count": 10,
   "id": "19d2149a",
   "metadata": {},
   "outputs": [
    {
     "name": "stdout",
     "output_type": "stream",
     "text": [
      "{}\n",
      "<class 'dict'>\n"
     ]
    }
   ],
   "source": [
    "dict1 = {}\n",
    "\n",
    "print(dict1)\n",
    "print(type(dict1))"
   ]
  },
  {
   "cell_type": "code",
   "execution_count": 11,
   "id": "a1960a0e",
   "metadata": {},
   "outputs": [
    {
     "data": {
      "text/plain": [
       "set"
      ]
     },
     "execution_count": 11,
     "metadata": {},
     "output_type": "execute_result"
    }
   ],
   "source": [
    "set1 = set()\n",
    "\n",
    "type(set1)"
   ]
  },
  {
   "cell_type": "code",
   "execution_count": 18,
   "id": "0b41e439",
   "metadata": {},
   "outputs": [
    {
     "name": "stdout",
     "output_type": "stream",
     "text": [
      "{}\n"
     ]
    }
   ],
   "source": [
    "dict1 = {}\n",
    "print(dict1)"
   ]
  },
  {
   "cell_type": "code",
   "execution_count": 19,
   "id": "f41e9ce1",
   "metadata": {},
   "outputs": [
    {
     "name": "stdout",
     "output_type": "stream",
     "text": [
      "{'Name': 'Ravindra'}\n"
     ]
    }
   ],
   "source": [
    "dict1[\"Name\"] = \"Ravindra\"\n",
    "\n",
    "print(dict1)"
   ]
  },
  {
   "cell_type": "code",
   "execution_count": 21,
   "id": "814ecb97",
   "metadata": {},
   "outputs": [
    {
     "name": "stdout",
     "output_type": "stream",
     "text": [
      "{'Name': 'Ravindra', 'Surname': nan}\n"
     ]
    }
   ],
   "source": [
    "dict1[\"Surname\"] = np.nan\n",
    "print(dict1)"
   ]
  },
  {
   "cell_type": "code",
   "execution_count": null,
   "id": "e44cb2fd",
   "metadata": {},
   "outputs": [],
   "source": [
    "PySpark"
   ]
  },
  {
   "cell_type": "code",
   "execution_count": 22,
   "id": "8ba71860",
   "metadata": {},
   "outputs": [],
   "source": [
    "def add_10(x):\n",
    "    x = x+10\n",
    "    return x"
   ]
  },
  {
   "cell_type": "code",
   "execution_count": 23,
   "id": "23146c9b",
   "metadata": {},
   "outputs": [
    {
     "data": {
      "text/plain": [
       "33"
      ]
     },
     "execution_count": 23,
     "metadata": {},
     "output_type": "execute_result"
    }
   ],
   "source": [
    "add_10(23)"
   ]
  },
  {
   "cell_type": "code",
   "execution_count": null,
   "id": "6e19d9d3",
   "metadata": {},
   "outputs": [],
   "source": []
  }
 ],
 "metadata": {
  "kernelspec": {
   "display_name": "Python 3 (ipykernel)",
   "language": "python",
   "name": "python3"
  },
  "language_info": {
   "codemirror_mode": {
    "name": "ipython",
    "version": 3
   },
   "file_extension": ".py",
   "mimetype": "text/x-python",
   "name": "python",
   "nbconvert_exporter": "python",
   "pygments_lexer": "ipython3",
   "version": "3.9.12"
  }
 },
 "nbformat": 4,
 "nbformat_minor": 5
}
