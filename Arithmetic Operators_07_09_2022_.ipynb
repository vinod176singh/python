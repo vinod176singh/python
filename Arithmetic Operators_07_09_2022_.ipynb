{
 "cells": [
  {
   "cell_type": "markdown",
   "id": "7d20b0ba",
   "metadata": {},
   "source": [
    "# Arithmetic Operators"
   ]
  },
  {
   "cell_type": "code",
   "execution_count": null,
   "id": "08c86cce",
   "metadata": {},
   "outputs": [],
   "source": [
    "+  >> Addition\n",
    "-  >> Substraction\n",
    "*  >> Multiplication\n",
    "/  >> Division\n",
    "%  >> Modulus Division\n",
    "// >> Floor Division\n",
    "** >> Exponentiation\n"
   ]
  },
  {
   "cell_type": "code",
   "execution_count": 1,
   "id": "775cf3bd",
   "metadata": {},
   "outputs": [
    {
     "name": "stdout",
     "output_type": "stream",
     "text": [
      "21\n"
     ]
    }
   ],
   "source": [
    "a = 10\n",
    "b = 11\n",
    "\n",
    "c = a + b\n",
    "\n",
    "print(c)"
   ]
  },
  {
   "cell_type": "code",
   "execution_count": 2,
   "id": "1c81f3bc",
   "metadata": {},
   "outputs": [
    {
     "name": "stdout",
     "output_type": "stream",
     "text": [
      "111\n"
     ]
    }
   ],
   "source": [
    "l = 222\n",
    "m = 333\n",
    "\n",
    "n = m - l\n",
    "\n",
    "print(n)"
   ]
  },
  {
   "cell_type": "code",
   "execution_count": 3,
   "id": "e877f551",
   "metadata": {},
   "outputs": [
    {
     "name": "stdout",
     "output_type": "stream",
     "text": [
      "693\n"
     ]
    }
   ],
   "source": [
    "l = 21\n",
    "m = 33\n",
    "\n",
    "n = l * m\n",
    "\n",
    "print(n)"
   ]
  },
  {
   "cell_type": "code",
   "execution_count": 4,
   "id": "7852ff9a",
   "metadata": {},
   "outputs": [
    {
     "name": "stdout",
     "output_type": "stream",
     "text": [
      "5.0\n"
     ]
    }
   ],
   "source": [
    "l = 10\n",
    "m = 2\n",
    "\n",
    "n = l/m\n",
    "\n",
    "print(n)"
   ]
  },
  {
   "cell_type": "markdown",
   "id": "a4e4e656",
   "metadata": {},
   "source": [
    "### Modulus Division"
   ]
  },
  {
   "cell_type": "code",
   "execution_count": 5,
   "id": "1d0e369e",
   "metadata": {},
   "outputs": [
    {
     "name": "stdout",
     "output_type": "stream",
     "text": [
      "2\n"
     ]
    }
   ],
   "source": [
    "l = 20\n",
    "m = 3\n",
    "\n",
    "n = l % m\n",
    "\n",
    "print(n) ## It will print remainder"
   ]
  },
  {
   "cell_type": "code",
   "execution_count": 6,
   "id": "1d076b42",
   "metadata": {},
   "outputs": [
    {
     "name": "stdout",
     "output_type": "stream",
     "text": [
      "1\n"
     ]
    }
   ],
   "source": [
    "l = 11\n",
    "m = 2\n",
    "\n",
    "n = l % m\n",
    "\n",
    "print(n)"
   ]
  },
  {
   "cell_type": "markdown",
   "id": "643b9994",
   "metadata": {},
   "source": [
    "### Floor Division"
   ]
  },
  {
   "cell_type": "code",
   "execution_count": 7,
   "id": "77111787",
   "metadata": {},
   "outputs": [
    {
     "name": "stdout",
     "output_type": "stream",
     "text": [
      "5\n"
     ]
    }
   ],
   "source": [
    "l = 11\n",
    "m = 2\n",
    "\n",
    "n = l // m\n",
    "\n",
    "print(n)   ## This print Quotient"
   ]
  },
  {
   "cell_type": "code",
   "execution_count": 10,
   "id": "7f7f921c",
   "metadata": {},
   "outputs": [
    {
     "name": "stdout",
     "output_type": "stream",
     "text": [
      "4\n"
     ]
    }
   ],
   "source": [
    "l = 100\n",
    "m = 23\n",
    "\n",
    "n = l // m\n",
    "\n",
    "print(n)"
   ]
  },
  {
   "cell_type": "markdown",
   "id": "8e130bf7",
   "metadata": {},
   "source": [
    "### Exponentiation"
   ]
  },
  {
   "cell_type": "code",
   "execution_count": 11,
   "id": "41296062",
   "metadata": {},
   "outputs": [
    {
     "name": "stdout",
     "output_type": "stream",
     "text": [
      "100\n"
     ]
    }
   ],
   "source": [
    "m = 10\n",
    "\n",
    "n = m**2\n",
    "\n",
    "print(n)"
   ]
  },
  {
   "cell_type": "code",
   "execution_count": 12,
   "id": "06e5d34b",
   "metadata": {},
   "outputs": [
    {
     "name": "stdout",
     "output_type": "stream",
     "text": [
      "27\n"
     ]
    }
   ],
   "source": [
    "m = 3\n",
    "\n",
    "n = m**3\n",
    "\n",
    "print(n)"
   ]
  },
  {
   "cell_type": "code",
   "execution_count": 13,
   "id": "08321b66",
   "metadata": {},
   "outputs": [
    {
     "name": "stdout",
     "output_type": "stream",
     "text": [
      "9.8596\n"
     ]
    }
   ],
   "source": [
    "m = 3.14\n",
    "\n",
    "n = m**2\n",
    "\n",
    "print(n)"
   ]
  },
  {
   "cell_type": "code",
   "execution_count": null,
   "id": "85efed07",
   "metadata": {},
   "outputs": [],
   "source": []
  }
 ],
 "metadata": {
  "kernelspec": {
   "display_name": "Python 3 (ipykernel)",
   "language": "python",
   "name": "python3"
  },
  "language_info": {
   "codemirror_mode": {
    "name": "ipython",
    "version": 3
   },
   "file_extension": ".py",
   "mimetype": "text/x-python",
   "name": "python",
   "nbconvert_exporter": "python",
   "pygments_lexer": "ipython3",
   "version": "3.10.5"
  }
 },
 "nbformat": 4,
 "nbformat_minor": 5
}
