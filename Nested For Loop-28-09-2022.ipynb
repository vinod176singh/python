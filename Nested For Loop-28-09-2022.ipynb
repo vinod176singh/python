{
 "cells": [
  {
   "cell_type": "code",
   "execution_count": 19,
   "id": "640ce0fb",
   "metadata": {},
   "outputs": [
    {
     "name": "stdout",
     "output_type": "stream",
     "text": [
      "1 2 3 4 \n",
      "1 2 3 4 \n",
      "1 2 3 4 \n",
      "1 2 3 4 \n"
     ]
    }
   ],
   "source": [
    "for i in range(1, 5): # 4\n",
    "    for j in range(1,5): # 4\n",
    "        print(j, end = \" \") \n",
    "    print()"
   ]
  },
  {
   "cell_type": "code",
   "execution_count": null,
   "id": "4bd74829",
   "metadata": {},
   "outputs": [],
   "source": [
    "for var1 in sequence1:\n",
    "    statement 1\n",
    "    statement 2\n",
    "    for var2 in sequence2:\n",
    "        statement 1\n",
    "        statement 2\n",
    "        for var3 in sequence3:\n",
    "            statement 1\n",
    "            statement 2\n"
   ]
  },
  {
   "cell_type": "code",
   "execution_count": 7,
   "id": "ddc6e82f",
   "metadata": {},
   "outputs": [
    {
     "name": "stdout",
     "output_type": "stream",
     "text": [
      "We are in first for loop\n",
      "We are in second for loop\n",
      "We are in second for loop\n",
      "We are in second for loop\n",
      "We are in first for loop\n",
      "We are in second for loop\n",
      "We are in second for loop\n",
      "We are in second for loop\n"
     ]
    }
   ],
   "source": [
    "for i in range(1,3):  # 1, 2\n",
    "    print(\"We are in first for loop\")\n",
    "    for j in range(1,4): # 1, 2, 3\n",
    "        print(\"We are in second for loop\")"
   ]
  },
  {
   "cell_type": "code",
   "execution_count": 8,
   "id": "1a40c632",
   "metadata": {},
   "outputs": [
    {
     "name": "stdout",
     "output_type": "stream",
     "text": [
      "We are in first for loop\n",
      "We are in Second for loop\n",
      "We are in Second for loop\n",
      "We are in Second for loop\n",
      "********************************************************************************\n",
      "We are in first for loop\n",
      "We are in Second for loop\n",
      "We are in Second for loop\n",
      "We are in Second for loop\n",
      "********************************************************************************\n",
      "We are in first for loop\n",
      "We are in Second for loop\n",
      "We are in Second for loop\n",
      "We are in Second for loop\n",
      "********************************************************************************\n"
     ]
    }
   ],
   "source": [
    "for i in range(1,4):\n",
    "    print(\"We are in first for loop\")\n",
    "    for j in range(1,4):\n",
    "        print(\"We are in Second for loop\")\n",
    "    print(\"*\"*80)"
   ]
  },
  {
   "cell_type": "code",
   "execution_count": 12,
   "id": "9898f19c",
   "metadata": {},
   "outputs": [
    {
     "name": "stdout",
     "output_type": "stream",
     "text": [
      "Character is P\n",
      "Data Science Loves Python\n",
      "Data Science Loves Python\n",
      "Data Science Loves Python\n",
      "*************************\n",
      "Character is Y\n",
      "Data Science Loves Python\n",
      "Data Science Loves Python\n",
      "Data Science Loves Python\n",
      "*************************\n",
      "Character is T\n",
      "Data Science Loves Python\n",
      "Data Science Loves Python\n",
      "Data Science Loves Python\n",
      "*************************\n",
      "Character is H\n",
      "Data Science Loves Python\n",
      "Data Science Loves Python\n",
      "Data Science Loves Python\n",
      "*************************\n",
      "Character is O\n",
      "Data Science Loves Python\n",
      "Data Science Loves Python\n",
      "Data Science Loves Python\n",
      "*************************\n",
      "Character is N\n",
      "Data Science Loves Python\n",
      "Data Science Loves Python\n",
      "Data Science Loves Python\n",
      "*************************\n"
     ]
    }
   ],
   "source": [
    "for char in \"PYTHON\":\n",
    "    print(f\"Character is {char}\")\n",
    "    for i in range(1,4): # 3 iteration\n",
    "        print(\"Data Science Loves Python\")\n",
    "    print(\"*\"*len(\"Data Science Loves Python\"))"
   ]
  },
  {
   "cell_type": "markdown",
   "id": "7752be50",
   "metadata": {},
   "source": [
    "## Pattern Printing"
   ]
  },
  {
   "cell_type": "code",
   "execution_count": 13,
   "id": "8cd45307",
   "metadata": {},
   "outputs": [
    {
     "name": "stdout",
     "output_type": "stream",
     "text": [
      "*\n",
      "*\n",
      "*\n",
      "*\n",
      "*\n",
      "*\n",
      "*\n",
      "*\n",
      "*\n",
      "*\n",
      "*\n",
      "*\n",
      "*\n",
      "*\n",
      "*\n",
      "*\n"
     ]
    }
   ],
   "source": [
    "for i in range(1,5): # 4 iteration\n",
    "    for j in range(1,5): # 4 iteration\n",
    "        print(\"*\")"
   ]
  },
  {
   "cell_type": "code",
   "execution_count": 14,
   "id": "4b1c58a1",
   "metadata": {},
   "outputs": [
    {
     "name": "stdout",
     "output_type": "stream",
     "text": [
      "*\n",
      "*\n",
      "*\n",
      "*\n",
      "\n",
      "*\n",
      "*\n",
      "*\n",
      "*\n",
      "\n",
      "*\n",
      "*\n",
      "*\n",
      "*\n",
      "\n",
      "*\n",
      "*\n",
      "*\n",
      "*\n",
      "\n"
     ]
    }
   ],
   "source": [
    "for i in range(1,5):\n",
    "    for j in range(1,5):\n",
    "        print(\"*\")\n",
    "    print()"
   ]
  },
  {
   "cell_type": "code",
   "execution_count": 23,
   "id": "e27e2838",
   "metadata": {},
   "outputs": [
    {
     "name": "stdout",
     "output_type": "stream",
     "text": [
      "* * * * \n",
      "* * * * \n",
      "* * * * \n",
      "* * * * \n",
      "* * * * \n",
      "* * * * \n"
     ]
    }
   ],
   "source": [
    "for i in range(1,7):\n",
    "    for j in range(1,5):\n",
    "        print(\"*\", end = \" \")\n",
    "    print()"
   ]
  },
  {
   "cell_type": "markdown",
   "id": "1279150a",
   "metadata": {},
   "source": []
  },
  {
   "cell_type": "code",
   "execution_count": null,
   "id": "41ab41f9",
   "metadata": {},
   "outputs": [],
   "source": []
  }
 ],
 "metadata": {
  "kernelspec": {
   "display_name": "Python 3 (ipykernel)",
   "language": "python",
   "name": "python3"
  },
  "language_info": {
   "codemirror_mode": {
    "name": "ipython",
    "version": 3
   },
   "file_extension": ".py",
   "mimetype": "text/x-python",
   "name": "python",
   "nbconvert_exporter": "python",
   "pygments_lexer": "ipython3",
   "version": "3.10.5"
  }
 },
 "nbformat": 4,
 "nbformat_minor": 5
}
