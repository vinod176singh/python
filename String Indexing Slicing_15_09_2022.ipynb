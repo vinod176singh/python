{
 "cells": [
  {
   "cell_type": "markdown",
   "id": "cc12c03c",
   "metadata": {},
   "source": [
    "# Indexing"
   ]
  },
  {
   "cell_type": "markdown",
   "id": "387b0a31",
   "metadata": {},
   "source": [
    "Indexing is used to access letters in a string\n",
    "Index starts from 0\n",
    "\n",
    "Types of Indexing:\n",
    "    1. Posetive Indexing\n",
    "    2. Negative Indexing"
   ]
  },
  {
   "cell_type": "markdown",
   "id": "b2546d25",
   "metadata": {},
   "source": [
    "## Posetive Indexing"
   ]
  },
  {
   "cell_type": "code",
   "execution_count": 1,
   "id": "d7bfb884",
   "metadata": {},
   "outputs": [
    {
     "data": {
      "text/plain": [
       "'T'"
      ]
     },
     "execution_count": 1,
     "metadata": {},
     "output_type": "execute_result"
    }
   ],
   "source": [
    "string = \"This is a sample string\"\n",
    "\n",
    "string[0]"
   ]
  },
  {
   "cell_type": "code",
   "execution_count": 2,
   "id": "7f456c53",
   "metadata": {},
   "outputs": [
    {
     "data": {
      "text/plain": [
       "'h'"
      ]
     },
     "execution_count": 2,
     "metadata": {},
     "output_type": "execute_result"
    }
   ],
   "source": [
    "string[1]"
   ]
  },
  {
   "cell_type": "code",
   "execution_count": 3,
   "id": "05a2f1cf",
   "metadata": {},
   "outputs": [
    {
     "data": {
      "text/plain": [
       "'i'"
      ]
     },
     "execution_count": 3,
     "metadata": {},
     "output_type": "execute_result"
    }
   ],
   "source": [
    "string[2]"
   ]
  },
  {
   "cell_type": "code",
   "execution_count": 5,
   "id": "91a216e4",
   "metadata": {},
   "outputs": [
    {
     "name": "stdout",
     "output_type": "stream",
     "text": [
      "s\n",
      " \n"
     ]
    }
   ],
   "source": [
    "print(string[3])\n",
    "print(string[4])"
   ]
  },
  {
   "cell_type": "code",
   "execution_count": 6,
   "id": "be591edb",
   "metadata": {},
   "outputs": [
    {
     "data": {
      "text/plain": [
       "' '"
      ]
     },
     "execution_count": 6,
     "metadata": {},
     "output_type": "execute_result"
    }
   ],
   "source": [
    "string[4]"
   ]
  },
  {
   "cell_type": "code",
   "execution_count": null,
   "id": "8c1b4b7a",
   "metadata": {},
   "outputs": [],
   "source": [
    "The above string can be broken into following indexing\n",
    "\"T h i s   i s   a    s   a m  p  l  e      s  t   r  i   n   g\"\n",
    " 0 1 2 3 4 5 6 7 8 9 10  11 12 13 14 15 16 17 18  19 20  21  22"
   ]
  },
  {
   "cell_type": "code",
   "execution_count": 7,
   "id": "74ca754f",
   "metadata": {},
   "outputs": [
    {
     "data": {
      "text/plain": [
       "'e'"
      ]
     },
     "execution_count": 7,
     "metadata": {},
     "output_type": "execute_result"
    }
   ],
   "source": [
    "string[15]"
   ]
  },
  {
   "cell_type": "code",
   "execution_count": 8,
   "id": "d28c5c36",
   "metadata": {},
   "outputs": [
    {
     "data": {
      "text/plain": [
       "'g'"
      ]
     },
     "execution_count": 8,
     "metadata": {},
     "output_type": "execute_result"
    }
   ],
   "source": [
    "string[22]"
   ]
  },
  {
   "cell_type": "code",
   "execution_count": 9,
   "id": "5a37ad62",
   "metadata": {},
   "outputs": [],
   "source": [
    "str1 = \"My name is Suresh\""
   ]
  },
  {
   "cell_type": "code",
   "execution_count": 10,
   "id": "9e1950b6",
   "metadata": {},
   "outputs": [
    {
     "name": "stdout",
     "output_type": "stream",
     "text": [
      "a\n"
     ]
    }
   ],
   "source": [
    "print(str1[4])"
   ]
  },
  {
   "cell_type": "code",
   "execution_count": 11,
   "id": "5c7021d8",
   "metadata": {},
   "outputs": [
    {
     "data": {
      "text/plain": [
       "' '"
      ]
     },
     "execution_count": 11,
     "metadata": {},
     "output_type": "execute_result"
    }
   ],
   "source": [
    "str1[2]"
   ]
  },
  {
   "cell_type": "code",
   "execution_count": 12,
   "id": "cf6732fd",
   "metadata": {},
   "outputs": [
    {
     "data": {
      "text/plain": [
       "'s'"
      ]
     },
     "execution_count": 12,
     "metadata": {},
     "output_type": "execute_result"
    }
   ],
   "source": [
    "str1[9]"
   ]
  },
  {
   "cell_type": "code",
   "execution_count": 13,
   "id": "f54f692e",
   "metadata": {},
   "outputs": [
    {
     "data": {
      "text/plain": [
       "'r'"
      ]
     },
     "execution_count": 13,
     "metadata": {},
     "output_type": "execute_result"
    }
   ],
   "source": [
    "str1[13]"
   ]
  },
  {
   "cell_type": "code",
   "execution_count": 14,
   "id": "6a74ab95",
   "metadata": {},
   "outputs": [
    {
     "data": {
      "text/plain": [
       "'e'"
      ]
     },
     "execution_count": 14,
     "metadata": {},
     "output_type": "execute_result"
    }
   ],
   "source": [
    "str2 = \"Data Science\"\n",
    "str2[8]"
   ]
  },
  {
   "cell_type": "code",
   "execution_count": 16,
   "id": "b6801ff6",
   "metadata": {},
   "outputs": [
    {
     "data": {
      "text/plain": [
       "'i'"
      ]
     },
     "execution_count": 16,
     "metadata": {},
     "output_type": "execute_result"
    }
   ],
   "source": [
    "str2[7]"
   ]
  },
  {
   "cell_type": "code",
   "execution_count": 17,
   "id": "21e35492",
   "metadata": {},
   "outputs": [
    {
     "data": {
      "text/plain": [
       "'e'"
      ]
     },
     "execution_count": 17,
     "metadata": {},
     "output_type": "execute_result"
    }
   ],
   "source": [
    "str2[11]"
   ]
  },
  {
   "cell_type": "code",
   "execution_count": 18,
   "id": "2765c37d",
   "metadata": {},
   "outputs": [
    {
     "ename": "IndexError",
     "evalue": "string index out of range",
     "output_type": "error",
     "traceback": [
      "\u001b[1;31m---------------------------------------------------------------------------\u001b[0m",
      "\u001b[1;31mIndexError\u001b[0m                                Traceback (most recent call last)",
      "Input \u001b[1;32mIn [18]\u001b[0m, in \u001b[0;36m<cell line: 1>\u001b[1;34m()\u001b[0m\n\u001b[1;32m----> 1\u001b[0m \u001b[43mstr2\u001b[49m\u001b[43m[\u001b[49m\u001b[38;5;241;43m12\u001b[39;49m\u001b[43m]\u001b[49m\n",
      "\u001b[1;31mIndexError\u001b[0m: string index out of range"
     ]
    }
   ],
   "source": [
    "str2[12]"
   ]
  },
  {
   "cell_type": "markdown",
   "id": "26457c26",
   "metadata": {},
   "source": [
    "## Negative Indexing"
   ]
  },
  {
   "cell_type": "code",
   "execution_count": 19,
   "id": "d77043df",
   "metadata": {},
   "outputs": [],
   "source": [
    "str1 = \"Python\""
   ]
  },
  {
   "cell_type": "code",
   "execution_count": null,
   "id": "5c5bc6ad",
   "metadata": {},
   "outputs": [],
   "source": [
    " P   y  t  h  o  n  >> String\n",
    " 0   1  2  3  4  5  >> Posetive Indexing\n",
    "-6  -5 -4 -3 -2 -1  >> Negative Indexing"
   ]
  },
  {
   "cell_type": "code",
   "execution_count": 20,
   "id": "a5d0a52e",
   "metadata": {},
   "outputs": [
    {
     "name": "stdout",
     "output_type": "stream",
     "text": [
      "P\n",
      "y\n",
      "t\n",
      "h\n",
      "o\n",
      "n\n"
     ]
    }
   ],
   "source": [
    "print(str1[0])\n",
    "print(str1[1])\n",
    "print(str1[2])\n",
    "print(str1[3])\n",
    "print(str1[4])\n",
    "print(str1[5])"
   ]
  },
  {
   "cell_type": "code",
   "execution_count": 21,
   "id": "3176453a",
   "metadata": {},
   "outputs": [
    {
     "name": "stdout",
     "output_type": "stream",
     "text": [
      "P\n",
      "y\n",
      "t\n",
      "h\n",
      "o\n",
      "n\n"
     ]
    }
   ],
   "source": [
    "print(str1[-6])\n",
    "print(str1[-5])\n",
    "print(str1[-4])\n",
    "print(str1[-3])\n",
    "print(str1[-2])\n",
    "print(str1[-1])"
   ]
  },
  {
   "cell_type": "code",
   "execution_count": 22,
   "id": "7fdb284e",
   "metadata": {},
   "outputs": [
    {
     "data": {
      "text/plain": [
       "'n'"
      ]
     },
     "execution_count": 22,
     "metadata": {},
     "output_type": "execute_result"
    }
   ],
   "source": [
    "str1 = \"Data Science\"\n",
    "str1[-3]"
   ]
  },
  {
   "cell_type": "code",
   "execution_count": 23,
   "id": "959188bd",
   "metadata": {},
   "outputs": [
    {
     "data": {
      "text/plain": [
       "'t'"
      ]
     },
     "execution_count": 23,
     "metadata": {},
     "output_type": "execute_result"
    }
   ],
   "source": [
    "str1[-10]"
   ]
  },
  {
   "cell_type": "code",
   "execution_count": 24,
   "id": "323ff991",
   "metadata": {},
   "outputs": [
    {
     "data": {
      "text/plain": [
       "'e'"
      ]
     },
     "execution_count": 24,
     "metadata": {},
     "output_type": "execute_result"
    }
   ],
   "source": [
    "str1[-1]"
   ]
  },
  {
   "cell_type": "code",
   "execution_count": 25,
   "id": "42b87407",
   "metadata": {},
   "outputs": [
    {
     "data": {
      "text/plain": [
       "'c'"
      ]
     },
     "execution_count": 25,
     "metadata": {},
     "output_type": "execute_result"
    }
   ],
   "source": [
    "str1[-2]"
   ]
  },
  {
   "cell_type": "code",
   "execution_count": 26,
   "id": "a1c50393",
   "metadata": {},
   "outputs": [
    {
     "data": {
      "text/plain": [
       "'e'"
      ]
     },
     "execution_count": 26,
     "metadata": {},
     "output_type": "execute_result"
    }
   ],
   "source": [
    "str1[-4]"
   ]
  },
  {
   "cell_type": "code",
   "execution_count": 27,
   "id": "bc07e7eb",
   "metadata": {},
   "outputs": [
    {
     "data": {
      "text/plain": [
       "'D'"
      ]
     },
     "execution_count": 27,
     "metadata": {},
     "output_type": "execute_result"
    }
   ],
   "source": [
    "str1[-12]"
   ]
  },
  {
   "cell_type": "code",
   "execution_count": 28,
   "id": "a86de5e3",
   "metadata": {},
   "outputs": [
    {
     "data": {
      "text/plain": [
       "'e'"
      ]
     },
     "execution_count": 28,
     "metadata": {},
     "output_type": "execute_result"
    }
   ],
   "source": [
    "n = 11\n",
    "str1[n]"
   ]
  },
  {
   "cell_type": "markdown",
   "id": "52e579a1",
   "metadata": {},
   "source": [
    "# String Slicing"
   ]
  },
  {
   "cell_type": "code",
   "execution_count": 29,
   "id": "b0317ece",
   "metadata": {},
   "outputs": [],
   "source": [
    "string = \"This is a sample string\""
   ]
  },
  {
   "cell_type": "code",
   "execution_count": null,
   "id": "08624d96",
   "metadata": {},
   "outputs": [],
   "source": [
    "For indexing:\n",
    "    string[number]\n",
    "\n",
    "for slicing:\n",
    "    string[number:number:number] >> string[start index : end index : step size]\n",
    "    or\n",
    "    string[number:number]        >> string[start index : end index]\n",
    "    or\n",
    "    string[number:]              >> string[start index:(if nothing is there,default is end index)]\n",
    "    or\n",
    "    string[:number]              >> string[(if nothing is there,default is start index): end index]"
   ]
  },
  {
   "cell_type": "code",
   "execution_count": 30,
   "id": "7f8e034a",
   "metadata": {},
   "outputs": [
    {
     "data": {
      "text/plain": [
       "'Thi'"
      ]
     },
     "execution_count": 30,
     "metadata": {},
     "output_type": "execute_result"
    }
   ],
   "source": [
    "string[0:3] # We want to access \"This\""
   ]
  },
  {
   "cell_type": "code",
   "execution_count": 31,
   "id": "86482c95",
   "metadata": {},
   "outputs": [
    {
     "data": {
      "text/plain": [
       "'This'"
      ]
     },
     "execution_count": 31,
     "metadata": {},
     "output_type": "execute_result"
    }
   ],
   "source": [
    "string[0:4] # Python excludes the last index therefore to access somthing +1 index has to be passed at end index position"
   ]
  },
  {
   "cell_type": "code",
   "execution_count": 32,
   "id": "502e3fe9",
   "metadata": {},
   "outputs": [
    {
     "data": {
      "text/plain": [
       "'i'"
      ]
     },
     "execution_count": 32,
     "metadata": {},
     "output_type": "execute_result"
    }
   ],
   "source": [
    "string[5:6] # We want to access 'is'"
   ]
  },
  {
   "cell_type": "code",
   "execution_count": 33,
   "id": "1b696559",
   "metadata": {},
   "outputs": [
    {
     "data": {
      "text/plain": [
       "'is'"
      ]
     },
     "execution_count": 33,
     "metadata": {},
     "output_type": "execute_result"
    }
   ],
   "source": [
    "string[5:7]"
   ]
  },
  {
   "cell_type": "code",
   "execution_count": 34,
   "id": "88494f65",
   "metadata": {},
   "outputs": [],
   "source": [
    "string = \"This is a sample string\""
   ]
  },
  {
   "cell_type": "code",
   "execution_count": 37,
   "id": "0f788977",
   "metadata": {},
   "outputs": [
    {
     "data": {
      "text/plain": [
       "'sample'"
      ]
     },
     "execution_count": 37,
     "metadata": {},
     "output_type": "execute_result"
    }
   ],
   "source": [
    "string[10:16]"
   ]
  },
  {
   "cell_type": "code",
   "execution_count": 39,
   "id": "b19f6a09",
   "metadata": {},
   "outputs": [
    {
     "data": {
      "text/plain": [
       "'string'"
      ]
     },
     "execution_count": 39,
     "metadata": {},
     "output_type": "execute_result"
    }
   ],
   "source": [
    "string[17:24]"
   ]
  },
  {
   "cell_type": "code",
   "execution_count": 40,
   "id": "a29dd006",
   "metadata": {},
   "outputs": [
    {
     "data": {
      "text/plain": [
       "'string'"
      ]
     },
     "execution_count": 40,
     "metadata": {},
     "output_type": "execute_result"
    }
   ],
   "source": [
    "string[17:] "
   ]
  },
  {
   "cell_type": "code",
   "execution_count": 45,
   "id": "b5b67a9e",
   "metadata": {},
   "outputs": [
    {
     "data": {
      "text/plain": [
       "'a'"
      ]
     },
     "execution_count": 45,
     "metadata": {},
     "output_type": "execute_result"
    }
   ],
   "source": [
    "string[8]"
   ]
  },
  {
   "cell_type": "code",
   "execution_count": 46,
   "id": "8f235bff",
   "metadata": {},
   "outputs": [
    {
     "data": {
      "text/plain": [
       "'a'"
      ]
     },
     "execution_count": 46,
     "metadata": {},
     "output_type": "execute_result"
    }
   ],
   "source": [
    "string[8:9]"
   ]
  },
  {
   "cell_type": "markdown",
   "id": "e9454c9c",
   "metadata": {},
   "source": [
    "## With step size"
   ]
  },
  {
   "cell_type": "markdown",
   "id": "34ad7351",
   "metadata": {},
   "source": [
    "string[start_index:end_index:step_size]"
   ]
  },
  {
   "cell_type": "code",
   "execution_count": 47,
   "id": "dd85f82a",
   "metadata": {},
   "outputs": [],
   "source": [
    "string = \"This is a sample string which is used every time for demonstrating string in Python\""
   ]
  },
  {
   "cell_type": "code",
   "execution_count": 49,
   "id": "429cf7b7",
   "metadata": {},
   "outputs": [
    {
     "data": {
      "text/plain": [
       "'This is a sample str'"
      ]
     },
     "execution_count": 49,
     "metadata": {},
     "output_type": "execute_result"
    }
   ],
   "source": [
    "string[0:20]"
   ]
  },
  {
   "cell_type": "code",
   "execution_count": 51,
   "id": "3877b62b",
   "metadata": {},
   "outputs": [
    {
     "data": {
      "text/plain": [
       "'This is a sample str'"
      ]
     },
     "execution_count": 51,
     "metadata": {},
     "output_type": "execute_result"
    }
   ],
   "source": [
    "string[0:20:1] # Default step size is 1"
   ]
  },
  {
   "cell_type": "code",
   "execution_count": 52,
   "id": "594c1c56",
   "metadata": {},
   "outputs": [
    {
     "data": {
      "text/plain": [
       "'Ti sasml t'"
      ]
     },
     "execution_count": 52,
     "metadata": {},
     "output_type": "execute_result"
    }
   ],
   "source": [
    "string[0:20:2]"
   ]
  },
  {
   "cell_type": "code",
   "execution_count": 53,
   "id": "d08f6666",
   "metadata": {},
   "outputs": [
    {
     "data": {
      "text/plain": [
       "'Tss met'"
      ]
     },
     "execution_count": 53,
     "metadata": {},
     "output_type": "execute_result"
    }
   ],
   "source": [
    "string[0:20:3]"
   ]
  },
  {
   "cell_type": "code",
   "execution_count": 55,
   "id": "adde1f7f",
   "metadata": {},
   "outputs": [
    {
     "data": {
      "text/plain": [
       "'This is a'"
      ]
     },
     "execution_count": 55,
     "metadata": {},
     "output_type": "execute_result"
    }
   ],
   "source": [
    "string[0:9]"
   ]
  },
  {
   "cell_type": "code",
   "execution_count": 56,
   "id": "414b810e",
   "metadata": {},
   "outputs": [
    {
     "data": {
      "text/plain": [
       "'Ti sa'"
      ]
     },
     "execution_count": 56,
     "metadata": {},
     "output_type": "execute_result"
    }
   ],
   "source": [
    "string[0:9:2]"
   ]
  },
  {
   "cell_type": "markdown",
   "id": "74df135e",
   "metadata": {},
   "source": [
    "## With default indexes"
   ]
  },
  {
   "cell_type": "markdown",
   "id": "9d0a4e7f",
   "metadata": {},
   "source": [
    "### Default end index"
   ]
  },
  {
   "cell_type": "code",
   "execution_count": 57,
   "id": "5be7ef4e",
   "metadata": {},
   "outputs": [],
   "source": [
    "string = \"This is a sample string which is used every time for demonstrating string in Python\""
   ]
  },
  {
   "cell_type": "code",
   "execution_count": 58,
   "id": "26f0fd72",
   "metadata": {},
   "outputs": [
    {
     "data": {
      "text/plain": [
       "'sample string which is used every time for demonstrating string in Python'"
      ]
     },
     "execution_count": 58,
     "metadata": {},
     "output_type": "execute_result"
    }
   ],
   "source": [
    "string[10:]"
   ]
  },
  {
   "cell_type": "code",
   "execution_count": 59,
   "id": "b2a7f400",
   "metadata": {},
   "outputs": [
    {
     "data": {
      "text/plain": [
       "'string which is used every time for demonstrating string in Python'"
      ]
     },
     "execution_count": 59,
     "metadata": {},
     "output_type": "execute_result"
    }
   ],
   "source": [
    "string[17:]"
   ]
  },
  {
   "cell_type": "code",
   "execution_count": 60,
   "id": "293c5619",
   "metadata": {},
   "outputs": [
    {
     "data": {
      "text/plain": [
       "'ch is used every time for demonstrating string in Python'"
      ]
     },
     "execution_count": 60,
     "metadata": {},
     "output_type": "execute_result"
    }
   ],
   "source": [
    "string[27:]"
   ]
  },
  {
   "cell_type": "code",
   "execution_count": 62,
   "id": "46cc1600",
   "metadata": {},
   "outputs": [
    {
     "data": {
      "text/plain": [
       "'is used every time for demonstrating string in Python'"
      ]
     },
     "execution_count": 62,
     "metadata": {},
     "output_type": "execute_result"
    }
   ],
   "source": [
    "string[30:]"
   ]
  },
  {
   "cell_type": "code",
   "execution_count": 63,
   "id": "4ef512ba",
   "metadata": {},
   "outputs": [
    {
     "data": {
      "text/plain": [
       "'ed every time for demonstrating string in Python'"
      ]
     },
     "execution_count": 63,
     "metadata": {},
     "output_type": "execute_result"
    }
   ],
   "source": [
    "string[35:]"
   ]
  },
  {
   "cell_type": "code",
   "execution_count": 64,
   "id": "df915e5b",
   "metadata": {},
   "outputs": [
    {
     "data": {
      "text/plain": [
       "'every time for demonstrating string in Python'"
      ]
     },
     "execution_count": 64,
     "metadata": {},
     "output_type": "execute_result"
    }
   ],
   "source": [
    "string[38:]"
   ]
  },
  {
   "cell_type": "markdown",
   "id": "0eec8310",
   "metadata": {},
   "source": [
    "### Default Starting Index"
   ]
  },
  {
   "cell_type": "code",
   "execution_count": 65,
   "id": "b3b9497f",
   "metadata": {},
   "outputs": [],
   "source": [
    "string = \"This is a sample string which is used every time for demonstrating string in Python\""
   ]
  },
  {
   "cell_type": "code",
   "execution_count": 66,
   "id": "9ce35f29",
   "metadata": {},
   "outputs": [
    {
     "data": {
      "text/plain": [
       "'This is a sample str'"
      ]
     },
     "execution_count": 66,
     "metadata": {},
     "output_type": "execute_result"
    }
   ],
   "source": [
    "string[:20]"
   ]
  },
  {
   "cell_type": "code",
   "execution_count": 67,
   "id": "e171b3a7",
   "metadata": {},
   "outputs": [
    {
     "data": {
      "text/plain": [
       "'This is a sample string'"
      ]
     },
     "execution_count": 67,
     "metadata": {},
     "output_type": "execute_result"
    }
   ],
   "source": [
    "string[:23]"
   ]
  },
  {
   "cell_type": "code",
   "execution_count": 69,
   "id": "b66d2e75",
   "metadata": {},
   "outputs": [
    {
     "data": {
      "text/plain": [
       "'This is a sample string which'"
      ]
     },
     "execution_count": 69,
     "metadata": {},
     "output_type": "execute_result"
    }
   ],
   "source": [
    "string[:29]"
   ]
  },
  {
   "cell_type": "code",
   "execution_count": 77,
   "id": "4b3ac994",
   "metadata": {},
   "outputs": [
    {
     "data": {
      "text/plain": [
       "'This is a sample string which is used every time for demonstrating string in Python'"
      ]
     },
     "execution_count": 77,
     "metadata": {},
     "output_type": "execute_result"
    }
   ],
   "source": [
    "string[:]"
   ]
  },
  {
   "cell_type": "code",
   "execution_count": 78,
   "id": "dd51fe8e",
   "metadata": {},
   "outputs": [
    {
     "data": {
      "text/plain": [
       "83"
      ]
     },
     "execution_count": 78,
     "metadata": {},
     "output_type": "execute_result"
    }
   ],
   "source": [
    "len(string)"
   ]
  },
  {
   "cell_type": "code",
   "execution_count": 79,
   "id": "dab4c5b1",
   "metadata": {},
   "outputs": [
    {
     "data": {
      "text/plain": [
       "'This is a sample string which is used every time for demonstrating string in Python'"
      ]
     },
     "execution_count": 79,
     "metadata": {},
     "output_type": "execute_result"
    }
   ],
   "source": [
    "string[:83]"
   ]
  },
  {
   "cell_type": "code",
   "execution_count": 84,
   "id": "d48ba68d",
   "metadata": {},
   "outputs": [
    {
     "data": {
      "text/plain": [
       "'This is a sample string which is used every time for demonstrating string in Python'"
      ]
     },
     "execution_count": 84,
     "metadata": {},
     "output_type": "execute_result"
    }
   ],
   "source": [
    "string[:100000000000000]"
   ]
  },
  {
   "cell_type": "markdown",
   "id": "e6926563",
   "metadata": {},
   "source": [
    "### Negative Step Size"
   ]
  },
  {
   "cell_type": "code",
   "execution_count": 85,
   "id": "f333b9ee",
   "metadata": {},
   "outputs": [
    {
     "data": {
      "text/plain": [
       "'Python'"
      ]
     },
     "execution_count": 85,
     "metadata": {},
     "output_type": "execute_result"
    }
   ],
   "source": [
    "string = \"Python\"\n",
    "string[:]"
   ]
  },
  {
   "cell_type": "code",
   "execution_count": 86,
   "id": "6345419f",
   "metadata": {},
   "outputs": [
    {
     "data": {
      "text/plain": [
       "'Python'"
      ]
     },
     "execution_count": 86,
     "metadata": {},
     "output_type": "execute_result"
    }
   ],
   "source": [
    "string[::]"
   ]
  },
  {
   "cell_type": "code",
   "execution_count": 94,
   "id": "55c37ab8",
   "metadata": {},
   "outputs": [
    {
     "data": {
      "text/plain": [
       "'Python'"
      ]
     },
     "execution_count": 94,
     "metadata": {},
     "output_type": "execute_result"
    }
   ],
   "source": [
    "string[::1] # Start with lower index and will end at higher index (ascending)"
   ]
  },
  {
   "cell_type": "code",
   "execution_count": 87,
   "id": "3d591511",
   "metadata": {},
   "outputs": [
    {
     "data": {
      "text/plain": [
       "'Python'"
      ]
     },
     "execution_count": 87,
     "metadata": {},
     "output_type": "execute_result"
    }
   ],
   "source": [
    "string[0:len(string):1] # Start with lower index and will end at higher index (ascending)"
   ]
  },
  {
   "cell_type": "code",
   "execution_count": 88,
   "id": "6475555d",
   "metadata": {},
   "outputs": [
    {
     "data": {
      "text/plain": [
       "'nohtyP'"
      ]
     },
     "execution_count": 88,
     "metadata": {},
     "output_type": "execute_result"
    }
   ],
   "source": [
    "string[::-1] # Start with higher and end at lower index (descending)"
   ]
  },
  {
   "cell_type": "code",
   "execution_count": 89,
   "id": "5dcf1646",
   "metadata": {},
   "outputs": [
    {
     "data": {
      "text/plain": [
       "'nohtyP'"
      ]
     },
     "execution_count": 89,
     "metadata": {},
     "output_type": "execute_result"
    }
   ],
   "source": [
    "string[5::-1]"
   ]
  },
  {
   "cell_type": "code",
   "execution_count": 91,
   "id": "7e3d2e6b",
   "metadata": {},
   "outputs": [
    {
     "data": {
      "text/plain": [
       "'nohty'"
      ]
     },
     "execution_count": 91,
     "metadata": {},
     "output_type": "execute_result"
    }
   ],
   "source": [
    "string[5:0:-1]"
   ]
  },
  {
   "cell_type": "code",
   "execution_count": 93,
   "id": "5491df53",
   "metadata": {},
   "outputs": [
    {
     "data": {
      "text/plain": [
       "'nohtyP'"
      ]
     },
     "execution_count": 93,
     "metadata": {},
     "output_type": "execute_result"
    }
   ],
   "source": [
    "string[-1::-1]"
   ]
  },
  {
   "cell_type": "code",
   "execution_count": 95,
   "id": "f4ce5d85",
   "metadata": {},
   "outputs": [
    {
     "data": {
      "text/plain": [
       "'nhy'"
      ]
     },
     "execution_count": 95,
     "metadata": {},
     "output_type": "execute_result"
    }
   ],
   "source": [
    "string[5::-2]"
   ]
  },
  {
   "cell_type": "code",
   "execution_count": 97,
   "id": "92f6bc7c",
   "metadata": {},
   "outputs": [
    {
     "data": {
      "text/plain": [
       "'nt'"
      ]
     },
     "execution_count": 97,
     "metadata": {},
     "output_type": "execute_result"
    }
   ],
   "source": [
    "string[5::-3]"
   ]
  },
  {
   "cell_type": "code",
   "execution_count": 98,
   "id": "eed8a2cd",
   "metadata": {},
   "outputs": [
    {
     "data": {
      "text/plain": [
       "'Python'"
      ]
     },
     "execution_count": 98,
     "metadata": {},
     "output_type": "execute_result"
    }
   ],
   "source": [
    "string[0:6:1]"
   ]
  },
  {
   "cell_type": "code",
   "execution_count": 100,
   "id": "27253af1",
   "metadata": {},
   "outputs": [
    {
     "data": {
      "text/plain": [
       "'nohtyP'"
      ]
     },
     "execution_count": 100,
     "metadata": {},
     "output_type": "execute_result"
    }
   ],
   "source": [
    "string[5::-1]"
   ]
  },
  {
   "cell_type": "code",
   "execution_count": 101,
   "id": "afcc6136",
   "metadata": {},
   "outputs": [
    {
     "data": {
      "text/plain": [
       "'nohtyP'"
      ]
     },
     "execution_count": 101,
     "metadata": {},
     "output_type": "execute_result"
    }
   ],
   "source": [
    "string[6::-1]"
   ]
  },
  {
   "cell_type": "code",
   "execution_count": 102,
   "id": "ee354826",
   "metadata": {},
   "outputs": [
    {
     "data": {
      "text/plain": [
       "''"
      ]
     },
     "execution_count": 102,
     "metadata": {},
     "output_type": "execute_result"
    }
   ],
   "source": [
    "string = \"Python\"\n",
    "string[7::1]"
   ]
  },
  {
   "cell_type": "code",
   "execution_count": 103,
   "id": "68bcee15",
   "metadata": {},
   "outputs": [
    {
     "data": {
      "text/plain": [
       "'\\n'"
      ]
     },
     "execution_count": 103,
     "metadata": {},
     "output_type": "execute_result"
    }
   ],
   "source": [
    "string = 'This is a sample string which is used every time for demonstrating string in Python'\n",
    "string[0]"
   ]
  },
  {
   "cell_type": "code",
   "execution_count": 107,
   "id": "91b99dad",
   "metadata": {},
   "outputs": [
    {
     "data": {
      "text/plain": [
       "16"
      ]
     },
     "execution_count": 107,
     "metadata": {},
     "output_type": "execute_result"
    }
   ],
   "source": [
    "string.index(\"e\")"
   ]
  },
  {
   "cell_type": "code",
   "execution_count": null,
   "id": "6a3b83b6",
   "metadata": {},
   "outputs": [],
   "source": []
  }
 ],
 "metadata": {
  "kernelspec": {
   "display_name": "Python 3 (ipykernel)",
   "language": "python",
   "name": "python3"
  },
  "language_info": {
   "codemirror_mode": {
    "name": "ipython",
    "version": 3
   },
   "file_extension": ".py",
   "mimetype": "text/x-python",
   "name": "python",
   "nbconvert_exporter": "python",
   "pygments_lexer": "ipython3",
   "version": "3.10.5"
  }
 },
 "nbformat": 4,
 "nbformat_minor": 5
}
