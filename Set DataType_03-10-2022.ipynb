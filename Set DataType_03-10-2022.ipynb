{
 "cells": [
  {
   "cell_type": "code",
   "execution_count": null,
   "id": "25e6e204",
   "metadata": {},
   "outputs": [],
   "source": [
    "String : Immutable, Ordered, Duplicates are allowed\n",
    "List   : Mutable, Ordered, Duplicates are allowed\n",
    "Tuple  : Immutable, Ordered, Duplicates are allowed\n",
    "*******************************************************\n",
    "Set    : Mutable, Unordered, Duplicates are not allowed"
   ]
  },
  {
   "cell_type": "markdown",
   "id": "897f7059",
   "metadata": {},
   "source": [
    "## Set"
   ]
  },
  {
   "cell_type": "code",
   "execution_count": null,
   "id": "3de61531",
   "metadata": {},
   "outputs": [],
   "source": [
    "1. Mutable\n",
    "2. Unordered\n",
    "3. Duplicates are not allowed\n",
    "4. Enclosed by { }\n",
    "5. Indexing not applicable \n",
    "6. Can contain only integer, float, string and datatypes like list, tuple, set, dict, frozenset are not allowed"
   ]
  },
  {
   "cell_type": "code",
   "execution_count": 1,
   "id": "9fa67f09",
   "metadata": {},
   "outputs": [
    {
     "data": {
      "text/plain": [
       "set"
      ]
     },
     "execution_count": 1,
     "metadata": {},
     "output_type": "execute_result"
    }
   ],
   "source": [
    "set1 = {1,2,3,4,5}\n",
    "\n",
    "type(set1)"
   ]
  },
  {
   "cell_type": "code",
   "execution_count": 3,
   "id": "be41399c",
   "metadata": {},
   "outputs": [
    {
     "data": {
      "text/plain": [
       "set"
      ]
     },
     "execution_count": 3,
     "metadata": {},
     "output_type": "execute_result"
    }
   ],
   "source": [
    "# Initiating the set\n",
    "set2 = set()\n",
    "type(set2)"
   ]
  },
  {
   "cell_type": "code",
   "execution_count": 4,
   "id": "42c7701d",
   "metadata": {},
   "outputs": [
    {
     "data": {
      "text/plain": [
       "dict"
      ]
     },
     "execution_count": 4,
     "metadata": {},
     "output_type": "execute_result"
    }
   ],
   "source": [
    "set3 = {}\n",
    "\n",
    "type(set3)"
   ]
  },
  {
   "cell_type": "code",
   "execution_count": 5,
   "id": "ba656194",
   "metadata": {},
   "outputs": [
    {
     "name": "stdout",
     "output_type": "stream",
     "text": [
      "{1, 2, 3, 4, 5, 6, 7, 8, 9, 11}\n"
     ]
    }
   ],
   "source": [
    "set1 = {1,2,2,3,4,5,6,6,7,7,8,9,9,11,11,}\n",
    "\n",
    "print(set1)   # Duplicates are not allowed"
   ]
  },
  {
   "cell_type": "code",
   "execution_count": 11,
   "id": "8d8c47cc",
   "metadata": {},
   "outputs": [
    {
     "name": "stdout",
     "output_type": "stream",
     "text": [
      "{'29', 1, 2, 'Pune', 36, 'Aurangabaad', 'Mumbai', 'Amarvati', 'Chennai', 'Kolkata', 'Delhi', 'Ahmedabaad'}\n"
     ]
    }
   ],
   "source": [
    "## Unordered\n",
    "\n",
    "set1 = {\"Pune\",1,\"Kolkata\",2,\"Delhi\",\"Mumbai\",36,\"Amarvati\",\"Chennai\",\"29\",\"Ahmedabaad\",\"Aurangabaad\"}\n",
    "\n",
    "print(set1)"
   ]
  },
  {
   "cell_type": "code",
   "execution_count": 12,
   "id": "1d77553c",
   "metadata": {},
   "outputs": [
    {
     "ename": "TypeError",
     "evalue": "'set' object is not subscriptable",
     "output_type": "error",
     "traceback": [
      "\u001b[1;31m---------------------------------------------------------------------------\u001b[0m",
      "\u001b[1;31mTypeError\u001b[0m                                 Traceback (most recent call last)",
      "Input \u001b[1;32mIn [12]\u001b[0m, in \u001b[0;36m<cell line: 5>\u001b[1;34m()\u001b[0m\n\u001b[0;32m      1\u001b[0m \u001b[38;5;66;03m## Indexing Does Not Work\u001b[39;00m\n\u001b[0;32m      3\u001b[0m set1 \u001b[38;5;241m=\u001b[39m {\u001b[38;5;124m\"\u001b[39m\u001b[38;5;124mPune\u001b[39m\u001b[38;5;124m\"\u001b[39m,\u001b[38;5;241m1\u001b[39m,\u001b[38;5;124m\"\u001b[39m\u001b[38;5;124mKolkata\u001b[39m\u001b[38;5;124m\"\u001b[39m,\u001b[38;5;241m2\u001b[39m,\u001b[38;5;124m\"\u001b[39m\u001b[38;5;124mDelhi\u001b[39m\u001b[38;5;124m\"\u001b[39m,\u001b[38;5;124m\"\u001b[39m\u001b[38;5;124mMumbai\u001b[39m\u001b[38;5;124m\"\u001b[39m,\u001b[38;5;241m36\u001b[39m,\u001b[38;5;124m\"\u001b[39m\u001b[38;5;124mAmarvati\u001b[39m\u001b[38;5;124m\"\u001b[39m,\u001b[38;5;124m\"\u001b[39m\u001b[38;5;124mChennai\u001b[39m\u001b[38;5;124m\"\u001b[39m,\u001b[38;5;124m\"\u001b[39m\u001b[38;5;124m29\u001b[39m\u001b[38;5;124m\"\u001b[39m,\u001b[38;5;124m\"\u001b[39m\u001b[38;5;124mAhmedabaad\u001b[39m\u001b[38;5;124m\"\u001b[39m,\u001b[38;5;124m\"\u001b[39m\u001b[38;5;124mAurangabaad\u001b[39m\u001b[38;5;124m\"\u001b[39m}\n\u001b[1;32m----> 5\u001b[0m \u001b[43mset1\u001b[49m\u001b[43m[\u001b[49m\u001b[38;5;241;43m4\u001b[39;49m\u001b[43m]\u001b[49m\n",
      "\u001b[1;31mTypeError\u001b[0m: 'set' object is not subscriptable"
     ]
    }
   ],
   "source": [
    "## Indexing Does Not Work\n",
    "\n",
    "set1 = {\"Pune\",1,\"Kolkata\",2,\"Delhi\",\"Mumbai\",36,\"Amarvati\",\"Chennai\",\"29\",\"Ahmedabaad\",\"Aurangabaad\"}\n",
    "\n",
    "set1[4]"
   ]
  },
  {
   "cell_type": "markdown",
   "id": "d35f7a81",
   "metadata": {},
   "source": [
    "## Set Functions"
   ]
  },
  {
   "cell_type": "code",
   "execution_count": null,
   "id": "a411d02f",
   "metadata": {},
   "outputs": [],
   "source": [
    "01. add()\n",
    "02. update()\n",
    "03. union()\n",
    "\n",
    "04. remove()\n",
    "05. discard()\n",
    "06. pop()\n",
    "07. clear()\n",
    "08. del (Keyword)\n",
    "\n",
    "09. intersection()\n",
    "10. intersection_update()\n",
    "11. difference()\n",
    "12. difference_update()\n",
    "13. symmetric_difference()\n",
    "14. symmetric_difference_update()\n",
    "\n",
    "15. issuperset()\n",
    "16. issubset()\n",
    "17. isdisjoint()\n",
    "18. copy()"
   ]
  },
  {
   "cell_type": "markdown",
   "id": "4a5b2803",
   "metadata": {},
   "source": [
    "### 1. add()"
   ]
  },
  {
   "cell_type": "code",
   "execution_count": null,
   "id": "5ec0710e",
   "metadata": {},
   "outputs": [],
   "source": [
    "Used for adding an element to the set"
   ]
  },
  {
   "cell_type": "code",
   "execution_count": 13,
   "id": "d41abe4f",
   "metadata": {},
   "outputs": [
    {
     "name": "stdout",
     "output_type": "stream",
     "text": [
      "{1, 2, 3, 4, 'Python'}\n",
      "{1, 2, 3, 4, 'Data Science', 'Python'}\n"
     ]
    }
   ],
   "source": [
    "set1 = {1,2,3,4,\"Python\"}\n",
    "\n",
    "print(set1)\n",
    "\n",
    "set1.add(\"Data Science\")\n",
    "\n",
    "print(set1)"
   ]
  },
  {
   "cell_type": "code",
   "execution_count": 14,
   "id": "c471e61c",
   "metadata": {},
   "outputs": [
    {
     "name": "stdout",
     "output_type": "stream",
     "text": [
      "{'Delhi', 'Kolkata', 'Akola'}\n",
      "{'Distance', 'Delhi', 'Kolkata', 'Akola'}\n"
     ]
    }
   ],
   "source": [
    "set2 = {\"Delhi\",\"Akola\",\"Kolkata\"}\n",
    "print(set2)\n",
    "set2.add(\"Distance\")\n",
    "print(set2)"
   ]
  },
  {
   "cell_type": "markdown",
   "id": "4030f57d",
   "metadata": {},
   "source": [
    "### 2. update()"
   ]
  },
  {
   "cell_type": "code",
   "execution_count": 15,
   "id": "737e4479",
   "metadata": {},
   "outputs": [
    {
     "ename": "TypeError",
     "evalue": "unhashable type: 'set'",
     "output_type": "error",
     "traceback": [
      "\u001b[1;31m---------------------------------------------------------------------------\u001b[0m",
      "\u001b[1;31mTypeError\u001b[0m                                 Traceback (most recent call last)",
      "Input \u001b[1;32mIn [15]\u001b[0m, in \u001b[0;36m<cell line: 4>\u001b[1;34m()\u001b[0m\n\u001b[0;32m      1\u001b[0m set1 \u001b[38;5;241m=\u001b[39m {\u001b[38;5;241m1\u001b[39m,\u001b[38;5;241m2\u001b[39m,\u001b[38;5;241m3\u001b[39m,\u001b[38;5;241m4\u001b[39m}\n\u001b[0;32m      2\u001b[0m set2 \u001b[38;5;241m=\u001b[39m {\u001b[38;5;241m5\u001b[39m,\u001b[38;5;241m6\u001b[39m,\u001b[38;5;241m7\u001b[39m,\u001b[38;5;241m8\u001b[39m}\n\u001b[1;32m----> 4\u001b[0m \u001b[43mset1\u001b[49m\u001b[38;5;241;43m.\u001b[39;49m\u001b[43madd\u001b[49m\u001b[43m(\u001b[49m\u001b[43mset2\u001b[49m\u001b[43m)\u001b[49m\n\u001b[0;32m      6\u001b[0m \u001b[38;5;28mprint\u001b[39m(set1)\n",
      "\u001b[1;31mTypeError\u001b[0m: unhashable type: 'set'"
     ]
    }
   ],
   "source": [
    "set1 = {1,2,3,4}\n",
    "set2 = {5,6,7,8}\n",
    "\n",
    "set1.add(set2)\n",
    "\n",
    "print(set1)"
   ]
  },
  {
   "cell_type": "code",
   "execution_count": 17,
   "id": "a1b9a807",
   "metadata": {},
   "outputs": [
    {
     "name": "stdout",
     "output_type": "stream",
     "text": [
      "{1, 2, 3, 4, 5, 6, 7, 8}\n",
      "{8, 5, 6, 7}\n"
     ]
    }
   ],
   "source": [
    "set1.update(set2)\n",
    "\n",
    "print(set1)\n",
    "print(set2)"
   ]
  },
  {
   "cell_type": "code",
   "execution_count": 23,
   "id": "dfefa475",
   "metadata": {},
   "outputs": [
    {
     "name": "stdout",
     "output_type": "stream",
     "text": [
      "{'Delhi', 'Mumbai', 'Satara', 'Nagpur', 'Chennai', 'Sangli'}\n",
      "{'Chennai', 'Mumbai', 'Delhi'}\n",
      "None\n"
     ]
    }
   ],
   "source": [
    "set1 = {\"Delhi\",\"Mumbai\",\"Chennai\"}\n",
    "\n",
    "set2 = {\"Nagpur\",\"Satara\",\"Sangli\"}\n",
    "\n",
    "set3 = set2.update(set1)\n",
    "\n",
    "print(set2)\n",
    "print(set1)\n",
    "print(set3)"
   ]
  },
  {
   "cell_type": "markdown",
   "id": "d3f75ef7",
   "metadata": {},
   "source": [
    "### 3. union()"
   ]
  },
  {
   "cell_type": "code",
   "execution_count": 20,
   "id": "ba69dbb0",
   "metadata": {},
   "outputs": [
    {
     "name": "stdout",
     "output_type": "stream",
     "text": [
      "{'Chennai', 'Mumbai', 'Delhi'}\n",
      "{'Satara', 'Nagpur', 'Sangli'}\n",
      "{'Satara', 'Delhi', 'Mumbai', 'Nagpur', 'Chennai', 'Sangli'}\n"
     ]
    }
   ],
   "source": [
    "set1 = {\"Delhi\",\"Mumbai\",\"Chennai\"}\n",
    "set2 = {\"Nagpur\",\"Satara\",\"Sangli\"}\n",
    "\n",
    "set3 = set1.union(set2)\n",
    "\n",
    "print(set1)\n",
    "print(set2)\n",
    "print(set3)"
   ]
  },
  {
   "cell_type": "code",
   "execution_count": 22,
   "id": "512b3d6d",
   "metadata": {},
   "outputs": [
    {
     "name": "stdout",
     "output_type": "stream",
     "text": [
      "{'Kolkata', 'Delhi', 'Agra', 'Patna', 'Mumbai', 'Nagpur', 'Chennai'}\n",
      "{'Patna', 'Agra', 'Surat', 'Satara', 'Nagpur', 'Sangli'}\n",
      "{'Surat', 'Mumbai', 'Nagpur', 'Chennai', 'Kolkata', 'Delhi', 'Agra', 'Patna', 'Satara', 'Sangli'}\n"
     ]
    }
   ],
   "source": [
    "set1 = {\"Delhi\",\"Mumbai\",\"Chennai\",\"Nagpur\",\"Kolkata\",\"Patna\",\"Agra\"}\n",
    "set2 = {\"Nagpur\",\"Satara\",\"Sangli\",\"Patna\",\"Agra\",\"Surat\"}\n",
    "\n",
    "set3 = set1.union(set2)\n",
    "\n",
    "print(set1)\n",
    "print(set2)\n",
    "print(set3)"
   ]
  },
  {
   "cell_type": "markdown",
   "id": "38b3c7d0",
   "metadata": {},
   "source": [
    "## Deleting the items from the set"
   ]
  },
  {
   "cell_type": "code",
   "execution_count": null,
   "id": "138cfe76",
   "metadata": {},
   "outputs": [],
   "source": [
    "1. remove()\n",
    "2. discard()\n",
    "3. pop()\n",
    "4. clear()\n",
    "5. del"
   ]
  },
  {
   "cell_type": "markdown",
   "id": "10d5691f",
   "metadata": {},
   "source": [
    "### 4. remove()"
   ]
  },
  {
   "cell_type": "code",
   "execution_count": 24,
   "id": "03542a7c",
   "metadata": {},
   "outputs": [
    {
     "name": "stdout",
     "output_type": "stream",
     "text": [
      "{'Kolkata', 'Delhi', 'Agra', 'Mumbai', 'Nagpur', 'Chennai'}\n"
     ]
    }
   ],
   "source": [
    "set1 = {\"Delhi\",\"Mumbai\",\"Chennai\",\"Nagpur\",\"Kolkata\",\"Patna\",\"Agra\"}\n",
    "\n",
    "set1.remove(\"Patna\")\n",
    "\n",
    "print(set1)"
   ]
  },
  {
   "cell_type": "code",
   "execution_count": 25,
   "id": "6c21afa2",
   "metadata": {},
   "outputs": [
    {
     "name": "stdout",
     "output_type": "stream",
     "text": [
      "{'Kolkata', 'Delhi', 'Agra', 'Mumbai', 'Chennai'}\n"
     ]
    }
   ],
   "source": [
    "set1.remove(\"Nagpur\")\n",
    "print(set1)"
   ]
  },
  {
   "cell_type": "code",
   "execution_count": 26,
   "id": "45d8d693",
   "metadata": {},
   "outputs": [
    {
     "ename": "KeyError",
     "evalue": "'DELHI'",
     "output_type": "error",
     "traceback": [
      "\u001b[1;31m---------------------------------------------------------------------------\u001b[0m",
      "\u001b[1;31mKeyError\u001b[0m                                  Traceback (most recent call last)",
      "Input \u001b[1;32mIn [26]\u001b[0m, in \u001b[0;36m<cell line: 1>\u001b[1;34m()\u001b[0m\n\u001b[1;32m----> 1\u001b[0m \u001b[43mset1\u001b[49m\u001b[38;5;241;43m.\u001b[39;49m\u001b[43mremove\u001b[49m\u001b[43m(\u001b[49m\u001b[38;5;124;43m\"\u001b[39;49m\u001b[38;5;124;43mDELHI\u001b[39;49m\u001b[38;5;124;43m\"\u001b[39;49m\u001b[43m)\u001b[49m\n\u001b[0;32m      3\u001b[0m \u001b[38;5;28mprint\u001b[39m(set1)\n",
      "\u001b[1;31mKeyError\u001b[0m: 'DELHI'"
     ]
    }
   ],
   "source": [
    "set1.remove(\"DELHI\")\n",
    "\n",
    "print(set1)"
   ]
  },
  {
   "cell_type": "markdown",
   "id": "e22ba274",
   "metadata": {},
   "source": [
    "### 5. discard()"
   ]
  },
  {
   "cell_type": "code",
   "execution_count": 27,
   "id": "a512fb20",
   "metadata": {},
   "outputs": [
    {
     "name": "stdout",
     "output_type": "stream",
     "text": [
      "{'Kolkata', 'Agra', 'Patna', 'Mumbai', 'Nagpur', 'Chennai'}\n"
     ]
    }
   ],
   "source": [
    "set1 = {\"Delhi\",\"Mumbai\",\"Chennai\",\"Nagpur\",\"Kolkata\",\"Patna\",\"Agra\"}\n",
    "\n",
    "set1.discard(\"Delhi\")\n",
    "\n",
    "print(set1)"
   ]
  },
  {
   "cell_type": "code",
   "execution_count": 28,
   "id": "eece675e",
   "metadata": {},
   "outputs": [
    {
     "name": "stdout",
     "output_type": "stream",
     "text": [
      "{'Kolkata', 'Patna', 'Mumbai', 'Nagpur', 'Chennai'}\n"
     ]
    }
   ],
   "source": [
    "set1.discard(\"Agra\")\n",
    "print(set1)"
   ]
  },
  {
   "cell_type": "code",
   "execution_count": 29,
   "id": "0121f22a",
   "metadata": {},
   "outputs": [
    {
     "name": "stdout",
     "output_type": "stream",
     "text": [
      "{'Kolkata', 'Delhi', 'Agra', 'Patna', 'Mumbai', 'Nagpur', 'Chennai'}\n"
     ]
    }
   ],
   "source": [
    "set1 = {\"Delhi\",\"Mumbai\",\"Chennai\",\"Nagpur\",\"Kolkata\",\"Patna\",\"Agra\"}\n",
    "\n",
    "set1.discard(\"MUMBAI\")\n",
    "\n",
    "print(set1)"
   ]
  },
  {
   "cell_type": "code",
   "execution_count": 30,
   "id": "ff807700",
   "metadata": {},
   "outputs": [
    {
     "ename": "KeyError",
     "evalue": "'Akola'",
     "output_type": "error",
     "traceback": [
      "\u001b[1;31m---------------------------------------------------------------------------\u001b[0m",
      "\u001b[1;31mKeyError\u001b[0m                                  Traceback (most recent call last)",
      "Input \u001b[1;32mIn [30]\u001b[0m, in \u001b[0;36m<cell line: 1>\u001b[1;34m()\u001b[0m\n\u001b[1;32m----> 1\u001b[0m \u001b[43mset1\u001b[49m\u001b[38;5;241;43m.\u001b[39;49m\u001b[43mremove\u001b[49m\u001b[43m(\u001b[49m\u001b[38;5;124;43m\"\u001b[39;49m\u001b[38;5;124;43mAkola\u001b[39;49m\u001b[38;5;124;43m\"\u001b[39;49m\u001b[43m)\u001b[49m\n\u001b[0;32m      2\u001b[0m \u001b[38;5;28mprint\u001b[39m(set1)\n",
      "\u001b[1;31mKeyError\u001b[0m: 'Akola'"
     ]
    }
   ],
   "source": [
    "set1.remove(\"Akola\")\n",
    "print(set1)"
   ]
  },
  {
   "cell_type": "code",
   "execution_count": 31,
   "id": "da442678",
   "metadata": {},
   "outputs": [
    {
     "name": "stdout",
     "output_type": "stream",
     "text": [
      "{'Kolkata', 'Delhi', 'Agra', 'Patna', 'Mumbai', 'Nagpur', 'Chennai'}\n"
     ]
    }
   ],
   "source": [
    "set1.discard(\"Akola\")\n",
    "print(set1)"
   ]
  },
  {
   "cell_type": "markdown",
   "id": "64dc733c",
   "metadata": {},
   "source": [
    "### 6. pop()"
   ]
  },
  {
   "cell_type": "code",
   "execution_count": 32,
   "id": "f4b9b609",
   "metadata": {},
   "outputs": [],
   "source": [
    "## pops the item from the set randomly, and returns the popped item"
   ]
  },
  {
   "cell_type": "code",
   "execution_count": 33,
   "id": "40690991",
   "metadata": {},
   "outputs": [
    {
     "data": {
      "text/plain": [
       "'Kolkata'"
      ]
     },
     "execution_count": 33,
     "metadata": {},
     "output_type": "execute_result"
    }
   ],
   "source": [
    "set1 = {\"Delhi\",\"Mumbai\",\"Chennai\",\"Nagpur\",\"Kolkata\",\"Patna\",\"Agra\"}\n",
    "\n",
    "set1.pop()"
   ]
  },
  {
   "cell_type": "code",
   "execution_count": 34,
   "id": "a3671dbe",
   "metadata": {},
   "outputs": [
    {
     "data": {
      "text/plain": [
       "{'Agra', 'Chennai', 'Delhi', 'Mumbai', 'Nagpur', 'Patna'}"
      ]
     },
     "execution_count": 34,
     "metadata": {},
     "output_type": "execute_result"
    }
   ],
   "source": [
    "set1"
   ]
  },
  {
   "cell_type": "code",
   "execution_count": 35,
   "id": "f0f26029",
   "metadata": {},
   "outputs": [
    {
     "name": "stdout",
     "output_type": "stream",
     "text": [
      "{'Delhi', 'Agra', 'Patna', 'Mumbai', 'Nagpur', 'Chennai'}\n",
      "Kolkata\n"
     ]
    }
   ],
   "source": [
    "set1 = {\"Delhi\",\"Mumbai\",\"Chennai\",\"Nagpur\",\"Kolkata\",\"Patna\",\"Agra\"}\n",
    "\n",
    "popped_item = set1.pop()\n",
    "\n",
    "print(set1)\n",
    "print(popped_item)"
   ]
  },
  {
   "cell_type": "code",
   "execution_count": 36,
   "id": "40ba7a5d",
   "metadata": {},
   "outputs": [
    {
     "name": "stdout",
     "output_type": "stream",
     "text": [
      "{'Agra', 'Patna', 'Mumbai', 'Nagpur', 'Chennai'}\n",
      "Delhi\n"
     ]
    }
   ],
   "source": [
    "popped_item = set1.pop()\n",
    "\n",
    "print(set1)\n",
    "print(popped_item)"
   ]
  },
  {
   "cell_type": "code",
   "execution_count": 37,
   "id": "745a09e2",
   "metadata": {},
   "outputs": [
    {
     "name": "stdout",
     "output_type": "stream",
     "text": [
      "{'Patna', 'Mumbai', 'Nagpur', 'Chennai'}\n",
      "Agra\n"
     ]
    }
   ],
   "source": [
    "popped_item = set1.pop()\n",
    "\n",
    "print(set1)\n",
    "print(popped_item)"
   ]
  },
  {
   "cell_type": "markdown",
   "id": "7f5e1f9f",
   "metadata": {},
   "source": [
    "### 7. clear()"
   ]
  },
  {
   "cell_type": "code",
   "execution_count": 38,
   "id": "21d8936f",
   "metadata": {},
   "outputs": [
    {
     "name": "stdout",
     "output_type": "stream",
     "text": [
      "set()\n"
     ]
    }
   ],
   "source": [
    "set1 = {\"Artificial\",\"Data\",\"Python\",\"Intelligence\",\"Science\",\"Computer\",\"Language\"}\n",
    "\n",
    "set1.clear()\n",
    "print(set1)"
   ]
  },
  {
   "cell_type": "markdown",
   "id": "656b76f7",
   "metadata": {},
   "source": [
    "### 8. del"
   ]
  },
  {
   "cell_type": "code",
   "execution_count": 39,
   "id": "23df5d3d",
   "metadata": {},
   "outputs": [
    {
     "ename": "NameError",
     "evalue": "name 'set1' is not defined",
     "output_type": "error",
     "traceback": [
      "\u001b[1;31m---------------------------------------------------------------------------\u001b[0m",
      "\u001b[1;31mNameError\u001b[0m                                 Traceback (most recent call last)",
      "Input \u001b[1;32mIn [39]\u001b[0m, in \u001b[0;36m<cell line: 4>\u001b[1;34m()\u001b[0m\n\u001b[0;32m      1\u001b[0m set1 \u001b[38;5;241m=\u001b[39m {\u001b[38;5;124m\"\u001b[39m\u001b[38;5;124mArtificial\u001b[39m\u001b[38;5;124m\"\u001b[39m,\u001b[38;5;124m\"\u001b[39m\u001b[38;5;124mData\u001b[39m\u001b[38;5;124m\"\u001b[39m,\u001b[38;5;124m\"\u001b[39m\u001b[38;5;124mPython\u001b[39m\u001b[38;5;124m\"\u001b[39m,\u001b[38;5;124m\"\u001b[39m\u001b[38;5;124mIntelligence\u001b[39m\u001b[38;5;124m\"\u001b[39m,\u001b[38;5;124m\"\u001b[39m\u001b[38;5;124mScience\u001b[39m\u001b[38;5;124m\"\u001b[39m,\u001b[38;5;124m\"\u001b[39m\u001b[38;5;124mComputer\u001b[39m\u001b[38;5;124m\"\u001b[39m,\u001b[38;5;124m\"\u001b[39m\u001b[38;5;124mLanguage\u001b[39m\u001b[38;5;124m\"\u001b[39m}\n\u001b[0;32m      3\u001b[0m \u001b[38;5;28;01mdel\u001b[39;00m set1\n\u001b[1;32m----> 4\u001b[0m \u001b[38;5;28mprint\u001b[39m(\u001b[43mset1\u001b[49m)\n",
      "\u001b[1;31mNameError\u001b[0m: name 'set1' is not defined"
     ]
    }
   ],
   "source": [
    "set1 = {\"Artificial\",\"Data\",\"Python\",\"Intelligence\",\"Science\",\"Computer\",\"Language\"}\n",
    "\n",
    "del set1\n",
    "print(set1)"
   ]
  },
  {
   "cell_type": "markdown",
   "id": "037af724",
   "metadata": {},
   "source": [
    "### Some More Set Functions"
   ]
  },
  {
   "cell_type": "markdown",
   "id": "ac7679d3",
   "metadata": {},
   "source": [
    "### 9. intersection()"
   ]
  },
  {
   "cell_type": "code",
   "execution_count": 40,
   "id": "2360e1ff",
   "metadata": {},
   "outputs": [
    {
     "name": "stdout",
     "output_type": "stream",
     "text": [
      "{'Phy', 'English'}\n"
     ]
    }
   ],
   "source": [
    "set1 = {\"Phy\",\"Chem\",\"Bio\",\"English\",\"Math\"}\n",
    "set2 = {\"Phy\", \"English\", \"Advanced Math\",\"Python\",\"Data Science\"}\n",
    "\n",
    "### Returns a set having elements comman in both set1 and set2\n",
    "\n",
    "set3 = set1.intersection(set2)\n",
    "\n",
    "print(set3)"
   ]
  },
  {
   "cell_type": "code",
   "execution_count": 41,
   "id": "0c3ec650",
   "metadata": {},
   "outputs": [
    {
     "name": "stdout",
     "output_type": "stream",
     "text": [
      "{1, 3, 5, 7, 9}\n"
     ]
    }
   ],
   "source": [
    "set1 = {1,2,3,4,5,6,7,8,9,10}\n",
    "set2 = {1,3,5,7,9,11,13}\n",
    "\n",
    "set3 = set2.intersection(set1)\n",
    "\n",
    "print(set3)"
   ]
  },
  {
   "cell_type": "markdown",
   "id": "14f0bee7",
   "metadata": {},
   "source": [
    "### 10. intersection_update()"
   ]
  },
  {
   "cell_type": "code",
   "execution_count": 44,
   "id": "44ee84b5",
   "metadata": {},
   "outputs": [
    {
     "name": "stdout",
     "output_type": "stream",
     "text": [
      "Before applying intersection_update\n",
      "Set1 : {'Phy', 'Bio', 'Math', 'English', 'Chem'}\n",
      "Set2 : {'Phy', 'Advanced Math', 'Data Science', 'English', 'Python'}\n",
      "\n",
      "Applying intersection_update.....\n",
      "\n",
      "After applying intersection_update\n",
      "Set1:{'Phy', 'English'}\n",
      "Set2 : {'Phy', 'Advanced Math', 'Data Science', 'English', 'Python'}\n"
     ]
    }
   ],
   "source": [
    "set1 = {\"Phy\",\"Chem\",\"Bio\",\"English\",\"Math\"}\n",
    "set2 = {\"Phy\", \"English\", \"Advanced Math\",\"Python\",\"Data Science\"}\n",
    "\n",
    "print(\"Before applying intersection_update\")\n",
    "print(f\"Set1 : {set1}\")\n",
    "print(f\"Set2 : {set2}\")\n",
    "print()\n",
    "print('Applying intersection_update.....')\n",
    "print()\n",
    "\n",
    "set1.intersection_update(set2)\n",
    "\n",
    "## This does not return anything, but updates the set on left (set1 here) \n",
    "## with the elements that are comman between set1 and set2\n",
    "print(\"After applying intersection_update\")\n",
    "print(f\"Set1:{set1}\")\n",
    "print(f\"Set2 : {set2}\")"
   ]
  },
  {
   "cell_type": "code",
   "execution_count": 45,
   "id": "d5672407",
   "metadata": {},
   "outputs": [
    {
     "name": "stdout",
     "output_type": "stream",
     "text": [
      "Before applying intersection_update\n",
      "Set1 : {'Phy', 'Bio', 'Math', 'English', 'Chem'}\n",
      "Set2 : {'Phy', 'Advanced Math', 'Data Science', 'English', 'Python'}\n",
      "\n",
      "Applying intersection_update.....\n",
      "\n",
      "After applying intersection_update\n",
      "Set1:{'Phy', 'Bio', 'Math', 'English', 'Chem'}\n",
      "Set2 : {'Phy', 'English'}\n"
     ]
    }
   ],
   "source": [
    "set1 = {\"Phy\",\"Chem\",\"Bio\",\"English\",\"Math\"}\n",
    "set2 = {\"Phy\", \"English\", \"Advanced Math\",\"Python\",\"Data Science\"}\n",
    "\n",
    "print(\"Before applying intersection_update\")\n",
    "print(f\"Set1 : {set1}\")\n",
    "print(f\"Set2 : {set2}\")\n",
    "print()\n",
    "print('Applying intersection_update.....')\n",
    "print()\n",
    "\n",
    "set2.intersection_update(set1)\n",
    "\n",
    "## This does not return anything, but updates the set on left (set2 here) \n",
    "## with the elements that are comman between set1 and set2\n",
    "print(\"After applying intersection_update\")\n",
    "print(f\"Set1:{set1}\")\n",
    "print(f\"Set2 : {set2}\")"
   ]
  },
  {
   "cell_type": "markdown",
   "id": "69d337e7",
   "metadata": {},
   "source": [
    "### 11. difference()"
   ]
  },
  {
   "cell_type": "code",
   "execution_count": 46,
   "id": "9bd31fa1",
   "metadata": {},
   "outputs": [
    {
     "name": "stdout",
     "output_type": "stream",
     "text": [
      "{'Bio', 'Chem', 'Math'}\n"
     ]
    }
   ],
   "source": [
    "set1 = {\"Phy\",\"Chem\",\"Bio\",\"English\",\"Math\"}\n",
    "set2 = {\"Phy\", \"English\", \"Advanced Math\",\"Python\",\"Data Science\"}\n",
    "\n",
    "set3 = set1.difference(set2)\n",
    "\n",
    "## Returns difference between two sets, but the elements from the left set only\n",
    "\n",
    "print(set3)"
   ]
  },
  {
   "cell_type": "code",
   "execution_count": 47,
   "id": "118459d7",
   "metadata": {},
   "outputs": [
    {
     "name": "stdout",
     "output_type": "stream",
     "text": [
      "{'Advanced Math', 'Data Science', 'Python'}\n"
     ]
    }
   ],
   "source": [
    "set1 = {\"Phy\",\"Chem\",\"Bio\",\"English\",\"Math\"}\n",
    "set2 = {\"Phy\", \"English\", \"Advanced Math\",\"Python\",\"Data Science\"}\n",
    "\n",
    "set3 = set2.difference(set1)\n",
    "\n",
    "## Returns difference between two sets, but the elements from the left set only\n",
    "\n",
    "print(set3)"
   ]
  },
  {
   "cell_type": "markdown",
   "id": "272ae9ed",
   "metadata": {},
   "source": [
    "### 12. difference_update()"
   ]
  },
  {
   "cell_type": "code",
   "execution_count": 49,
   "id": "cc97ef5d",
   "metadata": {},
   "outputs": [
    {
     "name": "stdout",
     "output_type": "stream",
     "text": [
      "{'Bio', 'Math', 'Chem'}\n"
     ]
    }
   ],
   "source": [
    "set1 = {\"Phy\",\"Chem\",\"Bio\",\"English\",\"Math\"}\n",
    "set2 = {\"Phy\", \"English\", \"Advanced Math\",\"Python\",\"Data Science\"}\n",
    "\n",
    "set1.difference_update(set2)\n",
    "\n",
    "print(set1)\n",
    "\n",
    "## This will not return anything, but updates the set on the left with the elements of \n",
    "## set on left, that are not present in the right set"
   ]
  },
  {
   "cell_type": "code",
   "execution_count": 51,
   "id": "cf9df8c4",
   "metadata": {},
   "outputs": [
    {
     "name": "stdout",
     "output_type": "stream",
     "text": [
      "{'Advanced Math', 'Data Science', 'Python'}\n"
     ]
    }
   ],
   "source": [
    "set1 = {\"Phy\",\"Chem\",\"Bio\",\"English\",\"Math\"}\n",
    "set2 = {\"Phy\", \"English\", \"Advanced Math\",\"Python\",\"Data Science\"}\n",
    "\n",
    "set2.difference_update(set1)\n",
    "\n",
    "print(set2)\n",
    "\n",
    "## This will not return anything, but updates the set on the left with the elements of \n",
    "## set on left, that are not present in the right set"
   ]
  },
  {
   "cell_type": "code",
   "execution_count": 57,
   "id": "fa5c2708",
   "metadata": {},
   "outputs": [
    {
     "name": "stdout",
     "output_type": "stream",
     "text": [
      "{2}\n"
     ]
    }
   ],
   "source": [
    "set1 = {2,3,4,5,6,7}\n",
    "set2 = {5,6,7,8,10,11}\n",
    "set3 = {3,4,5,6,7,8,9,100,300,400}\n",
    "\n",
    "set1.difference_update(set2,set3)\n",
    "\n",
    "print(set1)"
   ]
  },
  {
   "cell_type": "code",
   "execution_count": 58,
   "id": "9359755e",
   "metadata": {},
   "outputs": [
    {
     "name": "stdout",
     "output_type": "stream",
     "text": [
      "{10, 11}\n"
     ]
    }
   ],
   "source": [
    "set1 = {2,3,4,5,6,7}\n",
    "set2 = {5,6,7,8,10,11}\n",
    "set3 = {3,4,5,6,7,8,9,100,300,400}\n",
    "set2.difference_update(set1,set3)\n",
    "print(set2)"
   ]
  },
  {
   "cell_type": "code",
   "execution_count": 59,
   "id": "6dbfa3c2",
   "metadata": {},
   "outputs": [
    {
     "name": "stdout",
     "output_type": "stream",
     "text": [
      "{9, 100, 300, 400}\n"
     ]
    }
   ],
   "source": [
    "set1 = {2,3,4,5,6,7}\n",
    "set2 = {5,6,7,8,10,11}\n",
    "set3 = {3,4,5,6,7,8,9,100,300,400}\n",
    "set3.difference_update(set1,set2)\n",
    "print(set3)"
   ]
  },
  {
   "cell_type": "markdown",
   "id": "033bcd7d",
   "metadata": {},
   "source": [
    "### 13. symmetric_difference()"
   ]
  },
  {
   "cell_type": "code",
   "execution_count": 60,
   "id": "8858a519",
   "metadata": {},
   "outputs": [
    {
     "name": "stdout",
     "output_type": "stream",
     "text": [
      "{'Advanced Math', 'Bio', 'Data Science', 'Math', 'Python', 'Chem'}\n"
     ]
    }
   ],
   "source": [
    "set1 = {\"Phy\",\"Chem\",\"Bio\",\"English\",\"Math\"}\n",
    "set2 = {\"Phy\", \"English\", \"Advanced Math\",\"Python\",\"Data Science\"}\n",
    "\n",
    "## This will return elements that are not comman between both of the sets\n",
    "\n",
    "set3 = set1.symmetric_difference(set2)\n",
    "\n",
    "print(set3)"
   ]
  },
  {
   "cell_type": "code",
   "execution_count": 61,
   "id": "9c0ae411",
   "metadata": {},
   "outputs": [
    {
     "name": "stdout",
     "output_type": "stream",
     "text": [
      "{'Surat', 'Mumbai', 'Chennai', 'Kolkata', 'Delhi', 'Satara', 'Sangli'}\n"
     ]
    }
   ],
   "source": [
    "set1 = {\"Delhi\",\"Mumbai\",\"Chennai\",\"Nagpur\",\"Kolkata\",\"Patna\",\"Agra\"}\n",
    "set2 = {\"Nagpur\",\"Satara\",\"Sangli\",\"Patna\",\"Agra\",\"Surat\"}\n",
    "\n",
    "set3 = set1.symmetric_difference(set2)\n",
    "print(set3)"
   ]
  },
  {
   "cell_type": "code",
   "execution_count": 62,
   "id": "480d72f7",
   "metadata": {},
   "outputs": [
    {
     "data": {
      "text/plain": [
       "{'Agra', 'Nagpur', 'Patna'}"
      ]
     },
     "execution_count": 62,
     "metadata": {},
     "output_type": "execute_result"
    }
   ],
   "source": [
    "set1.intersection(set2)"
   ]
  },
  {
   "cell_type": "markdown",
   "id": "440714ea",
   "metadata": {},
   "source": [
    "### 14. symmetric_difference_update()"
   ]
  },
  {
   "cell_type": "code",
   "execution_count": 64,
   "id": "c64626ee",
   "metadata": {},
   "outputs": [
    {
     "name": "stdout",
     "output_type": "stream",
     "text": [
      "{'Surat', 'Mumbai', 'Chennai', 'Kolkata', 'Delhi', 'Satara', 'Sangli'}\n",
      "{'Patna', 'Agra', 'Surat', 'Satara', 'Nagpur', 'Sangli'}\n"
     ]
    }
   ],
   "source": [
    "set1 = {\"Delhi\",\"Mumbai\",\"Chennai\",\"Nagpur\",\"Kolkata\",\"Patna\",\"Agra\"}\n",
    "set2 = {\"Nagpur\",\"Satara\",\"Sangli\",\"Patna\",\"Agra\",\"Surat\"}\n",
    "\n",
    "## This will not return anything, but it will update set won left with the elements that are not comman between both set\n",
    "\n",
    "set1.symmetric_difference_update(set2)\n",
    "\n",
    "print(set1)\n",
    "print(set2)"
   ]
  },
  {
   "cell_type": "code",
   "execution_count": 65,
   "id": "30c4067f",
   "metadata": {},
   "outputs": [
    {
     "name": "stdout",
     "output_type": "stream",
     "text": [
      "{'Phy', 'Bio', 'Math', 'English', 'Chem'}\n",
      "{'Advanced Math', 'Bio', 'Data Science', 'Math', 'Python', 'Chem'}\n"
     ]
    }
   ],
   "source": [
    "set1 = {\"Phy\",\"Chem\",\"Bio\",\"English\",\"Math\"}\n",
    "set2 = {\"Phy\", \"English\", \"Advanced Math\",\"Python\",\"Data Science\"}\n",
    "\n",
    "set2.symmetric_difference_update(set1)\n",
    "\n",
    "print(set1)\n",
    "print(set2)"
   ]
  },
  {
   "cell_type": "markdown",
   "id": "8f1f5de9",
   "metadata": {},
   "source": [
    "## Remaining Functions"
   ]
  },
  {
   "cell_type": "markdown",
   "id": "60c9f32e",
   "metadata": {},
   "source": [
    "### 15. issuperset()"
   ]
  },
  {
   "cell_type": "code",
   "execution_count": 66,
   "id": "fd72e1a9",
   "metadata": {},
   "outputs": [
    {
     "data": {
      "text/plain": [
       "True"
      ]
     },
     "execution_count": 66,
     "metadata": {},
     "output_type": "execute_result"
    }
   ],
   "source": [
    "set1 = {1,2,3,4,5,6,7,8,9,10}\n",
    "set2 = {1,2,3,4}\n",
    "\n",
    "set1.issuperset(set2)"
   ]
  },
  {
   "cell_type": "code",
   "execution_count": 67,
   "id": "0c3ad79d",
   "metadata": {},
   "outputs": [
    {
     "data": {
      "text/plain": [
       "False"
      ]
     },
     "execution_count": 67,
     "metadata": {},
     "output_type": "execute_result"
    }
   ],
   "source": [
    "set2.issuperset(set1)"
   ]
  },
  {
   "cell_type": "markdown",
   "id": "d7e13190",
   "metadata": {},
   "source": [
    "### 16. issubset()"
   ]
  },
  {
   "cell_type": "code",
   "execution_count": 68,
   "id": "4b55aaaa",
   "metadata": {},
   "outputs": [
    {
     "data": {
      "text/plain": [
       "False"
      ]
     },
     "execution_count": 68,
     "metadata": {},
     "output_type": "execute_result"
    }
   ],
   "source": [
    "set1 = {1,2,3,4,5,6,7,8,9,10}\n",
    "set2 = {1,2,3,4}\n",
    "\n",
    "set1.issubset(set2)"
   ]
  },
  {
   "cell_type": "code",
   "execution_count": 69,
   "id": "ee88ef16",
   "metadata": {},
   "outputs": [
    {
     "data": {
      "text/plain": [
       "True"
      ]
     },
     "execution_count": 69,
     "metadata": {},
     "output_type": "execute_result"
    }
   ],
   "source": [
    "set2.issubset(set1)"
   ]
  },
  {
   "cell_type": "markdown",
   "id": "015803b4",
   "metadata": {},
   "source": [
    "#### Additional Example"
   ]
  },
  {
   "cell_type": "code",
   "execution_count": 70,
   "id": "c75ca80a",
   "metadata": {},
   "outputs": [
    {
     "data": {
      "text/plain": [
       "False"
      ]
     },
     "execution_count": 70,
     "metadata": {},
     "output_type": "execute_result"
    }
   ],
   "source": [
    "city_set = {\"Delhi\",\"Mumbai\",\"Agra\",\"Chennai\",\"Aurangabaad\",\"Nagpur\",\"Kolkata\"}\n",
    "metro_cities = {\"Delhi\",\"Mumbai\",\"Chennai\",\"Kolkata\"}\n",
    "\n",
    "city_set.issubset(metro_cities)"
   ]
  },
  {
   "cell_type": "code",
   "execution_count": 71,
   "id": "4b70bba6",
   "metadata": {},
   "outputs": [
    {
     "data": {
      "text/plain": [
       "True"
      ]
     },
     "execution_count": 71,
     "metadata": {},
     "output_type": "execute_result"
    }
   ],
   "source": [
    "city_set.issuperset(metro_cities)"
   ]
  },
  {
   "cell_type": "code",
   "execution_count": 72,
   "id": "f79a4346",
   "metadata": {},
   "outputs": [
    {
     "data": {
      "text/plain": [
       "True"
      ]
     },
     "execution_count": 72,
     "metadata": {},
     "output_type": "execute_result"
    }
   ],
   "source": [
    "metro_cities.issubset(city_set)"
   ]
  },
  {
   "cell_type": "code",
   "execution_count": 73,
   "id": "9bd39ddf",
   "metadata": {},
   "outputs": [
    {
     "data": {
      "text/plain": [
       "False"
      ]
     },
     "execution_count": 73,
     "metadata": {},
     "output_type": "execute_result"
    }
   ],
   "source": [
    "set1 = {11,2,3,4,5,6,7,8,9}\n",
    "set2 = {12,13,14}\n",
    "\n",
    "set1.issuperset(set2)"
   ]
  },
  {
   "cell_type": "code",
   "execution_count": 74,
   "id": "44b80e1a",
   "metadata": {},
   "outputs": [
    {
     "data": {
      "text/plain": [
       "True"
      ]
     },
     "execution_count": 74,
     "metadata": {},
     "output_type": "execute_result"
    }
   ],
   "source": [
    "set1 = {11,2,3,4,5,6,7,8,9,12,13,14}\n",
    "set2 = {11,2,3,4,5,6,7,8,12,13,14}\n",
    "\n",
    "set1.issuperset(set2)"
   ]
  },
  {
   "cell_type": "markdown",
   "id": "4aeafd2a",
   "metadata": {},
   "source": [
    "### 17. isdisjoint()"
   ]
  },
  {
   "cell_type": "code",
   "execution_count": 75,
   "id": "464f65e5",
   "metadata": {},
   "outputs": [
    {
     "data": {
      "text/plain": [
       "False"
      ]
     },
     "execution_count": 75,
     "metadata": {},
     "output_type": "execute_result"
    }
   ],
   "source": [
    "set1 = {11,2,3,4,5,6,7,8,9,12,13,14}\n",
    "set2 = {11,2,3,4,5,6,7,8,12,13,14}\n",
    "\n",
    "set1.isdisjoint(set2)"
   ]
  },
  {
   "cell_type": "code",
   "execution_count": 76,
   "id": "f5525ce0",
   "metadata": {},
   "outputs": [
    {
     "data": {
      "text/plain": [
       "True"
      ]
     },
     "execution_count": 76,
     "metadata": {},
     "output_type": "execute_result"
    }
   ],
   "source": [
    "set1 = {1,2,3,4,5,6,7,8,9,10}\n",
    "set2 = {11,12,13,14}\n",
    "\n",
    "set1.isdisjoint(set2)"
   ]
  },
  {
   "cell_type": "code",
   "execution_count": 77,
   "id": "4eda2359",
   "metadata": {},
   "outputs": [
    {
     "data": {
      "text/plain": [
       "False"
      ]
     },
     "execution_count": 77,
     "metadata": {},
     "output_type": "execute_result"
    }
   ],
   "source": [
    "set1 = {1,2,3,4,5,6,7,8,9,10}\n",
    "set2 = {10,11,12,13,14}\n",
    "\n",
    "set1.isdisjoint(set2)"
   ]
  },
  {
   "cell_type": "markdown",
   "id": "7d6054a1",
   "metadata": {},
   "source": [
    "### 18. copy()"
   ]
  },
  {
   "cell_type": "code",
   "execution_count": 78,
   "id": "41aab80b",
   "metadata": {},
   "outputs": [
    {
     "name": "stdout",
     "output_type": "stream",
     "text": [
      "Set1 :: {1, 2, 3, 4, 5}  ID: 1910344478368\n",
      "Set2 :: {1, 2, 3, 4, 5}  ID: 1910344478368\n"
     ]
    }
   ],
   "source": [
    "set1 = {1,2,3,4,5}\n",
    "\n",
    "set2 = set1\n",
    "\n",
    "print(f\"Set1 :: {set1}  ID: {id(set1)}\")\n",
    "print(f\"Set2 :: {set2}  ID: {id(set2)}\")"
   ]
  },
  {
   "cell_type": "code",
   "execution_count": 79,
   "id": "0e07b9e6",
   "metadata": {},
   "outputs": [
    {
     "name": "stdout",
     "output_type": "stream",
     "text": [
      "Set1 :: {1, 2, 3, 4, 5, 100}  ID: 1910344478368\n",
      "Set2 :: {1, 2, 3, 4, 5, 100}  ID: 1910344478368\n"
     ]
    }
   ],
   "source": [
    "set1.add(100)\n",
    "\n",
    "print(f\"Set1 :: {set1}  ID: {id(set1)}\")\n",
    "print(f\"Set2 :: {set2}  ID: {id(set2)}\")"
   ]
  },
  {
   "cell_type": "code",
   "execution_count": 80,
   "id": "906e2066",
   "metadata": {},
   "outputs": [
    {
     "name": "stdout",
     "output_type": "stream",
     "text": [
      "Set1 :: {1, 2, 3, 4, 5}  ID: 1910344681056\n",
      "Set2 :: {1, 2, 3, 4, 5}  ID: 1910342091040\n"
     ]
    }
   ],
   "source": [
    "## Using copy`\n",
    "set1 = {1,2,3,4,5}\n",
    "\n",
    "set2 = set1.copy()\n",
    "\n",
    "print(f\"Set1 :: {set1}  ID: {id(set1)}\")\n",
    "print(f\"Set2 :: {set2}  ID: {id(set2)}\")"
   ]
  },
  {
   "cell_type": "code",
   "execution_count": 81,
   "id": "808d4cbd",
   "metadata": {},
   "outputs": [
    {
     "name": "stdout",
     "output_type": "stream",
     "text": [
      "Set1 :: {1, 2, 3, 4, 5, 100}  ID: 1910344681056\n",
      "Set2 :: {1, 2, 3, 4, 5}  ID: 1910342091040\n"
     ]
    }
   ],
   "source": [
    "set1.add(100)\n",
    "\n",
    "print(f\"Set1 :: {set1}  ID: {id(set1)}\")\n",
    "print(f\"Set2 :: {set2}  ID: {id(set2)}\")"
   ]
  },
  {
   "cell_type": "code",
   "execution_count": 82,
   "id": "07865ffe",
   "metadata": {},
   "outputs": [
    {
     "ename": "TypeError",
     "evalue": "unhashable type: 'list'",
     "output_type": "error",
     "traceback": [
      "\u001b[1;31m---------------------------------------------------------------------------\u001b[0m",
      "\u001b[1;31mTypeError\u001b[0m                                 Traceback (most recent call last)",
      "Input \u001b[1;32mIn [82]\u001b[0m, in \u001b[0;36m<cell line: 1>\u001b[1;34m()\u001b[0m\n\u001b[1;32m----> 1\u001b[0m set1 \u001b[38;5;241m=\u001b[39m {\u001b[38;5;241m1\u001b[39m,\u001b[38;5;241m2\u001b[39m,\u001b[38;5;241m3\u001b[39m,\u001b[38;5;241m4\u001b[39m,[\u001b[38;5;241m1\u001b[39m,\u001b[38;5;241m2\u001b[39m,\u001b[38;5;241m3\u001b[39m]}\n\u001b[0;32m      2\u001b[0m \u001b[38;5;28mprint\u001b[39m(set1)\n",
      "\u001b[1;31mTypeError\u001b[0m: unhashable type: 'list'"
     ]
    }
   ],
   "source": [
    "set1 = {1,2,3,4,[1,2,3]}\n",
    "print(set1)"
   ]
  },
  {
   "cell_type": "markdown",
   "id": "e140c39c",
   "metadata": {},
   "source": [
    "### Accessing Elements form set"
   ]
  },
  {
   "cell_type": "code",
   "execution_count": 84,
   "id": "b09bfaf8",
   "metadata": {},
   "outputs": [
    {
     "data": {
      "text/plain": [
       "[1, 2, 3, 33, 4, 5, 6, 66, 7, 8, 9, 44]"
      ]
     },
     "execution_count": 84,
     "metadata": {},
     "output_type": "execute_result"
    }
   ],
   "source": [
    "list1 = [1,2,33,33,44,2,3,4,5,6,66,6,7,8,4,5,6,7,8,9,3,4,5]\n",
    "\n",
    "set1 = set(list1)\n",
    "\n",
    "list(set1)"
   ]
  },
  {
   "cell_type": "code",
   "execution_count": 90,
   "id": "b7a964a5",
   "metadata": {},
   "outputs": [
    {
     "name": "stdout",
     "output_type": "stream",
     "text": [
      "0 1 2 3 4 5 6 7 8 9 \n",
      "0 1 2 3 4 5 6 7 8 \n",
      "0 1 2 3 4 5 6 7 \n",
      "0 1 2 3 4 5 6 \n",
      "0 1 2 3 4 5 \n",
      "0 1 2 3 4 \n",
      "0 1 2 3 \n",
      "0 1 2 \n",
      "0 1 \n",
      "0 \n"
     ]
    }
   ],
   "source": [
    "i = 10\n",
    "j = 10\n",
    "\n",
    "for i in range(10):\n",
    "    for j in range(j):\n",
    "        print(j,end = \" \")\n",
    "    print()"
   ]
  },
  {
   "cell_type": "code",
   "execution_count": null,
   "id": "e3712720",
   "metadata": {},
   "outputs": [],
   "source": [
    "## i = 0   >> ## j = 10 >> 0,1,2,3,4,5,6,7,8,9 >> j = 9\n",
    "## i = 1   >> ## j = 9 >> 0,1,2,3,4,5,6,7,8    >> j = 8\n",
    "## i = 2   >> ## j = 8 >> 0,1,2,3,4,5,6,7      >> j = 7"
   ]
  }
 ],
 "metadata": {
  "kernelspec": {
   "display_name": "Python 3 (ipykernel)",
   "language": "python",
   "name": "python3"
  },
  "language_info": {
   "codemirror_mode": {
    "name": "ipython",
    "version": 3
   },
   "file_extension": ".py",
   "mimetype": "text/x-python",
   "name": "python",
   "nbconvert_exporter": "python",
   "pygments_lexer": "ipython3",
   "version": "3.10.5"
  }
 },
 "nbformat": 4,
 "nbformat_minor": 5
}
