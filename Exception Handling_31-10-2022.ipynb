{
 "cells": [
  {
   "cell_type": "markdown",
   "id": "4b3555ba",
   "metadata": {},
   "source": [
    "# Exception Handling"
   ]
  },
  {
   "cell_type": "code",
   "execution_count": null,
   "id": "e7077da8",
   "metadata": {},
   "outputs": [],
   "source": [
    "try:\n",
    "    piece of code / block of code\n",
    "    \n",
    "except:\n",
    "    \n",
    "    handle the error"
   ]
  },
  {
   "cell_type": "raw",
   "id": "ddcd08fb",
   "metadata": {},
   "source": [
    "SyntaxError\n",
    "AttributeError\n",
    "NameError\n",
    "KeyError\n",
    "IndentationError\n",
    "ImportError\n",
    "ZeroDivisionError\n",
    "ValueError\n",
    "FileExistError\n",
    "FileNotFoundError\n",
    "IndexError"
   ]
  },
  {
   "cell_type": "code",
   "execution_count": null,
   "id": "8a485d4f",
   "metadata": {},
   "outputs": [],
   "source": [
    "Except block is used for hadling the error in try block\n",
    "Except block is also used for logging the errors"
   ]
  },
  {
   "cell_type": "code",
   "execution_count": 2,
   "id": "9cff0d94",
   "metadata": {},
   "outputs": [
    {
     "ename": "IndentationError",
     "evalue": "unexpected indent (3046611662.py, line 2)",
     "output_type": "error",
     "traceback": [
      "\u001b[1;36m  Input \u001b[1;32mIn [2]\u001b[1;36m\u001b[0m\n\u001b[1;33m    print(\"Hi There!\")\u001b[0m\n\u001b[1;37m    ^\u001b[0m\n\u001b[1;31mIndentationError\u001b[0m\u001b[1;31m:\u001b[0m unexpected indent\n"
     ]
    }
   ],
   "source": [
    "print(\"Hello World!\")\n",
    "    print(\"Hi There!\")"
   ]
  },
  {
   "cell_type": "code",
   "execution_count": 3,
   "id": "ade3b5c6",
   "metadata": {},
   "outputs": [
    {
     "ename": "ZeroDivisionError",
     "evalue": "division by zero",
     "output_type": "error",
     "traceback": [
      "\u001b[1;31m---------------------------------------------------------------------------\u001b[0m",
      "\u001b[1;31mZeroDivisionError\u001b[0m                         Traceback (most recent call last)",
      "Input \u001b[1;32mIn [3]\u001b[0m, in \u001b[0;36m<cell line: 1>\u001b[1;34m()\u001b[0m\n\u001b[1;32m----> 1\u001b[0m \u001b[38;5;241;43m26\u001b[39;49m\u001b[38;5;241;43m/\u001b[39;49m\u001b[38;5;241;43m0\u001b[39;49m\n",
      "\u001b[1;31mZeroDivisionError\u001b[0m: division by zero"
     ]
    }
   ],
   "source": [
    "26/0"
   ]
  },
  {
   "cell_type": "code",
   "execution_count": 4,
   "id": "8c77f644",
   "metadata": {},
   "outputs": [
    {
     "ename": "IndexError",
     "evalue": "list index out of range",
     "output_type": "error",
     "traceback": [
      "\u001b[1;31m---------------------------------------------------------------------------\u001b[0m",
      "\u001b[1;31mIndexError\u001b[0m                                Traceback (most recent call last)",
      "Input \u001b[1;32mIn [4]\u001b[0m, in \u001b[0;36m<cell line: 2>\u001b[1;34m()\u001b[0m\n\u001b[0;32m      1\u001b[0m list1 \u001b[38;5;241m=\u001b[39m [\u001b[38;5;241m1\u001b[39m,\u001b[38;5;241m2\u001b[39m,\u001b[38;5;241m3\u001b[39m,\u001b[38;5;241m4\u001b[39m]\n\u001b[1;32m----> 2\u001b[0m \u001b[43mlist1\u001b[49m\u001b[43m[\u001b[49m\u001b[38;5;241;43m5\u001b[39;49m\u001b[43m]\u001b[49m\n",
      "\u001b[1;31mIndexError\u001b[0m: list index out of range"
     ]
    }
   ],
   "source": [
    "list1 = [1,2,3,4]\n",
    "list1[5]"
   ]
  },
  {
   "cell_type": "code",
   "execution_count": null,
   "id": "b6de8ebe",
   "metadata": {},
   "outputs": [],
   "source": [
    "100 lines of code\n",
    "there is an error at 27th line, this error can be handled by using try and except block"
   ]
  },
  {
   "cell_type": "code",
   "execution_count": 5,
   "id": "8e1cbb7d",
   "metadata": {},
   "outputs": [
    {
     "name": "stdout",
     "output_type": "stream",
     "text": [
      "There are 100 lines of code before this!\n"
     ]
    },
    {
     "ename": "IndexError",
     "evalue": "list index out of range",
     "output_type": "error",
     "traceback": [
      "\u001b[1;31m---------------------------------------------------------------------------\u001b[0m",
      "\u001b[1;31mIndexError\u001b[0m                                Traceback (most recent call last)",
      "Input \u001b[1;32mIn [5]\u001b[0m, in \u001b[0;36m<cell line: 3>\u001b[1;34m()\u001b[0m\n\u001b[0;32m      1\u001b[0m \u001b[38;5;28mprint\u001b[39m(\u001b[38;5;124m\"\u001b[39m\u001b[38;5;124mThere are 100 lines of code before this!\u001b[39m\u001b[38;5;124m\"\u001b[39m)\n\u001b[0;32m      2\u001b[0m list1 \u001b[38;5;241m=\u001b[39m [\u001b[38;5;241m1\u001b[39m,\u001b[38;5;241m2\u001b[39m,\u001b[38;5;241m3\u001b[39m,\u001b[38;5;241m4\u001b[39m]\n\u001b[1;32m----> 3\u001b[0m \u001b[38;5;28mprint\u001b[39m(\u001b[43mlist1\u001b[49m\u001b[43m[\u001b[49m\u001b[38;5;241;43m5\u001b[39;49m\u001b[43m]\u001b[49m)\n\u001b[0;32m      4\u001b[0m \u001b[38;5;28mprint\u001b[39m(\u001b[38;5;124m\"\u001b[39m\u001b[38;5;124mExecution of code continues!\u001b[39m\u001b[38;5;124m\"\u001b[39m)\n",
      "\u001b[1;31mIndexError\u001b[0m: list index out of range"
     ]
    }
   ],
   "source": [
    "print(\"There are 100 lines of code before this!\")\n",
    "list1 = [1,2,3,4]\n",
    "print(list1[5])\n",
    "print(\"Execution of code continues!\")"
   ]
  },
  {
   "cell_type": "code",
   "execution_count": 6,
   "id": "8f75a90a",
   "metadata": {},
   "outputs": [
    {
     "name": "stdout",
     "output_type": "stream",
     "text": [
      "There are 100 lines of code before this!\n",
      "Daya Kuch to gadbad hai!?\n",
      "Execution of code continues!\n"
     ]
    }
   ],
   "source": [
    "print(\"There are 100 lines of code before this!\")\n",
    "try:\n",
    "    list1 = [1,2,3,4]\n",
    "    print(list1[5])\n",
    "\n",
    "except:\n",
    "    print(\"Daya Kuch to gadbad hai!?\")\n",
    "    \n",
    "print(\"Execution of code continues!\")"
   ]
  },
  {
   "cell_type": "code",
   "execution_count": 7,
   "id": "d061793f",
   "metadata": {},
   "outputs": [
    {
     "ename": "AttributeError",
     "evalue": "'tuple' object has no attribute 'append'",
     "output_type": "error",
     "traceback": [
      "\u001b[1;31m---------------------------------------------------------------------------\u001b[0m",
      "\u001b[1;31mAttributeError\u001b[0m                            Traceback (most recent call last)",
      "Input \u001b[1;32mIn [7]\u001b[0m, in \u001b[0;36m<cell line: 2>\u001b[1;34m()\u001b[0m\n\u001b[0;32m      1\u001b[0m tuple1 \u001b[38;5;241m=\u001b[39m (\u001b[38;5;241m1\u001b[39m,\u001b[38;5;241m2\u001b[39m,\u001b[38;5;241m3\u001b[39m,\u001b[38;5;241m4\u001b[39m,\u001b[38;5;241m5\u001b[39m)\n\u001b[1;32m----> 2\u001b[0m \u001b[43mtuple1\u001b[49m\u001b[38;5;241;43m.\u001b[39;49m\u001b[43mappend\u001b[49m(\u001b[38;5;241m20\u001b[39m)\n",
      "\u001b[1;31mAttributeError\u001b[0m: 'tuple' object has no attribute 'append'"
     ]
    }
   ],
   "source": [
    "tuple1 = (1,2,3,4,5)\n",
    "tuple1.append(20)"
   ]
  },
  {
   "cell_type": "code",
   "execution_count": 8,
   "id": "39b88fca",
   "metadata": {},
   "outputs": [
    {
     "name": "stdout",
     "output_type": "stream",
     "text": [
      "Trying to execute appending to tuple!\n",
      "Tuple defined!\n",
      "Bhai sahab tuple ko aap append nahi kar sakate!\n"
     ]
    }
   ],
   "source": [
    "try:\n",
    "    print(\"Trying to execute appending to tuple!\")\n",
    "    tuple1 = (1,2,3,4,5)\n",
    "    print(\"Tuple defined!\")\n",
    "    tuple1.append(20)\n",
    "except:\n",
    "    print(\"Bhai sahab tuple ko aap append nahi kar sakate!\")"
   ]
  },
  {
   "cell_type": "code",
   "execution_count": 9,
   "id": "fa7441ca",
   "metadata": {},
   "outputs": [
    {
     "name": "stdout",
     "output_type": "stream",
     "text": [
      "Trying to execute appending to tuple!\n",
      "Tuple defined!\n",
      "Bhai sahab tuple ko aap append nahi kar sakate!\n",
      "Converting tuple to list!\n",
      "Converting list to tuple!\n",
      "(1, 2, 3, 4, 5, 20)\n",
      "Execution Done!\n"
     ]
    }
   ],
   "source": [
    "try:\n",
    "    print(\"Trying to execute appending to tuple!\")\n",
    "    tuple1 = (1,2,3,4,5)\n",
    "    print(\"Tuple defined!\")\n",
    "    tuple1.append(20)\n",
    "except:\n",
    "    print(\"Bhai sahab tuple ko aap append nahi kar sakate!\")\n",
    "    print(\"Converting tuple to list!\")\n",
    "    list1 = list(tuple1)\n",
    "    list1.append(20)\n",
    "    print(\"Converting list to tuple!\")\n",
    "    tuple1 = tuple(list1)\n",
    "    print(tuple1)\n",
    "    print(\"Execution Done!\")"
   ]
  },
  {
   "cell_type": "code",
   "execution_count": 10,
   "id": "3935609f",
   "metadata": {},
   "outputs": [
    {
     "name": "stdout",
     "output_type": "stream",
     "text": [
      "This is a try block!\n"
     ]
    }
   ],
   "source": [
    "### If the try block is executed it wont go to except block!\n",
    "\n",
    "try:\n",
    "    print(\"This is a try block!\")\n",
    "except:\n",
    "    print(\"This is a except block!\")"
   ]
  },
  {
   "cell_type": "code",
   "execution_count": 16,
   "id": "3284d606",
   "metadata": {},
   "outputs": [
    {
     "name": "stdout",
     "output_type": "stream",
     "text": [
      "This is a try block!\n",
      "This is a except block!\n"
     ]
    }
   ],
   "source": [
    "try:\n",
    "    print(\"This is a try block!\")\n",
    "    print(This)\n",
    "except:\n",
    "    print(\"This is a except block!\")"
   ]
  },
  {
   "cell_type": "code",
   "execution_count": 17,
   "id": "f033e601",
   "metadata": {},
   "outputs": [
    {
     "ename": "IndentationError",
     "evalue": "unexpected indent (3518688333.py, line 3)",
     "output_type": "error",
     "traceback": [
      "\u001b[1;36m  Input \u001b[1;32mIn [17]\u001b[1;36m\u001b[0m\n\u001b[1;33m    print(\"Intentional Indent\")\u001b[0m\n\u001b[1;37m    ^\u001b[0m\n\u001b[1;31mIndentationError\u001b[0m\u001b[1;31m:\u001b[0m unexpected indent\n"
     ]
    }
   ],
   "source": [
    "try:\n",
    "    print(\"This is a try block!\")\n",
    "        print(\"Intentional Indent\")\n",
    "except:\n",
    "    print(\"This is a except block!\") # Indentation Error is not handled by Try and Except block"
   ]
  },
  {
   "cell_type": "code",
   "execution_count": 18,
   "id": "d6f07d0d",
   "metadata": {},
   "outputs": [
    {
     "name": "stdout",
     "output_type": "stream",
     "text": [
      "1 4 9 16 25 "
     ]
    },
    {
     "ename": "TypeError",
     "evalue": "unsupported operand type(s) for ** or pow(): 'str' and 'int'",
     "output_type": "error",
     "traceback": [
      "\u001b[1;31m---------------------------------------------------------------------------\u001b[0m",
      "\u001b[1;31mTypeError\u001b[0m                                 Traceback (most recent call last)",
      "Input \u001b[1;32mIn [18]\u001b[0m, in \u001b[0;36m<cell line: 3>\u001b[1;34m()\u001b[0m\n\u001b[0;32m      1\u001b[0m list1 \u001b[38;5;241m=\u001b[39m [\u001b[38;5;241m1\u001b[39m,\u001b[38;5;241m2\u001b[39m,\u001b[38;5;241m3\u001b[39m,\u001b[38;5;241m4\u001b[39m,\u001b[38;5;241m5\u001b[39m,\u001b[38;5;124m\"\u001b[39m\u001b[38;5;124m6\u001b[39m\u001b[38;5;124m\"\u001b[39m,\u001b[38;5;241m7\u001b[39m,\u001b[38;5;241m8\u001b[39m,\u001b[38;5;241m9\u001b[39m]\n\u001b[0;32m      3\u001b[0m \u001b[38;5;28;01mfor\u001b[39;00m i \u001b[38;5;129;01min\u001b[39;00m list1:\n\u001b[1;32m----> 4\u001b[0m     \u001b[38;5;28mprint\u001b[39m(\u001b[43mi\u001b[49m\u001b[38;5;241;43m*\u001b[39;49m\u001b[38;5;241;43m*\u001b[39;49m\u001b[38;5;241;43m2\u001b[39;49m, end \u001b[38;5;241m=\u001b[39m \u001b[38;5;124m\"\u001b[39m\u001b[38;5;124m \u001b[39m\u001b[38;5;124m\"\u001b[39m)\n",
      "\u001b[1;31mTypeError\u001b[0m: unsupported operand type(s) for ** or pow(): 'str' and 'int'"
     ]
    }
   ],
   "source": [
    "list1 = [1,2,3,4,5,\"6\",7,8,9]\n",
    "\n",
    "for i in list1:\n",
    "    print(i**2, end = \" \")"
   ]
  },
  {
   "cell_type": "code",
   "execution_count": 22,
   "id": "d3f4ff2a",
   "metadata": {},
   "outputs": [
    {
     "name": "stdout",
     "output_type": "stream",
     "text": [
      "1 4 9 16 25 49 64 81 "
     ]
    }
   ],
   "source": [
    "for i in list1:\n",
    "    try:\n",
    "        print(i**2, end = \" \")\n",
    "    except:\n",
    "        continue"
   ]
  },
  {
   "cell_type": "code",
   "execution_count": null,
   "id": "8f9b3f8f",
   "metadata": {},
   "outputs": [],
   "source": [
    "[1,2,3,4]\n",
    "[5,6,7,8]"
   ]
  },
  {
   "cell_type": "code",
   "execution_count": null,
   "id": "e36a368f",
   "metadata": {},
   "outputs": [],
   "source": [
    "(1,5),(1,6),(1,7),(1,8)\n"
   ]
  },
  {
   "cell_type": "code",
   "execution_count": null,
   "id": "932fe1db",
   "metadata": {},
   "outputs": [],
   "source": [
    "{\"time\":time.time(),\n",
    "\"index\":12323,\n",
    "\"error\":}"
   ]
  },
  {
   "cell_type": "code",
   "execution_count": null,
   "id": "1ad457f3",
   "metadata": {},
   "outputs": [],
   "source": []
  }
 ],
 "metadata": {
  "kernelspec": {
   "display_name": "Python 3 (ipykernel)",
   "language": "python",
   "name": "python3"
  },
  "language_info": {
   "codemirror_mode": {
    "name": "ipython",
    "version": 3
   },
   "file_extension": ".py",
   "mimetype": "text/x-python",
   "name": "python",
   "nbconvert_exporter": "python",
   "pygments_lexer": "ipython3",
   "version": "3.10.5"
  }
 },
 "nbformat": 4,
 "nbformat_minor": 5
}
