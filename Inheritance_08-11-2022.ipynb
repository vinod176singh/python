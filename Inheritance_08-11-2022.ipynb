{
 "cells": [
  {
   "cell_type": "code",
   "execution_count": null,
   "id": "c0c95813",
   "metadata": {},
   "outputs": [],
   "source": [
    "1. Single Inheritance\n",
    "2. Multilevel Inheritance"
   ]
  },
  {
   "cell_type": "markdown",
   "id": "0ce37b2f",
   "metadata": {},
   "source": [
    "## Multiple Inheritance"
   ]
  },
  {
   "cell_type": "markdown",
   "id": "7e3844bc",
   "metadata": {},
   "source": [
    "If a certain class is getting it's attributes and methods inherited from two or more classes, is called as multiple inheritance"
   ]
  },
  {
   "cell_type": "code",
   "execution_count": 1,
   "id": "46d583c7",
   "metadata": {},
   "outputs": [],
   "source": [
    "class Father():\n",
    "    def Driving(self):\n",
    "        print(\"Loves to drive\")\n",
    "\n",
    "class Mother():\n",
    "    def Cooking(self):\n",
    "        print(\"Loves to cook!\")\n",
    "        \n",
    "class Child(Father,Mother):\n",
    "    def Playing(self):\n",
    "        print(\"Loves to play video games!\")"
   ]
  },
  {
   "cell_type": "code",
   "execution_count": 2,
   "id": "98bcc9c5",
   "metadata": {},
   "outputs": [
    {
     "name": "stdout",
     "output_type": "stream",
     "text": [
      "Loves to drive\n",
      "Loves to cook!\n",
      "Loves to play video games!\n"
     ]
    }
   ],
   "source": [
    "kid1 = Child()\n",
    "kid1.Driving()\n",
    "kid1.Cooking()\n",
    "kid1.Playing()"
   ]
  },
  {
   "cell_type": "code",
   "execution_count": 3,
   "id": "aa7588a1",
   "metadata": {},
   "outputs": [],
   "source": [
    "class Computer():\n",
    "    def __init__(self,cpu,ram,graphics):\n",
    "        self.cpu = cpu\n",
    "        self.ram = ram\n",
    "        self.graphics = graphics\n",
    "    \n",
    "    def show_computer_config(self):\n",
    "        print(\"CPU : \",self.cpu)\n",
    "        print(\"RAM : \",self.ram)\n",
    "        print(\"GRAPHICS : \", self.graphics)"
   ]
  },
  {
   "cell_type": "code",
   "execution_count": 4,
   "id": "ab0b19d3",
   "metadata": {},
   "outputs": [],
   "source": [
    "class Mobile():\n",
    "    def __init__(self,screen_size,display_type,touch_type,os):\n",
    "        self.screen_size = screen_size\n",
    "        self.display_type = display_type\n",
    "        self.touch_type = touch_type\n",
    "        self.os = os\n",
    "    \n",
    "    def show_mobility_details(self):\n",
    "        print(\"Screen Size : \", self.screen_size)\n",
    "        print(\"Display Type : \", self.display_type)\n",
    "        print(\"Touch Type : \", self.touch_type)\n",
    "        print(\"OS : \", self.os)"
   ]
  },
  {
   "cell_type": "code",
   "execution_count": 15,
   "id": "5ac0ded5",
   "metadata": {},
   "outputs": [],
   "source": [
    "class Tablet(Computer,Mobile):\n",
    "    def __init__(self,cpu,ram,graphics,screen_size,display_type,touch_type,os, battery, pencil_support):\n",
    "        Computer.__init__(self,cpu,ram,graphics)\n",
    "        Mobile.__init__(self,screen_size,display_type,touch_type,os)\n",
    "        self.battery = battery\n",
    "        self.pencil_support = pencil_support\n",
    "        \n",
    "    def show_tab_details(self):\n",
    "#         print(\"CPU : \",self.cpu)\n",
    "#         print(\"RAM : \",self.ram)\n",
    "#         print(\"GRAPHICS : \", self.graphics)\n",
    "        self.show_computer_config()\n",
    "        print()\n",
    "#         print(\"Screen Size : \", self.screen_size)\n",
    "#         print(\"Display Type : \", self.display_type)\n",
    "#         print(\"Touch Type : \", self.touch_type)\n",
    "#         print(\"OS : \", self.os)\n",
    "        self.show_mobility_details()\n",
    "        print()\n",
    "        print(\"Battery : \", self.battery)\n",
    "        print(\"Pencil Support : \", self.pencil_support)\n",
    "    "
   ]
  },
  {
   "cell_type": "code",
   "execution_count": 16,
   "id": "43eed045",
   "metadata": {},
   "outputs": [],
   "source": [
    "ipad = Tablet(\"M1\",\"8GB\",\"Inbuit\",\"11 Inch\",\"Retina LED\",\"Capacitive\",\"iOS 16\", \"8000 mAh\", \"2nd Gen\")"
   ]
  },
  {
   "cell_type": "code",
   "execution_count": 17,
   "id": "b7c11902",
   "metadata": {},
   "outputs": [
    {
     "name": "stdout",
     "output_type": "stream",
     "text": [
      "CPU :  M1\n",
      "RAM :  8GB\n",
      "GRAPHICS :  Inbuit\n"
     ]
    }
   ],
   "source": [
    "ipad.show_computer_config()"
   ]
  },
  {
   "cell_type": "code",
   "execution_count": 18,
   "id": "76c38129",
   "metadata": {},
   "outputs": [
    {
     "name": "stdout",
     "output_type": "stream",
     "text": [
      "Screen Size :  11 Inch\n",
      "Display Type :  Retina LED\n",
      "Touch Type :  Capacitive\n",
      "OS :  iOS 16\n"
     ]
    }
   ],
   "source": [
    "ipad.show_mobility_details()"
   ]
  },
  {
   "cell_type": "code",
   "execution_count": 19,
   "id": "0c09c9e6",
   "metadata": {},
   "outputs": [
    {
     "name": "stdout",
     "output_type": "stream",
     "text": [
      "CPU :  M1\n",
      "RAM :  8GB\n",
      "GRAPHICS :  Inbuit\n",
      "\n",
      "Screen Size :  11 Inch\n",
      "Display Type :  Retina LED\n",
      "Touch Type :  Capacitive\n",
      "OS :  iOS 16\n",
      "\n",
      "Battery :  8000 mAh\n",
      "Pencil Support :  2nd Gen\n"
     ]
    }
   ],
   "source": [
    "ipad.show_tab_details()"
   ]
  },
  {
   "cell_type": "markdown",
   "id": "fbfbaa0f",
   "metadata": {},
   "source": [
    "## Hirarchial Inheritance"
   ]
  },
  {
   "cell_type": "code",
   "execution_count": null,
   "id": "c63cc4a9",
   "metadata": {},
   "outputs": [],
   "source": [
    "## Multi Level Inheritance\n",
    "class GrandParent():\n",
    "    pass\n",
    "\n",
    "class Father(GrandParent):\n",
    "    pass\n",
    "\n",
    "class Child(Father):\n",
    "    pass"
   ]
  },
  {
   "cell_type": "code",
   "execution_count": null,
   "id": "7dd8ceb4",
   "metadata": {},
   "outputs": [],
   "source": [
    "class Parent():\n",
    "    pass\n",
    "\n",
    "class Child1(Parent):\n",
    "    pass\n",
    "\n",
    "class Child2(Parent):\n",
    "    pass"
   ]
  },
  {
   "cell_type": "code",
   "execution_count": 26,
   "id": "d3f095bd",
   "metadata": {},
   "outputs": [],
   "source": [
    "class BaseClass():\n",
    "    var1 = \"Python\"\n",
    "    def __init__(self,a,b):\n",
    "        self.a = a\n",
    "        self.b = b\n",
    "    \n",
    "    def display_variable(self):\n",
    "        print(\"Class Variable :\", var1)\n",
    "        print(\"Instance Variable a: \", self.a)\n",
    "        print(\"Instance Variable b: \", self.b)  "
   ]
  },
  {
   "cell_type": "code",
   "execution_count": 27,
   "id": "02901aa0",
   "metadata": {},
   "outputs": [],
   "source": [
    "instance_ = BaseClass(12,20)"
   ]
  },
  {
   "cell_type": "code",
   "execution_count": 28,
   "id": "35bdc39f",
   "metadata": {},
   "outputs": [
    {
     "ename": "NameError",
     "evalue": "name 'var1' is not defined",
     "output_type": "error",
     "traceback": [
      "\u001b[1;31m---------------------------------------------------------------------------\u001b[0m",
      "\u001b[1;31mNameError\u001b[0m                                 Traceback (most recent call last)",
      "Input \u001b[1;32mIn [28]\u001b[0m, in \u001b[0;36m<cell line: 1>\u001b[1;34m()\u001b[0m\n\u001b[1;32m----> 1\u001b[0m \u001b[43minstance_\u001b[49m\u001b[38;5;241;43m.\u001b[39;49m\u001b[43mdisplay_variable\u001b[49m\u001b[43m(\u001b[49m\u001b[43m)\u001b[49m\n",
      "Input \u001b[1;32mIn [26]\u001b[0m, in \u001b[0;36mBaseClass.display_variable\u001b[1;34m(self)\u001b[0m\n\u001b[0;32m      7\u001b[0m \u001b[38;5;28;01mdef\u001b[39;00m \u001b[38;5;21mdisplay_variable\u001b[39m(\u001b[38;5;28mself\u001b[39m):\n\u001b[1;32m----> 8\u001b[0m     \u001b[38;5;28mprint\u001b[39m(\u001b[38;5;124m\"\u001b[39m\u001b[38;5;124mClass Variable :\u001b[39m\u001b[38;5;124m\"\u001b[39m, \u001b[43mvar1\u001b[49m)\n\u001b[0;32m      9\u001b[0m     \u001b[38;5;28mprint\u001b[39m(\u001b[38;5;124m\"\u001b[39m\u001b[38;5;124mInstance Variable a: \u001b[39m\u001b[38;5;124m\"\u001b[39m, \u001b[38;5;28mself\u001b[39m\u001b[38;5;241m.\u001b[39ma)\n\u001b[0;32m     10\u001b[0m     \u001b[38;5;28mprint\u001b[39m(\u001b[38;5;124m\"\u001b[39m\u001b[38;5;124mInstance Variable b: \u001b[39m\u001b[38;5;124m\"\u001b[39m, \u001b[38;5;28mself\u001b[39m\u001b[38;5;241m.\u001b[39mb)\n",
      "\u001b[1;31mNameError\u001b[0m: name 'var1' is not defined"
     ]
    }
   ],
   "source": [
    "instance_.display_variable()"
   ]
  },
  {
   "cell_type": "code",
   "execution_count": 29,
   "id": "1a2574af",
   "metadata": {},
   "outputs": [],
   "source": [
    "class BaseClass():\n",
    "    var1 = \"Python\"\n",
    "    def __init__(self,a,b):\n",
    "        self.a = a\n",
    "        self.b = b\n",
    "    \n",
    "    def display_variable(self):\n",
    "        print(\"Class Variable :\", self.var1)   # <<<<<<< Self keyword has been introduced\n",
    "        print(\"Instance Variable a: \", self.a)\n",
    "        print(\"Instance Variable b: \", self.b) "
   ]
  },
  {
   "cell_type": "code",
   "execution_count": 30,
   "id": "9730b215",
   "metadata": {},
   "outputs": [
    {
     "name": "stdout",
     "output_type": "stream",
     "text": [
      "Class Variable : Python\n",
      "Instance Variable a:  12\n",
      "Instance Variable b:  20\n"
     ]
    }
   ],
   "source": [
    "instance_ = BaseClass(12,20)\n",
    "instance_.display_variable()"
   ]
  },
  {
   "cell_type": "code",
   "execution_count": 51,
   "id": "9a64a07c",
   "metadata": {},
   "outputs": [],
   "source": [
    "class Derived1(BaseClass):\n",
    "    var2 = \"Machine Learning\"\n",
    "    def __init__(self,a, b, c):\n",
    "        super().__init__(a,b)\n",
    "        self.c = c\n",
    "        \n",
    "    def display_all_variable_1(self):\n",
    "        print(\"Class Variable : \", self.var2)\n",
    "        print(\"Base Class Varibale : \", self.var1)\n",
    "        print(\"a : \",self.a)\n",
    "        print(\"b : \",self.b)\n",
    "        print(\"c : \", self.c)"
   ]
  },
  {
   "cell_type": "code",
   "execution_count": 52,
   "id": "9d703a53",
   "metadata": {},
   "outputs": [],
   "source": [
    "d1 = Derived1(20,12,13)"
   ]
  },
  {
   "cell_type": "code",
   "execution_count": 53,
   "id": "4fe68d0b",
   "metadata": {},
   "outputs": [
    {
     "name": "stdout",
     "output_type": "stream",
     "text": [
      "Class Variable :  Machine Learning\n",
      "Base Class Varibale :  Python\n",
      "a :  20\n",
      "b :  12\n",
      "c :  13\n"
     ]
    }
   ],
   "source": [
    "d1.display_all_variable_1()"
   ]
  },
  {
   "cell_type": "code",
   "execution_count": 55,
   "id": "5d0f049f",
   "metadata": {},
   "outputs": [
    {
     "name": "stdout",
     "output_type": "stream",
     "text": [
      "Class Variable : Python\n",
      "Instance Variable a:  20\n",
      "Instance Variable b:  12\n"
     ]
    }
   ],
   "source": [
    "d1.display_variable()"
   ]
  },
  {
   "cell_type": "code",
   "execution_count": 59,
   "id": "86497f86",
   "metadata": {},
   "outputs": [],
   "source": [
    "class Derived2(BaseClass):\n",
    "    var3 = \"Data Science\"\n",
    "    def __init__(self,a, b, d):\n",
    "        super().__init__(a,b)\n",
    "        self.d = d\n",
    "        \n",
    "    def display_all_variable_2(self):\n",
    "        print(\"Class Variable : \", self.var3)\n",
    "        print(\"Base Class Varibale : \", self.var1)\n",
    "        print(\"a : \",self.a)\n",
    "        print(\"b : \",self.b)\n",
    "        print(\"d : \", self.d)"
   ]
  },
  {
   "cell_type": "code",
   "execution_count": 60,
   "id": "ba040038",
   "metadata": {},
   "outputs": [],
   "source": [
    "d2 = Derived2(12,13,22)"
   ]
  },
  {
   "cell_type": "code",
   "execution_count": 61,
   "id": "b40ce368",
   "metadata": {},
   "outputs": [
    {
     "name": "stdout",
     "output_type": "stream",
     "text": [
      "Class Variable :  Data Science\n",
      "Base Class Varibale :  Python\n",
      "a :  12\n",
      "b :  13\n",
      "d :  22\n"
     ]
    }
   ],
   "source": [
    "d2.display_all_variable_2()"
   ]
  },
  {
   "cell_type": "markdown",
   "id": "3134ff51",
   "metadata": {},
   "source": [
    "## Hybrid Inheritance"
   ]
  },
  {
   "cell_type": "code",
   "execution_count": null,
   "id": "63e752ae",
   "metadata": {},
   "outputs": [],
   "source": [
    "class ClassA():\n",
    "    pass\n",
    "\n",
    "class ClassB(ClassA):\n",
    "    pass\n",
    "\n",
    "class ClassC(ClassA):\n",
    "    pass\n",
    "\n",
    "class ClassD(ClassB, ClassC):\n",
    "    pass"
   ]
  }
 ],
 "metadata": {
  "kernelspec": {
   "display_name": "Python 3 (ipykernel)",
   "language": "python",
   "name": "python3"
  },
  "language_info": {
   "codemirror_mode": {
    "name": "ipython",
    "version": 3
   },
   "file_extension": ".py",
   "mimetype": "text/x-python",
   "name": "python",
   "nbconvert_exporter": "python",
   "pygments_lexer": "ipython3",
   "version": "3.10.5"
  }
 },
 "nbformat": 4,
 "nbformat_minor": 5
}
