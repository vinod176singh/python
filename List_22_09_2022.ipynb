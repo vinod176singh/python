{
 "cells": [
  {
   "cell_type": "markdown",
   "id": "d51cfd53",
   "metadata": {},
   "source": [
    "# List"
   ]
  },
  {
   "cell_type": "code",
   "execution_count": null,
   "id": "bad8cb93",
   "metadata": {},
   "outputs": [],
   "source": [
    "1. Mutable\n",
    "2. It is an ordered datatype\n",
    "3. Duplicates are allowed\n",
    "4. Lists are enclosed [ ]\n",
    "5. The items in the list are comma seperated"
   ]
  },
  {
   "cell_type": "markdown",
   "id": "4742df6b",
   "metadata": {},
   "source": [
    "# List Indexing"
   ]
  },
  {
   "cell_type": "code",
   "execution_count": 1,
   "id": "18ab026b",
   "metadata": {},
   "outputs": [],
   "source": [
    "list1 = [1,2,3,22,13,42,12,454,32]"
   ]
  },
  {
   "cell_type": "code",
   "execution_count": null,
   "id": "b8e35f01",
   "metadata": {},
   "outputs": [],
   "source": [
    "list1 =  [1,  2,  3,  22,  13,  42,  12,  454,  32]\n",
    "index >>  0   1   2    3    4    5    6    7     8    >> Posetive index\n",
    "index >> -9  -8  -7   -6   -5   -4   -3   -2    -1    >> Negative index"
   ]
  },
  {
   "cell_type": "code",
   "execution_count": 2,
   "id": "9962ab1e",
   "metadata": {},
   "outputs": [
    {
     "data": {
      "text/plain": [
       "1"
      ]
     },
     "execution_count": 2,
     "metadata": {},
     "output_type": "execute_result"
    }
   ],
   "source": [
    "list1[0]"
   ]
  },
  {
   "cell_type": "code",
   "execution_count": 3,
   "id": "c96ca4bd",
   "metadata": {},
   "outputs": [
    {
     "data": {
      "text/plain": [
       "12"
      ]
     },
     "execution_count": 3,
     "metadata": {},
     "output_type": "execute_result"
    }
   ],
   "source": [
    "list1[6]"
   ]
  },
  {
   "cell_type": "code",
   "execution_count": 4,
   "id": "a8e6190c",
   "metadata": {},
   "outputs": [
    {
     "data": {
      "text/plain": [
       "42"
      ]
     },
     "execution_count": 4,
     "metadata": {},
     "output_type": "execute_result"
    }
   ],
   "source": [
    "list1[-4]"
   ]
  },
  {
   "cell_type": "code",
   "execution_count": 5,
   "id": "0b8f230a",
   "metadata": {},
   "outputs": [
    {
     "data": {
      "text/plain": [
       "32"
      ]
     },
     "execution_count": 5,
     "metadata": {},
     "output_type": "execute_result"
    }
   ],
   "source": [
    "list1[-1]"
   ]
  },
  {
   "cell_type": "markdown",
   "id": "e5f02625",
   "metadata": {},
   "source": [
    "## Slicing of List"
   ]
  },
  {
   "cell_type": "code",
   "execution_count": null,
   "id": "44887a93",
   "metadata": {},
   "outputs": [],
   "source": [
    "Syntax >> [start_index : end_index : step_size]"
   ]
  },
  {
   "cell_type": "code",
   "execution_count": 6,
   "id": "08134d18",
   "metadata": {},
   "outputs": [],
   "source": [
    "list1 =  [1,  2,  3,  22,  13,  42,  12,  454,  32]"
   ]
  },
  {
   "cell_type": "code",
   "execution_count": null,
   "id": "48fe5b1d",
   "metadata": {},
   "outputs": [],
   "source": [
    "list1 =  [1,  2,  3,  22,  13,  42,  12,  454,  32]\n",
    "index >>  0   1   2    3    4    5    6    7     8    >> Posetive index\n",
    "index >> -9  -8  -7   -6   -5   -4   -3   -2    -1    >> Negative index"
   ]
  },
  {
   "cell_type": "code",
   "execution_count": 8,
   "id": "f24e6c22",
   "metadata": {},
   "outputs": [
    {
     "data": {
      "text/plain": [
       "[22, 13, 42, 12, 454, 32]"
      ]
     },
     "execution_count": 8,
     "metadata": {},
     "output_type": "execute_result"
    }
   ],
   "source": [
    "list1[3:]"
   ]
  },
  {
   "cell_type": "code",
   "execution_count": 9,
   "id": "7cdea95f",
   "metadata": {},
   "outputs": [
    {
     "data": {
      "text/plain": [
       "[1, 2, 3, 22, 13]"
      ]
     },
     "execution_count": 9,
     "metadata": {},
     "output_type": "execute_result"
    }
   ],
   "source": [
    "list1[:5]"
   ]
  },
  {
   "cell_type": "code",
   "execution_count": 10,
   "id": "eee4bdc8",
   "metadata": {},
   "outputs": [
    {
     "data": {
      "text/plain": [
       "[1, 2, 3, 22, 13, 42, 12, 454, 32]"
      ]
     },
     "execution_count": 10,
     "metadata": {},
     "output_type": "execute_result"
    }
   ],
   "source": [
    "list1[::]"
   ]
  },
  {
   "cell_type": "code",
   "execution_count": 11,
   "id": "5114db19",
   "metadata": {},
   "outputs": [
    {
     "data": {
      "text/plain": [
       "[3, 22, 13, 42, 12]"
      ]
     },
     "execution_count": 11,
     "metadata": {},
     "output_type": "execute_result"
    }
   ],
   "source": [
    "list1[2:7:1]"
   ]
  },
  {
   "cell_type": "code",
   "execution_count": 12,
   "id": "8405f07b",
   "metadata": {},
   "outputs": [
    {
     "data": {
      "text/plain": [
       "[3, 13, 12]"
      ]
     },
     "execution_count": 12,
     "metadata": {},
     "output_type": "execute_result"
    }
   ],
   "source": [
    "list1[2:7:2]"
   ]
  },
  {
   "cell_type": "markdown",
   "id": "727d8903",
   "metadata": {},
   "source": [
    "## Negative Step Size"
   ]
  },
  {
   "cell_type": "code",
   "execution_count": 13,
   "id": "15371ce7",
   "metadata": {},
   "outputs": [],
   "source": [
    "list1 =  [1,  2,  3,  22,  13,  42,  12,  454,  32]"
   ]
  },
  {
   "cell_type": "code",
   "execution_count": null,
   "id": "028ebb80",
   "metadata": {},
   "outputs": [],
   "source": [
    "list1 =  [1,  2,  3,  22,  13,  42,  12,  454,  32]\n",
    "index >>  0   1   2    3    4    5    6    7     8    >> Posetive index\n",
    "index >> -9  -8  -7   -6   -5   -4   -3   -2    -1    >> Negative index"
   ]
  },
  {
   "cell_type": "code",
   "execution_count": 14,
   "id": "3dd82a9c",
   "metadata": {},
   "outputs": [
    {
     "data": {
      "text/plain": [
       "[32, 454, 12, 42, 13, 22, 3, 2, 1]"
      ]
     },
     "execution_count": 14,
     "metadata": {},
     "output_type": "execute_result"
    }
   ],
   "source": [
    "list1[::-1]"
   ]
  },
  {
   "cell_type": "code",
   "execution_count": 15,
   "id": "50684309",
   "metadata": {},
   "outputs": [
    {
     "data": {
      "text/plain": [
       "[32, 454, 12, 42, 13, 22, 3, 2, 1]"
      ]
     },
     "execution_count": 15,
     "metadata": {},
     "output_type": "execute_result"
    }
   ],
   "source": [
    "list1[8:-10:-1]"
   ]
  },
  {
   "cell_type": "code",
   "execution_count": 16,
   "id": "f8a464b2",
   "metadata": {},
   "outputs": [
    {
     "data": {
      "text/plain": [
       "[12, 42, 13, 22]"
      ]
     },
     "execution_count": 16,
     "metadata": {},
     "output_type": "execute_result"
    }
   ],
   "source": [
    "list1[6:2:-1]"
   ]
  },
  {
   "cell_type": "code",
   "execution_count": 17,
   "id": "68a35d47",
   "metadata": {},
   "outputs": [
    {
     "data": {
      "text/plain": [
       "[]"
      ]
     },
     "execution_count": 17,
     "metadata": {},
     "output_type": "execute_result"
    }
   ],
   "source": [
    "list1[2:7:-1]  # We always need higher index in start position for negative step size (Descending Order)"
   ]
  },
  {
   "cell_type": "code",
   "execution_count": 18,
   "id": "750e44d1",
   "metadata": {},
   "outputs": [
    {
     "data": {
      "text/plain": [
       "[454, 12, 42, 13, 22]"
      ]
     },
     "execution_count": 18,
     "metadata": {},
     "output_type": "execute_result"
    }
   ],
   "source": [
    "list1[7:2:-1]"
   ]
  },
  {
   "cell_type": "code",
   "execution_count": 19,
   "id": "cff4e629",
   "metadata": {},
   "outputs": [
    {
     "data": {
      "text/plain": [
       "[454, 42, 22]"
      ]
     },
     "execution_count": 19,
     "metadata": {},
     "output_type": "execute_result"
    }
   ],
   "source": [
    "list1[7:2:-2]"
   ]
  },
  {
   "cell_type": "code",
   "execution_count": 20,
   "id": "c8f46c96",
   "metadata": {},
   "outputs": [],
   "source": [
    "list1 = [\"Ramesh\",\"Suresh\",\"Naresh\",\"Dinesh\",\"Jignesh\",\"Mahesh\",\"Kamlesh\"]"
   ]
  },
  {
   "cell_type": "code",
   "execution_count": 21,
   "id": "c570950e",
   "metadata": {},
   "outputs": [
    {
     "data": {
      "text/plain": [
       "['Naresh', 'Dinesh', 'Jignesh']"
      ]
     },
     "execution_count": 21,
     "metadata": {},
     "output_type": "execute_result"
    }
   ],
   "source": [
    "list1[2:5]"
   ]
  },
  {
   "cell_type": "code",
   "execution_count": 22,
   "id": "a3d16db6",
   "metadata": {},
   "outputs": [
    {
     "data": {
      "text/plain": [
       "[]"
      ]
     },
     "execution_count": 22,
     "metadata": {},
     "output_type": "execute_result"
    }
   ],
   "source": [
    "list1[5:2]"
   ]
  },
  {
   "cell_type": "markdown",
   "id": "73931a8b",
   "metadata": {},
   "source": [
    "### Accessing Items of List Using For Loop"
   ]
  },
  {
   "cell_type": "code",
   "execution_count": null,
   "id": "7e1126c6",
   "metadata": {},
   "outputs": [],
   "source": [
    "for item in list1:\n",
    "    statement 1\n",
    "    statement 2\n",
    "    statement 3"
   ]
  },
  {
   "cell_type": "code",
   "execution_count": 51,
   "id": "21f1f363",
   "metadata": {},
   "outputs": [],
   "source": [
    "list1 = [\"Ramesh\",\"Suresh\",\"Naresh\",\"Dinesh\",\"Jignesh\",\"Mahesh\",\"Kamlesh\"]"
   ]
  },
  {
   "cell_type": "code",
   "execution_count": 53,
   "id": "22d4e392",
   "metadata": {},
   "outputs": [
    {
     "name": "stdout",
     "output_type": "stream",
     "text": [
      "Ramesh\n",
      "Suresh\n",
      "Naresh\n",
      "Dinesh\n",
      "Jignesh\n",
      "Mahesh\n",
      "Kamlesh\n"
     ]
    }
   ],
   "source": [
    "for item in list1:\n",
    "    print(item)"
   ]
  },
  {
   "cell_type": "code",
   "execution_count": 25,
   "id": "f2115a7f",
   "metadata": {},
   "outputs": [
    {
     "name": "stdout",
     "output_type": "stream",
     "text": [
      "Ramesh\n",
      "Suresh\n",
      "Naresh\n",
      "Dinesh\n",
      "Jignesh\n",
      "Mahesh\n",
      "Kamlesh\n"
     ]
    }
   ],
   "source": [
    "for item in list1:\n",
    "    print(item, end = \"\\n\")"
   ]
  },
  {
   "cell_type": "code",
   "execution_count": 26,
   "id": "58809067",
   "metadata": {},
   "outputs": [
    {
     "name": "stdout",
     "output_type": "stream",
     "text": [
      "Ramesh Suresh Naresh Dinesh Jignesh Mahesh Kamlesh "
     ]
    }
   ],
   "source": [
    "for item in list1:\n",
    "    print(item, end = \" \")"
   ]
  },
  {
   "cell_type": "code",
   "execution_count": 27,
   "id": "4801fc78",
   "metadata": {},
   "outputs": [
    {
     "name": "stdout",
     "output_type": "stream",
     "text": [
      "Ram\n",
      "Sur\n",
      "Nar\n",
      "Din\n",
      "Jign\n",
      "Mah\n",
      "Kaml\n"
     ]
    }
   ],
   "source": [
    "for item in list1:\n",
    "    item = item[0:-3]\n",
    "    print(item)"
   ]
  },
  {
   "cell_type": "code",
   "execution_count": 28,
   "id": "43f8d657",
   "metadata": {},
   "outputs": [
    {
     "name": "stdout",
     "output_type": "stream",
     "text": [
      "Ram\n",
      "Sur\n",
      "Nar\n",
      "Din\n",
      "Jign\n",
      "Mah\n",
      "Kaml\n"
     ]
    }
   ],
   "source": [
    "for item in list1:\n",
    "    item = item.replace(\"esh\",\"\")\n",
    "    print(item)"
   ]
  },
  {
   "cell_type": "code",
   "execution_count": 30,
   "id": "eb45c5fc",
   "metadata": {},
   "outputs": [
    {
     "name": "stdout",
     "output_type": "stream",
     "text": [
      "['R', 'a', 'm', 'e', 's', 'h']\n",
      "['R', 'a', 'm']\n",
      "Ram\n",
      "['S', 'u', 'r', 'e', 's', 'h']\n",
      "['S', 'u', 'r']\n",
      "Sur\n",
      "['N', 'a', 'r', 'e', 's', 'h']\n",
      "['N', 'a', 'r']\n",
      "Nar\n",
      "['D', 'i', 'n', 'e', 's', 'h']\n",
      "['D', 'i', 'n']\n",
      "Din\n",
      "['J', 'i', 'g', 'n', 'e', 's', 'h']\n",
      "['J', 'i', 'g', 'n']\n",
      "Jign\n",
      "['M', 'a', 'h', 'e', 's', 'h']\n",
      "['M', 'a', 'h']\n",
      "Mah\n",
      "['K', 'a', 'm', 'l', 'e', 's', 'h']\n",
      "['K', 'a', 'm', 'l']\n",
      "Kaml\n"
     ]
    }
   ],
   "source": [
    "for item in list1:\n",
    "    item = list(item)\n",
    "    print(item)\n",
    "    item = item[0:-3]\n",
    "    print(item)\n",
    "    item = \"\".join(item)\n",
    "    print(item)"
   ]
  },
  {
   "cell_type": "code",
   "execution_count": 31,
   "id": "4574c0c4",
   "metadata": {},
   "outputs": [
    {
     "name": "stdout",
     "output_type": "stream",
     "text": [
      "Ramesh Surname\n",
      "Suresh Surname\n",
      "Naresh Surname\n",
      "Dinesh Surname\n",
      "Jignesh Surname\n",
      "Mahesh Surname\n",
      "Kamlesh Surname\n"
     ]
    }
   ],
   "source": [
    "list1 = [\"Ramesh\",\"Suresh\",\"Naresh\",\"Dinesh\",\"Jignesh\",\"Mahesh\",\"Kamlesh\"]\n",
    "for item in list1:\n",
    "    item = item + \" \" + \"Surname\"\n",
    "    \n",
    "    print(item)"
   ]
  },
  {
   "cell_type": "code",
   "execution_count": 33,
   "id": "2ded1dfb",
   "metadata": {},
   "outputs": [
    {
     "name": "stdout",
     "output_type": "stream",
     "text": [
      "2\n",
      "4\n",
      "6\n",
      "8\n",
      "PythonPython\n",
      "55\n",
      "Data ScienceData Science\n",
      "18\n",
      "20\n",
      "1111\n"
     ]
    }
   ],
   "source": [
    "list1 = [1,2,3,4,\"Python\",\"5\",\"Data Science\",9,10,\"11\"]\n",
    "\n",
    "for item in list1:\n",
    "    a = item*2\n",
    "    print(a)"
   ]
  },
  {
   "cell_type": "code",
   "execution_count": 34,
   "id": "ecfc1bfc",
   "metadata": {},
   "outputs": [
    {
     "name": "stdout",
     "output_type": "stream",
     "text": [
      "1\n",
      "4\n",
      "9\n",
      "16\n",
      "Python Python\n",
      "5 5\n",
      "Data Science Data Science\n",
      "81\n",
      "100\n",
      "11 11\n"
     ]
    }
   ],
   "source": [
    "for i in list1:\n",
    "    if type(i) == int:\n",
    "        a = i**2\n",
    "        print(a)\n",
    "    elif type(i) == str:\n",
    "        a = i + \" \" + i\n",
    "        print(a)"
   ]
  },
  {
   "cell_type": "code",
   "execution_count": 37,
   "id": "2fb98ea2",
   "metadata": {},
   "outputs": [
    {
     "name": "stdout",
     "output_type": "stream",
     "text": [
      "1\n",
      "4\n",
      "9\n",
      "16\n",
      "Python Python\n",
      "25\n",
      "Data Science Data Science\n",
      "81\n",
      "100\n",
      "121\n"
     ]
    }
   ],
   "source": [
    "for i in list1:\n",
    "    if type(i) == int:\n",
    "        a = i**2\n",
    "        print(a)\n",
    "    elif type(i) == str:\n",
    "        try:\n",
    "            i = int(i)\n",
    "            a = i**2\n",
    "            print(a)\n",
    "        except:\n",
    "            a = i + \" \" + i\n",
    "            print(a)"
   ]
  },
  {
   "cell_type": "code",
   "execution_count": 39,
   "id": "3102cfad",
   "metadata": {},
   "outputs": [
    {
     "name": "stdout",
     "output_type": "stream",
     "text": [
      "RAMESH SURESH NARESH DINESH JIGNESH MAHESH KAMLESH "
     ]
    }
   ],
   "source": [
    "list1 = [\"Ramesh\",\"Suresh\",\"Naresh\",\"Dinesh\",\"Jignesh\",\"Mahesh\",\"Kamlesh\"]\n",
    "\n",
    "for name in list1:\n",
    "    a = name.upper()\n",
    "    print(a, end = \" \")"
   ]
  },
  {
   "cell_type": "markdown",
   "id": "289becdb",
   "metadata": {},
   "source": [
    "### enumerate()"
   ]
  },
  {
   "cell_type": "code",
   "execution_count": 40,
   "id": "d93b3aa8",
   "metadata": {},
   "outputs": [
    {
     "name": "stdout",
     "output_type": "stream",
     "text": [
      "(0, 'Ramesh')\n",
      "(1, 'Suresh')\n",
      "(2, 'Naresh')\n",
      "(3, 'Dinesh')\n",
      "(4, 'Jignesh')\n",
      "(5, 'Mahesh')\n",
      "(6, 'Kamlesh')\n"
     ]
    }
   ],
   "source": [
    "list1 = [\"Ramesh\",\"Suresh\",\"Naresh\",\"Dinesh\",\"Jignesh\",\"Mahesh\",\"Kamlesh\"]\n",
    "\n",
    "for i in enumerate(list1):\n",
    "    print(i)"
   ]
  },
  {
   "cell_type": "code",
   "execution_count": 41,
   "id": "61930e12",
   "metadata": {},
   "outputs": [
    {
     "name": "stdout",
     "output_type": "stream",
     "text": [
      "<enumerate object at 0x0000027823C11140>\n"
     ]
    }
   ],
   "source": [
    "print(enumerate(list1))"
   ]
  },
  {
   "cell_type": "code",
   "execution_count": 42,
   "id": "ad0684c3",
   "metadata": {},
   "outputs": [
    {
     "name": "stdout",
     "output_type": "stream",
     "text": [
      "Index:0    Name:Ramesh\n",
      "Index:1    Name:Suresh\n",
      "Index:2    Name:Naresh\n",
      "Index:3    Name:Dinesh\n",
      "Index:4    Name:Jignesh\n",
      "Index:5    Name:Mahesh\n",
      "Index:6    Name:Kamlesh\n"
     ]
    }
   ],
   "source": [
    "for index, name in enumerate(list1):\n",
    "    print(f\"Index:{index}    Name:{name}\")"
   ]
  },
  {
   "cell_type": "code",
   "execution_count": 43,
   "id": "ab6fc5cc",
   "metadata": {},
   "outputs": [
    {
     "name": "stdout",
     "output_type": "stream",
     "text": [
      "Index:0    Name:Ramesh\n",
      "Index:1    Name:Suresh\n",
      "Index:2    Name:Naresh\n",
      "Index:3    Name:Dinesh\n",
      "Index:4    Name:Jignesh\n",
      "Index:5    Name:Mahesh\n",
      "Index:6    Name:Kamlesh\n"
     ]
    }
   ],
   "source": [
    "for i, n in enumerate(list1):\n",
    "    print(f\"Index:{i}    Name:{n}\")"
   ]
  },
  {
   "cell_type": "markdown",
   "id": "82161b7f",
   "metadata": {},
   "source": [
    "### Iterating over two list at same time (zip function)"
   ]
  },
  {
   "cell_type": "code",
   "execution_count": 44,
   "id": "6d4838a7",
   "metadata": {},
   "outputs": [
    {
     "name": "stdout",
     "output_type": "stream",
     "text": [
      "('Ramesh', 'Patil')\n",
      "('Suresh', 'Wagh')\n",
      "('Naresh', 'Verma')\n",
      "('Dinesh', 'Deshpande')\n",
      "('Jignesh', 'Patel')\n",
      "('Mahesh', 'Bhat')\n",
      "('Kamlesh', 'Modi')\n"
     ]
    }
   ],
   "source": [
    "name = [\"Ramesh\",\"Suresh\",\"Naresh\",\"Dinesh\",\"Jignesh\",\"Mahesh\",\"Kamlesh\"]\n",
    "surname = [\"Patil\",\"Wagh\",\"Verma\",\"Deshpande\",\"Patel\",\"Bhat\",\"Modi\"]\n",
    "\n",
    "for item in zip(name, surname):\n",
    "    print(item)"
   ]
  },
  {
   "cell_type": "code",
   "execution_count": 45,
   "id": "6417199b",
   "metadata": {},
   "outputs": [
    {
     "name": "stdout",
     "output_type": "stream",
     "text": [
      "<zip object at 0x00000278238CC740>\n"
     ]
    }
   ],
   "source": [
    "print(zip(name, surname))"
   ]
  },
  {
   "cell_type": "code",
   "execution_count": 46,
   "id": "a78e645c",
   "metadata": {},
   "outputs": [
    {
     "name": "stdout",
     "output_type": "stream",
     "text": [
      "Ramesh Patil\n",
      "Suresh Wagh\n",
      "Naresh Verma\n",
      "Dinesh Deshpande\n",
      "Jignesh Patel\n",
      "Mahesh Bhat\n",
      "Kamlesh Modi\n"
     ]
    }
   ],
   "source": [
    "for n, s in zip(name, surname):\n",
    "    print(n+\" \"+s)"
   ]
  },
  {
   "cell_type": "code",
   "execution_count": 47,
   "id": "b5e932bb",
   "metadata": {},
   "outputs": [
    {
     "name": "stdout",
     "output_type": "stream",
     "text": [
      "(0, ('Ramesh', 'Patil'))\n",
      "(1, ('Suresh', 'Wagh'))\n",
      "(2, ('Naresh', 'Verma'))\n",
      "(3, ('Dinesh', 'Deshpande'))\n",
      "(4, ('Jignesh', 'Patel'))\n",
      "(5, ('Mahesh', 'Bhat'))\n",
      "(6, ('Kamlesh', 'Modi'))\n"
     ]
    }
   ],
   "source": [
    "name = [\"Ramesh\",\"Suresh\",\"Naresh\",\"Dinesh\",\"Jignesh\",\"Mahesh\",\"Kamlesh\"]\n",
    "surname = [\"Patil\",\"Wagh\",\"Verma\",\"Deshpande\",\"Patel\",\"Bhat\",\"Modi\"]\n",
    "\n",
    "for item in enumerate(zip(name, surname)):\n",
    "    print(item)"
   ]
  },
  {
   "cell_type": "markdown",
   "id": "263dbc7e",
   "metadata": {},
   "source": [
    "# List Functions"
   ]
  },
  {
   "cell_type": "markdown",
   "id": "df232378",
   "metadata": {},
   "source": [
    "### 1. append()"
   ]
  },
  {
   "cell_type": "code",
   "execution_count": null,
   "id": "fa4ac2f1",
   "metadata": {},
   "outputs": [],
   "source": [
    "syntax >> list.append(item)\n",
    "adds an item at the last index of the list"
   ]
  },
  {
   "cell_type": "code",
   "execution_count": 55,
   "id": "4e2b224e",
   "metadata": {},
   "outputs": [],
   "source": [
    "list1 = [1,2,3,4,5,6]"
   ]
  },
  {
   "cell_type": "code",
   "execution_count": 56,
   "id": "0a8e8f2f",
   "metadata": {},
   "outputs": [
    {
     "name": "stdout",
     "output_type": "stream",
     "text": [
      "[1, 2, 3, 4, 5, 6, 'Python']\n"
     ]
    }
   ],
   "source": [
    "list1.append(\"Python\")\n",
    "\n",
    "print(list1)"
   ]
  },
  {
   "cell_type": "code",
   "execution_count": 57,
   "id": "114ce503",
   "metadata": {},
   "outputs": [
    {
     "name": "stdout",
     "output_type": "stream",
     "text": [
      "[1, 2, 3, 4, 5, 6, 'Python', '12']\n"
     ]
    }
   ],
   "source": [
    "list1.append(\"12\")\n",
    "\n",
    "print(list1)"
   ]
  },
  {
   "cell_type": "code",
   "execution_count": 58,
   "id": "42abac31",
   "metadata": {},
   "outputs": [],
   "source": [
    "list1 = [1,2,3,4]\n",
    "list2 = [5,6,7,8]\n",
    "\n",
    "list1.append(list2)"
   ]
  },
  {
   "cell_type": "code",
   "execution_count": 59,
   "id": "5997b7fc",
   "metadata": {},
   "outputs": [
    {
     "name": "stdout",
     "output_type": "stream",
     "text": [
      "[1, 2, 3, 4, [5, 6, 7, 8]]\n"
     ]
    }
   ],
   "source": [
    "print(list1)"
   ]
  },
  {
   "cell_type": "markdown",
   "id": "15cc4244",
   "metadata": {},
   "source": [
    "### Initiating an empty list"
   ]
  },
  {
   "cell_type": "code",
   "execution_count": 60,
   "id": "acf1abad",
   "metadata": {},
   "outputs": [],
   "source": [
    "list1 = []"
   ]
  },
  {
   "cell_type": "code",
   "execution_count": 62,
   "id": "de84935e",
   "metadata": {},
   "outputs": [
    {
     "name": "stdout",
     "output_type": "stream",
     "text": [
      "[]\n"
     ]
    }
   ],
   "source": [
    "print(list1)"
   ]
  },
  {
   "cell_type": "markdown",
   "id": "335e9898",
   "metadata": {},
   "source": [
    "### Using for loop with append"
   ]
  },
  {
   "cell_type": "code",
   "execution_count": 64,
   "id": "7fd0a65b",
   "metadata": {},
   "outputs": [
    {
     "name": "stdout",
     "output_type": "stream",
     "text": [
      "1 2 3 4 5 6 7 8 9 10 11 12 13 14 15 16 17 18 19 20 21 22 23 24 25 26 27 28 29 "
     ]
    }
   ],
   "source": [
    "list1 = []\n",
    "\n",
    "for item in range(1,30):\n",
    "    print(item, end = \" \")"
   ]
  },
  {
   "cell_type": "code",
   "execution_count": 65,
   "id": "6efe04eb",
   "metadata": {},
   "outputs": [
    {
     "name": "stdout",
     "output_type": "stream",
     "text": [
      "range(1, 30)\n"
     ]
    }
   ],
   "source": [
    "print(range(1,30))"
   ]
  },
  {
   "cell_type": "code",
   "execution_count": null,
   "id": "651fca20",
   "metadata": {},
   "outputs": [],
   "source": [
    "syntax of range >> range(starting_number, end_number, step_size) "
   ]
  },
  {
   "cell_type": "code",
   "execution_count": 67,
   "id": "1909c01b",
   "metadata": {},
   "outputs": [
    {
     "name": "stdout",
     "output_type": "stream",
     "text": [
      "[1]\n",
      "[1, 2]\n",
      "[1, 2, 3]\n",
      "[1, 2, 3, 4]\n",
      "[1, 2, 3, 4, 5]\n",
      "[1, 2, 3, 4, 5, 6]\n",
      "[1, 2, 3, 4, 5, 6, 7]\n",
      "[1, 2, 3, 4, 5, 6, 7, 8]\n",
      "[1, 2, 3, 4, 5, 6, 7, 8, 9]\n"
     ]
    }
   ],
   "source": [
    "list1 = []\n",
    "\n",
    "for i in range(1,10):\n",
    "    list1.append(i)\n",
    "    print(list1)"
   ]
  },
  {
   "cell_type": "code",
   "execution_count": 83,
   "id": "71bf9db9",
   "metadata": {},
   "outputs": [
    {
     "name": "stdout",
     "output_type": "stream",
     "text": [
      "[2]\n",
      "[2, 4]\n",
      "[2, 4, 6]\n",
      "[2, 4, 6, 8]\n",
      "[2, 4, 6, 8, 10]\n",
      "[2, 4, 6, 8, 10, 12]\n",
      "[2, 4, 6, 8, 10, 12, 14]\n",
      "[2, 4, 6, 8, 10, 12, 14, 16]\n",
      "[2, 4, 6, 8, 10, 12, 14, 16, 18]\n",
      "[2, 4, 6, 8, 10, 12, 14, 16, 18, 20]\n",
      "[2, 4, 6, 8, 10, 12, 14, 16, 18, 20]\n"
     ]
    }
   ],
   "source": [
    "# Create a list of even number from 1 to 20\n",
    "even_num = []\n",
    "\n",
    "for i in range(1,21):\n",
    "    if i % 2 == 0:\n",
    "        even_num.append(i)\n",
    "        print(even_num)\n",
    "    else:\n",
    "        pass\n",
    "print(even_num)"
   ]
  },
  {
   "cell_type": "code",
   "execution_count": 77,
   "id": "dfe23913",
   "metadata": {},
   "outputs": [
    {
     "name": "stdout",
     "output_type": "stream",
     "text": [
      "2 \n",
      "2 4 \n",
      "2 4 6 \n",
      "2 4 6 8 \n",
      "2 4 6 8 10 \n",
      "2 4 6 8 10 12 \n",
      "2 4 6 8 10 12 14 \n",
      "2 4 6 8 10 12 14 16 \n",
      "2 4 6 8 10 12 14 16 18 \n",
      "2 4 6 8 10 12 14 16 18 20 \n"
     ]
    }
   ],
   "source": [
    "even_num = \"\"\n",
    "\n",
    "for i in range(1,21):\n",
    "    if i % 2 == 0:\n",
    "        even_num = even_num + str(i) + \" \"\n",
    "        print(even_num)\n",
    "    else:\n",
    "        pass"
   ]
  },
  {
   "cell_type": "code",
   "execution_count": 73,
   "id": "214a1e44",
   "metadata": {},
   "outputs": [
    {
     "data": {
      "text/plain": [
       "'2 4 6 8 10 12 14 16 18 20 '"
      ]
     },
     "execution_count": 73,
     "metadata": {},
     "output_type": "execute_result"
    }
   ],
   "source": [
    "even_num"
   ]
  },
  {
   "cell_type": "code",
   "execution_count": 81,
   "id": "23e5e204",
   "metadata": {},
   "outputs": [
    {
     "name": "stdout",
     "output_type": "stream",
     "text": [
      "[2, 4, 6, 8, 10, 12, 14, 16, 18, 20]\n"
     ]
    }
   ],
   "source": [
    "even_num = []\n",
    "\n",
    "for i in range(2,21,2):\n",
    "    even_num.append(i)\n",
    "print(even_num)"
   ]
  },
  {
   "cell_type": "code",
   "execution_count": null,
   "id": "5a7ff8d6",
   "metadata": {},
   "outputs": [],
   "source": [
    "## \"Write a program to replace_white_space_in a string by underscore and vice_versa_\""
   ]
  },
  {
   "cell_type": "code",
   "execution_count": 90,
   "id": "48bdce71",
   "metadata": {},
   "outputs": [
    {
     "name": "stdout",
     "output_type": "stream",
     "text": [
      "Hello\b\b\b\b\b world\b\n"
     ]
    }
   ],
   "source": []
  },
  {
   "cell_type": "code",
   "execution_count": 91,
   "id": "fc3d4b15",
   "metadata": {},
   "outputs": [
    {
     "name": "stdout",
     "output_type": "stream",
     "text": [
      "2\n",
      "1\n"
     ]
    }
   ],
   "source": [
    "x= -10 % 3\n",
    "print (x)\n",
    "c= 10 % 3\n",
    "print(c)"
   ]
  },
  {
   "cell_type": "code",
   "execution_count": 92,
   "id": "ff912ff2",
   "metadata": {},
   "outputs": [
    {
     "data": {
      "text/plain": [
       "3"
      ]
     },
     "execution_count": 92,
     "metadata": {},
     "output_type": "execute_result"
    }
   ],
   "source": [
    "10//3"
   ]
  },
  {
   "cell_type": "code",
   "execution_count": 93,
   "id": "4355b905",
   "metadata": {},
   "outputs": [
    {
     "data": {
      "text/plain": [
       "-4"
      ]
     },
     "execution_count": 93,
     "metadata": {},
     "output_type": "execute_result"
    }
   ],
   "source": [
    "-10//3"
   ]
  },
  {
   "cell_type": "code",
   "execution_count": null,
   "id": "68bca051",
   "metadata": {},
   "outputs": [],
   "source": []
  }
 ],
 "metadata": {
  "kernelspec": {
   "display_name": "Python 3 (ipykernel)",
   "language": "python",
   "name": "python3"
  },
  "language_info": {
   "codemirror_mode": {
    "name": "ipython",
    "version": 3
   },
   "file_extension": ".py",
   "mimetype": "text/x-python",
   "name": "python",
   "nbconvert_exporter": "python",
   "pygments_lexer": "ipython3",
   "version": "3.10.5"
  }
 },
 "nbformat": 4,
 "nbformat_minor": 5
}
