{
 "cells": [
  {
   "cell_type": "markdown",
   "id": "c6f575ec",
   "metadata": {},
   "source": [
    "## Conditional Statement with Pass Statement"
   ]
  },
  {
   "cell_type": "code",
   "execution_count": null,
   "id": "0bb8eb90",
   "metadata": {},
   "outputs": [],
   "source": [
    "if \n",
    "elif\n",
    "elif\n",
    "else"
   ]
  },
  {
   "cell_type": "code",
   "execution_count": null,
   "id": "3e68a499",
   "metadata": {},
   "outputs": [],
   "source": [
    "This statement is generally used to avoid errors"
   ]
  },
  {
   "cell_type": "code",
   "execution_count": 1,
   "id": "ef59ebfe",
   "metadata": {},
   "outputs": [
    {
     "name": "stdout",
     "output_type": "stream",
     "text": [
      "a is greater than b\n"
     ]
    }
   ],
   "source": [
    "a = 23\n",
    "b = 11\n",
    "\n",
    "if a > b:\n",
    "    print(\"a is greater than b\")\n",
    "else:\n",
    "    print(\"a is not greater than b\")"
   ]
  },
  {
   "cell_type": "code",
   "execution_count": 2,
   "id": "fd7e1491",
   "metadata": {},
   "outputs": [
    {
     "name": "stdout",
     "output_type": "stream",
     "text": [
      "a is greater than b\n"
     ]
    }
   ],
   "source": [
    "a = 23\n",
    "b = 11\n",
    "\n",
    "if a > b:\n",
    "    pass\n",
    "    print(\"a is greater than b\")\n",
    "else:\n",
    "    print(\"a is not greater than b\")"
   ]
  },
  {
   "cell_type": "code",
   "execution_count": 3,
   "id": "81cc0a70",
   "metadata": {},
   "outputs": [
    {
     "name": "stdout",
     "output_type": "stream",
     "text": [
      "a is greater than b\n"
     ]
    }
   ],
   "source": [
    "a = 23\n",
    "b = 11\n",
    "\n",
    "if a < b:\n",
    "    pass\n",
    "    print(\"a is less than b\")\n",
    "else:\n",
    "    pass\n",
    "    print(\"a is greater than b\")"
   ]
  },
  {
   "cell_type": "markdown",
   "id": "37de41d4",
   "metadata": {},
   "source": [
    "## Nested if else statement"
   ]
  },
  {
   "cell_type": "code",
   "execution_count": 6,
   "id": "dc699e3e",
   "metadata": {},
   "outputs": [
    {
     "name": "stdout",
     "output_type": "stream",
     "text": [
      "Mr Rajesh Khanna\n"
     ]
    }
   ],
   "source": [
    "name_1  = \"Rajesh Khanna\"\n",
    "gender_1 = \"Male\"\n",
    "name_2  = \"Mrs. Twinkle Khanna\"\n",
    "gender_2 = \"Female\"\n",
    "name_3 = \"Miss Dimple Kapadia\"\n",
    "gender_3 = \"Female\"\n",
    "\n",
    "if name_1.startswith(\"Mrs\"):\n",
    "    print(\"The gender is Female\")\n",
    "    \n",
    "elif name_1.startswith(\"Mr\"):\n",
    "    print(\"The gender is Male\")\n",
    "\n",
    "else:\n",
    "    if gender_1 == \"Female\":\n",
    "        print(\"Mrs\"+\" \"+name_1)\n",
    "    elif gender_1 == \"Male\":\n",
    "        print(\"Mr\" + \" \" + name_1)\n",
    "    "
   ]
  },
  {
   "cell_type": "code",
   "execution_count": 15,
   "id": "53845d64",
   "metadata": {},
   "outputs": [
    {
     "name": "stdout",
     "output_type": "stream",
     "text": [
      "Enter Name Rajesh\n",
      "Enter Gender Male\n",
      "Salutations were not provided\n",
      "Mr Rajesh\n"
     ]
    }
   ],
   "source": [
    "name = input(\"Enter Name \")\n",
    "gender = input(\"Enter Gender \")\n",
    "\n",
    "if name.startswith(\"Mrs\"):\n",
    "    print(\"The gender is Female\")\n",
    "    \n",
    "elif name.startswith(\"Mr\"):\n",
    "    print(\"The gender is Male\")\n",
    "\n",
    "else:\n",
    "    if gender == \"Female\":\n",
    "        print(\"Salutations were not provided\")\n",
    "        print(\"Mrs\"+\" \"+name)\n",
    "    elif gender == \"Male\":\n",
    "        print(\"Salutations were not provided\")\n",
    "        print(\"Mr\" + \" \" + name)"
   ]
  },
  {
   "cell_type": "code",
   "execution_count": 10,
   "id": "f168ff55",
   "metadata": {},
   "outputs": [
    {
     "name": "stdout",
     "output_type": "stream",
     "text": [
      "The condition number two is not satisefied\n"
     ]
    }
   ],
   "source": [
    "a = 60\n",
    "b = 30\n",
    "\n",
    "c = 12\n",
    "d = 20\n",
    "\n",
    "if a < b:\n",
    "    if c < d:\n",
    "        print(\"The condition satisfied\")\n",
    "    else:\n",
    "        print(\"The condition not satisfied\")\n",
    "elif a > b:\n",
    "    if c > b:\n",
    "        print(\"The condition number 2 is statisfied\")\n",
    "    else:\n",
    "        print(\"The condition number two is not satisfied\")\n"
   ]
  },
  {
   "cell_type": "code",
   "execution_count": 11,
   "id": "988b3c07",
   "metadata": {},
   "outputs": [
    {
     "name": "stdout",
     "output_type": "stream",
     "text": [
      "The condition might be met if the value of c is incresed by 19\n"
     ]
    }
   ],
   "source": [
    "a = 60\n",
    "b = 30\n",
    "\n",
    "c = 12\n",
    "d = 20\n",
    "\n",
    "if a < b:\n",
    "    if c < d:\n",
    "        print(\"The condition satisfied\")\n",
    "    else:\n",
    "        print(\"The condition not satisfied\")\n",
    "elif a > b:\n",
    "    if c > b:\n",
    "        print(\"The condition number 2 is statisfied\")\n",
    "    else:\n",
    "        if c < b:\n",
    "            print(f\"The condition might be met if the value of c is incresed by {b-c+1}\")\n"
   ]
  },
  {
   "cell_type": "code",
   "execution_count": 12,
   "id": "065b11bf",
   "metadata": {},
   "outputs": [
    {
     "name": "stdout",
     "output_type": "stream",
     "text": [
      "The condition might be met if the value of c is incresed by 19\n"
     ]
    }
   ],
   "source": [
    "a = 60\n",
    "b = 30\n",
    "\n",
    "c = 12\n",
    "d = 20\n",
    "\n",
    "if a < b:\n",
    "    if c < d:\n",
    "        print(\"The condition satisfied\")\n",
    "    else:\n",
    "        print(\"The condition not satisfied\")\n",
    "elif a > b:\n",
    "    if c > b:\n",
    "        print(\"The condition number 2 is statisfied\")\n",
    "    else:\n",
    "        if c == b:\n",
    "            print(f\"c and b are equal number\")\n",
    "        elif c < b:\n",
    "            print(f\"The condition might be met if the value of c is incresed by {b-c+1}\")"
   ]
  },
  {
   "cell_type": "code",
   "execution_count": null,
   "id": "ecc6ab30",
   "metadata": {},
   "outputs": [],
   "source": [
    "a = 60\n",
    "b = 30\n",
    "\n",
    "c = 12\n",
    "d = 20\n",
    "\n",
    "if a < b:\n",
    "    if c < d:\n",
    "        print(\"The condition satisfied\")\n",
    "    else:\n",
    "        print(\"The condition not satisfied\")\n",
    "elif a > b:\n",
    "    if c > b:\n",
    "        print(\"The condition number 2 is statisfied\")\n",
    "    else:\n",
    "        if c == b:\n",
    "            print(f\"c and b are equal number\")\n",
    "        elif c < b:\n",
    "            print(f\"The condition might be met if the value of c is incresed by {b-c+1}\")"
   ]
  },
  {
   "cell_type": "code",
   "execution_count": null,
   "id": "2dbfc81e",
   "metadata": {},
   "outputs": [],
   "source": [
    "salary > 60000/nil\n",
    "income > 1000000\n",
    "cbil_score >750/650/100\n",
    "privious_loan_history == \"good\"/\"medium\"/\"bad\"/\"worst\"\n",
    "assests > 700000/600000/60000000\n",
    "job == \"Government\"/\"Salaried\"/\"Self Employed\""
   ]
  },
  {
   "cell_type": "code",
   "execution_count": null,
   "id": "50f438a6",
   "metadata": {},
   "outputs": [],
   "source": [
    "salary = int(input(\"Enter Salary \"))\n",
    "other_income = int(input(\"Enter other income \"))\n",
    "cbil_score = int(input(\"Enter CBIL Score \"))\n",
    "privious_loan_history  = input(\"Loan History\").lower()\n",
    "assets = int(input(\"Enter asset evaluation \"))\n",
    "job = input(\"Enter Job\").lower()\n",
    "\n",
    "if job.startswith(\"g\"):\n",
    "    if salary >= 60000:\n",
    "        if privious_loan_history.startswith(\"g\"):\n",
    "            if cbil_score >=750:\n",
    "                print(\"Loan Granted\")\n",
    "        elif privious_loan_history.startswith(\"m\"):\n",
    "            if cbil_score >= 750:\n",
    "                if other_income >= 10000:\n",
    "                    if assets > 1000000:\n",
    "                        print(\"Loan Granted\")\n",
    "                    else:\n",
    "                        print(\"Loan Declined\")\n",
    "                elif other_income < 10000:\n",
    "                    if assets > 1500000:\n",
    "                        print(\"Loan Granted\")\n",
    "elif job.startswith(\"sa\"):\n",
    "    if salary >= 60000:\n",
    "        if privious_loan_history.startswith(\"g\"):\n",
    "            if cbil_score >=750:\n",
    "                print(\"Loan Granted\")\n",
    "        elif privious_loan_history.startswith(\"m\"):\n",
    "            if cbil_score >= 750:\n",
    "                if other_income >= 10000:\n",
    "                    if assets > 1000000:\n",
    "                        print(\"Loan Granted\")\n",
    "                    else:\n",
    "                        print(\"Loan Declined\")\n",
    "                elif other_income < 10000:\n",
    "                    if assets > 1500000:\n",
    "                        print(\"Loan Granted\")\n",
    "elif job.startswith(\"se\"):\n",
    "    if salary >= 60000:\n",
    "        if privious_loan_history.startswith(\"g\"):\n",
    "            if cbil_score >=750:\n",
    "                print(\"Loan Granted\")\n",
    "        elif privious_loan_history.startswith(\"m\"):\n",
    "            if cbil_score >= 750:\n",
    "                if other_income >= 10000:\n",
    "                    if assets > 1000000:\n",
    "                        print(\"Loan Granted\")\n",
    "                    else:\n",
    "                        print(\"Loan Declined\")\n",
    "                elif other_income < 10000:\n",
    "                    if assets > 1500000:\n",
    "                        print(\"Loan Granted\")\n",
    "    "
   ]
  }
 ],
 "metadata": {
  "kernelspec": {
   "display_name": "Python 3 (ipykernel)",
   "language": "python",
   "name": "python3"
  },
  "language_info": {
   "codemirror_mode": {
    "name": "ipython",
    "version": 3
   },
   "file_extension": ".py",
   "mimetype": "text/x-python",
   "name": "python",
   "nbconvert_exporter": "python",
   "pygments_lexer": "ipython3",
   "version": "3.10.5"
  }
 },
 "nbformat": 4,
 "nbformat_minor": 5
}
