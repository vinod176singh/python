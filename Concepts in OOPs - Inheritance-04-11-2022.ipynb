{
 "cells": [
  {
   "cell_type": "code",
   "execution_count": null,
   "id": "79e99c4b",
   "metadata": {},
   "outputs": [],
   "source": [
    "Main Concepts in Object Oriented Programming\n",
    "\n",
    "1. Inheritance\n",
    "2. Encapsulation\n",
    "3. Polymorphism\n",
    "4. Abstraction"
   ]
  },
  {
   "cell_type": "markdown",
   "id": "29de2137",
   "metadata": {},
   "source": [
    "# 1. Inheritance"
   ]
  },
  {
   "cell_type": "code",
   "execution_count": null,
   "id": "131acdd6",
   "metadata": {},
   "outputs": [],
   "source": [
    "Main aim of Inheritance in OOPS is to reutilize the already existing code and build an advaned version of that"
   ]
  },
  {
   "cell_type": "code",
   "execution_count": 2,
   "id": "c0a3a8cc",
   "metadata": {},
   "outputs": [],
   "source": [
    "class Vehicle():\n",
    "    def __init__(self, no_wheels,colour,engine_type,seating_capacity, cost, company):\n",
    "        self.no_wheels = no_wheels\n",
    "        self.colour = colour\n",
    "        self.engine_type = engine_type\n",
    "        self.cost = cost\n",
    "        self.company = company\n",
    "        self.seating_capacity = seating_capacity\n",
    "        \n",
    "    def display_details(self):\n",
    "        print(\"Number of wheels: \", self.no_wheels)\n",
    "        print(\"Colour: \", self.colour)\n",
    "        print(\"Engine Type: \", self.engine_type)\n",
    "        print(\"Cost : \",self.cost)\n",
    "        print(\"Company: \", self.company)\n",
    "        print(\"Seating Capacity: \", self.seating_capacity)   "
   ]
  },
  {
   "cell_type": "code",
   "execution_count": 3,
   "id": "598cfc2c",
   "metadata": {},
   "outputs": [],
   "source": [
    "v1 = Vehicle(2,\"Black\",\"Petrol\",3,120000,\"Honda\")"
   ]
  },
  {
   "cell_type": "code",
   "execution_count": 4,
   "id": "9c3fb17c",
   "metadata": {},
   "outputs": [
    {
     "name": "stdout",
     "output_type": "stream",
     "text": [
      "Number of wheels:  2\n",
      "Colour:  Black\n",
      "Engine Type:  Petrol\n",
      "Cost :  120000\n",
      "Company:  Honda\n",
      "Seating Capacity:  3\n"
     ]
    }
   ],
   "source": [
    "v1.display_details()"
   ]
  },
  {
   "cell_type": "code",
   "execution_count": 5,
   "id": "fa290b44",
   "metadata": {},
   "outputs": [],
   "source": [
    "class Electric_Vehicle(Vehicle): ## We have passed a parent class in parenthesis\n",
    "    pass\n",
    "# Here electric_Vehicle is a derived class and Vehicle is a Parent Class"
   ]
  },
  {
   "cell_type": "code",
   "execution_count": 7,
   "id": "4a018b61",
   "metadata": {},
   "outputs": [],
   "source": [
    "nexon_ev = Electric_Vehicle(4, \"Electric Blue\",\"Motor\",5,1700000,\"Tata\")"
   ]
  },
  {
   "cell_type": "code",
   "execution_count": 8,
   "id": "a57506fb",
   "metadata": {},
   "outputs": [
    {
     "name": "stdout",
     "output_type": "stream",
     "text": [
      "Number of wheels:  4\n",
      "Colour:  Electric Blue\n",
      "Engine Type:  Motor\n",
      "Cost :  1700000\n",
      "Company:  Tata\n",
      "Seating Capacity:  5\n"
     ]
    }
   ],
   "source": [
    "nexon_ev.display_details()"
   ]
  },
  {
   "cell_type": "code",
   "execution_count": null,
   "id": "82eae289",
   "metadata": {},
   "outputs": [],
   "source": []
  }
 ],
 "metadata": {
  "kernelspec": {
   "display_name": "Python 3 (ipykernel)",
   "language": "python",
   "name": "python3"
  },
  "language_info": {
   "codemirror_mode": {
    "name": "ipython",
    "version": 3
   },
   "file_extension": ".py",
   "mimetype": "text/x-python",
   "name": "python",
   "nbconvert_exporter": "python",
   "pygments_lexer": "ipython3",
   "version": "3.10.5"
  }
 },
 "nbformat": 4,
 "nbformat_minor": 5
}
