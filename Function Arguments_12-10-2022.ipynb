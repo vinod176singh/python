{
 "cells": [
  {
   "cell_type": "code",
   "execution_count": null,
   "id": "65816e31",
   "metadata": {},
   "outputs": [],
   "source": [
    "1. Positional Argument\n",
    "2. Default Argument/Keyword Argument\n",
    "3. Arbitary Positional Argument\n",
    "4. Arbitary Keyword Argument"
   ]
  },
  {
   "cell_type": "markdown",
   "id": "05201441",
   "metadata": {},
   "source": [
    "### 1. Positional Argument"
   ]
  },
  {
   "cell_type": "markdown",
   "id": "9101f51c",
   "metadata": {},
   "source": [
    "## Area of Trapazoid"
   ]
  },
  {
   "cell_type": "code",
   "execution_count": 1,
   "id": "67925917",
   "metadata": {},
   "outputs": [],
   "source": [
    "def area_trapezoid(a,b,h):\n",
    "    area = ((a+b)/2)*h\n",
    "    return area"
   ]
  },
  {
   "cell_type": "code",
   "execution_count": 2,
   "id": "51e32eeb",
   "metadata": {},
   "outputs": [
    {
     "data": {
      "text/plain": [
       "270.0"
      ]
     },
     "execution_count": 2,
     "metadata": {},
     "output_type": "execute_result"
    }
   ],
   "source": [
    "area_trapezoid(12,15,20)"
   ]
  },
  {
   "cell_type": "code",
   "execution_count": null,
   "id": "24b10553",
   "metadata": {},
   "outputs": [],
   "source": [
    "## For positional argument, the arguments need to passed at predetermined positions, if not done so, \n",
    "## the funcftion will not work properly"
   ]
  },
  {
   "cell_type": "code",
   "execution_count": 5,
   "id": "0dc7bfbb",
   "metadata": {},
   "outputs": [],
   "source": [
    "def difference(large_number,small_number):\n",
    "    diff = large_number - small_number\n",
    "    return diff"
   ]
  },
  {
   "cell_type": "code",
   "execution_count": 6,
   "id": "89a8f5b1",
   "metadata": {},
   "outputs": [
    {
     "data": {
      "text/plain": [
       "18"
      ]
     },
     "execution_count": 6,
     "metadata": {},
     "output_type": "execute_result"
    }
   ],
   "source": [
    "difference(30,12)"
   ]
  },
  {
   "cell_type": "code",
   "execution_count": 7,
   "id": "ef9f0f95",
   "metadata": {},
   "outputs": [
    {
     "data": {
      "text/plain": [
       "-18"
      ]
     },
     "execution_count": 7,
     "metadata": {},
     "output_type": "execute_result"
    }
   ],
   "source": [
    "difference(12,30)"
   ]
  },
  {
   "cell_type": "markdown",
   "id": "5bfbf2cb",
   "metadata": {},
   "source": [
    "### 2. Default Argument"
   ]
  },
  {
   "cell_type": "code",
   "execution_count": 8,
   "id": "7bce1aa1",
   "metadata": {},
   "outputs": [],
   "source": [
    "def addition(a,b,c):\n",
    "    add = a + b + c\n",
    "    return add"
   ]
  },
  {
   "cell_type": "code",
   "execution_count": 9,
   "id": "307e3fb6",
   "metadata": {},
   "outputs": [
    {
     "data": {
      "text/plain": [
       "6"
      ]
     },
     "execution_count": 9,
     "metadata": {},
     "output_type": "execute_result"
    }
   ],
   "source": [
    "addition(1,2,3)"
   ]
  },
  {
   "cell_type": "code",
   "execution_count": 10,
   "id": "27f4be4c",
   "metadata": {},
   "outputs": [
    {
     "ename": "TypeError",
     "evalue": "addition() missing 1 required positional argument: 'c'",
     "output_type": "error",
     "traceback": [
      "\u001b[1;31m---------------------------------------------------------------------------\u001b[0m",
      "\u001b[1;31mTypeError\u001b[0m                                 Traceback (most recent call last)",
      "Input \u001b[1;32mIn [10]\u001b[0m, in \u001b[0;36m<cell line: 1>\u001b[1;34m()\u001b[0m\n\u001b[1;32m----> 1\u001b[0m \u001b[43maddition\u001b[49m\u001b[43m(\u001b[49m\u001b[38;5;241;43m1\u001b[39;49m\u001b[43m,\u001b[49m\u001b[38;5;241;43m2\u001b[39;49m\u001b[43m)\u001b[49m\n",
      "\u001b[1;31mTypeError\u001b[0m: addition() missing 1 required positional argument: 'c'"
     ]
    }
   ],
   "source": [
    "addition(1,2)"
   ]
  },
  {
   "cell_type": "code",
   "execution_count": 11,
   "id": "4cf8e361",
   "metadata": {},
   "outputs": [],
   "source": [
    "## with default argument\n",
    "\n",
    "def addition(a,b,c=15):\n",
    "    add = a + b + c\n",
    "    return add"
   ]
  },
  {
   "cell_type": "code",
   "execution_count": 12,
   "id": "5de1d7ca",
   "metadata": {},
   "outputs": [
    {
     "data": {
      "text/plain": [
       "40"
      ]
     },
     "execution_count": 12,
     "metadata": {},
     "output_type": "execute_result"
    }
   ],
   "source": [
    "addition(12,13)"
   ]
  },
  {
   "cell_type": "code",
   "execution_count": 13,
   "id": "cc60d97e",
   "metadata": {},
   "outputs": [
    {
     "data": {
      "text/plain": [
       "75"
      ]
     },
     "execution_count": 13,
     "metadata": {},
     "output_type": "execute_result"
    }
   ],
   "source": [
    "addition(12,13,50)"
   ]
  },
  {
   "cell_type": "code",
   "execution_count": 15,
   "id": "093cf172",
   "metadata": {},
   "outputs": [
    {
     "ename": "SyntaxError",
     "evalue": "non-default argument follows default argument (1954908841.py, line 1)",
     "output_type": "error",
     "traceback": [
      "\u001b[1;36m  Input \u001b[1;32mIn [15]\u001b[1;36m\u001b[0m\n\u001b[1;33m    def addition_1(a = 10,b,c):\u001b[0m\n\u001b[1;37m                          ^\u001b[0m\n\u001b[1;31mSyntaxError\u001b[0m\u001b[1;31m:\u001b[0m non-default argument follows default argument\n"
     ]
    }
   ],
   "source": [
    "def addition_1(a = 10,b,c):\n",
    "    add = a + b + c\n",
    "    return add"
   ]
  },
  {
   "cell_type": "code",
   "execution_count": null,
   "id": "5e549f4a",
   "metadata": {},
   "outputs": [],
   "source": [
    "Sequence >> Postional Argument >> Default Argument"
   ]
  },
  {
   "cell_type": "markdown",
   "id": "8614daee",
   "metadata": {},
   "source": [
    "### 3. Arbitary Positional Argument"
   ]
  },
  {
   "cell_type": "code",
   "execution_count": 16,
   "id": "6a3f87bf",
   "metadata": {},
   "outputs": [],
   "source": [
    "def addition(a,b,c):\n",
    "    add = a + b + c\n",
    "    return add"
   ]
  },
  {
   "cell_type": "code",
   "execution_count": 17,
   "id": "bdd3b34d",
   "metadata": {},
   "outputs": [],
   "source": [
    "def addition(a,b,c,d):\n",
    "    add = a + b + c + d\n",
    "    return add"
   ]
  },
  {
   "cell_type": "code",
   "execution_count": 18,
   "id": "34c2af1b",
   "metadata": {},
   "outputs": [],
   "source": [
    "def addition(a,b,c,d,e):\n",
    "    add = a + b + c + d + e\n",
    "    return add"
   ]
  },
  {
   "cell_type": "code",
   "execution_count": 19,
   "id": "757eba61",
   "metadata": {},
   "outputs": [],
   "source": [
    "## With arbitary postional argument\n",
    "def addition(*args):\n",
    "    print(args)"
   ]
  },
  {
   "cell_type": "code",
   "execution_count": 20,
   "id": "690abcd7",
   "metadata": {},
   "outputs": [
    {
     "name": "stdout",
     "output_type": "stream",
     "text": [
      "(1, 2, 3, 4, 5, 6, 7, 8, 9, 10)\n"
     ]
    }
   ],
   "source": [
    "addition(1,2,3,4,5,6,7,8,9,10)  ## The arbitary positional argument gets stored in a tuple"
   ]
  },
  {
   "cell_type": "code",
   "execution_count": 21,
   "id": "6ff46072",
   "metadata": {},
   "outputs": [],
   "source": [
    "def addition(*args):\n",
    "    total = 0\n",
    "    for i in args:\n",
    "        total = total + i\n",
    "    return total"
   ]
  },
  {
   "cell_type": "code",
   "execution_count": 22,
   "id": "81fdfe2b",
   "metadata": {},
   "outputs": [
    {
     "data": {
      "text/plain": [
       "55"
      ]
     },
     "execution_count": 22,
     "metadata": {},
     "output_type": "execute_result"
    }
   ],
   "source": [
    "addition(1,2,3,4,5,6,7,8,9,10)"
   ]
  },
  {
   "cell_type": "markdown",
   "id": "24e247cc",
   "metadata": {},
   "source": [
    "### Combination of Positional and Arbitary Positional Argument"
   ]
  },
  {
   "cell_type": "code",
   "execution_count": 24,
   "id": "0aefeb00",
   "metadata": {},
   "outputs": [],
   "source": [
    "def addition(a,b,c, *args):\n",
    "    print(args)\n",
    "    add = a + b + c\n",
    "    for i in args:\n",
    "        add = add + i\n",
    "    return add"
   ]
  },
  {
   "cell_type": "code",
   "execution_count": 25,
   "id": "d5dc71f7",
   "metadata": {},
   "outputs": [
    {
     "name": "stdout",
     "output_type": "stream",
     "text": [
      "(4, 5, 6, 7, 8, 9, 11, 12, 13)\n"
     ]
    },
    {
     "data": {
      "text/plain": [
       "81"
      ]
     },
     "execution_count": 25,
     "metadata": {},
     "output_type": "execute_result"
    }
   ],
   "source": [
    "addition(1,2,3,4,5,6,7,8,9,11,12,13)"
   ]
  },
  {
   "cell_type": "code",
   "execution_count": 28,
   "id": "850d8ee1",
   "metadata": {},
   "outputs": [],
   "source": [
    "def addition(a,b, *args):\n",
    "    print(args)\n",
    "    add = a + b\n",
    "    for i in args:\n",
    "        add = add + i\n",
    "    return add"
   ]
  },
  {
   "cell_type": "code",
   "execution_count": 29,
   "id": "41958d3d",
   "metadata": {},
   "outputs": [
    {
     "name": "stdout",
     "output_type": "stream",
     "text": [
      "(3, 4, 5, 6, 7, 8, 9, 11, 12, 13)\n"
     ]
    },
    {
     "data": {
      "text/plain": [
       "81"
      ]
     },
     "execution_count": 29,
     "metadata": {},
     "output_type": "execute_result"
    }
   ],
   "source": [
    "addition(1,2,3,4,5,6,7,8,9,11,12,13)"
   ]
  },
  {
   "cell_type": "markdown",
   "id": "cb1a9196",
   "metadata": {},
   "source": [
    "### Combination of Positional Argument, Default Argument and Arbitary Positional Argument"
   ]
  },
  {
   "cell_type": "code",
   "execution_count": 39,
   "id": "2c33de48",
   "metadata": {},
   "outputs": [],
   "source": [
    "def addition_1(a,b, c = 10, *args): # Sequence used >> Positional >> Default Argument >> Arbitary Postional\n",
    "    print(args)                     ## Don't follow this sequence\n",
    "    add = a + b + c\n",
    "    for i in args:\n",
    "        add = add + i\n",
    "    return add"
   ]
  },
  {
   "cell_type": "code",
   "execution_count": 40,
   "id": "92d1069d",
   "metadata": {},
   "outputs": [
    {
     "name": "stdout",
     "output_type": "stream",
     "text": [
      "(13, 14, 14, 15)\n"
     ]
    },
    {
     "data": {
      "text/plain": [
       "89"
      ]
     },
     "execution_count": 40,
     "metadata": {},
     "output_type": "execute_result"
    }
   ],
   "source": [
    "addition_1(10,11,12,13,14,14,15)"
   ]
  },
  {
   "cell_type": "code",
   "execution_count": 41,
   "id": "b8ce31d7",
   "metadata": {},
   "outputs": [
    {
     "name": "stdout",
     "output_type": "stream",
     "text": [
      "(12, 13, 12, 3, 4, 5)\n"
     ]
    },
    {
     "data": {
      "text/plain": [
       "86"
      ]
     },
     "execution_count": 41,
     "metadata": {},
     "output_type": "execute_result"
    }
   ],
   "source": [
    "addition_1(1,2,34,12,13,12,3,4,5)"
   ]
  },
  {
   "cell_type": "code",
   "execution_count": 45,
   "id": "695cb52f",
   "metadata": {},
   "outputs": [],
   "source": [
    "def addition_2(a,b, *args, c = 10): # Sequence used >> Positional >>  Arbitary Postional >> Default Argument \n",
    "    print(args)                     ## Follow this sequence\n",
    "    print(c)\n",
    "    add = a + b + c\n",
    "    for i in args:\n",
    "        add = add + i\n",
    "    return add"
   ]
  },
  {
   "cell_type": "code",
   "execution_count": 46,
   "id": "7665f89f",
   "metadata": {},
   "outputs": [
    {
     "name": "stdout",
     "output_type": "stream",
     "text": [
      "(3, 4, 5, 7, 8, 91, 11, 12, 1, 3, 12, 123, 3)\n",
      "10\n"
     ]
    },
    {
     "data": {
      "text/plain": [
       "296"
      ]
     },
     "execution_count": 46,
     "metadata": {},
     "output_type": "execute_result"
    }
   ],
   "source": [
    "addition_2(1,2,3,4,5,7,8,91,11,12,1,3,12,123,3)"
   ]
  },
  {
   "cell_type": "code",
   "execution_count": 47,
   "id": "8bc8865d",
   "metadata": {},
   "outputs": [
    {
     "name": "stdout",
     "output_type": "stream",
     "text": [
      "(3, 4, 12, 12, 343, 1, 123234, 10)\n",
      "100\n"
     ]
    },
    {
     "data": {
      "text/plain": [
       "123722"
      ]
     },
     "execution_count": 47,
     "metadata": {},
     "output_type": "execute_result"
    }
   ],
   "source": [
    "addition_2(1,2,3,4,12,12,343,1,123234,10, c = 100)"
   ]
  },
  {
   "cell_type": "markdown",
   "id": "137988ea",
   "metadata": {},
   "source": [
    "### 4. Arbitary Keyword Argument"
   ]
  },
  {
   "cell_type": "code",
   "execution_count": 48,
   "id": "e23315f7",
   "metadata": {},
   "outputs": [],
   "source": [
    "def percentage(phy,chem,math):\n",
    "    percent = ((phy + chem + math)/300)*100\n",
    "    return percent"
   ]
  },
  {
   "cell_type": "code",
   "execution_count": 49,
   "id": "fefa6df7",
   "metadata": {},
   "outputs": [
    {
     "data": {
      "text/plain": [
       "80.0"
      ]
     },
     "execution_count": 49,
     "metadata": {},
     "output_type": "execute_result"
    }
   ],
   "source": [
    "percentage(75,80,85)"
   ]
  },
  {
   "cell_type": "code",
   "execution_count": 50,
   "id": "74c47afb",
   "metadata": {},
   "outputs": [],
   "source": [
    "def percentage(phy, chem, math, eng):\n",
    "    percent = ((phy + chem + math + eng)/400)*100\n",
    "    return percent"
   ]
  },
  {
   "cell_type": "code",
   "execution_count": 51,
   "id": "6141cb00",
   "metadata": {},
   "outputs": [
    {
     "data": {
      "text/plain": [
       "78.75"
      ]
     },
     "execution_count": 51,
     "metadata": {},
     "output_type": "execute_result"
    }
   ],
   "source": [
    "percentage(75,85,82,73)"
   ]
  },
  {
   "cell_type": "code",
   "execution_count": 52,
   "id": "97d035be",
   "metadata": {},
   "outputs": [],
   "source": [
    "def percentage(**kwargs):\n",
    "    print(kwargs)"
   ]
  },
  {
   "cell_type": "code",
   "execution_count": 53,
   "id": "4c1c166e",
   "metadata": {},
   "outputs": [
    {
     "name": "stdout",
     "output_type": "stream",
     "text": [
      "{'phy': 75, 'chem': 82, 'math': 85, 'eng': 75, 'mar': 70, 'voc': 89}\n"
     ]
    }
   ],
   "source": [
    "percentage(phy = 75, chem = 82, math = 85, eng = 75, mar = 70, voc = 89)"
   ]
  },
  {
   "cell_type": "code",
   "execution_count": 54,
   "id": "d3eefa6b",
   "metadata": {},
   "outputs": [],
   "source": [
    "def percentage(**kwargs):\n",
    "    print(kwargs)\n",
    "    percent = (sum(kwargs.values())/(len(kwargs)*100))*100\n",
    "    \n",
    "    return percent\n",
    "    "
   ]
  },
  {
   "cell_type": "code",
   "execution_count": 55,
   "id": "1a644cd6",
   "metadata": {},
   "outputs": [
    {
     "name": "stdout",
     "output_type": "stream",
     "text": [
      "{'phy': 75, 'chem': 82, 'math': 85, 'eng': 75, 'mar': 70, 'voc': 89}\n"
     ]
    },
    {
     "data": {
      "text/plain": [
       "79.33333333333333"
      ]
     },
     "execution_count": 55,
     "metadata": {},
     "output_type": "execute_result"
    }
   ],
   "source": [
    "percentage(phy = 75, chem = 82, math = 85, eng = 75, mar = 70, voc = 89)"
   ]
  },
  {
   "cell_type": "markdown",
   "id": "f1cf40a1",
   "metadata": {},
   "source": [
    "### Combination of Positional Argument, Default Argument, Arbitary Positional, Arbitary Keyword Argument"
   ]
  },
  {
   "cell_type": "code",
   "execution_count": 56,
   "id": "3587150b",
   "metadata": {},
   "outputs": [
    {
     "ename": "SyntaxError",
     "evalue": "invalid syntax (1803816724.py, line 1)",
     "output_type": "error",
     "traceback": [
      "\u001b[1;36m  Input \u001b[1;32mIn [56]\u001b[1;36m\u001b[0m\n\u001b[1;33m    def addition(a,b,c,*args,**kwargs, d = 10):\u001b[0m\n\u001b[1;37m                                       ^\u001b[0m\n\u001b[1;31mSyntaxError\u001b[0m\u001b[1;31m:\u001b[0m invalid syntax\n"
     ]
    }
   ],
   "source": [
    "def addition(a,b,c,*args,**kwargs, d = 10):\n",
    "    add = a + b + c + d\n",
    "    for i in args:\n",
    "        add = add + i\n",
    "    for j in kwargs.values():\n",
    "        add = add + j\n",
    "    return add\n",
    "    "
   ]
  },
  {
   "cell_type": "code",
   "execution_count": 58,
   "id": "bf7784d5",
   "metadata": {},
   "outputs": [],
   "source": [
    "def addition(a,b,c,*args,d = 10, **kwargs): ## Sequence to be followed >> Positional Argument\n",
    "    add = a + b + c + d                     ##                         >> Arbitary Positional Argument\n",
    "    for i in args:                          ##                         >> Default Argument / Keyword Argument\n",
    "        add = add + i                       ##                         >> Arbitary Keyword Argument\n",
    "    for j in kwargs.values():\n",
    "        add = add + j\n",
    "    return add"
   ]
  },
  {
   "cell_type": "code",
   "execution_count": 60,
   "id": "f2e2d3e4",
   "metadata": {},
   "outputs": [
    {
     "data": {
      "text/plain": [
       "82"
      ]
     },
     "execution_count": 60,
     "metadata": {},
     "output_type": "execute_result"
    }
   ],
   "source": [
    "addition(1,2,3,4,5,6,d = 11, e = 13, f = 17, g = 20)"
   ]
  },
  {
   "cell_type": "code",
   "execution_count": 61,
   "id": "741f6a79",
   "metadata": {},
   "outputs": [
    {
     "data": {
      "text/plain": [
       "81"
      ]
     },
     "execution_count": 61,
     "metadata": {},
     "output_type": "execute_result"
    }
   ],
   "source": [
    "addition(1,2,3,4,5,6, e = 13, f = 17, g = 20)"
   ]
  },
  {
   "cell_type": "code",
   "execution_count": 66,
   "id": "00ed689c",
   "metadata": {},
   "outputs": [
    {
     "name": "stdout",
     "output_type": "stream",
     "text": [
      "{'val1': 1, 'val2': 2, 'val3': 3, 'val4': 4}\n"
     ]
    }
   ],
   "source": [
    "key = [\"val1\",\"val2\",\"val3\",\"val4\"]\n",
    "value = [1,2,3,4]\n",
    "\n",
    "dict1 ={k:v for k, v in zip(key,value)}\n",
    "\n",
    "print(dict1)"
   ]
  },
  {
   "cell_type": "code",
   "execution_count": 67,
   "id": "6e5f1cfe",
   "metadata": {},
   "outputs": [
    {
     "name": "stdout",
     "output_type": "stream",
     "text": [
      "('val1', 1)\n",
      "('val2', 2)\n",
      "('val3', 3)\n",
      "('val4', 4)\n"
     ]
    }
   ],
   "source": [
    "for tuple1 in zip(key,value):\n",
    "    print(tuple1)"
   ]
  },
  {
   "cell_type": "code",
   "execution_count": 68,
   "id": "6d2544f2",
   "metadata": {},
   "outputs": [
    {
     "name": "stdout",
     "output_type": "stream",
     "text": [
      "Key :: val1   Value :: 1\n",
      "Key :: val2   Value :: 2\n",
      "Key :: val3   Value :: 3\n",
      "Key :: val4   Value :: 4\n"
     ]
    }
   ],
   "source": [
    "for k, v in zip(key,value):\n",
    "    print(f\"Key :: {k}   Value :: {v}\")"
   ]
  },
  {
   "cell_type": "code",
   "execution_count": null,
   "id": "faba405a",
   "metadata": {},
   "outputs": [],
   "source": []
  }
 ],
 "metadata": {
  "kernelspec": {
   "display_name": "Python 3 (ipykernel)",
   "language": "python",
   "name": "python3"
  },
  "language_info": {
   "codemirror_mode": {
    "name": "ipython",
    "version": 3
   },
   "file_extension": ".py",
   "mimetype": "text/x-python",
   "name": "python",
   "nbconvert_exporter": "python",
   "pygments_lexer": "ipython3",
   "version": "3.10.5"
  }
 },
 "nbformat": 4,
 "nbformat_minor": 5
}
