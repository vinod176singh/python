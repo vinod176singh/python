{
 "cells": [
  {
   "cell_type": "code",
   "execution_count": null,
   "id": "df4b9b7d",
   "metadata": {},
   "outputs": [],
   "source": [
    "Conditional Statemenrts are used for making dicisions\n",
    "\n",
    "if\n",
    "elif >> else if\n",
    "else"
   ]
  },
  {
   "cell_type": "markdown",
   "id": "f7ef3ba3",
   "metadata": {},
   "source": [
    "## Sytax"
   ]
  },
  {
   "cell_type": "code",
   "execution_count": null,
   "id": "a626d712",
   "metadata": {},
   "outputs": [],
   "source": [
    "if condition1: # if this condition is true, this block will be executed\n",
    "    program statement 1\n",
    "    program statement 2\n",
    "    program statement 3\n",
    "\n",
    "elif condition2: # if this conditon is true this block will be executed \n",
    "    program statement 4\n",
    "    program statement 5\n",
    "    program statement 6\n",
    "\n",
    "else: # If both of the above conditions are not true this block will be executed\n",
    "    pragram statement 7\n",
    "    program statement 8\n"
   ]
  },
  {
   "cell_type": "code",
   "execution_count": null,
   "id": "038b1d3a",
   "metadata": {},
   "outputs": [],
   "source": [
    "if condition1:\n",
    "    statement 1\n",
    "    statement 2\n",
    "\n",
    "elif conditon2:\n",
    "    statement 1\n",
    "    statement 2\n",
    "\n",
    "elif conditon3:\n",
    "    statement 1\n",
    "    statement 2\n",
    "\n",
    "elif condition4:\n",
    "    statement 1\n",
    "    statement 2\n",
    "\n",
    "else:\n",
    "    print(\"All above conditions were false\")"
   ]
  },
  {
   "cell_type": "code",
   "execution_count": null,
   "id": "6ddb9336",
   "metadata": {},
   "outputs": [],
   "source": [
    "if condition:\n",
    "    print(\"The condition is true\")"
   ]
  },
  {
   "cell_type": "code",
   "execution_count": null,
   "id": "94698c6f",
   "metadata": {},
   "outputs": [],
   "source": [
    "if condition:\n",
    "    print(\"The condition is true\")\n",
    "\n",
    "else:\n",
    "    print(\"The condition is False\")"
   ]
  },
  {
   "cell_type": "code",
   "execution_count": null,
   "id": "134c2cb0",
   "metadata": {},
   "outputs": [],
   "source": [
    "if condition:\n",
    "    statement 1\n",
    "    statement 2\n",
    "\n",
    "elif condition:\n",
    "    statement 1\n",
    "    statement 2"
   ]
  },
  {
   "cell_type": "code",
   "execution_count": null,
   "id": "ce01dc07",
   "metadata": {},
   "outputs": [],
   "source": [
    "Valid Syntax:\n",
    "\n",
    "if\n",
    "if >> elif\n",
    "if >> elif >> else\n",
    "if >> elif >> elif >> else\n",
    "if >> elif >> elif >> elif >> else\n",
    "if >> elif >> elif >> elif\n",
    "if >> elif >> elif\n",
    "if >> elif\n",
    "if\n",
    "\n",
    "if >> else"
   ]
  },
  {
   "cell_type": "code",
   "execution_count": null,
   "id": "5fa1540e",
   "metadata": {},
   "outputs": [],
   "source": [
    "Invalid Syntax\n",
    "\n",
    "if >> elif >> else >> elif"
   ]
  },
  {
   "cell_type": "code",
   "execution_count": 1,
   "id": "d604f49e",
   "metadata": {},
   "outputs": [],
   "source": [
    "a = 10\n",
    "b = 12\n",
    "\n",
    "if a>b:\n",
    "    print(\"a is greater than b\")"
   ]
  },
  {
   "cell_type": "code",
   "execution_count": 2,
   "id": "3be32cc2",
   "metadata": {},
   "outputs": [
    {
     "name": "stdout",
     "output_type": "stream",
     "text": [
      "a is less than b\n"
     ]
    }
   ],
   "source": [
    "if a < b:\n",
    "    print(\"a is less than b\")"
   ]
  },
  {
   "cell_type": "code",
   "execution_count": 3,
   "id": "6fe77033",
   "metadata": {},
   "outputs": [
    {
     "name": "stdout",
     "output_type": "stream",
     "text": [
      "a is less than b\n"
     ]
    }
   ],
   "source": [
    "a = 10\n",
    "b = 11\n",
    "\n",
    "if a > b:\n",
    "    print(\"a is greater than b\")\n",
    "\n",
    "else:\n",
    "    print(\"a is less than b\")"
   ]
  },
  {
   "cell_type": "code",
   "execution_count": 4,
   "id": "44f24468",
   "metadata": {},
   "outputs": [
    {
     "name": "stdout",
     "output_type": "stream",
     "text": [
      "c is greter than b\n"
     ]
    }
   ],
   "source": [
    "a = 10\n",
    "b = 11\n",
    "c = 12\n",
    "d = 13\n",
    "\n",
    "if a > b:\n",
    "    print(\"a is greater than b\")\n",
    "\n",
    "elif c > b:\n",
    "    print(\"c is greter than b\")\n",
    "\n",
    "elif c > d:\n",
    "    print(\"c is greter than d\")\n",
    "\n",
    "else:\n",
    "    print(\"All above conditions were false\")"
   ]
  },
  {
   "cell_type": "code",
   "execution_count": 5,
   "id": "81310cc5",
   "metadata": {},
   "outputs": [
    {
     "name": "stdout",
     "output_type": "stream",
     "text": [
      "All above conditions were false\n"
     ]
    }
   ],
   "source": [
    "a = 10\n",
    "b = 11\n",
    "c = 12\n",
    "d = 13\n",
    "\n",
    "if a > b:\n",
    "    print(\"a is greater than b\")\n",
    "\n",
    "elif c < b:\n",
    "    print(\"c is greter than b\")\n",
    "\n",
    "elif c > d:\n",
    "    print(\"c is greter than d\")\n",
    "\n",
    "else:\n",
    "    print(\"All above conditions were false\")"
   ]
  },
  {
   "cell_type": "code",
   "execution_count": 6,
   "id": "3e6b8097",
   "metadata": {},
   "outputs": [
    {
     "name": "stdout",
     "output_type": "stream",
     "text": [
      "a is equal to b\n"
     ]
    }
   ],
   "source": [
    "a = 100\n",
    "b = 100\n",
    "\n",
    "if a > b:\n",
    "    print(\"a is greter than b\")\n",
    "\n",
    "elif a == b:\n",
    "    print(\"a is equal to b\")\n",
    "\n",
    "else:\n",
    "    print(\"All above conditions were False\")"
   ]
  },
  {
   "cell_type": "code",
   "execution_count": 7,
   "id": "a74aa134",
   "metadata": {},
   "outputs": [
    {
     "name": "stdout",
     "output_type": "stream",
     "text": [
      "All above conditions were False\n"
     ]
    }
   ],
   "source": [
    "a = 100\n",
    "b = 100\n",
    "\n",
    "if a > b:\n",
    "    print(\"a is greter than b\")\n",
    "\n",
    "elif a < b:\n",
    "    print(\"a is less b\")\n",
    "\n",
    "else:\n",
    "    print(\"All above conditions were False\")"
   ]
  },
  {
   "cell_type": "code",
   "execution_count": 9,
   "id": "3fe0ccf5",
   "metadata": {},
   "outputs": [
    {
     "name": "stdout",
     "output_type": "stream",
     "text": [
      "Enter the number 12\n",
      "The number entered is 12\n"
     ]
    }
   ],
   "source": [
    "a = input(\"Enter the number \")\n",
    "print(f\"The number entered is {a}\")"
   ]
  },
  {
   "cell_type": "code",
   "execution_count": 10,
   "id": "ee5bc952",
   "metadata": {},
   "outputs": [
    {
     "name": "stdout",
     "output_type": "stream",
     "text": [
      "Enter the number 15\n",
      "The number entered is 15\n",
      "The type of input is <class 'str'>\n"
     ]
    }
   ],
   "source": [
    "a = input(\"Enter the number \")\n",
    "print(f\"The number entered is {a}\")\n",
    "print(f\"The type of input is {type(a)}\")"
   ]
  },
  {
   "cell_type": "code",
   "execution_count": 13,
   "id": "9f11ae10",
   "metadata": {},
   "outputs": [
    {
     "name": "stdout",
     "output_type": "stream",
     "text": [
      "Enter the number 12\n",
      "12\n"
     ]
    }
   ],
   "source": [
    "a = input(\"Enter the number \")\n",
    "print(a)"
   ]
  },
  {
   "cell_type": "code",
   "execution_count": 15,
   "id": "6f29c03a",
   "metadata": {},
   "outputs": [
    {
     "name": "stdout",
     "output_type": "stream",
     "text": [
      "Enter the first number 12\n",
      "Enter the second number 12\n",
      "Type of a is <class 'int'>\n",
      "Type of b is <class 'int'>\n"
     ]
    }
   ],
   "source": [
    "a = input(\"Enter the first number \")\n",
    "b = input(\"Enter the second number \")\n",
    "\n",
    "a = int(a)\n",
    "b = int(b)\n",
    "\n",
    "print(f\"Type of a is {type(a)}\")\n",
    "print(f\"Type of b is {type(b)}\")"
   ]
  },
  {
   "cell_type": "code",
   "execution_count": 19,
   "id": "95c90fc4",
   "metadata": {},
   "outputs": [
    {
     "name": "stdout",
     "output_type": "stream",
     "text": [
      "Enter the first number 15\n",
      "Enter the second number 15\n",
      "a = 15   b = 15\n",
      "a and b are equal numbers\n"
     ]
    }
   ],
   "source": [
    "a = input(\"Enter the first number \")\n",
    "b = input(\"Enter the second number \")\n",
    "\n",
    "a = int(a)\n",
    "b = int(b)\n",
    "\n",
    "print(f\"a = {a}   b = {b}\")\n",
    "\n",
    "if a > b:\n",
    "    print(\"a is greater than b\")\n",
    "\n",
    "elif a < b:\n",
    "    print(\"a is less than b\")\n",
    "\n",
    "elif a == b:\n",
    "    print(\"a and b are equal numbers\")\n",
    "\n",
    "else:\n",
    "    print(\"All other conditions were false\")"
   ]
  },
  {
   "cell_type": "code",
   "execution_count": 22,
   "id": "1ce1eba6",
   "metadata": {},
   "outputs": [
    {
     "name": "stdout",
     "output_type": "stream",
     "text": [
      "Enter the first number 15\n",
      "Enter the second number 15\n",
      "a = 15   b = 15\n",
      "a is greater than or equal to b\n"
     ]
    }
   ],
   "source": [
    "a = input(\"Enter the first number \")\n",
    "b = input(\"Enter the second number \")\n",
    "\n",
    "a = int(a)\n",
    "b = int(b)\n",
    "\n",
    "print(f\"a = {a}   b = {b}\")\n",
    "\n",
    "if a >= b:\n",
    "    print(\"a is greater than or equal to b\")\n",
    "\n",
    "elif a <= b:\n",
    "    print(\"a is less than or equal to b\")\n",
    "\n",
    "else:\n",
    "    print(\"All other conditions were false\")"
   ]
  },
  {
   "cell_type": "code",
   "execution_count": 24,
   "id": "00c96803",
   "metadata": {},
   "outputs": [
    {
     "name": "stdout",
     "output_type": "stream",
     "text": [
      "Enter the first number 12\n",
      "Enter the second number 15\n",
      "a = 12   b = 15\n",
      "a is not equal to b\n"
     ]
    }
   ],
   "source": [
    "a = input(\"Enter the first number \")\n",
    "b = input(\"Enter the second number \")\n",
    "\n",
    "a = int(a)\n",
    "b = int(b)\n",
    "\n",
    "print(f\"a = {a}   b = {b}\")\n",
    "\n",
    "if a > b:\n",
    "    print(\"a is greater than or equal to b\")\n",
    "\n",
    "elif a != b:\n",
    "    print(\"a is not equal to b\")\n",
    "\n",
    "else:\n",
    "    print(\"All other conditions were false\")"
   ]
  },
  {
   "cell_type": "markdown",
   "id": "ba3bb8d7",
   "metadata": {},
   "source": [
    "## Logical Operator"
   ]
  },
  {
   "cell_type": "code",
   "execution_count": null,
   "id": "f225b7cf",
   "metadata": {},
   "outputs": [],
   "source": [
    "1. and\n",
    "2. or\n",
    "3. not"
   ]
  },
  {
   "cell_type": "code",
   "execution_count": 25,
   "id": "619b7c3a",
   "metadata": {},
   "outputs": [
    {
     "name": "stdout",
     "output_type": "stream",
     "text": [
      "b is the largest number\n"
     ]
    }
   ],
   "source": [
    "a = 300\n",
    "b = 500\n",
    "c = 250\n",
    "\n",
    "if a > b and a > c:\n",
    "    print(\"a is the largest number\")\n",
    "\n",
    "elif b > a and b > c:\n",
    "    print(\"b is the largest number\")\n",
    "\n",
    "elif c > a and c > b:\n",
    "    print(\"c is the largest number\")"
   ]
  },
  {
   "cell_type": "code",
   "execution_count": 27,
   "id": "0f1a6833",
   "metadata": {},
   "outputs": [
    {
     "name": "stdout",
     "output_type": "stream",
     "text": [
      "All above conditions are False\n"
     ]
    }
   ],
   "source": [
    "a,b,c = 20,25,20\n",
    "\n",
    "if a > b and b > c:  # false  # True >> False\n",
    "    print(\"a is largest number\")\n",
    "\n",
    "elif c > b and b > a:  # False ## True >> False\n",
    "    print(\"c is the largest number\")\n",
    "\n",
    "elif b > a and a > c:  ## True ## False >> False\n",
    "    print(\"b is the largest number\")\n",
    "\n",
    "else:\n",
    "    print(\"All above conditions are False\")"
   ]
  },
  {
   "cell_type": "code",
   "execution_count": 28,
   "id": "3af06eb9",
   "metadata": {},
   "outputs": [
    {
     "name": "stdout",
     "output_type": "stream",
     "text": [
      "B is greater than one of the number\n"
     ]
    }
   ],
   "source": [
    "a,b,c = 20,25,20\n",
    "\n",
    "if a > b or a > c:  ## False  ## False  >> False\n",
    "    print(\"a is greater than one of the number\")\n",
    "\n",
    "elif b > a or b > c:  ## True ## True  >> True\n",
    "    print(\"B is greater than one of the number\")\n",
    "\n",
    "elif c > a or c > b:  ## False ## False >> False\n",
    "    print(\"c is greater than one of the number\")\n",
    "\n",
    "elif c == a or c > b: ## True ## False >> True\n",
    "    print(\"C is equal any one of the number\")"
   ]
  },
  {
   "cell_type": "code",
   "execution_count": 29,
   "id": "9bdb418e",
   "metadata": {},
   "outputs": [
    {
     "name": "stdout",
     "output_type": "stream",
     "text": [
      "B is greater than one of the number\n",
      "C is equal any one of the number\n"
     ]
    }
   ],
   "source": [
    "a,b,c = 20,25,20\n",
    "\n",
    "if a > b or a > c:  ## False  ## False  >> False\n",
    "    print(\"a is greater than one of the number\")\n",
    "\n",
    "elif b > a or b > c:  ## True ## True  >> True\n",
    "    print(\"B is greater than one of the number\")\n",
    "\n",
    "elif c > a or c > b:  ## False ## False >> False\n",
    "    print(\"c is greater than one of the number\")\n",
    "\n",
    "if c == a or c > b: ## True ## False >> True\n",
    "    print(\"C is equal any one of the number\")"
   ]
  },
  {
   "cell_type": "code",
   "execution_count": 30,
   "id": "9e11bf78",
   "metadata": {},
   "outputs": [
    {
     "name": "stdout",
     "output_type": "stream",
     "text": [
      "B is greater than one of the number\n",
      "C is equal any one of the number\n"
     ]
    }
   ],
   "source": [
    "a,b,c = 20,25,20\n",
    "\n",
    "if a > b or a > c:  ## False  ## False  >> False\n",
    "    print(\"a is greater than one of the number\")\n",
    "\n",
    "if b > a or b > c:  ## True ## True  >> True\n",
    "    print(\"B is greater than one of the number\")\n",
    "\n",
    "if c > a or c > b:  ## False ## False >> False\n",
    "    print(\"c is greater than one of the number\")\n",
    "\n",
    "if c == a or c > b: ## True ## False >> True\n",
    "    print(\"C is equal any one of the number\")"
   ]
  },
  {
   "cell_type": "code",
   "execution_count": 37,
   "id": "df47df14",
   "metadata": {},
   "outputs": [
    {
     "name": "stdout",
     "output_type": "stream",
     "text": [
      "a is greater than one of the number\n",
      "B is greater than one of the number\n",
      "C is equal any one of the number\n"
     ]
    }
   ],
   "source": [
    "a,b,c = 20,25,20\n",
    "\n",
    "if not a > b and not a > c:  ## True  ## True >> True\n",
    "    print(\"a is greater than one of the number\")\n",
    "\n",
    "if b > a or b > c:  ## True ## True  >> True\n",
    "    print(\"B is greater than one of the number\")\n",
    "\n",
    "if c > a or c > b:  ## False ## False >> False\n",
    "    print(\"c is greater than one of the number\")\n",
    "\n",
    "if c == a or c > b: ## True ## False >> True\n",
    "    print(\"C is equal any one of the number\")"
   ]
  },
  {
   "cell_type": "code",
   "execution_count": 42,
   "id": "59f76b3b",
   "metadata": {},
   "outputs": [
    {
     "name": "stdout",
     "output_type": "stream",
     "text": [
      "Enter first number 13\n",
      "Enter second number 12\n",
      "Enter third number 132\n",
      "132 is the gretest number\n"
     ]
    }
   ],
   "source": [
    "a = int(input(\"Enter first number \"))\n",
    "b = int(input(\"Enter second number \"))\n",
    "c = int(input(\"Enter third number \"))\n",
    "\n",
    "if a > b and a > c:\n",
    "    print(f\"{a} is the grestest number\")\n",
    "elif b > c and b > a:\n",
    "    print(f\"{b} is the gretest number\")\n",
    "elif c > b and c > a :\n",
    "    print(f\"{c} is the gretest number\")\n",
    "elif a == b and b == c:\n",
    "    print(\"All the numbers are equal\")\n",
    "elif a == c and a > b:\n",
    "    print(f\"{a} and {c} are equal and greater than {b}\")\n",
    "    "
   ]
  },
  {
   "cell_type": "code",
   "execution_count": null,
   "id": "f58ac60f",
   "metadata": {},
   "outputs": [],
   "source": []
  }
 ],
 "metadata": {
  "kernelspec": {
   "display_name": "Python 3 (ipykernel)",
   "language": "python",
   "name": "python3"
  },
  "language_info": {
   "codemirror_mode": {
    "name": "ipython",
    "version": 3
   },
   "file_extension": ".py",
   "mimetype": "text/x-python",
   "name": "python",
   "nbconvert_exporter": "python",
   "pygments_lexer": "ipython3",
   "version": "3.10.5"
  }
 },
 "nbformat": 4,
 "nbformat_minor": 5
}
