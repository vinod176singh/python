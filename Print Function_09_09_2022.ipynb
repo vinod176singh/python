{
 "cells": [
  {
   "cell_type": "code",
   "execution_count": 1,
   "id": "5e4d0787",
   "metadata": {},
   "outputs": [],
   "source": [
    "a = \"Yeh String Hai!\"\n",
    "b = 'Yeh bhi string hai!'\n",
    "c = \"\"\"Yeh bhi string hi hai!\"\"\"\n",
    "\n",
    "d = 10\n",
    "e = 10.22\n",
    "\n",
    "f = [1,2,3,4]\n",
    "\n",
    "g = (1,2,3,4)\n",
    "\n",
    "h = {\"Name\":\"Virat\", \"Surname\":\"Kohli\",\"Century\":\"Bas Kal ki baat hai!\"}\n",
    "\n",
    "i = {1,2,3,4}\n",
    "\n",
    "j = True"
   ]
  },
  {
   "cell_type": "code",
   "execution_count": 2,
   "id": "1c4f2869",
   "metadata": {},
   "outputs": [
    {
     "name": "stdout",
     "output_type": "stream",
     "text": [
      "Yeh String Hai!\n"
     ]
    }
   ],
   "source": [
    "print(a)"
   ]
  },
  {
   "cell_type": "code",
   "execution_count": 3,
   "id": "b16db4f2",
   "metadata": {},
   "outputs": [
    {
     "data": {
      "text/plain": [
       "'Yeh String Hai!'"
      ]
     },
     "execution_count": 3,
     "metadata": {},
     "output_type": "execute_result"
    }
   ],
   "source": [
    "a # Jupyter Notebook Output"
   ]
  },
  {
   "cell_type": "code",
   "execution_count": 4,
   "id": "f33f592c",
   "metadata": {},
   "outputs": [
    {
     "name": "stdout",
     "output_type": "stream",
     "text": [
      "Yeh bhi string hai!\n"
     ]
    }
   ],
   "source": [
    "print(b)"
   ]
  },
  {
   "cell_type": "code",
   "execution_count": 5,
   "id": "7971d684",
   "metadata": {},
   "outputs": [
    {
     "data": {
      "text/plain": [
       "'Yeh bhi string hai!'"
      ]
     },
     "execution_count": 5,
     "metadata": {},
     "output_type": "execute_result"
    }
   ],
   "source": [
    "b # Jupyter Notebook Output"
   ]
  },
  {
   "cell_type": "code",
   "execution_count": 6,
   "id": "cba1564a",
   "metadata": {},
   "outputs": [
    {
     "name": "stdout",
     "output_type": "stream",
     "text": [
      "Yeh bhi string hi hai!\n"
     ]
    }
   ],
   "source": [
    "print(c)"
   ]
  },
  {
   "cell_type": "code",
   "execution_count": 7,
   "id": "0e0dcb95",
   "metadata": {},
   "outputs": [
    {
     "data": {
      "text/plain": [
       "'Yeh bhi string hi hai!'"
      ]
     },
     "execution_count": 7,
     "metadata": {},
     "output_type": "execute_result"
    }
   ],
   "source": [
    "c  # Jupyter Notebook Output"
   ]
  },
  {
   "cell_type": "code",
   "execution_count": 8,
   "id": "5df47c4d",
   "metadata": {},
   "outputs": [
    {
     "name": "stdout",
     "output_type": "stream",
     "text": [
      "Yeh String Hai! Yeh bhi string hai! Yeh bhi string hi hai!\n"
     ]
    }
   ],
   "source": [
    "print(a,b,c)"
   ]
  },
  {
   "cell_type": "code",
   "execution_count": 9,
   "id": "2f23f94d",
   "metadata": {},
   "outputs": [
    {
     "name": "stdout",
     "output_type": "stream",
     "text": [
      "Yeh String Hai! 10\n"
     ]
    }
   ],
   "source": [
    "print(a,d)"
   ]
  },
  {
   "cell_type": "markdown",
   "id": "114678ac",
   "metadata": {},
   "source": [
    "# Seperator"
   ]
  },
  {
   "cell_type": "code",
   "execution_count": 10,
   "id": "a04b90b5",
   "metadata": {},
   "outputs": [
    {
     "name": "stdout",
     "output_type": "stream",
     "text": [
      "Yeh String Hai! Yeh bhi string hai! Yeh bhi string hi hai! 10 10.22 [1, 2, 3, 4] (1, 2, 3, 4)\n"
     ]
    }
   ],
   "source": [
    "print(a,b,c,d,e,f,g)"
   ]
  },
  {
   "cell_type": "code",
   "execution_count": 11,
   "id": "af9deeee",
   "metadata": {},
   "outputs": [
    {
     "name": "stdout",
     "output_type": "stream",
     "text": [
      "Yeh String Hai! Yeh bhi string hai! Yeh bhi string hi hai! 10 10.22 [1, 2, 3, 4] (1, 2, 3, 4)\n"
     ]
    }
   ],
   "source": [
    "print(a,b,c,d,e,f,g, sep = \" \") # Same Output as above"
   ]
  },
  {
   "cell_type": "code",
   "execution_count": 12,
   "id": "fbfdf686",
   "metadata": {},
   "outputs": [
    {
     "name": "stdout",
     "output_type": "stream",
     "text": [
      "Yeh String Hai!Yeh bhi string hai!Yeh bhi string hi hai!1010.22[1, 2, 3, 4](1, 2, 3, 4)\n"
     ]
    }
   ],
   "source": [
    "print(a,b,c,d,e,f,g, sep = \"\")"
   ]
  },
  {
   "cell_type": "code",
   "execution_count": 13,
   "id": "82b6b708",
   "metadata": {},
   "outputs": [
    {
     "name": "stdout",
     "output_type": "stream",
     "text": [
      "Yeh String Hai!+Yeh bhi string hai!+Yeh bhi string hi hai!+10+10.22+[1, 2, 3, 4]+(1, 2, 3, 4)\n"
     ]
    }
   ],
   "source": [
    "print(a,b,c,d,e,f,g, sep = \"+\")"
   ]
  },
  {
   "cell_type": "code",
   "execution_count": 14,
   "id": "629797fb",
   "metadata": {},
   "outputs": [
    {
     "name": "stdout",
     "output_type": "stream",
     "text": [
      "Yeh String Hai!*+*Yeh bhi string hai!*+*Yeh bhi string hi hai!*+*10*+*10.22*+*[1, 2, 3, 4]*+*(1, 2, 3, 4)\n"
     ]
    }
   ],
   "source": [
    "print(a,b,c,d,e,f,g, sep = \"*+*\")"
   ]
  },
  {
   "cell_type": "code",
   "execution_count": 15,
   "id": "3f8e7d8f",
   "metadata": {},
   "outputs": [
    {
     "name": "stdout",
     "output_type": "stream",
     "text": [
      "Yeh String Hai!\n",
      "Yeh bhi string hai!\n",
      "Yeh bhi string hi hai!\n",
      "10\n",
      "10.22\n",
      "[1, 2, 3, 4]\n",
      "(1, 2, 3, 4)\n"
     ]
    }
   ],
   "source": [
    "print(a,b,c,d,e,f,g, sep = \"\\n\") # \\n is a new line character "
   ]
  },
  {
   "cell_type": "markdown",
   "id": "5383f763",
   "metadata": {},
   "source": [
    "# End"
   ]
  },
  {
   "cell_type": "code",
   "execution_count": null,
   "id": "8cdf0426",
   "metadata": {},
   "outputs": [],
   "source": [
    "print() ## TO check the fucntionality of any Built in Function take cursor to the parenthesis and press shift + tab"
   ]
  },
  {
   "cell_type": "code",
   "execution_count": 16,
   "id": "d12845d8",
   "metadata": {},
   "outputs": [
    {
     "name": "stdout",
     "output_type": "stream",
     "text": [
      "Yeh String Hai!\n",
      "Yeh bhi string hai!\n",
      "Yeh bhi string hi hai!\n",
      "10\n",
      "10.22\n",
      "[1, 2, 3, 4]\n"
     ]
    }
   ],
   "source": [
    "print(a)\n",
    "print(b)\n",
    "print(c)\n",
    "print(d)\n",
    "print(e)\n",
    "print(f)"
   ]
  },
  {
   "cell_type": "code",
   "execution_count": 17,
   "id": "e2037a6e",
   "metadata": {},
   "outputs": [
    {
     "name": "stdout",
     "output_type": "stream",
     "text": [
      "Yeh String Hai!\n",
      "Yeh bhi string hai!\n",
      "Yeh bhi string hi hai!\n",
      "10\n",
      "10.22\n",
      "[1, 2, 3, 4]\n"
     ]
    }
   ],
   "source": [
    "print(a, end = \"\\n\")\n",
    "print(b, end = \"\\n\")\n",
    "print(c, end = \"\\n\")\n",
    "print(d, end = \"\\n\")\n",
    "print(e, end = \"\\n\")\n",
    "print(f, end = \"\\n\") ## Print same as above"
   ]
  },
  {
   "cell_type": "code",
   "execution_count": 18,
   "id": "422f5095",
   "metadata": {},
   "outputs": [
    {
     "name": "stdout",
     "output_type": "stream",
     "text": [
      "Yeh String Hai! Yeh bhi string hai! Yeh bhi string hi hai! 10 10.22 [1, 2, 3, 4] "
     ]
    }
   ],
   "source": [
    "print(a, end = \" \")\n",
    "print(b, end = \" \")\n",
    "print(c, end = \" \")\n",
    "print(d, end = \" \")\n",
    "print(e, end = \" \")\n",
    "print(f, end = \" \")"
   ]
  },
  {
   "cell_type": "code",
   "execution_count": 19,
   "id": "c775f7a6",
   "metadata": {},
   "outputs": [
    {
     "name": "stdout",
     "output_type": "stream",
     "text": [
      "Yeh String Hai!*Yeh bhi string hai!*Yeh bhi string hi hai!*10*10.22*[1, 2, 3, 4]*"
     ]
    }
   ],
   "source": [
    "print(a, end = \"*\")\n",
    "print(b, end = \"*\")\n",
    "print(c, end = \"*\")\n",
    "print(d, end = \"*\")\n",
    "print(e, end = \"*\")\n",
    "print(f, end = \"*\")"
   ]
  },
  {
   "cell_type": "code",
   "execution_count": 20,
   "id": "329ffb27",
   "metadata": {},
   "outputs": [
    {
     "name": "stdout",
     "output_type": "stream",
     "text": [
      "Yeh String Hai!\n",
      "\n",
      "\n",
      "\n",
      "Yeh bhi string hai!\n",
      "\n",
      "\n",
      "\n",
      "Yeh bhi string hi hai!\n",
      "\n",
      "\n",
      "\n",
      "10\n",
      "\n",
      "\n",
      "\n",
      "10.22\n",
      "\n",
      "\n",
      "\n",
      "[1, 2, 3, 4]\n",
      "\n",
      "\n",
      "\n"
     ]
    }
   ],
   "source": [
    "print(a, end = \"\\n\\n\\n\\n\")\n",
    "print(b, end = \"\\n\\n\\n\\n\")\n",
    "print(c, end = \"\\n\\n\\n\\n\")\n",
    "print(d, end = \"\\n\\n\\n\\n\")\n",
    "print(e, end = \"\\n\\n\\n\\n\")\n",
    "print(f, end = \"\\n\\n\\n\\n\")"
   ]
  },
  {
   "cell_type": "markdown",
   "id": "05753984",
   "metadata": {},
   "source": [
    "## Formatting the print function"
   ]
  },
  {
   "cell_type": "code",
   "execution_count": 21,
   "id": "6e3b30ca",
   "metadata": {},
   "outputs": [
    {
     "name": "stdout",
     "output_type": "stream",
     "text": [
      "Value of variable a is: Yeh String Hai!\n"
     ]
    }
   ],
   "source": [
    "k = \"Value of variable a is:\"\n",
    "print(k,a)"
   ]
  },
  {
   "cell_type": "code",
   "execution_count": 22,
   "id": "305ec7ca",
   "metadata": {},
   "outputs": [
    {
     "name": "stdout",
     "output_type": "stream",
     "text": [
      "Value of variable d is: 10\n"
     ]
    }
   ],
   "source": [
    "k = \"Value of variable d is:\"\n",
    "print(k,d)"
   ]
  },
  {
   "cell_type": "code",
   "execution_count": 25,
   "id": "b24ea11b",
   "metadata": {},
   "outputs": [
    {
     "name": "stdout",
     "output_type": "stream",
     "text": [
      "Value of variable d is:\n"
     ]
    }
   ],
   "source": [
    "print(k)"
   ]
  },
  {
   "cell_type": "code",
   "execution_count": 23,
   "id": "25cebcfb",
   "metadata": {},
   "outputs": [
    {
     "name": "stdout",
     "output_type": "stream",
     "text": [
      "Value of variable d is:: 10\n"
     ]
    }
   ],
   "source": [
    "print(\"Value of variable d is::\", d)"
   ]
  },
  {
   "cell_type": "code",
   "execution_count": 26,
   "id": "6ed3a111",
   "metadata": {},
   "outputs": [
    {
     "name": "stdout",
     "output_type": "stream",
     "text": [
      "Value of variable e is:: 10.22\n"
     ]
    }
   ],
   "source": [
    "print(\"Value of variable e is::\", e)"
   ]
  },
  {
   "cell_type": "code",
   "execution_count": 27,
   "id": "53344ba8",
   "metadata": {},
   "outputs": [
    {
     "name": "stdout",
     "output_type": "stream",
     "text": [
      "Value of a is: 20\n",
      "Value of b is: 30\n",
      "Their addition is: 50\n"
     ]
    }
   ],
   "source": [
    "a = 20\n",
    "b = 30\n",
    "addition = a + b\n",
    "\n",
    "print(\"Value of a is:\", a)\n",
    "print(\"Value of b is:\", b)\n",
    "print(\"Their addition is:\", addition)"
   ]
  },
  {
   "cell_type": "code",
   "execution_count": 28,
   "id": "3f248504",
   "metadata": {},
   "outputs": [
    {
     "name": "stdout",
     "output_type": "stream",
     "text": [
      "Value of a is: 20\n",
      "Value of b is: 30\n",
      "Their addition is: 50\n"
     ]
    }
   ],
   "source": [
    "a = 20\n",
    "b = 30\n",
    "\n",
    "print(\"Value of a is:\", a)\n",
    "print(\"Value of b is:\", b)\n",
    "print(\"Their addition is:\", a+b)"
   ]
  },
  {
   "cell_type": "code",
   "execution_count": 30,
   "id": "d70a5390",
   "metadata": {},
   "outputs": [
    {
     "name": "stdout",
     "output_type": "stream",
     "text": [
      "Value of a is: 20 Value of b is: 30\n",
      "Their addition is: 50\n"
     ]
    }
   ],
   "source": [
    "a = 20\n",
    "b = 30\n",
    "\n",
    "print(\"Value of a is:\", a, end = \" \")\n",
    "print(\"Value of b is:\", b)\n",
    "print(\"Their addition is:\", a+b)"
   ]
  },
  {
   "cell_type": "code",
   "execution_count": 32,
   "id": "eeaac273",
   "metadata": {},
   "outputs": [
    {
     "name": "stdout",
     "output_type": "stream",
     "text": [
      "Value of a is: 20      Value of b is: 30 Their addition is: 50\n"
     ]
    }
   ],
   "source": [
    "a = 20\n",
    "b = 30\n",
    "\n",
    "print(\"Value of a is:\", a, end = \" \")\n",
    "print(\"Value of b is:\", b, end = \" \")\n",
    "print(\"Their addition is:\", a+b)"
   ]
  },
  {
   "cell_type": "code",
   "execution_count": 34,
   "id": "a5651ad1",
   "metadata": {},
   "outputs": [
    {
     "name": "stdout",
     "output_type": "stream",
     "text": [
      "Value of a is: 20            Value of b is: 30            Their addition is: 50\n"
     ]
    }
   ],
   "source": [
    "a = 20\n",
    "b = 30\n",
    "\n",
    "print(\"Value of a is:\", a, end = \"            \")\n",
    "print(\"Value of b is:\", b, end = \"            \")\n",
    "print(\"Their addition is:\", a+b)"
   ]
  },
  {
   "cell_type": "markdown",
   "id": "472be88b",
   "metadata": {},
   "source": [
    "# f string"
   ]
  },
  {
   "cell_type": "code",
   "execution_count": 35,
   "id": "12ee56fc",
   "metadata": {},
   "outputs": [
    {
     "name": "stdout",
     "output_type": "stream",
     "text": [
      "Value of a is:{a}\n"
     ]
    }
   ],
   "source": [
    "a = 20\n",
    "b = 77\n",
    "\n",
    "addition = a + b\n",
    "\n",
    "print(\"Value of a is:{a}\")"
   ]
  },
  {
   "cell_type": "code",
   "execution_count": 36,
   "id": "21841afe",
   "metadata": {},
   "outputs": [
    {
     "name": "stdout",
     "output_type": "stream",
     "text": [
      "Value of a is:20\n"
     ]
    }
   ],
   "source": [
    "print(f\"Value of a is:{a}\")"
   ]
  },
  {
   "cell_type": "code",
   "execution_count": 37,
   "id": "f7c82426",
   "metadata": {},
   "outputs": [
    {
     "name": "stdout",
     "output_type": "stream",
     "text": [
      "Value of b is:77\n"
     ]
    }
   ],
   "source": [
    "print(f\"Value of b is:{b}\")"
   ]
  },
  {
   "cell_type": "code",
   "execution_count": 38,
   "id": "77193db7",
   "metadata": {},
   "outputs": [
    {
     "name": "stdout",
     "output_type": "stream",
     "text": [
      "Value of b is: 77\n"
     ]
    }
   ],
   "source": [
    "print(f\"Value of b is: {b}\")"
   ]
  },
  {
   "cell_type": "code",
   "execution_count": 39,
   "id": "c751044c",
   "metadata": {},
   "outputs": [
    {
     "name": "stdout",
     "output_type": "stream",
     "text": [
      "Value of a is:20, and b is 77\n"
     ]
    }
   ],
   "source": [
    "a = 20\n",
    "b = 77\n",
    "\n",
    "addition = a + b\n",
    "\n",
    "print(f\"Value of a is:{a}, and b is:{b}\")"
   ]
  },
  {
   "cell_type": "code",
   "execution_count": 40,
   "id": "06bd8e30",
   "metadata": {},
   "outputs": [
    {
     "name": "stdout",
     "output_type": "stream",
     "text": [
      "Value of a is:20, and b is:77 and their addition is 97\n"
     ]
    }
   ],
   "source": [
    "print(f\"Value of a is:{a}, and b is:{b} and their addition is {addition}\")"
   ]
  },
  {
   "cell_type": "code",
   "execution_count": 41,
   "id": "65eed745",
   "metadata": {},
   "outputs": [
    {
     "name": "stdout",
     "output_type": "stream",
     "text": [
      "Value of a is:20, and b is:77 and their addition is 97\n"
     ]
    }
   ],
   "source": [
    "print(f\"Value of a is:{a}, and b is:{b} and their addition is {a + b}\")"
   ]
  },
  {
   "cell_type": "code",
   "execution_count": 42,
   "id": "316a187b",
   "metadata": {},
   "outputs": [
    {
     "name": "stdout",
     "output_type": "stream",
     "text": [
      "The Value of variable e is 10.22\n"
     ]
    }
   ],
   "source": [
    "print(f\"The Value of variable e is {e}\")"
   ]
  },
  {
   "cell_type": "code",
   "execution_count": 43,
   "id": "c65f5105",
   "metadata": {},
   "outputs": [
    {
     "name": "stdout",
     "output_type": "stream",
     "text": [
      "The Value of variable f is [1, 2, 3, 4]\n"
     ]
    }
   ],
   "source": [
    "print(f\"The Value of variable f is {f}\")"
   ]
  },
  {
   "cell_type": "markdown",
   "id": "400113dd",
   "metadata": {},
   "source": [
    "# Format string"
   ]
  },
  {
   "cell_type": "code",
   "execution_count": 44,
   "id": "833fa1c7",
   "metadata": {},
   "outputs": [
    {
     "name": "stdout",
     "output_type": "stream",
     "text": [
      "The value of a is:20\n"
     ]
    }
   ],
   "source": [
    "a = 20\n",
    "b = 77\n",
    "\n",
    "addition = a + b\n",
    "\n",
    "print(\"The value of a is:{}\".format(a))"
   ]
  },
  {
   "cell_type": "code",
   "execution_count": 45,
   "id": "f08de207",
   "metadata": {},
   "outputs": [
    {
     "name": "stdout",
     "output_type": "stream",
     "text": [
      "The value of b is: {}\n"
     ]
    }
   ],
   "source": [
    "print(\"The value of b is: {}\")"
   ]
  },
  {
   "cell_type": "code",
   "execution_count": 48,
   "id": "41f9894c",
   "metadata": {},
   "outputs": [
    {
     "name": "stdout",
     "output_type": "stream",
     "text": [
      "The value of b is: 77\n"
     ]
    }
   ],
   "source": [
    "print(\"The value of b is: {}\".format(b))"
   ]
  },
  {
   "cell_type": "code",
   "execution_count": 49,
   "id": "680edd1e",
   "metadata": {},
   "outputs": [
    {
     "name": "stdout",
     "output_type": "stream",
     "text": [
      "The value of a is 20 and b is 77\n"
     ]
    }
   ],
   "source": [
    "print(\"The value of a is {} and b is {}\".format(a,b))"
   ]
  },
  {
   "cell_type": "code",
   "execution_count": 50,
   "id": "b2a05b63",
   "metadata": {},
   "outputs": [
    {
     "name": "stdout",
     "output_type": "stream",
     "text": [
      "The value of a is 20 and b is 77 and their addition is 97\n"
     ]
    }
   ],
   "source": [
    "print(\"The value of a is {} and b is {} and their addition is {}\".format(a,b, addition))"
   ]
  },
  {
   "cell_type": "code",
   "execution_count": 51,
   "id": "cfd80b83",
   "metadata": {},
   "outputs": [
    {
     "name": "stdout",
     "output_type": "stream",
     "text": [
      "The value of a is 20 and b is 77 and their addition is 97\n"
     ]
    }
   ],
   "source": [
    "print(\"The value of a is {} and b is {} and their addition is {}\".format(a,b,a+b))"
   ]
  },
  {
   "cell_type": "code",
   "execution_count": null,
   "id": "9c7350c8",
   "metadata": {},
   "outputs": [],
   "source": [
    "print(\"The value of a is {} and b is {} and their addition is {}\".format(a,b,a+b))"
   ]
  },
  {
   "cell_type": "markdown",
   "id": "39f7b60c",
   "metadata": {},
   "source": [
    "# Using string formatting outside of string function"
   ]
  },
  {
   "cell_type": "code",
   "execution_count": 52,
   "id": "0c50de22",
   "metadata": {},
   "outputs": [
    {
     "name": "stdout",
     "output_type": "stream",
     "text": [
      "The value of a is 10 and b is 20 and their addition is 30\n"
     ]
    }
   ],
   "source": [
    "a = 10\n",
    "b = 20\n",
    "c = a + b\n",
    "\n",
    "d = f\"The value of a is {a} and b is {b} and their addition is {c}\"\n",
    "\n",
    "print(d)"
   ]
  },
  {
   "cell_type": "code",
   "execution_count": 53,
   "id": "01542742",
   "metadata": {},
   "outputs": [
    {
     "name": "stdout",
     "output_type": "stream",
     "text": [
      "The value of a is 10 and b is 20 and their addition is 30\n"
     ]
    }
   ],
   "source": [
    "a = 10\n",
    "b = 20\n",
    "c = a + b\n",
    "\n",
    "d = \"The value of a is {} and b is {} and their addition is {}\".format(a,b,c)\n",
    "\n",
    "print(d)"
   ]
  },
  {
   "cell_type": "code",
   "execution_count": 56,
   "id": "1ecfebd3",
   "metadata": {},
   "outputs": [
    {
     "name": "stdout",
     "output_type": "stream",
     "text": [
      " 10  20 30\n"
     ]
    }
   ],
   "source": [
    "a = 10\n",
    "b = 20\n",
    "c = a + b\n",
    "\n",
    "d = \" {}  {} {}\".format(a,b,c)\n",
    "\n",
    "print(d)"
   ]
  },
  {
   "cell_type": "code",
   "execution_count": 55,
   "id": "1f69be5c",
   "metadata": {},
   "outputs": [
    {
     "name": "stdout",
     "output_type": "stream",
     "text": [
      "C:/Movies/Best Python Movie\n"
     ]
    }
   ],
   "source": [
    "## Writting a file path\n",
    "\n",
    "folder_name = \"Movies\"\n",
    "file_name = \"Best Python Movie\"\n",
    "\n",
    "main = f\"C:/{folder_name}/{file_name}\"\n",
    "\n",
    "print(main)"
   ]
  },
  {
   "cell_type": "markdown",
   "id": "94412f8e",
   "metadata": {},
   "source": [
    "# % Operator"
   ]
  },
  {
   "cell_type": "code",
   "execution_count": 57,
   "id": "a89cf725",
   "metadata": {},
   "outputs": [
    {
     "name": "stdout",
     "output_type": "stream",
     "text": [
      "The value of a is 10 and b is 20 and their addition is 30\n"
     ]
    }
   ],
   "source": [
    "a = 10\n",
    "b = 20\n",
    "c = a + b\n",
    "\n",
    "print(\"The value of a is {} and b is {} and their addition is {}\".format(a,b,c))"
   ]
  },
  {
   "cell_type": "code",
   "execution_count": 58,
   "id": "d983d433",
   "metadata": {},
   "outputs": [
    {
     "name": "stdout",
     "output_type": "stream",
     "text": [
      "The value of a is 10 and b is 20 and their addition is 30\n",
      "The value of a is 10 and b is 20 and their addition is 30\n"
     ]
    }
   ],
   "source": [
    "a = 10\n",
    "b = 20\n",
    "c = a + b\n",
    "\n",
    "print(\"The value of a is {} and b is {} and their addition is {}\".format(a,b,c))\n",
    "print(\"The value of a is %d and b is %d and their addition is %d\" %(a,b,c)) # When we are dealing with integer only use d,i"
   ]
  },
  {
   "cell_type": "code",
   "execution_count": 59,
   "id": "8a315ec6",
   "metadata": {},
   "outputs": [
    {
     "name": "stdout",
     "output_type": "stream",
     "text": [
      "The value of a is 10 and b is 20 and their addition is 30\n"
     ]
    }
   ],
   "source": [
    "print(\"The value of a is %i and b is %i and their addition is %i\" %(a,b,c))"
   ]
  },
  {
   "cell_type": "code",
   "execution_count": 60,
   "id": "9f311029",
   "metadata": {},
   "outputs": [
    {
     "name": "stdout",
     "output_type": "stream",
     "text": [
      "The value of a is 10 and b is 20 and their addition is 30\n"
     ]
    }
   ],
   "source": [
    "a = 10\n",
    "b = 20.55\n",
    "c = a + b\n",
    "print(\"The value of a is %d and b is %d and their addition is %d\" %(a,b,c))"
   ]
  },
  {
   "cell_type": "code",
   "execution_count": 61,
   "id": "1f9a927d",
   "metadata": {},
   "outputs": [
    {
     "name": "stdout",
     "output_type": "stream",
     "text": [
      "The value of a is 10 and b is 20.550000 and their addition is 30\n"
     ]
    }
   ],
   "source": [
    "a = 10\n",
    "b = 20.55\n",
    "c = a + b\n",
    "print(\"The value of a is %d and b is %f and their addition is %d\" %(a,b,c)) # %f handles float values"
   ]
  },
  {
   "cell_type": "code",
   "execution_count": 62,
   "id": "bb9973f2",
   "metadata": {},
   "outputs": [
    {
     "name": "stdout",
     "output_type": "stream",
     "text": [
      "The value of a is 10 and b is 20.550000 and their addition is 30.550000\n"
     ]
    }
   ],
   "source": [
    "print(\"The value of a is %d and b is %f and their addition is %f\" %(a,b,c))"
   ]
  },
  {
   "cell_type": "code",
   "execution_count": 63,
   "id": "990d4759",
   "metadata": {},
   "outputs": [
    {
     "name": "stdout",
     "output_type": "stream",
     "text": [
      "The value of a is 10.000000 and b is 20.550000 and their addition is 30.550000\n"
     ]
    }
   ],
   "source": [
    "print(\"The value of a is %f and b is %f and their addition is %f\" %(a,b,c))"
   ]
  },
  {
   "cell_type": "code",
   "execution_count": 64,
   "id": "d6e46d66",
   "metadata": {},
   "outputs": [
    {
     "name": "stdout",
     "output_type": "stream",
     "text": [
      "The value of a is 10 and b is 20.550000 and their addition is 30.550000\n"
     ]
    }
   ],
   "source": [
    "print(\"The value of a is %d and b is %f and their addition is %f\" %(a,b,c))"
   ]
  },
  {
   "cell_type": "code",
   "execution_count": 65,
   "id": "b992e7e0",
   "metadata": {},
   "outputs": [
    {
     "name": "stdout",
     "output_type": "stream",
     "text": [
      "The value of a is 10 and b is 20.55 and their addition is 30.55\n"
     ]
    }
   ],
   "source": [
    "print(\"The value of a is %d and b is %.2f and their addition is %.2f\" %(a,b,c))"
   ]
  },
  {
   "cell_type": "code",
   "execution_count": 67,
   "id": "cb81cf43",
   "metadata": {},
   "outputs": [
    {
     "name": "stdout",
     "output_type": "stream",
     "text": [
      "The value of a is 10 and b is 20.55 and their addition is 30.55\n"
     ]
    }
   ],
   "source": [
    "a = 10\n",
    "b = 20.55\n",
    "c = a + b\n",
    "d = \"The value of a is %d and b is %.2f and their addition is %.2f\" %(a,b,c)\n",
    "print(d)"
   ]
  },
  {
   "cell_type": "code",
   "execution_count": 68,
   "id": "97e842b2",
   "metadata": {},
   "outputs": [
    {
     "name": "stdout",
     "output_type": "stream",
     "text": [
      "The value of a is 11 and b is 20 and their addition is 31\n"
     ]
    }
   ],
   "source": [
    "a = 11.232334534534534534\n",
    "b = 20.557236375263462364\n",
    "c = a + b\n",
    "d = \"The value of a is %d and b is %d and their addition is %d\" %(a,b,c)\n",
    "print(d)"
   ]
  },
  {
   "cell_type": "code",
   "execution_count": 69,
   "id": "a5e73564",
   "metadata": {},
   "outputs": [
    {
     "name": "stdout",
     "output_type": "stream",
     "text": [
      "The value of a is 11 and b is 20 and their addition is 31\n"
     ]
    }
   ],
   "source": [
    "a = 11.232334534534534534\n",
    "b = 20.557236375263462364\n",
    "c = a + b\n",
    "print(\"The value of a is %d and b is %d and their addition is %d\" %(a,b,c))"
   ]
  },
  {
   "cell_type": "code",
   "execution_count": 70,
   "id": "2525797a",
   "metadata": {},
   "outputs": [
    {
     "name": "stdout",
     "output_type": "stream",
     "text": [
      "The value of a is 11.232335 and b is 20.557236 and their addition is 31.789571\n"
     ]
    }
   ],
   "source": [
    "a = 11.232334534534534534\n",
    "b = 20.557236375263462364\n",
    "c = a + b\n",
    "print(\"The value of a is %f and b is %f and their addition is %f\" %(a,b,c))"
   ]
  },
  {
   "cell_type": "code",
   "execution_count": 71,
   "id": "91fbd53d",
   "metadata": {},
   "outputs": [
    {
     "name": "stdout",
     "output_type": "stream",
     "text": [
      "The value of a is 11.2323345 and b is 20.5572364 and their addition is 31.7895709\n"
     ]
    }
   ],
   "source": [
    "a = 11.232334534534534534\n",
    "b = 20.557236375263462364\n",
    "c = a + b\n",
    "print(\"The value of a is %.7f and b is %.7f and their addition is %.7f\" %(a,b,c))"
   ]
  },
  {
   "cell_type": "code",
   "execution_count": 72,
   "id": "994cb8dc",
   "metadata": {},
   "outputs": [
    {
     "name": "stdout",
     "output_type": "stream",
     "text": [
      "The value of a is 11.2323 and b is 20.5572 and their addition is 31.7896\n"
     ]
    }
   ],
   "source": [
    "a = 11.232334534534534534\n",
    "b = 20.557236375263462364\n",
    "c = a + b\n",
    "print(\"The value of a is %.4f and b is %.4f and their addition is %.4f\" %(a,b,c))"
   ]
  },
  {
   "cell_type": "code",
   "execution_count": 74,
   "id": "3abea9ab",
   "metadata": {},
   "outputs": [
    {
     "name": "stdout",
     "output_type": "stream",
     "text": [
      "5.243671e+80\n"
     ]
    }
   ],
   "source": [
    "a = 524367127639642363482734523547612834707621481263846215347623387421634572634752387\n",
    "print(\"%e\"%(a))"
   ]
  },
  {
   "cell_type": "code",
   "execution_count": 75,
   "id": "8bb36015",
   "metadata": {},
   "outputs": [
    {
     "name": "stdout",
     "output_type": "stream",
     "text": [
      "5.243671E+80\n"
     ]
    }
   ],
   "source": [
    "a = 524367127639642363482734523547612834707621481263846215347623387421634572634752387\n",
    "print(\"%E\"%(a))"
   ]
  },
  {
   "cell_type": "code",
   "execution_count": 76,
   "id": "24011900",
   "metadata": {},
   "outputs": [
    {
     "name": "stdout",
     "output_type": "stream",
     "text": [
      "Value of a is 10.243434343 Value of b is 20.234234234 thier addition is 30.477668577\n"
     ]
    }
   ],
   "source": [
    "a = 10.243434343\n",
    "b = 20.234234234\n",
    "c = a + b\n",
    "\n",
    "print(f\"Value of a is {a} Value of b is {b} thier addition is {c}\")"
   ]
  },
  {
   "cell_type": "code",
   "execution_count": 79,
   "id": "60a5e3e1",
   "metadata": {},
   "outputs": [
    {
     "name": "stdout",
     "output_type": "stream",
     "text": [
      "Value of a is 10.24 Value of b is 20.23 thier addition is 30.48\n"
     ]
    }
   ],
   "source": [
    "print(f\"Value of a is {a:.2f} Value of b is {b:.2f} thier addition is {c:.2f}\")"
   ]
  },
  {
   "cell_type": "code",
   "execution_count": null,
   "id": "1b1c9e11",
   "metadata": {},
   "outputs": [],
   "source": []
  }
 ],
 "metadata": {
  "kernelspec": {
   "display_name": "Python 3 (ipykernel)",
   "language": "python",
   "name": "python3"
  },
  "language_info": {
   "codemirror_mode": {
    "name": "ipython",
    "version": 3
   },
   "file_extension": ".py",
   "mimetype": "text/x-python",
   "name": "python",
   "nbconvert_exporter": "python",
   "pygments_lexer": "ipython3",
   "version": "3.10.5"
  }
 },
 "nbformat": 4,
 "nbformat_minor": 5
}
