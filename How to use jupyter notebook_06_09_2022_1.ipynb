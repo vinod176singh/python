{
 "cells": [
  {
   "cell_type": "code",
   "execution_count": 1,
   "id": "e8c9d56b",
   "metadata": {},
   "outputs": [
    {
     "name": "stdout",
     "output_type": "stream",
     "text": [
      "Hello World!\n"
     ]
    }
   ],
   "source": [
    "print(\"Hello World!\")"
   ]
  },
  {
   "cell_type": "code",
   "execution_count": 2,
   "id": "5c8d97af",
   "metadata": {},
   "outputs": [
    {
     "data": {
      "text/plain": [
       "'Hello World!'"
      ]
     },
     "execution_count": 2,
     "metadata": {},
     "output_type": "execute_result"
    }
   ],
   "source": [
    "\"Hello World!\""
   ]
  },
  {
   "cell_type": "code",
   "execution_count": 3,
   "id": "d4f973bd",
   "metadata": {},
   "outputs": [
    {
     "name": "stdout",
     "output_type": "stream",
     "text": [
      "We are in velocity class for Python!\n"
     ]
    }
   ],
   "source": [
    "print(\"We are in velocity class for Python!\")"
   ]
  },
  {
   "cell_type": "code",
   "execution_count": 4,
   "id": "4a5f8bfc",
   "metadata": {},
   "outputs": [
    {
     "name": "stdout",
     "output_type": "stream",
     "text": [
      "We are in velocity class for Python!\n"
     ]
    }
   ],
   "source": [
    "print(\"We are in velocity class for Python!\")"
   ]
  },
  {
   "cell_type": "code",
   "execution_count": null,
   "id": "f74e091c",
   "metadata": {},
   "outputs": [],
   "source": [
    "How to use Jupyter Notebook!?"
   ]
  },
  {
   "cell_type": "code",
   "execution_count": null,
   "id": "e7493a74",
   "metadata": {},
   "outputs": [],
   "source": [
    "\"This is a cell\""
   ]
  },
  {
   "cell_type": "code",
   "execution_count": null,
   "id": "dd63d078",
   "metadata": {},
   "outputs": [],
   "source": [
    "Types of cell >> Code, Markdown, Raw"
   ]
  },
  {
   "cell_type": "code",
   "execution_count": 5,
   "id": "e2ce20a4",
   "metadata": {},
   "outputs": [
    {
     "name": "stdout",
     "output_type": "stream",
     "text": [
      "This is a code cell! We can run this cell by clicking Run Button\n"
     ]
    }
   ],
   "source": [
    "print(\"This is a code cell! We can run this cell by clicking Run Button\")"
   ]
  },
  {
   "cell_type": "code",
   "execution_count": 46,
   "id": "772c3bc6",
   "metadata": {},
   "outputs": [
    {
     "name": "stdout",
     "output_type": "stream",
     "text": [
      "This is also a code cell! we can run this by Control + Enter\n"
     ]
    }
   ],
   "source": [
    "print(\"This is also a code cell! we can run this by Control + Enter\")"
   ]
  },
  {
   "cell_type": "code",
   "execution_count": 47,
   "id": "4e4194d7",
   "metadata": {},
   "outputs": [
    {
     "name": "stdout",
     "output_type": "stream",
     "text": [
      "This is again a code cell! We can run this by Shift + Enter\n"
     ]
    }
   ],
   "source": [
    "print(\"This is again a code cell! We can run this by Shift + Enter\")"
   ]
  },
  {
   "cell_type": "code",
   "execution_count": 48,
   "id": "8f08673a",
   "metadata": {},
   "outputs": [
    {
     "name": "stdout",
     "output_type": "stream",
     "text": [
      "There is one more way to run the cell! We can run cell by Alt + Enter\n"
     ]
    }
   ],
   "source": [
    "print(\"There is one more way to run the cell! We can run cell by Alt + Enter\")"
   ]
  },
  {
   "cell_type": "code",
   "execution_count": null,
   "id": "d0ffe2a6",
   "metadata": {},
   "outputs": [],
   "source": []
  },
  {
   "cell_type": "code",
   "execution_count": null,
   "id": "16a01b29",
   "metadata": {},
   "outputs": [],
   "source": [
    "Control + Enter >> Runs the current cell\n",
    "Shift + Enter   >> Runs the current cell and moves to next one\n",
    "Alt + Enter     >> Runs the current cell and adds fresh cell next to the current one"
   ]
  },
  {
   "cell_type": "code",
   "execution_count": 49,
   "id": "a9c7316c",
   "metadata": {},
   "outputs": [
    {
     "name": "stdout",
     "output_type": "stream",
     "text": [
      "How to get markdown cell?\n"
     ]
    }
   ],
   "source": [
    "print(\"How to get markdown cell?\")"
   ]
  },
  {
   "cell_type": "markdown",
   "id": "c4b6b5b8",
   "metadata": {},
   "source": [
    "# Markdown"
   ]
  },
  {
   "cell_type": "markdown",
   "id": "cfc1a708",
   "metadata": {},
   "source": [
    "# Heading 1"
   ]
  },
  {
   "cell_type": "markdown",
   "id": "bffdd6da",
   "metadata": {},
   "source": [
    "## Heading 2"
   ]
  },
  {
   "cell_type": "markdown",
   "id": "8edcf642",
   "metadata": {},
   "source": [
    "### Heading 3"
   ]
  },
  {
   "cell_type": "markdown",
   "id": "da711664",
   "metadata": {},
   "source": [
    "#### Heading 4"
   ]
  },
  {
   "cell_type": "markdown",
   "id": "41830b8c",
   "metadata": {},
   "source": [
    "### Hash ke baad kuch bhi likho, esc --> m, then shift + enter"
   ]
  },
  {
   "cell_type": "code",
   "execution_count": null,
   "id": "f72ed190",
   "metadata": {},
   "outputs": [],
   "source": [
    "Short cut for Markdown >> Esc --> m then run the cell by shift + Enter"
   ]
  },
  {
   "cell_type": "markdown",
   "id": "f861f3fe",
   "metadata": {},
   "source": [
    "# Markdown 1"
   ]
  },
  {
   "cell_type": "markdown",
   "id": "14554011",
   "metadata": {},
   "source": [
    "<html>\n",
    "<h1> This is HTML heading </h1>\n",
    "</html>"
   ]
  },
  {
   "cell_type": "markdown",
   "id": "aee989e7",
   "metadata": {},
   "source": [
    "<html>\n",
    "<h2> This is HTML heading </h2>\n",
    "</html>"
   ]
  },
  {
   "cell_type": "markdown",
   "id": "e3310567",
   "metadata": {},
   "source": [
    "### This is a Markdown cell, Next is a raw cell"
   ]
  },
  {
   "cell_type": "raw",
   "id": "81c8fc73",
   "metadata": {},
   "source": [
    "This is raw cell, write anything here, it won't be treated as code!"
   ]
  },
  {
   "cell_type": "raw",
   "id": "b1e7d385",
   "metadata": {},
   "source": [
    "short cut for raw cell esc --> r, then shift + enter"
   ]
  },
  {
   "cell_type": "markdown",
   "id": "631183f1",
   "metadata": {},
   "source": [
    "### Other Notebook Functionality"
   ]
  },
  {
   "cell_type": "code",
   "execution_count": null,
   "id": "5ae4347f",
   "metadata": {},
   "outputs": [],
   "source": [
    "Adding Cells\n",
    ">> Esc -- b ----> Adds cell below the current cell"
   ]
  },
  {
   "cell_type": "code",
   "execution_count": null,
   "id": "a37bc67f",
   "metadata": {},
   "outputs": [],
   "source": [
    ">> Esc -- a ----> Adds cell above the current cell"
   ]
  },
  {
   "cell_type": "code",
   "execution_count": null,
   "id": "1d22cecf",
   "metadata": {},
   "outputs": [],
   "source": [
    ">> Esc -- dd ---> Deletes the cell in selection"
   ]
  },
  {
   "cell_type": "code",
   "execution_count": null,
   "id": "61edef16",
   "metadata": {},
   "outputs": [],
   "source": [
    ">> Esc -- z ----> Brings back the deleted cell"
   ]
  }
 ],
 "metadata": {
  "kernelspec": {
   "display_name": "Python 3 (ipykernel)",
   "language": "python",
   "name": "python3"
  },
  "language_info": {
   "codemirror_mode": {
    "name": "ipython",
    "version": 3
   },
   "file_extension": ".py",
   "mimetype": "text/x-python",
   "name": "python",
   "nbconvert_exporter": "python",
   "pygments_lexer": "ipython3",
   "version": "3.10.5"
  }
 },
 "nbformat": 4,
 "nbformat_minor": 5
}
